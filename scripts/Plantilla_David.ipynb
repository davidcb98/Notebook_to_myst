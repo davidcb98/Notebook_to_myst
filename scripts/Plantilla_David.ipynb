{
 "cells": [
  {
   "cell_type": "markdown",
   "id": "5d20c685",
   "metadata": {},
   "source": [
    "<figure><center>\n",
    "<img   src=\"https://quantumspain-project.es/wp-content/uploads/2022/11/Logo_QS_EspanaDigital.png\" align=center  width=\"1000px\"/>\n",
    "</center></figure>\n",
    "\n",
    "\n",
    "Created: 2024/02/02\n",
    "\n",
    "<center>\n",
    "<a rel=\"license\" href=\"http://creativecommons.org/licenses/by-sa/4.0/\">\n",
    "<img aling=\"left\" alt=\"Licencia Creative Commons\" style=\"border-width:0\" src=\"https://i.creativecommons.org/l/by-sa/4.0/88x31.png\" /></a>\n",
    "</center>\n",
    "\n",
    "License: <a rel=\"license\" href=\"http://creativecommons.org/licenses/by-sa/4.0/\">Licencia Creative Commons Atribución-CompartirIgual 4.0 Internacional</a>.\n",
    "\n",
    "Internal Reviewers: \n",
    "* Andrés Gómez Tato ([CESGA](http://www.cesga.es))\n",
    "* ...\n",
    "\n",
    "Authors:\n",
    "* David Castaño ([Scbi-UMA](https://www.scbi.uma.es/site/))\n",
    "* ...\n",
    "\n",
    "$ \\newcommand{\\bra}[1]{\\langle #1|} $\n",
    "$ \\newcommand{\\ket}[1]{|#1\\rangle} $\n",
    "$ \\newcommand{\\braket}[2]{\\langle #1|#2\\rangle} $\n",
    "$ \\newcommand{\\i}{{\\color{blue} i}} $ \n",
    "$ \\newcommand{\\Hil}{{\\cal H}} $\n",
    "$ \\newcommand{\\cg}[1]{{\\rm C}#1} $"
   ]
  },
  {
   "cell_type": "markdown",
   "id": "c3081eb5",
   "metadata": {},
   "source": [
    "# Titulo del Notebook"
   ]
  },
  {
   "cell_type": "markdown",
   "id": "5ac22bb8",
   "metadata": {},
   "source": [
    "## Índice\n",
    "\n",
    "- **[Seccion](#Seccion_1)**\n",
    "    - **[Subsección](#Seccion_1.1)**\n",
    "        - **[Subsubseccion](#Seccion_1.1.1)**\n",
    "- **[Seccion](#Seccion_2)**\n",
    "- **[Bibliografía](#Bibliografía)**"
   ]
  },
  {
   "cell_type": "markdown",
   "id": "497b5d36",
   "metadata": {},
   "source": [
    "<p style=\"color:red\"> <b>IMPORTANTE !!!</b>: </p>\n",
    "\n",
    "Deben de haber siempre las **dos celdas anteriores**:\n",
    "    - La primera con el titulo de una almuhadilla y más cosas opccionales (las macros de latex, autores, logo,...)\n",
    "    - Una segunda celda con el índice.\n",
    "\n",
    "Al convertir los notebooks, se borran las dos primeras celdas y se coge el título de la primera. En su lugar se añaden las tres celdas del archivo **Firts_cells.ipynb**, sustituyendose automáticamente el título de la tercera celda por el correspondiente del notebook original."
   ]
  },
  {
   "cell_type": "code",
   "execution_count": 1,
   "id": "96035505",
   "metadata": {},
   "outputs": [],
   "source": [
    "import matplotlib.pyplot as plt\n",
    "import numpy as np\n",
    "from qiskit import QuantumCircuit, Aer, transpile, assemble\n",
    "from qiskit.visualization import plot_histogram\n",
    "import qiskit.tools.jupyter\n",
    "import math\n",
    "%matplotlib inline"
   ]
  },
  {
   "cell_type": "markdown",
   "id": "cbfbd0fc",
   "metadata": {},
   "source": [
    "<a id=\"Seccion_1\"></a>\n",
    "\n",
    "## 1 - Sección\n",
    " "
   ]
  },
  {
   "cell_type": "markdown",
   "id": "add5d22b",
   "metadata": {},
   "source": [
    "<a id=\"Seccion_1.1\"></a>\n",
    "### 1.1 - Subsección"
   ]
  },
  {
   "cell_type": "markdown",
   "id": "7a5fce65",
   "metadata": {},
   "source": [
    "<a id=\"Seccion_1.1.1\"></a>\n",
    "#### 1.1.1 - Subsubsección"
   ]
  },
  {
   "cell_type": "markdown",
   "id": "fd8f80f4",
   "metadata": {},
   "source": [
    "<a id=\"Seccion_2\"></a>\n",
    "## 2 - Seccion\n",
    " "
   ]
  },
  {
   "cell_type": "markdown",
   "id": "859b0b1e",
   "metadata": {},
   "source": [
    "## Cuadros"
   ]
  },
  {
   "cell_type": "markdown",
   "id": "2fecd1f9",
   "metadata": {},
   "source": [
    "<p style=\"color:red\"> <b>IMPORTANTE !!!</b>: </p>\n",
    "\n",
    "No pueden incluirse bloques p dentro de los cuadros (<p style ....>) más haya del ya incluido en los títulos.\n",
    "\n",
    "No pueden quedar lineas vacías. Hay que poner los br (ver ejemplos). Esto es para que el cambio de color del <p style ....> funcione. El <p style ....> debe de cerrar antes del <details..>, dejando ya de usar los br\n",
    "\n",
    "En realidad, a efectos de la conversión el cambio de color y los br no tiene efecto. Puede ponerse simplemente el titulo en negrita.\n",
    "    \n",
    "Sobre los subtítulos: \n",
    "- Véase que los subtitulo son opcionales. Puede borrarse todo lo que está a la derecha de los :\n",
    "- Es importante que no haya espacios entre el texto y los símbolos de cursiva:\n",
    "    - <i>subtitulo correcto</i>\n",
    "    - <i> subtitulo incorrecto</i>\n",
    "    - <i>subtitulo incorrecto </i>\n",
    "    - <i> subtitulo incorrecto </i>\n",
    "\n",
    "No puede haber **tabuladores** antes del texto (a no ser que sean listados de cosas, como el caso anterior donde se explican los subtitulo)\n",
    "    \n"
   ]
  },
  {
   "cell_type": "markdown",
   "id": "e305b8c6",
   "metadata": {},
   "source": [
    "<div class=\"alert alert-block alert-info\">\n",
    "<p style=\"color: navy;\">\n",
    "<b>Definición/Teorema/Lema</b>: <i>subtitulo del Teorema/Lema/Definición</i>\n",
    "<br>\n",
    "Plantilla de Teorema, Lema o definición. \n",
    "<br>\n",
    "<br>\n",
    "Debe de quedar una de las tres palabras del título: Definición, Teorema o Lema\n",
    "<br>   \n",
    "La demostración/prueba/... es opcional. Puede borrarse todo el texto de a continuación, dejando el div del final!!! (la última linea)\n",
    "</p>\n",
    "    \n",
    "<details><summary> >> <i>Demostración/Prueba/...</i> </summary>\n",
    "\n",
    "TEXTO AQUÍ\n",
    "    \n",
    "</details>\n",
    "</div>"
   ]
  },
  {
   "cell_type": "markdown",
   "id": "e679edf6",
   "metadata": {},
   "source": [
    "<div class=\"alert alert-block alert-danger\">\n",
    "<p style=\"color: DarkRed;\">\n",
    "<b>Nota</b>: <i>Subtitulo de la nota</i>\n",
    "<br>     \n",
    "Plantilla de Nota\n",
    "<br>\n",
    "<br>\n",
    "El titulo debe de ser Nota\n",
    "<br> \n",
    "La demostración/prueba/... es opcional. Puede borrarse todo el texto de a continuación, dejando el div del final!!! (la última linea)\n",
    "</p>\n",
    "    \n",
    "<details><summary> >> <i>Demostración/Prueba/...</i> </summary>\n",
    "\n",
    "TEXTO AQUÍ\n",
    "    \n",
    "</details>\n",
    "</div>"
   ]
  },
  {
   "cell_type": "markdown",
   "id": "b0e47dcd",
   "metadata": {},
   "source": [
    "<div class=\"alert alert-block alert-success\">\n",
    "<p style=\"color: DarkGreen;\">\n",
    "<b>Ejercicio/Ejemplo</b>: <i>Subtitulo del ejercicio/ejemplo</i>\n",
    "<br>        \n",
    "Plantilla de Ejercicios y Ejemplos\n",
    "<br>     \n",
    "Debe de quedar una de las dos palabras del título: Ejercicio o Ejemplo\n",
    "<br> \n",
    "La solución/pista/... es opcional. Puede borrarse todo el texto de a continuación, dejando el div del final!!! (la última linea)\n",
    "<br> \n",
    "</p>\n",
    "<details><summary> >> <i>Solución/Pista/...</i> </summary>\n",
    "\n",
    "TEXTO AQUÍ\n",
    "    \n",
    "</details>\n",
    "</div>"
   ]
  },
  {
   "cell_type": "markdown",
   "id": "b3a27996",
   "metadata": {},
   "source": [
    "Para textos desplegables sueltos (sin ser dentro de una de las anteriores cajas:\n",
    "\n",
    "<details><summary><p style=\"color:blue\" > >> <i>Demostración/Prueba/...</i> </p></summary>\n",
    "\n",
    "TEXTO AQUÍ\n",
    "\n",
    "</details>"
   ]
  },
  {
   "cell_type": "markdown",
   "id": "a376241c",
   "metadata": {},
   "source": [
    "## Figuras"
   ]
  },
  {
   "cell_type": "markdown",
   "id": "5209c824",
   "metadata": {},
   "source": [
    "Esto sería para añadir figuras "
   ]
  },
  {
   "cell_type": "raw",
   "id": "13597391",
   "metadata": {},
   "source": [
    "<figure><center>\n",
    "<a id='fig_ref'></a>\n",
    "<img src=\"path_relativo\" align=center width='1000px'/>\n",
    "<center>Pie de foto de la figura</center>\n",
    "</center></figure>"
   ]
  },
  {
   "cell_type": "markdown",
   "id": "98ca36fa",
   "metadata": {},
   "source": [
    "Cosas opcionales:\n",
    "- La referencia: `<a id='fig_ref></a>`. \n",
    "    - Si se pone la label, esta debe de empezar por `id='fig_`\n",
    "- El pie de foto:  `<center>....</center>`\n",
    "    - Importante!!! No se puden meter saltos de linea en las caption"
   ]
  },
  {
   "cell_type": "markdown",
   "id": "d5f66139",
   "metadata": {},
   "source": [
    "## Bloques de código"
   ]
  },
  {
   "cell_type": "markdown",
   "id": "1c796e0b",
   "metadata": {},
   "source": [
    "La idea es poner código de varias librerias (Qibo y Qiskit principalmente, aunque se pueden incluir cosas de, por ejemplo, PennyLane, Cirq,...). \n",
    "\n",
    "Tendremos pues dos tipos de celdas:\n",
    "- Celdas de código **compartidas** (como las que tengan los `import ...` o definciones de variables)-\n",
    "- Celdas de código **dedicadas** a cada librería.\n",
    "\n",
    "Es importante que el código completo se pueda ejecutar sin problemas si SOLO EJECUTAMOS LAS CELDAS DE UN LENGUAJE.\n",
    "Estilo, si usamos `numpy`, el `import numpy as np` debe de ir en una celda compartida. En realidad, TODOS los `import` deben de ir en celdas compartidas para que no haya problemas. "
   ]
  },
  {
   "cell_type": "markdown",
   "id": "17b7bcfd",
   "metadata": {},
   "source": [
    "#### Celdas Compartidas"
   ]
  },
  {
   "cell_type": "code",
   "execution_count": 2,
   "id": "c7f8b119",
   "metadata": {},
   "outputs": [],
   "source": [
    "import numpy as np\n",
    "import matplotlib.pyplot as plt\n",
    "from qiskit import QuantumRegister, ClassicalRegister,QuantumCircuit\n",
    "from qibo import callbacks, gates, models, hamiltonians"
   ]
  },
  {
   "cell_type": "markdown",
   "id": "c726f109",
   "metadata": {},
   "source": [
    "#### Celdas Dedicadas"
   ]
  },
  {
   "cell_type": "markdown",
   "id": "48428a5e",
   "metadata": {},
   "source": [
    "Aquí empieza lo importate: solo pondremos una celda como **dedicada** si tenemos *al menos una* equivalente en otra librería. Las dos celdas **deben de hacer exactamente lo mismo**. Si solo tenemos el código en una librería (el circuito construido solo en Qiskit o Qibo), entonces pondremos una celda **compartida**. "
   ]
  },
  {
   "cell_type": "markdown",
   "id": "455949ed",
   "metadata": {},
   "source": [
    "Las celdas **dedicadas** deben de ir seguidas, es decir, **inmeditamente después de una celda dedicada debe de ir otra celda dedicada con el código de otra librería**. \n",
    "\n",
    "**No pueden ponerse seguidas dos celdas dedicada a la misma librería**.\n",
    "\n",
    "Esto es porque es script lo que va hacer es buscar X celdas dedicadas diferentes seguidas y las va agrupar en una extructura con pestañas, de forma que solo se vea una celda y puedas cambiar a la celda de la otra libreía clicando en otra pestaña.\n",
    "\n",
    "**Solo se mostrará la salida de la primera celda dedicada de cada bloque** (los print o las figuras)."
   ]
  },
  {
   "cell_type": "markdown",
   "id": "b94bf054",
   "metadata": {},
   "source": [
    "Veamos ejemplos de ordenes permitidos (azul) y no permitidos (rojo), donde los bloques son de 3 celdas (Qiskit, Qibo y Pennylane\n",
    "\n",
    "<p style=\"color: Blue\">\n",
    "- Compartida o de texto <br>\n",
    "<br>\n",
    "- Qiskit (Mustra Output) <br>\n",
    "- Qibo <br>\n",
    "- Pennylane <br>\n",
    "<br>\n",
    "- Compartida o de texto <br>\n",
    "</p>"
   ]
  },
  {
   "cell_type": "markdown",
   "id": "f4852e24",
   "metadata": {},
   "source": [
    "<p style=\"color: Blue\">\n",
    "- Compartida o de texto <br>\n",
    " <br>\n",
    "- Qibo (Mustra Output) <br>\n",
    "- Qiskit <br>\n",
    "- Pennylane <br>\n",
    "<br>\n",
    "- Compartida o de texto (una o varias) <br>\n",
    "<br>\n",
    "- Pennylane (Mustra Output) <br>\n",
    "- Qibo  <br>\n",
    "- Qiskit <br>\n",
    "<br>\n",
    "- Compartida o de texto <br>\n",
    "</p>"
   ]
  },
  {
   "cell_type": "markdown",
   "id": "1a23e045",
   "metadata": {},
   "source": [
    "<p style=\"color: Red\">\n",
    "- Compartida o de texto <br>\n",
    " <br>\n",
    "- Qibo (Mustra Output) <br>\n",
    "- Qiskit <br>\n",
    "- Pennylane <br>\n",
    "<br>\n",
    "- Qiskit  (Mustra Output) <br>\n",
    "- Qibo <br>\n",
    "- Pennylane  <br>\n",
    "<br>\n",
    "- Compartida o de texto <br>\n",
    "</p>\n",
    "\n",
    "Mal porque tenemos dos bloques de celdas seguidos, sin ninguna celda compartida o de texto en medio, y los bloques **tiene diferente orden** en sus celdas. \n",
    "\n",
    "Podemos poner bloques con las celdas en diferente orden (poque quizás en unos casos nos interesa que se vea la figura de una libería o de otra), pero entonces entre bloque y bloque debe de haber otro tipo de celda (compartida o de texto)"
   ]
  },
  {
   "cell_type": "markdown",
   "id": "9d570ad5",
   "metadata": {},
   "source": [
    "<p style=\"color: Blue\">\n",
    "- Compartida o de texto <br>\n",
    " <br>\n",
    "- Qibo (Mustra Output) <br>\n",
    "- Qiskit <br>\n",
    "- Pennylane <br>\n",
    "<br>\n",
    "- Qibo (Mustra Output) <br>\n",
    "- Pennylane  <br>\n",
    "- Qiskit <br>\n",
    "<br>\n",
    "- Compartida o de texto <br>\n",
    "</p>"
   ]
  },
  {
   "cell_type": "markdown",
   "id": "2ccc81b9",
   "metadata": {},
   "source": [
    "Ahora sí, veamos la sinataxis de las celdas dedicadas:"
   ]
  },
  {
   "cell_type": "code",
   "execution_count": 3,
   "id": "abbbc51a",
   "metadata": {},
   "outputs": [],
   "source": [
    "import numpy\n",
    "import matplotlib\n",
    "from qiskit import QuantumRegister, ClassicalRegister,QuantumCircuit\n",
    "from qibo import callbacks, gates, models, hamiltonians"
   ]
  },
  {
   "cell_type": "code",
   "execution_count": 4,
   "id": "f47a9350",
   "metadata": {},
   "outputs": [
    {
     "data": {
      "image/png": "[encoded data removed]",
      "text/plain": [
       "<Figure size 185.453x117.056 with 1 Axes>"
      ]
     },
     "execution_count": 4,
     "metadata": {},
     "output_type": "execute_result"
    }
   ],
   "source": [
    "'''Qiskit_code_cell'''\n",
    "\n",
    "qc1 = QuantumCircuit(1)\n",
    "qc1.x(0)\n",
    "qc1.draw('mpl', style=\"iqp\")"
   ]
  },
  {
   "cell_type": "code",
   "execution_count": 5,
   "id": "cd3baa78",
   "metadata": {},
   "outputs": [
    {
     "name": "stdout",
     "output_type": "stream",
     "text": [
      "q0: ─X─\n"
     ]
    }
   ],
   "source": [
    "'''Qibo_code_cell'''\n",
    "\n",
    "circuit = models.Circuit(1)\n",
    "circuit.add(gates.X(0))\n",
    "print(circuit.draw())"
   ]
  },
  {
   "cell_type": "markdown",
   "id": "95b2cf86",
   "metadata": {},
   "source": [
    "La primera de las anteriores es una celda compartida, las otras dos son dedicadas. Vemos que lo único que las diferencia es que **las celdas dedicadas deben de empezar por un patrón concreto**: \n",
    "\n",
    "`'''librería_code_cell'''`"
   ]
  },
  {
   "cell_type": "markdown",
   "id": "87b5d9bf",
   "metadata": {},
   "source": []
  },
  {
   "cell_type": "markdown",
   "id": "e1ecd7a7",
   "metadata": {},
   "source": []
  },
  {
   "cell_type": "markdown",
   "id": "1a52bb24",
   "metadata": {},
   "source": []
  },
  {
   "cell_type": "markdown",
   "id": "fc55f097",
   "metadata": {},
   "source": []
  },
  {
   "cell_type": "markdown",
   "id": "c5f0989a",
   "metadata": {},
   "source": [
    "<p style=\"color: DarkRed; font-size: 25px\">\n",
    "Las seguientes secciones de la platilla están por implementas en el script. \n",
    "<br>\n",
    "Puede ser que sufran algún cambio\n",
    "</p>"
   ]
  },
  {
   "cell_type": "markdown",
   "id": "6d385dab",
   "metadata": {},
   "source": [
    "<a id=\"Bibliografía\"></a>\n",
    "## Bibliografía\n",
    "\n",
    "[1]. Beauregard, S. (2002). Circuit for Shor's algorithm using 2n+ 3 qubits, [quant-ph/0205095](https://arxiv.org/abs/quant-ph/0205095). <a id='bib_Beauregard_2002'></a>\n",
    "\n",
    "[2]. [Quantum Fourier Transform (textbook Qiskit)](https://learn.qiskit.org/course/ch-algorithms/quantum-fourier-transform) <a id='bib_QFT_Qiskit'></a>"
   ]
  },
  {
   "cell_type": "markdown",
   "id": "7c3c8de1",
   "metadata": {},
   "source": [
    "Cada entrada de la bibliografía debe de tener al final un `<a id='bib_...'></a>`. Para referenciar a la una entrada de la bibliografía hay que usar entonces `[...](bib_...)`. Es importante que la label empiece por `bib` y que no haya espacio entre `]` y `(bib_...` en la referencia.\n",
    "\n",
    "A parte de esta celda de bibliografía, debeis escribir un documento .bib en latex con las referencias (se sacan de google bastante facil) y poner como label de cada referencia LA MISMA que habeis puesto en la celda de arriba. De esta forma, el script eliminará la celda anterior y añadirá la bibliografía de latex, cambiando la sintaxis de todas las referencias.\n",
    "\n",
    "Es importante que si añadis algo en la bibliografía, lo referencieis en el texto, pues al final todos los archivos .bib de todos los notebook se juntarán en uno solo, y en la bibliografía de cada notebook SOLO APARECERÁN LAS REFERENCIAS MENCIONADAS EN EL TEXTO.\n",
    "\n",
    "Si teneis varios notebook en una carpeta, escribais un solo archivo .bib con todas las referencias de todos"
   ]
  },
  {
   "cell_type": "code",
   "execution_count": 6,
   "id": "f3b812e3",
   "metadata": {},
   "outputs": [
    {
     "data": {
      "text/html": [
       "<h3>Version Information</h3><table><tr><th>Software</th><th>Version</th></tr><tr><td><code>qiskit</code></td><td>0.45.2</td></tr><tr><th colspan='2'>System information</th></tr><tr><td>Python version</td><td>3.11.7</td></tr><tr><td>Python compiler</td><td>GCC 11.2.0</td></tr><tr><td>Python build</td><td>main, Dec 15 2023 18:12:31</td></tr><tr><td>OS</td><td>Linux</td></tr><tr><td>CPUs</td><td>12</td></tr><tr><td>Memory (Gb)</td><td>62.610992431640625</td></tr><tr><td colspan='2'>Fri Feb 02 15:35:16 2024 CET</td></tr></table>"
      ],
      "text/plain": [
       "<IPython.core.display.HTML object>"
      ]
     },
     "metadata": {},
     "output_type": "display_data"
    }
   ],
   "source": [
    "import qiskit.tools.jupyter\n",
    "%qiskit_version_table"
   ]
  },
  {
   "cell_type": "markdown",
   "id": "ae269433",
   "metadata": {},
   "source": [
    "This work has been financially supported by the Ministry of Economic Affairs and Digital Transformation of the Spanish Government through the QUANTUM ENIA project call - Quantum Spain project, and by the European Union through the Recovery, Transformation and Resilience Plan - NextGenerationEU within the framework of the Digital Spain 2025 Agenda.\n",
    "\n",
    "<center>\n",
    "<div style=\"text-align:center\">\n",
    "<img align=\"left\" src=\"https://quantumspain-project.es/wp-content/uploads/2022/11/LOGOS-GOB_QS.png\" width=\"1000px\" />\n",
    "</div>\n",
    "</center>"
   ]
  }
 ],
 "metadata": {
  "celltoolbar": "Slideshow",
  "kernelspec": {
   "display_name": "Python 3 (ipykernel)",
   "language": "python",
   "name": "python3"
  },
  "language_info": {
   "codemirror_mode": {
    "name": "ipython",
    "version": 3
   },
   "file_extension": ".py",
   "mimetype": "text/x-python",
   "name": "python",
   "nbconvert_exporter": "python",
   "pygments_lexer": "ipython3",
   "version": "3.11.7"
  },
  "toc": {
   "base_numbering": 1,
   "nav_menu": {},
   "number_sections": false,
   "sideBar": true,
   "skip_h1_title": false,
   "title_cell": "Table of Contents",
   "title_sidebar": "Contents",
   "toc_cell": false,
   "toc_position": {
    "height": "calc(100% - 180px)",
    "left": "10px",
    "top": "150px",
    "width": "255.933px"
   },
   "toc_section_display": true,
   "toc_window_display": false
  }
 },
 "nbformat": 4,
 "nbformat_minor": 5
}
