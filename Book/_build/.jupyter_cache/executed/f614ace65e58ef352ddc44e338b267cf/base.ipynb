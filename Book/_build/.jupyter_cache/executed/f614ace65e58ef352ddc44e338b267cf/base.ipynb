{
 "cells": [
  {
   "cell_type": "code",
   "execution_count": 1,
   "id": "84487d05",
   "metadata": {},
   "outputs": [],
   "source": [
    "# Importamos las librerías y clases necesarias\n",
    "import numpy as np\n",
    "from qiskit.circuit import QuantumRegister, ClassicalRegister,QuantumCircuit\n",
    "from qiskit_aer import AerSimulator\n",
    "from qiskit import transpile\n",
    "from qiskit.quantum_info import Statevector\n",
    "\n",
    "# Import para visualización\n",
    "from qiskit.visualization import plot_histogram, plot_bloch_multivector, array_to_latex"
   ]
  },
  {
   "cell_type": "code",
   "execution_count": 2,
   "id": "4d0a5b16",
   "metadata": {},
   "outputs": [],
   "source": [
    "# Definimos un registro cuántico con un qúbit\n",
    "quantum_reg = QuantumRegister(1) \n",
    "\n",
    "# Definimos un registro clásico con un bit\n",
    "classic_reg = ClassicalRegister(1)"
   ]
  },
  {
   "cell_type": "code",
   "execution_count": 3,
   "id": "d9869e9b",
   "metadata": {},
   "outputs": [],
   "source": [
    "# Importamos el simulador. Con \"method\" le especificamos el método de simulación\n",
    "simulador = AerSimulator(method = 'statevector')"
   ]
  },
  {
   "cell_type": "code",
   "execution_count": 4,
   "id": "456f386d",
   "metadata": {},
   "outputs": [],
   "source": [
    "#simulador = AerSimulator()\n",
    "#sim.set_options(method = 'statevector')"
   ]
  },
  {
   "cell_type": "code",
   "execution_count": 5,
   "id": "56d58d3f",
   "metadata": {},
   "outputs": [
    {
     "name": "stderr",
     "output_type": "stream",
     "text": [
      "/home/dcb/Programs/miniconda/miniconda3/envs/qiskit_qibo_penny_2/lib/python3.11/site-packages/qiskit/visualization/circuit/matplotlib.py:266: FutureWarning: The default matplotlib drawer scheme will be changed to \"iqp\" in a following release. To silence this warning, specify the current default explicitly as style=\"clifford\", or the new default as style=\"iqp\".\n",
      "  self._style, def_font_ratio = load_style(self._style)\n"
     ]
    },
    {
     "data": {
      "image/png": "[encoded data removed]",
      "text/plain": [
       "<Figure size 203.683x200.667 with 1 Axes>"
      ]
     },
     "execution_count": 5,
     "metadata": {},
     "output_type": "execute_result"
    }
   ],
   "source": [
    "# Creamos el circuito pasandole los registros. \n",
    "circuit = QuantumCircuit(quantum_reg, classic_reg)\n",
    "\n",
    "# Añadimos el medidor\n",
    "circuit.measure(quantum_reg, classic_reg)\n",
    "# Lo que le estamos diciendo es que medida los qúbits del \"quantum_reg\"\n",
    "# y almacene los resultados de la medida en los bits del \"classic_reg\"\n",
    "\n",
    "\n",
    "# Dibujamos el circuito\n",
    "circuit.draw(output='mpl') # mpl es de Matplolib"
   ]
  },
  {
   "cell_type": "code",
   "execution_count": 6,
   "id": "ab57ecd3",
   "metadata": {},
   "outputs": [
    {
     "data": {
      "image/png": "[encoded data removed]",
      "text/plain": [
       "<Figure size 203.683x200.667 with 1 Axes>"
      ]
     },
     "execution_count": 6,
     "metadata": {},
     "output_type": "execute_result"
    }
   ],
   "source": [
    "Fig = circuit.draw(output='mpl')\n",
    "Fig.savefig(\"Figuras_Chapter_02-Circuitos_1_qubit_medidas_y_RealHardware/Fig_circuit_1\")\n",
    "Fig"
   ]
  },
  {
   "cell_type": "code",
   "execution_count": 7,
   "id": "e906a8e5",
   "metadata": {},
   "outputs": [
    {
     "name": "stdout",
     "output_type": "stream",
     "text": [
      "      ┌─┐\n",
      "  q1: ┤M├\n",
      "      └╥┘\n",
      "c0: 1/═╩═\n",
      "       0 \n"
     ]
    }
   ],
   "source": [
    "print(circuit.draw(output='text'))"
   ]
  },
  {
   "cell_type": "code",
   "execution_count": 8,
   "id": "4a76da9b",
   "metadata": {},
   "outputs": [],
   "source": [
    "# transpilamos\n",
    "t_circuit = transpile(circuit, backend = simulador)"
   ]
  },
  {
   "cell_type": "code",
   "execution_count": 9,
   "id": "b4eb13dc",
   "metadata": {},
   "outputs": [
    {
     "data": {
      "text/plain": [
       "Result(backend_name='aer_simulator', backend_version='0.13.2', qobj_id='', job_id='ba72e243-51a7-40e6-beca-b0416cec10cc', success=True, results=[ExperimentResult(shots=1000, success=True, meas_level=2, data=ExperimentResultData(counts={'0x0': 1000}), header=QobjExperimentHeader(creg_sizes=[['c0', 1]], global_phase=0.0, memory_slots=1, n_qubits=1, name='circuit-158', qreg_sizes=[['q1', 1]], metadata={}), status=DONE, seed_simulator=2888422027, metadata={'time_taken': 0.000530631, 'num_bind_params': 1, 'parallel_state_update': 20, 'parallel_shots': 1, 'required_memory_mb': 1, 'input_qubit_map': [[0, 0]], 'method': 'statevector', 'device': 'CPU', 'num_qubits': 1, 'sample_measure_time': 6.3858e-05, 'active_input_qubits': [0], 'num_clbits': 1, 'remapped_qubits': False, 'runtime_parameter_bind': False, 'max_memory_mb': 64112, 'noise': 'ideal', 'measure_sampling': True, 'batched_shots_optimization': False, 'fusion': {'applied': False, 'max_fused_qubits': 5, 'threshold': 14, 'enabled': True}}, time_taken=0.000530631)], date=2024-07-11T14:15:02.211267, status=COMPLETED, header=None, metadata={'time_taken_parameter_binding': 5.806e-06, 'time_taken_execute': 0.000547614, 'omp_enabled': True, 'max_gpu_memory_mb': 0, 'max_memory_mb': 64112, 'parallel_experiments': 1}, time_taken=0.0008368492126464844)"
      ]
     },
     "execution_count": 9,
     "metadata": {},
     "output_type": "execute_result"
    }
   ],
   "source": [
    "# Ejecutamos la simulación con 1000 shots \n",
    "result = simulador.run(t_circuit, shots = 1000).result()\n",
    "result"
   ]
  },
  {
   "cell_type": "code",
   "execution_count": 10,
   "id": "449ecdf8",
   "metadata": {
    "scrolled": true
   },
   "outputs": [
    {
     "data": {
      "text/plain": [
       "{'0': 1000}"
      ]
     },
     "execution_count": 10,
     "metadata": {},
     "output_type": "execute_result"
    }
   ],
   "source": [
    "counts = result.get_counts()\n",
    "counts"
   ]
  },
  {
   "cell_type": "code",
   "execution_count": 11,
   "id": "769de446",
   "metadata": {
    "scrolled": true
   },
   "outputs": [
    {
     "data": {
      "image/png": "[encoded data removed]",
      "text/plain": [
       "<Figure size 700x500 with 1 Axes>"
      ]
     },
     "execution_count": 11,
     "metadata": {},
     "output_type": "execute_result"
    }
   ],
   "source": [
    "Fig = plot_histogram(counts)\n",
    "Fig.savefig('Figuras_Chapter_02-Circuitos_1_qubit_medidas_y_RealHardware/Fig_circuit_1_hist')\n",
    "Fig"
   ]
  },
  {
   "cell_type": "code",
   "execution_count": 12,
   "id": "f29c5eb1",
   "metadata": {},
   "outputs": [
    {
     "name": "stdout",
     "output_type": "stream",
     "text": [
      "      ┌───┐┌─┐\n",
      "  q1: ┤ X ├┤M├\n",
      "      └───┘└╥┘\n",
      "c0: 1/══════╩═\n",
      "            0 \n"
     ]
    },
    {
     "name": "stderr",
     "output_type": "stream",
     "text": [
      "/home/dcb/Programs/miniconda/miniconda3/envs/qiskit_qibo_penny_2/lib/python3.11/site-packages/qiskit/visualization/circuit/matplotlib.py:266: FutureWarning: The default matplotlib drawer scheme will be changed to \"iqp\" in a following release. To silence this warning, specify the current default explicitly as style=\"clifford\", or the new default as style=\"iqp\".\n",
      "  self._style, def_font_ratio = load_style(self._style)\n"
     ]
    },
    {
     "data": {
      "image/png": "[encoded data removed]",
      "text/plain": [
       "<Figure size 287.294x200.667 with 1 Axes>"
      ]
     },
     "execution_count": 12,
     "metadata": {},
     "output_type": "execute_result"
    }
   ],
   "source": [
    "# Creamos el circuito pasandole los registros. \n",
    "circuit_X = QuantumCircuit(quantum_reg, classic_reg)\n",
    "\n",
    "# Añadimos la puerta X al primer (y único) qúbit\n",
    "circuit_X.x(0)\n",
    "\n",
    "# Añadimos el medidor\n",
    "circuit_X.measure(quantum_reg, classic_reg)\n",
    "\n",
    "# Podemos dibujarlo en modo texto\n",
    "print(circuit_X.draw(output='text'))\n",
    "\n",
    "# Podemos dibujarlo como figura de matplolib\n",
    "Fig = circuit_X.draw(output='mpl') # mpl es de Matplolib\n",
    "Fig.savefig(\"Figuras_Chapter_02-Circuitos_1_qubit_medidas_y_RealHardware/Fig_circuit_X\")\n",
    "Fig"
   ]
  },
  {
   "cell_type": "code",
   "execution_count": 13,
   "id": "85da0417",
   "metadata": {},
   "outputs": [
    {
     "name": "stdout",
     "output_type": "stream",
     "text": [
      "Resultado:  {'1': 1000}\n"
     ]
    },
    {
     "data": {
      "image/png": "[encoded data removed]",
      "text/plain": [
       "<Figure size 700x500 with 1 Axes>"
      ]
     },
     "execution_count": 13,
     "metadata": {},
     "output_type": "execute_result"
    }
   ],
   "source": [
    "# simulador = AerSimulator(method = 'statevector')\n",
    "# transpilamos\n",
    "t_circuit_X = transpile(circuit_X, backend = simulador)\n",
    "\n",
    "# Ejecutamos\n",
    "result_X = simulador.run(t_circuit_X, shots = 1000).result()\n",
    "counts_X = result_X.get_counts()\n",
    "print(\"Resultado: \", counts_X)\n",
    "\n",
    "Fig = plot_histogram(counts_X)\n",
    "Fig.savefig('Figuras_Chapter_02-Circuitos_1_qubit_medidas_y_RealHardware/Fig_circuit_X_hist')\n",
    "Fig"
   ]
  },
  {
   "cell_type": "code",
   "execution_count": 14,
   "id": "aa28061e",
   "metadata": {
    "scrolled": false
   },
   "outputs": [
    {
     "name": "stderr",
     "output_type": "stream",
     "text": [
      "/home/dcb/Programs/miniconda/miniconda3/envs/qiskit_qibo_penny_2/lib/python3.11/site-packages/qiskit/visualization/circuit/matplotlib.py:266: FutureWarning: The default matplotlib drawer scheme will be changed to \"iqp\" in a following release. To silence this warning, specify the current default explicitly as style=\"clifford\", or the new default as style=\"iqp\".\n",
      "  self._style, def_font_ratio = load_style(self._style)\n"
     ]
    },
    {
     "data": {
      "image/png": "[encoded data removed]",
      "text/plain": [
       "<Figure size 287.294x200.667 with 1 Axes>"
      ]
     },
     "execution_count": 14,
     "metadata": {},
     "output_type": "execute_result"
    }
   ],
   "source": [
    "# Creamos el circuito pasandole los registros. \n",
    "circuit_H = QuantumCircuit(quantum_reg, classic_reg)\n",
    "\n",
    "# Añadimos la puerta X al primer (y único) qúbit\n",
    "circuit_H.h(0)\n",
    "\n",
    "# Añadimos el medidor\n",
    "circuit_H.measure(quantum_reg, classic_reg)\n",
    "\n",
    "# Podemos dibujarlo en modo texto\n",
    "#print(circuit_H.draw(output='text'))\n",
    "\n",
    "# Podemos dibujarlo como figura de matplolib\n",
    "Fig = circuit_H.draw(output='mpl') # mpl es de Matplolib\n",
    "Fig.savefig(\"Figuras_Chapter_02-Circuitos_1_qubit_medidas_y_RealHardware/Fig_circuit_H\")\n",
    "Fig"
   ]
  },
  {
   "cell_type": "code",
   "execution_count": 15,
   "id": "2779916f",
   "metadata": {},
   "outputs": [
    {
     "name": "stdout",
     "output_type": "stream",
     "text": [
      "Resultado:  {'1': 504, '0': 496}\n"
     ]
    },
    {
     "data": {
      "image/png": "[encoded data removed]",
      "text/plain": [
       "<Figure size 700x500 with 1 Axes>"
      ]
     },
     "execution_count": 15,
     "metadata": {},
     "output_type": "execute_result"
    }
   ],
   "source": [
    "# simulador = AerSimulator(method = 'statevector')\n",
    "# transpilamos\n",
    "t_circuit_H = transpile(circuit_H, backend = simulador)\n",
    "\n",
    "# Ejecutamos\n",
    "result_H = simulador.run(t_circuit_H, shots = 1000).result()\n",
    "counts_H = result_H.get_counts()\n",
    "print(\"Resultado: \", counts_H)\n",
    "\n",
    "Fig = plot_histogram(counts_H)\n",
    "Fig.savefig('Figuras_Chapter_02-Circuitos_1_qubit_medidas_y_RealHardware/Fig_circuit_H_hist')\n",
    "Fig"
   ]
  },
  {
   "cell_type": "code",
   "execution_count": 16,
   "id": "e624d2df",
   "metadata": {
    "scrolled": false
   },
   "outputs": [
    {
     "data": {
      "text/latex": [
       "$$0.9689124217 |0\\rangle+(0.2363540298 + 0.0731128692 i) |1\\rangle$$"
      ],
      "text/plain": [
       "<IPython.core.display.Latex object>"
      ]
     },
     "execution_count": 16,
     "metadata": {},
     "output_type": "execute_result"
    }
   ],
   "source": [
    "circuit_state = QuantumCircuit(quantum_reg, classic_reg)\n",
    "\n",
    "# inicializamos un estado arbitrario en la esfera de Bloch\n",
    "theta = 0.5  #rad\n",
    "phi   = 0.3  #rad\n",
    "psi_state = [np.cos(theta/2),(np.exp(1j*phi))*np.sin(theta/2)]\n",
    "\n",
    "# Veamos el vector de estado\n",
    "statevector_plus = Statevector(psi_state)\n",
    "statevector_plus.draw('latex')"
   ]
  },
  {
   "cell_type": "code",
   "execution_count": 17,
   "id": "d2b33dd4",
   "metadata": {
    "scrolled": true
   },
   "outputs": [
    {
     "name": "stdout",
     "output_type": "stream",
     "text": [
      "p_0= 0.939 , p_1= 0.061\n"
     ]
    }
   ],
   "source": [
    "print('p_0=', np.round(np.abs(psi_state[0])**2,3),', p_1=', np.round(np.abs(psi_state[1])**2,3))"
   ]
  },
  {
   "cell_type": "code",
   "execution_count": 18,
   "id": "d3ca201a",
   "metadata": {},
   "outputs": [
    {
     "data": {
      "text/plain": [
       "<qiskit.circuit.instructionset.InstructionSet at 0x7f1ff0b11090>"
      ]
     },
     "execution_count": 18,
     "metadata": {},
     "output_type": "execute_result"
    }
   ],
   "source": [
    "# inicializamos el estado de entrada  \n",
    "circuit_state.initialize(psi_state,0)\n",
    "circuit_state.measure(quantum_reg, classic_reg)"
   ]
  },
  {
   "cell_type": "code",
   "execution_count": 19,
   "id": "d1a4c31d",
   "metadata": {
    "scrolled": true
   },
   "outputs": [
    {
     "name": "stdout",
     "output_type": "stream",
     "text": [
      "Resultado:  {'0': 93885, '1': 6115}\n"
     ]
    },
    {
     "data": {
      "image/png": "[encoded data removed]",
      "text/plain": [
       "<Figure size 700x500 with 1 Axes>"
      ]
     },
     "execution_count": 19,
     "metadata": {},
     "output_type": "execute_result"
    }
   ],
   "source": [
    "# simulador = AerSimulator(method = 'statevector')\n",
    "# transpilamos\n",
    "t_circuit_state = transpile(circuit_state, backend = simulador)\n",
    "\n",
    "# Ejecutamos\n",
    "result_state = simulador.run(t_circuit_state, shots = 100000).result()\n",
    "counts_state = result_state.get_counts()\n",
    "print(\"Resultado: \", counts_state)\n",
    "\n",
    "Fig = plot_histogram(counts_state)\n",
    "Fig.savefig('Figuras_Chapter_02-Circuitos_1_qubit_medidas_y_RealHardware/Fig_circuit_state_hist')\n",
    "Fig"
   ]
  },
  {
   "cell_type": "code",
   "execution_count": 20,
   "id": "3d46e457",
   "metadata": {},
   "outputs": [
    {
     "name": "stdout",
     "output_type": "stream",
     "text": [
      "probability distribution = {'0': 0.9388, '1': 0.0612}\n"
     ]
    }
   ],
   "source": [
    "def get_prob_dist(counts): # counts es un diccionario \n",
    "    N=sum([n for n in counts.values()]) # numero de shots\n",
    "    prob_dist = {bit:np.round(v/N,4) for bit,v in counts.items()} # this is a modified dictionary\n",
    "    if len(prob_dist) == 1:  # we are two amplitudes (one qubit), so in this case, pad with a 0\n",
    "        prob_dist.append(0)\n",
    "    return prob_dist\n",
    "\n",
    "prob_distr_state = get_prob_dist(counts_state)\n",
    "print(\"probability distribution =\", prob_distr_state)"
   ]
  },
  {
   "cell_type": "code",
   "execution_count": 21,
   "id": "180e0ce1",
   "metadata": {},
   "outputs": [
    {
     "ename": "ModuleNotFoundError",
     "evalue": "No module named 'qiskit.providers.ibmq'",
     "output_type": "error",
     "traceback": [
      "\u001b[0;31m---------------------------------------------------------------------------\u001b[0m",
      "\u001b[0;31mModuleNotFoundError\u001b[0m                       Traceback (most recent call last)",
      "Cell \u001b[0;32mIn[21], line 2\u001b[0m\n\u001b[1;32m      1\u001b[0m \u001b[38;5;28;01mfrom\u001b[39;00m \u001b[38;5;21;01mqiskit_ibm_provider\u001b[39;00m \u001b[38;5;28;01mimport\u001b[39;00m IBMProvider\n\u001b[0;32m----> 2\u001b[0m \u001b[38;5;28;01mfrom\u001b[39;00m \u001b[38;5;21;01mqiskit\u001b[39;00m\u001b[38;5;21;01m.\u001b[39;00m\u001b[38;5;21;01mproviders\u001b[39;00m\u001b[38;5;21;01m.\u001b[39;00m\u001b[38;5;21;01mibmq\u001b[39;00m \u001b[38;5;28;01mimport\u001b[39;00m least_busy\n\u001b[1;32m      3\u001b[0m \u001b[38;5;28;01mfrom\u001b[39;00m \u001b[38;5;21;01mqiskit\u001b[39;00m\u001b[38;5;21;01m.\u001b[39;00m\u001b[38;5;21;01mtools\u001b[39;00m\u001b[38;5;21;01m.\u001b[39;00m\u001b[38;5;21;01mmonitor\u001b[39;00m \u001b[38;5;28;01mimport\u001b[39;00m job_monitor\n\u001b[1;32m      6\u001b[0m \u001b[38;5;66;03m# Save account credentials.\u001b[39;00m\n\u001b[1;32m      7\u001b[0m \u001b[38;5;66;03m#IBMProvider.save_account(token=MY_API_TOKEN)\u001b[39;00m\n\u001b[1;32m      8\u001b[0m \n\u001b[1;32m      9\u001b[0m \u001b[38;5;66;03m# Load a previously saved account.\u001b[39;00m\n",
      "\u001b[0;31mModuleNotFoundError\u001b[0m: No module named 'qiskit.providers.ibmq'"
     ]
    }
   ],
   "source": [
    "from qiskit_ibm_provider import IBMProvider\n",
    "from qiskit.providers.ibmq import least_busy\n",
    "from qiskit.tools.monitor import job_monitor\n",
    "\n",
    "\n",
    "# Save account credentials.\n",
    "#IBMProvider.save_account(token=MY_API_TOKEN)\n",
    "\n",
    "# Load a previously saved account.\n",
    "provider = IBMProvider()\n",
    "\n",
    "# Select a different hub/group/project.\n",
    "provider = IBMProvider(instance=\"ibm-q/open/main\")"
   ]
  },
  {
   "cell_type": "code",
   "execution_count": 22,
   "id": "deccb4c2",
   "metadata": {
    "scrolled": false
   },
   "outputs": [
    {
     "ename": "NameError",
     "evalue": "name 'least_busy' is not defined",
     "output_type": "error",
     "traceback": [
      "\u001b[0;31m---------------------------------------------------------------------------\u001b[0m",
      "\u001b[0;31mNameError\u001b[0m                                 Traceback (most recent call last)",
      "Cell \u001b[0;32mIn[22], line 1\u001b[0m\n\u001b[0;32m----> 1\u001b[0m backend \u001b[38;5;241m=\u001b[39m \u001b[43mleast_busy\u001b[49m(provider\u001b[38;5;241m.\u001b[39mbackends(filters\u001b[38;5;241m=\u001b[39m\u001b[38;5;28;01mlambda\u001b[39;00m b: b\u001b[38;5;241m.\u001b[39mconfiguration()\u001b[38;5;241m.\u001b[39mn_qubits \u001b[38;5;241m>\u001b[39m\u001b[38;5;241m=\u001b[39m \u001b[38;5;241m3\u001b[39m \u001b[38;5;129;01mand\u001b[39;00m\n\u001b[1;32m      2\u001b[0m                                    \u001b[38;5;129;01mnot\u001b[39;00m b\u001b[38;5;241m.\u001b[39mconfiguration()\u001b[38;5;241m.\u001b[39msimulator \u001b[38;5;129;01mand\u001b[39;00m b\u001b[38;5;241m.\u001b[39mstatus()\u001b[38;5;241m.\u001b[39moperational\u001b[38;5;241m==\u001b[39m\u001b[38;5;28;01mTrue\u001b[39;00m))\n\u001b[1;32m      3\u001b[0m t_circuit_H \u001b[38;5;241m=\u001b[39m transpile(circuit_H, backend, optimization_level\u001b[38;5;241m=\u001b[39m\u001b[38;5;241m3\u001b[39m)\n\u001b[1;32m      4\u001b[0m job \u001b[38;5;241m=\u001b[39m backend\u001b[38;5;241m.\u001b[39mrun(t_circuit_H, shots \u001b[38;5;241m=\u001b[39m \u001b[38;5;241m1000\u001b[39m)\n",
      "\u001b[0;31mNameError\u001b[0m: name 'least_busy' is not defined"
     ]
    }
   ],
   "source": [
    "backend = least_busy(provider.backends(filters=lambda b: b.configuration().n_qubits >= 3 and\n",
    "                                   not b.configuration().simulator and b.status().operational==True))\n",
    "t_circuit_H = transpile(circuit_H, backend, optimization_level=3)\n",
    "job = backend.run(t_circuit_H, shots = 1000)\n",
    "job_id = job.job_id()\n",
    "print(job_id)\n"
   ]
  },
  {
   "cell_type": "code",
   "execution_count": 23,
   "id": "261fa1c3",
   "metadata": {},
   "outputs": [
    {
     "ename": "NameError",
     "evalue": "name 'job' is not defined",
     "output_type": "error",
     "traceback": [
      "\u001b[0;31m---------------------------------------------------------------------------\u001b[0m",
      "\u001b[0;31mNameError\u001b[0m                                 Traceback (most recent call last)",
      "Cell \u001b[0;32mIn[23], line 1\u001b[0m\n\u001b[0;32m----> 1\u001b[0m \u001b[43mjob\u001b[49m\u001b[38;5;241m.\u001b[39mstatus()\n",
      "\u001b[0;31mNameError\u001b[0m: name 'job' is not defined"
     ]
    }
   ],
   "source": [
    "job.status()"
   ]
  },
  {
   "cell_type": "code",
   "execution_count": 24,
   "id": "55fa8a49",
   "metadata": {},
   "outputs": [],
   "source": [
    "#job_monitor(job, interval = 1, line_discipline = '\\n') "
   ]
  },
  {
   "cell_type": "code",
   "execution_count": 25,
   "id": "a06d6770",
   "metadata": {},
   "outputs": [
    {
     "ename": "NameError",
     "evalue": "name 'backend' is not defined",
     "output_type": "error",
     "traceback": [
      "\u001b[0;31m---------------------------------------------------------------------------\u001b[0m",
      "\u001b[0;31mNameError\u001b[0m                                 Traceback (most recent call last)",
      "Cell \u001b[0;32mIn[25], line 1\u001b[0m\n\u001b[0;32m----> 1\u001b[0m \u001b[43mbackend\u001b[49m\n",
      "\u001b[0;31mNameError\u001b[0m: name 'backend' is not defined"
     ]
    }
   ],
   "source": [
    "backend"
   ]
  },
  {
   "cell_type": "code",
   "execution_count": 26,
   "id": "5ed0cba3",
   "metadata": {},
   "outputs": [
    {
     "ename": "NameError",
     "evalue": "name 'job' is not defined",
     "output_type": "error",
     "traceback": [
      "\u001b[0;31m---------------------------------------------------------------------------\u001b[0m",
      "\u001b[0;31mNameError\u001b[0m                                 Traceback (most recent call last)",
      "Cell \u001b[0;32mIn[26], line 1\u001b[0m\n\u001b[0;32m----> 1\u001b[0m result_IBM \u001b[38;5;241m=\u001b[39m \u001b[43mjob\u001b[49m\u001b[38;5;241m.\u001b[39mresult()\n\u001b[1;32m      2\u001b[0m counts_IBM \u001b[38;5;241m=\u001b[39m result_IBM\u001b[38;5;241m.\u001b[39mget_counts()\n\u001b[1;32m      3\u001b[0m counts_IBM\n",
      "\u001b[0;31mNameError\u001b[0m: name 'job' is not defined"
     ]
    }
   ],
   "source": [
    "result_IBM = job.result()\n",
    "counts_IBM = result_IBM.get_counts()\n",
    "counts_IBM"
   ]
  },
  {
   "cell_type": "code",
   "execution_count": 27,
   "id": "febc1b8a",
   "metadata": {},
   "outputs": [
    {
     "ename": "NameError",
     "evalue": "name 'provider' is not defined",
     "output_type": "error",
     "traceback": [
      "\u001b[0;31m---------------------------------------------------------------------------\u001b[0m",
      "\u001b[0;31mNameError\u001b[0m                                 Traceback (most recent call last)",
      "Cell \u001b[0;32mIn[27], line 2\u001b[0m\n\u001b[1;32m      1\u001b[0m job_id\u001b[38;5;241m=\u001b[39m\u001b[38;5;124m\"\u001b[39m\u001b[38;5;124mcjrjkq4ieg62g9od3jk0\u001b[39m\u001b[38;5;124m\"\u001b[39m\n\u001b[0;32m----> 2\u001b[0m retrieve_job \u001b[38;5;241m=\u001b[39m \u001b[43mprovider\u001b[49m\u001b[38;5;241m.\u001b[39mretrieve_job(job_id)\n\u001b[1;32m      3\u001b[0m retrieve_job\u001b[38;5;241m.\u001b[39mstatus()\n",
      "\u001b[0;31mNameError\u001b[0m: name 'provider' is not defined"
     ]
    }
   ],
   "source": [
    "job_id=\"cjrjkq4ieg62g9od3jk0\"\n",
    "retrieve_job = provider.retrieve_job(job_id)\n",
    "retrieve_job.status()"
   ]
  },
  {
   "cell_type": "code",
   "execution_count": 28,
   "id": "ba254478",
   "metadata": {},
   "outputs": [
    {
     "ename": "NameError",
     "evalue": "name 'retrieve_job' is not defined",
     "output_type": "error",
     "traceback": [
      "\u001b[0;31m---------------------------------------------------------------------------\u001b[0m",
      "\u001b[0;31mNameError\u001b[0m                                 Traceback (most recent call last)",
      "Cell \u001b[0;32mIn[28], line 1\u001b[0m\n\u001b[0;32m----> 1\u001b[0m result_ret \u001b[38;5;241m=\u001b[39m \u001b[43mretrieve_job\u001b[49m\u001b[38;5;241m.\u001b[39mresult()\n\u001b[1;32m      2\u001b[0m counts_ret \u001b[38;5;241m=\u001b[39m result_ret\u001b[38;5;241m.\u001b[39mget_counts()\n\u001b[1;32m      3\u001b[0m counts_ret\n",
      "\u001b[0;31mNameError\u001b[0m: name 'retrieve_job' is not defined"
     ]
    }
   ],
   "source": [
    "result_ret = retrieve_job.result()\n",
    "counts_ret = result_ret.get_counts()\n",
    "counts_ret"
   ]
  },
  {
   "cell_type": "code",
   "execution_count": 29,
   "id": "d4332c75",
   "metadata": {
    "scrolled": true
   },
   "outputs": [
    {
     "ename": "NameError",
     "evalue": "name 'counts_ret' is not defined",
     "output_type": "error",
     "traceback": [
      "\u001b[0;31m---------------------------------------------------------------------------\u001b[0m",
      "\u001b[0;31mNameError\u001b[0m                                 Traceback (most recent call last)",
      "Cell \u001b[0;32mIn[29], line 1\u001b[0m\n\u001b[0;32m----> 1\u001b[0m Fig \u001b[38;5;241m=\u001b[39m plot_histogram(\u001b[43mcounts_ret\u001b[49m)\n\u001b[1;32m      2\u001b[0m Fig\n",
      "\u001b[0;31mNameError\u001b[0m: name 'counts_ret' is not defined"
     ]
    }
   ],
   "source": [
    "Fig = plot_histogram(counts_ret)\n",
    "Fig"
   ]
  },
  {
   "cell_type": "code",
   "execution_count": 30,
   "id": "2b7c127c",
   "metadata": {},
   "outputs": [
    {
     "data": {
      "text/plain": [
       "<qiskit.circuit.instructionset.InstructionSet at 0x7f1f7a5020b0>"
      ]
     },
     "execution_count": 30,
     "metadata": {},
     "output_type": "execute_result"
    }
   ],
   "source": [
    "classic_reg_2_bits = ClassicalRegister(2)\n",
    "\n",
    "circuit_coin_1 = QuantumCircuit(quantum_reg, classic_reg_2_bits)\n",
    "circuit_coin_1.h(0)\n",
    "circuit_coin_1.measure(quantum_reg, classic_reg_2_bits[0]) # Añadimos una medida intermedia.\n",
    "circuit_coin_1.h(0)\n",
    "circuit_coin_1.measure(quantum_reg, classic_reg_2_bits[1])\n",
    "\n",
    "circuit_coin_2 = QuantumCircuit(quantum_reg, classic_reg)\n",
    "circuit_coin_2.h(0)\n",
    "circuit_coin_2.h(0)\n",
    "circuit_coin_2.measure(quantum_reg, classic_reg)\n",
    "\n"
   ]
  },
  {
   "cell_type": "code",
   "execution_count": 31,
   "id": "3ee700d1",
   "metadata": {},
   "outputs": [
    {
     "name": "stderr",
     "output_type": "stream",
     "text": [
      "/home/dcb/Programs/miniconda/miniconda3/envs/qiskit_qibo_penny_2/lib/python3.11/site-packages/qiskit/visualization/circuit/matplotlib.py:266: FutureWarning: The default matplotlib drawer scheme will be changed to \"iqp\" in a following release. To silence this warning, specify the current default explicitly as style=\"clifford\", or the new default as style=\"iqp\".\n",
      "  self._style, def_font_ratio = load_style(self._style)\n"
     ]
    },
    {
     "data": {
      "image/png": "[encoded data removed]",
      "text/plain": [
       "<Figure size 454.517x200.667 with 1 Axes>"
      ]
     },
     "execution_count": 31,
     "metadata": {},
     "output_type": "execute_result"
    }
   ],
   "source": [
    "Fig_coin_1 = circuit_coin_1.draw(output='mpl') # mpl es de Matplolib\n",
    "Fig_coin_1.savefig(\"Figuras_Chapter_02-Circuitos_1_qubit_medidas_y_RealHardware/Fig_circuit_coin_1\")\n",
    "Fig_coin_1"
   ]
  },
  {
   "cell_type": "code",
   "execution_count": 32,
   "id": "1e321a35",
   "metadata": {},
   "outputs": [
    {
     "data": {
      "image/png": "[encoded data removed]",
      "text/plain": [
       "<Figure size 370.906x200.667 with 1 Axes>"
      ]
     },
     "execution_count": 32,
     "metadata": {},
     "output_type": "execute_result"
    }
   ],
   "source": [
    "Fig_coin_2 = circuit_coin_2.draw(output='mpl') # mpl es de Matplolib\n",
    "Fig_coin_2.savefig(\"Figuras_Chapter_02-Circuitos_1_qubit_medidas_y_RealHardware/Fig_circuit_coin_1\")\n",
    "Fig_coin_2"
   ]
  },
  {
   "cell_type": "code",
   "execution_count": 33,
   "id": "cdf2d8de",
   "metadata": {},
   "outputs": [
    {
     "name": "stdout",
     "output_type": "stream",
     "text": [
      "Resultado:  {'01': 238, '11': 271, '00': 233, '10': 258}\n",
      "Resultado:  {'0': 1000}\n"
     ]
    }
   ],
   "source": [
    "# transpilamos\n",
    "t_circuit_coin_1 = transpile(circuit_coin_1, backend = simulador)\n",
    "t_circuit_coin_2 = transpile(circuit_coin_2, backend = simulador)\n",
    "\n",
    "# Ejecutamos\n",
    "result_coin_1 = simulador.run(t_circuit_coin_1, shots = 1000).result()\n",
    "counts_coin_1 = result_coin_1.get_counts()\n",
    "print(\"Resultado: \", counts_coin_1)\n",
    "\n",
    "result_coin_2 = simulador.run(t_circuit_coin_2, shots = 1000).result()\n",
    "counts_coin_2 = result_coin_2.get_counts()\n",
    "print(\"Resultado: \", counts_coin_2)"
   ]
  },
  {
   "cell_type": "code",
   "execution_count": 34,
   "id": "9feecb5b",
   "metadata": {},
   "outputs": [
    {
     "data": {
      "image/png": "[encoded data removed]",
      "text/plain": [
       "<Figure size 700x500 with 1 Axes>"
      ]
     },
     "execution_count": 34,
     "metadata": {},
     "output_type": "execute_result"
    }
   ],
   "source": [
    "Fig = plot_histogram(counts_coin_1)\n",
    "Fig.savefig('Figuras_Chapter_02-Circuitos_1_qubit_medidas_y_RealHardware/Fig_circuit_coin_1_hist')\n",
    "Fig"
   ]
  },
  {
   "cell_type": "code",
   "execution_count": 35,
   "id": "6f7c1da7",
   "metadata": {
    "scrolled": true
   },
   "outputs": [
    {
     "data": {
      "image/png": "[encoded data removed]",
      "text/plain": [
       "<Figure size 700x500 with 1 Axes>"
      ]
     },
     "execution_count": 35,
     "metadata": {},
     "output_type": "execute_result"
    }
   ],
   "source": [
    "Fig = plot_histogram(counts_coin_2)\n",
    "Fig.savefig('Figuras_Chapter_02-Circuitos_1_qubit_medidas_y_RealHardware/Fig_circuit_coin_2_hist')\n",
    "Fig"
   ]
  },
  {
   "cell_type": "code",
   "execution_count": 36,
   "id": "76c490e6",
   "metadata": {},
   "outputs": [
    {
     "data": {
      "text/latex": [
       "$$0.9689124217 |0\\rangle+(0.2363540298 + 0.0731128692 i) |1\\rangle$$"
      ],
      "text/plain": [
       "<IPython.core.display.Latex object>"
      ]
     },
     "execution_count": 36,
     "metadata": {},
     "output_type": "execute_result"
    }
   ],
   "source": [
    "statevector_plus.draw('latex')"
   ]
  },
  {
   "cell_type": "code",
   "execution_count": 37,
   "id": "911d0661",
   "metadata": {},
   "outputs": [
    {
     "name": "stdout",
     "output_type": "stream",
     "text": [
      "p_0= 0.939 , p_1= 0.061\n",
      "probability distribution = {'0': 0.9388, '1': 0.0612}\n"
     ]
    }
   ],
   "source": [
    "print('p_0=', np.round(np.abs(psi_state[0])**2,3),', p_1=', np.round(np.abs(psi_state[1])**2,3))\n",
    "print(\"probability distribution =\", prob_distr_state)"
   ]
  },
  {
   "cell_type": "code",
   "execution_count": 38,
   "id": "1c5c1033",
   "metadata": {},
   "outputs": [
    {
     "name": "stdout",
     "output_type": "stream",
     "text": [
      "Resultado:  {'1': 6249, '0': 93751}\n",
      "probability distribution = {'1': 0.0625, '0': 0.9375}\n",
      "<Z> = 0.875\n"
     ]
    }
   ],
   "source": [
    "# Circuito\n",
    "circuit_Z_mean = QuantumCircuit(quantum_reg, classic_reg)\n",
    "circuit_Z_mean.initialize(psi_state,0)\n",
    "circuit_Z_mean.measure(quantum_reg, classic_reg)\n",
    "\n",
    "# Transpilamos\n",
    "t_circuit_Z_mean = transpile(circuit_Z_mean, backend = simulador)\n",
    "\n",
    "# Ejecutamos\n",
    "result_Z_mean = simulador.run(t_circuit_Z_mean, shots = 100000).result()\n",
    "counts_Z_mean = result_Z_mean.get_counts()\n",
    "print(\"Resultado: \", counts_Z_mean)\n",
    "\n",
    "# Distribución de probabilidad\n",
    "prob_distr_Z_mean = get_prob_dist(counts_Z_mean)\n",
    "print(\"probability distribution =\", prob_distr_Z_mean)\n",
    "\n",
    "# Calculamos <Z>\n",
    "mean_Z = 0\n",
    "\n",
    "for bits, probs  in prob_distr_Z_mean.items():\n",
    "    mean_Z += (-1)**(int(bits)) * probs  \n",
    "\n",
    "print('<Z> =',np.round(mean_Z,5))"
   ]
  },
  {
   "cell_type": "code",
   "execution_count": 39,
   "id": "49f7e480",
   "metadata": {},
   "outputs": [
    {
     "name": "stdout",
     "output_type": "stream",
     "text": [
      "Resultado:  {'1': 26969, '0': 73031}\n",
      "probability distribution = {'1': 0.2697, '0': 0.7303}\n",
      "<X> = 0.4606\n"
     ]
    }
   ],
   "source": [
    "# Circuito\n",
    "circuit_X_mean = QuantumCircuit(quantum_reg, classic_reg)\n",
    "circuit_X_mean.initialize(psi_state,0)\n",
    "circuit_X_mean.h(quantum_reg)\n",
    "circuit_X_mean.measure(quantum_reg, classic_reg)\n",
    "\n",
    "# Transpilamos\n",
    "t_circuit_X_mean = transpile(circuit_X_mean, backend = simulador)\n",
    "\n",
    "# Ejecutamos\n",
    "result_X_mean = simulador.run(t_circuit_X_mean, shots = 100000).result()\n",
    "counts_X_mean = result_X_mean.get_counts()\n",
    "print(\"Resultado: \", counts_X_mean)\n",
    "\n",
    "# Distribución de probabilidad\n",
    "prob_distr_X_mean = get_prob_dist(counts_X_mean)\n",
    "print(\"probability distribution =\", prob_distr_X_mean)\n",
    "\n",
    "# Calculamos <X>\n",
    "mean_X = 0\n",
    "\n",
    "for bits, probs  in prob_distr_X_mean.items():\n",
    "    mean_X += (-1)**(int(bits)) * probs  \n",
    "\n",
    "print('<X> =',np.round(mean_X,5))"
   ]
  },
  {
   "cell_type": "code",
   "execution_count": 40,
   "id": "d927c382",
   "metadata": {},
   "outputs": [
    {
     "name": "stdout",
     "output_type": "stream",
     "text": [
      "Resultado:  {'0': 56902, '1': 43098}\n",
      "probability distribution = {'0': 0.569, '1': 0.431}\n",
      "<Y> = 0.138\n"
     ]
    }
   ],
   "source": [
    "# Circuito\n",
    "circuit_Y_mean = QuantumCircuit(quantum_reg, classic_reg)\n",
    "circuit_Y_mean.initialize(psi_state,0)\n",
    "circuit_Y_mean.sdg(quantum_reg)\n",
    "circuit_Y_mean.h(quantum_reg)\n",
    "circuit_Y_mean.measure(quantum_reg, classic_reg)\n",
    "\n",
    "# Transpilamos\n",
    "t_circuit_Y_mean = transpile(circuit_Y_mean, backend = simulador)\n",
    "\n",
    "# Ejecutamos\n",
    "result_Y_mean = simulador.run(t_circuit_Y_mean, shots = 100000).result()\n",
    "counts_Y_mean = result_Y_mean.get_counts()\n",
    "print(\"Resultado: \", counts_Y_mean)\n",
    "\n",
    "# Distribución de probabilidad\n",
    "prob_distr_Y_mean = get_prob_dist(counts_Y_mean)\n",
    "print(\"probability distribution =\", prob_distr_Y_mean)\n",
    "\n",
    "# Calculamos <Y>\n",
    "mean_Y = 0\n",
    "\n",
    "for bits, probs  in prob_distr_Y_mean.items():\n",
    "    mean_Y += (-1)**(int(bits)) * probs  \n",
    "\n",
    "print('<Y> =',np.round(mean_Y,5))"
   ]
  },
  {
   "cell_type": "code",
   "execution_count": 41,
   "id": "558c7a2b",
   "metadata": {},
   "outputs": [
    {
     "name": "stdout",
     "output_type": "stream",
     "text": [
      "Resultado:  {'1': 5297, '0': 44703}\n",
      " <V> =  0.89406\n"
     ]
    }
   ],
   "source": [
    "from qiskit.circuit.library import U3Gate\n",
    "\n",
    "circuit_V_mean = QuantumCircuit(quantum_reg, classic_reg)\n",
    "\n",
    "theta_U  = np.pi/6\n",
    "phi_U    = np.pi/2\n",
    "varphi_U = np.pi\n",
    "\n",
    "theta_V  = np.pi/2\n",
    "phi_V    = np.pi/3\n",
    "varphi_V = 2*np.pi/7\n",
    "\n",
    "U        = U3Gate(theta_U, phi_U, varphi_U)\n",
    "U_dagger = U3Gate(theta_U, phi_U, varphi_U).inverse()\n",
    "V        = U3Gate(theta_V, phi_V, varphi_V)\n",
    "\n",
    "circuit_V_mean.append(U, quantum_reg)\n",
    "circuit_V_mean.append(V, quantum_reg)\n",
    "circuit_V_mean.append(U_dagger, quantum_reg)\n",
    "circuit_V_mean.measure(quantum_reg, classic_reg)\n",
    "\n",
    "# Transpilamos\n",
    "t_circuit_V_mean = transpile(circuit_V_mean, backend = simulador)\n",
    "\n",
    "# Ejecutamos\n",
    "shots = 50000\n",
    "result_V_mean = simulador.run(t_circuit_V_mean, shots = shots).result()\n",
    "counts_V_mean = result_V_mean.get_counts()\n",
    "print(\"Resultado: \", counts_V_mean)\n",
    "\n",
    "# Media\n",
    "print(\" <V> = \", counts_V_mean['0']/shots)"
   ]
  }
 ],
 "metadata": {
  "kernelspec": {
   "display_name": "Python 3 (ipykernel)",
   "language": "python",
   "name": "python3"
  },
  "language_info": {
   "codemirror_mode": {
    "name": "ipython",
    "version": 3
   },
   "file_extension": ".py",
   "mimetype": "text/x-python",
   "name": "python",
   "nbconvert_exporter": "python",
   "pygments_lexer": "ipython3",
   "version": "3.11.7"
  },
  "toc": {
   "base_numbering": 1,
   "nav_menu": {},
   "number_sections": false,
   "sideBar": true,
   "skip_h1_title": false,
   "title_cell": "Table of Contents",
   "title_sidebar": "Contents",
   "toc_cell": false,
   "toc_position": {
    "height": "calc(100% - 180px)",
    "left": "10px",
    "top": "150px",
    "width": "259.213px"
   },
   "toc_section_display": true,
   "toc_window_display": false
  }
 },
 "nbformat": 4,
 "nbformat_minor": 5
}