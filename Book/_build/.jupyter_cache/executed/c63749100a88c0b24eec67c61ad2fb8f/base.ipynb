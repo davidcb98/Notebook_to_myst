{
 "cells": [
  {
   "cell_type": "code",
   "execution_count": 1,
   "id": "26f3c88f",
   "metadata": {
    "slideshow": {
     "slide_type": "-"
    },
    "tags": [
     "hide-input"
    ]
   },
   "outputs": [],
   "source": [
    "%run ../../macro_tQ.py\n",
    "import sys\n",
    "sys.path.append('../../')\n",
    "import macro_tQ as tQ\n",
    "\n",
    "import numpy as np\n",
    "import scipy.linalg as la\n",
    "from IPython.display import display,Markdown,Latex\n",
    "import matplotlib.pyplot as plt\n",
    "from qiskit.tools.visualization import array_to_latex"
   ]
  },
  {
   "cell_type": "code",
   "execution_count": 2,
   "id": "7124247a",
   "metadata": {
    "slideshow": {
     "slide_type": "slide"
    }
   },
   "outputs": [
    {
     "data": {
      "text/latex": [
       "$$\n",
       "\n",
       "\\begin{bmatrix}\n",
       "0.8147478589 - 0.4900580178 i & 1.5201727339 + 1.3527867358 i & 0.2740485192 - 0.0431524044 i  \\\\\n",
       " -0.1991808808 - 1.598636373 i & -0.7145601359 + 0.7964575972 i & 0.4447412086 - 2.2768113628 i  \\\\\n",
       " 1.4146698141 + 0.0414595961 i & 1.4155764849 - 0.983004226 i & 0.1875669343 + 0.5639219755 i  \\\\\n",
       " 0.037712511 + 1.2111015131 i & 1.0103085986 + 1.1122008917 i & 0.6709236046 + 0.8337392915 i  \\\\\n",
       " \\end{bmatrix}\n",
       "$$"
      ],
      "text/plain": [
       "<IPython.core.display.Latex object>"
      ]
     },
     "metadata": {},
     "output_type": "display_data"
    },
    {
     "name": "stdout",
     "output_type": "stream",
     "text": [
      "valores principales s_i =  [3.884 2.853 1.104]\n",
      "El número de Schmidt es r = 3\n"
     ]
    }
   ],
   "source": [
    "'Veamos el caso genérico'\n",
    "\n",
    "d1=4 # Dimensión de H1\n",
    "d2=3 # Dimensión de H2\n",
    "\n",
    "' generamos una matriz aleatoria compleja '\n",
    "w = np.random.randn(d1,d2)+ np.random.randn(d1,d2) * 1j  # coeficientes w_{ia} de un estado genérico\n",
    "display(array_to_latex(w))\n",
    "\n",
    "' efectuamos las descomposición SVD'\n",
    "u, s, vh = np.linalg.svd(w, full_matrices=True)\n",
    "\n",
    "np.round(s,3)\n",
    "\n",
    "print('valores principales s_i = ',np.round(s,3))\n",
    "print('El número de Schmidt es r =', np.count_nonzero(s))"
   ]
  },
  {
   "cell_type": "code",
   "execution_count": 3,
   "id": "1b0877bb",
   "metadata": {
    "slideshow": {
     "slide_type": "slide"
    }
   },
   "outputs": [
    {
     "data": {
      "text/latex": [
       "$$\n",
       "\n",
       "\\begin{bmatrix}\n",
       "-0.006658332 - 0.0636434017 i & -0.0419678458 + 0.075433149 i & 0.0478647267 + 0.0403737063 i  \\\\\n",
       " -0.2391140542 + 0.1642937723 i & 0.3913411134 + 0.0038901785 i & 0.0572176307 - 0.2780697279 i  \\\\\n",
       " 0.0541665526 + 0.2718855382 i & 0.150885635 - 0.3421845567 i & -0.2226214933 - 0.155030171 i  \\\\\n",
       " 0.0171046835 + 0.2171639692 i & 0.1494024446 - 0.2530417493 i & -0.159363617 - 0.1415716153 i  \\\\\n",
       " -0.1661608242 - 0.156712167 i & 0.0620278633 + 0.3018020043 i & 0.223494657 - 0.0021697428 i  \\\\\n",
       " \\end{bmatrix}\n",
       "$$"
      ],
      "text/plain": [
       "<IPython.core.display.Latex object>"
      ]
     },
     "metadata": {},
     "output_type": "display_data"
    },
    {
     "name": "stdout",
     "output_type": "stream",
     "text": [
      "principal values s_i =  [1. 0. 0.]\n",
      "The Schmidt number is p = 1\n"
     ]
    }
   ],
   "source": [
    "'Veamos ahora el caso particular de un estado factorizable'\n",
    "\n",
    "d1=5\n",
    "d2=3\n",
    "\n",
    "' create two random vectors '\n",
    "u = tQ.random_ket(d1)\n",
    "v = tQ.random_ket(d2)\n",
    "\n",
    "w = np.outer(u,v)\n",
    "display(array_to_latex(w))\n",
    "\n",
    "' SVG decomposition '\n",
    "u, s, vh = np.linalg.svd(w, full_matrices=True)\n",
    "\n",
    "print('principal values s_i = ',np.round(s,3))\n",
    "print('The Schmidt number is p =', np.count_nonzero(np.round(s,3)))"
   ]
  }
 ],
 "metadata": {
  "kernelspec": {
   "display_name": "Python 3 (ipykernel)",
   "language": "python",
   "name": "python3"
  },
  "language_info": {
   "codemirror_mode": {
    "name": "ipython",
    "version": 3
   },
   "file_extension": ".py",
   "mimetype": "text/x-python",
   "name": "python",
   "nbconvert_exporter": "python",
   "pygments_lexer": "ipython3",
   "version": "3.11.7"
  },
  "nbTranslate": {
   "displayLangs": [
    "*"
   ],
   "hotkey": "alt-t",
   "langInMainMenu": true,
   "sourceLang": "en",
   "targetLang": "fr",
   "useGoogleTranslate": true
  },
  "toc": {
   "base_numbering": 1,
   "nav_menu": {},
   "number_sections": true,
   "sideBar": true,
   "skip_h1_title": true,
   "title_cell": "Table of Contents",
   "title_sidebar": "Contents",
   "toc_cell": false,
   "toc_position": {
    "height": "calc(100% - 180px)",
    "left": "10px",
    "top": "150px",
    "width": "414.053px"
   },
   "toc_section_display": true,
   "toc_window_display": false
  },
  "varInspector": {
   "cols": {
    "lenName": 16,
    "lenType": 16,
    "lenVar": 40
   },
   "kernels_config": {
    "python": {
     "delete_cmd_postfix": "",
     "delete_cmd_prefix": "del ",
     "library": "var_list.py",
     "varRefreshCmd": "print(var_dic_list())"
    },
    "r": {
     "delete_cmd_postfix": ") ",
     "delete_cmd_prefix": "rm(",
     "library": "var_list.r",
     "varRefreshCmd": "cat(var_dic_list()) "
    }
   },
   "types_to_exclude": [
    "module",
    "function",
    "builtin_function_or_method",
    "instance",
    "_Feature"
   ],
   "window_display": false
  }
 },
 "nbformat": 4,
 "nbformat_minor": 5
}