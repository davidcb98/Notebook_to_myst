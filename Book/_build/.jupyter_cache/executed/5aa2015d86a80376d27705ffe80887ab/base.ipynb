{
 "cells": [
  {
   "cell_type": "code",
   "execution_count": 1,
   "id": "07cac87d",
   "metadata": {
    "slideshow": {
     "slide_type": "-"
    }
   },
   "outputs": [],
   "source": [
    "import sys\n",
    "sys.path.append('../')\n",
    "import macro_tQ as tQ\n",
    "\n",
    "import numpy as np\n",
    "import scipy.linalg as la\n",
    "from IPython.display import display,Markdown,Latex\n",
    "import matplotlib.pyplot as plt\n",
    "from qiskit.tools.visualization import array_to_latex\n",
    "import copy "
   ]
  },
  {
   "cell_type": "code",
   "execution_count": 2,
   "id": "de3a9cf1",
   "metadata": {
    "slideshow": {
     "slide_type": "skip"
    }
   },
   "outputs": [
    {
     "data": {
      "text/latex": [
       "$$\n",
       "\n",
       "\\begin{bmatrix}\n",
       "1 + i  \\\\\n",
       " 2 - 3 i  \\\\\n",
       " \\end{bmatrix}\n",
       "$$"
      ],
      "text/plain": [
       "<IPython.core.display.Latex object>"
      ]
     },
     "metadata": {},
     "output_type": "display_data"
    }
   ],
   "source": [
    "' qiskit tiene un visualizador de matrices bastante nítido'\n",
    "from qiskit.tools.visualization import array_to_latex\n",
    "\n",
    "uket=np.array([[1 + 1.j],[2-3*1.j]])\n",
    " \n",
    "display(array_to_latex(uket))"
   ]
  },
  {
   "cell_type": "code",
   "execution_count": 3,
   "id": "c7a7d889",
   "metadata": {
    "slideshow": {
     "slide_type": "skip"
    }
   },
   "outputs": [
    {
     "data": {
      "text/latex": [
       "$$\n",
       "\n",
       "\\begin{bmatrix}\n",
       "1 + i  \\\\\n",
       " 2 - 3 i  \\\\\n",
       " 2 + 2 i  \\\\\n",
       " -1 - i  \\\\\n",
       " \\end{bmatrix}\n",
       "$$"
      ],
      "text/plain": [
       "<IPython.core.display.Latex object>"
      ]
     },
     "metadata": {},
     "output_type": "display_data"
    },
    {
     "data": {
      "text/latex": [
       "$$(1 + i) |00\\rangle+(2 - 3 i) |01\\rangle+(2 + 2 i) |10\\rangle+(-1 - i) |11\\rangle$$"
      ],
      "text/plain": [
       "<IPython.core.display.Latex object>"
      ]
     },
     "execution_count": 3,
     "metadata": {},
     "output_type": "execute_result"
    }
   ],
   "source": [
    "from qiskit.quantum_info import Statevector\n",
    "uket=np.array([[ 1.+1.j], [ 2.-3.j],[ 2.+2.j],[-1.-1.j]])\n",
    "display(array_to_latex(uket))\n",
    "\n",
    "Statevector(uket).draw('latex')"
   ]
  },
  {
   "cell_type": "code",
   "execution_count": 4,
   "id": "1c46a1d8",
   "metadata": {
    "slideshow": {
     "slide_type": "skip"
    }
   },
   "outputs": [
    {
     "data": {
      "text/latex": [
       "$$\n",
       "\n",
       "\\begin{bmatrix}\n",
       "1 + i  \\\\\n",
       " 2 - 3 i  \\\\\n",
       " \\end{bmatrix}\n",
       "$$"
      ],
      "text/plain": [
       "<IPython.core.display.Latex object>"
      ]
     },
     "metadata": {},
     "output_type": "display_data"
    },
    {
     "data": {
      "text/latex": [
       "$$\n",
       "\n",
       "\\begin{bmatrix}\n",
       "1 - i & 2 + 3 i  \\\\\n",
       " \\end{bmatrix}\n",
       "$$"
      ],
      "text/plain": [
       "<IPython.core.display.Latex object>"
      ]
     },
     "metadata": {},
     "output_type": "display_data"
    }
   ],
   "source": [
    "'definamos un array'\n",
    "u = np.array([1+1j,2-3*1j])\n",
    "\n",
    "'ket es un vector columna'\n",
    "uket=u.reshape(len(u),1)\n",
    "display(array_to_latex(uket))\n",
    "\n",
    "'el bra asociado será una fila formada por las componentes conjugadas complejas'\n",
    "ubra=uket.conj().T\n",
    "ubra = u.reshape(1,len(u)).conj()\n",
    "display(array_to_latex(ubra))"
   ]
  },
  {
   "cell_type": "code",
   "execution_count": 5,
   "id": "43998446",
   "metadata": {},
   "outputs": [],
   "source": [
    "def braket(u,v):\n",
    "    return np.sum([u[i].conjugate()*v[i] for i in range(len(u))])"
   ]
  }
 ],
 "metadata": {
  "authors": [
   {
    "affiliations": [
     "IGFAE-USC"
    ],
    "corresponding": true,
    "email": "javier.mas@usc.es",
    "name": "Javier Mas",
    "orcid": "0000-0001-7008-2126"
   },
   {
    "affiliations": [
     "UMA"
    ],
    "corresponding": true,
    "email": "javier.mas@usc.es",
    "name": "David Castaño",
    "orcid": "0000-0001-7008-2126"
   }
  ],
  "github": "https://github.com/jamasole/Curso-TalentQ-Jupyterlab",
  "jupytext": {
   "text_representation": {
    "extension": ".md",
    "format_name": "myst",
    "format_version": 0.13,
    "jupytext_version": "1.15.2"
   }
  },
  "kernelspec": {
   "display_name": "Python 3 (ipykernel)",
   "language": "python",
   "name": "python3"
  },
  "language_info": {
   "codemirror_mode": {
    "name": "ipython",
    "version": 3
   },
   "file_extension": ".py",
   "mimetype": "text/x-python",
   "name": "python",
   "nbconvert_exporter": "python",
   "pygments_lexer": "ipython3",
   "version": "3.11.7"
  },
  "license": "CC-BY-4.0",
  "math": {
   "\\C": "{\\mathbb C}",
   "\\Hil": "{\\mathcal H}",
   "\\Lin": "\\rm L",
   "\\O": "{\\mathcal O}",
   "\\R": "{\\mathbb R}",
   "\\V": "{V}",
   "\\bes": "\\begin{equation*}",
   "\\bra": "{\\langle #1|}",
   "\\braket": "{\\langle #1|#2\\rangle}",
   "\\ees": "\\end{equation*}",
   "\\i": "{i}",
   "\\ket": "{|#1\\rangle}",
   "\\ketbra": "{| #1\\rangle  \\langle #2|}",
   "\\tr": "{\\rm tr}"
  },
  "source_map": [
   44,
   61,
   67,
   71,
   88,
   92,
   96,
   113,
   121,
   132,
   150,
   163,
   175,
   192,
   196,
   216,
   235,
   243,
   247,
   258,
   268,
   283,
   287,
   297,
   305,
   312,
   329,
   337,
   348,
   356,
   382,
   403,
   415,
   425,
   444,
   448,
   468,
   476,
   501,
   513,
   517,
   522,
   532,
   541,
   545,
   549,
   553,
   559,
   572,
   582,
   592,
   610,
   621,
   625,
   643,
   649,
   668,
   684,
   693,
   709,
   713,
   722,
   729,
   733,
   739,
   754,
   765,
   775,
   785,
   801,
   806,
   824,
   835,
   846
  ],
  "subject": "Curso",
  "venue": "Quantum Spain"
 },
 "nbformat": 4,
 "nbformat_minor": 5
}