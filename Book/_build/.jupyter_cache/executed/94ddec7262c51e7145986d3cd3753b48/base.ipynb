{
 "cells": [
  {
   "cell_type": "code",
   "execution_count": 1,
   "id": "4a9b476f",
   "metadata": {
    "slideshow": {
     "slide_type": "-"
    }
   },
   "outputs": [],
   "source": [
    "%run ../macro_tQ.py\n",
    "\n",
    "import sys\n",
    "sys.path.append('../')\n",
    "import macro_tQ as tQ\n",
    "\n",
    "import numpy as np\n",
    "import scipy.linalg as la\n",
    "from IPython.display import display,Markdown,Latex\n",
    "import matplotlib.pyplot as plt\n",
    "from qiskit.tools.visualization import array_to_latex"
   ]
  },
  {
   "cell_type": "code",
   "execution_count": 2,
   "id": "9f6c231d",
   "metadata": {
    "slideshow": {
     "slide_type": "slide"
    }
   },
   "outputs": [
    {
     "data": {
      "text/latex": [
       "$$\n",
       "\n",
       "\\begin{bmatrix}\n",
       "-0.5321514494 + 0.7403517071 i & -0.2535596377 - 0.7871560519 i & -0.0675994554 + 3.2205812019 i  \\\\\n",
       " -0.9358357438 + 0.603287647 i & -0.4190591102 + 0.7075504936 i & -0.1844608432 - 0.2697713604 i  \\\\\n",
       " -1.0403621843 + 0.0538452408 i & -0.2311452276 - 0.2825395599 i & 0.0397101185 - 3.1048471075 i  \\\\\n",
       " -0.0430922474 - 1.4217214125 i & 1.1730734304 - 0.5333370178 i & 0.3627511742 + 0.2984334501 i  \\\\\n",
       " \\end{bmatrix}\n",
       "$$"
      ],
      "text/plain": [
       "<IPython.core.display.Latex object>"
      ]
     },
     "metadata": {},
     "output_type": "display_data"
    },
    {
     "name": "stdout",
     "output_type": "stream",
     "text": [
      "principal values s_i =  [4.583 2.595 0.971]\n",
      "The Schmidt number is r = 3\n"
     ]
    }
   ],
   "source": [
    "# Veamos el caso genérico \n",
    "\n",
    "d1=4 # Dimensión de H1\n",
    "d2=3 # Dimensión de H2\n",
    "\n",
    "' generate a random complex matrix '\n",
    "w = np.random.randn(d1,d2)+ np.random.randn(d1,d2) * 1j  # coeficientes w_{ia} de un estado genérico\n",
    "display(array_to_latex(w))\n",
    "\n",
    "' perform the SVD decomposition'\n",
    "u, s, vh = np.linalg.svd(w, full_matrices=True)\n",
    "\n",
    "np.round(s,3)\n",
    "\n",
    "print('principal values s_i = ',np.round(s,3))\n",
    "print('The Schmidt number is r =', np.count_nonzero(s))"
   ]
  },
  {
   "cell_type": "code",
   "execution_count": 3,
   "id": "9f372bab",
   "metadata": {
    "slideshow": {
     "slide_type": "slide"
    }
   },
   "outputs": [
    {
     "data": {
      "text/latex": [
       "$$\n",
       "\n",
       "\\begin{bmatrix}\n",
       "0.0648809332 + 0.1356767779 i & 0.1043632286 - 0.0925483932 i & 0.0400364402 - 0.1392923381 i  \\\\\n",
       " -0.3559563409 + 0.0290262468 i & 0.116929252 + 0.3099196495 i & 0.2751154556 + 0.2067991214 i  \\\\\n",
       " -0.008339611 - 0.1712453058 i & -0.1505364488 + 0.0512385499 i & -0.1035416849 + 0.1287557568 i  \\\\\n",
       " -0.1755291138 - 0.3038360597 i & -0.2259784601 + 0.2342083241 i & -0.0678676446 + 0.3312746704 i  \\\\\n",
       " 0.2223632493 + 0.0801556721 i & 0.0145816348 - 0.2187460201 i & -0.108983827 - 0.2000244752 i  \\\\\n",
       " \\end{bmatrix}\n",
       "$$"
      ],
      "text/plain": [
       "<IPython.core.display.Latex object>"
      ]
     },
     "metadata": {},
     "output_type": "display_data"
    },
    {
     "name": "stdout",
     "output_type": "stream",
     "text": [
      "principal values s_i =  [1. 0. 0.]\n",
      "The Schmidt number is p = 1\n"
     ]
    }
   ],
   "source": [
    "# Veamos ahora el caso particular de un estado factorizable\n",
    "\n",
    "d1=5\n",
    "d2=3\n",
    "\n",
    "' create two random vectors '\n",
    "u = tQ.random_ket(d1)\n",
    "v = tQ.random_ket(d2)\n",
    "\n",
    "w = np.outer(u,v)\n",
    "display(array_to_latex(w))\n",
    "\n",
    "' SVG decomposition '\n",
    "u, s, vh = np.linalg.svd(w, full_matrices=True)\n",
    "\n",
    "print('principal values s_i = ',np.round(s,3))\n",
    "print('The Schmidt number is p =', np.count_nonzero(np.round(s,3)))"
   ]
  }
 ],
 "metadata": {
  "authors": [
   {
    "affiliations": [
     "IGFAE-USC"
    ],
    "corresponding": true,
    "email": "javier.mas@usc.es",
    "name": "Javier Mas",
    "orcid": "0000-0001-7008-2126"
   },
   {
    "affiliations": [
     "UMA"
    ],
    "corresponding": true,
    "email": "david.castano@uma.es",
    "name": "David Castaño",
    "orcid": "0000-0001-7008-2126"
   }
  ],
  "github": "https://github.com/jamasole/Curso-TalentQ-Jupyterlab",
  "jupytext": {
   "text_representation": {
    "extension": ".md",
    "format_name": "myst",
    "format_version": 0.13,
    "jupytext_version": "1.15.2"
   }
  },
  "kernelspec": {
   "display_name": "Python 3 (ipykernel)",
   "language": "python",
   "name": "python3"
  },
  "language_info": {
   "codemirror_mode": {
    "name": "ipython",
    "version": 3
   },
   "file_extension": ".py",
   "mimetype": "text/x-python",
   "name": "python",
   "nbconvert_exporter": "python",
   "pygments_lexer": "ipython3",
   "version": "3.11.7"
  },
  "license": "CC-BY-4.0",
  "math": {
   "\\C": "{\\mathbb C}",
   "\\Hil": "{\\mathcal H}",
   "\\Lin": "\\rm L",
   "\\O": "{\\mathcal O}",
   "\\R": "{\\mathbb R}",
   "\\V": "{\\cal V}",
   "\\bes": "\\begin{equation*}",
   "\\braa": "{\\langle #1|}",
   "\\braket": "{\\langle #1|#2\\rangle}",
   "\\ees": "\\end{equation*}",
   "\\i": "{\\color{blue} i}",
   "\\ket": "{|#1\\rangle}",
   "\\ketbra": "{|#1\\rangle\\langle #2|}",
   "\\tr": "{\\rm tr}"
  },
  "source_map": [
   44,
   60,
   66,
   70,
   88,
   92,
   98,
   114,
   127,
   133,
   152,
   165,
   169,
   184,
   188,
   192,
   204,
   218,
   229,
   233,
   243,
   256,
   272,
   281,
   285,
   298,
   306,
   310,
   315,
   330,
   342,
   353,
   367,
   371,
   379,
   384,
   393,
   397,
   415,
   425,
   438,
   450,
   463,
   477,
   481,
   504,
   508,
   532,
   536,
   540,
   545,
   561,
   570,
   583,
   591,
   607,
   617,
   632,
   641,
   650,
   661,
   672,
   679,
   695,
   702,
   718,
   734,
   744,
   759,
   763,
   775,
   792,
   803,
   808,
   812,
   818,
   834,
   843,
   851,
   857,
   863,
   867,
   871,
   880,
   889,
   902,
   920,
   931,
   939,
   948,
   962
  ],
  "subject": "Curso",
  "venue": "Quantum Spain"
 },
 "nbformat": 4,
 "nbformat_minor": 5
}