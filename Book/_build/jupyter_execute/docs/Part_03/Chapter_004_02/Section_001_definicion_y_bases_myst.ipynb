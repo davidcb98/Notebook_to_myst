{
 "cells": [
  {
   "cell_type": "markdown",
   "id": "8ddaeb38",
   "metadata": {},
   "source": [
    "> {sub-ref}`today` | {sub-ref}`wordcount-minutes` min read\n",
    "\n",
    "<img src=\"Figuras/Fig_logo_UMA_scbi.png\" align=center  width=\"2000px\"/>\n",
    "\n",
    "\n",
    "<a href=\"https://www.scbi.uma.es/web/es/computacion-cuantica/\">\n",
    "    <button class=\"rounded\" style=\"float: right;\">\n",
    "    <svg xmlns=\"http://www.w3.org/2000/svg\" width=\"32\" height=\"32\" viewBox=\"0 0 24 24\">\n",
    "        <path fill=\"var(--fill, white)\"\n",
    "        d=\"M18.1 15.3c-.1.1-.3.2-.4.3l-2.4.4l1.7 3.6c.2.4 0 .8-.4\n",
    "            1l-2.8 1.3c-.1.1-.2.1-.3.1c-.3 0-.6-.2-.7-.4L11.2\n",
    "            18l-1.9 1.5c-.1.1-.3.2-.5.2c-.4 0-.8-.3-.8-.8V7.5c0-.5.3-.8.8-.8c.2 0\n",
    "            .4.1.5.2l8.7 7.4c.3.2.4.7.1 1M6 12H4V4h16v8h-1.6l2.2 1.9c.8-.3 1.3-1\n",
    "            1.3-1.9V4c0-1.1-.9-2-2-2H4c-1.1 0-2 .9-2 2v8c0 1.1.9 2 2 2h2z\" />\n",
    "    </svg>\n",
    "    Volver a SCBI - Computación Cuantica\n",
    "    </button>\n",
    "</a>\n",
    "\n",
    "$ \\newcommand{\\bra}[1]{\\langle #1|} $\n",
    "$ \\newcommand{\\ket}[1]{|#1\\rangle} $\n",
    "$ \\newcommand{\\branew}[1]{\\langle #1|} $\n",
    "$ \\newcommand{\\ketnew}[1]{\\langle #1|} $\n",
    "$ \\newcommand{\\braket}[2]{\\langle #1|#2\\rangle} $\n",
    "$ \\newcommand{\\ketbra}[2]{| #1\\rangle \\langle #2 |} $\n",
    "$ \\newcommand{\\i}{{\\color{blue} i}} $ \n",
    "$ \\newcommand{\\Hil}{{\\cal H}} $\n",
    "$ \\newcommand{\\cg}[1]{{\\rm C}#1} $\n",
    "$ \\newcommand{\\lp}{\\left(} $\n",
    "$ \\newcommand{\\rp}{\\right)} $\n",
    "$ \\newcommand{\\lc}{\\left[} $\n",
    "$ \\newcommand{\\rc}{\\right]} $\n",
    "$ \\newcommand{\\lch}{\\left\\{} $\n",
    "$ \\newcommand{\\rch}{\\right\\}} $\n",
    "$ \\newcommand{\\Lp}{\\Bigl(} $\n",
    "$ \\newcommand{\\Rp}{\\Bigr)} $\n",
    "$ \\newcommand{\\Lc}{\\Bigl[} $\n",
    "$ \\newcommand{\\Rc}{\\Bigr]} $\n",
    "$ \\newcommand{\\Lch}{\\Bigl\\{} $\n",
    "$ \\newcommand{\\Rch}{\\Bigr\\}} $\n",
    "$ \\newcommand{\\rqa}{\\quad \\Rightarrow \\quad} $\n",
    "$ \\newcommand{\\bm}{\\boldsymbol}$"
   ]
  },
  {
   "cell_type": "markdown",
   "id": "080fe82e",
   "metadata": {},
   "source": [
    "# Definición y bases\n"
   ]
  },
  {
   "cell_type": "markdown",
   "id": "eea271ff",
   "metadata": {},
   "source": [
    "## Definición de Qubit\n",
    "Un concepto fundamental en computación cuántica (QC) es el concepto de <b>qubit</b> o <i>bit cuántico</i>.\n",
    "En esta sección veremos que es un qubit, que es la base computación y como se representa un qubit en la esfera de Bloch.\n"
   ]
  },
  {
   "cell_type": "markdown",
   "id": "eea3f508",
   "metadata": {},
   "source": [
    "Como sabemos, la computación clásica se de basa en el <b>bits</b>, es decir, en ceros o unos. Con estos bits construimos cadenas de ceros y unos sobre las que se aplican puertas lógicas (AND, OR, NOT,...) que transforman esta cadena en otra. Definamos de forma matemática un bit:\n",
    "::::::{card} \n",
    "<b>Definición</b>:  \n",
    "\n",
    "^^^\n",
    "Un <b>bit</b> es una variable  real $a$ que puede tomar valores en $ {\\mathbb Z}_2= \\{0, 1\\}$.\n",
    "::::::\n",
    "\n",
    "\n"
   ]
  },
  {
   "cell_type": "markdown",
   "id": "05a85a12",
   "metadata": {},
   "source": [
    "Un qubit es el equivalen en computación cuántica de un bit. Un qubit es un <b>sistema cuántico de dos niveles de energía o dos estados no degenerados</b>.\n",
    "::::::{admonition} Nota (Estado degenerado) \n",
    ":class: note\n",
    "\n",
    "\n",
    "\n",
    "Dentro de un sistema cuántico dos estados se denominan <b>degenerados</b> si tiene la misma energía\n",
    "::::::\n"
   ]
  },
  {
   "cell_type": "markdown",
   "id": "e8c1128c",
   "metadata": {},
   "source": [
    "El estado de menor energía será el equivalente al cero y el estado de mayor energía será equivalente al uno. Definiéndolo de forma rigurosa:\n",
    "::::::{card} \n",
    "<b>Definición</b>:  \n",
    "\n",
    "^^^\n",
    "Un cúbit es un <b>espacio de Hilbert</b> complejo de dimensión dos, $\\ket{v} \\in \\mathcal{H} \\sim  \\mathbb{C}^2$\n",
    "::::::\n",
    "\n",
    "\n"
   ]
  },
  {
   "cell_type": "markdown",
   "id": "4bffb646",
   "metadata": {},
   "source": [
    "Quizás estas dos definiciones parecen muy pomposas, pero tienen la capacidad de transmitirnos en dos simples frases la abismal diferencia entre un bit y un qubit. Mientras un bit es simplemente un número entero que puede tomar dos valores, un qubit puede tomar los infinitos valores del espacio del Hilbert de dos dimensiones. Es decir, bit es una variable discreta (digitalizada), mientras que un qubit es una variable continua (analógica). Como veremos mas adelante, la digitalización de la computación cuántica se da en el momento de la <b>medida</b>.\n"
   ]
  },
  {
   "cell_type": "markdown",
   "id": "c507bbd5",
   "metadata": {},
   "source": [
    "Cabe destacar que cualquier sistema  cuyo estado instantáneo se pueda describir mediante un vector $\\ket{v}\\in {\\mathbb C}^2$ puede albergar físicamente un <b>qubit</b>. A efectos prácticos,  se trata de sistemas que pueden estar y conmutar entre dos niveles de energía bien definidos de manera controlada. Esto lleva a que haya varias implementaciones de los qubits (qubits superconductores, trampas de iones, ...).\n"
   ]
  },
  {
   "cell_type": "markdown",
   "id": "eb073f7f",
   "metadata": {},
   "source": [
    "Se está explorando también el uso de sistemas cuánticos de más niveles que dos, como lo <b>qutrit</b> de dimensión 3. De forma genérica, a un qubit de $d$ dimensiones se le denomina <b>qudit</b>.\n"
   ]
  },
  {
   "cell_type": "markdown",
   "id": "d43aa3a0",
   "metadata": {},
   "source": [
    "::::::{admonition} Nota (El espín del electrón como un qubit) \n",
    ":class: note\n",
    "\n",
    "\n",
    "\n",
    "El ejemplo más típico es el de un espín de un electrón, que de forma natural tiene dos niveles (la proyección 1/2 y la proyección -1/2). Sin embargo, como queremos que los dos estados estén bien diferenciados, debemos pensar en el espín de un electrón sumergido en un campo magnético, de forma que la proyección del espín a favor del campo se ve favorecida sobre la otra. Es decir, pasamos de tener un dos estados degenerados (de igual energía) a tener dos estados con diferente energía.\n",
    "::::::\n"
   ]
  },
  {
   "cell_type": "markdown",
   "id": "10d05f99",
   "metadata": {},
   "source": [
    "## Bases computacionales y bases $X$ e $Y$.\n"
   ]
  },
  {
   "cell_type": "markdown",
   "id": "4193f45c",
   "metadata": {},
   "source": [
    "En esta sección vamos a ver tres bases para representar nuestro qubits: la base $Z$ (o computacional), la $X$ y la $Y$. Estás dos últimas bases estarán referidas a la primera.\n"
   ]
  },
  {
   "cell_type": "markdown",
   "id": "3d856832",
   "metadata": {},
   "source": [
    "### Base computacional o base $Z$\n"
   ]
  },
  {
   "cell_type": "markdown",
   "id": "f76d5197",
   "metadata": {},
   "source": [
    "Como acabamos de ver, los qubits viven en un espacio de Hilbert complejo de dos dimensiones, así que vamos a necesitar dos vectores ortonormales para definir una <b>base</b>.\n"
   ]
  },
  {
   "cell_type": "markdown",
   "id": "bdae3fcb",
   "metadata": {},
   "source": [
    "Definir por primera vez una base tiene una cierta componente de arbitraridad. Por ejemplo, cuando tenemos un vector en un plano podemos describirlo definiendo sus cordenadas respecto a unos ejes $x$ e $y$. La gracia está en que estos ejes podemos elegirlos como queramos (siempre que sean independientes). Sin embargo, una vez fijados unos ejes, cualquier nuevo par de ejes que introduzcamos (cualquier nueva base) está definido a partir de los primeros.\n"
   ]
  },
  {
   "cell_type": "markdown",
   "id": "dff0715f",
   "metadata": {},
   "source": [
    "::::::{admonition} Nota (Mas sobre el espín) \n",
    ":class: note\n",
    "\n",
    "\n",
    "\n",
    "Como comentamos en una nota anterior, los autoestado  $\\ket{z_+}$ y $\\ket{z_-}$ de la matriz $\\sigma_z$\n",
    "corresponden a las proyecciones $1/2$ y $-1/2$ del espín sobre el eje $z$. Cabe preguntarnos, porque\n",
    "es tan común medir las proyecciones sobre este eje? En realidad, es simplemente por convenio y\n",
    "por la arbitraridad a la hora de elegir la dirección de este eje. Simplemente, se mide la\n",
    "proyección del espín sobre un eje cualquiera y se considera que este es el eje $z$. Como ahora\n",
    "tenemos definido uno de los ejes, si medimos en otro eje diferente, esta nueva medida  ya no podrá\n",
    "ser la proyección sobre el eje $z$.\n",
    "::::::\n"
   ]
  },
  {
   "cell_type": "markdown",
   "id": "2de1b818",
   "metadata": {},
   "source": [
    "La base que se usa habitualmente en computación cuántica se denomina <b>base computacional</b> y se denota como $B = \\{ \\ket{0}, \\ket{1} \\}$. Podemos ver la clara analogía con los bits. Esta base es <b>ortonormal</b>, es decir\n",
    "\\begin{equation}\n",
    "\\braket{0}{1}=\\braket{1}{0}=0 ~~~ \\text{y} ~~~ \\braket{0}{0}=\\braket{1}{1}=1\\, .\n",
    "\\end{equation}\n"
   ]
  },
  {
   "cell_type": "markdown",
   "id": "5c1b6ea9",
   "metadata": {},
   "source": [
    "Una manera de especificar una base es decir cuál es el operador que diagonaliza. A la base computacional se la suele denominar habitualmente como <b>base $Z$</b>, pues es la base que diagonaliza la matriz de Pauli $\\sigma_z$\n",
    "\\begin{equation}\n",
    "\\begin{aligned}\n",
    "& \\ket{z_+} = \\ket{0}_Z \\equiv \\boxed{\\ket{0} = \\begin{bmatrix}  1\\\\ 0\\end{bmatrix}},\n",
    "& \\ket{z_-} = \\ket{1}_Z \\equiv \\boxed{\\ket{1} =  \\begin{bmatrix}  0\\\\ 1\\end{bmatrix}}\n",
    "\\end{aligned}\n",
    "\\end{equation}\n",
    "Es decir, esta base la forman los autoestados del operador $Z = \\sigma_z = \\lp \\begin{matrix} 1& 0 \\\\ 0 & -1 \\end{matrix} \\rp $ con autovalores $\\pm 1$.\n"
   ]
  },
  {
   "cell_type": "markdown",
   "id": "005a7f69",
   "metadata": {},
   "source": [
    "### Base $X$\n"
   ]
  },
  {
   "cell_type": "markdown",
   "id": "ebdede3d",
   "metadata": {},
   "source": [
    "También podemos usar la base de autoestados del operador $X = \\sigma_x = \\lp \\begin{matrix} 0 & 1 \\\\ 1 & 0 \\end{matrix} \\rp $ con autovalores $\\pm 1$:\n",
    "```{math}\n",
    ":label: ec_qubit_x+ \n",
    "\\begin{equation} \n",
    "\\begin{split}\n",
    "& \\ket{x_+} = \\ket{0}_X \\equiv \\boxed{\\ket{+} = \\frac{1}{\\sqrt{2}} \\lp \\ket{0} + \\ket{1} \\rp = \\frac{1}{\\sqrt{2}} \\begin{bmatrix}  1 \\\\ 1  \\end{bmatrix}}, \\\\\n",
    "& \\ket{x_-} = \\ket{1}_X \\equiv \\boxed{\\ket{-} =  \\frac{1}{\\sqrt{2}} \\lp \\ket{0} - \\ket{1} \\rp = \\frac{1}{\\sqrt{2}} \\begin{bmatrix}  1 \\\\ -1  \\end{bmatrix}}.\n",
    "\\end{split}\n",
    "\\end{equation} \n",
    "```\n"
   ]
  },
  {
   "cell_type": "markdown",
   "id": "04bde818",
   "metadata": {},
   "source": [
    "### Base $Y$\n"
   ]
  },
  {
   "cell_type": "markdown",
   "id": "1086ee6c",
   "metadata": {},
   "source": [
    "También podemos usar la base de autoestados del operador $Y = \\sigma_y = \\lp \\begin{matrix} 0 & -i \\\\ i & 0 \\end{matrix} \\rp $ con autovalores $\\pm 1$:\n",
    "```{math}\n",
    ":label: ec_qubit_y+ \n",
    "\\begin{equation} \n",
    "\\begin{split}\n",
    "& \\ket{y_+} = \\ket{0}_Y \\equiv \\boxed{\\ket{+i} = \\frac{1}{\\sqrt{2}} \\lp \\ket{0} + i \\ket{1} \\rp = \\frac{1}{\\sqrt{2}} \\begin{bmatrix}  1 \\\\ i  \\end{bmatrix}},  \\\\\n",
    "& \\ket{y_-} = \\ket{1}_Y \\equiv \\boxed{\\ket{-i} =  \\frac{1}{\\sqrt{2}} \\lp \\ket{0} - i \\ket{1} \\rp = \\frac{1}{\\sqrt{2}} \\begin{bmatrix}  1 \\\\ -i  \\end{bmatrix}}.\n",
    "\\end{split}\n",
    "\\end{equation} \n",
    "```\n"
   ]
  },
  {
   "cell_type": "markdown",
   "id": "cccc74b8",
   "metadata": {},
   "source": [
    "::::::{admonition} Ejercicio\n",
    ":class: tip\n",
    "\n",
    "\n",
    "Escribe las matrices de cambio de la base $Z\\to X$, $Z\\to Y$ y $X\\to Y$.\n",
    "::::::\n",
    "\n",
    "\n"
   ]
  },
  {
   "cell_type": "markdown",
   "id": "8534e04c",
   "metadata": {},
   "source": [
    "::::{figure} https://quantumspain-project.es/wp-content/uploads/2022/11/Logo_QS_EspanaDigital.png\n",
    ":width: 2000px\n",
    ":align: center\n",
    "::::\n",
    "\n",
    "<center>\n",
    "<img align=\"left\" src=\"https://quantumspain-project.es/wp-content/uploads/2024/02/Banner-QS_GOB_v2.png\" width=\"1000px\" />\n",
    "</center>"
   ]
  }
 ],
 "metadata": {
  "kernelspec": {
   "display_name": "Python 3 (ipykernel)",
   "language": "python",
   "name": "python3"
  },
  "language_info": {
   "codemirror_mode": {
    "name": "ipython",
    "version": 3
   },
   "file_extension": ".py",
   "mimetype": "text/x-python",
   "name": "python",
   "nbconvert_exporter": "python",
   "pygments_lexer": "ipython3",
   "version": "3.11.7"
  },
  "toc": {
   "base_numbering": 1,
   "nav_menu": {},
   "number_sections": false,
   "sideBar": true,
   "skip_h1_title": true,
   "title_cell": "Table of Contents",
   "title_sidebar": "Contents",
   "toc_cell": false,
   "toc_position": {},
   "toc_section_display": true,
   "toc_window_display": false
  }
 },
 "nbformat": 4,
 "nbformat_minor": 5
}