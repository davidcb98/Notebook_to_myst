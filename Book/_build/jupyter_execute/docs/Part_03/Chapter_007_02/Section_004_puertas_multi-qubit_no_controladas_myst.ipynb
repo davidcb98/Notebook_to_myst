{
 "cells": [
  {
   "cell_type": "markdown",
   "id": "8ddaeb38",
   "metadata": {},
   "source": [
    "> {sub-ref}`today` | {sub-ref}`wordcount-minutes` min read\n",
    "\n",
    "::::{figure} Figuras/Fig_logo_UMA_scbi.png\n",
    ":width: 2000px\n",
    ":align: center\n",
    "::::\n",
    "\n",
    "$ \\newcommand{\\bra}[1]{\\langle #1|} $\n",
    "$ \\newcommand{\\ket}[1]{|#1\\rangle} $\n",
    "$ \\newcommand{\\branew}[1]{\\langle #1|} $\n",
    "$ \\newcommand{\\ketnew}[1]{\\langle #1|} $\n",
    "$ \\newcommand{\\braket}[2]{\\langle #1|#2\\rangle} $\n",
    "$ \\newcommand{\\ketbra}[2]{| #1\\rangle \\langle #2 |} $\n",
    "$ \\newcommand{\\i}{{\\color{blue} i}} $ \n",
    "$ \\newcommand{\\Hil}{{\\cal H}} $\n",
    "$ \\newcommand{\\cg}[1]{{\\rm C}#1} $\n",
    "$ \\newcommand{\\lp}{\\left(} $\n",
    "$ \\newcommand{\\rp}{\\right)} $\n",
    "$ \\newcommand{\\lc}{\\left[} $\n",
    "$ \\newcommand{\\rc}{\\right]} $\n",
    "$ \\newcommand{\\lch}{\\left\\{} $\n",
    "$ \\newcommand{\\rch}{\\right\\}} $\n",
    "$ \\newcommand{\\Lp}{\\Bigl(} $\n",
    "$ \\newcommand{\\Rp}{\\Bigr)} $\n",
    "$ \\newcommand{\\Lc}{\\Bigl[} $\n",
    "$ \\newcommand{\\Rc}{\\Bigr]} $\n",
    "$ \\newcommand{\\Lch}{\\Bigl\\{} $\n",
    "$ \\newcommand{\\Rch}{\\Bigr\\}} $\n",
    "$ \\newcommand{\\rqa}{\\quad \\Rightarrow \\quad} $\n",
    "$ \\newcommand{\\bm}{\\boldsymbol}$"
   ]
  },
  {
   "cell_type": "markdown",
   "id": "080fe82e",
   "metadata": {},
   "source": [
    "# Puertas (multi-qubit) no controladas\n"
   ]
  },
  {
   "cell_type": "markdown",
   "id": "ac727de8",
   "metadata": {},
   "source": [
    "Vamos a ahora las puertas multi-qúbit más famosas.\n"
   ]
  },
  {
   "cell_type": "markdown",
   "id": "dfc20f4e",
   "metadata": {},
   "source": [
    "## Walsh-Hadamard\n"
   ]
  },
  {
   "cell_type": "markdown",
   "id": "272a9b20",
   "metadata": {},
   "source": [
    "El operador de Walsh-Hadammard es el producto tensorial de operadores de Hadammard\n",
    "\\begin{equation}\n",
    "W = H^{\\otimes n} = H\\otimes H \\ldots \\otimes H\n",
    "\\end{equation}\n",
    "La  acción  de $H^{\\otimes n}$ sobre el estado de referencia $\\ket{00...0}$ produce una <b>superposición uniforme</b> de todos los estados de la base.\n",
    "\\begin{align*}\n",
    "W \\ket{00...0} &= H\\ket{0}\\otimes H\\ket{0} \\otimes ... \\otimes H\\ket{0} \\\\  \\rule{0mm}{8mm}\n",
    "& = \\frac{1}{\\sqrt{2}}\\big(\\ket{0}+\\ket{1}\\big)\\otimes \\frac{1}{\\sqrt{2}}\\big(\\ket{0}+\\ket{1}\\big)\\otimes ...\\otimes \\frac{1}{\\sqrt{2}}\\big(\\ket{0}+\\ket{1}\\big)\\\\ \\rule{0mm}{8mm}\n",
    "&= \\frac{1}{2^{n/2}}\\big(\\ket{00...00} + \\ket{00...01}+....+\\ket{11...11} \\big)\n",
    "\\end{align*}\n"
   ]
  },
  {
   "cell_type": "markdown",
   "id": "93ee0d9f",
   "metadata": {},
   "source": [
    "Vemos que esta puerta es factorizable. Podemos ver en la segunda línea de la ecuación anterior que, efectivamente, al partir de un estado factorizable seguimos teniendo un estado factorizable después de aplicar la Walsh-Hadammard.\n"
   ]
  },
  {
   "cell_type": "markdown",
   "id": "2927a4c9",
   "metadata": {},
   "source": [
    "Es muy común que al principio de un circuito cuántico se aplique una Walsh-Hadammad a la mayoría de qúbits para generar la superposición uniforme (recordemos que en computación cuántica ser parte teniendo todos los qúbits en el estado $\\ket{0}$, es decir, del estado $\\ket{0\\dots00}$).\n"
   ]
  },
  {
   "cell_type": "markdown",
   "id": "7f2d5c54",
   "metadata": {},
   "source": [
    "Para ver la acción de de $H^\\otimes$ sobre un estado multiqúbit es necesario recordar la Ec.  {eq}`%s <ec_puertas_simples_H_sobre_1_qubit>` (la acción de $H$ sobre un qúbit). Tenemos pues\n",
    "\\begin{align*}\n",
    "H^{\\otimes n} \\ket{x} & = H\\ket{x_{n-1}}\\otimes H\\ket{x_{n-2}}\\otimes \\ldots \\otimes H\\ket{x_0} \\\\  \\rule{0mm}{5mm}\n",
    "& = \\sum_{y_{n-1}= \\, 0,1} (-1)^{y_{n-1}x_{n-1}}\\ket{y_{n-1}}\\otimes \\sum_{y_{n-2}=0,1} (-1)^{y_{n-2}x_{n-2}}\\ket{y_{n-2}} \\otimes \\ldots \\otimes  \\sum_{y_{0}\\, =\\, 0,1} (-1)^{y_{0}x_{0}}\\ket{y_{0}} \\\\  \\rule{0mm}{5mm}\n",
    "& = \\sum_{y_{n-1}, y_{n-2},\\ldots, y_{0}=\\, 0,1} (-1)^{x_{n-1} y_{n-1}+ \\ldots + x_0 y_0} \\ket{y_{n-1}\\ldots y_0}\n",
    "\\end{align*}\n",
    "es decir,\n",
    "```{math}\n",
    ":label: ec_multiqubit_Walsh_H_sobre_x \n",
    "\\begin{equation} \n",
    "\\boxed{H^{\\otimes n} \\ket{x} = \\frac{1}{\\sqrt{2^n}} \\sum_{y \\, =\\, 0}^{2^n-1}(-1)^{x\\cdot y} \\ket{y}} ~~ \\text{ donde } \\boxed{x\\cdot y = x_{n-1} y_{n-1} \\oplus x_{n-1} y_{n-1} \\oplus \\ldots \\oplus x_0 y_0}.\n",
    "\\end{equation} \n",
    "```\n",
    "Para el caso particular en que lo aplicamos sobre el estado $\\ket{0\\ldots00}$, tenemos\n",
    "```{math}\n",
    ":label: ec_multiqubit_Walsh_H_sobre_0 \n",
    "\\begin{equation} \n",
    "\\boxed{|\\Psi_0 \\rangle = H^{\\otimes n} |0 \\rangle^{n} = \\frac{1}{\\sqrt{N}}  \\sum_{i=0}^{N=2^n} | i \\rangle}.\n",
    "\\end{equation} \n",
    "```\n",
    "Si nos fijamos, estamos haciendo $n$ operaciones y con ello estamos inicializando $2^n$ estados. Esta acción exponencialmente rápida es consecuencia de la superposición. No confundir superposión y entrelazamiento, son cosas diferentes. Aquí <i>no tenemos entrelazamiento</i>.\n"
   ]
  },
  {
   "cell_type": "markdown",
   "id": "078c71f4",
   "metadata": {},
   "source": [
    "## SWAP\n"
   ]
  },
  {
   "cell_type": "markdown",
   "id": "1349a526",
   "metadata": {},
   "source": [
    "La puerta SWAP es una puerta binaria fundamental (no factorizable), cuya acción consiste en permutar los estados existentes en los registros individuales sobre los que actúa. En particular, sobre los elementos de la base\n",
    "\\begin{equation}\n",
    "\\boxed{U_{\\rm SWAP }: \\ket{00}\\to\\ket{00}~~,~~\\ket{01}\\to\\ket{10}~~,~~\\ket{10}\\to\\ket{01}~~,~~ \\ket{11}\\to\\ket{11} }\n",
    "\\end{equation}\n",
    "Esto nos permite escribir el operador en la notación de producto exterior y posteriormente como matriz\n",
    "\\begin{equation}\n",
    "U_{\\rm SWAP } = \\ket{00}\\bra{00} + \\ket{01}\\bra{10} + \\ket{10}\\bra{01} +\\ket{11}\\bra{11}  \\rqa\n",
    "U_{\\rm SWAP} = \\lp \\begin{matrix} 1 & 0 & 0 & 0 \\\\ 0 & 0 & 1 & 0 \\\\ 0 & 1 & 0 & 0 \\\\ 0 & 0 & 0 & 1 \\end{matrix} \\rp\n",
    "\\end{equation}\n",
    "Podemos ver la representación gráfica asociada al operador SWAP en la Fíg.  {numref}`%s <Fig_multiqubit_SWAP_gate>`.\n"
   ]
  },
  {
   "cell_type": "markdown",
   "id": "2e371e9f",
   "metadata": {},
   "source": [
    "::::{figure} Figuras/Fig_multiqubit_SWAP_gate.png\n",
    ":width: 230px\n",
    ":align: center\n",
    ":name: Fig_multiqubit_SWAP_gate\n",
    "Puerta SWAP\n",
    "::::\n"
   ]
  },
  {
   "cell_type": "markdown",
   "id": "8534e04c",
   "metadata": {},
   "source": [
    "::::{figure} https://quantumspain-project.es/wp-content/uploads/2022/11/Logo_QS_EspanaDigital.png\n",
    ":width: 2000px\n",
    ":align: center\n",
    "::::\n",
    "\n",
    "<center>\n",
    "<img align=\"left\" src=\"https://quantumspain-project.es/wp-content/uploads/2024/02/Banner-QS_GOB_v2.png\" width=\"1000px\" />\n",
    "</center>"
   ]
  }
 ],
 "metadata": {
  "kernelspec": {
   "display_name": "Python 3 (ipykernel)",
   "language": "python",
   "name": "python3"
  },
  "language_info": {
   "codemirror_mode": {
    "name": "ipython",
    "version": 3
   },
   "file_extension": ".py",
   "mimetype": "text/x-python",
   "name": "python",
   "nbconvert_exporter": "python",
   "pygments_lexer": "ipython3",
   "version": "3.11.7"
  },
  "toc": {
   "base_numbering": 1,
   "nav_menu": {},
   "number_sections": false,
   "sideBar": true,
   "skip_h1_title": true,
   "title_cell": "Table of Contents",
   "title_sidebar": "Contents",
   "toc_cell": false,
   "toc_position": {},
   "toc_section_display": true,
   "toc_window_display": false
  }
 },
 "nbformat": 4,
 "nbformat_minor": 5
}