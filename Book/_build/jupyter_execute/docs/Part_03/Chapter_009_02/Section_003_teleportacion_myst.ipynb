{
 "cells": [
  {
   "cell_type": "markdown",
   "id": "8ddaeb38",
   "metadata": {},
   "source": [
    "> {sub-ref}`today` | {sub-ref}`wordcount-minutes` min read\n",
    "\n",
    "::::{figure} Figuras/Fig_logo_UMA_scbi.png\n",
    ":width: 2000px\n",
    ":align: center\n",
    "::::\n",
    "\n",
    "$ \\newcommand{\\bra}[1]{\\langle #1|} $\n",
    "$ \\newcommand{\\ket}[1]{|#1\\rangle} $\n",
    "$ \\newcommand{\\branew}[1]{\\langle #1|} $\n",
    "$ \\newcommand{\\ketnew}[1]{\\langle #1|} $\n",
    "$ \\newcommand{\\braket}[2]{\\langle #1|#2\\rangle} $\n",
    "$ \\newcommand{\\ketbra}[2]{| #1\\rangle \\langle #2 |} $\n",
    "$ \\newcommand{\\i}{{\\color{blue} i}} $ \n",
    "$ \\newcommand{\\Hil}{{\\cal H}} $\n",
    "$ \\newcommand{\\cg}[1]{{\\rm C}#1} $\n",
    "$ \\newcommand{\\lp}{\\left(} $\n",
    "$ \\newcommand{\\rp}{\\right)} $\n",
    "$ \\newcommand{\\lc}{\\left[} $\n",
    "$ \\newcommand{\\rc}{\\right]} $\n",
    "$ \\newcommand{\\lch}{\\left\\{} $\n",
    "$ \\newcommand{\\rch}{\\right\\}} $\n",
    "$ \\newcommand{\\Lp}{\\Bigl(} $\n",
    "$ \\newcommand{\\Rp}{\\Bigr)} $\n",
    "$ \\newcommand{\\Lc}{\\Bigl[} $\n",
    "$ \\newcommand{\\Rc}{\\Bigr]} $\n",
    "$ \\newcommand{\\Lch}{\\Bigl\\{} $\n",
    "$ \\newcommand{\\Rch}{\\Bigr\\}} $\n",
    "$ \\newcommand{\\rqa}{\\quad \\Rightarrow \\quad} $\n",
    "$ \\newcommand{\\bm}{\\boldsymbol}$"
   ]
  },
  {
   "cell_type": "markdown",
   "id": "080fe82e",
   "metadata": {},
   "source": [
    "# Teleportación\n"
   ]
  },
  {
   "cell_type": "markdown",
   "id": "87100524",
   "metadata": {},
   "source": [
    "El entrelazamiento conlleva un tipo  nuevo de correlación que acaba constituyendo un recurso importante.  Podemos usar esta correlación para <b>teleportar</b> estados. Lo primero que debemos entender es que cuando hablamos de \"teleportar\" estamos hablando de <b>teloportar un estado cuántica</b>. Es decir, no estamos teleportando un partícula, sino que estamos aprovechando el entrelazamiento para transferir el estado de una partícula a otra. Como las partículas de la misma clase (como los electrones) son indistinguibles, si conseguimos teleportar  el estado de una partícula a otra, a efectos prácticos es como si teleportaramos la partícula en si.\n"
   ]
  },
  {
   "cell_type": "markdown",
   "id": "963887e5",
   "metadata": {},
   "source": [
    "Supongamos que Alice y Bob tiene dos qúbits que se encuentran en el estado entrelazado $\\ket{B_{00}}$.  Alice tiene, un segundo qúbit inicializado en un estado arbitrario $\\ket{\\phi}$, y se plantea la posibilidad de transferirlo o clonarlo en el laboratorio de Bob. El circuito de la Fig.  {numref}`%s <Fig_entrelazamiento_teleportacion>` permite efectuar esa tarea\n"
   ]
  },
  {
   "cell_type": "markdown",
   "id": "fcd955ec",
   "metadata": {},
   "source": [
    "::::{figure} Figuras/Fig_entrelazamiento_teleportacion.png\n",
    ":width: 450px\n",
    ":align: center\n",
    ":name: Fig_entrelazamiento_teleportacion\n",
    "Circuito del protocolo de teleportación.\n",
    "::::\n"
   ]
  },
  {
   "cell_type": "markdown",
   "id": "1a007063",
   "metadata": {},
   "source": [
    "\n",
    " \n",
    "1. El estado inicial es\n",
    "    \\begin{equation}\n",
    "    \\ket{\\phi} \\ket{B_{00}} =  \\ket{\\phi}\\otimes \\frac{1}{\\sqrt{2}}\\left(\\ket{0}\\otimes \\ket{0} + \\ket{1}\\otimes\\ket{1}\\rule{0mm}{4mm}\\right)\\, .\n",
    "    \\end{equation}\n",
    "    Alice tiene acceso a los dos primeros qubits y Bob al tercero. El estado que queremos teleportar es $\\ket{\\phi}$. De forma genérica, este estado será de la forma\n",
    "    \\begin{equation}\n",
    "    \\ket{\\phi} = a \\ket{0} + b \\ket{1}\n",
    "    \\end{equation}\n",
    " \n",
    "2. Alice realiza una  <i>medida de Bell</i> a sus dos qúbits.\n",
    "    Ello  implica un desentrelazador $U_{\\rm desent}= (H \\otimes I)\\cdot U_{\\rm CNOT}.~$\n",
    "    Un cálculo sencillo  da el resultado\n",
    "    \\begin{align*}\n",
    "    (H \\otimes I\\otimes I)(U_{\\rm CNOT}\\otimes I)\\, \\ket{\\phi}\\ket{B_{00}}  = &  \\frac{1}{2}\n",
    "    \\Lc \\rule{0mm}{3mm} \\ket{00}(a\\ket{0} + b\\ket{1}) + \\ket{01}(a\\ket{1}+ b\\ket{0}) \\R. \\\\\n",
    "    \\rule{0mm}{6mm}\n",
    "    &\\L.  \\rule{0mm}{3mm}+ ~\\ket{10}(a\\ket{0}-b\\ket{1}) + \\ket{11}(a\\ket{1}-b\\ket{0}) \\Rc\n",
    "    \\end{align*}\n",
    "    Podemos ver que al estar entrelazados, las operaciones sobre los qúbit de Alice afectan al estado del qúbit de Bob.\n",
    " \n",
    "3. Alice mide el estado que obra en su poder, y obtiene un 2-bit  clásico, $xy$ de manera equiprobable para las 4 posibilidades. De forma correlacionada, el qúbit de Bob colapsa a uno de los 4 estados $\\ket{\\varphi_{xy}},$ pero no sabe a cuál.\n",
    " \n",
    "4. Alice envía el resultado de su medida $xy$ por un canal clásico a Bob.\n",
    " \n",
    "5. Bob efectúa sobre su qúbit, una operación controlada por este 2-bit, $U_{xy} =  X^y Z^x $.\n",
    "    \\begin{equation}\n",
    "    xy ~=~ \\left\\{ \\begin{array}{c} 00 \\\\ 01 \\\\ 10 \\\\ 11 \\end{array} \\right\\}~~ \\Longrightarrow\n",
    "    ~~~ X^y Z^x \\ket{\\varphi_{xy}} ~=~ \\left\\{  \\begin{array}{rl}    I :& (a\\ket{0} + b\\ket{1})  \\\\    X: & (a\\ket{1} + b\\ket{0})  \\\\  Z:& (a\\ket{0} - b\\ket{1})\n",
    "    \\\\  XZ = -iY:&   (a\\ket{1} - b\\ket{0}) \\\\\n",
    "    \\end{array} \\right. ~~ \\longrightarrow  ~~ a \\ket{0} + b\\ket{1}\\,  = \\, \\ket{\\phi}\n",
    "    \\end{equation}\n",
    "    Como resultado de esta operación, el qúbit de Bob es finalmente $\\ket{\\phi}$.\n",
    "\n"
   ]
  },
  {
   "cell_type": "markdown",
   "id": "506c0b46",
   "metadata": {},
   "source": [
    "::::::{admonition} Ejercicio\n",
    ":class: tip\n",
    "\n",
    "\n",
    "Calcula $(H \\otimes I\\otimes I)(U_{\\rm CNOT}\\otimes I)\\, \\ket{\\phi}\\ket{B_{00}}$ y verifica que la ecuación del paso 2 es correcta.\n",
    "::::::\n",
    "\n",
    "\n"
   ]
  },
  {
   "cell_type": "markdown",
   "id": "03f55535",
   "metadata": {},
   "source": [
    "::::::{admonition} Jupyter Notebook (05-Entrelazamiento sección 3) \n",
    ":class: attention\n",
    "\n",
    "\n",
    "\n",
    "Ver la sección 3 del notebook <b>05-Entrelazamiento</b>.\n",
    "::::::\n"
   ]
  },
  {
   "cell_type": "markdown",
   "id": "72aada81",
   "metadata": {},
   "source": [
    "El siguiente ejercicio ilustra el principio de la medida diferida.\n"
   ]
  },
  {
   "cell_type": "markdown",
   "id": "d4b5a841",
   "metadata": {},
   "source": [
    "::::::{admonition} Ejercicio\n",
    ":class: tip\n",
    "\n",
    "\n",
    "Modifica y ejecuta  el circuito de teleportación de dos formas distintas\n",
    "\n",
    "\n",
    "a) sustituyendo los controles clásicos por controles cuánticos\n",
    "\n",
    "b) permutando el orden de los controles y los aparatos de medida\n",
    "\n",
    "Discute la sutileza que distingue estas posibilidades.\n",
    "::::::\n",
    "\n",
    "\n"
   ]
  },
  {
   "cell_type": "markdown",
   "id": "3635bf73",
   "metadata": {},
   "source": [
    "::::::{admonition} Ejercicio\n",
    ":class: tip\n",
    "\n",
    "\n",
    "Cambia el estado que comparten Alice y Bob por $\\ket{B_{11}}$ y modifica el circuito para que teleporte igualmente.\n",
    "::::::\n",
    "\n",
    "\n"
   ]
  },
  {
   "cell_type": "markdown",
   "id": "64471bae",
   "metadata": {},
   "source": [
    "::::::{admonition} Nota (causalidad y clonación.) \n",
    ":class: note\n",
    "\n",
    "\n",
    "\n",
    "El protocolo de teleportación parece poner en riesgo conceptos fundamentales. Sin embargo,\n",
    "no es así:\n",
    "\n",
    "\n",
    "- <b>No clonación</b>:\n",
    "\n",
    "    El protocolo tiene como ingrediente esencial la medida y, por tanto, la\n",
    "    destrucción del estado de Alice. Como consecuencia, el estado ha sido teleportado\n",
    "    pero no clonado.  De no ser así, entraríamos en conflicto con el\n",
    "    <b>Teorema de No Clonación</b>\n",
    "\n",
    "\n",
    "- <b>Causalidad</b>:\n",
    "\n",
    "    El protocolo de teleportación <b>no viola causalidad</b>. Es necesario mandar\n",
    "    una información clásica (como muy rápido a la velocidad de la luz) para resolver la\n",
    "    ambigüedad que le queda a Bob. Esta parte es la que hace que la teleportación no sea\n",
    "    un proceso instantáneo de acción a distancia.\n",
    "\n",
    "\n",
    "::::::\n"
   ]
  },
  {
   "cell_type": "markdown",
   "id": "8534e04c",
   "metadata": {},
   "source": [
    "::::{figure} https://quantumspain-project.es/wp-content/uploads/2022/11/Logo_QS_EspanaDigital.png\n",
    ":width: 2000px\n",
    ":align: center\n",
    "::::\n",
    "\n",
    "<center>\n",
    "<img align=\"left\" src=\"https://quantumspain-project.es/wp-content/uploads/2024/02/Banner-QS_GOB_v2.png\" width=\"1000px\" />\n",
    "</center>"
   ]
  }
 ],
 "metadata": {
  "kernelspec": {
   "display_name": "Python 3 (ipykernel)",
   "language": "python",
   "name": "python3"
  },
  "language_info": {
   "codemirror_mode": {
    "name": "ipython",
    "version": 3
   },
   "file_extension": ".py",
   "mimetype": "text/x-python",
   "name": "python",
   "nbconvert_exporter": "python",
   "pygments_lexer": "ipython3",
   "version": "3.11.7"
  },
  "toc": {
   "base_numbering": 1,
   "nav_menu": {},
   "number_sections": false,
   "sideBar": true,
   "skip_h1_title": true,
   "title_cell": "Table of Contents",
   "title_sidebar": "Contents",
   "toc_cell": false,
   "toc_position": {},
   "toc_section_display": true,
   "toc_window_display": false
  }
 },
 "nbformat": 4,
 "nbformat_minor": 5
}