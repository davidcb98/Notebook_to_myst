{
 "cells": [
  {
   "cell_type": "markdown",
   "id": "8ddaeb38",
   "metadata": {},
   "source": [
    "> {sub-ref}`today` | {sub-ref}`wordcount-minutes` min read\n",
    "\n",
    "::::{figure} Figuras/Fig_logo_UMA_scbi.png\n",
    ":width: 2000px\n",
    ":align: center\n",
    "::::\n",
    "\n",
    "$ \\newcommand{\\bra}[1]{\\langle #1|} $\n",
    "$ \\newcommand{\\ket}[1]{|#1\\rangle} $\n",
    "$ \\newcommand{\\branew}[1]{\\langle #1|} $\n",
    "$ \\newcommand{\\ketnew}[1]{\\langle #1|} $\n",
    "$ \\newcommand{\\braket}[2]{\\langle #1|#2\\rangle} $\n",
    "$ \\newcommand{\\ketbra}[2]{| #1\\rangle \\langle #2 |} $\n",
    "$ \\newcommand{\\i}{{\\color{blue} i}} $ \n",
    "$ \\newcommand{\\Hil}{{\\cal H}} $\n",
    "$ \\newcommand{\\cg}[1]{{\\rm C}#1} $\n",
    "$ \\newcommand{\\lp}{\\left(} $\n",
    "$ \\newcommand{\\rp}{\\right)} $\n",
    "$ \\newcommand{\\lc}{\\left[} $\n",
    "$ \\newcommand{\\rc}{\\right]} $\n",
    "$ \\newcommand{\\lch}{\\left\\{} $\n",
    "$ \\newcommand{\\rch}{\\right\\}} $\n",
    "$ \\newcommand{\\Lp}{\\Bigl(} $\n",
    "$ \\newcommand{\\Rp}{\\Bigr)} $\n",
    "$ \\newcommand{\\Lc}{\\Bigl[} $\n",
    "$ \\newcommand{\\Rc}{\\Bigr]} $\n",
    "$ \\newcommand{\\Lch}{\\Bigl\\{} $\n",
    "$ \\newcommand{\\Rch}{\\Bigr\\}} $\n",
    "$ \\newcommand{\\rqa}{\\quad \\Rightarrow \\quad} $\n",
    "$ \\newcommand{\\bm}{\\boldsymbol}$"
   ]
  },
  {
   "cell_type": "markdown",
   "id": "080fe82e",
   "metadata": {},
   "source": [
    "# Experimento GHZ\n"
   ]
  },
  {
   "cell_type": "markdown",
   "id": "b8648c31",
   "metadata": {},
   "source": [
    "Las desigualdades de Bell-CHCS demuestran que hay una manera de distinguir una teoría con  realismo local de una en la que este postulado no  exista. Lo hacen de una forma estadística: es necesario tormar ciertas medias de datos sobre estados de 2-cúbits, los  estados de Bell. Vamos a ver ahora una forma alternativa de llegar a la misma conclusión, pero esta vez de una forma <b>determinista</b>, no probabilística.\n"
   ]
  },
  {
   "cell_type": "markdown",
   "id": "25958f60",
   "metadata": {},
   "source": [
    "Supongamos un sistema, compuesto de  tres subsistemas, $A, B$ y $C$. En cada uno de ellos hay dos <b>magnitudes</b> observables, $X$ e $Y$, que al ser medidas adquieren valores binarios $x, y = \\pm 1$. Pretendemos saber si existe un estado del sistema tal que, con el resultado  de  medidas simultáneas $X$ o $Y$ de cada una de sus partes $A,B$ y $C$ , se obtengan resultados $x$ e $y$ que verifiquen las siguientes ecuaciones:\n"
   ]
  },
  {
   "cell_type": "markdown",
   "id": "81bbdd87",
   "metadata": {},
   "source": [
    "\\begin{equation}\n",
    "\\begin{array}{ccc}\n",
    "{\\rm medimos} & & \\hbox{obtenemos} ~ x,y ~~ \\hbox{tales que} \\\\\n",
    "XYY ~~~~~ &\\to& ~xyy =~~~ 1\\nonumber\\\\\n",
    "YXY ~~~~~ &\\to& ~yxy =~~~ 1 \\\\\n",
    "YYX ~~~~~ &\\to& ~yyx =~~~ 1\\nonumber\\\\\n",
    "XXX ~~~~~ &\\to& ~xxx = -1\\nonumber\n",
    "\\end{array}\n",
    "\\end{equation}\n"
   ]
  },
  {
   "cell_type": "markdown",
   "id": "28b0a85e",
   "metadata": {},
   "source": [
    "Si la teoría satisface los axiomas de realismo local,  los valores de $X$ es $Y$ estarán bien definidos independientemente de la medida que efectuemos. Dicho de otra forma, las medidas que efectuamos son compatibles y no afectan a los resultados posibles. Entonces podemos utilizar conclusiones que extraigamos de los resultados de un experimento para los de otro (notar que se supone que el estado es el mismo en todos los casos)\n",
    "\n",
    " \n",
    "- Las tres primeras afirman que $x=1$ puesto que $y^2=1$.\n",
    " \n",
    "- La última afirma que $x=-1$\n",
    "\n",
    "vemos que hay una contradicción. Concluímos que las medidas efectuadas <b>no son compatibles entre sí</b>. Como vemos, la paradoja existe en tanto en cuanto atribuyamos a las magnitudes $X$ e $Y$ una noción de realidad  independiente de la medición. Es decir, cuando pensamos desde la perspectiva del realismo local en la que los valores de $x$ e $y$ están predefinidos y el hecho de medir no los altera.\n"
   ]
  },
  {
   "cell_type": "markdown",
   "id": "0c3df0dc",
   "metadata": {},
   "source": [
    "Concluimos que para que se cumplan las 4 afirmaciones tenemos que aceptar que las variables $X$ e $Y$, no pueden tener valores predefinidos simultáneamente  en los cuatro experimentos. La pregunta ahora es, hay algún estado cuántico que si cumpla esas 4 condiciones? La respuesta es sí, el estado GHZ.\n"
   ]
  },
  {
   "cell_type": "markdown",
   "id": "c394112d",
   "metadata": {},
   "source": [
    "En 1997 Greenberger, Horne y Zeilinger estudiaron las propiedades de una serie de estados de 3-qúbits.   Consideremos el siguiente estado entrelazado\n",
    "```{math}\n",
    ":label: ec_medidad_GHZ \n",
    "\\begin{equation} \n",
    "\\ket{\\rm GHZ} = \\frac{1}{\\sqrt{2}}( \\ket{000} - \\ket{111} )\\, .\n",
    "\\end{equation} \n",
    "```\n",
    "Este estado se denomina <b>estado GHZ</b>. Cuánticamente es fácil ver que el estado GHZ proporciona una solución al conjunto de ecuaciones. Supongamos que  $x$ e $y$ son los resultados de aplicar $X = \\sigma_x$ y $Y = \\sigma_y$, los operadores hermíticos  usuales que miden la componente del espín\n",
    "\\begin{equation}\n",
    "X \\ket{0} = \\ket{1}\\, , ~ X \\ket{1} = \\ket{0}\\, , ~ Y \\ket{0} = i \\ket{1}\\, , ~ Y \\ket{1} = -i \\ket{0}\\, . ~\n",
    "\\end{equation}\n",
    "Por un lado,\n",
    "\\begin{equation}\n",
    "xyy\\ket{{\\rm GHZ}}  = X \\otimes Y\\otimes Y \\big(\\frac{1}{\\sqrt{2}}(\\ket{000}-\\ket{111}\\big) = \\frac{1}{\\sqrt{2}} \\big(i^2 \\ket{111}- (-i)^2\n",
    "\\ket{000}\\big) = +  \\ket{{\\rm GHZ}}\\, ,\n",
    "\\end{equation}\n",
    "y, análogamente, obtenemos $xyy=yxy=yyx= +1$. Por otro, $xxx=-1$ se sigue de\n",
    "\\begin{equation}\n",
    "xxx  \\ket{{\\rm GHZ}} =   X \\otimes X \\otimes X \\big(\\frac{1}{\\sqrt{2}}(\\ket{000}-\\ket{111}\\big) =\n",
    "\\frac{1}{\\sqrt{2}}(\\ket{111}-\\ket{000}) =  - \\ket{\\rm GHZ}\\, .\n",
    "\\end{equation}\n"
   ]
  },
  {
   "cell_type": "markdown",
   "id": "8195f8ff",
   "metadata": {},
   "source": [
    "Podemos ver en la Fig. \\ref{Fig_entrelazamiento_GHZ} el circuito que genera el estado GHZ de la Ec. (\\ref{ec_medidad_GHZ}).\n"
   ]
  },
  {
   "cell_type": "markdown",
   "id": "5954e463",
   "metadata": {},
   "source": [
    "::::{figure} Figuras/Fig_entrelazamiento_GHZ\n",
    ":width: 400px\n",
    ":align: center\n",
    ":name: Fig_entrelazamiento_GHZ\n",
    "Circuito que genera el estado GHZ de la Ec. (\\ref{ec_medidad_GHZ})\n",
    "::::\n"
   ]
  },
  {
   "cell_type": "markdown",
   "id": "918d6550",
   "metadata": {},
   "source": [
    "\\begin{mybox_orange}{Jypyter Notebook: 05-Entrelazamiento sección 2}\n",
    "Ver la sección 2 del notebook <b>05-Entrelazamiento</b>.\n",
    "\\end{mybox_orange}\n"
   ]
  },
  {
   "cell_type": "markdown",
   "id": "8534e04c",
   "metadata": {},
   "source": [
    "::::{figure} https://quantumspain-project.es/wp-content/uploads/2022/11/Logo_QS_EspanaDigital.png\n",
    ":width: 2000px\n",
    ":align: center\n",
    "::::\n",
    "\n",
    "<center>\n",
    "<img align=\"left\" src=\"https://quantumspain-project.es/wp-content/uploads/2024/02/Banner-QS_GOB_v2.png\" width=\"1000px\" />\n",
    "</center>"
   ]
  }
 ],
 "metadata": {
  "kernelspec": {
   "display_name": "Python 3 (ipykernel)",
   "language": "python",
   "name": "python3"
  },
  "language_info": {
   "codemirror_mode": {
    "name": "ipython",
    "version": 3
   },
   "file_extension": ".py",
   "mimetype": "text/x-python",
   "name": "python",
   "nbconvert_exporter": "python",
   "pygments_lexer": "ipython3",
   "version": "3.11.7"
  },
  "toc": {
   "base_numbering": 1,
   "nav_menu": {},
   "number_sections": false,
   "sideBar": true,
   "skip_h1_title": true,
   "title_cell": "Table of Contents",
   "title_sidebar": "Contents",
   "toc_cell": false,
   "toc_position": {},
   "toc_section_display": true,
   "toc_window_display": false
  }
 },
 "nbformat": 4,
 "nbformat_minor": 5
}