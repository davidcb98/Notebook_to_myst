{
 "cells": [
  {
   "cell_type": "markdown",
   "id": "8ddaeb38",
   "metadata": {},
   "source": [
    "> {sub-ref}`today` | {sub-ref}`wordcount-minutes` min read\n",
    "\n",
    "<img src=\"Figuras/Fig_logo_UMA_scbi.png\" align=center  width=\"2000px\"/>\n",
    "\n",
    "\n",
    "<a href=\"https://www.scbi.uma.es/web/es/computacion-cuantica/\">\n",
    "    <button class=\"rounded\" style=\"float: right;\">\n",
    "    <svg xmlns=\"http://www.w3.org/2000/svg\" width=\"32\" height=\"32\" viewBox=\"0 0 24 24\">\n",
    "        <path fill=\"var(--fill, white)\"\n",
    "        d=\"M18.1 15.3c-.1.1-.3.2-.4.3l-2.4.4l1.7 3.6c.2.4 0 .8-.4\n",
    "            1l-2.8 1.3c-.1.1-.2.1-.3.1c-.3 0-.6-.2-.7-.4L11.2\n",
    "            18l-1.9 1.5c-.1.1-.3.2-.5.2c-.4 0-.8-.3-.8-.8V7.5c0-.5.3-.8.8-.8c.2 0\n",
    "            .4.1.5.2l8.7 7.4c.3.2.4.7.1 1M6 12H4V4h16v8h-1.6l2.2 1.9c.8-.3 1.3-1\n",
    "            1.3-1.9V4c0-1.1-.9-2-2-2H4c-1.1 0-2 .9-2 2v8c0 1.1.9 2 2 2h2z\" />\n",
    "    </svg>\n",
    "    Volver a SCBI - Computación Cuantica\n",
    "    </button>\n",
    "</a>\n",
    "\n",
    "$ \\newcommand{\\bra}[1]{\\langle #1|} $\n",
    "$ \\newcommand{\\ket}[1]{|#1\\rangle} $\n",
    "$ \\newcommand{\\branew}[1]{\\langle #1|} $\n",
    "$ \\newcommand{\\ketnew}[1]{\\langle #1|} $\n",
    "$ \\newcommand{\\braket}[2]{\\langle #1|#2\\rangle} $\n",
    "$ \\newcommand{\\ketbra}[2]{| #1\\rangle \\langle #2 |} $\n",
    "$ \\newcommand{\\i}{{\\color{blue} i}} $ \n",
    "$ \\newcommand{\\Hil}{{\\cal H}} $\n",
    "$ \\newcommand{\\cg}[1]{{\\rm C}#1} $\n",
    "$ \\newcommand{\\lp}{\\left(} $\n",
    "$ \\newcommand{\\rp}{\\right)} $\n",
    "$ \\newcommand{\\lc}{\\left[} $\n",
    "$ \\newcommand{\\rc}{\\right]} $\n",
    "$ \\newcommand{\\lch}{\\left\\{} $\n",
    "$ \\newcommand{\\rch}{\\right\\}} $\n",
    "$ \\newcommand{\\Lp}{\\Bigl(} $\n",
    "$ \\newcommand{\\Rp}{\\Bigr)} $\n",
    "$ \\newcommand{\\Lc}{\\Bigl[} $\n",
    "$ \\newcommand{\\Rc}{\\Bigr]} $\n",
    "$ \\newcommand{\\Lch}{\\Bigl\\{} $\n",
    "$ \\newcommand{\\Rch}{\\Bigr\\}} $\n",
    "$ \\newcommand{\\rqa}{\\quad \\Rightarrow \\quad} $\n",
    "$ \\newcommand{\\bm}{\\boldsymbol}$"
   ]
  },
  {
   "cell_type": "markdown",
   "id": "080fe82e",
   "metadata": {},
   "source": [
    "# Medidas en bases generales\n"
   ]
  },
  {
   "cell_type": "markdown",
   "id": "546f3eb3",
   "metadata": {},
   "source": [
    "Vamos a suponer que queremos medir en una base ortonormal arbitraria $\\{\\ket{ x}'\\}$, $x=0,...,2^n-1$. Buscamos un circuito que, a la llegada de un vector  concreto de la base $\\ket{x}'=\\ket{a_{n-1}...a_0}'$, devuelva exactamente <b>la misma colección</b> de bits  $a_{n-1}...a_0$. Para ello, al igual que vimos en el caso de un qubit, debemos conocer el operador $U$ que relaciona esta base con la base computacional\n",
    "\\begin{equation}\n",
    "\\ket{ x}'= U\\ket{x}~~~~~~\\Longrightarrow ~~~~~~   U^\\dagger\\ket{x}' = \\ket{ x}  \\, .\n",
    "\\end{equation}\n",
    "Entonces es evidente que sólo tenemos que añadir el operador $U^\\dagger$ antes de usar el medidor estándar. Podemos ver esto en la Fig.  {numref}`%s <Fig_medidas2_Multimeter_basis>`.\n"
   ]
  },
  {
   "cell_type": "markdown",
   "id": "54c47e2d",
   "metadata": {},
   "source": [
    "::::{figure} Figuras/Fig_medidas2_Multimeter_basis.png\n",
    ":width: 600px\n",
    ":align: center\n",
    ":name: Fig_medidas2_Multimeter_basis\n",
    "Medidor en una base arbitraria.\n",
    "::::\n"
   ]
  },
  {
   "cell_type": "markdown",
   "id": "d7e786ee",
   "metadata": {},
   "source": [
    "## Medidas de Pauli\n"
   ]
  },
  {
   "cell_type": "markdown",
   "id": "94cd1f94",
   "metadata": {},
   "source": [
    "En caso más frecuente consiste en medir diferentes qubits en diferentes bases de Pauli, $X$, $Y$ ó $Z$. En este caso, $U= R_1\\otimes \\ldots \\otimes R_n$ es un producto de rotaciones locales. Esto sigue la misma pauta que se explicó para el caso de un sólo qubit (ver sección  {numref}`%s <sec_subsub_medidad1_bases_xyz>`). Podemos ver un ejemplo en la Fig.  {numref}`%s <Fig_medidas2_XYZ_multimeter>`.\n"
   ]
  },
  {
   "cell_type": "markdown",
   "id": "bd57f866",
   "metadata": {},
   "source": [
    "::::{figure} Figuras/Fig_medidas2_XYZ_multimeter.png\n",
    ":width: 300px\n",
    ":align: center\n",
    ":name: Fig_medidas2_XYZ_multimeter\n",
    "Ejemplo de un circuito que mide en la base $Z_0X_1Y_2$ (el qubit de arriba se mide en la base $Z$, el de en medio e la base $X$ y el de abajo en la base $Y$).\n",
    "::::\n"
   ]
  },
  {
   "cell_type": "markdown",
   "id": "758c04f8",
   "metadata": {},
   "source": [
    "::::::{admonition} Jupyter Notebook ([5 - Medidas II](https://www.scbi.uma.es/web/wp-content/uploads/Jupyterbook/CICC_UMA/Notebooks/html/docs/Part_01/Chapter_05-Medidas_II_myst.html) \n",
    ":class: attention\n",
    "\n",
    "\n",
    "\n",
    "Ver la sección [5.1. Medidas de Pauli](https://www.scbi.uma.es/web/wp-content/uploads/Jupyterbook/CICC_UMA/Notebooks/html/docs/Part_01/Chapter_05-Medidas_II_myst.html#medidas-de-pauli) del notebook [5 - Medidas II](https://www.scbi.uma.es/web/wp-content/uploads/Jupyterbook/CICC_UMA/Notebooks/html/docs/Part_01/Chapter_05-Medidas_II_myst.html)\n",
    "\n",
    "El Notebook puede descargarse de [Github](https://github.com/davidcb98/CICC_UMA/blob/master/Notebooks/Part_01/Chapter_05-Medidas_II.ipynb).\n",
    "::::::\n"
   ]
  },
  {
   "cell_type": "markdown",
   "id": "3408114e",
   "metadata": {},
   "source": [
    "## Medidas de Bell\n"
   ]
  },
  {
   "cell_type": "markdown",
   "id": "deb504e8",
   "metadata": {},
   "source": [
    "Podemos medir también en bases entrelazadas, por ejemplo, en la base de Bell. En la Ec.  {eq}`%s <ec_multiqubit_Bell_states>` podemos ver la base de Bell\n",
    "```{math}\n",
    ":label: ec_medidas2_base_Bell_from_Z \n",
    "\\begin{equation} \n",
    "\\ket{B_{xy}} = \\ket{xy}'  = U \\ket{xy}.\n",
    "\\end{equation} \n",
    "```\n",
    "En esta última expresión, $\\ket{xy}$ está expresado en la base computacional.  El circuito que genera esta base puede verse en la Fig.  {numref}`%s <Fig_medidas2_circuit_Bell_basis>`. Sabemos que el circuito de medida debe de llevar antes de los medidores el inverso de este circuito. Podemos ver el circuito de medida en la base de Bell en la Fig.  {numref}`%s <Fig_medidas2_Bell_meter>`.\n"
   ]
  },
  {
   "cell_type": "markdown",
   "id": "8157b00d",
   "metadata": {},
   "source": [
    "::::{figure} Figuras/Fig_medidas2_circuit_Bell_basis.png\n",
    ":width: 250px\n",
    ":align: center\n",
    ":name: Fig_medidas2_circuit_Bell_basis\n",
    "Circuito que genera la base de Bell a partir de la base computacional (ver Ec.  {eq}`%s <ec_medidas2_base_Bell_from_Z>`.\n",
    "::::\n"
   ]
  },
  {
   "cell_type": "markdown",
   "id": "b36ad469",
   "metadata": {},
   "source": [
    "::::{figure} Figuras/Fig_medidas2_Bell_meter.png\n",
    ":width: 400px\n",
    ":align: center\n",
    ":name: Fig_medidas2_Bell_meter\n",
    "Medidor en la base de Bell. \n",
    "::::\n"
   ]
  },
  {
   "cell_type": "markdown",
   "id": "6fb0c682",
   "metadata": {},
   "source": [
    "::::::{admonition} Jupyter Notebook (04-Medidas\\_II seccion 2) \n",
    ":class: attention\n",
    "\n",
    "\n",
    "\n",
    "Ver la sección 2 del notebook <b>04-Medidas\\_II</b>.\n",
    "::::::\n"
   ]
  },
  {
   "cell_type": "markdown",
   "id": "14b88d2f",
   "metadata": {},
   "source": [
    "::::::{admonition} Jupyter Notebook ([5 - Medidas II](https://www.scbi.uma.es/web/wp-content/uploads/Jupyterbook/CICC_UMA/Notebooks/html/docs/Part_01/Chapter_05-Medidas_II_myst.html) \n",
    ":class: attention\n",
    "\n",
    "\n",
    "\n",
    "Ver la sección [5.2. Medidas de Bell](https://www.scbi.uma.es/web/wp-content/uploads/Jupyterbook/CICC_UMA/Notebooks/html/docs/Part_01/Chapter_05-Medidas_II_myst.html#medidas-bell) del notebook [5 - Medidas II](https://www.scbi.uma.es/web/wp-content/uploads/Jupyterbook/CICC_UMA/Notebooks/html/docs/Part_01/Chapter_05-Medidas_II_myst.html)\n",
    "\n",
    "El Notebook puede descargarse de [Github](https://github.com/davidcb98/CICC_UMA/blob/master/Notebooks/Part_01/Chapter_05-Medidas_II.ipynb).\n",
    "::::::\n"
   ]
  },
  {
   "cell_type": "markdown",
   "id": "8534e04c",
   "metadata": {},
   "source": [
    "::::{figure} https://quantumspain-project.es/wp-content/uploads/2022/11/Logo_QS_EspanaDigital.png\n",
    ":width: 2000px\n",
    ":align: center\n",
    "::::\n",
    "\n",
    "<center>\n",
    "<img align=\"left\" src=\"https://quantumspain-project.es/wp-content/uploads/2024/02/Banner-QS_GOB_v2.png\" width=\"1000px\" />\n",
    "</center>"
   ]
  }
 ],
 "metadata": {
  "kernelspec": {
   "display_name": "Python 3 (ipykernel)",
   "language": "python",
   "name": "python3"
  },
  "language_info": {
   "codemirror_mode": {
    "name": "ipython",
    "version": 3
   },
   "file_extension": ".py",
   "mimetype": "text/x-python",
   "name": "python",
   "nbconvert_exporter": "python",
   "pygments_lexer": "ipython3",
   "version": "3.11.7"
  },
  "toc": {
   "base_numbering": 1,
   "nav_menu": {},
   "number_sections": false,
   "sideBar": true,
   "skip_h1_title": true,
   "title_cell": "Table of Contents",
   "title_sidebar": "Contents",
   "toc_cell": false,
   "toc_position": {},
   "toc_section_display": true,
   "toc_window_display": false
  }
 },
 "nbformat": 4,
 "nbformat_minor": 5
}