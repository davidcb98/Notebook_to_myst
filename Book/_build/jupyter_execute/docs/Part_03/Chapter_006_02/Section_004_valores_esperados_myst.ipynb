{
 "cells": [
  {
   "cell_type": "markdown",
   "id": "8ddaeb38",
   "metadata": {},
   "source": [
    "> {sub-ref}`today` | {sub-ref}`wordcount-minutes` min read\n",
    "\n",
    "::::{figure} Figuras/Fig_logo_UMA_scbi.png\n",
    ":width: 2000px\n",
    ":align: center\n",
    "::::\n",
    "\n",
    "$ \\newcommand{\\bra}[1]{\\langle #1|} $\n",
    "$ \\newcommand{\\ket}[1]{|#1\\rangle} $\n",
    "$ \\newcommand{\\branew}[1]{\\langle #1|} $\n",
    "$ \\newcommand{\\ketnew}[1]{\\langle #1|} $\n",
    "$ \\newcommand{\\braket}[2]{\\langle #1|#2\\rangle} $\n",
    "$ \\newcommand{\\ketbra}[2]{| #1\\rangle \\langle #2 |} $\n",
    "$ \\newcommand{\\i}{{\\color{blue} i}} $ \n",
    "$ \\newcommand{\\Hil}{{\\cal H}} $\n",
    "$ \\newcommand{\\cg}[1]{{\\rm C}#1} $\n",
    "$ \\newcommand{\\lp}{\\left(} $\n",
    "$ \\newcommand{\\rp}{\\right)} $\n",
    "$ \\newcommand{\\lc}{\\left[} $\n",
    "$ \\newcommand{\\rc}{\\right]} $\n",
    "$ \\newcommand{\\lch}{\\left\\{} $\n",
    "$ \\newcommand{\\rch}{\\right\\}} $\n",
    "$ \\newcommand{\\Lp}{\\Bigl(} $\n",
    "$ \\newcommand{\\Rp}{\\Bigr)} $\n",
    "$ \\newcommand{\\Lc}{\\Bigl[} $\n",
    "$ \\newcommand{\\Rc}{\\Bigr]} $\n",
    "$ \\newcommand{\\Lch}{\\Bigl\\{} $\n",
    "$ \\newcommand{\\Rch}{\\Bigr\\}} $\n",
    "$ \\newcommand{\\rqa}{\\quad \\Rightarrow \\quad} $\n",
    "$ \\newcommand{\\bm}{\\boldsymbol}$"
   ]
  },
  {
   "cell_type": "markdown",
   "id": "080fe82e",
   "metadata": {},
   "source": [
    "# Valores esperados.\n"
   ]
  },
  {
   "cell_type": "markdown",
   "id": "3087cb84",
   "metadata": {},
   "source": [
    "Un estado es un objeto probabilístico que tiene una interpretación a través de los coeficientes (de las amplitudes de probabilidad) y por tanto, esa interpretación probabilística está ligada a una base. Es decir, las amplitudes de probabilidad no tiene sentido hasta que definimos una base en la que medir. Si por ejemplo, vamos a medir en la base $Z$, lo conveniente es expandir el estado en la base $Z$\n",
    "\\begin{equation}\n",
    "\\ket{\\psi} = c_0 \\ket{0} + c_1 \\ket{1}\n",
    "\\end{equation}\n",
    "de forma que los coeficientes adquieren una interpretación probabilística. Puede decirse que las amplitudes \"no existen\" hasta que decidimos en que base medimos. El acceso experimental a estas amplitudes se da mediante estadística de las medidas\n",
    "\\begin{equation}\n",
    "\\boxed{p_0 = \\frac{n_{0}}{N} = |c_0|^2 = |\\braket{0}{\\psi}|^2} ~~~~~~~~~~~~~~~~ \\boxed{p_1 = \\frac{n_{1}}{N}=|c_1|^2 =  |\\braket{1}{\\psi}|^2} \\, .\n",
    "\\end{equation}\n",
    "donde $N$ es el número total de medidas, $n_0$ es el número de medidas que arrojaron el valor 0 (en realidad +1) y $n_1$ es el número de medidas que arrojaron el valor 1 (en realidad -1).\n",
    "Este procedimiento de reconstrucción es la base de la <b>tomografía cuántica</b>.\n"
   ]
  },
  {
   "cell_type": "markdown",
   "id": "a549b073",
   "metadata": {},
   "source": [
    "## Valor esperado de un observable arbitrario (operador hermítico). \n"
   ]
  },
  {
   "cell_type": "markdown",
   "id": "58a91d13",
   "metadata": {},
   "source": [
    "Vamos a ver como se mide el valor esperado de un observable arbitrario $A$ en un estado arbitrario $\\ket{\\Psi}$. Estos valores esperados se denotan de la siguiente forma: $\\langle Z \\rangle_\\Psi$.\n"
   ]
  },
  {
   "cell_type": "markdown",
   "id": "7ea616d9",
   "metadata": {},
   "source": [
    "Cualquier observable sobre un cúbit cumple $A = A^\\dagger$ (es hermítico) con lo que puede expresarse en la base\n",
    "```{math}\n",
    ":label: ec_medidas1_expansion_A_en_Paulis \n",
    "\\begin{equation} \n",
    "A = a I + n_x X + n_y Y  + n_z Z \\, .\n",
    "\\end{equation} \n",
    "```\n",
    "Los coeficientes se obtienen haciendo uso de las relaciones $\\frac{1}{2}$ tr$ (\\sigma_i \\sigma_j) = \\delta_{ij}$ y de tr$(\\sigma_i)=0$, de las cuales se obtiene\n",
    "\\begin{align}\n",
    "&\\boxed{a  = \\frac{1}{2} \\text{ tr}(A)},        &         &\\boxed{n_i = \\frac{1}{2} \\text{ tr}  (A \\sigma_i)},\n",
    "\\end{align}\n",
    "Entonces, podremos obtener el valor esperado de $A$  si somos capaces de medir los valores esperados de $X,$ $Y$ y $Z$.\n",
    "\\begin{equation}\n",
    "\\boxed{\\langle A\\rangle_\\Psi = a + n_x \\langle X\\rangle_\\Psi + n_y \\langle Y\\rangle_\\Psi + n_z \\langle Z\\rangle_\\Psi}\n",
    "\\end{equation}\n"
   ]
  },
  {
   "cell_type": "markdown",
   "id": "5e79409d",
   "metadata": {},
   "source": [
    "### $\\langle Z \\rangle_\\Psi$\n"
   ]
  },
  {
   "cell_type": "markdown",
   "id": "0d55fe6d",
   "metadata": {},
   "source": [
    "Los estados de la base computacional son autoestados del operador $Z$ con autovalor $\\pm 1$\n",
    "\\begin{equation}\n",
    "Z \\ket{0} =+ \\ket{0}   ~~~~~~~~ ~~~~~~~~~~ Z \\ket{1} =-\\ket{1}\n",
    "\\end{equation}\n",
    "Dado un estado $\\ket{\\Psi} = c_0\\ket{0} + c_1\\ket{1}$, la medida repetida arroja de forma aleatoria los valores propios de $Z \\to \\pm 1$ con frecuencias relativas $n^Z_{0} $ y $n^Z_{1}$. Por definición, el valor esperado de dicha variable es,\n",
    "```{math}\n",
    ":label: ec_medidas1_valor_esperado_Z \n",
    "\\begin{equation} \n",
    "\\boxed{\\langle Z \\rangle_\\Psi = (+1)\\frac{n^Z_{0}}{N}+ (-1) \\frac{ n^Z_{1}}{N}}\n",
    "\\end{equation} \n",
    "```\n",
    "donde $N$ es el número total de medidas, $n_{0}^Z$ es el número de veces que hemos medido el estado $\\ket{0}$ (el autovalor $+1$) y $n_{1}^Z$ es el número de veces que hemos medido el estado $\\ket{1}$ (el autovalor $-1$).\n"
   ]
  },
  {
   "cell_type": "markdown",
   "id": "58789d43",
   "metadata": {},
   "source": [
    "Para medir $\\langle Z\\rangle_\\psi$ necesitamos el <b>medidor habitual en computación cuántica</b> (ver Fig. \\ref{Fig_medidas1_cubit_meter2})\n"
   ]
  },
  {
   "cell_type": "markdown",
   "id": "d6e5d667",
   "metadata": {},
   "source": [
    "### $\\langle X \\rangle_\\Psi$\n"
   ]
  },
  {
   "cell_type": "markdown",
   "id": "729b027a",
   "metadata": {},
   "source": [
    "Igualmente, si medimos el estado $\\ket{\\Psi}$ con un <b>medidor asociado al operador</b> $X = HZH$ (ver Fig. \\ref{Fig_medidas1_meter_XYbasis}) la repetición arrojará igualmente una muestra aleatoria de valores propios de $X\\to \\pm 1$ con frecuencias relativas $n^X_0$ y $n^X_1$.\n",
    "El valor esperado de $X$ se obtiene del promedio\n",
    "```{math}\n",
    ":label: ec_medidas1_valor_esperado_Z \n",
    "\\begin{equation} \n",
    "\\boxed{\\langle X \\rangle_\\Psi = (+1)\\frac{n^X_{0}}{N}+ (-1) \\frac{ n^X_{1}}{N}}\n",
    "\\end{equation} \n",
    "```\n",
    "donde $N$ es el número total de medidas, $n_{0}^X$ es el número de veces que hemos medido el valor 0 (el estado $\\ket{+}$ con autovalor $+1$ ) y $n_{1}^X$ es el número de veces que hemos medido 1 (el estado $\\ket{-}$ con autovalor $-1$).\n"
   ]
  },
  {
   "cell_type": "markdown",
   "id": "aa9eae2d",
   "metadata": {},
   "source": [
    "### $\\langle Y \\rangle_\\Psi$\n"
   ]
  },
  {
   "cell_type": "markdown",
   "id": "deef3287",
   "metadata": {},
   "source": [
    "Igualmente, si medimos el estado $\\ket{\\Psi}$ con un <b>medidor asociado al operador</b> $X = SHZHS^\\dagger$ (ver Fig. \\ref{Fig_medidas1_meter_XYbasis}) la repetición arrojará igualmente una muestra aleatoria de valores propios de $X\\to \\pm 1$ con frecuencias relativas $n^X_0$ y $n^X_1$.\n",
    "El valor esperado de $X$ se obtiene del promedio\n",
    "```{math}\n",
    ":label: ec_medidas1_valor_esperado_Z \n",
    "\\begin{equation} \n",
    "\\boxed{\\langle Y \\rangle_\\Psi = (+1)\\frac{n^Y_{0}}{N}+ (-1) \\frac{ n^Y_{1}}{N}}\n",
    "\\end{equation} \n",
    "```\n",
    "donde $N$ es el número total de medidas, $n_{0}^Y$ es el número de veces que hemos medido el valor 0 (el estado $\\ket{+i}$ con autovalor $+1$ ) y $n_{1}^Y$ es el número de veces que hemos medido 1 (el estado $\\ket{-i}$ con autovalor $-1$).\n"
   ]
  },
  {
   "cell_type": "markdown",
   "id": "bcbd7973",
   "metadata": {},
   "source": [
    "::::::{admonition} Ejercicio\n",
    ":class: tip\n",
    "\n",
    "\n",
    "Genera un observable arbitrario hermítica $2\\times 2$ $A$ y obten los coeficiente $n_i$ de la descomposición de $A$.\n",
    "Inicializa un vector $\\ket{\\Psi}$ aleatorio y calcula el valor esperado $\\langle A \\rangle_\\Psi$. (Todo a mano, con papel y bolígrafo)\n",
    "::::::\n",
    "\n",
    "\n"
   ]
  },
  {
   "cell_type": "markdown",
   "id": "b71e59f2",
   "metadata": {},
   "source": [
    "## Valor esperado de un operador unitario (no necesariamente hermítico)\n"
   ]
  },
  {
   "cell_type": "markdown",
   "id": "ecd9c28d",
   "metadata": {},
   "source": [
    "En la sección anterior vimos como calcular el valor esperado de un operador hermítico aprovechando que los operadores de esta clase se pueden descomponer en función de las matrices de Pauli. Cuando el operador no es hermítico, no podemos llevar a cabo esta descomposición. Veamos como podemos calcular el valor esperado de un operador unitario genérico $V$.\n"
   ]
  },
  {
   "cell_type": "markdown",
   "id": "5b3e738f",
   "metadata": {},
   "source": [
    "En general, en computación cuántica partimos teniendo los qubit inicializados en el estado $\\ket{0}$. Si queremos tener el estado $\\ket{\\Psi}$ debemos realizar una serie de operaciones sobre el qúbit para tenerlo. Estas operaciones pueden representarse por un operador  $U$ tal que $\\ket{\\Psi} = U\\ket{0}$.\n"
   ]
  },
  {
   "cell_type": "markdown",
   "id": "7e0c67f9",
   "metadata": {},
   "source": [
    "Supongamos ahora que queremos calcular el valor esperado de un operador <b>unitario</b> $V$ en este estado $\\ket{\\Psi}$. Podemos calcularlo de la siguiente forma:\n",
    "\\begin{equation}\n",
    "\\langle V \\rangle_\\Psi = \\bra{\\Psi}V\\ket{\\Psi} = \\bra{0} U^\\dagger V U\\ket{0} = \\braket{0}{\\tilde \\Psi}\n",
    "\\end{equation}\n"
   ]
  },
  {
   "cell_type": "markdown",
   "id": "14f56d27",
   "metadata": {},
   "source": [
    "donde $\\ket{\\tilde\\Psi} \\equiv U^\\dagger V U\\ket{0}$ y la acción del operador unitario $U^\\dagger V U$ (que no tiene porqué ser hermítico) se realiza mediante un circuito inicializado en $\\ket{0}$.  Midiendo $\\ket{\\tilde \\Psi}$  en la base $Z$, la fracción relativa de resultados $+1\\to  n_0/N$ nos da acceso al <b>módulo del valor esperado</b>,\n",
    "\\begin{equation}\n",
    "\\sqrt{ \\frac{n_{0}(\\tilde\\Psi)}{N} } ~=~  \\sqrt{p_0}  ~=~   | \\braket{0}{\\tilde \\Psi}|  ~=~ |\\bra{\\Psi}V\\ket{\\Psi}|    = |\\langle V \\rangle_\\Psi |\n",
    "\\end{equation}\n",
    "Podemos ver el circuito necesario para calcular este valor esperado en la Fig. \\ref{Fig_medidad1_vev_unitary_V}.\n",
    "::::{figure} Figuras/Fig_medidas1_vev_unitary_V.png\n",
    ":width: 600px\n",
    ":align: center\n",
    ":name: Fig_medidad1_vev_unitary_V\n",
    "Circuito necesario para medir $\\langle V\\rangle_{\\Psi} $ donde $\\ket{\\Psi} = U\\ket{0}$ es un estado preparable.\n",
    "::::\n"
   ]
  },
  {
   "cell_type": "markdown",
   "id": "1f8fc408",
   "metadata": {},
   "source": [
    "::::::{admonition} Nota (operadores unitarios y hermíticos) \n",
    ":class: note\n",
    "\n",
    "\n",
    "\n",
    "Si $V$ además de ser <b>unitario</b>, fuese <b>hermítico</b>, entonces tendríamos acceso al valor esperado completo,\n",
    "al tratarse de una candidad real.\n",
    "Operadores de 1 cúbit unitarios y hermíticos son, por ejemplo, los operadores $V = X,Y,Z,H$.\n",
    "Este argumento nos permite calcular de otra manera\n",
    "```{math}\n",
    ":label: ec_medidas1_valores_esperados_XYZ \n",
    "\\begin{equation} \n",
    "\\left.\n",
    "\\begin{array}{c} \\langle Z\\rangle_\\psi \\\\ \\rule{0mm}{8mm} \\langle X\\rangle_\\psi \\\\ \\rule{0mm}{8mm} \\langle Y\\rangle_\\psi \\end{array}\n",
    "\\right\\} ~=~\\braket{0}{\\tilde\\psi} ~=~ \\sqrt{\\frac{n_{0}(\\tilde\\psi)}{N}} ~~~\\hbox{con}~~~~\n",
    "\\left\\{\n",
    "\\begin{array}{l}  \\ket{\\tilde \\psi} = U^\\dagger  Z  U\\ket{0} \\\\ \\rule{0mm}{8mm} \\ket{\\tilde \\psi} = U^\\dagger H Z H U\\ket{0}  \\\\\n",
    "\\rule{0mm}{8mm}  \\ket{\\tilde \\psi} = U^\\dagger SH Z HS^\\dagger U\\ket{0} \\end{array}\n",
    "\\right.\n",
    "\\end{equation} \n",
    "```\n",
    "\n",
    "::::::\n"
   ]
  },
  {
   "cell_type": "markdown",
   "id": "162fe01e",
   "metadata": {},
   "source": [
    "\\begin{mybox_orange}{Jypyter Notebook: 02-Circuitos\\_1\\_qubit\\_medidas\\_y\\_RealHardware parte 3}\n",
    "En la cuarta parte del notebook <b>02-Circuitos\\_1\\_qubit\\_medidas\\_y\\_RealHardware</b> pueden verse cálculos de valores esperados con Qiskit.\n",
    "\\end{mybox_orange}\n"
   ]
  },
  {
   "cell_type": "markdown",
   "id": "8534e04c",
   "metadata": {},
   "source": [
    "::::{figure} https://quantumspain-project.es/wp-content/uploads/2022/11/Logo_QS_EspanaDigital.png\n",
    ":width: 2000px\n",
    ":align: center\n",
    "::::\n",
    "\n",
    "<center>\n",
    "<img align=\"left\" src=\"https://quantumspain-project.es/wp-content/uploads/2024/02/Banner-QS_GOB_v2.png\" width=\"1000px\" />\n",
    "</center>"
   ]
  }
 ],
 "metadata": {
  "kernelspec": {
   "display_name": "Python 3 (ipykernel)",
   "language": "python",
   "name": "python3"
  },
  "language_info": {
   "codemirror_mode": {
    "name": "ipython",
    "version": 3
   },
   "file_extension": ".py",
   "mimetype": "text/x-python",
   "name": "python",
   "nbconvert_exporter": "python",
   "pygments_lexer": "ipython3",
   "version": "3.11.7"
  },
  "toc": {
   "base_numbering": 1,
   "nav_menu": {},
   "number_sections": false,
   "sideBar": true,
   "skip_h1_title": true,
   "title_cell": "Table of Contents",
   "title_sidebar": "Contents",
   "toc_cell": false,
   "toc_position": {},
   "toc_section_display": true,
   "toc_window_display": false
  }
 },
 "nbformat": 4,
 "nbformat_minor": 5
}