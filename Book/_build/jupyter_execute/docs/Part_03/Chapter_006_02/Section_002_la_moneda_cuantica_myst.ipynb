{
 "cells": [
  {
   "cell_type": "markdown",
   "id": "8ddaeb38",
   "metadata": {},
   "source": [
    "> {sub-ref}`today` | {sub-ref}`wordcount-minutes` min read\n",
    "\n",
    "<img src=\"Figuras/Fig_logo_UMA_scbi.png\" align=center  width=\"2000px\"/>\n",
    "\n",
    "\n",
    "<a href=\"https://www.scbi.uma.es/web/es/computacion-cuantica/\">\n",
    "    <button class=\"rounded\" style=\"float: right;\">\n",
    "    <svg xmlns=\"http://www.w3.org/2000/svg\" width=\"32\" height=\"32\" viewBox=\"0 0 24 24\">\n",
    "        <path fill=\"var(--fill, white)\"\n",
    "        d=\"M18.1 15.3c-.1.1-.3.2-.4.3l-2.4.4l1.7 3.6c.2.4 0 .8-.4\n",
    "            1l-2.8 1.3c-.1.1-.2.1-.3.1c-.3 0-.6-.2-.7-.4L11.2\n",
    "            18l-1.9 1.5c-.1.1-.3.2-.5.2c-.4 0-.8-.3-.8-.8V7.5c0-.5.3-.8.8-.8c.2 0\n",
    "            .4.1.5.2l8.7 7.4c.3.2.4.7.1 1M6 12H4V4h16v8h-1.6l2.2 1.9c.8-.3 1.3-1\n",
    "            1.3-1.9V4c0-1.1-.9-2-2-2H4c-1.1 0-2 .9-2 2v8c0 1.1.9 2 2 2h2z\" />\n",
    "    </svg>\n",
    "    Volver a SCBI - Computación Cuantica\n",
    "    </button>\n",
    "</a>\n",
    "\n",
    "$ \\newcommand{\\bra}[1]{\\langle #1|} $\n",
    "$ \\newcommand{\\ket}[1]{|#1\\rangle} $\n",
    "$ \\newcommand{\\branew}[1]{\\langle #1|} $\n",
    "$ \\newcommand{\\ketnew}[1]{\\langle #1|} $\n",
    "$ \\newcommand{\\braket}[2]{\\langle #1|#2\\rangle} $\n",
    "$ \\newcommand{\\ketbra}[2]{| #1\\rangle \\langle #2 |} $\n",
    "$ \\newcommand{\\i}{{\\color{blue} i}} $ \n",
    "$ \\newcommand{\\Hil}{{\\cal H}} $\n",
    "$ \\newcommand{\\cg}[1]{{\\rm C}#1} $\n",
    "$ \\newcommand{\\lp}{\\left(} $\n",
    "$ \\newcommand{\\rp}{\\right)} $\n",
    "$ \\newcommand{\\lc}{\\left[} $\n",
    "$ \\newcommand{\\rc}{\\right]} $\n",
    "$ \\newcommand{\\lch}{\\left\\{} $\n",
    "$ \\newcommand{\\rch}{\\right\\}} $\n",
    "$ \\newcommand{\\Lp}{\\Bigl(} $\n",
    "$ \\newcommand{\\Rp}{\\Bigr)} $\n",
    "$ \\newcommand{\\Lc}{\\Bigl[} $\n",
    "$ \\newcommand{\\Rc}{\\Bigr]} $\n",
    "$ \\newcommand{\\Lch}{\\Bigl\\{} $\n",
    "$ \\newcommand{\\Rch}{\\Bigr\\}} $\n",
    "$ \\newcommand{\\rqa}{\\quad \\Rightarrow \\quad} $\n",
    "$ \\newcommand{\\bm}{\\boldsymbol}$"
   ]
  },
  {
   "cell_type": "markdown",
   "id": "080fe82e",
   "metadata": {},
   "source": [
    "# La moneda cuántica\n"
   ]
  },
  {
   "cell_type": "markdown",
   "id": "64c369dc",
   "metadata": {},
   "source": [
    "Vamos a ver aquí a modo de ejemplo un experimento simple: <b>la moneda cuántica.</b>\n"
   ]
  },
  {
   "cell_type": "markdown",
   "id": "c0070793",
   "metadata": {},
   "source": [
    "El resultado de tirar una moneda al aire es una variable aleatoria con dos resultados equiprobables:  cara y cruz.  Es irrelevante si analizamos el resultado cada tirada o cada dos, o tres tiradas. Las frecuencias relativas de caras y cruces, siempre serán próximas a $1/2$. Es decir, podemos tirar la moneda, recogerla sin mirarla, volver a tirar, y las probabilidades no cambian.\n"
   ]
  },
  {
   "cell_type": "markdown",
   "id": "393031ae",
   "metadata": {},
   "source": [
    "Podemos imaginar un experimento similar con un qubit, donde cara $\\to 0$ y cruz $\\to 1$ son los resultados posibles de la medida en la base $Z$. Como al tirar la moneda, mientras esta está en el aire podemos pensar que está en \"una superposición equiprobable del cara y cruz\", el hecho de <b>tirar la moneda</b> en computación cuántica será aplicar el operador $H$ (ver Ec.  {eq}`%s <ec_puertas_simples_H>`).\n"
   ]
  },
  {
   "cell_type": "markdown",
   "id": "ef0fefcd",
   "metadata": {},
   "source": [
    "Haciendo esta consideración, podemos ver que no es lo mismo tirar la moneda 1 vez y mirar\n",
    "\\begin{equation}\n",
    "\\ket{0}~ \\stackrel{\\rm tirar}{\\longrightarrow} ~ H \\ket{0}= \\ket{+} ~ \\stackrel{\\rm medir}{\\longrightarrow} ~p(0) = p(1) = 0.5\n",
    "\\end{equation}\n",
    "que tirarla dos veces y mirar\n",
    "\\begin{equation}\n",
    "\\ket{0}~ \\stackrel{\\rm tirar}{\\longrightarrow} ~ H \\ket{0}~ \\stackrel{\\rm tirar}{\\longrightarrow} H^2\\ket{0} = \\ket{0} ~ \\stackrel{\\rm medir}{\\longrightarrow} ~p(0) = 1 ~,~p(1) = 0\n",
    "\\end{equation}\n",
    "El objetivo de este experimento es simplemente ver que ciertas puertas son sus propias inversas y que cuando aplicamos las aplicamos un número par de veces seguidas, es como si no aplicáramos nada. Otra cosa que podemos ver con este experimento es que <b>las medidas intermedias alteran el resultado</b>. Esto podemos verlo si colocmos un medidor en medio entre las puertas $H$ y vemos como varía el resultado.\n"
   ]
  },
  {
   "cell_type": "markdown",
   "id": "e0553186",
   "metadata": {},
   "source": [
    "## Código de Qiskit.\n"
   ]
  },
  {
   "cell_type": "markdown",
   "id": "5e651370",
   "metadata": {},
   "source": [
    "::::::{admonition} Jupyter Notebook ([Circuitos de un qubit y HardWare real](https://www.scbi.uma.es/web/wp-content/uploads/Jupyterbook/CICC_UMA/Notebooks/html/docs/Part_01/Chapter_03-Circuitos_1_qubit_medidas_y_RealHardware_myst.html) \n",
    ":class: attention\n",
    "\n",
    "\n",
    "\n",
    "En [Circuitos de un qubit y HardWare real, sección 3.3: La moneda cuántica](https://www.scbi.uma.es/web/wp-content/uploads/Jupyterbook/CICC_UMA/Notebooks/html/docs/Part_01/Chapter_03-Circuitos_1_qubit_medidas_y_RealHardware_myst.html#la-moneda-cuantica) puede verse el experimento de la moneda cuántica.\n",
    "\n",
    "El Notebook puede descargarse de [Github](https://github.com/davidcb98/CICC_UMA/blob/master/Notebooks/Part_01/Chapter_03-Circuitos_1_qubit_medidas_y_RealHardware.ipynb).\n",
    "::::::\n"
   ]
  },
  {
   "cell_type": "markdown",
   "id": "8534e04c",
   "metadata": {},
   "source": [
    "::::{figure} https://quantumspain-project.es/wp-content/uploads/2022/11/Logo_QS_EspanaDigital.png\n",
    ":width: 2000px\n",
    ":align: center\n",
    "::::\n",
    "\n",
    "<center>\n",
    "<img align=\"left\" src=\"https://quantumspain-project.es/wp-content/uploads/2024/02/Banner-QS_GOB_v2.png\" width=\"1000px\" />\n",
    "</center>"
   ]
  }
 ],
 "metadata": {
  "kernelspec": {
   "display_name": "Python 3 (ipykernel)",
   "language": "python",
   "name": "python3"
  },
  "language_info": {
   "codemirror_mode": {
    "name": "ipython",
    "version": 3
   },
   "file_extension": ".py",
   "mimetype": "text/x-python",
   "name": "python",
   "nbconvert_exporter": "python",
   "pygments_lexer": "ipython3",
   "version": "3.11.7"
  },
  "toc": {
   "base_numbering": 1,
   "nav_menu": {},
   "number_sections": false,
   "sideBar": true,
   "skip_h1_title": true,
   "title_cell": "Table of Contents",
   "title_sidebar": "Contents",
   "toc_cell": false,
   "toc_position": {},
   "toc_section_display": true,
   "toc_window_display": false
  }
 },
 "nbformat": 4,
 "nbformat_minor": 5
}