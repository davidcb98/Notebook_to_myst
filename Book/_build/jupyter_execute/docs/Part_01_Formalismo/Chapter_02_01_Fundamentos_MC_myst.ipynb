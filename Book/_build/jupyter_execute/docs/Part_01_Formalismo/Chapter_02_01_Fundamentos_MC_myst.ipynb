{
 "cells": [
  {
   "cell_type": "markdown",
   "id": "f0e9603c",
   "metadata": {
    "slideshow": {
     "slide_type": "slide"
    }
   },
   "source": [
    "> {sub-ref}`today` | {sub-ref}`wordcount-minutes` min read\n",
    "\n",
    "::::{figure} ../figuras/logos/Logo_TalentQ_Azul.png\n",
    ":width: 150px\n",
    ":align: right\n",
    "::::\n",
    "\n",
    "\n",
    "# Fundamentos de Mecánica Cuántica \n",
    "\n",
    "\n",
    "$ \\newcommand{\\bra}[1]{\\langle #1|} $\n",
    "$ \\newcommand{\\ket}[1]{|#1\\rangle} $\n",
    "$ \\newcommand{\\braket}[2]{\\langle #1|#2\\rangle} $\n",
    "$ \\newcommand{\\ketbra}[2]{| #1\\rangle\\! \\langle #2|} $\n",
    "$ \\newcommand{\\tr}{{\\rm tr}} $\n",
    "$ \\newcommand{\\i}{{\\color{blue} i}} $ \n",
    "$ \\newcommand{\\Hil}{{\\cal H}} $\n",
    "$ \\newcommand{\\V}{{\\cal V}} $"
   ]
  },
  {
   "cell_type": "code",
   "execution_count": 1,
   "id": "8feb3abd",
   "metadata": {
    "tags": [
     "hide-input"
    ]
   },
   "outputs": [],
   "source": [
    "%run ../macro_tQ.py\n",
    "import sys\n",
    "sys.path.append('../')\n",
    "import macro_tQ as tQ\n",
    "\n",
    "import numpy as np\n",
    "import scipy.linalg as la\n",
    "from IPython.display import display,Markdown,Latex\n",
    "import matplotlib.pyplot as plt\n",
    "from qiskit.tools.visualization import array_to_latex\n",
    "import copy "
   ]
  },
  {
   "cell_type": "markdown",
   "id": "974bbaca",
   "metadata": {
    "slideshow": {
     "slide_type": "slide"
    }
   },
   "source": [
    "## Axiomas"
   ]
  },
  {
   "cell_type": "markdown",
   "id": "26a4a140",
   "metadata": {
    "slideshow": {
     "slide_type": "-"
    }
   },
   "source": [
    "Los axiomas de la Mecánica Cuántica son unos pilares heurísticos, es decir,  basados en la experimentación. La axiomática más aceptada es   la denominada  <i>interpretación de Copenhagen</i> \n",
    "\n",
    "<a id='axiomas-I'></a>\n",
    "::::::{card} \n",
    "<b>Postulado I</b>: </i>Vector de estado</i> \n",
    "\n",
    "^^^\n",
    "    \n",
    "En un instante, $t$, la <i>máxima información accesible</i> de un sistema cuántico <i>aislado</i> está asociada a un vector $\\ket{\\psi}$ de norma unidad, perteneciente a un espacio de Hilbert $\\Hil$\n",
    "\n",
    "::::::\n",
    " La palabra *estado* es engañosa por cuanto parece indicar que el sistema *está* en alguna estado concreto definido por un valor concreto de sus propiedades, ¡esto no es así!  El vector de estado se conoce también con el nombrede  *función de onda*\n",
    "\n",
    "\n",
    "Dos vectores que difieran en una *fase global* contienen idéntica informacuón y, por tanto,  representan al mismo estado: ningún experimento permite distinguirlos\n",
    "\n",
    "$$\n",
    "\\ket{\\psi} \\sim \\ket{\\psi'} =  e^{i\\varphi}\\ket{\\psi} \\, ,\n",
    "$$"
   ]
  },
  {
   "cell_type": "markdown",
   "id": "a473c130",
   "metadata": {
    "slideshow": {
     "slide_type": "slide"
    }
   },
   "source": [
    "    \n",
    "La dinámica de un sistema cuántico  está contenido en un *operador hermítico* $H = H^\\dagger$ que se denomina **operador Hamiltoniano**\n",
    "\n",
    "\n",
    "\n",
    "El operador Hamiltoniano  *gobierna su evolución*. Supongamos que el sistema se prepara a $t=0$ en un cierto estado $\\ket{\\psi(0)}$\n"
   ]
  },
  {
   "cell_type": "markdown",
   "id": "0aa6be34",
   "metadata": {
    "slideshow": {
     "slide_type": "fragment"
    }
   },
   "source": [
    "::::::{card} \n",
    "<b>Postulado  II</b>: </i>Evolución con el tiempo</i> \n",
    "\n",
    "^^^\n",
    "\n",
    "    \n",
    "El cambio continuo en el tiempo de  $\\ket{\\psi(t)}$ de un sistema cuya dinámica obedece a un Hamiltoniano $H(t)$,  es <i>determinista</i> y es solución de la <i>Ecuación de Schrödinger</i>\n",
    " \n",
    "\n",
    "$$\n",
    " \\frac{\\partial\\ket{\\psi(t)}}{\\partial t} =-\\frac{i}{\\hbar} H(t) \\ket{\\psi(t)} \\, \\label{eqschr}\n",
    "$$\n",
    "\n",
    "::::::\n"
   ]
  },
  {
   "cell_type": "markdown",
   "id": "7a967f13",
   "metadata": {
    "slideshow": {
     "slide_type": "skip"
    }
   },
   "source": [
    "La ecuación de Schrödinger es una ecuación diferencial ordinaria (una sola variable) para un vector. Dada una contición inicial $\\ket{\\psi(t=0)} = \\ket{\\psi_0}$, la solución $\\ket{\\psi(t)}$ para todo $t$ es única.\n",
    "\n",
    "Por tanto, la evolución del estado es *determinista*. Es en la medida sobre el sistema donde la Mecánica Cuántica muestra su carácter probabilístico. Vamos a mencionar en este capítulo la medida proyectiva, que es el caso más simple. Estudiaremos  en el [capítulo 5](../05_Fun_Info_Cuant/Fun_Info_Cuant.ipynb) que son un caso particular del tipo más general de medidas posible  "
   ]
  },
  {
   "cell_type": "markdown",
   "id": "87df312a",
   "metadata": {
    "slideshow": {
     "slide_type": "slide"
    }
   },
   "source": [
    "::::::{card} \n",
    "<b>Postulado III</b>: </i>Medidas proyectivas, o de Von Neumann</i> \n",
    "\n",
    "^^^\n",
    "<a id='postul_III_medida'></a>\n",
    "\n",
    "    \n",
    "- A una magnitud física medible le está asociado   un operador hermítico  $ A= A^\\dagger$ que denominamos <b>observable</b>.\n",
    "\n",
    "\n",
    "- Los resultados de una medición no pueden dar como resultado nada más que uno de los valores propios de $A \\Rightarrow \\lambda_n$.\n",
    "    \n",
    "    \n",
    "- <i> Regla de Born</i>: La probabilidad de obtener  el autovalor $\\lambda_k$ como resultado de una cierta medición, viene dada por\n",
    "la expresión\n",
    "\n",
    "$$\n",
    "p(\\lambda_k)~ = ~|\\braket{\\lambda_k}{\\psi}|^2\n",
    "$$ \n",
    "donde $\\ket{\\lambda_k}$ es el autovector asociado. \n",
    "\n",
    "\n",
    "::::::\n",
    "    "
   ]
  },
  {
   "cell_type": "markdown",
   "id": "12f70c42",
   "metadata": {
    "slideshow": {
     "slide_type": "skip"
    }
   },
   "source": [
    "- la intepretación probabilística de las componentes del *vector de estado* las que fuerzan a que sea unitario. Efectivamente \n",
    "como la suma de todas las probabilidades debe ser igual a la unidad\n",
    "$$\n",
    "1 = \\sum_k \\lambda_k = \\sum_k \\braket{\\psi}{\\lambda_k}\\braket{\\lambda_k}{\\psi} = \\bra{\\psi}\\left(\\sum_k\\ketbra{\\lambda_k}{\\lambda_k}\\right) \\ket{\\psi} = \\braket{\\psi}{\\psi}\n",
    "$$\n",
    "\n",
    "- que las magnitudes medibles son números reales, exige que el operador $A$ asociado a un observable deba ser hermítico \n",
    "\n",
    "La fórmula dada para $p(\\lambda_k)$  es cierta cuando el autovalor en cuestion es *no degenerado*. \n",
    "Cuando $\\lambda_k$ tiene degeneración $d_k$ debe generalizarse:\n",
    "\n",
    "$$\n",
    "\\begin{array}{rcl}\n",
    "p(\\lambda_k)~ &=& ~ \\sum_{a=1}^{d_k}|\\braket{\\lambda^a_k}{\\psi}|^2 = \\bra{\\psi}\\left(\n",
    " \\sum_{a=1}^{d_k}\\ketbra{\\lambda^a_k}{\\lambda^a_k}\\right) \\ket{\\psi}\\nonumber\\\\\n",
    "&=&  \\bra{\\psi}P_k\\ket{\\psi} \\rule{0mm}{7mm}\\\\\n",
    "\\end{array}\n",
    "$$\n",
    "\n",
    "La última expresión revela que $p(\\lambda_k)$ no es más que el *valor esperado del proyector* $P_k = P^2_k$ en el estado del sistema anterior a la medida. \n",
    "\n"
   ]
  },
  {
   "cell_type": "markdown",
   "id": "f5921617",
   "metadata": {
    "slideshow": {
     "slide_type": "skip"
    }
   },
   "source": [
    "::::::{admonition} Nota\n",
    ":class: note\n",
    "\n",
    "\n",
    "\n",
    "- *Muy importante*:  $\\{\\lambda_k,p(\\lambda_k)\\}$ no es una variable <i>pseudo-aleatoria</i> sino, probablemente, la única  variable intrínsecamente aleatoria que existe en la naturaleza.  \n",
    "    \n",
    "    \n",
    "::::::\n"
   ]
  },
  {
   "cell_type": "markdown",
   "id": "f2012fa4",
   "metadata": {},
   "source": [
    "El hecho de medir tiene consecuencias *irreversibles* sobre el sistema medido. Este hecho es, sin duda, el efecto más diferenciador de la Mecánica Cuántica sobre la clásica: no existe el concepto de *partícula de prueba*, aquella que obtiene información de un sistema sin perturbarlo, como los planetas en el sistema solar"
   ]
  },
  {
   "cell_type": "markdown",
   "id": "b0d8313e",
   "metadata": {
    "slideshow": {
     "slide_type": "slide"
    }
   },
   "source": [
    "::::::{card} \n",
    "<b>Postulado IV</b>: </i>Colapso de la función de  onda</i> \n",
    "\n",
    "^^^\n",
    "  \n",
    "Si el resultado de una medida efectuada sobre un sistema en un estado $\\ket{\\psi}$  ha sido  $\\lambda_n$,  inmediatamente después de la medida, el estado del sistema viene dado por el vector propio asociado  \n",
    "$\\ket{\\lambda_n} \\in \\Hil$, normalizado $|\\braket{\\lambda_n}{\\lambda_n}|=1$\n",
    "   \n",
    "::::::\n",
    " "
   ]
  },
  {
   "cell_type": "markdown",
   "id": "4da246bd",
   "metadata": {},
   "source": [
    "El sistema del medidor y el sistema medido, son a su vez un sistema aisado ¿por qué no parecen obedecer a las reglas de un sistema cuántico? ¿cuál es el límite que marca la distinción entre un objeto cuántico y uno clásico capaz de hacer colapsar el estado de otro? El axioma del *colapso de la función de onda* es heurístico y ha suscitado intensos debates desde su formulación. El más famoso es el de la paradoja del Gato de Schrödinger.\n"
   ]
  },
  {
   "cell_type": "markdown",
   "id": "1f0280c4",
   "metadata": {
    "slideshow": {
     "slide_type": "skip"
    }
   },
   "source": [
    "## Medidas y valores esperados\n"
   ]
  },
  {
   "cell_type": "markdown",
   "id": "dd282294",
   "metadata": {
    "slideshow": {
     "slide_type": "skip"
    }
   },
   "source": [
    "En Mecánica Cuántica especificamos un estado en las componentes de la expansión de un estado en *una base* ortonormal.\n",
    "Existen infinitas bases posibles para expresar un vector. ¿Qué base es la mejor? La respuesta es que depende del proceso que estudiemos.\n",
    "\n",
    "Por ejemplo, si el proceso es *la medida* de un cierto observable $A=A^\\dagger$, el resultado de nuestra medición sólo puede ser uno de los *valores propios* $\\lambda_i$\n",
    "$$\n",
    "A \\ket{\\lambda_k} = \\lambda_k \\ket{\\lambda_k}\\, \n",
    "$$\n",
    "donde $\\ket{\\lambda_k}$ son los autovectores ${k=1,2,...}$ que forman una base ortonormal. Ésta es la base natural adaptada a procesos de medida de $A$. En particular para conocer *con qué probabilidad* se producirá cada resultado, expandiremos el estado en dicha base de autoestados  \n",
    "\n",
    "$$\n",
    "\\ket{\\psi} = \\sum_{i=1}^N a_i \\ket{\\lambda_i}\\, \n",
    "$$\n",
    "\n",
    "El axioma IV (regla de Born) afirma que <i>la probabilidad de aparición</i> del resultado $\\lambda_i$ es precisamente \n",
    "\n",
    "$$\n",
    "p(\\lambda_i)=|\\braket{\\lambda_i}{\\psi}|^2  = |a_i|^2 \\, \n",
    "$$\n"
   ]
  },
  {
   "cell_type": "markdown",
   "id": "77dc80b2",
   "metadata": {
    "slideshow": {
     "slide_type": "slide"
    }
   },
   "source": [
    "La forma de tener acceso experimental a los números $p(\\lambda_i)$  es mediante la **repetición estadística**. Si efectuamos la medida un número $n$ de veces con $n\\to \\infty$, y contamos la frecuencia de aparición de los distintos $\\lambda_i$\n",
    "en el límite $n\\to \\infty$ dicha frecuencia experimental convergerá a la probabilidad teórica\n",
    "\n",
    "$$\n",
    "\\lim_{n\\to\\infty} \\frac{n(\\lambda_i)}{n} =  p(\\lambda_i)  = |a_i|^2   \\, .\n",
    "$$\n",
    "\n"
   ]
  },
  {
   "cell_type": "markdown",
   "id": "db718426",
   "metadata": {
    "slideshow": {
     "slide_type": "slide"
    }
   },
   "source": [
    "Vemos que, mediante repetición estadística, solamente podemos recuperar el *módulo de las amplitudes* \n",
    "\n",
    "$$\n",
    "|a_i| = \\lim_{n\\to\\infty} \\sqrt{\\frac{n(\\lambda_i)}{n} }\n",
    "$$ \n",
    "\n",
    "\n"
   ]
  },
  {
   "cell_type": "markdown",
   "id": "b3caac07",
   "metadata": {
    "slideshow": {
     "slide_type": "fragment"
    }
   },
   "source": [
    "::::::{admonition} Notar\n",
    ":class: note\n",
    "\n",
    "\n",
    "    \n",
    "- En Computación Cuántica, almacenamos la información en las amplitudes $a_i$ en una base dada (la base computacional). Vemos que sólamente su módulo $|a_i|$ es recuperable a través de medidas.\n",
    "    \n",
    "    \n",
    "- Cada vez que seleccionamos un estado $\\ket{\\psi}$, y un observable $A$, se genera una variable aleatoria $(\\lambda,p(\\lambda))\\, \\to $ en cada medida de $A$ sobre $\\ket{\\psi}$ obtenemos un autovalor $\\lambda_i$ con una probabilidad $p(\\lambda_i)$.\n",
    "La repetición del experimento permite reconstruir estimadores estadísticos. \n",
    "  \n",
    "\n",
    "::::::\n"
   ]
  },
  {
   "cell_type": "markdown",
   "id": "6073e1bf",
   "metadata": {},
   "source": [
    "::::::{admonition} Ejercicio\n",
    ":class: tip\n",
    "\n",
    "\n",
    "Generaliza las expresiones anteriores al caso en que los autovalores $\\lambda_k$ puedan ser  $d_k$ veces degenerados.\n",
    "::::::\n"
   ]
  },
  {
   "cell_type": "markdown",
   "id": "19266151",
   "metadata": {
    "slideshow": {
     "slide_type": "slide"
    }
   },
   "source": [
    "### Valores esperados\n",
    "<a id='valores_esperados'></a>\n",
    "\n",
    "Rescribamos la probabilidad de encontrar $\\lambda_k$ en el caso de que sea $d_k$ veces degenerado\n",
    "\n",
    "$$\n",
    "\\begin{array}{rcl}\n",
    "p(\\lambda_k) &=& \\sum_{a=1}^{d_k} |\\braket{\\lambda^a_k}{\\psi}|^2  = \n",
    "\\sum_{a=1}^{d_k} \\braket{\\psi}{\\lambda^a_k}\\braket{\\lambda^a_k}{\\psi} \\nonumber\\\\ \\rule{0mm}{8mm}\n",
    "&=&\\bra{\\psi} \\left( \\sum_{a=1}^{d_k} \\ket{\\lambda^a_k}\\bra{\\lambda^a_k}  \\right) = \\bra{\\psi}P_k \\ket{\\psi} \n",
    "\\end{array}\n",
    "$$\n",
    "donde \n",
    "\n",
    "$$\n",
    "P_k = \\sum_{a=1}^{d_k} \\ket{\\lambda^a_k}\\bra{\\lambda^a_k}\n",
    "$$\n",
    "es el proyector sobre el subespacio propio"
   ]
  },
  {
   "cell_type": "markdown",
   "id": "e1e41344",
   "metadata": {
    "slideshow": {
     "slide_type": "slide"
    }
   },
   "source": [
    "\n",
    "Por el *valor esperado* $\\langle A\\rangle$ del *observable* $A$ en el estado $\\ket{\\psi}$, entendemos el *valor medio* de la variable aleatoria $\\lambda_n$ obtenida por el método descrito. \n",
    "\n",
    "\n",
    "\\begin{eqnarray}\n",
    "\\langle A\\rangle &= &  \\sum_k \\lambda_k p(\\lambda_k)\n",
    "   =  \\sum_k \\lambda_k \\bra{\\psi}P_k\\ket{\\psi}  \n",
    "&=& \\bra{\\psi}\\left(\\sum_k \\lambda_k P_k  \\right) \\ket{\\psi} \n",
    "\\end{eqnarray}\n",
    "\n",
    "Reconocemos entre paréntesis la descomposición espectral de $A$. Llegamos así a la siguiente expresión para el valor esperado de un observable $A$ en un estado $\\ket{\\psi}$\n",
    "\n",
    "::::::{card} \n",
    "<b>Teorema</b>:  \n",
    "\n",
    "^^^\n",
    "$$\\langle A \\rangle=\\bra{\\psi}A \\ket{\\psi} $$\n",
    "::::::\n",
    "\n",
    "En particular, las probabilidades mismas se pueden expresar como *valores esperados del proyector asociado*\n",
    "\n",
    "$$\n",
    "p(\\lambda_k ) =  \\bra{\\psi}P_k\\ket{\\psi} = \\langle P_k\\rangle \n",
    "$$\n",
    "El espectro de un observable está formado por números reales que podemos ordenar $\\lambda_{min}<...<\\lambda_{max}$.\n",
    "El valor esperado de un observable en uno de sus autoestados coincide con el autovalor asociado\n",
    "\n",
    "$$\n",
    "\\bra{\\lambda_i}A \\ket{\\lambda_i} = \\bra{\\lambda_i}\\lambda_i \\ket{\\lambda_i}  = \\lambda_i \\braket{\\lambda_i}{\\lambda_i} = \\lambda_i\n",
    "$$\n"
   ]
  },
  {
   "cell_type": "markdown",
   "id": "b7185b97",
   "metadata": {
    "slideshow": {
     "slide_type": "slide"
    }
   },
   "source": [
    "El valor esperado de un observable $A$ está acotado entre sus valores propios mínimo y máximo\n",
    "\n",
    "$$\n",
    "\\lambda_{min} \\leq \\bra{\\psi}A\\ket{\\psi} \\leq \\lambda_{max}\n",
    "$$\n",
    "\n",
    "y las desigualdades anteriores se saturan en los autoestados correspondientes $\\ket{\\psi} = \\ket{\\lambda_{max/min}}$\n"
   ]
  },
  {
   "cell_type": "markdown",
   "id": "2747ef46",
   "metadata": {
    "slideshow": {
     "slide_type": "slide"
    }
   },
   "source": [
    "#### Desviación estándar\n",
    "<a id='desviacion_estandar'></a>\n",
    "\n",
    "La *varianza*  es la media de la desviación cuadrática de la variable aleatoria $(\\lambda,p(\\lambda))$ es decir \n",
    "\n",
    "\n",
    "$$\n",
    "~~\\sigma ^2 = \\overline{(\\lambda_i-\\bar\\lambda_i)^2}= \\overline{\\lambda^2} - \\overline{\\lambda}^2\n",
    "$$\n",
    "de aquí se sigue, para la desviación estándar"
   ]
  },
  {
   "cell_type": "markdown",
   "id": "e713036b",
   "metadata": {
    "slideshow": {
     "slide_type": "fragment"
    }
   },
   "source": [
    "::::::{card} \n",
    "<b>Teorema</b>:  \n",
    "\n",
    "^^^\n",
    "   \n",
    "$$ \\sigma = \\sqrt{\\bra{\\psi}A^2\\ket{\\psi} - \\bra{\\psi} A\\ket{\\psi}^2}\n",
    "$$\n",
    "\n",
    "::::::\n"
   ]
  },
  {
   "cell_type": "markdown",
   "id": "0e68eaff",
   "metadata": {},
   "source": [
    "Evaluada en un estado propio $\\ket{\\lambda_i}$, la varianza de un operador es cero\n",
    "\n",
    "$$\n",
    "\\sigma^2 = \\bra{\\lambda_i}A^2\\ket{\\lambda_i} - \\bra{\\lambda_i} A\\ket{\\lambda_i}^2 = \\bra{\\lambda_i}\\lambda_i^2\\ket{\\lambda_i} - \\bra{\\lambda_i} \\lambda_i\\ket{\\lambda_i}^2 = 0\n",
    "$$"
   ]
  },
  {
   "cell_type": "code",
   "execution_count": 2,
   "id": "7fadb4b6",
   "metadata": {
    "slideshow": {
     "slide_type": "slide"
    }
   },
   "outputs": [],
   "source": [
    "' funcion que toma una matriz y un vector normalizado  y devuelve el valor esperado y la desviación '\n",
    "def vev_sig(A, ket):\n",
    "\n",
    "    assert np.round(np.sqrt(np.dot(ket.conj().T,ket)[0,0]).real,5)  == 1. # chequeamos que la norma es unidad\n",
    "    bra = ket.conj().T\n",
    "    \n",
    "    'el valor esperado'\n",
    "    vev = np.dot(bra,np.dot(A,ket))[0,0].real\n",
    "   \n",
    "    'la varianza'\n",
    "    A2 = np.dot(A,A)\n",
    "    var= np.dot(bra,np.dot(A2,ket))[0,0] - vev**2\n",
    "    sig = np.sqrt(np.abs(var.real))\n",
    "    \n",
    "    return(np.round(vev,5), np.round(sig,10))"
   ]
  },
  {
   "cell_type": "code",
   "execution_count": 3,
   "id": "1c99f7bd",
   "metadata": {
    "run_control": {
     "marked": false
    },
    "slideshow": {
     "slide_type": "slide"
    }
   },
   "outputs": [
    {
     "data": {
      "text/plain": [
       "array([-4.6144, -0.2214,  5.164 ])"
      ]
     },
     "execution_count": 3,
     "metadata": {},
     "output_type": "execute_result"
    }
   ],
   "source": [
    "' definamos una matriz hermítica '\n",
    "#np.random.seed(10) \n",
    "A = np.matrix(np.random.randn(3,3) + np.random.randn(3,3)*1j)\n",
    "A +=  A.getH()\n",
    "eigvals, eigvecs = np.linalg.eigh(A)\n",
    "' mostramos los autovalores '\n",
    "np.round(eigvals,4)"
   ]
  },
  {
   "cell_type": "markdown",
   "id": "ae03d791",
   "metadata": {
    "slideshow": {
     "slide_type": "slide"
    }
   },
   "source": [
    "A continuación evaluamos el valor esperado en un vector aleatorio, y en dos autovectores de $A$"
   ]
  },
  {
   "cell_type": "code",
   "execution_count": 4,
   "id": "818443b7",
   "metadata": {},
   "outputs": [
    {
     "name": "stdout",
     "output_type": "stream",
     "text": [
      "<A>=  -4.6144  sigma =  0.0\n"
     ]
    }
   ],
   "source": [
    "'definamos un ket'\n",
    "vec1 = np.random.randn(len(A),1)   # este es un autovector aleatorio\n",
    "vec2 = eigvecs[:,0]           # este es el autovector de autovalor mínimo\n",
    "vec3 = eigvecs[:,-1]          # éste es un autovector de autovalor máximo\n",
    "\n",
    "ket = vec2       # elegimos uno \n",
    "\n",
    "'normalizado'\n",
    "norma=np.sqrt(np.dot(ket.conj().T,ket)[0,0]).real \n",
    "uket = ket/norma\n",
    "\n",
    "\n",
    "vev, sig = vev_sig(A,uket)\n",
    "\n",
    "print('<A>= ',vev, ' sigma = ', sig)\n"
   ]
  },
  {
   "cell_type": "markdown",
   "id": "7cefc218",
   "metadata": {
    "slideshow": {
     "slide_type": "slide"
    }
   },
   "source": [
    "## Evolución temporal"
   ]
  },
  {
   "cell_type": "markdown",
   "id": "f8f976eb",
   "metadata": {
    "slideshow": {
     "slide_type": "slide"
    }
   },
   "source": [
    "### Ecuación de Schrödinger\n",
    "\n",
    "El estado de un sistema $\\ket{\\psi(t)}$ posee la máxima información instantánea accesible de un sistema, es decir, a un tiempo dado $t$. \n",
    "Dado $\\ket{\\psi(t_0)}$ en un instante inicial $t_0$, la evolución posterior obedece a la  ecuación diferencial de Schrödinger\n",
    "\n",
    "$$\n",
    " \\displaystyle \\frac{d}{d t}\\ket{\\psi(t)} =-\\frac{i}{\\hbar} H(t) \\ket{\\psi(t)} \\, .\n",
    "$$\n",
    "\n",
    "\n",
    "Hemos enfatizado el hecho de que, en el caso más general, $H(t)$ puede depender del tiempo.\n",
    "\n"
   ]
  },
  {
   "cell_type": "markdown",
   "id": "13f94259",
   "metadata": {
    "slideshow": {
     "slide_type": "slide"
    }
   },
   "source": [
    "::::::{admonition} Notar\n",
    ":class: note\n",
    "\n",
    "\n",
    "\n",
    "Las cantidades que entran en la ecuación de Schrödinger *tienen unidades*: \n",
    "\n",
    "- $H$ tiene unidades de *energía*. En el SI (Sistema Iternacional) $\\to$ $\\hbox{Julios = J}$\n",
    "\n",
    "\n",
    "- $t$ tiene unidades de *tiempo*, en el SI $\\to$ $\\hbox{segundos = s}$\n",
    "\n",
    "\n",
    "- $\\hbar$ es la constante de Planck, y  tiene unidades de *acción*= energía $\\times$  tiempo. En el SI  $\\to $ $\\hbox{Julios}\\cdot\\hbox{segundo} =  \\hbox{J}\\cdot\\hbox{s}$. $~$ Se trata de una *cantidad universal* \n",
    "$$\n",
    "\\boxed{\\hbar = 1.054\\times 10^{-34}~~ \\hbox{J}\\cdot\\hbox{s}}\n",
    "$$\n",
    "\n",
    "::::::\n"
   ]
  },
  {
   "cell_type": "markdown",
   "id": "79a525f3",
   "metadata": {
    "slideshow": {
     "slide_type": "slide"
    }
   },
   "source": [
    "#### Conservación de la probabilidad.\n",
    "\n",
    "La *hermiticidad* de $H$ se relaciona directamente con la interpretación probabilística de $\\ket{\\psi}$.\n",
    "\n",
    "::::::{card} \n",
    "<b>Teorema</b>:  \n",
    "\n",
    "^^^\n",
    "\n",
    "En la evolución temporal se conserva la norma del vector de estado\n",
    "::::::\n"
   ]
  },
  {
   "cell_type": "markdown",
   "id": "493b0f30",
   "metadata": {
    "slideshow": {
     "slide_type": "skip"
    }
   },
   "source": [
    ":::{dropdown} Prueba\n",
    "\n",
    "\\begin{eqnarray*}\n",
    "\\frac{d}{dt}\\|\\ket{\\psi}\\|^2 = \\frac{d}{dt}\\braket{\\psi(t)}{\\psi(t)} &=& \\left(\\rule{0mm}{3mm}\\frac{d}{dt}\\bra{\\psi(t)}\\right)\\ket{\\psi(t)} + \n",
    "\\bra{\\psi(t)}\\left(\\frac{d}{dt}\\ket{\\psi(t)} \\right)\\nonumber\\\\\n",
    "&=& \\left(\\bra{\\psi(t)}\\frac{i}{\\hbar}H^\\dagger\\right)\\ket{\\psi(t)} + \\bra{\\psi(t)}\\left(-\\frac{i}{\\hbar}H\\ket{\\psi(t)} \\right) \\nonumber\\\\\n",
    "&=&\\frac{i}{\\hbar} \\bra{\\psi(t)}(H^\\dagger - H)\\ket{\\psi(t)} = 0\n",
    "\\end{eqnarray*}\n",
    "\n",
    "Es decir: $\\|\\ket{\\psi}\\|$ no cambia con el tiempo, y \n",
    "esto implica que la norma de $\\ket{\\psi(t)}$ se conserva $\\Rightarrow 1 = \\|\\ket{\\psi(0)}\\| =\\|\\ket{\\psi(t)}\\|$\n",
    ":::\n",
    "\n"
   ]
  },
  {
   "cell_type": "markdown",
   "id": "57d3434a",
   "metadata": {
    "slideshow": {
     "slide_type": "slide"
    }
   },
   "source": [
    "### Operador de Evolución\n",
    "<a id='operador_evolucion'></a>\n",
    "\n",
    "La conservación de la norma implica que la evolución $\\|\\ket{\\psi(0)\\|} =\\|\\ket{\\psi(t)}\\|$ es un *proceso unitario*. \n",
    "En otras palabras, debe existir un operador unitario \n",
    "\n",
    "$$\n",
    "U(t,t_0)^{-1}= U(t,t_0)^\\dagger \n",
    "$$\n",
    "\n",
    "que lleve el estado inicial al actual a tiempo $t$\n",
    "\n",
    "$$\n",
    " U(t,t_0): \\ket{\\psi(t_0)}~~ \\to~~ \\rule{0mm}{3.5mm} \\ket{\\psi(t)} = U(t,t_0)\\ket{\\psi(t_0)}\n",
    "$$"
   ]
  },
  {
   "cell_type": "markdown",
   "id": "e6e0d38f",
   "metadata": {
    "slideshow": {
     "slide_type": "slide"
    }
   },
   "source": [
    "\n",
    "::::::{admonition} Notar\n",
    ":class: note\n",
    "\n",
    "\n",
    "\n",
    "    \n",
    "El operador de evolución satisface las siguientes propiedades\n",
    "\n",
    " -  $U(t_0,t_0) = I$ \\, .\n",
    " \n",
    "\n",
    " -  transitividad:  $U(t,t_1)U(t_1,t_0)= U(t,t_0)$\n",
    " \n",
    " \n",
    " -  invertibilidad: $U(t,t_0)^{-1} = U(t_0,t)$\n",
    " \n",
    "\n",
    "::::::\n"
   ]
  },
  {
   "cell_type": "markdown",
   "id": "eb031dbe",
   "metadata": {
    "slideshow": {
     "slide_type": "slide"
    }
   },
   "source": [
    "Evidentemente, el operador de evolución debe estar relacionado con el Hamiltoniano, que es quien gobierna la dinámica. Veamos a ver que hay una ecuación de Schrödinger también para el operador de evolución\n",
    "\n",
    "::::::{card} \n",
    "<b>Teorema</b>:  \n",
    "\n",
    "^^^\n",
    "\n",
    "El operador de evolución satisface la siguiente ecuación de evolución\n",
    "\n",
    "$$\n",
    " \\frac{d}{dt}U(t,t_0) = -\\frac{i}{\\hbar} H(t)\\, U(t,t_0)\n",
    "$$\n",
    "\n",
    "::::::\n",
    ":::{dropdown} Demostración\n",
    "Tomando la derivada temporal de la ecuación $\\ket{\\psi(t)} = U(t,t_0)\\ket{\\psi(t_0)}$, que define $U(t,t_0)$, tenemos para cada miembro\n",
    "\n",
    "$$\n",
    "\\begin{array}{rcl}\n",
    "\\frac{d}{dt}\\ket{\\psi(t)} &~=~& -\\frac{i}{\\hbar}  H(t)\\ket{\\psi(t)} = -\\frac{i}{\\hbar} H(t)U(t,t_0)\\ket{\\psi(t_0)}  \\nonumber\\\\\n",
    "\\frac{d}{dt}U(t,t_0)\\ket{\\psi(t_0)} &~=~& \\left(\\frac{d}{dt}U(t,t_0)\\right)\\ket{\\psi(t_0)}\n",
    "\\end{array}\n",
    "$$\n",
    "\n",
    "Igualando ambas expresiones, y teniendo en cuanto que $\\ket{\\psi_0}$ es arbitrario, obtenemos la ecuación deseada.\n",
    ":::\n"
   ]
  },
  {
   "cell_type": "markdown",
   "id": "6646481c",
   "metadata": {
    "slideshow": {
     "slide_type": "slide"
    }
   },
   "source": [
    "#### $H$ independiente del tiempo\n",
    "\n",
    "Cuando $H$ no depende del tiempo podemos dar una expresión analítica para el operador de evolución"
   ]
  },
  {
   "cell_type": "markdown",
   "id": "f450aa40",
   "metadata": {
    "slideshow": {
     "slide_type": "fragment"
    }
   },
   "source": [
    "::::::{card} \n",
    "<b>Teorema</b>:  \n",
    "\n",
    "^^^\n",
    "    \n",
    "Para un hamiltoniano $H$ independiente del tiempo, el operador de evolución $U(t,t_0)$ es\n",
    "\n",
    "$$\n",
    "U(t,t_0) = \\exp\\left({-\\frac{i}{\\hbar} (t-t_0)H}\\right)\n",
    "$$\n",
    "\n",
    "::::::\n",
    ":::{dropdown} Demostración\n",
    "Basta con demostrar que se satisface la ecuación de evolución y la condición de contorno\n",
    "\n",
    "$$\n",
    "\\begin{array}{rcl}\n",
    "\\frac{d}{dt}U(t,t_0) &=& \\frac{d}{dt} \\exp\\left({-\\frac{i}{\\hbar} (t-t_0)H}\\right)\n",
    "    \\nonumber\\\\ \\rule{0mm}{6mm}\n",
    "   &=& \\frac{d}{dt}\\left( I +(t-t_0)\\left(-\\frac{i}{\\hbar} H\\right) + \\frac{1}{2!} \n",
    "    (t-t_0)^2\\left(-\\frac{i}{\\hbar} H\\right)^2  + ...\\right) \\nonumber\\\\ \\rule{0mm}{6mm}\n",
    "    &=& 0 +  \\left(-\\frac{i}{\\hbar} H\\right) +  (t-t_0)\\left(-\\frac{i}{\\hbar} H\\right)^2  + ... \\nonumber\\\\ \\rule{0mm}{6mm}\n",
    "&=&  \\left(-\\frac{i}{\\hbar} H\\right)\\left( I + (t-t_0) \\left(-\\frac{i}{\\hbar} H\\right) + ...\\right)\n",
    "  \\nonumber \\\\ \\rule{0mm}{6mm} \n",
    "&=& \\left(-\\frac{i}{\\hbar} H\\right) \\exp\\left({-\\frac{i}{\\hbar} (t-t_0)H}\\right)    \\nonumber\\\\ \\rule{0mm}{6mm}\n",
    "&=& -\\frac{i}{\\hbar} H \\,  U(t,t_0)\n",
    "\\end{array}\n",
    "$$\n",
    "\n",
    "Además\n",
    "\n",
    "$$\n",
    "U(t_0,t_0) =  \\exp\\left({-\\frac{i}{\\hbar} (t_0-t_0)H}\\right)=\\exp(0) = I\n",
    "$$\n",
    "\n",
    ":::\n"
   ]
  },
  {
   "cell_type": "markdown",
   "id": "1957338e",
   "metadata": {
    "slideshow": {
     "slide_type": "fragment"
    }
   },
   "source": [
    "::::::{admonition} Notar\n",
    ":class: note\n",
    "\n",
    "\n",
    "\n",
    "que la cantidad ${-\\frac{i}{\\hbar} (t-t_0) H }$ es adimensional\n",
    "\n",
    "$$\n",
    "\\frac{1}{\\hbox{J}\\cdot \\hbox{s}}\\hbox{s}\\cdot\\hbox{J} = 1\n",
    "$$ \n",
    "\n",
    "Es decir, es un número puro. Por eso podemos exponenciarla. El operador de evolución $U(t,t_0)$ es, por tanto, también, una magnitud adimensional.\n",
    "::::::\n"
   ]
  },
  {
   "cell_type": "markdown",
   "id": "c72f0f24",
   "metadata": {},
   "source": [
    "::::::{admonition} Ejercicio\n",
    ":class: tip\n",
    "\n",
    "\n",
    "Escribe una función <i>psi(t,psi0,H)</i> que reciba como argumentos el array <i>psi0</i> de componentes de $\\ket{\\psi(0)}$, una matriz hermítica <i>H</i>, y un valor de <i>t</i>, y devuelva un vector columna correspondiente a $\\ket{\\psi(t)}$. Considera $\\hbar=1$.\n",
    "::::::\n"
   ]
  },
  {
   "cell_type": "code",
   "execution_count": 5,
   "id": "f80bb0e8",
   "metadata": {
    "code_folding": [],
    "slideshow": {
     "slide_type": "fragment"
    }
   },
   "outputs": [],
   "source": [
    "def psi(t,psi0,H):\n",
    "    lpsi = len(psi0)\n",
    "    lH = H.shape[0]\n",
    "    assert lpsi == lH\n",
    "    \n",
    "    psi0ket =np.array(psi0).reshape(lpsi,1)\n",
    "    psitket = np.dot(expm(- 1j*t*H),psi0ket)\n",
    "    return psitket"
   ]
  },
  {
   "cell_type": "markdown",
   "id": "15fe0fdd",
   "metadata": {
    "slideshow": {
     "slide_type": "slide"
    }
   },
   "source": [
    "::::::{admonition} Ejercicio\n",
    ":class: tip\n",
    "\n",
    "\n",
    "Crea un Hamiltoniano aleatorio $2\\times 2$ y considera que la base en la que está escrito es $\\{\\ket{0},\\ket{1}\\}$. Partiendo de cualquiera de ellos, grafica las probabilidades de permanencia $p(\\ket{0}\\to \\ket{0})$ y de transición $p(\\ket{0}\\to \\ket{1})$ como funciones del tiempo (considera que $\\hbar = 1$ por simplicidad). Grafica también el valor esperado de $H$ en ambos estados como función del tiempo. Observa el resultado e intenta explicar por qué es así.    \n",
    "::::::\n"
   ]
  },
  {
   "cell_type": "code",
   "execution_count": 6,
   "id": "b220561e",
   "metadata": {
    "slideshow": {
     "slide_type": "slide"
    }
   },
   "outputs": [],
   "source": [
    "from matplotlib import pyplot as plt\n",
    "from scipy.linalg import expm\n",
    "\n",
    "' definamos un Hamiltoniano '\n",
    "A = np.random.randn(2,2) + np.random.randn(2,2)*1j\n",
    "A = np.asmatrix(A)\n",
    "H = A + A.getH()\n",
    "\n",
    "'estado inicial |psi(0)>'\n",
    "psi0 = [1,0]\n",
    "\n",
    "tend = 2\n",
    "steps = 100\n",
    "tlist= np.linspace(0,tend, steps + 1)\n",
    "\n",
    "'estado a tiempo t |psi(t)>'\n",
    "psitketlist = [psi(tlist[i],psi0,H) for i in range(len(tlist))]\n",
    "\n",
    "'probabilidades'\n",
    "p00list = [np.abs(psitketlist[i][0,0])  for i in range(len(tlist))]\n",
    "p01list = [np.abs(psitketlist[i][1,0])  for i in range(len(tlist))]\n",
    "\n",
    "'valores esperados <H>(t)'\n",
    "psitbralist= [psitketlist[i].conj().reshape(1,2) for i in range(len(tlist))]\n",
    "Hvevtlist = [np.dot(psitbralist[i],np.dot(H,psitketlist[i])).real[0,0] for i in range(len(tlist))]\n"
   ]
  },
  {
   "cell_type": "markdown",
   "id": "4b7e12ca",
   "metadata": {
    "slideshow": {
     "slide_type": "slide"
    }
   },
   "source": [
    "Graficamos"
   ]
  },
  {
   "cell_type": "code",
   "execution_count": 7,
   "id": "d578ddf1",
   "metadata": {},
   "outputs": [
    {
     "data": {
      "image/png": "[encoded data removed]",
      "text/plain": [
       "<Figure size 640x480 with 2 Axes>"
      ]
     },
     "metadata": {},
     "output_type": "display_data"
    }
   ],
   "source": [
    "fig, ax1 = plt.subplots()\n",
    "\n",
    "color = 'tab:red'\n",
    "ax1.set_xlabel('time (s)')\n",
    "ax1.set_ylabel('p(0i)', color= 'tab:red')\n",
    "ax1.plot(tlist,p00list, color= 'tab:red')\n",
    "ax1.plot(tlist,p01list, color= 'tab:orange')\n",
    "ax1.tick_params(axis='y', labelcolor='tab:red')\n",
    "\n",
    "ax2 = ax1.twinx()  # instantiate a second axes that shares the same x-axis\n",
    "\n",
    "color = 'tab:blue'\n",
    "ax2.set_ylabel('<H>', color='tab:blue')  # we already handled the x-label with ax1\n",
    "ax2.plot(tlist,Hvevtlist, color='tab:blue')\n",
    "ax2.tick_params(axis='y', labelcolor='tab:blue')\n",
    "\n",
    "fig.tight_layout()  # otherwise the right y-label is slightly clipped\n",
    "plt.show()"
   ]
  },
  {
   "cell_type": "markdown",
   "id": "ab39f660",
   "metadata": {
    "slideshow": {
     "slide_type": "slide"
    }
   },
   "source": [
    "#### Evolución en la base autoestados de H"
   ]
  },
  {
   "cell_type": "markdown",
   "id": "9fdcd243",
   "metadata": {
    "slideshow": {
     "slide_type": "fragment"
    }
   },
   "source": [
    "La forma más eficaz de calcular la evolución de un estado arbitrario es expresarla en la base $\\{\\ket{n}\\}$ de autoestados de $H \\, \\Rightarrow \\,H \\ket{n} = E_n \\ket{n}~~~~n=1,..,N.$ $~$\n",
    "En esta base, $H$ es una matriz $H_{mn}$ diagonal \n",
    "\n",
    "$$\n",
    "H_{mn} =  \\begin{bmatrix} E_0 &  & & \\\\  & E_1 &  & \\\\ & & \\ddots & \\\\ & & & \\end{bmatrix} =E_m \\delta_{mn} \\, .\n",
    "$$\n",
    "\n",
    "Entonces la matriz de evolución es también diagonal \n",
    "\n",
    "$$\n",
    "U_{mn} = \\exp\\left(-\\frac{i}{\\hbar}t H_{mn}\\right) = \n",
    " \\begin{bmatrix} e^{-\\frac{i}{\\hbar}t E_0} &  & & \\\\  & e^{-\\frac{i}{\\hbar} t E_1}  &  & \\\\ & & \\ddots & \\\\ & & & \\end{bmatrix} = e^{-\\frac{i}{\\hbar} t  E_m }\\delta_{mn} \\, .\n",
    "$$\n",
    "\n",
    "La evolución temporal de un autoestado de la energía es trivial (es una fase global)\n",
    "\n",
    "$$\n",
    "U(t,0)\\ket{n} = e^{-\\frac{i}{\\hbar} t E_n} \\ket{n}\\, .\n",
    "$$\n",
    "\n",
    "Esta fase deja de ser trivial cuando afecta a una combinación lineal. . \n",
    "Es decir, si a $t=0$\n",
    "$\n",
    "\\ket{\\psi(t=0)} = \\sum_n c_n \\ket{n} \\, ,\n",
    "$\n",
    "entonces, a tiempo $t$ \n",
    "\n",
    "$$\n",
    "\\ket{\\psi(t)} = \\sum_n c_n e^{-\\frac{i}{\\hbar}E_n} \\ket{n} \\, .\n",
    "$$\n",
    "    "
   ]
  }
 ],
 "metadata": {
  "kernelspec": {
   "display_name": "Python 3 (ipykernel)",
   "language": "python",
   "name": "python3"
  },
  "language_info": {
   "codemirror_mode": {
    "name": "ipython",
    "version": 3
   },
   "file_extension": ".py",
   "mimetype": "text/x-python",
   "name": "python",
   "nbconvert_exporter": "python",
   "pygments_lexer": "ipython3",
   "version": "3.11.7"
  },
  "nbTranslate": {
   "displayLangs": [
    "*"
   ],
   "hotkey": "alt-t",
   "langInMainMenu": true,
   "sourceLang": "en",
   "targetLang": "fr",
   "useGoogleTranslate": true
  },
  "toc": {
   "base_numbering": 1,
   "nav_menu": {},
   "number_sections": true,
   "sideBar": true,
   "skip_h1_title": true,
   "title_cell": "Table of Contents",
   "title_sidebar": "Contents",
   "toc_cell": false,
   "toc_position": {
    "height": "calc(100% - 180px)",
    "left": "10px",
    "top": "150px",
    "width": "414.053px"
   },
   "toc_section_display": true,
   "toc_window_display": false
  },
  "varInspector": {
   "cols": {
    "lenName": 16,
    "lenType": 16,
    "lenVar": 40
   },
   "kernels_config": {
    "python": {
     "delete_cmd_postfix": "",
     "delete_cmd_prefix": "del ",
     "library": "var_list.py",
     "varRefreshCmd": "print(var_dic_list())"
    },
    "r": {
     "delete_cmd_postfix": ") ",
     "delete_cmd_prefix": "rm(",
     "library": "var_list.r",
     "varRefreshCmd": "cat(var_dic_list()) "
    }
   },
   "types_to_exclude": [
    "module",
    "function",
    "builtin_function_or_method",
    "instance",
    "_Feature"
   ],
   "window_display": false
  }
 },
 "nbformat": 4,
 "nbformat_minor": 5
}