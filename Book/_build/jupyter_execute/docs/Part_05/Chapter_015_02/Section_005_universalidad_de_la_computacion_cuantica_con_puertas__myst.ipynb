{
 "cells": [
  {
   "cell_type": "markdown",
   "id": "8ddaeb38",
   "metadata": {},
   "source": [
    "> {sub-ref}`today` | {sub-ref}`wordcount-minutes` min read\n",
    "\n",
    "<img src=\"Figuras/Fig_logo_UMA_scbi.png\" align=center  width=\"2000px\"/>\n",
    "\n",
    "\n",
    "<a href=\"https://www.scbi.uma.es/web/es/computacion-cuantica/\">\n",
    "    <button class=\"rounded\" style=\"float: right;\">\n",
    "    <svg xmlns=\"http://www.w3.org/2000/svg\" width=\"32\" height=\"32\" viewBox=\"0 0 24 24\">\n",
    "        <path fill=\"var(--fill, white)\"\n",
    "        d=\"M18.1 15.3c-.1.1-.3.2-.4.3l-2.4.4l1.7 3.6c.2.4 0 .8-.4\n",
    "            1l-2.8 1.3c-.1.1-.2.1-.3.1c-.3 0-.6-.2-.7-.4L11.2\n",
    "            18l-1.9 1.5c-.1.1-.3.2-.5.2c-.4 0-.8-.3-.8-.8V7.5c0-.5.3-.8.8-.8c.2 0\n",
    "            .4.1.5.2l8.7 7.4c.3.2.4.7.1 1M6 12H4V4h16v8h-1.6l2.2 1.9c.8-.3 1.3-1\n",
    "            1.3-1.9V4c0-1.1-.9-2-2-2H4c-1.1 0-2 .9-2 2v8c0 1.1.9 2 2 2h2z\" />\n",
    "    </svg>\n",
    "    Volver a SCBI - Computación Cuantica\n",
    "    </button>\n",
    "</a>\n",
    "\n",
    "$ \\newcommand{\\bra}[1]{\\langle #1|} $\n",
    "$ \\newcommand{\\ket}[1]{|#1\\rangle} $\n",
    "$ \\newcommand{\\branew}[1]{\\langle #1|} $\n",
    "$ \\newcommand{\\ketnew}[1]{\\langle #1|} $\n",
    "$ \\newcommand{\\braket}[2]{\\langle #1|#2\\rangle} $\n",
    "$ \\newcommand{\\ketbra}[2]{| #1\\rangle \\langle #2 |} $\n",
    "$ \\newcommand{\\i}{{\\color{blue} i}} $ \n",
    "$ \\newcommand{\\Hil}{{\\cal H}} $\n",
    "$ \\newcommand{\\cg}[1]{{\\rm C}#1} $\n",
    "$ \\newcommand{\\lp}{\\left(} $\n",
    "$ \\newcommand{\\rp}{\\right)} $\n",
    "$ \\newcommand{\\lc}{\\left[} $\n",
    "$ \\newcommand{\\rc}{\\right]} $\n",
    "$ \\newcommand{\\lch}{\\left\\{} $\n",
    "$ \\newcommand{\\rch}{\\right\\}} $\n",
    "$ \\newcommand{\\Lp}{\\Bigl(} $\n",
    "$ \\newcommand{\\Rp}{\\Bigr)} $\n",
    "$ \\newcommand{\\Lc}{\\Bigl[} $\n",
    "$ \\newcommand{\\Rc}{\\Bigr]} $\n",
    "$ \\newcommand{\\Lch}{\\Bigl\\{} $\n",
    "$ \\newcommand{\\Rch}{\\Bigr\\}} $\n",
    "$ \\newcommand{\\rqa}{\\quad \\Rightarrow \\quad} $\n",
    "$ \\newcommand{\\bm}{\\boldsymbol}$"
   ]
  },
  {
   "cell_type": "markdown",
   "id": "080fe82e",
   "metadata": {},
   "source": [
    "\n",
    "(sec_elementos_universalidad)= \n",
    "# Universalidad de la computación cuántica con puertas. \n"
   ]
  },
  {
   "cell_type": "markdown",
   "id": "223f5c3c",
   "metadata": {},
   "source": [
    "El objetivo de un <b>computador cuántico universal</b> es el de ser capaz de implementar el operador unitario más general\n",
    "\\begin{equation}\n",
    "U  = \\sum_x \\ket{f(x)}\\bra{x}\n",
    "\\end{equation}\n",
    "donde $f: x \\to f(x)$ es una función arbitraria invertible.\n"
   ]
  },
  {
   "cell_type": "markdown",
   "id": "91893c02",
   "metadata": {},
   "source": [
    "## Teorema\n"
   ]
  },
  {
   "cell_type": "markdown",
   "id": "0d4af0dc",
   "metadata": {},
   "source": [
    "::::::{prf:theorem} Barenco et. al. 1995 [[88]](../../Bibliografia.ipynb#bib_Barenco_Universalidad_CC\n",
    "\n",
    "\n",
    "Cualquier operador unitario $U_n$ sobre $n$ qubits puede expresarse como el\n",
    "producto de\n",
    "\n",
    "\n",
    "- puertas continuas de <i>un qubit</i>\n",
    "\n",
    "- puertas CNOT\n",
    "\n",
    "::::::\n",
    "\n",
    "\n"
   ]
  },
  {
   "cell_type": "markdown",
   "id": "4cedf38f",
   "metadata": {},
   "source": [
    "Podemos ver un ejemplo de este teorema en la Fig.  {numref}`%s <Fig_elementos_Equiv_Phase>`.\n",
    "::::{figure} Figuras/Fig_elementos_Equiv_Phase.png\n",
    ":width: 600px\n",
    ":align: center\n",
    ":name: Fig_elementos_Equiv_Phase\n",
    "Descomposión de la puerta $\\cg{P_\\phi}$ en puertas de un qubit y CNOTs\n",
    "::::\n"
   ]
  },
  {
   "cell_type": "markdown",
   "id": "301c80c8",
   "metadata": {},
   "source": [
    "::::::::::{dropdown} Demostración\n",
    "No vamos a ver en detalle la demostración pero su vamos a ilustrar cuales son los pasos a seguir:\n",
    "\n",
    "\n",
    "1. Cualquier operador $U_n$ sobre $n$ cúbits se puede descomponer como <b>producto de operadores</b> $\\cg{^kU}$\n",
    "    controlados por $k$ cúbits.\n",
    "\n",
    "\n",
    "2. Los operadores $\\hbox{C}^kU$ se pueden descomponer como productos de un  operador $\\cg{U}$ y puertas de Toffoli (CCNOT).\n",
    "    En general para $\\cg{^kU}$ necesitamos $k-1$ ancillas, como podemos ver en la Fig.  {numref}`%s <Fig_universal_CkUdecomposition>`.\n",
    "    ::::{figure} Figuras/Fig_universal_CkUdecomposition.png\n",
    "    :width: 650px\n",
    "    :align: center\n",
    "    :name: Fig_universal_CkUdecomposition\n",
    "    Descomposión de una puerta $U$ multicontrolada.\n",
    "    ::::\n",
    "\n",
    "\n",
    "3. Las puertas de Toffoli puede descomponerse como productos de $H$, $\\cg{X}$ y $\\cg{S}$, como podemos ver en la\n",
    "    Fig.  {numref}`%s <Fig_universal_Toffolidecomposition>`. Este no es más que el caso particular  de la descomposición general\n",
    "    de $\\cg{^2U}$ de la Fig.  {numref}`%s <Fig_elementos_CCUdecomposition>` usando\n",
    "    $U = X = HZH=HSSH =  (HSH)(HSH)= V^2 ~~\\Rightarrow ~~V = HSH$.\n",
    "    ::::{figure} Figuras/Fig_universal_Toffolidecomposition.png\n",
    "    :width: 650px\n",
    "    :align: center\n",
    "    :name: Fig_universal_Toffolidecomposition\n",
    "    Descomposión de la puerta Toffoli.\n",
    "    ::::\n",
    "\n",
    "\n",
    "4. Una puerta $\\cg{U}$ puede descomponerse de forma única usando tres rotaciones $A, B$ y $C$ que verifiquen\n",
    "    \\begin{equation}\n",
    "    ABC = I ~~~~~,~~~~ e^{i\\delta}  AXBXC = U\\, ,\n",
    "    \\end{equation}\n",
    "    siguiendo el circuito de la Fig.  {numref}`%s <Fig_universal_CUdecomposition>`\n",
    "    ::::{figure} Figuras/Fig_universal_CUdecomposition.png\n",
    "    :width: 650px\n",
    "    :align: center\n",
    "    :name: Fig_universal_CUdecomposition\n",
    "    Descomposión de $\\cg{U}$.\n",
    "    ::::\n",
    "    En efecto, si el qubit de control es $\\ket{0}$ la fase $P(\\delta)$ no le afecta y el operador efectivo en el segundo\n",
    "    qubit es $ABC= I$. Por el contrario, si el primer qubits es $\\ket{1}$, entonces se aplica $AXBXC$ al segundo qubit, y\n",
    "    el operador $P(\\delta)$ añade la fase global, que al ser global podemos pasársela al segundo qubit, lo que hace\n",
    "    $e^{i\\delta} AXBXC = U$.\n",
    "\n",
    "    ::::::{admonition} Nota (detalles sobre la descomposición de $\\cg {U}$) \n",
    "    :class: note\n",
    "\n",
    "\n",
    "\n",
    "    Las dos condiciones  algebráicas admiten una solución única para un operador unitario genérico\n",
    "    \\begin{align*}\n",
    "    U = & e^{i\\delta}\n",
    "    \\begin{bmatrix}\n",
    "    e^{-i(\\alpha+\\beta)/2} \\cos\\frac{\\theta}{2}  &  - e^{i(-\\alpha+\\beta)/2}\\sin\\frac{\\theta}{2}  \\\\  \\rule{0mm}{5mm}\n",
    "    e^{i(\\alpha-\\beta)/2}\\sin\\frac{\\theta}{2}    &  e^{i(\\alpha+\\beta)/2}\\cos\\frac{\\theta}{2}\n",
    "    \\end{bmatrix}\n",
    "    = e^{i\\delta} AXBXC ~  \\Longrightarrow ~ \\\\ \n",
    "    & \\Longrightarrow\n",
    "    \\left\\{ \\begin{array}{l}\n",
    "    A = R_z(\\alpha) R_y\\left(\\frac{\\theta}{2}\\right) \\\\\n",
    "    B = R_y\\left(-\\frac{\\theta}{2}\\right) R_z\\left(-\\frac{\\alpha + \\beta}{2}\\right) \\\\\n",
    "    C = R_z\\left( \\frac{\\beta-\\alpha}{2}\\right)\n",
    "    \\end{array} \\right.\n",
    "    \\end{align*}\n",
    "\n",
    "    Como $U\\in U(2)$  es un operador unitario y  su determinante es una fase $\\det U = e^{i\\delta}$. Por su parte\n",
    "    $\\det(AXBXC) = 1$, y por tanto es un elemento de $SU(2)$.  Por esta razón es necesario añadir la fase $e^{i\\delta}$\n",
    "    para obtener un operador unitario general.\n",
    "    ::::::\n",
    "\n",
    "\n",
    "::::::::::\n"
   ]
  },
  {
   "cell_type": "markdown",
   "id": "e0abb2c3",
   "metadata": {},
   "source": [
    "## Conjuntos de puertas universales\n"
   ]
  },
  {
   "cell_type": "markdown",
   "id": "621f942a",
   "metadata": {},
   "source": [
    "La descomposición del teorema de Barenco es  una identidad exacta capaz de descomponer un conjunto infinito y continuo de operadores $U_n$ en puertas CNOT y puertas <i>continuas</i> $U$. Por otro lado, esto coincide con la demanda de la computación cuántica <b>resistente a errores (fault tolerant)</b> de una discretización del proceso de computación. De esta forma, lo que se busca es un <i>conjunto discreto de puertas universales</i> susceptibles de ser implementadas de manera resistente a errores.\n"
   ]
  },
  {
   "cell_type": "markdown",
   "id": "a3bf220a",
   "metadata": {},
   "source": [
    "Este conjunto de puertas universales puede ser diferente dependiendo de la plataforma utilizada. Por ejemplo, circuitos superconductores se usa, entre otras, la base\n",
    "\n",
    " \n",
    "- Las puertas de Clifford: $\\{ H$, $S$, CNOT$ \\}$ + $T$\n",
    "\n"
   ]
  },
  {
   "cell_type": "markdown",
   "id": "126b0307",
   "metadata": {},
   "source": [
    "Es importante relacionar las puertas universales con <b>puertas nativas</b> (las que de verdad se implementan y se usan para construir las demás). Por ejemplo, en ordenadores de iones atrapados hay las siguientes puertas nativas {cite}`bib_IONQ`:\n",
    "\\begin{equation}\n",
    "\\{ \\hbox{GPi},\\hbox{Virtual}Z, \\hbox{MS}\\}\n",
    "\\end{equation}\n",
    "donde\n",
    "\\begin{equation}\n",
    "\\hbox{GPi} = \\begin{bmatrix} 0 & e^{-i\\phi} \\\\e^{i\\phi} & 0 \\end{bmatrix}~~~,~~~\n",
    "\\hbox{Virtual}Z = \\begin{bmatrix} e^{-i\\phi} & 0 \\\\ 0 & e^{i\\phi} \\end{bmatrix} ~~,~~~~\n",
    "\\end{equation}\n",
    "y la puerta de Mølmer-Sørensen\n",
    "\\begin{equation}\n",
    "MS(\\phi_1,\\phi_2) = \\frac{1}{\\sqrt{2}}\n",
    "\\begin{bmatrix}\n",
    "1 & 0 & 0 & e^{-i(\\phi_1+\\phi_2)} \\\\ 0 & 1 &-i e^{-i(\\phi_1-\\phi_2)} & 0 \\\\ 0 & -i e^{i(\\phi_1-\\phi_2)} & 1 & 0  \\\\\n",
    "-ie^{i(\\phi_1+\\phi_2)} & 0 & 0 & 1\n",
    "\\end{bmatrix}\n",
    "\\end{equation}\n"
   ]
  },
  {
   "cell_type": "markdown",
   "id": "8534e04c",
   "metadata": {},
   "source": [
    "::::{figure} https://quantumspain-project.es/wp-content/uploads/2022/11/Logo_QS_EspanaDigital.png\n",
    ":width: 2000px\n",
    ":align: center\n",
    "::::\n",
    "\n",
    "<center>\n",
    "<img align=\"left\" src=\"https://quantumspain-project.es/wp-content/uploads/2024/02/Banner-QS_GOB_v2.png\" width=\"1000px\" />\n",
    "</center>"
   ]
  }
 ],
 "metadata": {
  "kernelspec": {
   "display_name": "Python 3 (ipykernel)",
   "language": "python",
   "name": "python3"
  },
  "language_info": {
   "codemirror_mode": {
    "name": "ipython",
    "version": 3
   },
   "file_extension": ".py",
   "mimetype": "text/x-python",
   "name": "python",
   "nbconvert_exporter": "python",
   "pygments_lexer": "ipython3",
   "version": "3.11.7"
  },
  "toc": {
   "base_numbering": 1,
   "nav_menu": {},
   "number_sections": false,
   "sideBar": true,
   "skip_h1_title": true,
   "title_cell": "Table of Contents",
   "title_sidebar": "Contents",
   "toc_cell": false,
   "toc_position": {},
   "toc_section_display": true,
   "toc_window_display": false
  }
 },
 "nbformat": 4,
 "nbformat_minor": 5
}