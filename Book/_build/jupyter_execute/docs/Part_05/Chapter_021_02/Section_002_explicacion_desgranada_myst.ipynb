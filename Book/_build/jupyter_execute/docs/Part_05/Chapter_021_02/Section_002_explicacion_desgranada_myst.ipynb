{
 "cells": [
  {
   "cell_type": "markdown",
   "id": "8ddaeb38",
   "metadata": {},
   "source": [
    "> {sub-ref}`today` | {sub-ref}`wordcount-minutes` min read\n",
    "\n",
    "<img src=\"Figuras/Fig_logo_UMA_scbi.png\" align=center  width=\"2000px\"/>\n",
    "\n",
    "\n",
    "<a href=\"https://www.scbi.uma.es/web/es/computacion-cuantica/\">\n",
    "    <button class=\"rounded\" style=\"float: right;\">\n",
    "    <svg xmlns=\"http://www.w3.org/2000/svg\" width=\"32\" height=\"32\" viewBox=\"0 0 24 24\">\n",
    "        <path fill=\"var(--fill, white)\"\n",
    "        d=\"M18.1 15.3c-.1.1-.3.2-.4.3l-2.4.4l1.7 3.6c.2.4 0 .8-.4\n",
    "            1l-2.8 1.3c-.1.1-.2.1-.3.1c-.3 0-.6-.2-.7-.4L11.2\n",
    "            18l-1.9 1.5c-.1.1-.3.2-.5.2c-.4 0-.8-.3-.8-.8V7.5c0-.5.3-.8.8-.8c.2 0\n",
    "            .4.1.5.2l8.7 7.4c.3.2.4.7.1 1M6 12H4V4h16v8h-1.6l2.2 1.9c.8-.3 1.3-1\n",
    "            1.3-1.9V4c0-1.1-.9-2-2-2H4c-1.1 0-2 .9-2 2v8c0 1.1.9 2 2 2h2z\" />\n",
    "    </svg>\n",
    "    Volver a SCBI - Computación Cuantica\n",
    "    </button>\n",
    "</a>\n",
    "\n",
    "$ \\newcommand{\\bra}[1]{\\langle #1|} $\n",
    "$ \\newcommand{\\ket}[1]{|#1\\rangle} $\n",
    "$ \\newcommand{\\branew}[1]{\\langle #1|} $\n",
    "$ \\newcommand{\\ketnew}[1]{\\langle #1|} $\n",
    "$ \\newcommand{\\braket}[2]{\\langle #1|#2\\rangle} $\n",
    "$ \\newcommand{\\ketbra}[2]{| #1\\rangle \\langle #2 |} $\n",
    "$ \\newcommand{\\i}{{\\color{blue} i}} $ \n",
    "$ \\newcommand{\\Hil}{{\\cal H}} $\n",
    "$ \\newcommand{\\cg}[1]{{\\rm C}#1} $\n",
    "$ \\newcommand{\\lp}{\\left(} $\n",
    "$ \\newcommand{\\rp}{\\right)} $\n",
    "$ \\newcommand{\\lc}{\\left[} $\n",
    "$ \\newcommand{\\rc}{\\right]} $\n",
    "$ \\newcommand{\\lch}{\\left\\{} $\n",
    "$ \\newcommand{\\rch}{\\right\\}} $\n",
    "$ \\newcommand{\\Lp}{\\Bigl(} $\n",
    "$ \\newcommand{\\Rp}{\\Bigr)} $\n",
    "$ \\newcommand{\\Lc}{\\Bigl[} $\n",
    "$ \\newcommand{\\Rc}{\\Bigr]} $\n",
    "$ \\newcommand{\\Lch}{\\Bigl\\{} $\n",
    "$ \\newcommand{\\Rch}{\\Bigr\\}} $\n",
    "$ \\newcommand{\\rqa}{\\quad \\Rightarrow \\quad} $\n",
    "$ \\newcommand{\\bm}{\\boldsymbol}$"
   ]
  },
  {
   "cell_type": "markdown",
   "id": "080fe82e",
   "metadata": {},
   "source": [
    "# Explicación desgranada\n"
   ]
  },
  {
   "cell_type": "markdown",
   "id": "7ca8aca8",
   "metadata": {},
   "source": [
    "En las siguientes subsecciones vamos ir explicando poco a poco los pasos mencionado en la sección  {numref}`%s <sec_2n+3-La-idea>`.\n"
   ]
  },
  {
   "cell_type": "markdown",
   "id": "d4b7f83d",
   "metadata": {},
   "source": [
    "\n",
    "(sec_2n+3-Suma)= \n",
    "## Algoritmo cuántico de suma \n"
   ]
  },
  {
   "cell_type": "markdown",
   "id": "34db1007",
   "metadata": {},
   "source": [
    "Como vamos a ir viendo en las siguientes secciones, esta implementación se basa en <b>sumar</b>. En concreto, se parte de la implementación del <b>algoritmo cuántico de suma de Draper</b> {cite}`bib_Addition`, que podemos ver en la Fig.  {numref}`%s <Fig_idea_suma>`\n"
   ]
  },
  {
   "cell_type": "markdown",
   "id": "ee85c3c1",
   "metadata": {},
   "source": [
    "::::{figure} Figuras/Fig-Addition-Transform.png\n",
    ":width: 800px\n",
    ":align: center\n",
    ":name: Fig_idea_suma\n",
    "Algoritmo cuántico de suma de Draper (en el convenio <b>estándar</b>). Figura tomada de {cite}`bib_2n+3`\n",
    "::::\n"
   ]
  },
  {
   "cell_type": "markdown",
   "id": "85bf0b64",
   "metadata": {},
   "source": [
    "::::::{admonition} Nota importante\n",
    ":class: note\n",
    "\n",
    "\n",
    "\n",
    "Véase que la puerta \"Conditional Phase Shif\" de la Fig.  {numref}`%s <Fig_idea_suma>` es la puerta $\\cg{R_k}$ de la Ec.  {eq}`%s <ec_QFT_CRk>`. Véase también que estas puertas no son más que puertas $P(\\phi)$ (o $P_\\phi$) controladas con $\\phi_k =  2\\pi i/2^k$.\n",
    "::::::\n"
   ]
  },
  {
   "cell_type": "markdown",
   "id": "479195d3",
   "metadata": {},
   "source": [
    "Este algoritmo suma los valores $a$ y $b$. Las entradas del circuito de suma son el $\\bm{n}$ <b>qubits</b> representando el número $a$ y $\\bm{n}$ <b>qubits</b> que contienen la transformada de Fourier de otro número $b$, denotada como $\\phi(b)$, es decir,\n",
    "\\begin{equation}\n",
    "|\\phi (b) \\rangle = QFT \\, |b \\rangle.\n",
    "\\end{equation}\n",
    "El registro que codifica el número $a$ no cambia, mientras que registro que codifica $\\phi (b)$ pasa a albergar la suma de $a+b$ en el espacio de Fourier, $\\phi (a+b)$. Haciendo la transformada inversa se puede recuperar el valor $a+b$:\n",
    "\\begin{equation}\n",
    "QFT^{-1}| \\phi (a+b) \\rangle = | a+b \\rangle\n",
    "\\end{equation}\n",
    "Lo que vamos a ver es como, partiendo de esta implementación del algoritmo de suma podemos construir la exponencial modulada.\n"
   ]
  },
  {
   "cell_type": "markdown",
   "id": "3d395d1b",
   "metadata": {},
   "source": [
    "::::::{admonition} Nota\n",
    ":class: note\n",
    "\n",
    "\n",
    "\n",
    "No perdamos el objetivo de vista. Nosotros queremos calcular el periodo de la función $f(x) = a^x \\text{mod}N$, donde $a<N$ (tomamos además $b<N$). Al tener un $\\text{ mod}N$ sabemos que el esta función no puede devolver valores mayores que $N$. Tenemos pues que los $\\boldsymbol{n}$ qubits que dijimos que usamos para codificar $a$ y $b$ son el número de qubits que nos hace falta para codificar $N$.\n",
    "::::::\n"
   ]
  },
  {
   "cell_type": "markdown",
   "id": "aab98c0c",
   "metadata": {},
   "source": [
    "\n",
    "(sec_2n+3-Puerta-phiADD(a))= \n",
    "## Valor clásico + registro cuántico (puerta $\\phi ADD(a)$) \n"
   ]
  },
  {
   "cell_type": "markdown",
   "id": "7348e1ae",
   "metadata": {},
   "source": [
    "Nosotros queremos llegar a calcular el periodo de la función $f(x) = a^x \\text{ mod}N$, donde $a$ es un valor fijo menor que $N$.\n"
   ]
  },
  {
   "cell_type": "markdown",
   "id": "8ad8693f",
   "metadata": {},
   "source": [
    "Como precisamente este valor es fijo, no nos vemos en la necesidad de codificarlo usando un registro cuántico. Podemos pues sustituir los qubits que codifican $a$ por bits clásicos. Las puertas controladas pasan entonces a ser puertas controladas clásicamente. Además, como sabemos de antemano el valor de $a$, podemos precalcular el producto de las puertas sobre cada qubit (sumando las fases), aplicando así solo una puerta por qubit (reducimos la profundidad del circuito).\n"
   ]
  },
  {
   "cell_type": "markdown",
   "id": "715ef0e2",
   "metadata": {},
   "source": [
    "::::{figure} Figuras/Fig-phiADD(a).png\n",
    ":width: 700px\n",
    ":align: center\n",
    ":name: Fig_idea_puerta_phiADD(a)\n",
    "Puerta $\\phi ADD(a)$. Figura tomada de {cite}`bib_2n+3`\n",
    "::::\n"
   ]
  },
  {
   "cell_type": "markdown",
   "id": "7c1bfbba",
   "metadata": {},
   "source": [
    "Definimos así la puerta $\\bm{\\phi ADD(a)}$ (ver Fig.  {numref}`%s <Fig_idea_puerta_phiADD(a)>`), que <b>suma un valor clásico</b> $a$ <b>a un registro cuántico que codifica el valor</b> $ \\phi(b)$. La entrada de esta puerta es la transformada de Fourier del registro $b$, es decir, $\\phi (b)$, y la salida es la transformada de Fourier de la suma, $\\phi (a+b)$:\n",
    "\\begin{equation}\n",
    "\\boxed{\\phi ADD(a) \\, |\\phi (b) \\rangle = |\\phi (a+b) \\rangle},\n",
    "\\end{equation}\n"
   ]
  },
  {
   "cell_type": "markdown",
   "id": "b446c2e4",
   "metadata": {},
   "source": [
    "Comentamos antes que el número de qubits $n$ que usamos para codificar $a$ y $b$ es número de qubits que nos hacen falta para codificar $N$ (ya que $a$, $b < N$). Puede darse el caso de que al hacer la suma tengamos un valor mayor que $N$, es decir, $a+b > N$. Podríamos tener entonces un número mayor que el número más grande que podemos codificar con los $n$ qubits de los que partimos. Esto se denomina <b>overflow</b>. Para evitar esto, lo que podemos hacer es añadir un qubit extra al registro que contiene $\\phi (b)$. Tenemos pues que $\\bm{\\phi(b)}$ <b>es de forma efectiva la transformada de Fourier de un registro de</b> $\\bm{n+1}$ <b>qubits que contiene un número de</b> $\\bm n$ <b>bits</b>. De esta forma, antes de la suma, <b>el bit más significativos de la transformada de Fourier inversa del registro</b> $\\bm{\\phi(b)}$ <b>es siempre</b> $\\bm{|0 \\rangle}$:\n",
    "```{math}\n",
    ":label: ec_shor_2n1_qft_bit \n",
    "\\begin{equation} \n",
    "\\boxed{\\text{el bit más significativo de } \\, QFT^{-1}|\\phi(b) \\rangle = |b \\rangle \\, \\text{ es siempre } \\, |0 \\rangle}\n",
    "\\end{equation} \n",
    "```\n"
   ]
  },
  {
   "cell_type": "markdown",
   "id": "77384ead",
   "metadata": {},
   "source": [
    "Podemos además, definir la inversa de esta puerta, es decir, una puerta de resta. La acción de esta última se recoge en la Fig.  {numref}`%s <Fig_idea_resta>` (<b>véase que la puerta de suma tiene la barra negra a la derecha y la de resta a la izquierda</b>). En esta figura $p$ <b>es un número $n$ bit</b> y <b>$g$ un número ${n+1}$ bit</b>.\n"
   ]
  },
  {
   "cell_type": "markdown",
   "id": "b418dd1f",
   "metadata": {},
   "source": [
    "Véase que tenemos resultados diferentes si $g \\geq p $ o $g < p$. Precisamente,usando  {eq}`%s <ec_shor_2n1_qft_bit>` podemos usar esto para saber cual de los dos números es mayor:\n"
   ]
  },
  {
   "cell_type": "markdown",
   "id": "42d14c0c",
   "metadata": {},
   "source": [
    "\n",
    " \n",
    "- Si después de la resta el bit más significativo es $|0 \\rangle$, estamos en el caso de $g \\geq p$ (solo si $g-p$ es $n$ bit).\n",
    " \n",
    "- Si después de la resta el bit más significativo es $|1 \\rangle$, estamos en el caso de $p>g$.\n",
    "\n"
   ]
  },
  {
   "cell_type": "markdown",
   "id": "6c2e10f8",
   "metadata": {},
   "source": [
    "::::{figure} Figuras/Fig-phiADD(a)^-1.png\n",
    ":width: 600px\n",
    ":align: center\n",
    ":name: Fig_idea_resta\n",
    "Puerta $\\phi ADD^{-1}(a)$, es decir, la puerta inversa de $\\phi ADD(a)$, una puerta de resta. Figura tomada de {cite}`bib_2n+3`\n",
    "::::\n"
   ]
  },
  {
   "cell_type": "markdown",
   "id": "618947b8",
   "metadata": {},
   "source": [
    "::::::{admonition} Nota\n",
    ":class: note\n",
    "\n",
    "\n",
    "\n",
    "Aplicaremos este método con:\n",
    "\n",
    "\n",
    "\n",
    "- $p = N \\quad$ y $\\quad g = b, \\, a+b \\quad$ (parte 1 en la Fig.  {numref}`%s <Fig_idea_puerta_phiADD(a)MOD(N)>`)\n",
    "\n",
    "\n",
    "- $p = \\, a \\, \\quad$ y $\\quad g = b, \\, a+b, \\, a+b - N \\quad$   (parte 2 en la Fig.  {numref}`%s <Fig_idea_puerta_phiADD(a)MOD(N)>`)\n",
    "\n",
    "En ambos casos tenemos que $p$ es un número $n$ bit y si $g \\geq p$ tenemos $g-p < N$, así que $g-p$ es $n$ bit. Podemos pues aplicar el criterio del bit más significativo para saber que número es más grande.\n",
    "::::::\n"
   ]
  },
  {
   "cell_type": "markdown",
   "id": "b7b79b68",
   "metadata": {},
   "source": [
    "::::::{admonition} Nota ($\\phi ADD(p)$ y $\\phi ADD^{-1}(p)$ son una la inversa de la otra) \n",
    ":class: note\n",
    "\n",
    "\n",
    "\n",
    "\n",
    "\\begin{equation}\n",
    "\\phi ADD^{-1}(p) \\, | \\phi(g) \\rangle = |\\phi (2^{n+1} - (p-g)) \\rangle\n",
    "\\end{equation}\n",
    "Si ahora sumamos otra vez $p$ tenemos:\n",
    "\\begin{equation}\n",
    "\\phi ADD(p) \\, |\\phi (2^{n+1} - (p-g)) \\rangle =  |\\phi (2^{n+1} - (p-g)) + p \\rangle =  |\\phi (2^{n+1} + g)) \\rangle\n",
    "\\end{equation}\n",
    "Como $2^{n+1} + g$ es mayor que el valor máximo que podemos almacenar con $n+1$ qubits, tenemos overflow:\n",
    "\\begin{equation}\n",
    "\\phi ADD(p) \\, |\\phi (2^{n+1} - (p-g)) \\rangle = |\\phi (2^{n+1} + g)) \\rangle = |\\phi (g) \\rangle\n",
    "\\end{equation}\n",
    "Con lo cual, efectivamente, $\\phi ADD(p)$ y $\\phi ADD^{-1}(p)$ son una la inversa de la otra.\n",
    "::::::\n"
   ]
  },
  {
   "cell_type": "markdown",
   "id": "45f32b05",
   "metadata": {},
   "source": [
    "\n",
    "(sec_2n+3-Puerta-phiADD(a)MOD(N))= \n",
    "## Suma modulada (puerta $\\phi ADD(a)MOD(N)$) \n"
   ]
  },
  {
   "cell_type": "markdown",
   "id": "b20fa1e8",
   "metadata": {},
   "source": [
    "Un vez definida la puerta de suma $\\phi ADD(a)$, podemos usarla para construir una puerta de <b>suma modulada</b> $\\bm{\\phi ADD(a)MOD(N)}$ (ver Fig.  {numref}`%s <Fig_idea_puerta_phiADD(a)MOD(N)>`). Esta puerta suma $a+b$ y le resta $N$ si $a+b \\geq N$. Las entradas de la misma son $\\phi(b)$ con $b < N$ y un valor clásico $a < N$.\n",
    "\\begin{equation}\n",
    "\\boxed{\\phi ADD(a)MOD(N) |\\phi (b) \\rangle = |\\phi \\left( (a+b) \\text{ mod} N \\right)\\rangle}  = \\,  QFT \\, | (a+b) \\text{ mod} N \\rangle\n",
    "\\end{equation}\n"
   ]
  },
  {
   "cell_type": "markdown",
   "id": "ed032c15",
   "metadata": {},
   "source": [
    "::::{figure} Figuras/Fig-phiADD(a)MOD(N).png\n",
    ":width: 1000px\n",
    ":align: center\n",
    ":name: Fig_idea_puerta_phiADD(a)MOD(N)\n",
    "Puerta $\\phi ADD(a)MOD(N)$ (en el convenio de <b>Qiskit</b>). Figura tomada de {cite}`bib_2n+3`.\n",
    "::::\n"
   ]
  },
  {
   "cell_type": "markdown",
   "id": "03bb8066",
   "metadata": {},
   "source": [
    "En la Fig.  {numref}`%s <Fig_idea_puerta_phiADD(a)MOD(N)>` vemos que se han añadido dos qubits de control ($| c_1 \\rangle$, $| c_2 \\rangle$) para futuros usos. La puerta solo se activa si $c_1 = c_2 = 1$. Se han numerado las puertas (cuadros rojos) para facilitar la explicación.\n"
   ]
  },
  {
   "cell_type": "markdown",
   "id": "b014bd04",
   "metadata": {},
   "source": [
    "Como podemos ver en la imagen, el circuito que implementa esta puerta tiene dos parte:\n",
    "\n",
    " \n",
    "- Parte 1: Calcula $(a+b) \\text{ mod} N$.\n",
    " \n",
    "-  Parte 2: Vuelve a poner en el estado $|0 \\rangle$ el qubit ancila (el qubit de abajo del todo en la imagen).\n",
    "\n"
   ]
  },
  {
   "cell_type": "markdown",
   "id": "efca1488",
   "metadata": {},
   "source": [
    "::::::{admonition} Nota\n",
    ":class: note\n",
    "\n",
    "\n",
    "\n",
    "Un qubit <b>ancila</b> es un qubit auxiliar que se usa para hacer un calculo intermedio pero que no forma parte de la solución. Estos qubit hay que volver a ponerlos en el estado inicial.\n",
    "::::::\n"
   ]
  },
  {
   "cell_type": "markdown",
   "id": "7ab754f2",
   "metadata": {},
   "source": [
    "::::::{admonition} Nota importante\n",
    ":class: note\n",
    "\n",
    "\n",
    "\n",
    "El qubit ancila <b>no es qubit extra del registro</b> $| \\phi (b) \\rangle$. Tenemos pues los 2 qubits de control, los $n+1$ de la entrada $| \\phi (b) \\rangle$ y el qubit de la ancila, con lo cual usamos $n+4$ qubits.\n",
    "::::::\n"
   ]
  },
  {
   "cell_type": "markdown",
   "id": "702b5d5a",
   "metadata": {},
   "source": [
    "Veamos todos los posibles casos que nos podemos encontrar el aplicar el circuito de la Fig  {numref}`%s <Fig_idea_puerta_phiADD(a)MOD(N)>`.\n"
   ]
  },
  {
   "cell_type": "markdown",
   "id": "1091f48b",
   "metadata": {},
   "source": [
    "### Caso con $c_1 = c_2 = 1$\n"
   ]
  },
  {
   "cell_type": "markdown",
   "id": "d26dbb28",
   "metadata": {},
   "source": [
    "Partimos del estado $| \\phi(b) \\rangle$.\n"
   ]
  },
  {
   "cell_type": "markdown",
   "id": "7b496ad3",
   "metadata": {},
   "source": [
    "\n",
    " \n",
    "- <b>Puerta 1</b>: Después de aplicar la puerta 1 (puerta $\\phi ADD(a)$) tenemos el estado $| \\phi(a+b) \\rangle$.\n",
    " \n",
    "- <b>Puertas 2, 3, 4 y 5</b>: Lo que vamos a hacer con estas puestas es ver si estamos en el caso de $a+b \\geq N$ o $a+b <N$. Para ello, aplicamos una puerta $\\phi ADD^{-1}(N)$ (puerta 2), con lo cual tenemos:\n",
    "\n",
    " \n",
    "    1. El estado $| \\phi(a+b - N) \\rangle$ si $a+b \\geq N$.\n",
    " \n",
    "    2. El estado $| \\phi(2^{n+1} -(a+b - N)) \\rangle$ si $a+b < N$.\n",
    "\n",
    "    Las puertas 3, 4 y 5 lo que hacen es poner el qubit ancila a 1 si el bit más significativo es 1, es decir, si estamos en el segundo caso.\n",
    " \n",
    "- <b>Puerta 6</b>: Esta puerta solo se activa si la ancila es 1, es decir, si estamos en el segundo caso del paso anterior ($a+b < N$). Esta puerta lo que hace es sumar $N$, deshaciendo la resta de la puerta 2 si estamos en el caso $a+b < N$, es decir, si no teníamos que haber restado $N$. Después de esta puerta ya tenemos el resultado de la suma modulada. Solo nos queda limpiar la ancila.\n",
    " \n",
    "- Puerta 7: Partimos del valor $(a+b) \\text{ mod} N$. Con esta puerta restamos $a$, con lo cual tenemos dos casos.\n",
    "\n",
    " \n",
    "    3. Si  $(a+b) > N \\quad \\Rightarrow \\quad (a+b) \\text{ mod} N = a+b-N < a \\quad \\Rightarrow $\n",
    "        $\\qquad \\quad \\Rightarrow \\quad \\phi ADD^{-1}(a) \\, | \\phi ((a+b) \\text{ mod} N) \\rangle = | \\phi ( 2^{n+1} - (N - b) ) \\rangle$\n",
    " \n",
    "    4. Si $(a+b) < N \\quad \\Rightarrow \\quad (a+b) \\text{ mod} N = a+b > a \\quad \\Rightarrow $\n",
    "        $\\qquad \\quad \\Rightarrow \\quad \\phi ADD^{-1}(a) \\, | \\phi ((a+b) \\text{ mod} N) \\rangle = | \\phi ( b ) \\rangle$\n",
    "\n",
    " \n",
    "- <b>Puertas 8, 9, 10, 11, 12</b>: Estas puertas lo que hacen es cambiar la ancila si el bit más significativo es cero. Vemos que este es el caso 4 del paso anterior, es decir, cuando $(a+b) < N$. Si nos fijamos en cuando aplicamos las puertas 2, 3, 4 y 5, esto corresponde al caso 2, justo aquel en el que cambiamos la ancila. Es decir, si hubiéramos cambiado la ancila, ahora la habríamos vuelto a poner a cero.\n",
    " \n",
    "- <b>Puerta 13</b>: Deshace el cambio producido por la puerta 7.\n",
    "\n"
   ]
  },
  {
   "cell_type": "markdown",
   "id": "bbab4b8f",
   "metadata": {},
   "source": [
    "### Caso con $c_1 = 0$ y/o $c_2 = 0$.\n"
   ]
  },
  {
   "cell_type": "markdown",
   "id": "055a90be",
   "metadata": {},
   "source": [
    "En estos casos la puerta $\\phi ADD(a)MOD(N)$ deja invariante la entrada. Partimos del estado $| \\phi(b) \\rangle$.\n"
   ]
  },
  {
   "cell_type": "markdown",
   "id": "c73509ca",
   "metadata": {},
   "source": [
    "\n",
    " \n",
    "- <b>Puerta 1</b>: No se aplica.\n",
    " \n",
    "- <b>Puerta 2</b>: Restamos $N$, con lo cual pasamos a tener $\\phi \\left( 2^{n+1} - (N-b) \\right)$.\n",
    " \n",
    "- <b>Puertas 2, 3, 4 y 5</b>: Como el bit más significativo en este caso es siempre 1, estas puertas ponen la ancila a 1.\n",
    " \n",
    "- <b>Puerta 6</b>: Como la ancila es 1, esta puerta se activa y deshace los cambios de la puerta 2. Pasamos pues a tener el estado inicial $| \\phi(b) \\rangle$ pero con la ancila a 1.\n",
    " \n",
    "- <b>Puerta 7</b>: No se aplica.\n",
    " \n",
    "- <b>Puertas 8, 9, 10, 11, 12</b>: Como comentamos antes, estas puertas cambian la ancila si el estado que entra tiene el bit más significativo a cero. Como tenemos el estado $| \\phi(b) \\rangle$, este es nuestro caso así que se vuelve a cambiar la ancila. Pasamos pues a tener el estado inicial, sin ningún cambio.\n",
    " \n",
    "- <b>Puerta 13</b>: No se aplica.\n",
    "\n"
   ]
  },
  {
   "cell_type": "markdown",
   "id": "2ad9c556",
   "metadata": {},
   "source": [
    "\n",
    "(sec_2n+3-Puerta-CMULT(a)MOD(N))= \n",
    "## Multiplicación modulada (puerta $CMULT(a)MOD(N)$) \n"
   ]
  },
  {
   "cell_type": "markdown",
   "id": "a11c712e",
   "metadata": {},
   "source": [
    "El siguiente paso es usar la puerta $\\phi ADD(a)MOD(N)$ para construir una\n",
    "puerta controlada de multiplicación modulada que denominaremos como $CMULT(a)MOD(N)$. La entrada de esta puerta serán tres registros $|c \\rangle |x \\rangle |b  \\rangle$, donde $|c \\rangle$ es un qubit controlador:\n",
    "\\begin{equation}\n",
    "\\boxed{CMULT(a)MOD(N) \\, |c \\rangle |x \\rangle |b \\rangle = |c \\rangle |x \\rangle | (b + a x) \\text{ mod} N \\rangle, \\qquad \\, \\text{si }   c = 1}\n",
    "\\end{equation}\n",
    "\\begin{equation}\n",
    "CMULT(a)MOD(N) \\, |c \\rangle |x \\rangle |b \\rangle = |c \\rangle |x \\rangle | b \\rangle, \\qquad  \\text{si }  c = 0\n",
    "\\end{equation}\n"
   ]
  },
  {
   "cell_type": "markdown",
   "id": "7483a1fd",
   "metadata": {},
   "source": [
    "Para implementar esta puerta recurrimos a las puertas $\\phi ADD(a)MOD(N)$ de la sección anterior y a la identidad\n",
    "\\begin{align*}\n",
    "(ax) \\text{mod} N & = (2^0 a x_0 + 2^1 a x_1 + \\dots + 2^{n-1} a x_{n-1}) \\text{mod} N \\\\\n",
    "& = \\Lch \\dots \\Lc (2^0 a x_0) \\text{mod} N + 2^1 a x_1 \\Rc \\text{mod} N + \\dots + 2^{n-1} a x_{n-1} \\Rch \\text{mod} N\n",
    "\\end{align*}\n"
   ]
  },
  {
   "cell_type": "markdown",
   "id": "e98ce529",
   "metadata": {},
   "source": [
    "Es fácil entender esta identidad: es lo mismo sumar todos los términos y finalmente tomar el módulo de la suma completa que tomar el módulo del primer termino, sumárselo al segundo término, volver a tomar el módulo, etc.\n"
   ]
  },
  {
   "cell_type": "markdown",
   "id": "c4b55fdf",
   "metadata": {},
   "source": [
    "Vemos que esto se puede implementar aplicando:\n",
    "\n",
    " \n",
    "-  primero una puerta $\\phi ADD(2^0 a) MOD(N)$ sobre $|b \\rangle$ controlada por $|c \\rangle$ y $| x_0 \\rangle $,\n",
    " \n",
    "- después una puerta $\\phi ADD(2^1 a) MOD(N)$ sobre el resultado de la anterior controlada por $|c \\rangle$ y $| x_1 \\rangle$, etc.\n",
    "\n",
    "Con lo cual, <b>solo necesitamos aplicar $n$ puertas doblemente controladas $\\phi ADD (2^i a) MOD(N)$</b> con $0 \\leq i < N$. Podemos ver esta implementación en la  Fig.  {numref}`%s <Fig_idea_CMULT(a)MOD(N)>`.\n"
   ]
  },
  {
   "cell_type": "markdown",
   "id": "92b681e4",
   "metadata": {},
   "source": [
    "::::{figure} Figuras/Fig-CMULT(a)MOD(N).png\n",
    ":width: 900px\n",
    ":align: center\n",
    ":name: Fig_idea_CMULT(a)MOD(N)\n",
    "Puerta $CMULT(a)MOD(N)$ (en el convenio de <b>Qiskit</b>). Figura tomada de {cite}`bib_2n+3`.\n",
    "::::\n"
   ]
  },
  {
   "cell_type": "markdown",
   "id": "5d764185",
   "metadata": {},
   "source": [
    "\n",
    "(sec_2n+3-Puerta-C-U_a)= \n",
    "## Puerta controlada $C\\text{-}U_a$ \n"
   ]
  },
  {
   "cell_type": "markdown",
   "id": "ba84d137",
   "metadata": {},
   "source": [
    "En la sección anterior vimos como construir una puerta controlada que aplica la operación\n",
    "\\begin{equation}\n",
    "| x \\rangle | b \\rangle \\quad \\rightarrow \\quad |x \\rangle | (b+ax) \\text{ mod}N \\rangle\n",
    "\\end{equation}\n",
    "Pero esto no es lo que queremos, nosotros queremos una puerta controlada que nos lleve el estado $|x \\rangle$ al estado $| (ax) \\text{ mod} \\rangle$. Lo que podemos hacer para solventar esto es lo siguiente:\n"
   ]
  },
  {
   "cell_type": "markdown",
   "id": "d15c7fc0",
   "metadata": {},
   "source": [
    "\n",
    " \n",
    "- Aplicar primero una puerta $CMULT(a)MOD(N)$ sobre el estado $|c\\rangle |x \\rangle |0 \\rangle$, con lo cual obtenemos el estado $|c \\rangle |x \\rangle | (ax) \\text{ mod} N \\rangle$.\n",
    " \n",
    "- A continuación, si $|c \\rangle = | 1 \\rangle$ aplicamos puertas SWAP controladas  para cambiar los registros $|x \\rangle$ y $|(b + ax) \\text{ mod} N \\rangle$, con lo cual pasamos a tener el estado $|c \\rangle |(ax) \\text{ mod} N \\rangle |x \\rangle $. Solo necesitamos aplicar puertas controladas SWAP a $n$ qubits, no a $n+1$, ya que el qubit más significativo de $(ax) \\text{ mod}N$ es siempre 0, ya que es el qubit extra que incluimos para evitar overflow en las puertas $\\phi ADD (a)$.\n",
    " \n",
    "- Finalmente, aplicamos la inversa de la puerta controlada $CMULT(a^{-1}) MOD(N)$ (donde $a^{-1}$ es el inverso de $a$ mod$N$), para poner el tercer registro a $\\ket{0}$ otra vez. Este valor se calcula clásicamente en tiempo polinómico usando el algoritmo de Euclides y tenemos asegurado que siempre existe ya que $gcd(a,N) =1$. En resumen, si la entrada de esta puerta es el estado $|c \\rangle | x \\rangle | b \\rangle$ con $|c \\rangle = |1 \\rangle$ tenemos:\n",
    "    \\begin{equation}\n",
    "    \\boxed{[CMULT(a^{-1}) MOD(N)]^{-1} |c \\rangle | x \\rangle | b \\rangle = |c \\rangle | x \\rangle | (b - a^{-1}x \\rangle}\n",
    "    \\end{equation}\n",
    "    En nuestro caso tenemos que el estado de entrada es $|c \\rangle |(ax) \\text{ mod} N \\rangle |x \\rangle $, con lo cual:\n",
    "    \\begin{align*}\n",
    "    [CMULT(a^{-1}) MOD(N)]^{-1} |c \\rangle |(ax) \\text{ mod} N \\rangle |x \\rangle & = |c \\rangle |(ax) \\text{ mod} N \\rangle |(x - a^{-1} ax )\\text{ mod} N \\rangle = \\\\\n",
    "    & = |c \\rangle |(ax) \\text{ mod} N \\rangle | 0 \\rangle\n",
    "    \\end{align*}\n",
    "\n"
   ]
  },
  {
   "cell_type": "markdown",
   "id": "5bb5cfcf",
   "metadata": {},
   "source": [
    "Denominaremos al conjunto de aplicar estas tres puertas controladas la puerta controlada $\\bm{U_a}$, es decir, $C\\text{-}U_a$. En resumen, esta puerta lo que hace es tomar como entrada $| c \\rangle | x \\rangle |0 \\rangle$ y devolver  $| c \\rangle | (ax) \\text{ mod} N  \\rangle |0 \\rangle$ si $c=1$:\n",
    "\\begin{equation}\n",
    "\\boxed{C\\text{-}U_a | c \\rangle | x \\rangle |0 \\rangle = | c \\rangle | (ax) \\text{ mod} N  \\rangle |0 \\rangle \\qquad \\text{ si } c = 1}\n",
    "\\end{equation}\n",
    "Si $c=0$, aplica la identidad.\n"
   ]
  },
  {
   "cell_type": "markdown",
   "id": "0693d923",
   "metadata": {},
   "source": [
    "Para resumir, si $|c \\rangle = | 1 \\rangle$ los pasos que hace la puerta $C\\text{-}U_a$ son los siguientes (ver Fig.  {numref}`%s <Fig_idea_C-U_a>`)\n",
    "\\begin{align*}\n",
    "& | x \\rangle | 0 \\rangle  \\quad \\rightarrow \\quad |x \\rangle | (ax) \\text{ mod}N \\rangle \\quad \\rightarrow \\quad  | (ax) \\text{ mod}N \\rangle |x \\rangle \\quad \\rightarrow \\\\\n",
    "&\\rightarrow \\quad | (ax) \\text{ mod}N \\rangle  | (x - a^{-1}ax) \\text{ mod}N \\rangle = | (ax) \\text{ mod}N \\rangle | 0\\rangle\n",
    "\\end{align*}\n"
   ]
  },
  {
   "cell_type": "markdown",
   "id": "3af9ca67",
   "metadata": {},
   "source": [
    "Si nos fijamos, el último registro, al estar a $|0 \\rangle$ al inicio y al final, podemos considerarlo parte de la puerta $C\\text{-}U_{a}$ (una ancila):\n",
    "\\begin{equation}\n",
    "C\\text{-}U_a | x \\rangle |0\\rangle = |(ax) \\text{ mod} N \\rangle |0 \\rangle \\quad \\Rightarrow \\quad \\boxed{C\\text{-}U_a | x \\rangle  = |(ax) \\text{ mod} N \\rangle}\n",
    "\\end{equation}\n"
   ]
  },
  {
   "cell_type": "markdown",
   "id": "6f14e510",
   "metadata": {},
   "source": [
    "::::{figure} Figuras/Fig-C-U_a.png\n",
    ":width: 800px\n",
    ":align: center\n",
    ":name: Fig_idea_C-U_a\n",
    "Puerta $C\\text{-}U_a$\n",
    "::::\n"
   ]
  },
  {
   "cell_type": "markdown",
   "id": "bb02ed38",
   "metadata": {},
   "source": [
    "\n",
    "(sec_2n+3-Puerta-C-U_a^s)= \n",
    "## Exponencial modulada (puerta $C\\text{-}U_{a^{s}}$) \n"
   ]
  },
  {
   "cell_type": "markdown",
   "id": "f0b68d25",
   "metadata": {},
   "source": [
    "Una vez construida la puerta $C\\text{-}U_{a}$ uno podría pensar que para aplicar la exponencial modulada lo que hay que hacer es aplicar varias veces esta puerta, es decir:\n",
    "\\begin{equation}\n",
    "\\left( C\\text{-}U_a \\right)^s  | x \\rangle  = |(a^s x) \\text{ mod} N \\rangle\n",
    "\\end{equation}\n",
    "Aunque esta implementación es posible, tenemos la opción de hacer una mucho más optima. Para ello nos servimos de la propiedad\n",
    "\\begin{equation}\n",
    "(a^s x) \\text{ mod} N = \\underbrace{\\{ \\dots [a(ax) \\text{ mod}N] \\text{ mod}N \\dots \\}\\text{ mod}{N}}_{s \\text{ veces}} = [x (a^s)\\text{ mod}N ] \\text{ mod}N\n",
    "\\end{equation}\n",
    "En vez de aplicar $s$ veces la puerta $C\\text{-}U_{a}$ podemos aplicar una sola vez la puerta $C\\text{-}U_{a^s}$ donde el subíndice $a^s$ hace referencia que le pasamos a la puerta el valor $a^s \\text{ mod} N$ (este se calcula clásicamente)\n",
    "\\begin{equation}\n",
    "C\\text{-}U_{a^{s}} = (C\\text{-}U_{a})^s\n",
    "\\end{equation}\n"
   ]
  },
  {
   "cell_type": "markdown",
   "id": "ffa54404",
   "metadata": {},
   "source": [
    "\n",
    "(sec_2n+3-Circuito-final-no-simplificacion)= \n",
    "## Circuito final con $4n+2$ qubits (sin la simplificación del registro de conteo)\n"
   ]
  },
  {
   "cell_type": "markdown",
   "id": "5927c914",
   "metadata": {},
   "source": [
    "Solo nos queda ver el circuito con la implementación completa del algoritmo de Shor, representado en la Fig.  {numref}`%s <Fig_idea_circ_final_no_simpli>`. (Recordemos que $n$ es el número de qubits que necesitamos para codificar $n$ y que en el registro de conteo necesitamos $2n$ qubits.)\n"
   ]
  },
  {
   "cell_type": "markdown",
   "id": "82229c4b",
   "metadata": {},
   "source": [
    "::::{figure} Figuras/Fig-Circuito-paper.png\n",
    ":width: 800px\n",
    ":align: center\n",
    ":name: Fig_idea_circ_final_no_simpli\n",
    "Circuito final con $4n+2$ qubits sin la simplificación del registro de conteo (en el convenio estándar). \n",
    "::::\n"
   ]
  },
  {
   "cell_type": "markdown",
   "id": "c69ab180",
   "metadata": {},
   "source": [
    "Esta implementación usa $4n+2$ qubits:\n",
    "\n",
    " \n",
    "- $2n$ qubits en el registro de conteo\n",
    " \n",
    "- $n$ qubits para el estado $|1\\rangle$ (este es, el estado $|x \\rangle$ de las secciones  {numref}`%s <sec_2n+3-Puerta-CMULT(a)MOD(N)>` a la  {numref}`%s <sec_2n+3-Puerta-C-U_a>`.\n",
    " \n",
    "- $n+2$ qubits para las ancilas:\n",
    "\n",
    " \n",
    "    - $n+1$ qubits para el estado $|b \\rangle = | 0 \\rangle$ (ver Figs.  {numref}`%s <Fig_idea_CMULT(a)MOD(N)>` y  {numref}`%s <Fig_idea_C-U_a>`).\n",
    " \n",
    "    - 1 qubit para la ancila de la puerta $\\phi ADD(a)MOD(N)$ (ver Fig.  {numref}`%s <Fig_idea_puerta_phiADD(a)MOD(N)>`).\n",
    "\n",
    "\n"
   ]
  },
  {
   "cell_type": "markdown",
   "id": "6e1d8f1d",
   "metadata": {},
   "source": [
    "\n",
    "(sec_2n+3-Circuito-final-simplificado)= \n",
    "## Circuito final con $2n+3$. Algoritmo de estimación iterativa de fase (IPE)  \n"
   ]
  },
  {
   "cell_type": "markdown",
   "id": "c069fb86",
   "metadata": {},
   "source": [
    "Nos faltaría implementar la simplificación del registro de conteo, donde se pasa de $2n$ qubits en el mismo a 1 (ver Fig.  {numref}`%s <Fig_idea_circ_final_simpli>`). Esta simplificación consiste en usar una versión mejorada del Algoritmo de Estimación de Fases Cuántico (QPE) denominado <b>Algoritmo de Estimación Iterativa de Fase</b> o Iterative Phase Estimation (IPE) Algorithm. Vamos a explicar como pasar del QPE al IPE en nuestro circuito. Para ello, vamos a ejemplificar el desarrollo con el circuito de 4 qubits en el registro de conteo de la Fig.  {numref}`%s <Fig_IPE_1>`. Las puertas de colores del final no son más que la transformada de Fourier inversa. Vemos que al ser la inversa lo que hay que hacer es invertir el orden de las puertas del QFT normal (ver Fig.  {numref}`%s <Fig_2n+3_QFT_exacta>` y Fig.  {numref}`%s <Fig_QFT_circuit>`).\n"
   ]
  },
  {
   "cell_type": "markdown",
   "id": "2f9888c0",
   "metadata": {},
   "source": [
    "::::{figure} Figuras/Fig_IPE_1.png\n",
    ":width: 1000px\n",
    ":align: center\n",
    ":name: Fig_IPE_1\n",
    "Ejemplo del algoritmo de Shor con 4 qubits (en el convenio estándar). Las puertas de colores del final no son más que la transformada de Fourier inversa.\n",
    "::::\n"
   ]
  },
  {
   "cell_type": "markdown",
   "id": "0e020f85",
   "metadata": {},
   "source": [
    "::::{figure} Figuras/Fig_IPE_3.png\n",
    ":width: 1000px\n",
    ":align: center\n",
    ":name: Fig_IPE_3\n",
    "Ejemplo del algoritmo de Shor con 4 qubits usando IPE (en el convenio estándar). Las puertas de colores no son más que la transformada de Fourier inversa. \n",
    "::::\n"
   ]
  },
  {
   "cell_type": "markdown",
   "id": "5d7d69eb",
   "metadata": {},
   "source": [
    "Si nos fijamos, vemos que una vez que un qubit controla su respectiva puerta $U_{a^{2^k}}$ sobre este ya no aplican (ni controla) más puertas hasta llegar a las de la $QFT^{-1}$.  Podemos pues llevar a cabo sin ningún problema la reordenación de las puertas de color de la Fig.  {numref}`%s <Fig_IPE_3>`. Vemos sin embargo que hay otros dos cambios significativos:\n",
    "\n",
    " \n",
    "- En vez de poner los 4 bit clásicos (en los que se almacenan las medidas) en una linea a parte, se han puesto a continuación del medidor. Esto es simplemente para no añadir 4 lineas más al circuito.\n",
    " \n",
    "- El gran cambio que introducimos en este circuito es el hecho de controlar puertas con bits clásicos.\n",
    "\n"
   ]
  },
  {
   "cell_type": "markdown",
   "id": "213023c1",
   "metadata": {},
   "source": [
    "En el circuito de la Fig.  {numref}`%s <Fig_IPE_3>` ya se han colocado las puertas para que se vea bien que estas se pueden aplicar de forma secuencial qubit por qubit. Es decir, primero se aplican las puertas sobre el qubit de abajo del todo (en el registro de conteo) y se mide. Después se va a por siguiente qubit y se mide, y así sucesivamente. La gracia es que, una vez que se mide un qubit, el valor de esta medida se va usar para controlar puertas que se aplican en los siguientes qubit. Lo importante es que, como ya comentamos, estas medidas se almacenan en bits clásicos, con lo cual, una vez que se ha medido un qubit, este deja de ser necesario. De la misma forma, al ir aplicando las puertas de forma secuencial qubit por qubit, mientras se aplican las puertas a los qubits anteriores, lo qubits siguientes también son \"inutiles\".\n"
   ]
  },
  {
   "cell_type": "markdown",
   "id": "4a41b132",
   "metadata": {},
   "source": [
    "Siguiendo estos argumentos, podemos ver que en realidad, solo nos hace falta un qubit en el registro de conteo. Esto es lo que podemos ver en la Fig.  {numref}`%s <Fig_IPE_4>`. Como vemos, tenemos solo un qubit en el registro de conteo.\n"
   ]
  },
  {
   "cell_type": "markdown",
   "id": "cbdac9e8",
   "metadata": {},
   "source": [
    "\n",
    " \n",
    "- Lo que se hace es primero aplicar sobre este qubit las puertas que aplicaríamos sobre el último qubit del registro de conteo y después medir. Almacenamos esta medida en un bit clásico. Una vez medido, podemos usar el valor del bit clásico para controlar una puerta $X$. De esta forma, lo que hacemos es devolver el qubit al estado inicial (el estado $| 0 \\rangle$).\n",
    " \n",
    "-  Una ver que volvemos a tener el qubit en su estado de partida y la media del mismo a buen recaudo, podemos pasar a aplicar sobre este qubit las puertas que aplicariamos sobre el siguiente qubit del registro de conteo (una de ellas controlada por el bit clásico anterior) y medirlo, almacenando su valor en un segundo bit clásico. Nuevamente, usamos una puerta $X$ controlada por este segundo bit clásico para devolver el qubit al estado inicial.\n",
    "\n",
    "Y así, sucesivamente. Para más detalles, pueden verse las referencias {cite}`bib_https://doi.org/10.48550/arxiv.quant-ph/9903071`, {cite}`bib_https://doi.org/10.48550/arxiv.quant-ph/9806084` y {cite}`bib_PhysRevLett.85.3049`\n"
   ]
  },
  {
   "cell_type": "markdown",
   "id": "050c98e0",
   "metadata": {},
   "source": [
    "Extrapolando al caso de $2n$ qubits en el registro de conteo (el caso del algoritmo de Shor), nuestro circuito final sería el de la Fig.  {numref}`%s <Fig_idea_circ_final_simpli>`, donde las $m_k$ se refiere a medidas, las $X^{m_k}$ se refiere a aplicar la puerta $X$ controlada por las medida anterior y las $R_k$ se refiere a aplicar las puertas $P_\\phi$ de la QFT controladas por las medias anteriores.\n"
   ]
  },
  {
   "cell_type": "markdown",
   "id": "cf667441",
   "metadata": {},
   "source": [
    "::::{figure} Figuras/Fig_IPE_4.png\n",
    ":width: 800px\n",
    ":align: center\n",
    ":name: Fig_IPE_4\n",
    "Circuito final con $2n+3$ qubits (ejemplo con 4 qubits). \n",
    "::::\n"
   ]
  },
  {
   "cell_type": "markdown",
   "id": "7fb47fd2",
   "metadata": {},
   "source": [
    "::::{figure} Figuras/Fig-Truco-qubit-control.png\n",
    ":width: 700px\n",
    ":align: center\n",
    ":name: Fig_idea_circ_final_simpli\n",
    "Circuito final con $2n+3$ qubits (en el convenio estándar).\n",
    "::::\n"
   ]
  },
  {
   "cell_type": "markdown",
   "id": "8534e04c",
   "metadata": {},
   "source": [
    "::::{figure} https://quantumspain-project.es/wp-content/uploads/2022/11/Logo_QS_EspanaDigital.png\n",
    ":width: 2000px\n",
    ":align: center\n",
    "::::\n",
    "\n",
    "<center>\n",
    "<img align=\"left\" src=\"https://quantumspain-project.es/wp-content/uploads/2024/02/Banner-QS_GOB_v2.png\" width=\"1000px\" />\n",
    "</center>"
   ]
  }
 ],
 "metadata": {
  "kernelspec": {
   "display_name": "Python 3 (ipykernel)",
   "language": "python",
   "name": "python3"
  },
  "language_info": {
   "codemirror_mode": {
    "name": "ipython",
    "version": 3
   },
   "file_extension": ".py",
   "mimetype": "text/x-python",
   "name": "python",
   "nbconvert_exporter": "python",
   "pygments_lexer": "ipython3",
   "version": "3.11.7"
  },
  "toc": {
   "base_numbering": 1,
   "nav_menu": {},
   "number_sections": false,
   "sideBar": true,
   "skip_h1_title": true,
   "title_cell": "Table of Contents",
   "title_sidebar": "Contents",
   "toc_cell": false,
   "toc_position": {},
   "toc_section_display": true,
   "toc_window_display": false
  }
 },
 "nbformat": 4,
 "nbformat_minor": 5
}