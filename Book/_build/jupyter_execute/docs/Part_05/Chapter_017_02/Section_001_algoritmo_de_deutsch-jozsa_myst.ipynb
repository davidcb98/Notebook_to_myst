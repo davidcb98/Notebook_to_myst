{
 "cells": [
  {
   "cell_type": "markdown",
   "id": "8ddaeb38",
   "metadata": {},
   "source": [
    "> {sub-ref}`today` | {sub-ref}`wordcount-minutes` min read\n",
    "\n",
    "<img src=\"Figuras/Fig_logo_UMA_scbi.png\" align=center  width=\"2000px\"/>\n",
    "\n",
    "\n",
    "<a href=\"https://www.scbi.uma.es/web/es/computacion-cuantica/\">\n",
    "    <button class=\"rounded\" style=\"float: right;\">\n",
    "    <svg xmlns=\"http://www.w3.org/2000/svg\" width=\"32\" height=\"32\" viewBox=\"0 0 24 24\">\n",
    "        <path fill=\"var(--fill, white)\"\n",
    "        d=\"M18.1 15.3c-.1.1-.3.2-.4.3l-2.4.4l1.7 3.6c.2.4 0 .8-.4\n",
    "            1l-2.8 1.3c-.1.1-.2.1-.3.1c-.3 0-.6-.2-.7-.4L11.2\n",
    "            18l-1.9 1.5c-.1.1-.3.2-.5.2c-.4 0-.8-.3-.8-.8V7.5c0-.5.3-.8.8-.8c.2 0\n",
    "            .4.1.5.2l8.7 7.4c.3.2.4.7.1 1M6 12H4V4h16v8h-1.6l2.2 1.9c.8-.3 1.3-1\n",
    "            1.3-1.9V4c0-1.1-.9-2-2-2H4c-1.1 0-2 .9-2 2v8c0 1.1.9 2 2 2h2z\" />\n",
    "    </svg>\n",
    "    Volver a SCBI - Computación Cuantica\n",
    "    </button>\n",
    "</a>\n",
    "\n",
    "$ \\newcommand{\\bra}[1]{\\langle #1|} $\n",
    "$ \\newcommand{\\ket}[1]{|#1\\rangle} $\n",
    "$ \\newcommand{\\branew}[1]{\\langle #1|} $\n",
    "$ \\newcommand{\\ketnew}[1]{\\langle #1|} $\n",
    "$ \\newcommand{\\braket}[2]{\\langle #1|#2\\rangle} $\n",
    "$ \\newcommand{\\ketbra}[2]{| #1\\rangle \\langle #2 |} $\n",
    "$ \\newcommand{\\i}{{\\color{blue} i}} $ \n",
    "$ \\newcommand{\\Hil}{{\\cal H}} $\n",
    "$ \\newcommand{\\cg}[1]{{\\rm C}#1} $\n",
    "$ \\newcommand{\\lp}{\\left(} $\n",
    "$ \\newcommand{\\rp}{\\right)} $\n",
    "$ \\newcommand{\\lc}{\\left[} $\n",
    "$ \\newcommand{\\rc}{\\right]} $\n",
    "$ \\newcommand{\\lch}{\\left\\{} $\n",
    "$ \\newcommand{\\rch}{\\right\\}} $\n",
    "$ \\newcommand{\\Lp}{\\Bigl(} $\n",
    "$ \\newcommand{\\Rp}{\\Bigr)} $\n",
    "$ \\newcommand{\\Lc}{\\Bigl[} $\n",
    "$ \\newcommand{\\Rc}{\\Bigr]} $\n",
    "$ \\newcommand{\\Lch}{\\Bigl\\{} $\n",
    "$ \\newcommand{\\Rch}{\\Bigr\\}} $\n",
    "$ \\newcommand{\\rqa}{\\quad \\Rightarrow \\quad} $\n",
    "$ \\newcommand{\\bm}{\\boldsymbol}$"
   ]
  },
  {
   "cell_type": "markdown",
   "id": "080fe82e",
   "metadata": {},
   "source": [
    "# Algoritmo de Deutsch-Jozsa.\n"
   ]
  },
  {
   "cell_type": "markdown",
   "id": "3ce63230",
   "metadata": {},
   "source": [
    "\n",
    " \n",
    "- <b>Promesa:</b> la función $f$ que implementa el oráculo es de una de las dos siguientes clases:\n",
    "\n",
    " \n",
    "    - <i>constante</i> ($C \\Rightarrow f(x)$ igual para todo $x$)\n",
    " \n",
    "    - <i>equilibrada</i> ($E \\Rightarrow f(x)$ nos da tantos unos como ceros.)\n",
    "\n",
    " \n",
    "- <b>Problema:</b> descubrir si $f$ es de clase $C$ o $E$. (Clásicamente, si nos toca un oráculo de clase $C$, deberíamos hacer $2^n/2+1$ consultas al oráculo para asegurarnos de que no es de clase $E$. Los de clase $E$ con suerte podríamos diferenciarlos antes).\n",
    " \n",
    "- <b>Solución:</b> corremos el circuito una vez y medimos sobre el estado $\\ket{\\Phi}$ (ver Ec.  {eq}`%s <ec_algoritmos_Psi>`):\n",
    "\n",
    " \n",
    "    - Si $f \\in C \\Rightarrow$ la probabilidad de medir $\\ket{0} (= \\ket{00\\cdots0})$ es 1.\n",
    " \n",
    "    - Si $f \\in E \\Rightarrow$ la probabilidad de medir $\\ket{2^n-1} (=\\ket{11\\cdots1})$ es 0.\n",
    "\n",
    "    El circuito es de la forma de la Fig.  {numref}`%s <Fig_algoritmos_circuito_genérico_Deutsch-Jozsa>`\n",
    "    ::::{figure} Figuras/Fig_algoritmos_circuito_genérico_Deutsch-Jozsa.png\n",
    "    :width: 600px\n",
    "    :align: center\n",
    "    :name: Fig_algoritmos_circuito_genérico_Deutsch-Jozsa\n",
    "    Forma genérica de los circuitos de Deutsch-Jozsa y Bernstein-Vazirani, donde el oráculo toma como entradas todos los qubits menos el último, el qubit ancila. Sobre este último qubit es sobre el que se aplica el oráculo. Como el qubit ancila se inicializa en el estado $\\ket{-}$, estamos ente oráculos de fase.\n",
    "    ::::\n",
    "\n"
   ]
  },
  {
   "cell_type": "markdown",
   "id": "94a2827b",
   "metadata": {},
   "source": [
    "::::::::::{dropdown} Demostración\n",
    "Veámoslo. Para ellos usamos la expresión de $\\ket{\\Psi}$ de la Ec.  {eq}`%s <ec_algoritmos_Psi>`:\n",
    "\\begin{align*}\n",
    "p_{0} &= |\\braket{0}{\\Phi}|^2 \\nonumber\\\\ \\rule{0mm}{12mm}\n",
    "&= \\left| \\bra{0} \\sum_{y=0}^{2^n-1} \\left( \\frac{1}{2^n}\\sum_{x=0}^{2^n-1}(-1)^{f(x) + x \\cdot y} \\right)\\ket{y} \\right|^2 \\\\ \\rule{0mm}{12mm}\n",
    "&= \\left| \\frac{1}{2^n} \\sum_{x=0}^{2^n-1} (-1)^{f(x) + x \\cdot 0} \\right|^2   =  \\left| \\frac{1}{2^n} \\sum_{x=0}^{2^n-1} (-1)^{f(x)} \\right|^2 \\, .\n",
    "\\end{align*}\n",
    "Para el caso de $f \\in C$ tenemos que $f(x) = f_0$ con lo que:\n",
    "\\begin{equation*}\n",
    "p_{0} = \\left|  \\sum_{x=0}^{2^n-1} (-1)^{f(x)} \\right|^2    =  \\left| (-1)^{f_0} \\frac{1}{2^n} \\sum_{x=0}^{2^n-1}  1 \\right|^2  = \\left| (-1)^{f_0} \\right|^2 = 1  \\, .\n",
    "\\end{equation*}\n",
    "\n",
    "Para el caso de $f \\in E$ tenemos igual número de  $f(x) = 0$ que de $f(x) = 1$, con lo que en el sumatorio tenemos tantos $1$ como $-1$:\n",
    "\\begin{equation*}\n",
    "p_{0} = \\left|  \\sum_{x=0}^{2^n-1} (-1)^{f(x)} \\right|^2    =  0  \\, .\n",
    "\\end{equation*}\n",
    "::::::::::\n"
   ]
  },
  {
   "cell_type": "markdown",
   "id": "c8e60f74",
   "metadata": {},
   "source": [
    "::::::{admonition} Ejercicio\n",
    ":class: tip\n",
    "\n",
    "\n",
    "Oráculos constantes sólo hay dos, $f(x)=0~$ ó $~f(x) = 1$ para todo $x$. Oráculos equilibrados hay muchos. Construye un oráculo constante y uno\n",
    "equilibrado. Construye el circuito de Deutsch-Josza y ponlo a prueba con estos dos oráculos. Para ello, sigue el tutorial del\n",
    "[Notebook de Qiskit (https://learn.qiskit.org/course/ch-algorithms/deutsch-jozsa-algorithm)](https://learn.qiskit.org/course/ch-algorithms/deutsch-jozsa-algorithm) .\n",
    "::::::\n",
    "\n",
    "\n"
   ]
  },
  {
   "cell_type": "markdown",
   "id": "b980b4b2",
   "metadata": {},
   "source": [
    "::::::{admonition} Nota\n",
    ":class: note\n",
    "\n",
    "\n",
    "\n",
    "Véase que en el los ejemplos anteriores de Qiskit se ponene tantas puertas $X$ antes como después de las CNOT en el oráculo. Esto es para hacer que la CNOT actue si por el registro de control tenemos un $\\ket{0}$,  en vez de un $\\ket{1}$. Es importante simpre acordarse de poner también la $X$ después del control!!!\n",
    "::::::\n"
   ]
  },
  {
   "cell_type": "markdown",
   "id": "8534e04c",
   "metadata": {},
   "source": [
    "::::{figure} https://quantumspain-project.es/wp-content/uploads/2022/11/Logo_QS_EspanaDigital.png\n",
    ":width: 2000px\n",
    ":align: center\n",
    "::::\n",
    "\n",
    "<center>\n",
    "<img align=\"left\" src=\"https://quantumspain-project.es/wp-content/uploads/2024/02/Banner-QS_GOB_v2.png\" width=\"1000px\" />\n",
    "</center>"
   ]
  }
 ],
 "metadata": {
  "kernelspec": {
   "display_name": "Python 3 (ipykernel)",
   "language": "python",
   "name": "python3"
  },
  "language_info": {
   "codemirror_mode": {
    "name": "ipython",
    "version": 3
   },
   "file_extension": ".py",
   "mimetype": "text/x-python",
   "name": "python",
   "nbconvert_exporter": "python",
   "pygments_lexer": "ipython3",
   "version": "3.11.7"
  },
  "toc": {
   "base_numbering": 1,
   "nav_menu": {},
   "number_sections": false,
   "sideBar": true,
   "skip_h1_title": true,
   "title_cell": "Table of Contents",
   "title_sidebar": "Contents",
   "toc_cell": false,
   "toc_position": {},
   "toc_section_display": true,
   "toc_window_display": false
  }
 },
 "nbformat": 4,
 "nbformat_minor": 5
}