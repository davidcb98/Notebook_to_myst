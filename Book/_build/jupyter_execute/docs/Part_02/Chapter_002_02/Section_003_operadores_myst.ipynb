{
 "cells": [
  {
   "cell_type": "markdown",
   "id": "8ddaeb38",
   "metadata": {},
   "source": [
    "> {sub-ref}`today` | {sub-ref}`wordcount-minutes` min read\n",
    "\n",
    "::::{figure} Figuras/Fig_logo_UMA_scbi.png\n",
    ":width: 2000px\n",
    ":align: center\n",
    "::::\n",
    "\n",
    "$ \\newcommand{\\bra}[1]{\\langle #1|} $\n",
    "$ \\newcommand{\\ket}[1]{|#1\\rangle} $\n",
    "$ \\newcommand{\\branew}[1]{\\langle #1|} $\n",
    "$ \\newcommand{\\ketnew}[1]{\\langle #1|} $\n",
    "$ \\newcommand{\\braket}[2]{\\langle #1|#2\\rangle} $\n",
    "$ \\newcommand{\\ketbra}[2]{| #1\\rangle \\langle #2 |} $\n",
    "$ \\newcommand{\\i}{{\\color{blue} i}} $ \n",
    "$ \\newcommand{\\Hil}{{\\cal H}} $\n",
    "$ \\newcommand{\\cg}[1]{{\\rm C}#1} $\n",
    "$ \\newcommand{\\lp}{\\left(} $\n",
    "$ \\newcommand{\\rp}{\\right)} $\n",
    "$ \\newcommand{\\lc}{\\left[} $\n",
    "$ \\newcommand{\\rc}{\\right]} $\n",
    "$ \\newcommand{\\lch}{\\left\\{} $\n",
    "$ \\newcommand{\\rch}{\\right\\}} $\n",
    "$ \\newcommand{\\Lp}{\\Bigl(} $\n",
    "$ \\newcommand{\\Rp}{\\Bigr)} $\n",
    "$ \\newcommand{\\Lc}{\\Bigl[} $\n",
    "$ \\newcommand{\\Rc}{\\Bigr]} $\n",
    "$ \\newcommand{\\Lch}{\\Bigl\\{} $\n",
    "$ \\newcommand{\\Rch}{\\Bigr\\}} $\n",
    "$ \\newcommand{\\rqa}{\\quad \\Rightarrow \\quad} $\n",
    "$ \\newcommand{\\bm}{\\boldsymbol}$"
   ]
  },
  {
   "cell_type": "markdown",
   "id": "080fe82e",
   "metadata": {},
   "source": [
    "# Operadores\n"
   ]
  },
  {
   "cell_type": "markdown",
   "id": "03c66305",
   "metadata": {},
   "source": [
    "## Operadores y matrices\n"
   ]
  },
  {
   "cell_type": "markdown",
   "id": "7020e78d",
   "metadata": {},
   "source": [
    "En un espacio vectorial, además de los vectores, será esencial entender la manera en que estos se pueden transformar entre sí. Un tipo de transformaciones es aquella dada por un <i>operador lineal</i>:\n",
    "::::::{card} \n",
    "<b>Definicion</b>:  \n",
    "\n",
    "^^^\n",
    "Un <b>operador lineal </b>es una aplicación  que transforma un vector  en otro\n",
    "\\begin{equation}\n",
    "A: \\ket{u} ~~\\to ~~ \\ket{v}\n",
    "\\end{equation}\n",
    "de forma <i>lineal</i>, esto es que sobre una <i>combinación lineal</i> de vectores actúa de forma lineal. Es decir, para todo $\\alpha,\\beta \\in {\\mathbb C}$:\n",
    "\\begin{equation}\n",
    "A: (\\alpha\\ket{u} + \\beta\\ket{w})~~\\to ~~ \\ket{v} =\\alpha A\\ket{u} + \\beta A\\ket{w}\n",
    "\\end{equation}\n",
    "::::::\n",
    "\n",
    "\n",
    "Podemos escribir también $\\ket{v} = A\\ket{u} \\equiv \\ket{Au}$ (donde $Au$ debe entenderse como una etiqueta).\n"
   ]
  },
  {
   "cell_type": "markdown",
   "id": "e7102ae6",
   "metadata": {},
   "source": [
    "::::::{admonition} Nota\n",
    ":class: note\n",
    "\n",
    "\n",
    "\n",
    "Con números (reales o complejos), un ejemplo de una operación que no es lineal es <i>elevar a una potencia</i>, por ejemplo, al cuadrado:\n",
    "\\begin{equation}\n",
    "f(x) = x^2 ~~ \\Rightarrow ~~ f(a+b) = (a+b)^2 \\neq a^2 + b^2\n",
    "\\end{equation}\n",
    "::::::\n"
   ]
  },
  {
   "cell_type": "markdown",
   "id": "dd47b2f2",
   "metadata": {},
   "source": [
    "::::::{admonition} Nota (El cambio en física) \n",
    ":class: note\n",
    "\n",
    "\n",
    "\n",
    "Podemos ver la física como <i>el arte de estudiar el cambio</i>, es decir, estudiar como varía un sistema con el tiempo. Como acabamos de comentar, los <i>operadores lineales</i> nos introducen una noción de cambio (de evolución): un vector se transforma (evoluciona) a otro. Ya adelantamos aquí que en Mecánica Cuántica los vectores representan <b>estados</b> del sistema, con lo cual, el hecho de aplicar un operador sobre un vector implica pasar de un estado del sistema a otro.\n",
    "\n",
    "Existen transformaciones inducidas por operadores <i>no lineales</i>. Sin embargo, <b>la Mecánica Cuántica es intrínsicamente lineal</b>: todas las evoluciones se dan por medio de operadores lineales.\n",
    "::::::\n"
   ]
  },
  {
   "cell_type": "markdown",
   "id": "b9c7ba9f",
   "metadata": {},
   "source": [
    "::::::{admonition} Ejemplo\n",
    ":class: tip\n",
    "\n",
    "\n",
    "\n",
    "Un <i>operador</i>  fácil de visualizar es el operador de <b>rotación en un plano</b>. Dado un ángulo $\\theta \\in (0,2\\pi)$ el operador $A = R(\\theta)$ gira cualquier vector un ángulo $\\theta$ en el sentido antihorario.\n",
    "\n",
    "Un vector en el plano ${\\vec{u}} =  (u_1,u_2)$  es equivalente al número complejo $u = u_1 + i u_2$ en el plano complejo $V = {\\mathbb C}$.\n",
    "\n",
    "Escrito en polares, $u=|u|e^{i\\phi}$, y sabemos que una rotación de ángulo $\\theta$ es equivalente a añadirle dicho  ángulo a la fase\n",
    "\\begin{equation}\n",
    "v = R(\\theta) u = |u| e^{i(\\phi + \\theta)} =  |u| e^{i\\phi } e^{i\\theta} = u\\cdot e^{i\\theta}\n",
    "\\end{equation}\n",
    "Por tanto, para rotar un número complejo un ángulo $\\theta$ basta con multiplicarlo por la fase $e^{i\\theta}$, que se corresponde con el operador $R(\\theta)$ en el espacio vectorial $V = \\mathbb{C}$.\n",
    "\n",
    "La propiedad fundamental de una rotación es la de mantener invariante el módulo  $|v| = |u|$.\n",
    "::::::\n"
   ]
  },
  {
   "cell_type": "markdown",
   "id": "b6768487",
   "metadata": {},
   "source": [
    "### Matriz de un operador\n"
   ]
  },
  {
   "cell_type": "markdown",
   "id": "9270bdae",
   "metadata": {},
   "source": [
    "Dada una base, un vector queda especificado por una colección de números, sus <i>componentes</i>. Igualmente, un operador queda definido por una <i>matriz numérica</i>.\n"
   ]
  },
  {
   "cell_type": "markdown",
   "id": "121d6ef7",
   "metadata": {},
   "source": [
    "Efectivamente, en una base, la relación $\\ket{v} = A\\ket{u}$ equivale a una ecuación que relacione las componentes de ambos vectores\n",
    "\\begin{equation}\n",
    "\\boxed{v_i = \\sum_{j=1}^N A_{ij} u_j } \\, .\n",
    "\\end{equation}\n",
    "Esta operación se corresponde con la siguiente composición de matrices\n",
    "\\begin{equation}\n",
    "\\boxed{\\begin{bmatrix}\n",
    "v_1 \\\\ v_2 \\\\ \\vdots \\\\ v_N \\end{bmatrix} =  \\begin{bmatrix}\n",
    "A_{11} & A_{12} & \\cdots & A_{1N} \\\\\n",
    "A_{21} & A_{22} & \\cdots & A_{2N} \\\\\n",
    "\\vdots & \\vdots &  \\ddots      & \\vdots \\\\\n",
    "A_{N1} & A_{N2} &    \\cdots    & A_{NN}\n",
    "\\end{bmatrix}\n",
    "\\begin{bmatrix}\n",
    "u_1 \\\\ u_2 \\\\ \\vdots \\\\ u_N\\end{bmatrix}}\n",
    "\\end{equation}\n"
   ]
  },
  {
   "cell_type": "markdown",
   "id": "a44a6f3c",
   "metadata": {},
   "source": [
    "::::::{admonition} Ejemplo\n",
    ":class: tip\n",
    "\n",
    "\n",
    "\n",
    "Continuando con el ejemplo del operador de rotación en un plano, hemos visto que las componentes de $u = u_1 + i u_2$ y las de $R(\\theta)u = v = v_1 + i v_2$ se obtienen mediante la multiplicación por una fase pura\n",
    "\\begin{equation*}\n",
    "v= u e^{i\\theta}\n",
    "\\end{equation*}\n",
    "Vamos a desarrollar cada miembro en cartesianas, separando las partes real e imaginaria\n",
    "\\begin{align*}\n",
    "v = v_1 + i v_2 &= u e^{i\\theta} =  (u_1 + iu_2) (\\cos \\theta + i \\sin \\theta)  \\\\\n",
    "\\rule{0mm}{6mm}\n",
    "&= (\\cos\\theta \\, u_1 - \\sin \\theta\\,  u_2) + i(\\sin\\theta\\,  u_1 + \\cos \\theta\\,  u_2)\n",
    "\\end{align*}\n",
    "es decir las coordenadas del vector origen y el vector rotado imagen se relacionan en la  forma\n",
    "\\begin{equation*}\n",
    "v_1 = \\cos\\theta \\, u_1 - \\sin \\theta\\,  u_2 ~~~~~~~,~~~~~~~~\n",
    "v_2 = \\sin\\theta \\, u_1 + \\cos \\theta\\,  u_2\n",
    "\\end{equation*}\n",
    "que podemos expresar en forma matricial\n",
    "\\begin{equation*}\n",
    "\\begin{bmatrix} v_1 \\\\ v_2 \\end{bmatrix} = \\begin{bmatrix} \\cos\\theta & -\\sin\\theta \\\\ \\sin\\theta &\\cos\\theta\\end{bmatrix} \\begin{bmatrix} u_1 \\\\ u_2 \\end{bmatrix}\n",
    "\\end{equation*}\n",
    "\n",
    "::::::\n"
   ]
  },
  {
   "cell_type": "markdown",
   "id": "a2965a60",
   "metadata": {},
   "source": [
    "## Producto externo\n"
   ]
  },
  {
   "cell_type": "markdown",
   "id": "8c1440ab",
   "metadata": {},
   "source": [
    "### Producto externo de vectores\n"
   ]
  },
  {
   "cell_type": "markdown",
   "id": "8935fd90",
   "metadata": {},
   "source": [
    "Consideremos dos vectores $\\ket{u}$ y $\\ket{v}$. Dependiendo del orden en que los compongamos, $\\braket{u}{v}$ o $\\ketbra{v}{u}$, el resultado produce dos cantidades muy distintas.\n",
    "\n",
    " \n",
    "- El <b>producto interno</b>, o <i>producto escalar</i> es un <b>número complejo</b>\n",
    "\\begin{equation}\n",
    "a = \\braket{u}{v} = \\braket{v}{u}^*\n",
    "\\end{equation}\n",
    " \n",
    "- El <b>producto externo  </b>es un <b>operador</b>\n",
    "\\begin{equation}\n",
    "A = \\ketbra{v}{u}\n",
    "\\end{equation}\n",
    "Para comprender por qué es un operador, observamos que dicha expresión aplicada a un vector $\\ket{w}$ da otro, paralelo a $\\ket{v}$\n",
    "\\begin{equation}\n",
    "A : \\ket{w} ~\\to ~ A\\ket{w} =  \\ket{v}\\braket{u}{w}=\\ket{v} b  = b \\ket{v}\n",
    "\\end{equation}\n",
    "El número complejo $b=\\braket{u}{w}$ es  la <i>proyección</i> de $\\ket{w}$ en la dirección de $\\ket{u}$.\n",
    "\n"
   ]
  },
  {
   "cell_type": "markdown",
   "id": "e5ca2e10",
   "metadata": {},
   "source": [
    "::::::{admonition} Nota\n",
    ":class: note\n",
    "\n",
    "\n",
    "\n",
    "Véase que:\n",
    "\n",
    "\n",
    "1. El <i>orden</i> en que escribimos las cosas es <i>muy</i> relevante.\n",
    "\n",
    "\n",
    "\n",
    "    - $\\braket{u}{v}$ y $\\ketbra{v}{u}$ son objetos <i>radicalmente distintos</i>: el primero es un número y el segundo es un operador. Decimos que los vectores no conmutan.\n",
    "\n",
    "\n",
    "    - En cambio $\\ket{v} b  = b \\ket{v}$, así como $\\bra{u}b = b\\bra{u}$, es decir,  los números complejos y los $kets$ o $bras$ pueden escribirse en cualquier orden (decimos que conmutan).\n",
    "\n",
    "\n",
    "2. La acción del operador  $A = \\ket{v}\\!\\bra{u}$ es muy fácil de expresar con palabras:\n",
    "el operador $A$ toma <i>cualquier vector</i> $\\ket{w}$ y lo convierte en un vector <i>paralelo</i> a $\\ket{v}$ proporcionalmente a su proyección $b=\\braket{u}{w}$.\n",
    "\n",
    "Si la proyección es nula $b=0$, el operador aniquila, es decir, da el elemento neutro.\n",
    "\n",
    "::::::\n"
   ]
  },
  {
   "cell_type": "markdown",
   "id": "9c668547",
   "metadata": {},
   "source": [
    "### Producto externo de vectores (en componentes)\n"
   ]
  },
  {
   "cell_type": "markdown",
   "id": "ca76899e",
   "metadata": {},
   "source": [
    "La diferencia entre el <i>producto interno</i> $a=\\braket{u}{v}$ y el <i>externo</i> $A=\\ketbra{u}{v}$ tiene su reflejo. Expresando ambos vectores en la misma base ortonormal, $\\ket{u} = \\sum_i u_i\\ket{e_i}$ y $\\ket{v} = \\sum_j v_j \\ket{e_j}$:\n",
    "\n",
    " \n",
    "- El <i>número complejo</i> $a$  es el <i>producto escalar</i>\n",
    "\\begin{equation}\n",
    "a = \\braket{u}{v}  = \\begin{bmatrix} u_1^*,...,u_N^*\\end{bmatrix}\n",
    "\\begin{bmatrix} v_1 \\\\ \\vdots \\\\ v_N\\end{bmatrix}\\, =  \\sum_i u_i^*v_i\n",
    "\\end{equation}\n",
    " \n",
    "- La matriz $A_{ij}$ <i>representa</i> el operador $A$ en la base $\\{\\ket{e_i}\\}$\n",
    "\\begin{equation}\n",
    "\\boxed{A = \\ketbra{v}{u} ~\\sim ~\\begin{bmatrix} v_1 \\\\ \\vdots \\\\ v_N\\end{bmatrix}\n",
    "\\begin{bmatrix} u_1^*,...,u_N^*\\end{bmatrix} ~=~\n",
    "\\begin{bmatrix} v_1 u_1^* & v_1u_2^* & ... & v_1 u_N^* \\\\\n",
    "v_2 u_1^* & v_2 u_1^*& ... & v_2 u_N^* \\\\ \\vdots & \\vdots  & \\ddots & \\vdots \\\\\n",
    "v_N u_1^* & & ... & v_N u_N^* \\end{bmatrix} ~ = ~A_{ij}}\n",
    "\\end{equation}\n",
    "\n"
   ]
  },
  {
   "cell_type": "markdown",
   "id": "a2793382",
   "metadata": {},
   "source": [
    "## Base canónica de operadores\n"
   ]
  },
  {
   "cell_type": "markdown",
   "id": "64ba4a97",
   "metadata": {},
   "source": [
    "### Producto externo de operadores de la base\n"
   ]
  },
  {
   "cell_type": "markdown",
   "id": "5c9d75c4",
   "metadata": {},
   "source": [
    "Un caso importante es cuando $A$ es el producto externo de <i>dos elementos de la base ortonormal</i> $\\ket{i}$ y $\\ket{j}$\n",
    "\\begin{equation}\n",
    "A = \\ketbra{i}{j}\n",
    "\\end{equation}\n",
    "La acción de $A$ sobre un vector $\\ket{k}$ arbitrario de la base es sencilla:  cambia el vector $\\ket{j}\\to \\ket{i}$ y aniquila a todos los demás\n",
    "\\begin{equation}\n",
    "A \\ket{k} = \\ket{i}\\braket{j}{k} = \\ket{i} \\delta_{jk} = \\left\\{ \\begin{array}{rl}\n",
    "0 & {\\rm if} ~~k\\neq j \\\\ \\ket{i} & {\\rm if} ~~ k=j \\end{array} \\right.\n",
    "\\end{equation}\n",
    "La matriz asociada al operador  tiene sólo un 1 en el elemento $(ij)$ y cero en todos los demás. Por ejemplo, supongamos que\n",
    "$N=4$\n",
    "\\begin{equation}\n",
    "\\ketbra{2}{3} ~\\to ~~\n",
    "\\begin{bmatrix} 0 \\\\ 1 \\\\ 0 \\\\ 0 \\end{bmatrix}\\begin{bmatrix} 0 & 0 & 1 & 0 \\end{bmatrix} =\n",
    "\\begin{bmatrix}\n",
    "0 &  0 & 0 &  0 \\\\  0 &  0 & 1&  0 \\\\ 0 &  0 & 0 &  0 \\\\ 0 &  0 & 0 &  0\n",
    "\\end{bmatrix} ~~\\Rightarrow ~~ A_{ij} = \\delta_{i2}\\delta_{j3}\n",
    "\\end{equation}\n"
   ]
  },
  {
   "cell_type": "markdown",
   "id": "db498502",
   "metadata": {},
   "source": [
    "::::::{admonition} Nota (Cambio de notación en la base) \n",
    ":class: note\n",
    "\n",
    "\n",
    "\n",
    "Véase que en esta sección se han denominado a los elementos de la base simplemente como $\\ket{i}$ en vez de como $\\ket{e_i}$. Esto es simplemente un cambio de notación. Las dos notaciones son habituales en matemáticas y física, pero la usada en computación cuántica es la primera, $\\ket{i}$.\n",
    "::::::\n"
   ]
  },
  {
   "cell_type": "markdown",
   "id": "ba425369",
   "metadata": {},
   "source": [
    "### Expansión de un operador general\n"
   ]
  },
  {
   "cell_type": "markdown",
   "id": "9c2d8746",
   "metadata": {},
   "source": [
    "Ahora podemos obtener una nueva perspectiva sobre la matriz $A_{ij}$ asociada a un operador $A$.\n",
    "::::::{card} \n",
    "\n",
    "\n",
    "De la misma manera que las componentes $u_i$ expresan la <i>expansión de un vector</i> $\\ket{u}$ en una base <i>ortonormal de vectores</i>,  $\\to \\ket{u} = \\sum_{i=1}^N u_i \\ket{i}$, los <i>elementos de matriz</i> $A_{ij}$ expresan la <i>expansión de un operador</i> en una <b>base de operadores</b> $\\ketbra{i}{j}$\n",
    "```{math}\n",
    ":label: ec_formalismo_base_operadores \n",
    "\\begin{equation} \n",
    "A= \\sum_{i,j=1}^N A_{ij} \\ketbra{i}{j}\n",
    "\\end{equation} \n",
    "```\n",
    "Esta base es la <b>base canónica</b>.\n",
    "::::::\n"
   ]
  },
  {
   "cell_type": "markdown",
   "id": "b0fe82ab",
   "metadata": {},
   "source": [
    "Escribiendo las matrices asociadas a $\\ketbra{i}{j}$, es evidente que $\\sum_{i,j=1}^N A_{ij} \\ketbra{i}{j} $ reconstruye la mariz $A_{ij}$ asociada a $A$\n",
    "\\begin{equation}\n",
    "A= \\sum_{i,j=1}^N A_{ij} \\ketbra{i}{j} \\,~~~~ \\Longleftrightarrow ~~~~\n",
    "\\begin{bmatrix}\n",
    "A_{11} & A_{12} & \\cdots & A_{1N} \\\\\n",
    "A_{21} & A_{22} & \\cdots & A_{2N} \\\\\n",
    "\\vdots & \\vdots &  \\ddots      & \\vdots \\\\\n",
    "A_{N1} & A_{N2} &    \\cdots    & A_{NN}\n",
    "\\end{bmatrix} .\n",
    "\\end{equation}\n"
   ]
  },
  {
   "cell_type": "markdown",
   "id": "e14c074a",
   "metadata": {},
   "source": [
    "### Elementos de matriz\n"
   ]
  },
  {
   "cell_type": "markdown",
   "id": "c525e572",
   "metadata": {},
   "source": [
    "De la misma manera que obteníamos las componentes de un vector proyectando sobre un elemento de la base\n",
    "\\begin{equation}\n",
    "v_i = \\braket{i}{v}\n",
    "\\end{equation}\n",
    "ahora podemos obtener los <i>elementos de matriz</i> de un operador $A$ en la forma\n",
    "\\begin{equation}\n",
    "\\boxed{A_{ij} = \\bra{i} A \\ket{j}}\n",
    "\\end{equation}\n"
   ]
  },
  {
   "cell_type": "markdown",
   "id": "dd9ee80b",
   "metadata": {},
   "source": [
    "::::::{admonition} Ejercicio\n",
    ":class: tip\n",
    "\n",
    "\n",
    "Demuestra la expresión $A_{ij} = \\bra{i} A \\ket{j}$. Para ello usa la Ec. (\\ref{ec_formalismo_base_operadores})\n",
    "::::::\n",
    "\n",
    "\n"
   ]
  },
  {
   "cell_type": "markdown",
   "id": "983530e7",
   "metadata": {},
   "source": [
    "::::::{admonition} Resumen\n",
    ":class: attention\n",
    "\n",
    "\n",
    "\n",
    "Dada una base $\\{\\ket{e_i}\\}$ podemos expresar un operador mediante una matriz $A_{ij}$. La relación concreta es\n",
    "\n",
    "\n",
    "- Como operador $\\to ~ A = \\sum_{ij} A_{ij}\\ketbra{i}{j}$\n",
    "\n",
    "- Como elemento de matriz $\\to ~ A_{ij} = \\bra{i}A\\ket{j}$\n",
    "\n",
    "::::::\n"
   ]
  },
  {
   "cell_type": "markdown",
   "id": "bfe23a86",
   "metadata": {},
   "source": [
    "### Cambios de base\n"
   ]
  },
  {
   "cell_type": "markdown",
   "id": "df202bf4",
   "metadata": {},
   "source": [
    "Sean  dos bases ortonormales relacionadas mediante el cambio unitario $ \\ket{j} \\to  \\ketnew{\\tilde{j}} = \\sum_{ij}U_{ij} \\ket{i}$. En cada una de ellas, un operador adquiere una forma matricial concreta\n",
    "\\begin{equation}\n",
    "A_{ij} = \\bra{i} A \\ket{j} ~~~~,~~~~~ \\tilde A_{ij} = \\branew{\\tilde i} A \\ketnew{\\tilde j} \\, .\n",
    "\\end{equation}\n",
    "Ambas se relacionan muy sencillamente\n",
    "\\begin{equation}\n",
    "\\tilde A_{ij} = \\branew{\\tilde i} A \\ketnew{\\tilde j} = \\sum_{k,l}\\bra{e_k}U^*_{ki} A U_{lj}\\ket{e_l} =  \\sum_{k,l} U_{lj}\\bra{e_k} A  \\ket{e_l} U^\\dagger_{ik}  = \\sum_{k,l} U^\\dagger_{ik}A_{kl} U_{lj} \\, .\n",
    "\\end{equation}\n"
   ]
  },
  {
   "cell_type": "markdown",
   "id": "5cf2f081",
   "metadata": {},
   "source": [
    "::::::{card} \n",
    "<b>Lema</b>:  \n",
    "\n",
    "^^^\n",
    "Bajo un cambio de base $ \\ket{e_j} \\to \\ket{\\tilde e_j} = \\sum_{ij}U_{ij} \\ket{e_i}$ las matrices\n",
    "asociadas a un operador $A$ cambian según la regla\n",
    "\\begin{equation}\n",
    "\\tilde A_{ij} = (U^\\dagger A U)_{ij}\n",
    "\\end{equation}\n",
    "::::::\n",
    "\n",
    "\n",
    "### Relación de completitud\n"
   ]
  },
  {
   "cell_type": "markdown",
   "id": "b4931cfb",
   "metadata": {},
   "source": [
    "La acción del operador identidad es\n",
    "\\begin{equation}\n",
    "I\\ket{v} = \\ket{v}\n",
    "\\end{equation}\n",
    "En particular sobre todo elemento de la base $I\\ket{i} = \\ket{i}$. En otras palabras,\n",
    "el operador identidad $I$ tiene por matriz $I_{ij}=\\delta_{ij}={\\rm diagonal}\\, (1,1,...,1)$ con lo que\n",
    "\\begin{equation}\n",
    "\\boxed{ I = \\sum_{i}  \\ketbra{i}{i} } = \\sum_{ij} \\delta_{ij}\\ketbra{i}{j} =\n",
    "\\begin{bmatrix}\n",
    "1 & 0 & \\dots & 0 \\\\\n",
    "0 & 1 & \\dots & 0 \\\\\n",
    "\\vdots & \\vdots & \\ddots & \\vdots \\\\\n",
    "0 & 0 & \\dots & 1 \\\\\n",
    "\\end{bmatrix}\n",
    "\\end{equation}\n",
    "Esta expresión se conoce también como <i>relación de completitud</i> o, también <b>relación de cierre</b> y se utiliza muy frecuentemente.\n"
   ]
  },
  {
   "cell_type": "markdown",
   "id": "51fc0ad1",
   "metadata": {},
   "source": [
    "La relación de completitud es, en realidad, una propiedad de  <b>cualquier base</b>. Dicho de otro modo, si $\\{\\ket{e_i}\\}$ y $\\{\\ket{f_i}\\}$ son, ambas, bases entonces $I\\ket{e_i} = \\ket{e_ i}$ y $I\\ket{f_j} = \\ket{f_j}$, entonces\n",
    "\\begin{equation}\n",
    "I =  \\sum_{i}  \\ketbra{e_i}{e_i} =  \\sum_{j}  \\ketbra{f_j}{f_j}\\, .\n",
    "\\end{equation}\n",
    "La relación de cierre, o completitud,  siempre se puede insertar en cualquier momento del cálculo. Se utiliza con frecuencia para efectuar cambios de base.\n"
   ]
  },
  {
   "cell_type": "markdown",
   "id": "a62f5287",
   "metadata": {},
   "source": [
    "Por ejemplo, vamos a ver que el producto escalar $\\braket{u}{v}$ puede calcularse en cualquier.\n",
    "Sea $\\ket{u} = \\sum_i u_i\\ket{e_i} = \\sum_i \\tilde u_i \\ket{f_i}$  y $\\ket{v} = \\sum_i  v_i\\ket{e_i}=\\sum_i \\tilde v_i\\ket{f_i}$. Entonces\n",
    "\\begin{equation}\n",
    "\\braket{v}{u} = \\bra{v} I \\ket{u} = \\bra{v}\\left(\\sum_i\\ketbra{e_i}{e_i}\\right)\\ket{u} =\n",
    "\\sum_i \\braket{v}{e_i}\\braket{e_i}{u} = \\sum_i v_i^* u_i\n",
    "\\end{equation}\n",
    "\\begin{equation}\n",
    "\\braket{v}{u} = \\bra{v} I \\ket{u} = \\bra{v}\\left(\\sum_i\\ketbra{f_i}{f_i}\\right)\\ket{u} =\n",
    "\\sum_i \\braket{v}{f_i}\\braket{f_i}{u} = \\sum_i \\tilde v_i^* \\tilde u_i\n",
    "\\end{equation}\n"
   ]
  },
  {
   "cell_type": "markdown",
   "id": "4e8b05e2",
   "metadata": {},
   "source": [
    "## El espacio vectorial ${\\rm L}(\\mathcal{H})$\n"
   ]
  },
  {
   "cell_type": "markdown",
   "id": "3621167b",
   "metadata": {},
   "source": [
    "El <i>conjunto</i> de <b>todos</b> los <i>operadores lineales</i> sobre un espacio vectorial $\\mathcal{H}$ tiene, de forma natural, una estructura de espacio vectorial que denominamos ${\\rm L}(\\mathcal{H})$.\n"
   ]
  },
  {
   "cell_type": "markdown",
   "id": "de5a20dd",
   "metadata": {},
   "source": [
    "En efecto, sean $A$ y $B$ dos operadores, y $\\lambda\\in {\\mathbb{C}}$ un número complejo. Tanto la suma $C = A+B$ como la multiplicación externa $D=\\lambda A$ son nuevos operadores definidos por su acción sobre un vector cualquiera $\\ket{v}\\in \\mathcal{H}$\n",
    "\\begin{equation}\n",
    "C\\ket{v} ~=~ (A + B) \\ket{v} = A\\ket{v} + B\\ket{v}\n",
    "\\end{equation}\n",
    "\\begin{equation}\n",
    "D\\ket{v} ~=~ (\\lambda A) \\ket{v} = \\lambda (A\\ket{v})\n",
    "\\end{equation}\n"
   ]
  },
  {
   "cell_type": "markdown",
   "id": "887bc2a4",
   "metadata": {},
   "source": [
    "### Operador Adjunto\n"
   ]
  },
  {
   "cell_type": "markdown",
   "id": "1e95b1e1",
   "metadata": {},
   "source": [
    "La conjugación <i>adjunta</i> se puede extender a ${\\rm L}(\\mathcal{H})$\n",
    "\\begin{equation}\n",
    "\\dagger ~\\to ~\n",
    "\\left\\{\n",
    "\\begin{matrix}\n",
    "z & \\leftrightarrow  &  z^* \\\\\n",
    "|u\\rangle & \\leftrightarrow &   \\langle u | \\\\\n",
    "A & \\leftrightarrow & A^{\\dagger}\n",
    "\\end{matrix}\n",
    "\\right.\n",
    "\\end{equation}\n",
    "pero añadiendo dos reglas que permiten aplicar $\\dagger$ a sumas y productos de <i>objetos</i> $a,b \\in\\{z,\\ket{u},A\\}$\n",
    "\n",
    " \n",
    "- <b>linealidad</b> $( a + b)^\\dagger = a^\\dagger + b^\\dagger $\n",
    " \n",
    "- <b>trasposición</b> $(ab)^\\dagger = b^\\dagger a^\\dagger$ (sólo relevante cuando $a$ y $b$ no conmuten)\n",
    "\n"
   ]
  },
  {
   "cell_type": "markdown",
   "id": "b957b56e",
   "metadata": {},
   "source": [
    "::::::{admonition} Ejemplos\n",
    ":class: tip\n",
    "\n",
    "\n",
    "\n",
    "\n",
    "\n",
    "- $\\ket{v} = A\\ket{u} ~~\\Leftrightarrow ~~\\bra{v} = \\bra{u}A^\\dagger$ donde el operador en la derecha actúa sobre el <i>bra</i> a su izquierda.\n",
    "Notar que, como $\\ket{v}^\\dagger=\\ket{Au}^\\dagger = \\bra{Au}$, la ecuación anterior implica\n",
    "\\begin{equation}\n",
    "\\bra{Au} = \\bra{u} A^\\dagger\n",
    "\\end{equation}\n",
    "\n",
    "- $\\bra{w}A\\ket{u}^* = (\\bra{w}A\\ket{u})^\\dagger = \\bra{u}A^\\dagger\\ket{w}$\n",
    "\n",
    "\n",
    "::::::\n"
   ]
  },
  {
   "cell_type": "markdown",
   "id": "fa96704e",
   "metadata": {},
   "source": [
    "### Matriz Adjunta\n"
   ]
  },
  {
   "cell_type": "markdown",
   "id": "eaa09227",
   "metadata": {},
   "source": [
    "Estas reglas nos permiten obtener el adjunto de un operador\n",
    "\\begin{equation}\n",
    "\\boxed{A^\\dagger = \\sum_{ij}\\left( A_{ij}\\ketbra{i}{j}\\right)^\\dagger = \\sum_{ij} \\, \\ketbra{j}{i}A_{ij}^* =  \\sum_{ji} \\, A_{ji}^*\\ketbra{i}{j}}\n",
    "\\end{equation}\n",
    "donde en la última ecuación hemos intercambiado los nombres $i\\leftrightarrow j$.\n"
   ]
  },
  {
   "cell_type": "markdown",
   "id": "11306ef1",
   "metadata": {},
   "source": [
    "Vemos que la matriz que representa $A^\\dagger$ es la <i>matriz adjunta</i> de $A_{ij}$, es decir, la traspuesta y conjugada\n",
    "\\begin{equation}\n",
    "(A^\\dagger)_{ij} = A^*_{ji} = (A^{*}_{ij})^t \\equiv (A_{ij})^\\dagger\n",
    "\\end{equation}\n",
    "donde $^\\dagger$ significa el adjunto de un operador a la izquierda, y de una matriz a la derecha.\n"
   ]
  },
  {
   "cell_type": "markdown",
   "id": "3a48422a",
   "metadata": {},
   "source": [
    "#### Dimensión de ${\\rm L}(\\mathcal{H})$\n"
   ]
  },
  {
   "cell_type": "markdown",
   "id": "dd162bc3",
   "metadata": {},
   "source": [
    "Si $\\mathcal{H}$ tiene dimensión $N$, un <i>operador general</i> $A\\in {\\rm L}(\\mathcal{H})$ se especifica mediante una matriz de $N^2$ números complejos $\\Rightarrow A = A_{ij}\\ket{e_i}\\bra{e_j}$. Además, $N^2$ números complejos equivalen a $2N^2$ números reales.\n"
   ]
  },
  {
   "cell_type": "markdown",
   "id": "d5ae016a",
   "metadata": {},
   "source": [
    "En otras palabras: $A$  tiene $N^2$ grados de libertad complejos y, por tanto, ésta es la dimension del espacio ${\\rm L}(\\mathcal{H})$\n",
    "\\begin{equation}\n",
    "{\\rm dim}_{\\bf C}({\\rm L}(\\mathcal{H})) = N^2 ~~~ \\Longleftrightarrow ~~~ {\\rm dim}_{\\bf R}({\\rm L}(\\mathcal{H})) =  2N^2\n",
    "\\end{equation}\n"
   ]
  },
  {
   "cell_type": "markdown",
   "id": "b49b5012",
   "metadata": {},
   "source": [
    "## Clases de operadores\n"
   ]
  },
  {
   "cell_type": "markdown",
   "id": "5b5c3afe",
   "metadata": {},
   "source": [
    "Vamos a considerar clases de operadores que satisfagan algún tipo de <i>condición</i> o <i>restricción</i>.\n"
   ]
  },
  {
   "cell_type": "markdown",
   "id": "938fc4b7",
   "metadata": {},
   "source": [
    "### Operador Unitario\n"
   ]
  },
  {
   "cell_type": "markdown",
   "id": "830f183f",
   "metadata": {},
   "source": [
    "::::::{card} \n",
    "<b>Definicion</b>:  \n",
    "\n",
    "^^^\n",
    "Un <b>operador unitario</b> $U$ es tal que su <i>adjunto</i> es igual a su <i>inverso</i>. Es decir verifica la siguiente ecuación\n",
    "\\begin{equation}\n",
    "U^\\dagger = U^{-1}  \\,\n",
    "\\end{equation}\n",
    "::::::\n",
    "\n",
    "\n"
   ]
  },
  {
   "cell_type": "markdown",
   "id": "fb1f0ce6",
   "metadata": {},
   "source": [
    "Naturalmente, esta ecuación se traduce en la misma ecuación para las matrices asociadas\n",
    "\\begin{equation}\n",
    "(U_{ij})^\\dagger = U_{ji}^* = U^{-1}_{ij}\n",
    "\\end{equation}\n",
    "Veamos ahora por qué hemos definido esta clase de operadores.\n"
   ]
  },
  {
   "cell_type": "markdown",
   "id": "8a790e78",
   "metadata": {},
   "source": [
    "::::::{card} \n",
    "<b>Teorema</b>:  \n",
    "\n",
    "^^^\n",
    "La acción de un operador unitario conserva <b>intacto el producto escalar</b> de dos vectores cualesquiera. En particular, conserva también la <i>norma</i> de cualquier vector.\n",
    "::::::\n",
    "\n",
    "\n"
   ]
  },
  {
   "cell_type": "markdown",
   "id": "52b33395",
   "metadata": {},
   "source": [
    "::::::::::{dropdown} Demostración\n",
    "Sea $U$ un operador unitario, y $\\ket{\\varphi'}=U\\ket{\\varphi}$ y $\\ket{\\psi'} = U\\ket{\\psi}$ dos vectores transformados por $U$, entonces\n",
    "\\begin{equation}\n",
    "\\braket{\\varphi'}{\\psi'} = \\left(\\bra{\\varphi}U^\\dagger\\right)U\\ket{\\psi} = \\bra{\\varphi} U^\\dagger U \\ket{\\psi} =\n",
    "\\braket{\\varphi}{\\psi}\n",
    "\\end{equation}\n",
    "particularizando para $\\ket{\\varphi} = \\ket{\\psi}$ tenemos que un operador unitario conserva la norma.\n",
    "\\begin{equation}\n",
    "\\|U \\ket{\\varphi}\\| = \\|\\ket{\\varphi}\\|\n",
    "\\end{equation}\n",
    "::::::::::\n"
   ]
  },
  {
   "cell_type": "markdown",
   "id": "cdcacfab",
   "metadata": {},
   "source": [
    "::::::{card} \n",
    "<b>Lema</b>:  \n",
    "\n",
    "^^^\n",
    "La <b>composición</b> de dos operadores $U$ y $V$  unitarios es unitaria. Sin embargo, la <b>combinación lineal</b> de operadores unitarios no es unitaria.\n",
    "::::::\n",
    "\n",
    "\n"
   ]
  },
  {
   "cell_type": "markdown",
   "id": "79a3c0f2",
   "metadata": {},
   "source": [
    "::::::{admonition} Ejercicio\n",
    ":class: tip\n",
    "\n",
    "\n",
    "Demuestra este resultado, es decir, demuestra que:\n",
    "\\begin{align*}\n",
    "(UV)^\\dagger & = (UV)^{-1} \\\\\n",
    "(U+V)^\\dagger & \\neq (U+V)^{-1}\n",
    "\\end{align*}\n",
    "::::::\n",
    "\n",
    "\n"
   ]
  },
  {
   "cell_type": "markdown",
   "id": "d6e54a6a",
   "metadata": {},
   "source": [
    "Por tanto, los operadores unitarios <i>no forman</i> un subespacio vectorial dentro de ${\\rm L}(\\mathcal{H})$. La estructura matemática que forman se denomina <b>grupo</b>: el grupo unitario $U(m)$, donde $m$ es la dimensión del espacio de Hilbert $\\mathcal{H}$.\n"
   ]
  },
  {
   "cell_type": "markdown",
   "id": "a45ad846",
   "metadata": {},
   "source": [
    "Aun así, forman una <i>variedad</i>: un conjunto continuo  que se puede parametrizar mediante una colección de parámetros, la <i>dimensión de la variedad</i>. Como hay una relación 1 a 1 entre un operador una matriz (en una base), esa dimensión será igual a <i>la dimensión del conjunto de matrices unitarias</i>.\n"
   ]
  },
  {
   "cell_type": "markdown",
   "id": "98359909",
   "metadata": {},
   "source": [
    "::::::{admonition} Ejercicio\n",
    ":class: tip\n",
    "\n",
    "\n",
    "Resta de ${\\rm dim}_{\\bf R}({\\rm L}(\\mathcal{H})) =  2N^2$ el número de ecuaciones que restringen la matriz de un operador unitario y halla así la dimensión (real) de la <i>variedad de operadores unitarios</i>.\n",
    "::::::\n",
    "\n",
    "\n"
   ]
  },
  {
   "cell_type": "markdown",
   "id": "e335f2a3",
   "metadata": {},
   "source": [
    "### Operador Unitario sobre bases ortonormales\n"
   ]
  },
  {
   "cell_type": "markdown",
   "id": "4fecd520",
   "metadata": {},
   "source": [
    "Como caso particular, aplicando un operador unitario $U$ a una base ortonormal $\\{\\ket{e_i}\\}$ obtenemos otra base ortonormal $\\{\\ket{f_i}\\}$\n",
    "\\begin{equation}\n",
    "\\left. \\begin{array}{c}\\ket{f_i} = U\\ket{e_i}\\\\ U^{-1} =  U^\\dagger \\end{array} \\right\\}\n",
    "~~~~ \\Longleftrightarrow ~~~~\\braket{f_i}{f_j} = \\braket{e_i}{e_j} = \\delta_{ij}\n",
    "\\end{equation}\n",
    "Inversamente, dadas dos bases ortonormales, $\\{\\ket{e_i}\\}$ y $\\{\\ket{f_i}\\}$, el operador que las relaciona es un operador unitario\n",
    "\\begin{equation}\n",
    "\\begin{array}{rcl}\n",
    "U = \\sum_i \\ketbra{f_i}{e_i} & \\Rightarrow &  U\\ket{e_j} = \\ket{f_j}\n",
    "\\\\ \\rule{0mm}{5mm}\n",
    "U^\\dagger = \\sum_i \\ketbra{e_i}{f_i}  & \\Rightarrow &    U^\\dagger\\ket{f_j} = \\ket{e_j}\n",
    "\\end{array}\n",
    "\\end{equation}\n"
   ]
  },
  {
   "cell_type": "markdown",
   "id": "dcc3322f",
   "metadata": {},
   "source": [
    "#### Operador ortogonal\n"
   ]
  },
  {
   "cell_type": "markdown",
   "id": "9f6b344e",
   "metadata": {},
   "source": [
    "Un  <b>operador ortogonal</b> es un caso particular de operador  unitario con <i>elementos de matriz reales</i>. El operador de rotación $R(\\theta)$ que hemos estudiado al comienzo de este tema es un operador ortogonal. Es inmediato comprobar que\n",
    "\\begin{equation}\n",
    "R(\\theta)^t = R(-\\theta) = R(\\theta)^{-1}\n",
    "\\end{equation}\n"
   ]
  },
  {
   "cell_type": "markdown",
   "id": "4b73f40e",
   "metadata": {},
   "source": [
    "### Operador Normal\n"
   ]
  },
  {
   "cell_type": "markdown",
   "id": "8393c80b",
   "metadata": {},
   "source": [
    "::::::{card} \n",
    "<b>Definicion</b>:  \n",
    "\n",
    "^^^\n",
    "Un operador $N$  es <b>normal</b> si conmuta con su adjunto\n",
    "\\begin{equation}\n",
    "NN^\\dagger = N^\\dagger N\n",
    "\\end{equation}\n",
    "::::::\n",
    "\n",
    "\n"
   ]
  },
  {
   "cell_type": "markdown",
   "id": "e0533708",
   "metadata": {},
   "source": [
    "### Operador Hermítico\n"
   ]
  },
  {
   "cell_type": "markdown",
   "id": "2d6d02f8",
   "metadata": {},
   "source": [
    "::::::{card} \n",
    "<b>Definicion</b>:  \n",
    "\n",
    "^^^\n",
    "Un operador  $H$ es <b>Hermítico</b> (o <b>autoadjunto</b>)  si  verifica la ecuación siguiente\n",
    "\\begin{equation}\n",
    "H = H^\\dagger\n",
    "\\end{equation}\n",
    "::::::\n",
    "\n",
    "\n",
    "\n",
    " \n",
    "- Es evidente que un operador hermítico es un operador normal, pero a la inversa no tiene por qué.\n",
    " \n",
    "- La <b>combinación lineal</b> de dos operadores <i>hermíticos</i> con coeficientes <i>reales</i> es un operador <i>hermítico</i>\n",
    "\\begin{equation}\n",
    "C^\\dagger = (a A + b B)^\\dagger = a^* A^\\dagger + b^* B^\\dagger = aA + b B = C\n",
    "\\end{equation}\n",
    "En otras palabras, los operadores autoadjuntos forman un subespacio vectorial $\\subset {\\rm L}(\\mathcal{H})$.\n",
    " \n",
    "- En cambio la composición (producto) de dos operadores hermíticos, en general no es hermítico\n",
    "\\begin{equation}\n",
    "(A B)^\\dagger = B^\\dagger A^\\dagger = BA \\neq AB\n",
    "\\end{equation}\n",
    "salvo que $A$ y $B$ conmuten.\n",
    " \n",
    "- La matriz asociada a un operador hermítico también se llama hermítica, y coincide con su traspuesta y conjugada\n",
    "\\begin{equation}\n",
    "A_{ij} = A^\\dagger_{ij} \\equiv  A^{*t}_{ij} = A^*_{ji}\n",
    "\\end{equation}\n",
    "Naturalmente, las matrices hermíticas también forman un subespacio vectorial dentro del espacio vectorial de matrices.\n",
    " \n",
    "- A partir de cualquier operador $C\\neq C^\\dagger $ siempre podemos construir un operador hermítico $A=A^\\dagger$ mediante la combinación lineal\n",
    "\\begin{equation}\n",
    "A = C + C^\\dagger\n",
    "\\end{equation}\n",
    "donde $a$ es un número real. Esto se extiende trivialmente a las matrices que los representan en cualquier base\n",
    "\\begin{equation}\n",
    "A_{ij} = C_{ij} + C_{ji}^*\n",
    "\\end{equation}\n",
    "\n"
   ]
  },
  {
   "cell_type": "markdown",
   "id": "7e9244ca",
   "metadata": {},
   "source": [
    "::::::{admonition} Ejercicio\n",
    ":class: tip\n",
    "\n",
    "\n",
    "Resta de $2N^2$ el número de ecuaciones que restringen la matriz de un operador hermítico y halla así la dimensión del <i>subespacio vectorial hermítico</i>\n",
    "::::::\n",
    "\n",
    "\n"
   ]
  },
  {
   "cell_type": "markdown",
   "id": "5ffc8943",
   "metadata": {},
   "source": [
    "### Operador anti-Hermítico\n"
   ]
  },
  {
   "cell_type": "markdown",
   "id": "c0b7c7e0",
   "metadata": {},
   "source": [
    "::::::{card} \n",
    "<b>Definicion</b>:  \n",
    "\n",
    "^^^\n",
    "Un operador  $A$ es <b>anti-hermítico</b> si  verifica la ecuación siguiente\n",
    "\\begin{equation}\n",
    "A = -A^\\dagger\n",
    "\\end{equation}\n",
    "::::::\n",
    "\n",
    "\n",
    "\n",
    " \n",
    "- Un operador anti-hermitico siempre se puede obtener de un operador hermítico mediante el número $i$\n",
    "\\begin{equation}\n",
    "A = i H ~~~\\Longleftrightarrow ~~~A^\\dagger = (i H)^\\dagger = -i H\n",
    "\\end{equation}\n",
    " \n",
    "- Se deduce de lo anterior que un operador anti-hermítico es también un operador normal\n",
    "\\begin{equation}\n",
    "A A^\\dagger = A (-A) = -A A = A^\\dagger A\n",
    "\\end{equation}\n",
    "\n"
   ]
  },
  {
   "cell_type": "markdown",
   "id": "8ee84d29",
   "metadata": {},
   "source": [
    "### Proyectores\n"
   ]
  },
  {
   "cell_type": "markdown",
   "id": "0c8a7e1f",
   "metadata": {},
   "source": [
    "El operador $P = \\ketbra{u}{u}$ proyecta cualquier vector en la dirección de $\\ket{u}$\n",
    "\\begin{equation}\n",
    "P \\ket{w} = \\ket{u}\\!\\braket{u}{w} = a \\ket{u}\n",
    "\\end{equation}\n",
    "donde $a = \\braket{u}{w}$.\n"
   ]
  },
  {
   "cell_type": "markdown",
   "id": "f2cc07f9",
   "metadata": {},
   "source": [
    "Aplicado al vector $\\ket{u}$ lo deja invariante\n",
    "\\begin{equation}\n",
    "P \\ket{u} = \\ket{u}\\!\\braket{u}{u} =  \\ket{u}\n",
    "\\end{equation}\n",
    "Es por esto que, una segunda aplicación de $P$, no modifica el resultado\n",
    "\\begin{equation}\n",
    "P(P \\ket{w}) =  \\braket{u}{w} P(\\ket{u}) = \\braket{u}{w} \\ket{u}\n",
    "\\end{equation}\n",
    "Como el vector $\\ket{w}$ es arbitrario, que $P^2\\ket{w} = P\\ket{w}$ sean siempre iguales es una propiedad del operador $P$. De hecho <b>esta propiedad define una clase de operadores</b>.\n"
   ]
  },
  {
   "cell_type": "markdown",
   "id": "90db22be",
   "metadata": {},
   "source": [
    "::::::{card} \n",
    "<b>Definicion</b>:  \n",
    "\n",
    "^^^\n",
    "Un <b>proyector </b>es un operador hermítico que verifica la ecuación\n",
    "\\begin{equation}\n",
    "P^2 = P\n",
    "\\end{equation}\n",
    "::::::\n",
    "\n",
    "\n"
   ]
  },
  {
   "cell_type": "markdown",
   "id": "da57553b",
   "metadata": {},
   "source": [
    "::::::{admonition} Nota (Los proyectores son no-unitarios) \n",
    ":class: note\n",
    "\n",
    "\n",
    "\n",
    "El proyector es un operador <i>no-unitario</i>: la proyección reduce la norma.\n",
    "Supongamos que $\\ket{u}$ y $\\ket{w}$ son vectores unitarios y distintos\n",
    "\\begin{equation}\n",
    "\\| P\\ket{w}\\|^2 = \\bra{w}P^\\dagger P\\ket{w} = \\bra{w} P\\ket{w}= \\braket{w}{u}\\braket{u}{w} = |\\braket{u}{w}|^2 < \\|\\ket{u}\\|\\|\\ket{w}\\| = 1\n",
    "\\end{equation}\n",
    "donde hemos aplicado la desigualdad de Cauchy Schwarz estricta, al suponer que $\\ket{u}\\neq\\ket{w}$.\n",
    "::::::\n"
   ]
  },
  {
   "cell_type": "markdown",
   "id": "3b6c05a9",
   "metadata": {},
   "source": [
    "\n",
    " \n",
    "- <b>Matriz asociada a un proyector</b>\n",
    "\n",
    " \n",
    "    1. Si $\\ket{u} = \\ket{e_1}$ el operador $P_1 = \\ket{e_1}\\bra{e_1}$ proyecta cualquier vector sobre su componente a lo largo de $\\ket{e_1}$.    En forma matricial\n",
    "\\begin{equation}\n",
    "\\ketbra{e_1}{e_1} = \\begin{bmatrix} 1 \\\\ 0 \\\\ \\vdots\\\\ 0 \\end{bmatrix} \\begin{bmatrix} 1 & 0 & ...& 0 \\end{bmatrix}  =\n",
    "\\begin{bmatrix} 1 & 0 &  \\cdots & 0 \\\\ 0 & 0  & \\cdots & 0 \\\\\n",
    "\\vdots & \\vdots &\\vdots & \\vdots  \\\\\n",
    "0  & 0 & \\cdots & 0\\end{bmatrix}\n",
    "\\end{equation}\n",
    "de modo que\n",
    "\\begin{equation}\n",
    "\\ket{e_1} \\! \\braket{e_1}{u} ~= ~\\begin{bmatrix} 1 & 0 &  \\cdots & 0 \\\\ 0 & 0  & \\cdots & 0 \\\\\n",
    "\\vdots & \\vdots &\\vdots & \\vdots  \\\\\n",
    "0  & 0 & \\cdots & 0\\end{bmatrix} \\begin{bmatrix} u_1 \\\\ u_2 \\\\ \\vdots \\\\ u_N \\end{bmatrix}\n",
    "= \\begin{bmatrix} u^1 \\\\ 0 \\\\ \\vdots \\\\ 0 \\end{bmatrix} = u^1 \\ket{e_1}\n",
    "\\end{equation}\n",
    " \n",
    "    2. Si $\\ket{u} = \\sum_i u^i\\ket{e_i}$ es un vector unitario  $\\|\\ket{u}\\|=1$, entonces el proyector a lo largo de $\\ket{u}$ viene dado por\n",
    "\\begin{equation}\n",
    "\\boxed{P(u) = \\ketbra{u}{u} = \\sum_{i,j} u_i u^*_j \\ketbra{e_i}{e_j}}\n",
    "\\end{equation}\n",
    "Es decir, le está asociada una matriz dada por $P_{ij}=u_iu^*_j$. Es trivial verificar que\n",
    "\\begin{equation}\n",
    "\\sum_j P_{ij}P_{jk} = \\sum_j u_i u^*_j u_j u^*_k = u_i\\left(\\sum_j u^*_j u_j\\right) u_k = u_i u_k^* = P_{ik}\n",
    "\\end{equation}\n",
    "como corresponde a un proyector.\n",
    "\n",
    " \n",
    "- <b>Proyectores ortogonales</b>\n",
    "Si $\\{\\ket{\\mu_i}\\}$ es un conjunto de vectores ortonormales, forman la base de un subsespacio $S\\subset \\mathcal{H}$. El operador\n",
    "\\begin{equation}\n",
    "P_S = \\sum_i P(\\mu_i) = \\sum_i \\ketbra{\\mu_i}{\\mu_i}\n",
    "\\end{equation}\n",
    "es un proyector sobre el subespacio $S$, es decir $P_S\\ket{u}\\in S$ para todo $\\ket{u}\\in \\mathcal{H}$.\n",
    " \n",
    "- <b>Proyector perpendicular</b>\n",
    "Cualquier vector se puede descomponer como combinación de un vector y otro perpendicular\n",
    "\\begin{equation}\n",
    "\\ket{\\psi} = a \\ket{u} + b \\ket{u_\\perp}\n",
    "\\end{equation}\n",
    "Si tomamos $\\ket{u}$ y $\\ket{u_\\perp}$ unitarios, los proyectories asociados\n",
    "\\begin{equation}\n",
    "P_\\| = P(u)  = \\ketbra{u}{u}~~~~~,~~~~~P_\\perp = P(u_\\perp)= \\ketbra{u_\\perp}{u_\\perp}\n",
    "\\end{equation}\n",
    "son perpendiculares\n",
    "\\begin{equation}\n",
    "P_\\|\\ P_\\perp = 0  ~~~~~~,~~~~~~P_\\| + P_\\perp = I\n",
    "\\end{equation}\n",
    "\n"
   ]
  },
  {
   "cell_type": "markdown",
   "id": "4a070c67",
   "metadata": {},
   "source": [
    "### Reflectores\n"
   ]
  },
  {
   "cell_type": "markdown",
   "id": "95af1ffe",
   "metadata": {},
   "source": [
    "Cualquier vector se puede descomponer como combinación de un vector y otro perpendicular\n",
    "\\begin{equation}\n",
    "\\ket{\\psi} = a \\ket{u} + b \\ket{u_\\perp}\n",
    "\\end{equation}\n"
   ]
  },
  {
   "cell_type": "markdown",
   "id": "06d77be7",
   "metadata": {},
   "source": [
    "\n",
    " \n",
    "- <b>Reflector paralelo a $\\ket{u}$: $\\ket{u}~$: $R_u = R_\\|$</b>\n",
    "El operador que <i>refleja  paralelamente</i> a $\\ket{u}$ será  el que invierte la componente de $\\ket{\\psi}$ en esa dirección\n",
    "\\begin{equation}\n",
    "\\boxed{R_\\| =  I - 2P_\\| = I - 2\\ketbra{u}{u}}\n",
    "\\end{equation}\n",
    "Efectivamente\n",
    "\\begin{equation}\n",
    "R_\\|\\ket{\\psi} = - a \\ket{u} + b \\ket{u_\\perp}\\, .\n",
    "\\end{equation}\n",
    " \n",
    "- <b>Reflector perpendicular a $~\\ket{u}~$: $R_{u_\\perp} = R_\\perp$</b>\n",
    "El operador que <i>refleja  perpendiculamente</i> a $\\ket{u}$ debe invertir la componente de $\\ket{\\psi}$ a lo largo de $\\ket{u_\\perp}$\n",
    "\\begin{eqnarray*}\n",
    "R_\\perp\\ket{\\psi} &=&  a \\ket{u} - b \\ket{u_\\perp}\\,  \\\\ \\rule{0mm}{8mm}\n",
    "&=& - (-a \\ket{u} + b \\ket{u_\\perp}) \\\\ \\rule{0mm}{8mm}\n",
    "&=& -R_\\| \\ket{\\psi}\n",
    "\\end{eqnarray*}\n",
    "De modo que\n",
    "\\begin{equation}\n",
    "\\boxed{R_\\perp = -R_\\| = 2P_\\| - I} \\, ,\n",
    "\\end{equation}\n",
    "Si tenemos en cuenta la relación  $P_\\| + P_\\perp = I~ \\Rightarrow ~P_\\| = I - P_\\perp$, podemos concluir que\n",
    "\\begin{equation}\n",
    "R_\\perp = I - 2\\ket{u_\\perp}\\bra{u_\\perp} = I - 2 P_\\perp\n",
    "\\end{equation}\n",
    "\n"
   ]
  },
  {
   "cell_type": "markdown",
   "id": "9b0352bf",
   "metadata": {},
   "source": [
    "## Conmutador y Traza\n"
   ]
  },
  {
   "cell_type": "markdown",
   "id": "3b809971",
   "metadata": {},
   "source": [
    "### Conmutador\n"
   ]
  },
  {
   "cell_type": "markdown",
   "id": "22d34ceb",
   "metadata": {},
   "source": [
    "A diferencia de los números, el orden en el que se componen dos operadores es relevante.\n"
   ]
  },
  {
   "cell_type": "markdown",
   "id": "b4e4523e",
   "metadata": {},
   "source": [
    "::::::{card} \n",
    "<b>Definicion</b>:  \n",
    "\n",
    "^^^\n",
    "Dados dos operadores, $A$ y $B$, definimos el <b>conmutador</b>\n",
    "\\begin{equation}\n",
    "[A,B] = AB-BA \\,.\n",
    "\\end{equation}\n",
    "::::::\n",
    "\n",
    "\n"
   ]
  },
  {
   "cell_type": "markdown",
   "id": "05eee201",
   "metadata": {},
   "source": [
    "El conmutador tiene las dos siguientes propiedades algebraicas, elementales de probar\n",
    "\\begin{align}\n",
    "{\\rm Derivacion} ~~~& \\to  ~ [A,BC] = B[A,C] + [A,B]C \\nonumber\\\\ \\rule{0mm}{9mm}\n",
    "{\\rm Identidad \\ de \\, Jacobi}~~~~ & \\to  ~ [A,[B,C]] + [B,[C,A]] + [C,[A,B]] = 0\n",
    "\\end{align}\n"
   ]
  },
  {
   "cell_type": "markdown",
   "id": "73e2707b",
   "metadata": {},
   "source": [
    "La conmutatividad de dos operadores $[A,B]=0$ es una propiedad algebraica muy deseable que, cuando se da, implica propiedades  muy ventajosas.\n"
   ]
  },
  {
   "cell_type": "markdown",
   "id": "73734c8b",
   "metadata": {},
   "source": [
    "### Traza de un operador\n"
   ]
  },
  {
   "cell_type": "markdown",
   "id": "6ae21126",
   "metadata": {},
   "source": [
    "::::::{card} \n",
    "<b>Definicion</b>:  \n",
    "\n",
    "^^^\n",
    "La <b>traza de un operador</b> se define como la suma de los elementos diagonales de la matriz que lo representa en una base\n",
    "\\begin{equation}\n",
    "{\\rm tr} A \\equiv \\sum_{i} A_{ii} =   \\sum_{i} \\bra{i}A\\ket{i}\n",
    "\\end{equation}\n",
    "::::::\n",
    "\n",
    "\n"
   ]
  },
  {
   "cell_type": "markdown",
   "id": "49f3fd15",
   "metadata": {},
   "source": [
    "\n",
    " \n",
    "- La traza de $A$ es <i>independiente de la base</i>. Por eso decimos que es la <i>traza del operador</i>.\n",
    "::::::::::{dropdown} Demostración\n",
    "\\begin{eqnarray*}\n",
    "{\\rm tr} A &=& \\sum_{i} \\bra{i}A\\ket{i} =\\sum_{i} \\bra{i}A\\left( \\sum_j\\ketbra{\\tilde j}{\\tilde j}\\right)\\ket{i}\n",
    "\\nonumber\\\\\n",
    "&=& \\sum_{ij}\\bra{i}A\\ketnew{\\tilde j} \\braket{\\tilde j}{i} = \\sum_{ij}\\braket{\\tilde j}{i}\\bra{i}A\\ketnew{\\tilde j}  \\nonumber\\\\\n",
    "&=& \\sum_{j} \\branew{\\tilde j}\\left(\\sum_i\\ketbra{i}{i}\\right) A \\ketnew{\\tilde j}= \\sum_{j} \\branew{\\tilde j}A\\ketnew{\\tilde j}\\nonumber\\\\\n",
    "&=& \\sum_j \\tilde A_{jj}\n",
    "\\end{eqnarray*}\n",
    "::::::::::\n",
    " \n",
    "- La traza es una operación <b>lineal</b>\n",
    "\\begin{equation}\n",
    "{\\rm tr} (A + B ) = {\\rm tr}A + {\\rm tr}B\n",
    "\\end{equation}\n",
    " \n",
    "- La traza de un producto de operadores es <b>cíclica</b>: es invariante bajo permutaciones cíclicas de los operadores en su argumento. Por ejemplo, para tres operadores $A, B$ y $C$\n",
    "\\begin{equation}\n",
    "{\\rm tr}(ABC)= {\\rm tr}(BCA)\n",
    "\\end{equation}\n",
    "::::::{admonition} Ejercicio\n",
    ":class: tip\n",
    "\n",
    "\n",
    "Demuestra este resultado\n",
    "::::::\n",
    "\n",
    "\n",
    "Para un producto de dos operadores, el anterior resultado implica que la<i> traza de un conmutador es cero</i>. Dicho de otra forma\n",
    "\\begin{equation}\n",
    "{\\rm tr}(AB) = {\\rm tr}(BA) ~~~\\Rightarrow ~~~~{\\rm tr}([A,B]) = 0 \\, .\n",
    "\\end{equation}\n",
    "\n"
   ]
  },
  {
   "cell_type": "markdown",
   "id": "f4bc45d7",
   "metadata": {},
   "source": [
    "## Autovalores y autovectores\n"
   ]
  },
  {
   "cell_type": "markdown",
   "id": "0ab61dcd",
   "metadata": {},
   "source": [
    "::::::{card} \n",
    "<b>Definicion</b>:  \n",
    "\n",
    "^^^\n",
    "Existen vectores, $\\ket{\\lambda}$, para los cuales <i>la acción de un operador</i> $A$ devuelve un vector <b>paralelo</b>\n",
    "```{math}\n",
    ":label: ec_formalismo_ec_de_autovalores \n",
    "\\begin{equation} \n",
    "A\\ket{\\lambda} = \\lambda \\ket{\\lambda}\\, .\n",
    "\\end{equation} \n",
    "```\n",
    "Decimos que $\\ket{\\lambda}$ es un vector propio (o <b>autovector</b>) de $A$ con valor propio (o <b>autovalor</b>) asociado $\\lambda\\in {\\mathbb C}$.\n",
    "::::::\n",
    "\n",
    "\n"
   ]
  },
  {
   "cell_type": "markdown",
   "id": "c8fa1e93",
   "metadata": {},
   "source": [
    "Si $\\ket{\\lambda}$ es un autovector, también lo es $\\ket{\\mu} = \\alpha \\ket{\\lambda}$, para cualquier número complejo $\\alpha \\in \\mathbb{C}$. En efecto\n",
    "\\begin{equation}\n",
    "A \\ket{\\mu} = A \\lp \\alpha \\ket{\\lambda} \\rp =  \\alpha A \\ket{\\lambda} =  \\alpha \\lambda \\ket{\\lambda} =\n",
    "\\lambda \\alpha \\ket{\\lambda} = \\lambda \\ket{\\mu}\n",
    "\\end{equation}\n",
    "Es decir, asociado a un autovalor tenemos infinitos autovectores paralelos.\n"
   ]
  },
  {
   "cell_type": "markdown",
   "id": "2c405d65",
   "metadata": {},
   "source": [
    "### Autovalores degenerados\n"
   ]
  },
  {
   "cell_type": "markdown",
   "id": "39aab89b",
   "metadata": {},
   "source": [
    "::::::{card} \n",
    "\n",
    "\n",
    "Decimos que un autovalor $\\lambda_k$ es $d_k$ veces <b>degenerado</b> si existen $d_k$ autovectores <b>linealmente independientes</b>,  $\\ket{\\lambda_k^{a}}$ con $a=1,...,d_k$ asociados al <b>mismo</b> autovalor\n",
    "\\begin{equation}\n",
    "A\\ket{\\lambda_k^a} = \\lambda_k \\ket{\\lambda_k^a} ~,~~~ {\\rm con } ~~ a = 1,...,d_k\n",
    "\\end{equation}\n",
    "::::::\n"
   ]
  },
  {
   "cell_type": "markdown",
   "id": "09d28839",
   "metadata": {},
   "source": [
    "### Subespacio propio\n"
   ]
  },
  {
   "cell_type": "markdown",
   "id": "b706c9cb",
   "metadata": {},
   "source": [
    "Bajo la acción del operador, los autovalores generan un <b>subespacio propio</b> $S(\\lambda_k) \\in \\mathcal{H}$. Esto quiere decir que aquellos vectores que pertenecen a un subespacio, siguen perteneciendo al mismo subespacio tras la aplicación del operador.\n"
   ]
  },
  {
   "cell_type": "markdown",
   "id": "6bc2688e",
   "metadata": {},
   "source": [
    "Por ejemplo, sea un operador $A$ tal que\n",
    "\\begin{equation}\n",
    "A\\ket{\\lambda_k^a} = \\lambda_k \\ket{\\lambda_k^a} ~,~~~ {\\rm con } ~~ a = 1,...,d_k\n",
    "\\end{equation}\n",
    "Podemos construir\n",
    "\\begin{equation}\n",
    "\\ket{u} = \\sum_{a=1}^{d_k} c_a\\ket{\\lambda^a_k}\n",
    "\\end{equation}\n",
    "como una combinación de los autovectores asociados a un autovalor concreto $\\lambda_k$. Entonces, bajo la acción del operador $A$ tenemos\n",
    "\\begin{equation*}\n",
    "A \\ket{u}\n",
    "=  \\sum_{a=1}^{d_k} c_a A\\ket{\\lambda^a_k}  =  \\sum_{a=1}^{d_k} c_a \\lambda_k\\ket{\\lambda^a_k}  =   \\lambda_k \\sum_{a=1}^{d_k} c_a \\ket{\\lambda^a_k}  =\\lambda_k\\ket{u}\n",
    "\\end{equation*}\n",
    "Por tanto $\\ket{u}\\in S(\\lambda_k)$.\n"
   ]
  },
  {
   "cell_type": "markdown",
   "id": "47bce2b3",
   "metadata": {},
   "source": [
    "El Teorema de Gramm-Schmidt (Teorema \\ref{teorema_formalismo_gramm_schmidt}) garantiza que podemos elegir (mediante un cambio adecuado) el conjunto $\\{\\ket{\\lambda_{k}^a}\\}\\in (\\lambda_k), a=1,...,d_k$ de forma que que sea una  <i>base ortonormal</i>\n",
    "\\begin{equation}\n",
    "\\braket{\\lambda_{k}^a}{\\lambda_{k}^b}=\\delta_{ab}\n",
    "\\end{equation}\n",
    "El <b>proyector ortogonal</b> sobre el subespacio propio $S(\\lambda_k)$ será\n",
    "```{math}\n",
    ":label: ec_formalismo_proyec_subespacio_propio \n",
    "\\begin{equation} \n",
    "\\boxed{P_k = \\sum_{a=1}^{d_k} \\ketbra{\\lambda_{k}^a}{\\lambda_{k}^a}}\n",
    "\\end{equation} \n",
    "```\n"
   ]
  },
  {
   "cell_type": "markdown",
   "id": "4f81912f",
   "metadata": {},
   "source": [
    "::::::{admonition} Ejemplo\n",
    ":class: tip\n",
    "\n",
    "\n",
    "\n",
    "Llamemos $R_z(\\theta)$ el operador que efectúa una rotación  de ángulo $\\theta$ entorno al eje $z$. Cuando $\\theta = \\pi$ encontramos las siguiente acción sobre los tres elementos $\\{\\hat{\\bf x},\\hat{\\bf y},\\hat{\\bf z}\\}$\n",
    "de la base cartesiana\n",
    "\\begin{eqnarray*}\n",
    "R_z(\\pi)\\hat{\\bf x} &=&-\\hat{\\bf x}  \\\\ \\rule{0mm}{6mm}\n",
    "R_z(\\pi)\\hat{\\bf y} &=& -\\hat{\\bf y}  \\\\ \\rule{0mm}{6mm}\n",
    "R_z(\\pi)\\hat{\\bf z} &=& + \\hat{\\bf z}\n",
    "\\end{eqnarray*}\n",
    "\n",
    "Vemos que hay un autovector $\\hat{\\bf z}$ con autovalor $+1$ y dos autovectores $\\hat{\\bf x} $ y $\\hat{\\bf y} $\n",
    "con autovalor $-1$.\n",
    "\n",
    "El espacio ${\\mathbb R}^3$ se divide en dos subespacios propios de $R_z(\\pi)$, uno de dimensión 1 (a lo largo del eje $\\hat{\\bf z}$) y otro de dimensión 2 (en el plano $(\\hat{\\bf x},\\hat{\\bf y})$).\n",
    "\n",
    "Los proyectores asociados serán\n",
    "\\begin{equation}\n",
    "P_{\\hat{\\bf z}}= \\ket{\\hat{\\bf z}}\\bra{\\hat{\\bf z}}=\\begin{bmatrix} 0 & & \\\\ & 0 & \\\\ & & 1 \\end{bmatrix}~~~,~~~\n",
    "P_{\\hat{\\bf x}\\hat{\\bf y}}= \\ket{\\hat{\\bf x}}\\bra{\\hat{\\bf x}}+\\ket{\\hat{\\bf y}}\\bra{\\hat{\\bf y}}=\\begin{bmatrix} 1 & & \\\\ & 1 & \\\\ & & 0 \\end{bmatrix}~~~,~~~\n",
    "\\end{equation}\n",
    "::::::\n"
   ]
  },
  {
   "cell_type": "markdown",
   "id": "875dd5ff",
   "metadata": {},
   "source": [
    "### Espectro de Operadores Normales\n"
   ]
  },
  {
   "cell_type": "markdown",
   "id": "2764b326",
   "metadata": {},
   "source": [
    "Recordemos la definición de un operador normal. $N$ será un operador normal si conmuta con su adjunto\n",
    "\\begin{equation}\n",
    "NN^\\dagger = N^\\dagger N\n",
    "\\end{equation}\n",
    "La importancia de los operadores normales radica en el siguiente lema\n"
   ]
  },
  {
   "cell_type": "markdown",
   "id": "a6fea39a",
   "metadata": {},
   "source": [
    "::::::{card} \n",
    "<b>Lema</b>:  \n",
    "\n",
    "^^^\n",
    "Dos autovectores de un operador normal asociados a dos autovalores <b>distintos</b>  son <b>ortogonales</b>\n",
    "\\begin{equation}\n",
    "\\lambda_i\\neq \\lambda_j~~~~\\Longleftrightarrow ~~~~ \\braket{\\lambda_i}{\\lambda_j} = 0\n",
    "\\end{equation}\n",
    "::::::\n",
    "\n",
    "\n"
   ]
  },
  {
   "cell_type": "markdown",
   "id": "8e20bc48",
   "metadata": {},
   "source": [
    "::::::::::{dropdown} Demostración\n",
    "De la ecuación de autovalores $N\\ket{\\lambda_j} =  \\lambda_j \\ket{\\lambda_j}$, y de $NN^\\dagger = N^\\dagger N$, se sigue que\n",
    "\\begin{equation}\n",
    "\\bra{\\lambda_j}(N^\\dagger - \\lambda_j^*)(N - \\lambda_j) \\ket{\\lambda_j} = \\bra{\\lambda_j}(N - \\lambda_j)(N^\\dagger - \\lambda_j^*) \\ket{\\lambda_j}  = 0\\,\n",
    "\\end{equation}\n",
    "de donde obtenemos $(N^\\dagger - \\lambda_j^*) \\ket{\\lambda_j} = 0 \\Rightarrow \\bra{\\lambda_j} N = \\bra{\\lambda_j}\\lambda_j$. Entonces\n",
    "\\begin{equation}\n",
    "\\bra{\\lambda_j}N\\ket{\\lambda_i} = \\lambda_j \\braket{\\lambda_j}{\\lambda_i} = \\lambda_i \\braket{\\lambda_j}{\\lambda_i} \\, ,\n",
    "\\end{equation}\n",
    "de donde se sigue que, para $\\lambda_i \\neq \\lambda_j \\Rightarrow \\braket{\\lambda_i}{\\lambda_j} = 0$.\n",
    "::::::::::\n"
   ]
  },
  {
   "cell_type": "markdown",
   "id": "a9d81e51",
   "metadata": {},
   "source": [
    "En general, cada autovalor $\\lambda_k$ será $d_k \\geq 1$ veces degenerado. En ese caso hay  $\\{\\ket{\\lambda^a_k}\\}, a=1,...,d_k$ autovectores que generan el subespacio propio, $S(\\lambda_k)\\subset \\mathcal{H} $, de dimensión $d_k$.\n"
   ]
  },
  {
   "cell_type": "markdown",
   "id": "a99111ac",
   "metadata": {},
   "source": [
    "Según este lemma, los subespacios $S(\\lambda_k)\\perp S(\\lambda_j)$ son ortogonales para $k\\neq j$.\n"
   ]
  },
  {
   "cell_type": "markdown",
   "id": "7f6dc08e",
   "metadata": {},
   "source": [
    "En resumen: siempre podemos encontrar una base  ortonormal de $\\mathcal{H}$, formada por autovectores de un operador normal $N$\n",
    "\\begin{equation}\n",
    "I = \\sum_k\\sum_{a=1}^{d_k} \\ketbra{\\lambda^a_k}{\\lambda^a_k} ~~~~~~~~~~~;~~~~~~~~~ \\braket{\\lambda^a_j}{\\lambda^b_k} = \\delta_{ab}\\delta_{jk}\n",
    "\\end{equation}\n"
   ]
  },
  {
   "cell_type": "markdown",
   "id": "01e5e210",
   "metadata": {},
   "source": [
    "El proyector sobre el subespacio propio $S(\\lambda_k)$ será\n",
    "\\begin{equation}\n",
    "P_k = \\sum_{a=1}^{d_k} \\ketbra{\\lambda^a_k}{\\lambda^a_k}\n",
    "\\end{equation}\n"
   ]
  },
  {
   "cell_type": "markdown",
   "id": "764b9000",
   "metadata": {},
   "source": [
    "### Descomposición Espectral\n"
   ]
  },
  {
   "cell_type": "markdown",
   "id": "bf803e00",
   "metadata": {},
   "source": [
    "::::::{card} \n",
    "<b>Teorema</b>: </i>Teorema Espectral</i> \n",
    "\n",
    "^^^\n",
    "Para todo operador normal $N$ existe una base de  autovectores ortonormales,  $\\{\\ket{\\lambda^a_k}\\}$,  tales que  $N$ admite la siguiente  <b>descomposición espectral </b>\n",
    "\\begin{equation}\n",
    "N = \\sum_{k=1}^d \\lambda_k   P_k\n",
    "\\end{equation}\n",
    "donde $d=  {\\rm dim}(\\mathcal{H})$ y $P_k = \\sum_{a=1}^{d_k} \\ketbra{\\lambda^a_k}{\\lambda^a_k}$ es el proyector sobre el subespacio propio $S(\\lambda_k)$\n",
    "::::::\n",
    "\n",
    "\n",
    "La matriz $N_{ij}$ que expresa $N$ en la base $\\ket{\\lambda_i}$ es diagonal\n",
    "\\begin{equation}\n",
    "N_{ij} = \\bra{\\lambda^a_i} N\\ketnew{\\lambda^b_j} =  \\lambda_k \\delta_{kj} \\delta_{ab} =\\begin{bmatrix} \\lambda_1 &  &  &  &  \\\\ & \\ddots & & & \\\\ & & \\lambda_2 & &  \\\\&  & & \\ddots & \\\\  & & & &  \\lambda_N \\end{bmatrix}\n",
    "\\end{equation}\n",
    "donde $\\lambda_k$ aparecerá $d_k$ veces repetido.\n"
   ]
  },
  {
   "cell_type": "markdown",
   "id": "d3f1afdd",
   "metadata": {},
   "source": [
    "::::::{admonition} Nota (El operador identidad) \n",
    ":class: note\n",
    "\n",
    "\n",
    "\n",
    "El operador identidad tiene a cualquier vector por autovector $ I\\ket{v} = \\ket{v}$, con autovalores $\\lambda_ i = 1$. Por tanto, en <b>cualquier base</b>, la matriz asociada a $I$ tiene la forma diagonal\n",
    "\\begin{equation}\n",
    "I_{ij} = \\delta_{ij} = \\begin{bmatrix} 1 &  &  &  \\\\ & 1 & &  \\\\ & & \\ddots & \\\\ & & &  1 \\end{bmatrix}\n",
    "\\end{equation}\n",
    "\n",
    "La descomposición espectral de $I$ no es otra que la <b>relación de completitud</b>, que es cierta <i>para cualquier base</i>, ya que todas las bases son bases de autoestados de $I$\n",
    "\\begin{equation}\n",
    "I ~=~ \\sum_{i=1}^N \\ketbra{\\lambda_i}{\\lambda_i} ~=~ \\sum_{i=1}^N \\ketbra{e_i}{e_i}\n",
    "\\end{equation}\n",
    "::::::\n"
   ]
  },
  {
   "cell_type": "markdown",
   "id": "ffd9b48f",
   "metadata": {},
   "source": [
    "### Espectro de Operadores Hermíticos\n"
   ]
  },
  {
   "cell_type": "markdown",
   "id": "8532dd6b",
   "metadata": {},
   "source": [
    "::::::{card} \n",
    "\n",
    "\n",
    "El <b>espectro de un operador hermítico</b>  $A = A^\\dagger$,  tiene dos propiedades importantes:\n",
    "\n",
    "\n",
    "1. Los <b>autovalores</b> de un operador hermíticos son reales $\\lambda_i \\in {\\mathbb R}$.\n",
    "\n",
    "2. Los <b>autovectores</b> $\\ket{\\lambda_i}$ de un operador hermítico asociados a autovalores distintos son ortogonales. Es decir\n",
    "```{math}\n",
    ":label: ec_op_hermitico_autovec_ortogonal \n",
    "\\begin{equation} \n",
    "\\lambda_i\\neq \\lambda_j ~~~\\Longleftrightarrow ~~~\\braket{\\lambda_i}{\\lambda_j} = 0\\, .\n",
    "\\end{equation} \n",
    "```\n",
    "\n",
    "::::::\n"
   ]
  },
  {
   "cell_type": "markdown",
   "id": "b52da473",
   "metadata": {},
   "source": [
    "::::::::::{dropdown} Demostración\n",
    "\n",
    "\n",
    "1. Tomemos un autovector normalizado de $A$, $\\ket{\\lambda}$ de autovalor $\\lambda$.\n",
    "\\begin{equation}\n",
    "\\lambda = \\bra{\\lambda}A\\ket{\\lambda} =  (\\bra{\\lambda}A^\\dagger\\ket{\\lambda})^* = (\\bra{\\lambda}A\\ket{\\lambda})^*= \\lambda^* .~~~\n",
    "\\end{equation}\n",
    "\n",
    "\n",
    "2. Los operadores hermíticos son también normales, así que la demostración ya la vimos para esos operadores.\n",
    "\n",
    "::::::::::\n"
   ]
  },
  {
   "cell_type": "markdown",
   "id": "093b30c3",
   "metadata": {},
   "source": [
    "<b>Base ortonormal</b>: el conjunto de autovectores $\\ket{\\lambda_i}$ de un operador hermítico forma una base ortogonal. Puede normalizarse para formar una base ortonormal\n",
    "```{math}\n",
    ":label: ec_op_hermitico_autovec_ortonorm \n",
    "\\begin{equation} \n",
    "\\braket{\\lambda_i}{\\lambda_j} = \\delta_{ij} \\, .\n",
    "\\end{equation} \n",
    "```\n"
   ]
  },
  {
   "cell_type": "markdown",
   "id": "2f7dda75",
   "metadata": {},
   "source": [
    "### Espectro de Operadores Unitarios\n"
   ]
  },
  {
   "cell_type": "markdown",
   "id": "6c120dea",
   "metadata": {},
   "source": [
    "::::::{card} \n",
    "\n",
    "\n",
    "\n",
    "Los autovalores de un <b>operador unitario</b> son <b>fases puras</b>\n",
    "\\begin{equation}\n",
    "U^\\dagger = U^{-1} ~~~\\Longleftrightarrow ~~~\\lambda_i = e^{i\\phi_i}\n",
    "\\end{equation}\n",
    "::::::\n"
   ]
  },
  {
   "cell_type": "markdown",
   "id": "5cae8803",
   "metadata": {},
   "source": [
    "::::::::::{dropdown} Demostración\n",
    "Es evidente puesto que sólo estos números complejos verifican que el complejo conjugado y el inverso coinciden $\\lambda^* = \\lambda^{-1} \\Leftrightarrow \\lambda = e^{i\\phi}$.\n",
    "::::::::::\n"
   ]
  },
  {
   "cell_type": "markdown",
   "id": "ee267a5d",
   "metadata": {},
   "source": [
    "### Operadores que conmutan\n"
   ]
  },
  {
   "cell_type": "markdown",
   "id": "92c2d61b",
   "metadata": {},
   "source": [
    "Cuando dos operadores conmutan se dan ciertas propiedades algebráicas que son muy ventajosas. En cierto modo se parecen más a c-números. Veamos la primera.\n"
   ]
  },
  {
   "cell_type": "markdown",
   "id": "da66fbaa",
   "metadata": {},
   "source": [
    "::::::{card} \n",
    "<b>Teorema</b>:  \n",
    "\n",
    "^^^\n",
    "Dados dos operadores $A$ y $B$ que conmutan, existe una base $\\{\\ket{\\lambda_i}\\}$ de autovalores simultáneos de ambos operadores, es decir\n",
    "\\begin{equation}\n",
    "A = \\lambda_i^A\\ketbra{\\lambda_i}{\\lambda_i} ~~~~,~~~~~ B= \\lambda_i^B\\ketbra{\\lambda_i}{\\lambda_i}\n",
    "\\end{equation}\n",
    "::::::\n",
    "\n",
    "\n"
   ]
  },
  {
   "cell_type": "markdown",
   "id": "0256629d",
   "metadata": {},
   "source": [
    "::::::::::{dropdown} Demostración\n",
    "Supongamos que $A$ y $B$ conmutan. Entonces la acción de $A$ <i>estabiliza</i> los subespacios propios de $B$.\n",
    "\n",
    "Es decir, si $\\ket{\\lambda}$ es autoestado de $A$, entonces $\\ket{\\mu} = B\\ket{\\lambda}  $ también es autoestado con idéntico autovalor. Se comprueba fácilmente\n",
    "\\begin{equation}\n",
    "A \\ket{\\mu} = A(B\\ket{\\lambda} ) = B(A\\ket{\\lambda}) = B(\\lambda\\ket{\\lambda}) = \\lambda (B\\ket{\\lambda})\n",
    "\\end{equation}\n",
    "\n",
    "Por tanto $\\ket{\\lambda}$ y $B\\ket{\\lambda}$ pertenecen al <i>mismo subespacio propio</i>. Esto es lo que se entiende por <i>estabilizar el subespacio</i>.\n",
    "\n",
    "Si $\\lambda$ es degenerado esto sólo asegura que $B\\ket{\\lambda} = \\ket{\\lambda'}$ pertenece al subespacio propio del mismo autovalor $\\lambda$. Esto quiere decir que, dento de cada subespacio propio de $B$, podemos escoger la base que queramos. En particular podemos escoger una base que diagonalice $A$ dentro de dicho subespacio.\n",
    "::::::::::\n"
   ]
  },
  {
   "cell_type": "markdown",
   "id": "90453b79",
   "metadata": {},
   "source": [
    "En otras palabras, dos operadores que conmutan, son diagonalizables simultáneamente. Su matriz en la base $\\{\\ket{\\lambda_i}\\}$ es\n",
    "\\begin{equation}\n",
    "A = \\begin{bmatrix} \\lambda^A_1 & & &  \\\\ & \\lambda^A_2 & &   \\\\ & & \\ddots &  \\\\ & & & \\lambda^A_n\n",
    "\\end{bmatrix}~~~~~~~,~~~~~~~~\n",
    "B = \\begin{bmatrix} \\lambda^B_1 & & &  \\\\ & \\lambda^B_2 & &   \\\\ & & \\ddots &  \\\\ & & & \\lambda^B_n\n",
    "\\end{bmatrix}\\, .\n",
    "\\end{equation}\n"
   ]
  },
  {
   "cell_type": "markdown",
   "id": "751eace4",
   "metadata": {},
   "source": [
    "## Factorización de unitarios\n"
   ]
  },
  {
   "cell_type": "markdown",
   "id": "a608ab78",
   "metadata": {},
   "source": [
    "Como ya vimos, fabricar un operador hermítico $A$ a partir de otro operados $B$ no hermítico, es facil:\n",
    "$A = B + B^\\dagger$. Sin embargo, fabricar operadores unitarios no es tan fácil. Veamos dos métodos para ello.\n"
   ]
  },
  {
   "cell_type": "markdown",
   "id": "e910c754",
   "metadata": {},
   "source": [
    "### Descomposición Polar (PD)\n"
   ]
  },
  {
   "cell_type": "markdown",
   "id": "4e51222c",
   "metadata": {},
   "source": [
    "::::::{card} \n",
    "<b>Teorema</b>:  \n",
    "\n",
    "^^^\n",
    "Todo operador $A\\in{\\rm L}(\\mathcal{H})$ admite la descomposición polar $A = UR$ donde $U$ es un operador unitario, y $R$ es un operador semi-definido positivo (sólo tiene autovalores positivos o cero)\n",
    "::::::\n",
    "\n",
    "\n"
   ]
  },
  {
   "cell_type": "markdown",
   "id": "ef1c48bd",
   "metadata": {},
   "source": [
    "\n",
    " \n",
    "- La descomposición polar es <i>única</i> y generaliza la representación polar de números complejos $z = r e^{i\\phi}$ a operadores.\n",
    " \n",
    "- El hecho de que $r\\geq 0$ es la contrapartida a que $R$ sea semi-definida positiva.\n",
    " \n",
    "- El factor $e^{i\\phi}$ es análogo al hecho de que un operador unitario, como veremos, sólo tiene autovalores que son fases puras.\n",
    "\n"
   ]
  },
  {
   "cell_type": "markdown",
   "id": "34b40a58",
   "metadata": {},
   "source": [
    "### Descomposición en valores singulares (SVD)\n"
   ]
  },
  {
   "cell_type": "markdown",
   "id": "afb399bc",
   "metadata": {},
   "source": [
    "Vamos a enunciar este teorema para matrices. Concretamente el teorema habla de una matriz $m\\times n$. Este tipo de matrices se corresponden con operadores $O \\in{\\rm L}(\\mathcal{H}_A,\\mathcal{H})$ entre espacios de dimensiones $m$ y $n$.\n"
   ]
  },
  {
   "cell_type": "markdown",
   "id": "8f434e5f",
   "metadata": {},
   "source": [
    "::::::{card} \n",
    "<b>Teorema</b>:  \n",
    "\n",
    "^^^\n",
    "Sea $A$ una matriz compleja $m\\times n$. Entonces  admite la siguiente forma (<b>descomposición en valores singulares</b>)\n",
    "\\begin{equation}\n",
    "A = U\\Sigma V^{\\dagger} \\, ,\n",
    "\\end{equation}\n",
    "donde $U\\in U(m)$, $V\\in U(n)$ son matrices unitarias y $\\Sigma$ es una matriz  $m\\times n$ con $\\lambda_1, ...,\\lambda_r$ <b>valores singulares</b> reales y positivos en la diagonal, con $r\\leq {\\rm min}(m,n)$.\n",
    "::::::\n",
    "\n",
    "\n"
   ]
  },
  {
   "cell_type": "markdown",
   "id": "f775492d",
   "metadata": {},
   "source": [
    "## Funciones de Operadores\n"
   ]
  },
  {
   "cell_type": "markdown",
   "id": "3a16d901",
   "metadata": {},
   "source": [
    "### Funciones analíticas\n"
   ]
  },
  {
   "cell_type": "markdown",
   "id": "996bd49e",
   "metadata": {},
   "source": [
    "Estamos acostumbrados a escribir funciones <i>de una variable real o compleja</i>. Por ejemplo $f(x)= x^2$, ó, $ f(z) = e^z$. Querríamos dar sentido a una función <i>de un operador</i>\n",
    "$\n",
    "A \\to f(A)\n",
    "$\n"
   ]
  },
  {
   "cell_type": "markdown",
   "id": "ab123fcd",
   "metadata": {},
   "source": [
    "Como en operadores la operación de composición la tenemos bien definida (multiplicación de matrices), en el caso de que $f(z)$ sea una función analítica expresable como una <b>serie de Taylor</b> en torno a $x=0$\n",
    "\\begin{equation}\n",
    "f(z) = \\sum_{n=0}^\\infty \\frac{1}{n!} f^{(n)}(0)\\,  z^n\n",
    "\\end{equation}\n",
    "tomaremos como <b>definición</b> la <i>misma serie</i> cambiando el argumento $x\\to A$\n",
    "\\begin{equation}\n",
    "f(A) = \\sum_{n=0}^\\infty \\frac{1}{n!} f^{(n)}(0)\\,  A^n\n",
    "\\end{equation}\n",
    "Vemos que esta definición es una definición formal, que nos puede ser útil para algunas demostraciones, pero que no es práctica, en el sentido de que no sabemos como lidiar con infinitos términos. Veremos otra forma de lidiar con esto en el Teorema \\ref{teorema_formalismo_funciones_sobre_operador_diagonal}.\n"
   ]
  },
  {
   "cell_type": "markdown",
   "id": "a41c6b24",
   "metadata": {},
   "source": [
    "::::::{admonition} Nota\n",
    ":class: note\n",
    "\n",
    "\n",
    "\n",
    "De la misma forma que, para funciones analíticas $f(z)^* = f(z^*)$, también la definición anterior asegura que $f(A)^\\dagger = f(A^\\dagger)$\n",
    "::::::\n"
   ]
  },
  {
   "cell_type": "markdown",
   "id": "ceb1e9b6",
   "metadata": {},
   "source": [
    "### Exponencial de un operador\n"
   ]
  },
  {
   "cell_type": "markdown",
   "id": "8f4a57e4",
   "metadata": {},
   "source": [
    "La exponencial de un operador será\n",
    "\\begin{equation}\n",
    "\\exp(A) = e^A = I + A + \\frac{1}{2} A^2 + \\frac{1}{3!} A^3 + ...\n",
    "\\end{equation}\n",
    "Una propiedad importante de la función exponencial es  $e^xe^y = e^{x+y}$. La propiedad análoga para operadores <i>sólo es cierta cuando conmutan entre sí</i>. Para el caso genérico tenemos dos opciones\n",
    "\n",
    " \n",
    "- <b>Teorema de Baker-Campbel-Haussdorf</b>\n",
    "::::::{card} \n",
    "<b>Teorema</b>:  \n",
    "\n",
    "^^^\n",
    "Sean $A,B\\subset{\\rm L}(\\mathcal{H})$ dos operadores lineales genéricos. Entonces\n",
    "\\begin{equation}\n",
    "e^A e^B = e^{\\left({A+B + \\frac{1}{2}[A,B] + \\frac{1}{12}[A,[A,B]]+ \\frac{1}{12}[B,[B,A]] + ...}\\right)}\n",
    "\\end{equation}\n",
    "::::::\n",
    "\n",
    "\n",
    "Vemos que:\n",
    "\n",
    " \n",
    "    1. Si $A$ y $B$ conmutan,\n",
    "\\begin{equation}\n",
    "[A,B]=0 ~\\Leftrightarrow ~e^A e^B = e^{A+B}\n",
    "\\end{equation}\n",
    " \n",
    "    2. Si el conmutador de $A$ y $B$  es un c-número\n",
    "\\begin{equation}\n",
    "[A,B]= c I  ~\\Leftrightarrow ~  e^A e^B = e^{A+B + \\frac{c}{2}}\n",
    "\\end{equation}\n",
    " \n",
    "    3. El inverso de $e^A$ es $e^{-A}$. Efectivamente, como\n",
    "\\begin{equation}\n",
    "[A,A]=0 \\Rightarrow e^A e^{-A} = e^{A-A} = e^0 = I\n",
    "\\end{equation}\n",
    "\n",
    " \n",
    "- <b>Teorema de Lie-Suzuki-Trotter</b>\n",
    "::::::{card} \n",
    "<b>Teorema</b>:  \n",
    "\n",
    "^^^\n",
    "Sean $A,B\\subset{\\rm L}(\\mathcal{H})$ dos operadores lineales genéricos. Entonces\n",
    "\\begin{equation}\n",
    "e^{A+B} = \\lim_{n\\to\\infty} \\left(e^{{A/n}} e^{B/n}\\right)^n\n",
    "\\end{equation}\n",
    "::::::\n",
    "\n",
    "\n",
    "Esta segunda opción es de uso muy frecuente en el contexto de la <i>simulación cuántica</i>.\n",
    "\n"
   ]
  },
  {
   "cell_type": "markdown",
   "id": "25e0c80c",
   "metadata": {},
   "source": [
    "### Operadores unitarios a partir de hermíticos\n"
   ]
  },
  {
   "cell_type": "markdown",
   "id": "541ef8cc",
   "metadata": {},
   "source": [
    "Todo operador unitario $U$ se puede expresar como la exponencial imaginaria de un operador hermítico $H$\n",
    "\\begin{equation}\n",
    "U = e^{i H}\n",
    "\\end{equation}\n",
    "Efectivamente,\n",
    "\\begin{equation}\n",
    "U^\\dagger = \\left(e^{i H}\\right)^\\dagger = e^{-i H^\\dagger} = e^{-i H}=U^{-1}\n",
    "\\end{equation}\n",
    "por tanto, $U$ es unitario si y sólo si $H$ es hermítico.\n"
   ]
  },
  {
   "cell_type": "markdown",
   "id": "2df6784a",
   "metadata": {},
   "source": [
    "### Funciones generales\n"
   ]
  },
  {
   "cell_type": "markdown",
   "id": "11ac7611",
   "metadata": {},
   "source": [
    "No siempre $f(z)$ admite una expansión en serie de Taylor. Por ejemplo $f(z) = \\exp(1/z)$ en torno a $z=0$ no es analítica. En estos casos, el operador $f(A)$ existe, pero para construirlo es necesario recurrir a la <i>forma diagonalizada</i>\n"
   ]
  },
  {
   "cell_type": "markdown",
   "id": "f9b870a0",
   "metadata": {},
   "source": [
    "<a id='teorema_formalismo_funciones_sobre_operador_diagonal'></a>\n",
    "::::::{card} \n",
    "<b>Teorema</b>:  \n",
    "\n",
    "^^^\n",
    "Sea $A$ un operador diagonalizable, y sea $A= \\sum_i \\lambda_i \\ket{\\lambda_i}\\bra{\\lambda_i}$ su representación espectral. Entonces el operador $f(A)$ tiene la representación espectral siguiente\n",
    "\\begin{equation}\n",
    "f(A) = \\sum_i f(\\lambda_i) \\ket{\\lambda_i}\\bra{\\lambda_i}~~~~\\Longleftrightarrow~~~~~\n",
    "f(A^{(D)}_{ij}) = \\begin{bmatrix} f(\\lambda_1)& &  & \\\\ & f(\\lambda_2) & &  \\\\ & & \\ddots & \\\\ & & & f(\\lambda_n)\n",
    "\\end{bmatrix}\n",
    "\\end{equation}\n",
    "::::::\n",
    "\n",
    "\n"
   ]
  },
  {
   "cell_type": "markdown",
   "id": "40fa0369",
   "metadata": {},
   "source": [
    "::::::{admonition} Ejemplos\n",
    ":class: tip\n",
    "\n",
    "\n",
    "\n",
    "\\begin{equation}\n",
    "e^{1/A} = \\sum_i e^{1/\\lambda_i} \\ket{\\lambda_i}\\bra{\\lambda_i}\n",
    "\\end{equation}\n",
    "\n",
    "\\begin{eqnarray*}\n",
    "{\\rm tr}(A \\log A) &=& {\\rm tr}\\left[\\left(\\sum_j \\lambda_j \\ket{\\lambda_j}\\bra{\\lambda_j}\\right)\\left(\\sum_k\\log \\lambda_k \\ket{\\lambda_k}\\bra{\\lambda_k}\\right)\\right]\\nonumber\\\\\n",
    "&=& {\\rm tr}\\left[\\sum_k \\lambda_k \\log\\lambda_k \\ket{\\lambda_k}\\bra{\\lambda_k} \\right] \\\\\n",
    "&=& \\sum_k \\lambda_k \\log \\lambda_k \\rule{0mm}{8mm}\n",
    "\\end{eqnarray*}\n",
    "::::::\n"
   ]
  },
  {
   "cell_type": "markdown",
   "id": "995db0e7",
   "metadata": {},
   "source": [
    "\n",
    "(sec_qubit_matrices_Pauli)= \n",
    "## Matrices de Pauli \n"
   ]
  },
  {
   "cell_type": "markdown",
   "id": "e41e7694",
   "metadata": {},
   "source": [
    "### Definición\n"
   ]
  },
  {
   "cell_type": "markdown",
   "id": "5e3e2653",
   "metadata": {},
   "source": [
    "::::::{card} \n",
    "<b>Definicion</b>:  \n",
    "\n",
    "^^^\n",
    "Se donominan matrices de Pauli a las tres matrices siguientes:\n",
    "```{math}\n",
    ":label: ec_qubits_matrices_de_Pauli \n",
    "\\begin{equation} \n",
    "\\sigma_x =  \\begin{bmatrix} 0 & 1 \\\\ 1 & 0 \\end{bmatrix} ,   ~~~~\n",
    "\\sigma_y =  \\begin{bmatrix} 0 & -i \\\\ i & 0 \\end{bmatrix} ,  ~~~~\n",
    "\\sigma_z =  \\begin{bmatrix} 1 & 0 \\\\ 0 & -1 \\end{bmatrix} .\n",
    "\\end{equation} \n",
    "```\n",
    "::::::\n",
    "\n",
    "\n"
   ]
  },
  {
   "cell_type": "markdown",
   "id": "30a8f8a2",
   "metadata": {},
   "source": [
    "\n",
    " \n",
    "- También se usan los subíndices enteros $\\sigma_1=\\sigma_x, ~\n",
    "\\sigma_2=\\sigma_y$  y  $\\sigma_3=\\sigma_z$.\n",
    " \n",
    "- Las matrices de Pauli son hermíticas y unitarias.\n",
    "\n"
   ]
  },
  {
   "cell_type": "markdown",
   "id": "8588274a",
   "metadata": {},
   "source": [
    "::::::{admonition} Ejercicio\n",
    ":class: tip\n",
    "\n",
    "\n",
    "Escribe la descomposición espectral de las tres matrices de Pauli, $\\sigma_x, \\sigma_y $ y $\\sigma_z$.\n",
    "::::::\n",
    "\n",
    "\n"
   ]
  },
  {
   "cell_type": "markdown",
   "id": "24e79163",
   "metadata": {},
   "source": [
    "### Base ortogonal del espacio de Hilbert de matrices hermiticas $2\\times2$\n"
   ]
  },
  {
   "cell_type": "markdown",
   "id": "197ed408",
   "metadata": {},
   "source": [
    "Estas tres matrices, junto con la matriz identidad, forman una <b>base ortogonal del espacio de Hilbert de matrices hermiticas</b> $2\\times2$. En otras palabras, cualquier matriz hermítica $2\\times2$ puede escribirse como una combinación lineal de estas matrices\n",
    "\\begin{equation}\n",
    "A = c I + \\sum_k^3 a_k \\sigma^k.\n",
    "\\end{equation}\n",
    "Es decir\n",
    "\\begin{eqnarray*}\n",
    "A &=&  a_0 I + a_1 \\sigma_1 + a_2 \\sigma_2 + a_3 \\sigma_3  \\\\\n",
    "&=&\n",
    "\\begin{bmatrix}\n",
    "a_0 + a_3 & a_1 - i a_2 \\\\ a_1 + i a_2 & a_0 - a_3\n",
    "\\end{bmatrix} = A^\\dagger \\,.\n",
    "\\end{eqnarray*}\n"
   ]
  },
  {
   "cell_type": "markdown",
   "id": "09f59f02",
   "metadata": {},
   "source": [
    "### Composición\n"
   ]
  },
  {
   "cell_type": "markdown",
   "id": "cfefd460",
   "metadata": {},
   "source": [
    "La <b>composición</b> de dos matrices de Pauli es otra matriz de Pauli (o la identidad $I$) que cumple la siguiente propiedad\n",
    "\\begin{equation}\n",
    "\\sigma_i \\sigma_j = \\delta_{ij} I + i \\varepsilon_{ijk} \\sigma_k,  \\label{ec_qubit_pauli_sigma_ijk}\n",
    "\\end{equation}\n",
    "donde\n",
    "\\begin{equation}\n",
    "\\epsilon_{123}=\\epsilon_{231}=\\epsilon_{312} = 1 ~~, ~~~~ \\epsilon_{213}=\\epsilon_{132}=\\epsilon_{312} = 1\n",
    "\\end{equation}\n",
    "y el resto son cero. La propiedad (\\ref{ec_qubit_pauli_sigma_ijk}) se refiere a que las matrices de Pauli forman un grupo cerrado, es decir, al multiplicar dos matrices nos da otra matriz de Pauli (o la identidad).\n"
   ]
  },
  {
   "cell_type": "markdown",
   "id": "0c88b675",
   "metadata": {},
   "source": [
    "De la Ec. (\\ref{ec_qubit_pauli_sigma_ijk}) se deduce que\n",
    "\\begin{equation}\n",
    "\\sigma_x^2 = \\sigma_y^2 = \\sigma_z^2 = - i \\sigma_x \\sigma_y \\sigma_z = I \\,.   \\label{ec_qubit_pauli_sigma^2}\n",
    "\\end{equation}\n"
   ]
  },
  {
   "cell_type": "markdown",
   "id": "7fb29ce0",
   "metadata": {},
   "source": [
    "### Traza y ortogonalidad\n"
   ]
  },
  {
   "cell_type": "markdown",
   "id": "8b951618",
   "metadata": {},
   "source": [
    "Las matrices de Pauli tiene <b>traza nula</b>\n",
    "\\begin{equation}\n",
    "\\text{tr} ~ \\sigma_j = 0 \\label{ec_qubit_sigma_tr}\n",
    "\\end{equation}\n",
    "Tomando la traza de la relación de composición obtenemos que las matrices de Pauli son <b>ortogonales</b> en el sentido siguiente\n",
    "\\begin{equation}\n",
    "{\\rm tr}(\\sigma_i\\sigma_j) = {\\rm tr}(\\delta_{ij}I + i\\epsilon_{ijk}  \\sigma_k) = 2\\delta_{ij}\n",
    "\\end{equation}\n"
   ]
  },
  {
   "cell_type": "markdown",
   "id": "25755d9d",
   "metadata": {},
   "source": [
    "::::::{admonition} Ejercicio\n",
    ":class: tip\n",
    "\n",
    "\n",
    "Demuestra las siguientes relaciones de (anti)conmutación\n",
    "\\begin{equation}\n",
    "\\{\\sigma_i,\\sigma_j \\} = 2\\delta_{ij}~~~~~~~,~~~~~~~\n",
    "~~~[\\sigma_i,\\sigma_j] = 2i\\epsilon_{ijk}\\sigma_k\n",
    "\\end{equation}\n",
    "::::::\n",
    "\n",
    "\n"
   ]
  },
  {
   "cell_type": "markdown",
   "id": "c1b93902",
   "metadata": {},
   "source": [
    "::::::{admonition} Nota (Conmutador y anti-conmutador) \n",
    ":class: note\n",
    "\n",
    "\n",
    "\n",
    "\n",
    "\n",
    "- Conmutador:\n",
    "\\begin{equation}\n",
    "\\lc A, B \\rc = AB - BA\n",
    "\\end{equation}\n",
    "\n",
    "- Anti-conmutador\n",
    "\\begin{equation}\n",
    "\\lch A,B \\rch = AB + BA\n",
    "\\end{equation}\n",
    "\n",
    "::::::\n"
   ]
  },
  {
   "cell_type": "markdown",
   "id": "07793764",
   "metadata": {},
   "source": [
    "### Exponencial de matrices de Pauli\n"
   ]
  },
  {
   "cell_type": "markdown",
   "id": "01967b47",
   "metadata": {},
   "source": [
    "Recordar que la fórmula de Euler permite escribir, para una fase compleja $ e^{i\\alpha} = \\cos\\alpha + i \\sin\\alpha $. Ahora estamos en disposición de probar la generalización a matrices de Pauli.  Sea\n",
    "\\begin{equation}\n",
    "{\\bf a} = (a_1,a_2,a_3) =a \\left( \\frac{a_1}{a},\\frac{a_2}{a},\\frac{a_3}{a}\\right) =  a\\, \\hat{\\bf n}\n",
    "\\end{equation}\n",
    "donde $a=|{\\bf a}|=\\sqrt{a_1^2+a_2^3+a_3^2}$ es el módulo\n"
   ]
  },
  {
   "cell_type": "markdown",
   "id": "e4e94b3d",
   "metadata": {},
   "source": [
    "Entonces, escribimos\n",
    "\\begin{equation}\n",
    "{\\bf a} \\cdot \\boldsymbol{\\sigma} =  a\\, \\hat{\\bf n} \\cdot \\boldsymbol{\\sigma}\n",
    "\\end{equation}\n"
   ]
  },
  {
   "cell_type": "markdown",
   "id": "08ac1e6a",
   "metadata": {},
   "source": [
    "::::::{card} \n",
    "<b>Teorema</b>:  \n",
    "\n",
    "^^^\n",
    "\\begin{equation}\n",
    "\\exp \\left( \\rule{0mm}{4mm} i\\,   {\\bf a} \\cdot \\boldsymbol{\\sigma}  \\right) = \\exp \\left( \\rule{0mm}{4mm} i\\,   a\\, \\hat{\\bf n} \\cdot \\boldsymbol{\\sigma}  \\right) = \\cos a \\, I + i \\sin a \\,(\\hat{\\bf n} \\cdot  \\boldsymbol{\\sigma}) \\, .\n",
    "\\end{equation}\n",
    "::::::\n",
    "\n",
    "\n"
   ]
  },
  {
   "cell_type": "markdown",
   "id": "89b2b85d",
   "metadata": {},
   "source": [
    "### Matrices de Pauli en otras bases\n"
   ]
  },
  {
   "cell_type": "markdown",
   "id": "1c1cf216",
   "metadata": {},
   "source": [
    "Un punto importante es que la representación de las matrices de Pauli que acabamos de ver en la Ec. (\\ref{ec_qubits_matrices_de_Pauli}) no es única (aunque sí la mas extendida). Como podemos ver, esta representación es aquella en la que se diagonaliza la matriz $\\sigma_z$. Es decir, están representadas en la base de <b>autoestados</b> (autovectores) de la matriz $\\sigma_z$\n",
    "\\begin{align*}\n",
    "& \\boxed{\\ket{z_+} = \\ket{\\uparrow} = \\begin{bmatrix}  1 \\\\ 0  \\end{bmatrix}},\n",
    "& \\boxed{\\ket{z_-} = \\ket{\\downarrow} = \\begin{bmatrix}  0 \\\\ 1  \\end{bmatrix}}\n",
    "\\end{align*}\n",
    "donde\n",
    "\\begin{align*}\n",
    "& \\sigma_z \\ket{z_+} =   \\sigma_z,\n",
    "& \\sigma_z \\ket{z_-} = - \\sigma_z.\n",
    "\\end{align*}\n"
   ]
  },
  {
   "cell_type": "markdown",
   "id": "7926f059",
   "metadata": {},
   "source": [
    "Estas matrices podrían escribirse en otras bases, como por ejemplo la base de autoestados de $\\sigma_x$, i.e. $\\ket{x_+}, \\ket{x_-}$, que diagonalizaría la matriz $\\sigma_x$ o en la base de autoestados de $\\sigma_y$, i.e. $\\ket{y_+}, \\ket{y_-}$, que diagonalizaría la matriz $\\sigma_y$. Cabe destacar que solo podemos tener a la vez una de las tres matrices en forma diagonal (puesto que no conmutan). Por completitud, podemos ver la expresión de estos autoestados en función de los de $ \\sigma_z$:\n",
    "\\begin{align}\n",
    "& \\boxed{\\ket{x_+}  = \\frac{1}{\\sqrt{2}} \\lp \\ket{z_+} + \\ket{z_-} \\rp = \\frac{1}{\\sqrt{2}} \\begin{bmatrix}  1 \\\\ 1  \\end{bmatrix}},\n",
    "& \\boxed{\\ket{x_-}  = \\frac{1}{\\sqrt{2}} \\lp \\ket{z_+} - \\ket{z_-} \\rp = \\frac{1}{\\sqrt{2}} \\begin{bmatrix}  1 \\\\ -1  \\end{bmatrix}},   \\\\ \\rule{0mm}{10mm}\n",
    "& \\boxed{\\ket{y_+}  = \\frac{1}{\\sqrt{2}} \\lp \\ket{z_+} + i \\ket{z_-} \\rp = \\frac{1}{\\sqrt{2}} \\begin{bmatrix}  1 \\\\ i  \\end{bmatrix}},\n",
    "& \\boxed{\\ket{y_-}   = \\frac{1}{\\sqrt{2}} \\lp \\ket{z_+} - i \\ket{z_-} \\rp = \\frac{1}{\\sqrt{2}} \\begin{bmatrix}  1 \\\\ -i \\end{bmatrix}}.\n",
    "\\end{align}\n",
    "donde\n",
    "\\begin{align}\n",
    "\\sigma_x \\ket{x_+} & = + \\ket{x_+},\n",
    "&&\\sigma_x \\ket{x_-}  =  - \\ket{x_-}  \\\\ \\rule{0mm}{3mm}\n",
    "\\sigma_y \\ket{y_+} & = + \\ket{y_+},\n",
    "&&\\sigma_y \\ket{y_-}   = - \\ket{y_-}.\n",
    "\\end{align}\n"
   ]
  },
  {
   "cell_type": "markdown",
   "id": "84c883bf",
   "metadata": {},
   "source": [
    "::::::{admonition} Nota (Autoestados y autovectores. El espín) \n",
    ":class: note\n",
    "\n",
    "\n",
    "\n",
    "En esta sección hemos estado hablando de <b>autoestados</b> en vez de <b>autovectores</b>. Esto es\n",
    "por el significa físico que tienen las matrices de Pauli. Estas se usan, entre otras cosas, para\n",
    "describir el espín de una partícula, así que sus autovectores representan autoestados de espín de la partícula.\n",
    "En concreto, representan las proyecciones del espín sobre los tres ejes $x$, $y$ y $z$.\n",
    "\n",
    "Cuando decimos que una partícula tiene espín $+1/2$ o $-1/2$ habitualmente nos referimos a que la proyección\n",
    "del espín sobre el eje $z$ es $+1/2$ o $-1/2$ (obviando constantes multiplicativas). Es decir, está en el\n",
    "estado $\\ket{+}$ o $\\ket{-}$.\n",
    "\n",
    "En física cuántica, un autoestado de un operador es un estado que no evoluciona con el tiempo (si no hay influencias externas).\n",
    "Por ejemplo, cuando tenemos un electrón aislado con proyección del espín $+1/2$, este estado no va a cambiar con el tiempo,\n",
    "pues el electrón está aislado.\n",
    "::::::\n"
   ]
  },
  {
   "cell_type": "markdown",
   "id": "8534e04c",
   "metadata": {},
   "source": [
    "::::{figure} https://quantumspain-project.es/wp-content/uploads/2022/11/Logo_QS_EspanaDigital.png\n",
    ":width: 2000px\n",
    ":align: center\n",
    "::::\n",
    "\n",
    "<center>\n",
    "<img align=\"left\" src=\"https://quantumspain-project.es/wp-content/uploads/2024/02/Banner-QS_GOB_v2.png\" width=\"1000px\" />\n",
    "</center>"
   ]
  }
 ],
 "metadata": {
  "kernelspec": {
   "display_name": "Python 3 (ipykernel)",
   "language": "python",
   "name": "python3"
  },
  "language_info": {
   "codemirror_mode": {
    "name": "ipython",
    "version": 3
   },
   "file_extension": ".py",
   "mimetype": "text/x-python",
   "name": "python",
   "nbconvert_exporter": "python",
   "pygments_lexer": "ipython3",
   "version": "3.11.7"
  },
  "toc": {
   "base_numbering": 1,
   "nav_menu": {},
   "number_sections": false,
   "sideBar": true,
   "skip_h1_title": true,
   "title_cell": "Table of Contents",
   "title_sidebar": "Contents",
   "toc_cell": false,
   "toc_position": {},
   "toc_section_display": true,
   "toc_window_display": false
  }
 },
 "nbformat": 4,
 "nbformat_minor": 5
}