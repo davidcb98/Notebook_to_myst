{
 "cells": [
  {
   "cell_type": "markdown",
   "id": "8ddaeb38",
   "metadata": {},
   "source": [
    "> {sub-ref}`today` | {sub-ref}`wordcount-minutes` min read\n",
    "\n",
    "::::{figure} Figuras/Fig_logo_UMA_scbi.png\n",
    ":width: 2000px\n",
    ":align: center\n",
    "::::\n",
    "\n",
    "$ \\newcommand{\\bra}[1]{\\langle #1|} $\n",
    "$ \\newcommand{\\ket}[1]{|#1\\rangle} $\n",
    "$ \\newcommand{\\branew}[1]{\\langle #1|} $\n",
    "$ \\newcommand{\\ketnew}[1]{\\langle #1|} $\n",
    "$ \\newcommand{\\braket}[2]{\\langle #1|#2\\rangle} $\n",
    "$ \\newcommand{\\ketbra}[2]{| #1\\rangle \\langle #2 |} $\n",
    "$ \\newcommand{\\i}{{\\color{blue} i}} $ \n",
    "$ \\newcommand{\\Hil}{{\\cal H}} $\n",
    "$ \\newcommand{\\cg}[1]{{\\rm C}#1} $\n",
    "$ \\newcommand{\\lp}{\\left(} $\n",
    "$ \\newcommand{\\rp}{\\right)} $\n",
    "$ \\newcommand{\\lc}{\\left[} $\n",
    "$ \\newcommand{\\rc}{\\right]} $\n",
    "$ \\newcommand{\\lch}{\\left\\{} $\n",
    "$ \\newcommand{\\rch}{\\right\\}} $\n",
    "$ \\newcommand{\\Lp}{\\Bigl(} $\n",
    "$ \\newcommand{\\Rp}{\\Bigr)} $\n",
    "$ \\newcommand{\\Lc}{\\Bigl[} $\n",
    "$ \\newcommand{\\Rc}{\\Bigr]} $\n",
    "$ \\newcommand{\\Lch}{\\Bigl\\{} $\n",
    "$ \\newcommand{\\Rch}{\\Bigr\\}} $\n",
    "$ \\newcommand{\\rqa}{\\quad \\Rightarrow \\quad} $\n",
    "$ \\newcommand{\\bm}{\\boldsymbol}$"
   ]
  },
  {
   "cell_type": "markdown",
   "id": "080fe82e",
   "metadata": {},
   "source": [
    "# Axiomas\n"
   ]
  },
  {
   "cell_type": "markdown",
   "id": "9e1aaa76",
   "metadata": {},
   "source": [
    "## ¿Qué es un axioma?\n"
   ]
  },
  {
   "cell_type": "markdown",
   "id": "8de61ae5",
   "metadata": {},
   "source": [
    "::::::{card} \n",
    "\n",
    "\n",
    "<b>Axioma</b> es una proposición tan clara y evidente que se admite sin demostración. Aplicado en matemáticas y otras ciencias, es cada uno de los principios indemostrables sobre los que, por medio de un razonamiento deductivo, se construye una teoría.\n",
    "::::::\n"
   ]
  },
  {
   "cell_type": "markdown",
   "id": "851a55c9",
   "metadata": {},
   "source": [
    "::::::{admonition} Ejemplo\n",
    ":class: tip\n",
    "\n",
    "\n",
    "\n",
    "Un ejemplo son los axiomas (postulados) de la geometría euclidiana:\n",
    "\n",
    "\n",
    "1. Es posible trazar una línea recta desde cualquier punto a cualquier otro punto.\n",
    "\n",
    "2. Es posible prolongar un segmento de recta continuamente en ambas direcciones.\n",
    "\n",
    "3. Es posible describir una circunferencia con cualquier centro y cualquier radio.\n",
    "\n",
    "4. Es cierto que todos los ángulos rectos son iguales entre sí.\n",
    "\n",
    "5. (\"Postulado de las paralelas\") Es cierto que, si una recta que cae sobre dos rectas hace que el ángulos interiores de un mismo lado sean menores que dos ángulos rectos, las dos rectas, si se producen indefinidamente, se intersecan en aquel lado en el que están los ángulos menores que los dos ángulos rectos.\n",
    "\n",
    "::::::\n"
   ]
  },
  {
   "cell_type": "markdown",
   "id": "d7ca9d31",
   "metadata": {},
   "source": [
    "## Axiomas de la mecánica cuántica\n"
   ]
  },
  {
   "cell_type": "markdown",
   "id": "cde9bd86",
   "metadata": {},
   "source": [
    "La Mecánica Cuántica es una teoría fundamentada en unos pilares axiomáticos cuya selección admite cierta flexibilidad. La más aceptada constituye lo que se denomina la <b>interpretación de Copenhagen</b>.\n"
   ]
  },
  {
   "cell_type": "markdown",
   "id": "dbdee241",
   "metadata": {},
   "source": [
    "### Vector de estado\n"
   ]
  },
  {
   "cell_type": "markdown",
   "id": "33c64b94",
   "metadata": {},
   "source": [
    "::::::{card} \n",
    "\n",
    "\n",
    "En un instante, $t$, la <b>máxima información accesible</b> de un sistema está asociada a un <b>vector de estado</b> $\\ket{\\psi}$, de norma unidad, $\\braket{\\psi}{\\psi}=1$,\n",
    "perteneciente a un espacio de Hilbert $\\mathcal{H}$\n",
    "::::::\n"
   ]
  },
  {
   "cell_type": "markdown",
   "id": "b3a91e46",
   "metadata": {},
   "source": [
    "\n",
    " \n",
    "- La dimensión de $\\mathcal{H}$ está relacionada con el número de grados de libertad del sistema.\n",
    " \n",
    "- La <b>fase global</b> del vector de estado no contiene información: dos vectores que difieran en una fase global representan al mismo estado ningún experimento permite distinguirlos\n",
    "\\begin{equation}\n",
    "\\ket{\\psi} \\sim \\ket{\\psi'} =  e^{i\\varphi}\\ket{\\psi} \\, .\n",
    "\\end{equation}\n",
    " \n",
    "- El vector de estado recibe también el nombre de <b>función de onda</b>.\n",
    "\n",
    "### Medidas\n"
   ]
  },
  {
   "cell_type": "markdown",
   "id": "849f7d8a",
   "metadata": {},
   "source": [
    "::::::{card} \n",
    "\n",
    "\n",
    "A una magnitud física medible, le está asociado   un operador hermítico  $ A= A^\\dagger$ que denominamos <b>observable</b>.\n",
    "::::::\n"
   ]
  },
  {
   "cell_type": "markdown",
   "id": "5c211798",
   "metadata": {},
   "source": [
    "::::::{card} \n",
    "\n",
    "\n",
    "Los resultados de una medición no pueden dar como resultado nada más que uno de los valores propios de $A \\Rightarrow \\lambda_n$.\n",
    "::::::\n"
   ]
  },
  {
   "cell_type": "markdown",
   "id": "e9f8dda1",
   "metadata": {},
   "source": [
    "\n",
    " \n",
    "- Las magnitudes medibles son números reales, de ahí la exigencia de que $A$ deba ser un operador hermítico.\n",
    " \n",
    "- La información contenida en $\\ket{\\psi}$ es <b>intrínsecamente probabilística</b> (no hay variables ocultas). Los resultados de una medida son inciertos, pero $\\psi$ codifica una distribución de probabilidad.\n",
    "\n"
   ]
  },
  {
   "cell_type": "markdown",
   "id": "5195abdf",
   "metadata": {},
   "source": [
    "### Regla de Born\n"
   ]
  },
  {
   "cell_type": "markdown",
   "id": "ec127efc",
   "metadata": {},
   "source": [
    "::::::{card} \n",
    "\n",
    "\n",
    "La probabilidad de obtener  el autovalor $\\lambda_k$ como resultado de una cierta medición, viene dada por la expresión\n",
    "\\begin{equation}\n",
    "p(\\lambda_k)~ = ~|\\braket{\\lambda_k}{\\psi}|^2\n",
    "\\end{equation}\n",
    "donde $\\ket{\\lambda_k}$ es el autovector asociado.\n",
    "::::::\n"
   ]
  },
  {
   "cell_type": "markdown",
   "id": "8ee08db5",
   "metadata": {},
   "source": [
    "El valor $\\braket{\\lambda_k}{\\psi}$ se denomina <b>amplitud</b>.\n"
   ]
  },
  {
   "cell_type": "markdown",
   "id": "b2bc8009",
   "metadata": {},
   "source": [
    "La fórmula anterior es cierta cuando el autovalor en cuestion es <i>no degenerado</i>. La expresión correcta cuando $\\lambda_k$ tiene degeneración $d_k$ es\n",
    "```{math}\n",
    ":label: ec_fundamentos_p_para_lambda_degenerado \n",
    "\\begin{equation} \n",
    "\\boxed{p(\\lambda_k)~ = ~ \\sum_{a=1}^{d_k}|\\braket{\\lambda^a_k}{\\psi}|^2}\n",
    "\\end{equation} \n",
    "```\n"
   ]
  },
  {
   "cell_type": "markdown",
   "id": "8ba3ac92",
   "metadata": {},
   "source": [
    "### Colapso de la función de ondas\n"
   ]
  },
  {
   "cell_type": "markdown",
   "id": "6c98d64f",
   "metadata": {},
   "source": [
    "::::::{card} \n",
    "\n",
    "\n",
    "Si el resultado de una medida  ha sido  $\\lambda_n$, el estado del sistema, inmediatamente después de la medida, viene dado por el vector propio  $\\ket{\\lambda_n} \\in \\mathcal{H}$, normalizado $|\\braket{\\lambda_n}{\\lambda_n}|=1$\n",
    "\\begin{equation}\n",
    "\\ket{\\psi}~\\stackrel{\\lambda_n}{\\Longrightarrow}~ \\ket{\\lambda_n}\n",
    "\\end{equation}\n",
    "::::::\n"
   ]
  },
  {
   "cell_type": "markdown",
   "id": "7758d1ab",
   "metadata": {},
   "source": [
    "### Evolución en el tiempo\n"
   ]
  },
  {
   "cell_type": "markdown",
   "id": "25192db6",
   "metadata": {},
   "source": [
    "::::::{card} \n",
    "\n",
    "\n",
    "El cambio  del estado del sistema $\\ket{\\psi(t)}$ es <i>determinista</i> y\n",
    "está gobernado por la <b>Ecuación de Schrödinger</b>\n",
    "```{math}\n",
    ":label: ec_fundamentos_ec_de_schrodinger \n",
    "\\begin{equation} \n",
    "i\\hbar \\frac{\\partial\\ket{\\psi}}{\\partial t} = H \\ket{\\psi} \\, ,\n",
    "\\end{equation} \n",
    "```\n",
    "donde el Hamiltoniano, $H$, es un operador hermítico que <i>caracteriza</i> el sistema, y $\\hbar$ es una <i>constante universal</i> denominada <b>constante de Planck</b>\n",
    "\\begin{equation}\n",
    "\\hbar = 1.054 \\times 10^{-34} \\, J \\cdot s\n",
    "\\end{equation}\n",
    "::::::\n"
   ]
  },
  {
   "cell_type": "markdown",
   "id": "fbba4cf5",
   "metadata": {},
   "source": [
    "\n",
    " \n",
    "- $J$=Julio: Unidad en el Sistema Internacional para la Energía\n",
    " \n",
    "- $s=$segundos: Unidad en el Sistema Internacional para el tiempo.\n",
    "\n"
   ]
  },
  {
   "cell_type": "markdown",
   "id": "8534e04c",
   "metadata": {},
   "source": [
    "::::{figure} https://quantumspain-project.es/wp-content/uploads/2022/11/Logo_QS_EspanaDigital.png\n",
    ":width: 2000px\n",
    ":align: center\n",
    "::::\n",
    "\n",
    "<center>\n",
    "<img align=\"left\" src=\"https://quantumspain-project.es/wp-content/uploads/2024/02/Banner-QS_GOB_v2.png\" width=\"1000px\" />\n",
    "</center>"
   ]
  }
 ],
 "metadata": {
  "kernelspec": {
   "display_name": "Python 3 (ipykernel)",
   "language": "python",
   "name": "python3"
  },
  "language_info": {
   "codemirror_mode": {
    "name": "ipython",
    "version": 3
   },
   "file_extension": ".py",
   "mimetype": "text/x-python",
   "name": "python",
   "nbconvert_exporter": "python",
   "pygments_lexer": "ipython3",
   "version": "3.11.7"
  },
  "toc": {
   "base_numbering": 1,
   "nav_menu": {},
   "number_sections": false,
   "sideBar": true,
   "skip_h1_title": true,
   "title_cell": "Table of Contents",
   "title_sidebar": "Contents",
   "toc_cell": false,
   "toc_position": {},
   "toc_section_display": true,
   "toc_window_display": false
  }
 },
 "nbformat": 4,
 "nbformat_minor": 5
}