{
 "cells": [
  {
   "cell_type": "markdown",
   "id": "8ddaeb38",
   "metadata": {},
   "source": [
    "> {sub-ref}`today` | {sub-ref}`wordcount-minutes` min read\n",
    "\n",
    "::::{figure} Figuras/Fig_logo_UMA_scbi.png\n",
    ":width: 2000px\n",
    ":align: center\n",
    "::::\n",
    "\n",
    "$ \\newcommand{\\bra}[1]{\\langle #1|} $\n",
    "$ \\newcommand{\\ket}[1]{|#1\\rangle} $\n",
    "$ \\newcommand{\\branew}[1]{\\langle #1|} $\n",
    "$ \\newcommand{\\ketnew}[1]{\\langle #1|} $\n",
    "$ \\newcommand{\\braket}[2]{\\langle #1|#2\\rangle} $\n",
    "$ \\newcommand{\\ketbra}[2]{| #1\\rangle \\langle #2 |} $\n",
    "$ \\newcommand{\\i}{{\\color{blue} i}} $ \n",
    "$ \\newcommand{\\Hil}{{\\cal H}} $\n",
    "$ \\newcommand{\\cg}[1]{{\\rm C}#1} $\n",
    "$ \\newcommand{\\lp}{\\left(} $\n",
    "$ \\newcommand{\\rp}{\\right)} $\n",
    "$ \\newcommand{\\lc}{\\left[} $\n",
    "$ \\newcommand{\\rc}{\\right]} $\n",
    "$ \\newcommand{\\lch}{\\left\\{} $\n",
    "$ \\newcommand{\\rch}{\\right\\}} $\n",
    "$ \\newcommand{\\Lp}{\\Bigl(} $\n",
    "$ \\newcommand{\\Rp}{\\Bigr)} $\n",
    "$ \\newcommand{\\Lc}{\\Bigl[} $\n",
    "$ \\newcommand{\\Rc}{\\Bigr]} $\n",
    "$ \\newcommand{\\Lch}{\\Bigl\\{} $\n",
    "$ \\newcommand{\\Rch}{\\Bigr\\}} $\n",
    "$ \\newcommand{\\rqa}{\\quad \\Rightarrow \\quad} $\n",
    "$ \\newcommand{\\bm}{\\boldsymbol}$"
   ]
  },
  {
   "cell_type": "markdown",
   "id": "080fe82e",
   "metadata": {},
   "source": [
    "# Evolución temporal\n"
   ]
  },
  {
   "cell_type": "markdown",
   "id": "5e704b54",
   "metadata": {},
   "source": [
    "### Ecuación de Schrödinger\n"
   ]
  },
  {
   "cell_type": "markdown",
   "id": "68816e65",
   "metadata": {},
   "source": [
    "El estado de un sistema $\\ket{\\psi(t)}$ posee la máxima información instantánea accesible de un sistema, es decir, a un tiempo dado $t$. Dado $\\ket{\\psi(t_0)}$ en un instante inicial $t_0$, la evolución posterior obedece a la  ecuación diferencial de Schrödinger\n",
    "```{math}\n",
    ":label: ec_fundamentos_ec_de_schrodinger_con_t \n",
    "\\begin{equation} \n",
    "i \\hbar \\frac{d}{d t}\\ket{\\psi(t)} = H(t) \\ket{\\psi(t)} \\, .\n",
    "\\end{equation} \n",
    "```\n"
   ]
  },
  {
   "cell_type": "markdown",
   "id": "bf1cc2b2",
   "metadata": {},
   "source": [
    "::::::{admonition} Nota\n",
    ":class: note\n",
    "\n",
    "\n",
    "\n",
    "\n",
    "\n",
    "- El operador Hamiltoniano $H(t)$  contiene toda la información sobre la dinámica del sistema.\n",
    "\n",
    "- Hemos enfatizado el hecho de que, en el caso más general, $H(t)$ puede depender del tiempo.\n",
    "\n",
    "::::::\n"
   ]
  },
  {
   "cell_type": "markdown",
   "id": "2d7b7758",
   "metadata": {},
   "source": [
    "### Conservación de la probabilidad\n"
   ]
  },
  {
   "cell_type": "markdown",
   "id": "8b7cae16",
   "metadata": {},
   "source": [
    "La hermiticidad de $H$ se relaciona directamente con la interpretación probabilística de $\\ket{\\psi}$. Efectivamente, en <i>la evolución temporal se conserva la norma del vector de estado</i>\n",
    "\\begin{eqnarray}\n",
    "\\frac{d}{dt}\\braket{\\psi(t)}{\\psi(t)} &=& \\left(\\rule{0mm}{3mm}\\frac{d}{dt}\\bra{\\psi(t)}\\right)\\ket{\\psi(t)} +\n",
    "\\bra{\\psi(t)}\\left(\\frac{d}{dt}\\ket{\\psi(t)} \\right)\\nonumber\\\\\n",
    "&=& \\left(\\bra{\\psi(t)}\\frac{i}{\\hbar}H^\\dagger\\right)\\ket{\\psi(t)} + \\bra{\\psi(t)}\\left(-\\frac{i}{\\hbar}H\\ket{\\psi(t)} \\right) \\\\\n",
    "&=&\\frac{i}{\\hbar} \\bra{\\psi(t)}(H^\\dagger - H)\\ket{\\psi(t)} = 0 \\nonumber\n",
    "\\end{eqnarray}\n",
    "Esto implica que la norma de $\\ket{\\psi(t)}$ se conserva $\\Rightarrow 1 = \\|\\ket{\\psi(0)}\\| =\\|\\ket{\\psi(t)}\\|$\n"
   ]
  },
  {
   "cell_type": "markdown",
   "id": "c4096dec",
   "metadata": {},
   "source": [
    "### Operador de evolución\n"
   ]
  },
  {
   "cell_type": "markdown",
   "id": "4a4d7fce",
   "metadata": {},
   "source": [
    "La conservación de la norma implica que la evolución $\\|\\ket{\\psi(0)\\|} =\\|\\ket{\\psi(t)}\\|$ es un <i>proceso unitario</i>. En otras palabras, debe existir un operador unitario\n",
    "\\begin{equation}\n",
    "U(t,t_0)^{-1}= U(t,t_0)^\\dagger\n",
    "\\end{equation}\n",
    "que lleve el estado inicial al actual a tiempo $t$\n",
    "\\begin{equation}\n",
    "U(t,t_0): \\ket{\\psi(t_0)}~~ \\to~~ \\rule{0mm}{3.5mm} \\ket{\\psi(t)} = U(t,t_0)\\ket{\\psi(t_0)}\n",
    "\\end{equation}\n"
   ]
  },
  {
   "cell_type": "markdown",
   "id": "8bd88098",
   "metadata": {},
   "source": [
    "::::::{admonition} Nota (Propiedades de ${U(t,t_0)}$) \n",
    ":class: note\n",
    "\n",
    "\n",
    "\n",
    "El operador de evolución satisface las siguientes propiedades\n",
    "\n",
    "\n",
    "- $U(t_0,t_0) = I$ \\, .\n",
    "\n",
    "- transitividad:  $U(t,t_1)U(t_1,t_0)= U(t,t_0)$\n",
    "\n",
    "- invertibilidad: $U(t,t_0)^{-1} = U(t_0,t)$\n",
    "\n",
    "::::::\n"
   ]
  },
  {
   "cell_type": "markdown",
   "id": "3882b15e",
   "metadata": {},
   "source": [
    "Evidentemente, el operador de evolución debe estar relacionado con el Hamiltoniano, que es quien gobierna la dinámica. Veamos a ver que hay una ecuación de Schrödinger también para el operador de evolución\n"
   ]
  },
  {
   "cell_type": "markdown",
   "id": "870d2386",
   "metadata": {},
   "source": [
    "::::::{prf:theorem} \n",
    "\n",
    "\n",
    "El operador de evolución satisface la siguiente ecuación de evolución\n",
    "\\begin{equation}\n",
    "i \\hbar \\frac{d}{dt}U(t,t_0) = H(t)\\, U(t,t_0)\n",
    "\\end{equation}\n",
    "::::::\n",
    "\n",
    "\n",
    "::::::::::{dropdown} Demostración\n",
    "Tomando la derivada temporal de la ecuación $\\ket{\\psi(t)} = U(t,t_0)\\ket{\\psi(t_0)}$, que define $U(t,t_0)$, tenemos para cada miembro\n",
    "\n",
    "\\begin{eqnarray}\n",
    "i \\hbar \\frac{d}{dt}\\ket{\\psi(t)} &~=~&   H(t)\\ket{\\psi(t)} =  H(t)U(t,t_0)\\ket{\\psi(t_0)}  \\nonumber\\\\\n",
    "i \\hbar \\frac{d}{dt}\\ket{\\psi(t)} &~=~& i \\hbar \\frac{d}{dt}U(t,t_0)\\ket{\\psi(t_0)} = i \\hbar \\left(\\frac{d}{dt}U(t,t_0)\\right)\\ket{\\psi(t_0)}\n",
    "\\end{eqnarray}\n",
    "Igualando ambas expresiones, y teniendo en cuanto que $\\ket{\\psi_0}$ es arbitrario, obtenemos la ecuación deseada.\n",
    "::::::::::\n"
   ]
  },
  {
   "cell_type": "markdown",
   "id": "f377ff82",
   "metadata": {},
   "source": [
    "### Caso de $H$ independiente del tiempo\n"
   ]
  },
  {
   "cell_type": "markdown",
   "id": "b2f96779",
   "metadata": {},
   "source": [
    "Cuando $H$ no depende del tiempo podemos dar una expresión analítica para el operador de evolución\n",
    "::::::{prf:theorem} \n",
    "\n",
    "\n",
    "Para un hamiltoniano $H$ independiente del tiempo, el operador de evolución $U(t,t_0)$ es\n",
    "\\begin{equation}\n",
    "U(t,t_0) = \\exp\\left({-\\frac{i}{\\hbar} (t-t_0)H}\\right)\n",
    "\\end{equation}\n",
    "::::::\n",
    "\n",
    "\n",
    "::::::::::{dropdown} Demostración\n",
    "Basta con demostrar que se satisface la ecuación de evolución y la condición de contorno\n",
    "\n",
    "\\begin{eqnarray}\n",
    "\\frac{d}{dt}U(t,t_0) &=& \\frac{d}{dt} \\exp\\left({-\\frac{i}{\\hbar} (t-t_0)H}\\right)\n",
    "\\nonumber\\\\ \\rule{0mm}{6mm}\n",
    "&=& \\frac{d}{dt}\\left( I +(t-t_0)\\left(-\\frac{i}{\\hbar} H\\right) + \\frac{1}{2!}\n",
    "(t-t_0)^2\\left(-\\frac{i}{\\hbar} H\\right)^2  + ...\\right) \\nonumber\\\\ \\rule{0mm}{6mm}\n",
    "&=& 0 +  \\left(-\\frac{i}{\\hbar} H\\right) +  (t-t_0)\\left(-\\frac{i}{\\hbar} H\\right)^2  + ... \\nonumber\\\\ \\rule{0mm}{6mm}\n",
    "&=&  \\left(-\\frac{i}{\\hbar} H\\right)\\left( I + (t-t_0) \\left(-\\frac{i}{\\hbar} H\\right) + ...\\right)\n",
    "\\nonumber \\\\ \\rule{0mm}{6mm}\n",
    "&=& \\left(-\\frac{i}{\\hbar} H\\right) \\exp\\left({-\\frac{i}{\\hbar} (t-t_0)H}\\right)    \\nonumber\\\\ \\rule{0mm}{6mm}\n",
    "&=& -\\frac{i}{\\hbar} H \\,  U(t,t_0)\n",
    "\\end{eqnarray}\n",
    "Además\n",
    "\\begin{equation}\n",
    "U(t_0,t_0) =  \\exp\\left({-\\frac{i}{\\hbar} (t_0-t_0)H}\\right)=\\exp(0) = I\n",
    "\\end{equation}\n",
    "::::::::::\n"
   ]
  },
  {
   "cell_type": "markdown",
   "id": "c9ff3223",
   "metadata": {},
   "source": [
    "::::::{admonition} Nota\n",
    ":class: note\n",
    "\n",
    "\n",
    "\n",
    "La cantidad ${-\\frac{i}{\\hbar} (t-t_0) H }$ es adimensional\n",
    "\\begin{equation}\n",
    "\\frac{1}{\\hbox{J}\\cdot \\hbox{s}}\\hbox{s}\\cdot\\hbox{J} = 1\n",
    "\\end{equation}\n",
    "Es decir, es un número puro. Por eso podemos exponenciarla. El operador de evolución $U(t,t_0)$ es, por tanto, también, una magnitud adimensional.\n",
    "::::::\n"
   ]
  },
  {
   "cell_type": "markdown",
   "id": "1aa9b0f6",
   "metadata": {},
   "source": [
    "### Evolución en la base de eutoestados de $H$\n"
   ]
  },
  {
   "cell_type": "markdown",
   "id": "b0e79abc",
   "metadata": {},
   "source": [
    "Sea $\\{\\ket{n}\\}$ una base de autoestados de $H \\, \\Rightarrow \\,H \\ket{n} = E_n \\ket{n}$, $n=1,..,N$. En esta base $H$ es una matriz $H_{mn}$ diagonal\n",
    "\\begin{equation}\n",
    "H_{mn} =  \\begin{bmatrix} E_0 &  & & \\\\  & E_1 &  & \\\\ & & \\ddots & \\\\ & & & \\end{bmatrix} =E_m \\delta_{mn} \\, .\n",
    "\\end{equation}\n",
    "Entonces la matriz de evolución es también diagonal\n",
    "\\begin{equation}\n",
    "U_{mn} = \\exp\\left(-\\frac{i}{\\hbar}t H_{mn}\\right) =\n",
    "\\begin{bmatrix} e^{-\\frac{i}{\\hbar}t E_0} &  & & \\\\  & e^{-\\frac{i}{\\hbar} t E_1}  &  & \\\\ & & \\ddots & \\\\ & & & \\end{bmatrix} = e^{-\\frac{i}{\\hbar} t  E_m }\\delta_{mn} \\, .\n",
    "\\end{equation}\n"
   ]
  },
  {
   "cell_type": "markdown",
   "id": "5a362bb5",
   "metadata": {},
   "source": [
    "En conclusión:\n",
    "\n",
    " \n",
    "- La evolución temporal de un autoestado de la energía es trivial (es una fase global)\n",
    "    \\begin{equation}\n",
    "    U(t,0)\\ket{n} = e^{-\\frac{i}{\\hbar} t E_n} \\ket{n}\\,\n",
    "    \\end{equation}\n",
    "    Es decir, un autoestado del hamiltoniano es un <b>estado estacionario</b>. Si nuestro sistema está en un autoestado del hamiltoniano, este no cambiará con el tiempo.\n",
    " \n",
    "- Esta fase deja de ser trivial cuando afecta a una combinación lineal. La forma más eficaz de calcular la evolución de un estado arbitrario es expresarla en la base $\\{\\ket{n}\\}$. Es decir, si a $t=0$\n",
    "    \\begin{equation}\n",
    "    \\ket{\\psi(t=0)} = \\sum_n c_n \\ket{n} \\,\n",
    "    \\end{equation}\n",
    "    entonces, a tiempo $t$\n",
    "    \\begin{equation}\n",
    "    \\ket{\\psi(t)} = \\sum_n c_n e^{-\\frac{i}{\\hbar}E_nt} \\ket{n} \\, .\n",
    "    \\end{equation}\n",
    "    En esta base, la evolución temporal lo que hace es que las fases relativas de los autoestados evolucionen a velocidades diferentes.\n",
    "\n"
   ]
  },
  {
   "cell_type": "markdown",
   "id": "9790c0c2",
   "metadata": {},
   "source": [
    "::::::{admonition} Jupyter Notebook ([Fundamentos de Mecánica Cuántica](https://www.scbi.uma.es/web/wp-content/uploads/Jupyterbook/CICC_UMA/Notebooks/html/docs/Part_01/Chapter_01-Fundamentos_MC_evolucion_temporal_myst.html) \n",
    ":class: attention\n",
    "\n",
    "\n",
    "\n",
    "Puede verse el Notebook [Fundamentos de Mecánica Cuántica](https://www.scbi.uma.es/web/wp-content/uploads/Jupyterbook/CICC_UMA/Notebooks/html/docs/Part_01/Chapter_01-Fundamentos_MC_evolucion_temporal_myst.html).\n",
    "\n",
    "El Notebook puede descargarse de [Github](https://github.com/davidcb98/CICC_UMA/blob/master/Notebooks/Part_01/Chapter_01-Fundamentos_MC_evolucion_temporal.ipynb).\n",
    "::::::\n"
   ]
  },
  {
   "cell_type": "markdown",
   "id": "8534e04c",
   "metadata": {},
   "source": [
    "::::{figure} https://quantumspain-project.es/wp-content/uploads/2022/11/Logo_QS_EspanaDigital.png\n",
    ":width: 2000px\n",
    ":align: center\n",
    "::::\n",
    "\n",
    "<center>\n",
    "<img align=\"left\" src=\"https://quantumspain-project.es/wp-content/uploads/2024/02/Banner-QS_GOB_v2.png\" width=\"1000px\" />\n",
    "</center>"
   ]
  }
 ],
 "metadata": {
  "kernelspec": {
   "display_name": "Python 3 (ipykernel)",
   "language": "python",
   "name": "python3"
  },
  "language_info": {
   "codemirror_mode": {
    "name": "ipython",
    "version": 3
   },
   "file_extension": ".py",
   "mimetype": "text/x-python",
   "name": "python",
   "nbconvert_exporter": "python",
   "pygments_lexer": "ipython3",
   "version": "3.11.7"
  },
  "toc": {
   "base_numbering": 1,
   "nav_menu": {},
   "number_sections": false,
   "sideBar": true,
   "skip_h1_title": true,
   "title_cell": "Table of Contents",
   "title_sidebar": "Contents",
   "toc_cell": false,
   "toc_position": {},
   "toc_section_display": true,
   "toc_window_display": false
  }
 },
 "nbformat": 4,
 "nbformat_minor": 5
}