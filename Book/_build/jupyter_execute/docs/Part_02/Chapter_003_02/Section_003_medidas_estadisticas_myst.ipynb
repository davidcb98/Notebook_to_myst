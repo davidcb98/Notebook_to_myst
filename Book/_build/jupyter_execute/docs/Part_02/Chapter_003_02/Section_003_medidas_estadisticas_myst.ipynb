{
 "cells": [
  {
   "cell_type": "markdown",
   "id": "8ddaeb38",
   "metadata": {},
   "source": [
    "> {sub-ref}`today` | {sub-ref}`wordcount-minutes` min read\n",
    "\n",
    "::::{figure} Figuras/Fig_logo_UMA_scbi.png\n",
    ":width: 2000px\n",
    ":align: center\n",
    "::::\n",
    "\n",
    "$ \\newcommand{\\bra}[1]{\\langle #1|} $\n",
    "$ \\newcommand{\\ket}[1]{|#1\\rangle} $\n",
    "$ \\newcommand{\\branew}[1]{\\langle #1|} $\n",
    "$ \\newcommand{\\ketnew}[1]{\\langle #1|} $\n",
    "$ \\newcommand{\\braket}[2]{\\langle #1|#2\\rangle} $\n",
    "$ \\newcommand{\\ketbra}[2]{| #1\\rangle \\langle #2 |} $\n",
    "$ \\newcommand{\\i}{{\\color{blue} i}} $ \n",
    "$ \\newcommand{\\Hil}{{\\cal H}} $\n",
    "$ \\newcommand{\\cg}[1]{{\\rm C}#1} $\n",
    "$ \\newcommand{\\lp}{\\left(} $\n",
    "$ \\newcommand{\\rp}{\\right)} $\n",
    "$ \\newcommand{\\lc}{\\left[} $\n",
    "$ \\newcommand{\\rc}{\\right]} $\n",
    "$ \\newcommand{\\lch}{\\left\\{} $\n",
    "$ \\newcommand{\\rch}{\\right\\}} $\n",
    "$ \\newcommand{\\Lp}{\\Bigl(} $\n",
    "$ \\newcommand{\\Rp}{\\Bigr)} $\n",
    "$ \\newcommand{\\Lc}{\\Bigl[} $\n",
    "$ \\newcommand{\\Rc}{\\Bigr]} $\n",
    "$ \\newcommand{\\Lch}{\\Bigl\\{} $\n",
    "$ \\newcommand{\\Rch}{\\Bigr\\}} $\n",
    "$ \\newcommand{\\rqa}{\\quad \\Rightarrow \\quad} $\n",
    "$ \\newcommand{\\bm}{\\boldsymbol}$"
   ]
  },
  {
   "cell_type": "markdown",
   "id": "080fe82e",
   "metadata": {},
   "source": [
    "# Medidas Estadísticas\n"
   ]
  },
  {
   "cell_type": "markdown",
   "id": "927f776f",
   "metadata": {},
   "source": [
    "## Valor esperado\n"
   ]
  },
  {
   "cell_type": "markdown",
   "id": "b32a88f8",
   "metadata": {},
   "source": [
    "Vamos a reescribir la Ec.  {eq}`%s <ec_fundamentos_p_para_lambda_degenerado>`\n",
    "```{math}\n",
    ":label: ec_fundamentos_p_para_lambda_degenerado_proyector \n",
    "\\begin{eqnarray} \n",
    "p(\\lambda_k)~\n",
    "&=& ~ \\sum_{a=1}^{d_k}|\\braket{\\lambda^a_k}{\\psi}|^2\n",
    "= \\sum_{a=1}^{d_k} \\braket{\\psi}{\\lambda^a_k}\\braket{\\lambda^a_k}{\\psi}\n",
    "=\\bra{\\psi}\\left(\\sum_{a=1}^{d_k}\\ketbra{\\lambda^a_k}{\\lambda^a_k}\\right) \\ket{\\psi}\\nonumber\\\\\n",
    "&=&  \\bra{\\psi}P_k\\ket{\\psi}\n",
    "\\end{eqnarray} \n",
    "```\n",
    "donde\n",
    "\\begin{equation}\n",
    "\\boxed{P_k = \\sum_{a=1}^{d_k} \\ket{\\lambda^a_k}\\bra{\\lambda^a_k}}\n",
    "\\end{equation}\n",
    "es el <b>proyector sobre el subespacio propio</b> (ver Ec.  {eq}`%s <ec_formalismo_proyec_subespacio_propio>`).\n"
   ]
  },
  {
   "cell_type": "markdown",
   "id": "3a59559d",
   "metadata": {},
   "source": [
    "Por el <b>valor esperado</b> $\\langle A\\rangle$ del <i>observable</i> $A$ en el estado $\\ket{\\psi}$, entendemos el <i>valor medio</i> de la variable aleatoria $\\lambda_n$ obtenida por el método descrito.\n",
    "\\begin{eqnarray}\n",
    "\\langle A\\rangle\n",
    "&= &  \\sum_k \\lambda_k p(\\lambda_k)\n",
    "=  \\sum_k \\lambda_k \\bra{\\psi}P_k\\ket{\\psi}  \\nonumber \\\\\n",
    "&=& \\bra{\\psi}\\left(\\sum_k \\lambda_k P_k  \\right) \\ket{\\psi}\n",
    "\\end{eqnarray}\n",
    "Reconocemos entre paréntesis la descomposición espectral de $A$. Llegamos así a la siguiente expresión para el valor esperado de un observable $A$ en un estado $\\ket{\\psi}$:\n"
   ]
  },
  {
   "cell_type": "markdown",
   "id": "a23640a9",
   "metadata": {},
   "source": [
    "::::::{prf:theorem} Valor esperado de un operador\n",
    "\n",
    "\n",
    "El <b>valor esperado de un operador</b> es\n",
    "\\begin{equation}\n",
    "\\langle A \\rangle=\\bra{\\psi}A \\ket{\\psi}\n",
    "\\end{equation}\n",
    "::::::\n",
    "\n",
    "\n"
   ]
  },
  {
   "cell_type": "markdown",
   "id": "92cc2ac0",
   "metadata": {},
   "source": [
    "\n",
    " \n",
    "- En particular, las probabilidades mismas se pueden expresar como <i>valores esperados del proyector asociado</i>\n",
    "    \\begin{equation}\n",
    "    p(\\lambda_k ) =  \\bra{\\psi}P_k\\ket{\\psi} = \\langle P_k\\rangle\n",
    "    \\end{equation}\n",
    " \n",
    "- El valor esperado de un observable en uno de sus autoestados coincide con el autovalor asociado\n",
    "    \\begin{equation}\n",
    "    \\bra{\\lambda_i}A \\ket{\\lambda_i} = \\bra{\\lambda_i}\\lambda_i \\ket{\\lambda_i}  = \\lambda_i \\braket{\\lambda_i}{\\lambda_i} = \\lambda_i\n",
    "    \\end{equation}\n",
    "\n"
   ]
  },
  {
   "cell_type": "markdown",
   "id": "c53f0e3d",
   "metadata": {},
   "source": [
    "El espectro de un observable está formado por números reales que podemos ordenar $\\lambda_{min}<...<\\lambda_{max}$.\n"
   ]
  },
  {
   "cell_type": "markdown",
   "id": "d3fb8fbd",
   "metadata": {},
   "source": [
    "::::::{prf:theorem} \n",
    "\n",
    "\n",
    "El valor esperado de un observable $A$ está acotado entre sus valores propios mínimo y máximo\n",
    "\\begin{equation}\n",
    "\\lambda_{min} \\leq \\bra{\\psi}A\\ket{\\psi} \\leq \\lambda_{max}\n",
    "\\end{equation}\n",
    "y las desigualdades anteriores se saturan en los autoestados correspondientes\n",
    "::::::\n",
    "\n",
    "\n"
   ]
  },
  {
   "cell_type": "markdown",
   "id": "bc2fc42c",
   "metadata": {},
   "source": [
    "## Varianza y Desviación estándar\n"
   ]
  },
  {
   "cell_type": "markdown",
   "id": "01674131",
   "metadata": {},
   "source": [
    "::::::{card} \n",
    "\n",
    "\n",
    "La <b>varianza</b> es la media de la desviación cuadrática de la variable aleatoria $(\\lambda,p(\\lambda))$ es decir\n",
    "\\begin{equation}\n",
    "~~\\sigma ^2 = \\overline{(\\lambda_i-\\bar\\lambda_i)^2}= \\overline{\\lambda^2} - \\overline{\\lambda}^2\n",
    "\\end{equation}\n",
    "de aquí se sigue, para la <b>desviación estándar</b>\n",
    "\\begin{equation}\n",
    "\\sigma = \\sqrt{\\bra{\\psi}A^2\\ket{\\psi} - \\bra{\\psi} A\\ket{\\psi}^2}\n",
    "\\end{equation}\n",
    "::::::\n"
   ]
  },
  {
   "cell_type": "markdown",
   "id": "8534e04c",
   "metadata": {},
   "source": [
    "::::{figure} https://quantumspain-project.es/wp-content/uploads/2022/11/Logo_QS_EspanaDigital.png\n",
    ":width: 2000px\n",
    ":align: center\n",
    "::::\n",
    "\n",
    "<center>\n",
    "<img align=\"left\" src=\"https://quantumspain-project.es/wp-content/uploads/2024/02/Banner-QS_GOB_v2.png\" width=\"1000px\" />\n",
    "</center>"
   ]
  }
 ],
 "metadata": {
  "kernelspec": {
   "display_name": "Python 3 (ipykernel)",
   "language": "python",
   "name": "python3"
  },
  "language_info": {
   "codemirror_mode": {
    "name": "ipython",
    "version": 3
   },
   "file_extension": ".py",
   "mimetype": "text/x-python",
   "name": "python",
   "nbconvert_exporter": "python",
   "pygments_lexer": "ipython3",
   "version": "3.11.7"
  },
  "toc": {
   "base_numbering": 1,
   "nav_menu": {},
   "number_sections": false,
   "sideBar": true,
   "skip_h1_title": true,
   "title_cell": "Table of Contents",
   "title_sidebar": "Contents",
   "toc_cell": false,
   "toc_position": {},
   "toc_section_display": true,
   "toc_window_display": false
  }
 },
 "nbformat": 4,
 "nbformat_minor": 5
}