{
 "cells": [
  {
   "cell_type": "markdown",
   "id": "8ddaeb38",
   "metadata": {},
   "source": [
    "> {sub-ref}`today` | {sub-ref}`wordcount-minutes` min read\n",
    "\n",
    "::::{figure} Figuras/Fig_logo_UMA_scbi.png\n",
    ":width: 2000px\n",
    ":align: center\n",
    "::::\n",
    "\n",
    "$ \\newcommand{\\bra}[1]{\\langle #1|} $\n",
    "$ \\newcommand{\\ket}[1]{|#1\\rangle} $\n",
    "$ \\newcommand{\\branew}[1]{\\langle #1|} $\n",
    "$ \\newcommand{\\ketnew}[1]{\\langle #1|} $\n",
    "$ \\newcommand{\\braket}[2]{\\langle #1|#2\\rangle} $\n",
    "$ \\newcommand{\\ketbra}[2]{| #1\\rangle \\langle #2 |} $\n",
    "$ \\newcommand{\\i}{{\\color{blue} i}} $ \n",
    "$ \\newcommand{\\Hil}{{\\cal H}} $\n",
    "$ \\newcommand{\\cg}[1]{{\\rm C}#1} $\n",
    "$ \\newcommand{\\lp}{\\left(} $\n",
    "$ \\newcommand{\\rp}{\\right)} $\n",
    "$ \\newcommand{\\lc}{\\left[} $\n",
    "$ \\newcommand{\\rc}{\\right]} $\n",
    "$ \\newcommand{\\lch}{\\left\\{} $\n",
    "$ \\newcommand{\\rch}{\\right\\}} $\n",
    "$ \\newcommand{\\Lp}{\\Bigl(} $\n",
    "$ \\newcommand{\\Rp}{\\Bigr)} $\n",
    "$ \\newcommand{\\Lc}{\\Bigl[} $\n",
    "$ \\newcommand{\\Rc}{\\Bigr]} $\n",
    "$ \\newcommand{\\Lch}{\\Bigl\\{} $\n",
    "$ \\newcommand{\\Rch}{\\Bigr\\}} $\n",
    "$ \\newcommand{\\rqa}{\\quad \\Rightarrow \\quad} $\n",
    "$ \\newcommand{\\bm}{\\boldsymbol}$"
   ]
  },
  {
   "cell_type": "markdown",
   "id": "080fe82e",
   "metadata": {},
   "source": [
    "# Bases ortogonales\n"
   ]
  },
  {
   "cell_type": "markdown",
   "id": "0d8a34d4",
   "metadata": {},
   "source": [
    "En Mecánica Cuántica especificamos un estado usando las componentes de la expansión del mismo en una base ortogonal. Existen infinitas bases posibles para expresar un vector. ¿Cuál es la mejor base? La respuesta es que depende del proceso que estudiemos.\n"
   ]
  },
  {
   "cell_type": "markdown",
   "id": "2370fcd6",
   "metadata": {},
   "source": [
    "Por ejemplo, si el proceso es la <i>medida</i> de un cierto observable $A = A^\\dagger$, según los postulados el resultado de nuestra medición sólo puede ser uno de los <i>valores propios</i> $\\lambda_i$\n",
    "\\begin{equation}\n",
    "A \\ket{\\lambda_k} = \\lambda_k \\ket{\\lambda_k} \\,,\n",
    "\\end{equation}\n",
    "donde $\\ket{\\lambda_k}$ son los autovectores $k = 1,2,\\dots$. Estos autovectores forman una base ortonormal (ver Ecs. (\\ref{ec_op_hermitico_autovec_ortonorm}) y (\\ref{ec_op_hermitico_autovec_ortogonal})). Esta es la base natural adaptaba al proceso de medida de $A$. En particular, para conocer con que probabilidad se producirá cada resultado, expandiremos el estado de la forma\n",
    "\\begin{equation}\n",
    "\\ket{\\psi} = \\sum_{i=1}^{N} a_i \\ket{\\lambda_i} \\, .\n",
    "\\end{equation}\n",
    "El axioma III (regla de Born) afirma que la <i>probabilidad de aparición</i> del resultado $\\lambda_i$ es precisamente\n",
    "\\begin{equation}\n",
    "p(\\lambda_i) = | \\braket{\\lambda_i}{\\psi} |^2 = |a_i|^2 \\, .\n",
    "\\end{equation}\n"
   ]
  },
  {
   "cell_type": "markdown",
   "id": "a0dab55f",
   "metadata": {},
   "source": [
    "La forma de tener acceso experimental a los números $p(\\lambda_i)$ es mediante la repetición estadística. Si efectuamos la medida un número $n$ de veces con $n \\rightarrow \\infty$, y contamos la frecuencia de aparición de los distintos $\\lambda_i$, esto es\n",
    "\\begin{equation}\n",
    "p(\\lambda_i) \\approx \\frac{n(\\lambda_i)}{n} \\, ,\n",
    "\\end{equation}\n",
    "en el límite $n \\rightarrow \\infty$ dicha frecuencia experimental convergerá a la probabilidad teórica\n",
    "\\begin{equation}\n",
    "\\lim_{n \\rightarrow \\infty} \\frac{n(\\lambda_i)}{n} = p(\\lambda_i) = | a_i |^2 \\, .\n",
    "\\end{equation}\n",
    "Vemos que, <i>mediante la repetición estadística, solamente podemos recuperar el módulo de las amplitudes</i>\n",
    "\\begin{equation}\n",
    "|a_i| = \\lim_{n \\rightarrow \\infty} \\sqrt{\\frac{n(\\lambda_i)}{n}}\n",
    "\\end{equation}\n"
   ]
  },
  {
   "cell_type": "markdown",
   "id": "7b14d4cd",
   "metadata": {},
   "source": [
    "::::::{admonition} Ejercicio\n",
    ":class: tip\n",
    "\n",
    "\n",
    "Generalizar las expresiones anteriores al caso en que los autovalores $\\lambda_k$ puedan ser $d_k$ veces degenerados.\n",
    "::::::\n",
    "\n",
    "\n"
   ]
  },
  {
   "cell_type": "markdown",
   "id": "8534e04c",
   "metadata": {},
   "source": [
    "::::{figure} https://quantumspain-project.es/wp-content/uploads/2022/11/Logo_QS_EspanaDigital.png\n",
    ":width: 2000px\n",
    ":align: center\n",
    "::::\n",
    "\n",
    "<center>\n",
    "<img align=\"left\" src=\"https://quantumspain-project.es/wp-content/uploads/2024/02/Banner-QS_GOB_v2.png\" width=\"1000px\" />\n",
    "</center>"
   ]
  }
 ],
 "metadata": {
  "kernelspec": {
   "display_name": "Python 3 (ipykernel)",
   "language": "python",
   "name": "python3"
  },
  "language_info": {
   "codemirror_mode": {
    "name": "ipython",
    "version": 3
   },
   "file_extension": ".py",
   "mimetype": "text/x-python",
   "name": "python",
   "nbconvert_exporter": "python",
   "pygments_lexer": "ipython3",
   "version": "3.11.7"
  },
  "toc": {
   "base_numbering": 1,
   "nav_menu": {},
   "number_sections": false,
   "sideBar": true,
   "skip_h1_title": true,
   "title_cell": "Table of Contents",
   "title_sidebar": "Contents",
   "toc_cell": false,
   "toc_position": {},
   "toc_section_display": true,
   "toc_window_display": false
  }
 },
 "nbformat": 4,
 "nbformat_minor": 5
}