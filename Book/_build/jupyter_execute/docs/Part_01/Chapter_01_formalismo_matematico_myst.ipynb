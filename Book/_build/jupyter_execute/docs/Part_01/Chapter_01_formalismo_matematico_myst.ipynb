{
 "cells": [
  {
   "cell_type": "markdown",
   "id": "cc01babf",
   "metadata": {},
   "source": [
    "> {sub-ref}`today` | {sub-ref}`wordcount-words` words | {sub-ref}`wordcount-minutes` min read\n",
    "\n",
    "(sec_Formalismo_Matematico)=\n",
    "# Formalismo Matemático\n",
    "\n",
    "Aquí vamos a explicar las herramientas matemáticas necesarias para la computación cuántica.\n",
    "\n",
    "```{tableofcontents}\n",
    "```"
   ]
  },
  {
   "cell_type": "markdown",
   "id": "7049f9fc",
   "metadata": {},
   "source": [
    "::::{figure} Figuras/Fig_subfig_formalismo_nums_en_plano_complejo.png\n",
    ":width: 1000px\n",
    ":align: center\n",
    "Representaciones de números en el plano complejo.\n",
    ":name: Fig_formalismo_conjugación \n",
    "::::"
   ]
  },
  {
   "cell_type": "markdown",
   "id": "e04a84c3",
   "metadata": {},
   "source": [
    "{ref}`Fig_formalismo_Complex_number_illustration`\n",
    "{ref}`Fig_formalismo_Complex_number_illustration_modarg`\n",
    "{ref}`Fig_formalismo_conjugación`\n",
    "\n",
    "{numref}`Fig_formalismo_Complex_number_illustration`\n",
    "{numref}`Fig_formalismo_Complex_number_illustration_modarg`\n",
    "{numref}`Fig_formalismo_conjugación`"
   ]
  }
 ],
 "metadata": {
  "jupytext": {
   "text_representation": {
    "extension": ".md",
    "format_name": "myst",
    "format_version": 0.13,
    "jupytext_version": "1.16.1"
   }
  },
  "kernelspec": {
   "display_name": "Python 3 (ipykernel)",
   "language": "python",
   "name": "python3"
  },
  "source_map": [
   12,
   24,
   33
  ]
 },
 "nbformat": 4,
 "nbformat_minor": 5
}