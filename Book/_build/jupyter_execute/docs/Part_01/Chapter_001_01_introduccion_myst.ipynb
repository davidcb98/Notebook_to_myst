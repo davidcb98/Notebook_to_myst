{
 "cells": [
  {
   "cell_type": "markdown",
   "id": "8ddaeb38",
   "metadata": {},
   "source": [
    "> {sub-ref}`today` | {sub-ref}`wordcount-minutes` min read\n",
    "\n",
    "::::{figure} Figuras/Fig_logo_UMA_scbi.png\n",
    ":width: 2000px\n",
    ":align: center\n",
    "::::\n",
    "\n",
    "$ \\newcommand{\\bra}[1]{\\langle #1|} $\n",
    "$ \\newcommand{\\ket}[1]{|#1\\rangle} $\n",
    "$ \\newcommand{\\branew}[1]{\\langle #1|} $\n",
    "$ \\newcommand{\\ketnew}[1]{\\langle #1|} $\n",
    "$ \\newcommand{\\braket}[2]{\\langle #1|#2\\rangle} $\n",
    "$ \\newcommand{\\ketbra}[2]{| #1\\rangle \\langle #2 |} $\n",
    "$ \\newcommand{\\i}{{\\color{blue} i}} $ \n",
    "$ \\newcommand{\\Hil}{{\\cal H}} $\n",
    "$ \\newcommand{\\cg}[1]{{\\rm C}#1} $\n",
    "$ \\newcommand{\\lp}{\\left(} $\n",
    "$ \\newcommand{\\rp}{\\right)} $\n",
    "$ \\newcommand{\\lc}{\\left[} $\n",
    "$ \\newcommand{\\rc}{\\right]} $\n",
    "$ \\newcommand{\\lch}{\\left\\{} $\n",
    "$ \\newcommand{\\rch}{\\right\\}} $\n",
    "$ \\newcommand{\\Lp}{\\Bigl(} $\n",
    "$ \\newcommand{\\Rp}{\\Bigr)} $\n",
    "$ \\newcommand{\\Lc}{\\Bigl[} $\n",
    "$ \\newcommand{\\Rc}{\\Bigr]} $\n",
    "$ \\newcommand{\\Lch}{\\Bigl\\{} $\n",
    "$ \\newcommand{\\Rch}{\\Bigr\\}} $\n",
    "$ \\newcommand{\\rqa}{\\quad \\Rightarrow \\quad} $\n",
    "$ \\newcommand{\\bm}{\\boldsymbol}$"
   ]
  },
  {
   "cell_type": "markdown",
   "id": "080fe82e",
   "metadata": {},
   "source": [
    "# Introducción\n"
   ]
  },
  {
   "cell_type": "markdown",
   "id": "c6e202e9",
   "metadata": {},
   "source": [
    "En estas notas vamos a ver una introducción a la Computación Cuántica y los algoritmos cuánticos más famosos. En las mismas, se presentará todo lo necesario para entender estos algoritmos suponiendo que el lector no tiene conocimiento alguno sobre Mecánica Cuántica ni Computación Cuántica.\n"
   ]
  },
  {
   "cell_type": "markdown",
   "id": "3896c3c9",
   "metadata": {},
   "source": [
    "La parte \\ref{part_conceptos_basicos} de estas notas se dedica a introducir los Conceptos Básicos necesarios para entender el resto de las mismas. Esto incluye una introducción al formalismo matemático (capítulo \\ref{cap_formalismo}), donde se verán los conceptos matemáticos necesarios para abordar el segundo capítulo de esta parte, una introducción a la Mecánica Cuántica (capitulo \\ref{cap_fundamentos}).\n"
   ]
  },
  {
   "cell_type": "markdown",
   "id": "d278ffa9",
   "metadata": {},
   "source": [
    "Después de estos dos capítulos introductorios, pasamos a la parte \\ref{part_fundamentos_cc}, donde damos una introducción a las Fundamentos de la Computación Cuántica: qúbits, puertas, medidas, circuitos, hardware, decoherencia, $\\dots$.\n"
   ]
  },
  {
   "cell_type": "markdown",
   "id": "02b543b1",
   "metadata": {},
   "source": [
    "Finalmente, cerramos las notas con la parte \\ref{part_algoritmos}, donde presentando de forma detallada los algoritmos más famosos. Esto incluye el algoritmo de Quantum Fourier Transform (capítulo \\ref{chapter_QFT}), el de Estimación Cuántica de Fase (capítulo \\ref{chapter_QPE}) y los archiconocidos algoritmos de Grover (capítulo \\ref{chapter_Grover}) y Shor (capitulo \\ref{chapter_Shor}). Además hablaremos también de Criptografía y Quantum Key Distribution (capítulo \\ref{chapter_QKD}).\n"
   ]
  },
  {
   "cell_type": "markdown",
   "id": "2edba9bc",
   "metadata": {},
   "source": [
    "Como veremos a lo largo de estas notas, los algoritmo en computación cuántica se basan en construir <b>circuitos cuánticos</b> a los que añadimos <b>puertas cuánticas</b>. A estos circuito se les pasa como entrada un <b>estado cuántico</b>. Las puertas de circuito operan sobre el estado y nos devuelven otro estado cuántico. Este último representará la solución de nuestro problema, mientras que el circuito representa el <b>algoritmo cuántico</b> que se usa para hallar la solución. La idea es bastante similar a la de la computación clásica, donde se parte de una cadena bit, se aplican una serie de puertas lógicas (AND, OR, NOT,...) y se obtiene otra cadena de bits que codifica la solución.\n"
   ]
  },
  {
   "cell_type": "markdown",
   "id": "b466c50d",
   "metadata": {},
   "source": [
    "Como veremos más adelante, la computación cuántica (al igual que la clásica) es un paradigma de <b>computación universal</b>. Es decir, al menos sobre el papel, todo lo que se puede calcular con un ordenador clásico (todo lo que es <b>computable</b>), se puede calcular con un ordenador cuántico. La gran diferencia entre estos dos modelos es que el primero aprovecha las propiedades exóticas de la mecánica cuántica (superposición y entrelazamiento) para plantear algoritmo más rápidos que los clásicos. De esta forma, la computación cuántica tiene el potencial de acelerar ciertos cálculos.\n"
   ]
  },
  {
   "cell_type": "markdown",
   "id": "ec9ab02a",
   "metadata": {},
   "source": [
    "::::::{admonition} Nota (Paradigmas de Computación Cuántica) \n",
    ":class: note\n",
    "\n",
    "\n",
    "\n",
    "Habitualmente cuando se habla de <b>computación cuántica</b> se suele hablar de la <b>Computación Cuántica basada en Puertas</b>. Los otros dos paradigmas de computación cuántica son la <b>Computación Cuántica Adiabática</b> y el <b>Quantum Anneling</b>. Los dos primeros son paradigmas de computaciónuniversal mientras que el Quantum Anneling no lo es. \n",
    "\n",
    "En estas notas hablaremos solo de Computación Cuántica basada en Puertas, a partir de ahora simplementecomputación cuántica o QC (del inglés, Quantum Computing).\n",
    "::::::\n"
   ]
  },
  {
   "cell_type": "markdown",
   "id": "8534e04c",
   "metadata": {},
   "source": [
    "::::{figure} https://quantumspain-project.es/wp-content/uploads/2022/11/Logo_QS_EspanaDigital.png\n",
    ":width: 2000px\n",
    ":align: center\n",
    "::::\n",
    "\n",
    "<center>\n",
    "<img align=\"left\" src=\"https://quantumspain-project.es/wp-content/uploads/2024/02/Banner-QS_GOB_v2.png\" width=\"1000px\" />\n",
    "</center>"
   ]
  }
 ],
 "metadata": {
  "kernelspec": {
   "display_name": "Python 3 (ipykernel)",
   "language": "python",
   "name": "python3"
  },
  "language_info": {
   "codemirror_mode": {
    "name": "ipython",
    "version": 3
   },
   "file_extension": ".py",
   "mimetype": "text/x-python",
   "name": "python",
   "nbconvert_exporter": "python",
   "pygments_lexer": "ipython3",
   "version": "3.11.7"
  },
  "toc": {
   "base_numbering": 1,
   "nav_menu": {},
   "number_sections": false,
   "sideBar": true,
   "skip_h1_title": true,
   "title_cell": "Table of Contents",
   "title_sidebar": "Contents",
   "toc_cell": false,
   "toc_position": {},
   "toc_section_display": true,
   "toc_window_display": false
  }
 },
 "nbformat": 4,
 "nbformat_minor": 5
}