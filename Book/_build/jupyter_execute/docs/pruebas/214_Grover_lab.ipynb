{
 "cells": [
  {
   "cell_type": "markdown",
   "id": "36a4f9fa",
   "metadata": {
    "slideshow": {
     "slide_type": "subslide"
    }
   },
   "source": [
    "> {sub-ref}`today` | {sub-ref}`wordcount-words` words | {sub-ref}`wordcount-minutes` min read\n",
    "\n",
    "::::{figure} ../thumbnails/myThumbnail.png\n",
    ":width: 1000px\n",
    ":align: center\n",
    "::::\n",
    "\n",
    "# Algoritmo de Grover\n",
    "\n",
    "\n",
    "\n",
    "$ \\newcommand{\\bra}[1]{\\langle #1|} $\n",
    "$ \\newcommand{\\ket}[1]{|#1\\rangle} $\n",
    "$ \\newcommand{\\braket}[2]{\\langle #1|#2\\rangle} $\n",
    "$ \\newcommand{\\i}{{\\color{blue} i}} $ \n",
    "$ \\newcommand{\\Hil}{{\\cal H}} $\n",
    "$ \\newcommand{\\cg}[1]{{\\rm C}#1} $\n",
    "\n"
   ]
  },
  {
   "cell_type": "markdown",
   "id": "8bfc9c32",
   "metadata": {
    "slideshow": {
     "slide_type": "skip"
    }
   },
   "source": [
    "\n",
    "- [Una aguja en un pajar](#aguja)\n",
    "\n",
    "- [Una aguja en un pajar 2](#aguja_2)\n",
    "\n",
    "- [Más agujas en un pajar](#agujas)\n",
    "\n",
    "\n",
    "- [Contaje cuántico](#contcuan)\n",
    "\n"
   ]
  },
  {
   "cell_type": "code",
   "execution_count": 1,
   "id": "2b0c0215",
   "metadata": {
    "slideshow": {
     "slide_type": "slide"
    }
   },
   "outputs": [],
   "source": [
    "%run ../macro_tQ.py"
   ]
  },
  {
   "cell_type": "markdown",
   "id": "e936014f",
   "metadata": {
    "slideshow": {
     "slide_type": "slide"
    }
   },
   "source": [
    "<a id='aguja'></a>\n",
    "<table width=\"100%\">\n",
    "    <td style=\"font-size:550%px;font-family:Helvetica;text-align:left;background-color:rgba(0,0,900, 0.3);\">\n",
    "<b> Una aguja en un pajar 2 </b>\n",
    "</table>   "
   ]
  },
  {
   "cell_type": "markdown",
   "id": "f5976641-8423-4a4c-8f3f-f15e63114eb3",
   "metadata": {},
   "source": [
    "::::{card} \n",
    "**Definición/Teorema/Lema**: *subtitulo del Teorema/lema/definición* \n",
    "\n",
    "^^^\n",
    "<br>\n",
    "Plantilla de Teorema, Lema o definición.\n",
    "<br> \n",
    "Debe de quedar una de las tres palabras del título: Definición, Teorema o Lema\n",
    "<br>   \n",
    "La demostración/prueba/... es opcional. Puede borrarse todo el texto de a continuación, dejando el div del final!!! (la última linea)\n",
    "\n",
    "    \n",
    ":::{dropdown} Demostración/Prueba/...\n",
    "\n",
    "TEXTO AQUÍ\n",
    "    \n",
    ":::\n",
    "::::\n",
    "\n",
    "Mas texto"
   ]
  },
  {
   "cell_type": "markdown",
   "id": "3d5e9030-1173-429e-acbd-c1156e9b68da",
   "metadata": {},
   "source": [
    "::::{admonition} Nota (Subtitulo de la nota) \n",
    ":class: note\n",
    "\n",
    "\n",
    "<br>     \n",
    "Plantilla de Nota\n",
    "<br>    \n",
    "El titulo debe de ser Nota\n",
    "<br> \n",
    "La demostración/prueba/... es opcional. Puede borrarse todo el texto de a continuación, dejando el div del final!!! (la última linea)\n",
    "\n",
    ":::{dropdown} Demostración/Prueba/...\n",
    "\n",
    "TEXTO AQUÍ\n",
    "    \n",
    ":::\n",
    "::::\n"
   ]
  },
  {
   "cell_type": "markdown",
   "id": "fd7aedf1-00c3-4863-9eac-9d34bec3a4ba",
   "metadata": {},
   "source": [
    "::::{admonition} Ejercicio/Ejemplo (Subtitulo del ejercicio/ejemplo) \n",
    ":class: tip\n",
    "\n",
    "\n",
    "<br>        \n",
    "Plantilla de Ejercicios y Ejemplos\n",
    "<br>     \n",
    "Debe de quedar una de las dos palabras del título: Ejercicio o Ejemplo\n",
    "<br> \n",
    "La solución/pista/... es opcional. Puede borrarse todo el texto de a continuación, dejando el div del final!!! (la última linea)\n",
    "<br> \n",
    "\n",
    ":::{dropdown} Solución/Pista/...\n",
    "\n",
    "TEXTO AQUÍ\n",
    "    \n",
    ":::\n",
    "::::\n"
   ]
  },
  {
   "cell_type": "markdown",
   "id": "22db6072-31e4-4978-b944-f91340ebc007",
   "metadata": {},
   "source": [
    "<a id='aguja_2'></a>\n",
    "## Una aguja en un pajar"
   ]
  },
  {
   "cell_type": "markdown",
   "id": "b34b022f-bcb7-4836-be17-55f51a8291f8",
   "metadata": {},
   "source": [
    "::::{card} \n",
    "**Lema**:  \n",
    "^^^\n",
    "<br>    \n",
    "El cúbit $\\ket{u}$  <i> más general</i> se puede representar, en la base computacional $\\{\\ket{0},\\ket{1}\\}$, usando dos números reales (ángulos) $\\theta\\in [0,\\pi)$ y $\\varphi\\in [0,2\\pi)$   \n",
    "<br>\n",
    "<br>\n",
    "$$\n",
    "|u\\rangle = \\cos{\\frac{\\theta}{2}}\\, |0\\rangle + e^{i\\phi}\\sin{\\frac{\\theta}{2}}\\,|1\\rangle \n",
    "$$\n",
    "\n",
    "    \n",
    ":::{dropdown} Demostración\n",
    "Para demostrar el lema escribimos un vector de estado general usando la representación polar para las componentes complejas\n",
    "    \n",
    "$$\n",
    "\\begin{array}{rcl}\n",
    "\\ket{u} &=& u_0\\ket{0} + u_1\\ket{1} \\\\\n",
    "&=& a_0 e^{i b_0}\\ket{0} + a_1 e^{ib_1}\\ket{1}\\\\\n",
    "&=& e^{i b_0}\\big(a_0 \\ket{0} + a_1 e^{i(b_1-b_0)}\\ket{1}\\big)\\\\\n",
    "&\\sim & \\big( a_0 \\ket{0} + a_1 e^{i(b_1-b_0)}\\ket{1} \\big)\n",
    "\\end{array}\n",
    "$$\n",
    "    \n",
    "donde hemos hecho uso de la irrelevancia de una fase global para descartar $e^{i b_0}$ en la última línea.\n",
    "\n",
    "Ahora $a_1$ y $a_0$ no son números independientes sino que verifican $a_0^2 + a_1^2 = 0$ para que $\\|\\ket{u}\\|=1$.\n",
    "Esta ecuación se puede resolver en términos de un ángulo $\\theta/2$ tal que\n",
    "$$\n",
    "a_0 = \\cos\\frac{\\theta}{2}~~~,~~~ a_1 = \\sin\\frac{\\theta}{2} \n",
    "$$\n",
    "Por su parte, de los números $b_1, b_2$ sólo la diferencia\n",
    "$$\n",
    "\\varphi = b_1-b_2\n",
    "$$\n",
    "es relevante para especificar $\\ket{u}$.   \n",
    ":::\n",
    "::::\n"
   ]
  },
  {
   "cell_type": "markdown",
   "id": "f8573d57-0d45-4467-b529-ed81f10326d4",
   "metadata": {},
   "source": [
    "::::{card} \n",
    "**Teorema**: *subtitulo del teorema* \n",
    "^^^\n",
    "<br>    \n",
    "El cúbit $\\ket{u}$  <i> más general</i> se puede representar, en la base computacional $\\{\\ket{0},\\ket{1}\\}$, usando dos números reales (ángulos) $\\theta\\in [0,\\pi)$ y $\\varphi\\in [0,2\\pi)$   \n",
    "<br>\n",
    "<br>\n",
    "$$\n",
    "|u\\rangle = \\cos{\\frac{\\theta}{2}}\\, |0\\rangle + e^{i\\phi}\\sin{\\frac{\\theta}{2}}\\,|1\\rangle \n",
    "$$\n",
    "\n",
    ":::{dropdown} Demostración\n",
    "Para demostrar el lema escribimos un vector de estado general usando la representación polar para las componentes complejas\n",
    "    \n",
    "$$\n",
    "\\begin{array}{rcl}\n",
    "\\ket{u} &=& u_0\\ket{0} + u_1\\ket{1} \\\\\n",
    "&=& a_0 e^{i b_0}\\ket{0} + a_1 e^{ib_1}\\ket{1}\\\\\n",
    "&=& e^{i b_0}\\big(a_0 \\ket{0} + a_1 e^{i(b_1-b_0)}\\ket{1}\\big)\\\\\n",
    "&\\sim & \\big( a_0 \\ket{0} + a_1 e^{i(b_1-b_0)}\\ket{1} \\big)\n",
    "\\end{array}\n",
    "$$\n",
    "    \n",
    "donde hemos hecho uso de la irrelevancia de una fase global para descartar $e^{i b_0}$ en la última línea.\n",
    "\n",
    "Ahora $a_1$ y $a_0$ no son números independientes sino que verifican $a_0^2 + a_1^2 = 0$ para que $\\|\\ket{u}\\|=1$.\n",
    "Esta ecuación se puede resolver en términos de un ángulo $\\theta/2$ tal que\n",
    "$$\n",
    "a_0 = \\cos\\frac{\\theta}{2}~~~,~~~ a_1 = \\sin\\frac{\\theta}{2} \n",
    "$$\n",
    "Por su parte, de los números $b_1, b_2$ sólo la diferencia\n",
    "$$\n",
    "\\varphi = b_1-b_2\n",
    "$$\n",
    "es relevante para especificar $\\ket{u}$.   \n",
    ":::\n",
    "::::\n"
   ]
  },
  {
   "cell_type": "markdown",
   "id": "c024b41a-94ed-4b1b-9a08-57f53d6e9dbc",
   "metadata": {},
   "source": [
    "::::{card} \n",
    "**Definición**:  \n",
    "^^^\n",
    "<br>    \n",
    "El cúbit $\\ket{u}$  <i> más general</i> se puede representar, en la base computacional $\\{\\ket{0},\\ket{1}\\}$, usando dos números reales (ángulos) $\\theta\\in [0,\\pi)$ y $\\varphi\\in [0,2\\pi)$   \n",
    "<br>\n",
    "<br>\n",
    "$$\n",
    "|u\\rangle = \\cos{\\frac{\\theta}{2}}\\, |0\\rangle + e^{i\\phi}\\sin{\\frac{\\theta}{2}}\\,|1\\rangle \n",
    "$$\n",
    "\n",
    ":::{dropdown} Demostración\n",
    "Para demostrar el lema escribimos un vector de estado general usando la representación polar para las componentes complejas\n",
    "    \n",
    "$$\n",
    "\\begin{array}{rcl}\n",
    "\\ket{u} &=& u_0\\ket{0} + u_1\\ket{1} \\\\\n",
    "&=& a_0 e^{i b_0}\\ket{0} + a_1 e^{ib_1}\\ket{1}\\\\\n",
    "&=& e^{i b_0}\\big(a_0 \\ket{0} + a_1 e^{i(b_1-b_0)}\\ket{1}\\big)\\\\\n",
    "&\\sim & \\big( a_0 \\ket{0} + a_1 e^{i(b_1-b_0)}\\ket{1} \\big)\n",
    "\\end{array}\n",
    "$$\n",
    "    \n",
    "donde hemos hecho uso de la irrelevancia de una fase global para descartar $e^{i b_0}$ en la última línea.\n",
    "\n",
    "Ahora $a_1$ y $a_0$ no son números independientes sino que verifican $a_0^2 + a_1^2 = 0$ para que $\\|\\ket{u}\\|=1$.\n",
    "Esta ecuación se puede resolver en términos de un ángulo $\\theta/2$ tal que\n",
    "$$\n",
    "a_0 = \\cos\\frac{\\theta}{2}~~~,~~~ a_1 = \\sin\\frac{\\theta}{2} \n",
    "$$\n",
    "Por su parte, de los números $b_1, b_2$ sólo la diferencia\n",
    "$$\n",
    "\\varphi = b_1-b_2\n",
    "$$\n",
    "es relevante para especificar $\\ket{u}$.   \n",
    ":::\n",
    "::::\n"
   ]
  },
  {
   "cell_type": "markdown",
   "id": "244c1fa7",
   "metadata": {
    "slideshow": {
     "slide_type": "skip"
    }
   },
   "source": [
    "::::{admonition} Nota\n",
    ":class: note\n",
    "\n",
    "\n",
    "-  el ángulo disminuye con el tamaño $N$ de la base de datos. Este ángulo es la amplitud de probabilidad de encontrar la solución $w$ después de una medida de $\\ket{s}$.\n",
    "    \n",
    "- Para $N\\to \\infty$ tenemos que $\\theta \\sim 1/\\sqrt{N}$\n",
    "::::\n"
   ]
  },
  {
   "cell_type": "markdown",
   "id": "0456ca29",
   "metadata": {},
   "source": [
    "::::{admonition} Nota (Subtitulo de la nota) \n",
    ":class: note\n",
    "\n",
    "\n",
    "-  el ángulo disminuye con el tamaño $N$ de la base de datos. Este ángulo es la amplitud de probabilidad de encontrar la solución $w$ después de una medida de $\\ket{s}$.\n",
    "    \n",
    "- Para $N\\to \\infty$ tenemos que $\\theta \\sim 1/\\sqrt{N}$\n",
    "::::\n"
   ]
  },
  {
   "cell_type": "markdown",
   "id": "b97ec3c7-919e-485c-8b37-1eee93517a99",
   "metadata": {},
   "source": [
    "::::{admonition} Ejercicio\n",
    ":class: tip\n",
    "\n",
    "\n",
    "Prueba esta igualdad   \n",
    "::::\n",
    "\n",
    "Mas texto"
   ]
  },
  {
   "cell_type": "markdown",
   "id": "da887b3c-ecc1-4c98-8af9-e52556da3ed3",
   "metadata": {
    "slideshow": {
     "slide_type": ""
    },
    "tags": []
   },
   "source": [
    "::::{admonition} Ejercicio\n",
    ":class: tip\n",
    "\n",
    "prueba esta igualdad\n",
    "\n",
    ":::{dropdown} Solución\n",
    "Para demostrar el lema escribimos un vector de estado general usando la representación polar para las componentes complejas\n",
    "    \n",
    "TEXTO\n",
    "\n",
    ":::\n",
    "::::\n"
   ]
  },
  {
   "cell_type": "markdown",
   "id": "9ee7acf8-4e1b-4e3f-abeb-10f302455789",
   "metadata": {
    "slideshow": {
     "slide_type": ""
    },
    "tags": []
   },
   "source": [
    "::::{card} \n",
    "**Lema**:  \n",
    "\n",
    "^^^\n",
    "<br>\n",
    "Sea $\\ket{\\psi}$ un vector <i>preparable</i> en la forma  $\\ket{\\psi} = V\\ket{0}$. El reflector paralelo a $\\ket{\\psi}$ es\n",
    "<br>\n",
    "<br>\n",
    "$$\n",
    "R_\\psi = I - 2\\ket{\\psi}\\bra{\\psi} = V \\left( I - 2\\ket{0}\\bra{0}\\rule{0mm}{6mm} \\right) V^\\dagger = V R_0 V^\\dagger\n",
    "$$\n",
    "::::\n"
   ]
  },
  {
   "cell_type": "code",
   "execution_count": 2,
   "id": "c85b555b-f0d5-451f-8725-9c66b54f0276",
   "metadata": {
    "slideshow": {
     "slide_type": ""
    },
    "tags": []
   },
   "outputs": [],
   "source": [
    "import numpy\n",
    "import matplotlib"
   ]
  },
  {
   "cell_type": "code",
   "execution_count": 3,
   "id": "dd636ff9",
   "metadata": {
    "slideshow": {
     "slide_type": ""
    },
    "tags": [
     "Qiskit_code_cell"
    ]
   },
   "outputs": [],
   "source": [
    "'''Qiskit'''\n",
    "from qiskit.circuit.library import ZGate\n",
    "from qiskit import QuantumRegister, ClassicalRegister,QuantumCircuit\n",
    "\n",
    "def R0(n):    \n",
    "            \n",
    "    qr = QuantumRegister(n)\n",
    "    qc = QuantumCircuit(qr) \n",
    "    qc.x(n-1)\n",
    "    qc.append(ZGate().control(n-1,ctrl_state= 0),qr)\n",
    "    qc.x(n-1)\n",
    "    qcR0 =  qc.to_gate()\n",
    "    qcR0.name = 'R0'\n",
    "    return qcR0"
   ]
  },
  {
   "cell_type": "code",
   "execution_count": 4,
   "id": "3e9db9b1",
   "metadata": {
    "slideshow": {
     "slide_type": ""
    },
    "tags": [
     "Qibo_code_cell"
    ]
   },
   "outputs": [],
   "source": [
    "'''Qibo'''\n",
    "from qiskit.circuit.library import ZGate\n",
    "from qiskit import QuantumRegister, ClassicalRegister,QuantumCircuit\n",
    "\n",
    "def R0(n):    \n",
    "            \n",
    "    print(\"Qibo Code\")\n",
    "    return None\n"
   ]
  },
  {
   "cell_type": "code",
   "execution_count": 5,
   "id": "e1592385-329c-41a2-97b5-b4105b5467bc",
   "metadata": {
    "slideshow": {
     "slide_type": ""
    },
    "tags": []
   },
   "outputs": [
    {
     "name": "stdout",
     "output_type": "stream",
     "text": [
      "Hola mundo\n"
     ]
    }
   ],
   "source": [
    "import pandas\n",
    "print(\"Hola mundo\")"
   ]
  },
  {
   "cell_type": "markdown",
   "id": "f32bb419",
   "metadata": {
    "slideshow": {
     "slide_type": "fragment"
    },
    "tags": []
   },
   "source": [
    " \n",
    " \n",
    " El algoritmos de Grover permite efectuar esta tarea en un número de pasos que crece como   ${\\cal O}(\\sqrt{N})$.\n"
   ]
  },
  {
   "cell_type": "markdown",
   "id": "e954d422",
   "metadata": {
    "slideshow": {
     "slide_type": "slide"
    }
   },
   "source": [
    "::::{figure} ./figuras/Grover1.png\n",
    ":width: 1000px\n",
    ":align: center\n",
    "::::\n"
   ]
  },
  {
   "cell_type": "markdown",
   "id": "46f72406",
   "metadata": {
    "slideshow": {
     "slide_type": "slide"
    }
   },
   "source": [
    "La estrategia se basa en iterar una serie de operaciones que amplifiquen la amplitud de obtener el estado $\\ket{w}$.\n",
    "\n",
    "\n",
    "Geométricamente, cada *iteración de Grover* es una composición de dos [*reflectores*](../00_Formalismo/01_Operadores.ipynb#reflect) $~\n",
    "\\fbox{$G = R_{s_\\perp} R_w$}\n",
    "~$, donde\n",
    "\n",
    "$\\boxed{G = R_{s_\\perp} R_w}$\n",
    "\n",
    "<br>\n",
    "-  **el marcador**, $R_w$, produce una reflexión en la dirección *paralela* a  $\\ket{w}$\n",
    "\n",
    "$$\n",
    "R_w\\ket{s} ~=~ \\left( I - 2\\ket{w}\\bra{w}\\rule{0mm}{8mm}\\right)\\ket{s} ~ = ~ -\\frac{1}{\\sqrt{N}} \\ket{w} + \\sqrt{\\frac{N-1}{N}} \\ket{s^\\prime}\n",
    "$$\n",
    "\n",
    "::::{figure} ./figuras/Grover1.png\n",
    ":name: fig_ref_2\n",
    ":width: 300px\n",
    ":align: center\n",
    "Pie de foto de la figura\n",
    "::::\n",
    "\n",
    "\n",
    "La estrategia se basa en iterar una serie de operaciones que amplifiquen la amplitud de obtener el estado $\\ket{w}$.\n",
    "\n",
    "\n",
    "Geométricamente, cada *iteración de Grover* es una composición de dos [*reflectores*](../00_Formalismo/01_Operadores.ipynb#reflect) $~\n",
    "\\fbox{$G = R_{s_\\perp} R_w$}\n",
    "~$, donde\n",
    "\n",
    "$\\boxed{G = R_{s_\\perp} R_w}$\n",
    "\n",
    "<br>\n",
    "-  **el marcador**, $R_w$, produce una reflexión en la dirección *paralela* a  $\\ket{w}$\n",
    "\n",
    "$$\n",
    "R_w\\ket{s} ~=~ \\left( I - 2\\ket{w}\\bra{w}\\rule{0mm}{8mm}\\right)\\ket{s} ~ = ~ -\\frac{1}{\\sqrt{N}} \\ket{w} + \\sqrt{\\frac{N-1}{N}} \\ket{s^\\prime}\n",
    "$$"
   ]
  },
  {
   "cell_type": "markdown",
   "id": "798c006f",
   "metadata": {
    "slideshow": {
     "slide_type": "slide"
    }
   },
   "source": [
    "## Amplificación de amplitud"
   ]
  },
  {
   "cell_type": "markdown",
   "id": "e6e5df92",
   "metadata": {
    "slideshow": {
     "slide_type": "fragment"
    }
   },
   "source": [
    "La estrategia se basa en iterar una serie de operaciones que amplifiquen la amplitud de obtener el estado $\\ket{w}$.\n",
    "\n",
    "\n",
    "Geométricamente, cada *iteración de Grover* es una composición de dos [*reflectores*](../00_Formalismo/01_Operadores.ipynb#reflect) $~\n",
    "\\fbox{$G = R_{s_\\perp} R_w$}\n",
    "~$, donde\n",
    "\n",
    "$\\boxed{G = R_{s_\\perp} R_w}$\n",
    "\n",
    "<br>\n",
    "-  **el marcador**, $R_w$, produce una reflexión en la dirección *paralela* a  $\\ket{w}$\n",
    "\n",
    "$$\n",
    "R_w\\ket{s} ~=~ \\left( I - 2\\ket{w}\\bra{w}\\rule{0mm}{8mm}\\right)\\ket{s} ~ = ~ -\\frac{1}{\\sqrt{N}} \\ket{w} + \\sqrt{\\frac{N-1}{N}} \\ket{s^\\prime}\n",
    "$$"
   ]
  },
  {
   "cell_type": "markdown",
   "id": "d9e8c6c0",
   "metadata": {
    "slideshow": {
     "slide_type": "slide"
    }
   },
   "source": [
    "<center> \n",
    "<img src=\"./figuras/Grover2.png\" width='50%' style='margin:automatic'/>\n",
    "</center>\n"
   ]
  },
  {
   "cell_type": "markdown",
   "id": "5c61e1bb",
   "metadata": {},
   "source": [
    "Referenciamos la [figura](#fig_ref)"
   ]
  },
  {
   "cell_type": "markdown",
   "id": "7c36c090",
   "metadata": {
    "slideshow": {
     "slide_type": "slide"
    }
   },
   "source": [
    "::::{admonition} Nota\n",
    ":class: note\n",
    "\n",
    "$\\bullet$\n",
    "El marcador es la parte del algoritmo que <i>conoce</i> la solución. \n",
    "<br> \n",
    "    Podemos formalizar el <i>marcador</i> como la <i>consulta al oráculo</i> $O_f$ asociado a una función que  <i>reconoce</i> la solución cuando la ve\n",
    "<br>\n",
    "<br>\n",
    "\\begin{equation}\n",
    "f_w(x) = \\left\\{ \\begin{array}{lcc}\n",
    "             1 &   \\hbox{si}  & x = w \\\\\n",
    "              0 &  \\hbox{si} & x \\neq w \\end{array}\n",
    "   \\right..\n",
    "\\end{equation}\n",
    "    \n",
    "$\\bullet$  Al igual que cuando buscas una aguja en un pajar, saber cómo es una aguja no te ayuda a encontrarla,  si te encuentras con ella, reconocerla es una operacion de coste unidad. \n",
    "<br>\n",
    "<br>\n",
    "    \n",
    "$\\bullet$ La implementación de esta función es trivial porque sólo contiene un <i>min-term</i> $f_w(x=w)=1$. Podemos\n",
    "    implementar esta función como un <i>oráculo de fase</i>, preparando la ancilla en el estado $\\ket{-}$\n",
    "$$\n",
    "O_f \\ket{x}\\ket{-} = (-1)^{f_w(x)}\\ket{x}\\ket{-} ~= ~ \\left\\{ \\begin{array}{lcc}\n",
    "             -\\ket{x}\\ket{-} &   \\hbox{si}  & x = w \\\\ \\rule{0mm}{6mm}\n",
    "              \\, ~~\\ket{x}\\ket{-} &  \\hbox{si} & x \\neq w \\end{array}\n",
    "   \\right..\n",
    "$$\n",
    "\n",
    "En resumen cada reflexión $U_w$ es equivalente a una consulta al oráculo.\n",
    "    \n",
    "</b>\n",
    "::::\n"
   ]
  },
  {
   "cell_type": "markdown",
   "id": "a67f3fa0",
   "metadata": {
    "slideshow": {
     "slide_type": "fragment"
    }
   },
   "source": [
    "- el vector resultante sufre una rotación de ángulo $2\\theta$ en el  plano $\\{\\ket{w},\\ket{s'}\\}$. \n",
    "\n"
   ]
  },
  {
   "cell_type": "markdown",
   "id": "ce4b1144",
   "metadata": {
    "slideshow": {
     "slide_type": "fragment"
    }
   },
   "source": [
    "\n",
    "\n",
    "- la amplitud del estado $\\ket{w}$ aumenta a expensas de las amplitudes de los demás estados.\n"
   ]
  },
  {
   "cell_type": "markdown",
   "id": "f1ffd2a6",
   "metadata": {
    "slideshow": {
     "slide_type": "fragment"
    }
   },
   "source": [
    "- este hecho no depende de cómo sea $\\ket{s}$, por tanto: es cierto *para cada iteración* $G$ de Grover.\n",
    "\n",
    ":::{dropdown}  Demostración \n",
    "    \n",
    "La demostración consiste en relacionar los vectores resultantes de aplicar el operador de Grover $k$  y $k-1$ veces\n",
    "En general tendremos que \n",
    "\n",
    "$$\n",
    "G^k\\ket{s}  = a_k\\ket{w} + b_k \\ket{s^\\prime}\n",
    "$$\n",
    "\n",
    "para ciertos coeficientes $a_k, b_k$. Ahora operamos\n",
    "\n",
    "\\begin{eqnarray}\n",
    "G^k\\ket{s} & = &a_k\\ket{w} + b_k \\ket{s^\\prime} \\\\\n",
    "&=& -U_sU_w\\left(a_{k-1}\\ket{w} + b_{k-1} \\ket{s^\\prime}\\right) \\\\\n",
    "&=& \\left( 2 \\ket{s}\\bra{s} -I \\right)\\left(-a_{k-1}\\ket{w} + b_{k-1}\\ket{s^\\prime}\\right)\\\\\n",
    "&=& \\left(a_{k-1}\\ket{w} - b_{k-1}\\ket{s^\\prime}\\right) + 2\\ket{s} \\left(-a_{k-1}\\braket{s}{w}+b_{k-1}\\braket{s}{s^\\prime}\\right) \\\\\n",
    "&=& a_{k-1}\\ket{w} - b_{k-1}\\ket{s^\\prime} + 2\\left(\\frac{1}{\\sqrt{N}}\\ket{w} + \\sqrt{\\frac{N-1}{N}}\\ket{s^\\prime}\\right) \\left(-a_{k-1}\\frac{1}{\\sqrt{N}}+b_{k-1}\\sqrt{\\frac{N-1}{N}}\\right) \\\\\n",
    "&=&\\left(a_{k-1} - \\frac{2}{N} a_{k-1} + 2\\frac{\\sqrt{N-1}}{N}\\right)\\ket{w} + \\left(b_{k-1} - 2\\frac{\\sqrt{N-1}}{N}a_{k-1} + 2\\frac{N-1}{N}b_{k-1}\\right)\\ket{s^\\prime}.\n",
    "\\end{eqnarray}\n",
    "    \n",
    "Agrupando términos, esta ecuación se puede escribir en forma matricial como\n",
    "\n",
    "$$\n",
    "\\begin{bmatrix}\n",
    "a_k\\\\\n",
    "b_k\n",
    "\\end{bmatrix}\n",
    "=\n",
    "\\begin{bmatrix}\n",
    "\\frac{N-2}{N} & 2\\frac{\\sqrt{N-1}}{N}\\\\\n",
    "-2\\frac{\\sqrt{N-1}}{N} & \\frac{N-2}{N}\n",
    "\\end{bmatrix}\n",
    "\\begin{bmatrix}\n",
    "a_{k-1}\\\\\n",
    "b_{k-1}\n",
    "\\end{bmatrix}.\n",
    "$$\n",
    "    \n",
    "Es sencillo ver que esta matriz tiene determinante unidad, es decir, ha de ser una matriz de rotación\n",
    "    \n",
    "$$\\text{det}(G)=\\frac{\\left(N-2\\right)^2}{N^2} + 4\\frac{N-1}{N^2} = \\frac{N^2 - 4N + 4}{N^2} + \\frac{4N-4}{N^2} = 1$$\n",
    "    \n",
    "Recordando\n",
    "    \n",
    "$$\\sin{\\theta} = \\frac{1}{\\sqrt{N}}~~~\\Rightarrow ~~~\\cos{\\theta} = \\sqrt{\\frac{N-1}{N}} $$\n",
    "\n",
    "$$\\cos^2{\\theta} - \\sin^2{\\theta} = \\frac{N-2}{N} = \\cos{2\\theta}$$\n",
    "    \n",
    "$$2\\sin{\\theta}\\cos{\\theta} =2\\frac{\\sqrt{N-2}}{N}= \\sin{2\\theta}$$\n",
    "    \n",
    "se llega a\n",
    "    \n",
    "$$G=\\begin{bmatrix}\n",
    "\\cos{2\\theta} & \\sin{2\\theta}\\\\\n",
    "-\\sin{2\\theta} & \\cos{2\\theta}\n",
    "\\end{bmatrix}$$\n",
    "\n",
    "Esta es una matriz de rotación que gira un ángulo $2\\theta$ en sentido antihorario. Es elementar comprobar que\n",
    "\n",
    "$$\n",
    "G^2  = \\begin{bmatrix}\n",
    "\\cos{4\\theta} & \\sin{4\\theta}\\\\\n",
    "-\\sin{4\\theta} & \\cos{4\\theta} \n",
    "\\end{bmatrix}\n",
    "\\hspace{1cm}... \\hspace{1cm}\n",
    "G^k = \\begin{bmatrix}\n",
    "\\cos{2k\\theta} & \\sin{2k\\theta}\\\\\n",
    "-\\sin{2k\\theta} & \\cos{2k\\theta}\n",
    "\\end{bmatrix}\n",
    "$$\n",
    ":::\n"
   ]
  },
  {
   "cell_type": "markdown",
   "id": "c108f2e5-3bad-47a4-97d7-cf342fa2073e",
   "metadata": {},
   "source": [
    ":::{dropdown}  Demostración \n",
    "    \n",
    "La demostración consiste en relacionar los vectores resultantes de aplicar el operador de Grover $k$  y $k-1$ veces\n",
    "En general tendremos que \n",
    "\n",
    "$$\n",
    "G^k\\ket{s}  = a_k\\ket{w} + b_k \\ket{s^\\prime}\n",
    "$$\n",
    "\n",
    "para ciertos coeficientes $a_k, b_k$. Ahora operamos\n",
    "\n",
    "\\begin{eqnarray}\n",
    "G^k\\ket{s} & = &a_k\\ket{w} + b_k \\ket{s^\\prime} \\\\\n",
    "&=& -U_sU_w\\left(a_{k-1}\\ket{w} + b_{k-1} \\ket{s^\\prime}\\right) \\\\\n",
    "&=& \\left( 2 \\ket{s}\\bra{s} -I \\right)\\left(-a_{k-1}\\ket{w} + b_{k-1}\\ket{s^\\prime}\\right)\\\\\n",
    "&=& \\left(a_{k-1}\\ket{w} - b_{k-1}\\ket{s^\\prime}\\right) + 2\\ket{s} \\left(-a_{k-1}\\braket{s}{w}+b_{k-1}\\braket{s}{s^\\prime}\\right) \\\\\n",
    "&=& a_{k-1}\\ket{w} - b_{k-1}\\ket{s^\\prime} + 2\\left(\\frac{1}{\\sqrt{N}}\\ket{w} + \\sqrt{\\frac{N-1}{N}}\\ket{s^\\prime}\\right) \\left(-a_{k-1}\\frac{1}{\\sqrt{N}}+b_{k-1}\\sqrt{\\frac{N-1}{N}}\\right) \\\\\n",
    "&=&\\left(a_{k-1} - \\frac{2}{N} a_{k-1} + 2\\frac{\\sqrt{N-1}}{N}\\right)\\ket{w} + \\left(b_{k-1} - 2\\frac{\\sqrt{N-1}}{N}a_{k-1} + 2\\frac{N-1}{N}b_{k-1}\\right)\\ket{s^\\prime}.\n",
    "\\end{eqnarray}\n",
    "    \n",
    "Agrupando términos, esta ecuación se puede escribir en forma matricial como\n",
    "\n",
    "$$\n",
    "\\begin{bmatrix}\n",
    "a_k\\\\\n",
    "b_k\n",
    "\\end{bmatrix}\n",
    "=\n",
    "\\begin{bmatrix}\n",
    "\\frac{N-2}{N} & 2\\frac{\\sqrt{N-1}}{N}\\\\\n",
    "-2\\frac{\\sqrt{N-1}}{N} & \\frac{N-2}{N}\n",
    "\\end{bmatrix}\n",
    "\\begin{bmatrix}\n",
    "a_{k-1}\\\\\n",
    "b_{k-1}\n",
    "\\end{bmatrix}.\n",
    "$$\n",
    "    \n",
    "Es sencillo ver que esta matriz tiene determinante unidad, es decir, ha de ser una matriz de rotación\n",
    "    \n",
    "$$\\text{det}(G)=\\frac{\\left(N-2\\right)^2}{N^2} + 4\\frac{N-1}{N^2} = \\frac{N^2 - 4N + 4}{N^2} + \\frac{4N-4}{N^2} = 1$$\n",
    "    \n",
    "Recordando\n",
    "    \n",
    "$$\\sin{\\theta} = \\frac{1}{\\sqrt{N}}~~~\\Rightarrow ~~~\\cos{\\theta} = \\sqrt{\\frac{N-1}{N}} $$\n",
    "\n",
    "$$\\cos^2{\\theta} - \\sin^2{\\theta} = \\frac{N-2}{N} = \\cos{2\\theta}$$\n",
    "    \n",
    "$$2\\sin{\\theta}\\cos{\\theta} =2\\frac{\\sqrt{N-2}}{N}= \\sin{2\\theta}$$\n",
    "    \n",
    "se llega a\n",
    "    \n",
    "$$G=\\begin{bmatrix}\n",
    "\\cos{2\\theta} & \\sin{2\\theta}\\\\\n",
    "-\\sin{2\\theta} & \\cos{2\\theta}\n",
    "\\end{bmatrix}$$\n",
    "\n",
    "Esta es una matriz de rotación que gira un ángulo $2\\theta$ en sentido antihorario. Es elementar comprobar que\n",
    "\n",
    "$$\n",
    "G^2  = \\begin{bmatrix}\n",
    "\\cos{4\\theta} & \\sin{4\\theta}\\\\\n",
    "-\\sin{4\\theta} & \\cos{4\\theta} \n",
    "\\end{bmatrix}\n",
    "\\hspace{1cm}... \\hspace{1cm}\n",
    "G^k = \\begin{bmatrix}\n",
    "\\cos{2k\\theta} & \\sin{2k\\theta}\\\\\n",
    "-\\sin{2k\\theta} & \\cos{2k\\theta}\n",
    "\\end{bmatrix}\n",
    "$$\n",
    ":::\n",
    "\n",
    "mas texto"
   ]
  },
  {
   "cell_type": "markdown",
   "id": "bcd96820",
   "metadata": {
    "slideshow": {
     "slide_type": "slide"
    }
   },
   "source": [
    "## El circuito de Grover\n",
    "\n",
    "La tarea ahora es crear sendos circuitos implementen las reflexiones $R_w$ y $R_s$.\n",
    "\n",
    "Comenzaremos repasando la prescripción general para programar estos operadores."
   ]
  },
  {
   "cell_type": "markdown",
   "id": "17908134",
   "metadata": {
    "slideshow": {
     "slide_type": "fragment"
    }
   },
   "source": [
    "::::{card} \n",
    "**Lema**:  \n",
    "\n",
    "^^^\n",
    "<br>\n",
    "Sea $\\ket{\\psi}$ un vector <i>preparable</i> en la forma  $\\ket{\\psi} = V\\ket{0}$. El reflector paralelo a $\\ket{\\psi}$ es\n",
    "<br>\n",
    "<br>\n",
    "$$\n",
    "R_\\psi = I - 2\\ket{\\psi}\\bra{\\psi} = V \\left( I - 2\\ket{0}\\bra{0}\\rule{0mm}{6mm} \\right) V^\\dagger = V R_0 V^\\dagger\n",
    "$$\n",
    "::::\n"
   ]
  },
  {
   "cell_type": "markdown",
   "id": "bacf22b9",
   "metadata": {
    "slideshow": {
     "slide_type": "fragment"
    }
   },
   "source": [
    "De modo que sólo necesitamos un circuito para el reflector  $~R_0 = I- 2\\ket{0}\\bra{0}~$ *paralelo* al estado $\\ket{0}$.\n",
    "\n"
   ]
  },
  {
   "cell_type": "markdown",
   "id": "6ace9e29-97b8-474d-81e1-ff5130c3e5b2",
   "metadata": {},
   "source": [
    "## Cuadro mal escrito !!!!!!"
   ]
  },
  {
   "cell_type": "markdown",
   "id": "55736752",
   "metadata": {
    "slideshow": {
     "slide_type": "slide"
    }
   },
   "source": [
    "::::{card} \n",
    "**Lema**:  \n",
    "<p style=\"text-align: center;\"> <p style=\"text-align: left ;color: navy;\">  \n",
    "^^^\n",
    "<br>\n",
    "El siguiente circuito  implementa la acción del  <i>reflector</i> $R_0$ paralelo al estado $\\ket{0}$ es\n",
    "<br>\n",
    "<br>\n",
    "$$~~R_0 ~=~ I- 2\\ket{0}\\bra{0} ~=~ \\sum_{x\\neq 0}\\ket{x}\\bra{x}-\\ket{0}\\bra{0}$$    \n",
    "<br>\n",
    "<br>\n",
    "<center> \n",
    "<img src=\"./figuras/Reflection0.png\" width='20%' style='margin:automatic'/>\n",
    "</center>\n",
    "<br>\n",
    "\n",
    "donde la cadena $XZX$ puede situarse en cualquier cúbit, no necesariamente el último. \n",
    "::::\n"
   ]
  },
  {
   "cell_type": "code",
   "execution_count": 6,
   "id": "22ae3d2e",
   "metadata": {
    "slideshow": {
     "slide_type": "slide"
    }
   },
   "outputs": [],
   "source": [
    "from qiskit.circuit.library import ZGate\n",
    "from qiskit import QuantumRegister, ClassicalRegister,QuantumCircuit\n",
    "\n",
    "def R0(n):    \n",
    "            \n",
    "    qr = QuantumRegister(n)\n",
    "    qc = QuantumCircuit(qr) \n",
    "    qc.x(n-1)\n",
    "    qc.append(ZGate().control(n-1,ctrl_state= 0),qr)\n",
    "    qc.x(n-1)\n",
    "    qcR0 =  qc.to_gate()\n",
    "    qcR0.name = 'R0'\n",
    "    return qcR0"
   ]
  },
  {
   "cell_type": "markdown",
   "id": "4ea0e1f7",
   "metadata": {
    "slideshow": {
     "slide_type": "fragment"
    }
   },
   "source": [
    "Comenzando por $R_w$, se trata de  un operador que depende del vector desconocido $w$. Por tanto esa etiqueta debe figurar como un argumento oculto de la función que sirva para construir el operador $V(w)\\ket{0} = \\ket{w}$.\n",
    "\n",
    "Simplemente es necesario añadir un operador $X$ por cada $1$ que haya en la versión binaria de $w$."
   ]
  },
  {
   "cell_type": "markdown",
   "id": "00e7ef6c",
   "metadata": {
    "slideshow": {
     "slide_type": "slide"
    }
   },
   "source": [
    "Con estos dos ingredientes ya podríamos fabricar el operador de Grover. \n",
    "\n",
    "$$\n",
    " G = D \\, O = -R_s  R_w\n",
    "$$"
   ]
  },
  {
   "cell_type": "markdown",
   "id": "806f3916",
   "metadata": {},
   "source": [
    "::::{admonition} Notar\n",
    ":class: note\n",
    "\n",
    "<br>\n",
    "¡no sabemos implementar  $-R_s$! $~$, sólo $R_s$. De modo que lo más cercano a la iteración de Grover que podemos conseguir es\n",
    "$\n",
    "\\Rightarrow  R_s R_w = - G \n",
    "$\n",
    "\n",
    "El signo menos, en apariencia es una fase global y no debería afectar a las probabilidades finales que son sus módulos al cuadrado. \n",
    "    \n",
    "De modo que, de momento, lo vamos a ignorar, pero mantenemos una nota de atención sobre este hecho.\n",
    "::::\n"
   ]
  },
  {
   "cell_type": "markdown",
   "id": "ae79abb6",
   "metadata": {
    "slideshow": {
     "slide_type": "slide"
    }
   },
   "source": [
    "::::{figure} ./figuras/Grover5.png\n",
    ":width: 60%\n",
    ":align: center\n",
    "::::\n"
   ]
  },
  {
   "cell_type": "markdown",
   "id": "5ec9a25d",
   "metadata": {
    "slideshow": {
     "slide_type": "slide"
    }
   },
   "source": [
    "## La rotación óptima"
   ]
  },
  {
   "cell_type": "markdown",
   "id": "c20eb0ae",
   "metadata": {
    "slideshow": {
     "slide_type": "fragment"
    }
   },
   "source": [
    "La iteración del circuito de Grover conduce a una sucesión de vectores\n",
    "\n",
    "$$\n",
    "G^k\\ket{s} = \\begin{bmatrix} \\sin 2k\\theta & \\cos 2k \\theta \\\\ - \\cos 2k\\theta & \\sin 2k\\theta \\end{bmatrix} \\begin{bmatrix}\\sin\\theta \\\\ \\cos\\theta \\end{bmatrix} = \\begin{bmatrix}\\sin(2k+1)\\theta  \\\\\n",
    "\\cos(2k+1)\\theta \\end{bmatrix}\n",
    "$$\n",
    "que giran *sin salirse* del plano $(\\ket{w},\\ket{s'})$"
   ]
  },
  {
   "cell_type": "markdown",
   "id": "1be537fc",
   "metadata": {
    "slideshow": {
     "slide_type": "fragment"
    }
   },
   "source": [
    "::::{admonition} Ejercicio\n",
    ":class: tip\n",
    "\n",
    "prueba esta igualdad\n",
    "\n",
    ":::{dropdown} Solución\n",
    "Para demostrar el lema escribimos un vector de estado general usando la representación polar para las componentes complejas\n",
    "    \n",
    "$$\n",
    "\\begin{array}{rcl}\n",
    "\\ket{u} &=& u_0\\ket{0} + u_1\\ket{1} \\\\\n",
    "&=& a_0 e^{i b_0}\\ket{0} + a_1 e^{ib_1}\\ket{1}\\\\\n",
    "&=& e^{i b_0}\\big(a_0 \\ket{0} + a_1 e^{i(b_1-b_0)}\\ket{1}\\big)\\\\\n",
    "&\\sim & \\big( a_0 \\ket{0} + a_1 e^{i(b_1-b_0)}\\ket{1} \\big)\n",
    "\\end{array}\n",
    "$$\n",
    "    \n",
    "donde hemos hecho uso de la irrelevancia de una fase global para descartar $e^{i b_0}$ en la última línea.\n",
    "\n",
    "Ahora $a_1$ y $a_0$ no son números independientes sino que verifican $a_0^2 + a_1^2 = 0$ para que $\\|\\ket{u}\\|=1$.\n",
    "Esta ecuación se puede resolver en términos de un ángulo $\\theta/2$ tal que\n",
    "$$\n",
    "a_0 = \\cos\\frac{\\theta}{2}~~~,~~~ a_1 = \\sin\\frac{\\theta}{2} \n",
    "$$\n",
    "Por su parte, de los números $b_1, b_2$ sólo la diferencia\n",
    "$$\n",
    "\\varphi = b_1-b_2\n",
    "$$\n",
    "es relevante para especificar $\\ket{u}$.   \n",
    ":::\n",
    "    \n",
    "::::\n"
   ]
  },
  {
   "cell_type": "markdown",
   "id": "1ddb957a",
   "metadata": {
    "slideshow": {
     "slide_type": "fragment"
    }
   },
   "source": [
    "- Pero es un número entero $ \\Rightarrow $ el siguiente teorema da la **solución óptima**"
   ]
  },
  {
   "cell_type": "markdown",
   "id": "4c7dcac4",
   "metadata": {
    "slideshow": {
     "slide_type": "slide"
    }
   },
   "source": [
    "::::{card} \n",
    "**Teorema**:  \n",
    "\n",
    "^^^\n",
    "<br>\n",
    "el valor entero de $k\\in{\\mathbb Z}$ que maximiza la probabilidad $P_k = \\sin^2((2k+1)\\theta)$ de medir la solución $w$  es la parte entera \n",
    "<br>\n",
    "<br>    \n",
    "$$\n",
    "k_{op} = \\left[ \\frac{\\pi}{4\\theta} \\right]\n",
    "$$\n",
    "<br>\n",
    " donde $\\theta = \\arcsin \\sqrt{\\frac{1}{N}}$.\n",
    "<br>\n",
    "Se cumple en este caso que:\n",
    "<br>\n",
    "<br>\n",
    "$$\n",
    "1 - \\frac{1}{N} \\leq P_{k_{op}} \\leq 1\\, .\n",
    "$$\n",
    "::::\n"
   ]
  },
  {
   "cell_type": "markdown",
   "id": "b1678f36",
   "metadata": {
    "slideshow": {
     "slide_type": "fragment"
    }
   },
   "source": [
    "::::{admonition} Ejercicio\n",
    ":class: tip\n",
    "\n",
    "    \n",
    "ejecuta el algoritmo de Grover variando el número <i>it</i> de iteraciones de Grover y verifica que el valor de $k$ óptimo es el enunciado en el teorema.\n",
    "::::\n"
   ]
  },
  {
   "cell_type": "markdown",
   "id": "00a47146",
   "metadata": {
    "slideshow": {
     "slide_type": "slide"
    }
   },
   "source": [
    "Cuando $N\\to \\infty$, es decir, cuando nuestra base de datos es muy grande \n",
    "el vector inicial tiene un ángulo muy pequeño. \n",
    "\n",
    "$$\n",
    "\\theta = \\arcsin \\frac{1}{\\sqrt{N}} \\to \\frac{1}{\\sqrt{N}} - ....\n",
    "$$\n",
    "\n",
    "a orden más bajo en serie de potencias de $1/\\sqrt{N}$\n"
   ]
  },
  {
   "cell_type": "markdown",
   "id": "76d54fd3",
   "metadata": {
    "slideshow": {
     "slide_type": "fragment"
    }
   },
   "source": [
    "::::{card} \n",
    "**Teorema**:  \n",
    "\n",
    "^^^\n",
    "máximamente a la solución crece como \n",
    "<br>\n",
    "<br>\n",
    "$$\n",
    "k_{op} \\approx \\frac{\\pi}{4}\\sqrt{N}\n",
    "$$\n",
    "::::\n"
   ]
  },
  {
   "cell_type": "markdown",
   "id": "75be4982",
   "metadata": {
    "slideshow": {
     "slide_type": "fragment"
    }
   },
   "source": [
    "Esto supone un crecimiento $\\mathcal{O}(\\sqrt{N})$ en lugar de $\\mathcal{O}(N)$ que es lo que esperaríamos clásicamente. \n"
   ]
  },
  {
   "cell_type": "markdown",
   "id": "79c665f5",
   "metadata": {
    "slideshow": {
     "slide_type": "slide"
    }
   },
   "source": [
    "<a id='agujas'></a>\n",
    "<table width=\"100%\">\n",
    "    <td style=\"font-size:250%px;font-family:Helvetica;text-align:left;background-color:rgba(0,0,900, 0.3);\">\n",
    "<b> Varias agujas en un pajar </b>\n",
    "</table>   "
   ]
  },
  {
   "cell_type": "markdown",
   "id": "0c575494",
   "metadata": {
    "slideshow": {
     "slide_type": "slide"
    }
   },
   "source": [
    "Un usuario podría tener más de una línea telefónica contratada. En ese caso, *varios* números de teléfono servirán para dar con *un sólo* nombre."
   ]
  },
  {
   "cell_type": "markdown",
   "id": "a6793187",
   "metadata": {
    "slideshow": {
     "slide_type": "fragment"
    }
   },
   "source": [
    "Supondremos ahora que la búsqueda en la base de datos admite $M$ resultados satisfactorios distintos $w_1,....,w_M$."
   ]
  },
  {
   "cell_type": "markdown",
   "id": "0546bd45",
   "metadata": {
    "slideshow": {
     "slide_type": "fragment"
    }
   },
   "source": [
    "El vector inicial se puede descomponer en suma de sus componentes *a lo largo* de ${\\cal B}$ y de ${\\cal B}_\\perp$\n",
    "\n",
    "\n",
    "\\begin{eqnarray}\n",
    "\\ket{s} = \\frac{1}{\\sqrt{N}} \\sum_{x\\in \\Hil} \\ket{x} \n",
    "&=&  \\frac{1}{\\sqrt{N}} \\sum_{x\\in {\\cal B}} \\ket{x}\n",
    " +  \\frac{1}{\\sqrt{N}} \\sum_{x\\in {\\cal B}_\\perp} \\ket{x}\n",
    "\\\\ \\rule{0mm}{12mm}\n",
    "&=&\\sqrt{\\frac{M}{N}}\\ket{w} + \\sqrt{\\frac{N-M}{N}}\\ket{s^\\prime}.\n",
    "\\end{eqnarray}\n",
    "\n",
    "\n"
   ]
  },
  {
   "cell_type": "markdown",
   "id": "41c04080",
   "metadata": {
    "slideshow": {
     "slide_type": "fragment"
    }
   },
   "source": [
    "::::{card} \n",
    "**Teorema**:  \n",
    "\n",
    "^^^\n",
    "<br>\n",
    "<br>\n",
    "el valor entero de $k\\in{\\mathbb Z}$ que maximiza la probabilidad $P_k = \\sin^2 ((2k+1)\\theta)$ de medir la solución $w$  es la parte entera de $\\pi/4\\theta$\n",
    "<br>\n",
    "<br>    \n",
    "$$\n",
    "k_{op} = \\left[ \\frac{\\pi}{4\\theta} \\right]\n",
    "$$\n",
    "<br>\n",
    " donde $\\theta = \\arcsin \\sqrt{\\frac{M}{N}}.~$\n",
    "En este caso, la probabilidad de medir el estado $\\ket{w}$ es\n",
    "<br>\n",
    "$$\n",
    "1 - \\frac{M}{N} \\leq P_{k_{op}} \\leq 1 \\, .\n",
    "$$\n",
    "::::\n"
   ]
  },
  {
   "cell_type": "markdown",
   "id": "6a6300c2",
   "metadata": {
    "slideshow": {
     "slide_type": "fragment"
    }
   },
   "source": [
    "en el límite $N\\to \\infty$ el coste computacional crece aun como la raíz cuadrada\n",
    "\n",
    "::::{card} \n",
    "**Teorema**:  \n",
    "\n",
    "^^^\n",
    "máximamente a alguna de las soluciones $w_i$, crece como \n",
    "<br>\n",
    "<br>\n",
    "$$\n",
    "k_{op} \\approx \\frac{\\pi}{4}\\sqrt{\\frac{N}{M}}\n",
    "$$\n",
    "::::\n"
   ]
  },
  {
   "cell_type": "markdown",
   "id": "914bc10c",
   "metadata": {
    "slideshow": {
     "slide_type": "fragment"
    }
   },
   "source": [
    "Vemos que el número de iteraciones que hay que realizar es menor. A cambio sólo obtendremos una solución $w_i$ después de cada ejecución."
   ]
  },
  {
   "cell_type": "markdown",
   "id": "652b2bce",
   "metadata": {
    "slideshow": {
     "slide_type": "fragment"
    }
   },
   "source": [
    "el único operador que necesitamos modificar es $R_w$"
   ]
  },
  {
   "cell_type": "code",
   "execution_count": 7,
   "id": "adf8b4fa",
   "metadata": {
    "slideshow": {
     "slide_type": "fragment"
    }
   },
   "outputs": [],
   "source": [
    "def Rw(n,w_array): #w_array es una lista de enteros w_i en S_n  \n",
    "            \n",
    "    qr = QuantumRegister(n)\n",
    "    qc = QuantumCircuit(qr) \n",
    "    \n",
    "    for w in w_array:\n",
    "        wstring = format(int(w), 'b').zfill(n)\n",
    "        for i,wi in enumerate(reversed(wstring)):\n",
    "            if wi == '1':\n",
    "                qc.x(qr[i])\n",
    "        qc.append(R0(n),qr)        \n",
    "        for i,wi in enumerate(reversed(wstring)):\n",
    "            if wi == '1':\n",
    "                qc.x(qr[i])\n",
    "    qcRw =  qc.to_gate()\n",
    "    qcRw.name='Rw'\n",
    "    return qcRw\n"
   ]
  },
  {
   "cell_type": "markdown",
   "id": "2c15847b",
   "metadata": {
    "slideshow": {
     "slide_type": "fragment"
    }
   },
   "source": [
    "Ahora podemos correr el mismo circuito con esta modificación\n",
    "\n"
   ]
  },
  {
   "cell_type": "markdown",
   "id": "dac9e070",
   "metadata": {
    "slideshow": {
     "slide_type": "slide"
    }
   },
   "source": [
    "Primero debemos calcular el valor óptimo de iteraciones $k_{op} = [\\pi/(4 \\arcsin \\sqrt{M/N})]$"
   ]
  },
  {
   "cell_type": "code",
   "execution_count": 8,
   "id": "6bf0be9b",
   "metadata": {
    "slideshow": {
     "slide_type": "fragment"
    }
   },
   "outputs": [
    {
     "name": "stdout",
     "output_type": "stream",
     "text": [
      "k_op = 1\n"
     ]
    }
   ],
   "source": [
    "# dimensión de la base de datos\n",
    "n=4\n",
    "# lista de soluciones ocultas\n",
    "w_array = [1, 3, 6, 7, 15]\n",
    "\n",
    "# valor de k óptimo\n",
    "k_op = int(np.pi/(4*np.arcsin(np.sqrt(len(w_array)/2**n))))\n",
    "print('k_op =',k_op)"
   ]
  },
  {
   "cell_type": "markdown",
   "id": "7f19c653",
   "metadata": {
    "slideshow": {
     "slide_type": "fragment"
    }
   },
   "source": [
    "Ahora construimos el circuito de Grover con $k_{op}$ iteraciones. "
   ]
  },
  {
   "cell_type": "code",
   "execution_count": 9,
   "id": "04f20422",
   "metadata": {
    "slideshow": {
     "slide_type": "slide"
    }
   },
   "outputs": [
    {
     "name": "stdout",
     "output_type": "stream",
     "text": [
      "w_i = ['0001', '0011', '0110', '0111', '1111']\n"
     ]
    },
    {
     "ename": "NameError",
     "evalue": "name 'G' is not defined",
     "output_type": "error",
     "traceback": [
      "\u001b[0;31m---------------------------------------------------------------------------\u001b[0m",
      "\u001b[0;31mNameError\u001b[0m                                 Traceback (most recent call last)",
      "Cell \u001b[0;32mIn[9], line 12\u001b[0m\n\u001b[1;32m      9\u001b[0m qcGrover\u001b[38;5;241m.\u001b[39mbarrier()\n\u001b[1;32m     11\u001b[0m \u001b[38;5;28;01mfor\u001b[39;00m i \u001b[38;5;129;01min\u001b[39;00m \u001b[38;5;28mrange\u001b[39m(k_op):\n\u001b[0;32m---> 12\u001b[0m     qcGrover\u001b[38;5;241m.\u001b[39mappend(\u001b[43mG\u001b[49m(n,w_array),qr)\n\u001b[1;32m     14\u001b[0m qcGrover\u001b[38;5;241m.\u001b[39mbarrier()\n\u001b[1;32m     16\u001b[0m qcGrover\u001b[38;5;241m.\u001b[39mmeasure(qr,cr)\n",
      "\u001b[0;31mNameError\u001b[0m: name 'G' is not defined"
     ]
    }
   ],
   "source": [
    "# pasamos las soluciones a cadenas binarias de n entradas\n",
    "wstring = [format(int(w), 'b').zfill(n) for w in w_array]\n",
    "print('w_i =',wstring)\n",
    "\n",
    "qr = QuantumRegister(n)\n",
    "cr = ClassicalRegister(n)\n",
    "qcGrover = QuantumCircuit(qr,cr)\n",
    "qcGrover.h(qr)\n",
    "qcGrover.barrier()\n",
    "\n",
    "for i in range(k_op):\n",
    "    qcGrover.append(G(n,w_array),qr)\n",
    "\n",
    "qcGrover.barrier()\n",
    "\n",
    "qcGrover.measure(qr,cr)\n",
    "qcGrover.draw('mpl')"
   ]
  },
  {
   "cell_type": "markdown",
   "id": "77bffadf",
   "metadata": {
    "slideshow": {
     "slide_type": "slide"
    }
   },
   "source": [
    "<a id='contcuan'></a>\n",
    "<table width=\"100%\">\n",
    "    <td style=\"font-size:250%px;font-family:Helvetica;text-align:left;background-color:rgba(0,0,900, 0.3);\">\n",
    "<b> Contaje cuántico </b>\n",
    "</table>   "
   ]
  },
  {
   "cell_type": "markdown",
   "id": "c7882e93",
   "metadata": {
    "slideshow": {
     "slide_type": "slide"
    }
   },
   "source": [
    "En el algoritmos de Grover es crucial saber cuántas iteracions $k$ del operador $G$ hay que realizar. \n",
    "\n",
    "En el caso de múltiples soluciones, esto depende de $M$. \n",
    "\n",
    "$M$ es desconocido de antemano, por lo que el algoritmo ve *comprometida su eficiencia*. "
   ]
  },
  {
   "cell_type": "markdown",
   "id": "45efaba7",
   "metadata": {
    "slideshow": {
     "slide_type": "fragment"
    }
   },
   "source": [
    "En esta sección vamos a explicar **cómo deducir** $M$ como paso previo, invocando el algoritmo de Estimación de Fase Cuántica."
   ]
  },
  {
   "cell_type": "markdown",
   "id": "c761bbf9",
   "metadata": {
    "slideshow": {
     "slide_type": "fragment"
    }
   },
   "source": [
    "Ya hemos visto que, en la base $\\{|\\omega\\rangle, |s'\\rangle\\}$, podemos escribir la iteración de Grover como la matriz de rotación\n",
    "\n",
    "$$\n",
    "G =\n",
    "\\begin{bmatrix}\n",
    "\\cos2\\theta & \\sin2\\theta\\\\\n",
    "-\\sin2\\theta & \\cos2\\theta\n",
    "\\end{bmatrix},\n",
    "$$\n",
    "\n",
    "donde \n",
    "\n",
    "$$\n",
    "\\theta = \\arcsin M/N \n",
    "$$"
   ]
  },
  {
   "cell_type": "markdown",
   "id": "a083955a",
   "metadata": {
    "slideshow": {
     "slide_type": "slide"
    }
   },
   "source": [
    "Conocer el valor de $\\theta$ nos permitiría tener acceso al valor de $$ M  = N\\sin\\theta \n",
    "$$"
   ]
  },
  {
   "cell_type": "markdown",
   "id": "34db302b",
   "metadata": {
    "slideshow": {
     "slide_type": "fragment"
    }
   },
   "source": [
    "\n",
    "Los  autovalores  y autoestados  de este operador son los siguientes\n",
    "\n",
    "$$\n",
    " \\left(e^{+ 2i\\theta}, \\begin{bmatrix}- i \\\\1 \\end{bmatrix}\\right)~~~~,~~~~ \\left( e^{- 2i\\theta}, \\begin{bmatrix}+ i \\\\1 \\end{bmatrix} \\right)\n",
    "$$ \n",
    "\n",
    "que están pidiendo *a gritos* el algoritmo QPE, de estimación cuántica de fase.\n"
   ]
  },
  {
   "cell_type": "markdown",
   "id": "e288846f",
   "metadata": {
    "slideshow": {
     "slide_type": "fragment"
    }
   },
   "source": [
    "::::{admonition} Ejercicio\n",
    ":class: tip\n",
    "\n",
    "prueba este resultado\n",
    "::::\n"
   ]
  },
  {
   "cell_type": "markdown",
   "id": "25c0e5fa-f1d4-4462-892d-8c658eee2b11",
   "metadata": {},
   "source": [
    "::::{card} \n",
    "**Lema**:  \n",
    "\n",
    "^^^\n",
    "<br>\n",
    "Sea $\\ket{\\psi}$ un vector <i>preparable</i> en la forma  $\\ket{\\psi} = V\\ket{0}$. El reflector paralelo a $\\ket{\\psi}$ es\n",
    "<br>\n",
    "<br>\n",
    "$$\n",
    "R_\\psi = I - 2\\ket{\\psi}\\bra{\\psi} = V \\left( I - 2\\ket{0}\\bra{0}\\rule{0mm}{6mm} \\right) V^\\dagger = V R_0 V^\\dagger\n",
    "$$\n",
    "::::\n"
   ]
  },
  {
   "cell_type": "markdown",
   "id": "8e8864fd-0193-4bb5-bc5e-44aa5833fdfc",
   "metadata": {},
   "source": [
    "::::{admonition} Ejercicio\n",
    ":class: tip\n",
    "\n",
    "Prueba esta igualdad\n",
    "\n",
    ":::{dropdown} Solución\n",
    "Para demostrar el lema escribimos un vector de estado general usando la representación polar para las componentes complejas\n",
    "    \n",
    "TEXTO\n",
    ":::\n",
    "::::\n"
   ]
  }
 ],
 "metadata": {
  "celltoolbar": "Slideshow",
  "kernelspec": {
   "display_name": "Python 3 (ipykernel)",
   "language": "python",
   "name": "python3"
  },
  "language_info": {
   "codemirror_mode": {
    "name": "ipython",
    "version": 3
   },
   "file_extension": ".py",
   "mimetype": "text/x-python",
   "name": "python",
   "nbconvert_exporter": "python",
   "pygments_lexer": "ipython3",
   "version": "3.12.1"
  },
  "toc": {
   "base_numbering": 1,
   "nav_menu": {},
   "number_sections": false,
   "sideBar": true,
   "skip_h1_title": true,
   "title_cell": "Table of Contents",
   "title_sidebar": "Contents",
   "toc_cell": false,
   "toc_position": {},
   "toc_section_display": true,
   "toc_window_display": false
  },
  "varInspector": {
   "cols": {
    "lenName": 16,
    "lenType": 16,
    "lenVar": 40
   },
   "kernels_config": {
    "python": {
     "delete_cmd_postfix": "",
     "delete_cmd_prefix": "del ",
     "library": "var_list.py",
     "varRefreshCmd": "print(var_dic_list())"
    },
    "r": {
     "delete_cmd_postfix": ") ",
     "delete_cmd_prefix": "rm(",
     "library": "var_list.r",
     "varRefreshCmd": "cat(var_dic_list()) "
    }
   },
   "types_to_exclude": [
    "module",
    "function",
    "builtin_function_or_method",
    "instance",
    "_Feature"
   ],
   "window_display": false
  }
 },
 "nbformat": 4,
 "nbformat_minor": 5
}