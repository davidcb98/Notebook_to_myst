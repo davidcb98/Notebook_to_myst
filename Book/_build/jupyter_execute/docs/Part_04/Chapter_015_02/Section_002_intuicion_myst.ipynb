{
 "cells": [
  {
   "cell_type": "markdown",
   "id": "8ddaeb38",
   "metadata": {},
   "source": [
    "> {sub-ref}`today` | {sub-ref}`wordcount-minutes` min read\n",
    "\n",
    "::::{figure} Figuras/Fig_logo_UMA_scbi.png\n",
    ":width: 2000px\n",
    ":align: center\n",
    "::::\n",
    "\n",
    "$ \\newcommand{\\bra}[1]{\\langle #1|} $\n",
    "$ \\newcommand{\\ket}[1]{|#1\\rangle} $\n",
    "$ \\newcommand{\\branew}[1]{\\langle #1|} $\n",
    "$ \\newcommand{\\ketnew}[1]{\\langle #1|} $\n",
    "$ \\newcommand{\\braket}[2]{\\langle #1|#2\\rangle} $\n",
    "$ \\newcommand{\\ketbra}[2]{| #1\\rangle \\langle #2 |} $\n",
    "$ \\newcommand{\\i}{{\\color{blue} i}} $ \n",
    "$ \\newcommand{\\Hil}{{\\cal H}} $\n",
    "$ \\newcommand{\\cg}[1]{{\\rm C}#1} $\n",
    "$ \\newcommand{\\lp}{\\left(} $\n",
    "$ \\newcommand{\\rp}{\\right)} $\n",
    "$ \\newcommand{\\lc}{\\left[} $\n",
    "$ \\newcommand{\\rc}{\\right]} $\n",
    "$ \\newcommand{\\lch}{\\left\\{} $\n",
    "$ \\newcommand{\\rch}{\\right\\}} $\n",
    "$ \\newcommand{\\Lp}{\\Bigl(} $\n",
    "$ \\newcommand{\\Rp}{\\Bigr)} $\n",
    "$ \\newcommand{\\Lc}{\\Bigl[} $\n",
    "$ \\newcommand{\\Rc}{\\Bigr]} $\n",
    "$ \\newcommand{\\Lch}{\\Bigl\\{} $\n",
    "$ \\newcommand{\\Rch}{\\Bigr\\}} $\n",
    "$ \\newcommand{\\rqa}{\\quad \\Rightarrow \\quad} $\n",
    "$ \\newcommand{\\bm}{\\boldsymbol}$"
   ]
  },
  {
   "cell_type": "markdown",
   "id": "080fe82e",
   "metadata": {},
   "source": [
    "# Intuición\n"
   ]
  },
  {
   "cell_type": "markdown",
   "id": "c2679e6b",
   "metadata": {},
   "source": [
    "La transformada cuántica de Fourier (QFT) transforma entre dos bases, la base computacional ($Z$) y la base de Fourier. La puerta $H$ es la transformada de Fourier para un solo qúbit, y esta transforma entre la base $Z$ ($\\ket{0}$ y $\\ket{1}$) en la base $X$ ($\\ket{+}$ y $\\ket{-}$). Del mismo modo, todos los estados multi-qúbit en la base computacional tienen estados correspondientes en la base de Fourier. La QFT es simplemente la función que transforma entre estas bases.\n",
    "\\begin{equation*}\n",
    "\\ket{\\text{Estado en la Base Computacional}} \\xrightarrow{QFT} \\ket{\\text{Estado en la Base de Fourier}}\n",
    "\\end{equation*}\n",
    "\\begin{equation*}\n",
    "QFT \\ket{x} = \\ket{\\widetilde{x}}\n",
    "\\end{equation*}\n"
   ]
  },
  {
   "cell_type": "markdown",
   "id": "90905209",
   "metadata": {},
   "source": [
    "Habitualmente denotamos los estados en la base de Fourier usando la tilde ($\\sim$)\n"
   ]
  },
  {
   "cell_type": "markdown",
   "id": "83bbbed3",
   "metadata": {},
   "source": [
    "## Contando en la base de Fourier.\n"
   ]
  },
  {
   "cell_type": "markdown",
   "id": "521c7ad1",
   "metadata": {},
   "source": [
    "En la base computacional, almacenamos los números en binario usando los estados $\\ket{0}$ y $\\ket{1}$. En la base de Fourier, almacenamos números utilizando diferentes rotaciones alrededor del eje Z. En este segundo caso, el número que queremos almacenar dicta los ángulos que se rotan cada qúbit.\n"
   ]
  },
  {
   "cell_type": "markdown",
   "id": "47330fc8",
   "metadata": {},
   "source": [
    "Como podemos observar en la Fig. \\ref{Fig_QFT_compu_fourier_bases},\n",
    "la frecuencia con la que cambian los distintos qúbits es diferente:\n",
    "\n",
    " \n",
    "- En la base computacional, el qúbit situado más a la izquierda en las imágenes (menos significativo) cambia con cada incremento del número, el siguiente con cada 2 incrementos, el tercero con cada 4 incrementos, y así sucesivamente.\n",
    " \n",
    "- En la base de Fourier, cada qúbit se rota el doble del anterior, empezando por el de la izquierda en las imágenes (el menos significativo). En el estado $\\ket{\\tilde{0}}$ todos los qúbit están en el estado $\\ket{+}$. Como también podemos ver en las imágenes, para codificar, por ejemplo, $\\ket{\\tilde{5}}$ en 4 qúbits, rotamos el qúbit de la izquierda en las imágenes (el menos significativo) un ángulo $\\frac{5}{2^n} \\times 2 \\pi = \\frac{5}{16} \\times 2 \\pi $. El siguiente qúbit se rota el doble ($2 \\frac{5}{16} \\times 2 \\pi$), el siguiente el doble de este y así sucesivamente.\n",
    "\n"
   ]
  },
  {
   "cell_type": "markdown",
   "id": "670bed68",
   "metadata": {},
   "source": [
    "::::{figure} Figuras/Fig_subfig_QFT_compu_fourier_bases.png\n",
    ":width: 1000px\n",
    ":align: center\n",
    ":name: Fig_QFT_compu_fourier_bases\n",
    "Base computacional y base de Fourier\n",
    "::::\n"
   ]
  },
  {
   "cell_type": "markdown",
   "id": "8534e04c",
   "metadata": {},
   "source": [
    "::::{figure} https://quantumspain-project.es/wp-content/uploads/2022/11/Logo_QS_EspanaDigital.png\n",
    ":width: 2000px\n",
    ":align: center\n",
    "::::\n",
    "\n",
    "<center>\n",
    "<img align=\"left\" src=\"https://quantumspain-project.es/wp-content/uploads/2024/02/Banner-QS_GOB_v2.png\" width=\"1000px\" />\n",
    "</center>"
   ]
  }
 ],
 "metadata": {
  "kernelspec": {
   "display_name": "Python 3 (ipykernel)",
   "language": "python",
   "name": "python3"
  },
  "language_info": {
   "codemirror_mode": {
    "name": "ipython",
    "version": 3
   },
   "file_extension": ".py",
   "mimetype": "text/x-python",
   "name": "python",
   "nbconvert_exporter": "python",
   "pygments_lexer": "ipython3",
   "version": "3.11.7"
  },
  "toc": {
   "base_numbering": 1,
   "nav_menu": {},
   "number_sections": false,
   "sideBar": true,
   "skip_h1_title": true,
   "title_cell": "Table of Contents",
   "title_sidebar": "Contents",
   "toc_cell": false,
   "toc_position": {},
   "toc_section_display": true,
   "toc_window_display": false
  }
 },
 "nbformat": 4,
 "nbformat_minor": 5
}