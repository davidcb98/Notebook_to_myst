{
 "cells": [
  {
   "cell_type": "markdown",
   "id": "8ddaeb38",
   "metadata": {},
   "source": [
    "> {sub-ref}`today` | {sub-ref}`wordcount-minutes` min read\n",
    "\n",
    "::::{figure} Figuras/Fig_logo_UMA_scbi.png\n",
    ":width: 2000px\n",
    ":align: center\n",
    "::::\n",
    "\n",
    "$ \\newcommand{\\bra}[1]{\\langle #1|} $\n",
    "$ \\newcommand{\\ket}[1]{|#1\\rangle} $\n",
    "$ \\newcommand{\\branew}[1]{\\langle #1|} $\n",
    "$ \\newcommand{\\ketnew}[1]{\\langle #1|} $\n",
    "$ \\newcommand{\\braket}[2]{\\langle #1|#2\\rangle} $\n",
    "$ \\newcommand{\\ketbra}[2]{| #1\\rangle \\langle #2 |} $\n",
    "$ \\newcommand{\\i}{{\\color{blue} i}} $ \n",
    "$ \\newcommand{\\Hil}{{\\cal H}} $\n",
    "$ \\newcommand{\\cg}[1]{{\\rm C}#1} $\n",
    "$ \\newcommand{\\lp}{\\left(} $\n",
    "$ \\newcommand{\\rp}{\\right)} $\n",
    "$ \\newcommand{\\lc}{\\left[} $\n",
    "$ \\newcommand{\\rc}{\\right]} $\n",
    "$ \\newcommand{\\lch}{\\left\\{} $\n",
    "$ \\newcommand{\\rch}{\\right\\}} $\n",
    "$ \\newcommand{\\Lp}{\\Bigl(} $\n",
    "$ \\newcommand{\\Rp}{\\Bigr)} $\n",
    "$ \\newcommand{\\Lc}{\\Bigl[} $\n",
    "$ \\newcommand{\\Rc}{\\Bigr]} $\n",
    "$ \\newcommand{\\Lch}{\\Bigl\\{} $\n",
    "$ \\newcommand{\\Rch}{\\Bigr\\}} $\n",
    "$ \\newcommand{\\rqa}{\\quad \\Rightarrow \\quad} $\n",
    "$ \\newcommand{\\bm}{\\boldsymbol}$"
   ]
  },
  {
   "cell_type": "markdown",
   "id": "080fe82e",
   "metadata": {},
   "source": [
    "# Implementaciones con qiskit.\n"
   ]
  },
  {
   "cell_type": "markdown",
   "id": "607fb0a6",
   "metadata": {},
   "source": [
    "## Puerta multicontrolada $Z$ (MCZ).\n"
   ]
  },
  {
   "cell_type": "markdown",
   "id": "fec21c14",
   "metadata": {},
   "source": [
    "Vamos a empezar viendo la implementación de la puerta multicontrolada $Z$ (MCZ) en qiskit, pues la usaremos bastante el las siguientes secciones. Esta puerta podemos construirla a partir de la puerta multicontrolada Toffoli (MCT) de forma muy sencilla. Para ello, recordemos que la MCT no es más que una CNOT (es decir, una puerta $X$) con varios controles y recordemos también la propiedad\n"
   ]
  },
  {
   "cell_type": "markdown",
   "id": "2a2d71a6",
   "metadata": {},
   "source": [
    "```{math}\n",
    ":label: Imple_HXH_Z \n",
    "\\begin{equation} \n",
    "HXH = Z .\n",
    "\\end{equation} \n",
    "```\n"
   ]
  },
  {
   "cell_type": "markdown",
   "id": "9cd3ca9b",
   "metadata": {},
   "source": [
    "Podemos pues construir la MCZ aplicando puertas de Hadammard en el qúbit objetivo de la MCT antes y después de la misma.\n",
    "::::::{admonition} Jupyter Notebook (12-Grover\\_Algorithm) \n",
    ":class: attention\n",
    "\n",
    "\n",
    "\n",
    "Puede en la sección 1 del  Notebook <i>12-Grover\\_Algorithm</i>.\n",
    "::::::\n"
   ]
  },
  {
   "cell_type": "markdown",
   "id": "746e830b",
   "metadata": {},
   "source": [
    "## Difusor genérico.\n"
   ]
  },
  {
   "cell_type": "markdown",
   "id": "af207e42",
   "metadata": {},
   "source": [
    "Como ya comentamos, habitualmente en vez de implementar $U_{\\Psi_0}$ implementamos $-U_{\\Psi_0}$. Vimos además que podemos hacer la implementación mediante transformadas de Walsh-Hadamard $H^{\\otimes n}$, puertas $X^{\\otimes n}$ y la puerta $MCZ$, es decir\n"
   ]
  },
  {
   "cell_type": "markdown",
   "id": "af923518",
   "metadata": {},
   "source": [
    "```{math}\n",
    ":label: ec_qiskit_diff-gen_U_Psi0 \n",
    "\\begin{equation} \n",
    "\\boxed{-U_{\\Psi_0}  = S_{\\Psi_0}  = H^{\\otimes n} S_0 H^{\\otimes n} = H^{\\otimes n} X^{\\otimes n} (MCZ) X^{\\otimes n} H^{\\otimes n}}\n",
    "\\end{equation} \n",
    "```\n"
   ]
  },
  {
   "cell_type": "markdown",
   "id": "597cb871",
   "metadata": {},
   "source": [
    "::::::{admonition} Jupyter Notebook (12-Grover\\_Algorithm) \n",
    ":class: attention\n",
    "\n",
    "\n",
    "\n",
    "Puede en la sección 2 del  Notebook <i>12-Grover\\_Algorithm</i>.\n",
    "::::::\n"
   ]
  },
  {
   "cell_type": "markdown",
   "id": "e06dbba1",
   "metadata": {},
   "source": [
    "## Oráculo \"trivial\".\n"
   ]
  },
  {
   "cell_type": "markdown",
   "id": "b2644752",
   "metadata": {},
   "source": [
    "Vamos a presentar en esta sección un código de qiskit para construir un oráculo que cambie el signo de los estados que nosotros le digamos. Este es uno de esos ejemplo típicos que se plantean cuando se habla de Grover, esos en los que sabemos con antelación los estados concretos que queremos buscar. De esta forma, el oráculo que construimos está hecho \"ad hoc\" para marcar ciertos estado.\n"
   ]
  },
  {
   "cell_type": "markdown",
   "id": "588ce347",
   "metadata": {},
   "source": [
    "(Precisamente elegí llamarle a este caso \"trivial\" porque no entraña ningún misterio, sino que como comento es un caso académico.)\n"
   ]
  },
  {
   "cell_type": "markdown",
   "id": "300b83c9",
   "metadata": {},
   "source": [
    "::::::{admonition} Jupyter Notebook (12-Grover\\_Algorithm) \n",
    ":class: attention\n",
    "\n",
    "\n",
    "\n",
    "Puede en la sección 3 del  Notebook <i>12-Grover\\_Algorithm</i>.\n",
    "::::::\n"
   ]
  },
  {
   "cell_type": "markdown",
   "id": "5880726a",
   "metadata": {},
   "source": [
    "## Oráculos que verifican condiciones: sudoki $2 \\times 2$.\n"
   ]
  },
  {
   "cell_type": "markdown",
   "id": "2df253a8",
   "metadata": {},
   "source": [
    "En esta sección vamos a ver como se puede usar el algoritmo de Grover para buscar cadenas de bits que satisfacen unas ciertas condiciones. En concreto vamos a ver dos caso: como solucionar un <b>sudoku</b> $2 \\times 2$\n"
   ]
  },
  {
   "cell_type": "markdown",
   "id": "e50d5f37",
   "metadata": {},
   "source": [
    "::::::{admonition} Jupyter Notebook (12-Grover\\_Algorithm) \n",
    ":class: attention\n",
    "\n",
    "\n",
    "\n",
    "Puede en la sección 4 del  Notebook <i>12-Grover\\_Algorithm</i>.\n",
    "::::::\n"
   ]
  },
  {
   "cell_type": "markdown",
   "id": "8534e04c",
   "metadata": {},
   "source": [
    "::::{figure} https://quantumspain-project.es/wp-content/uploads/2022/11/Logo_QS_EspanaDigital.png\n",
    ":width: 2000px\n",
    ":align: center\n",
    "::::\n",
    "\n",
    "<center>\n",
    "<img align=\"left\" src=\"https://quantumspain-project.es/wp-content/uploads/2024/02/Banner-QS_GOB_v2.png\" width=\"1000px\" />\n",
    "</center>"
   ]
  }
 ],
 "metadata": {
  "kernelspec": {
   "display_name": "Python 3 (ipykernel)",
   "language": "python",
   "name": "python3"
  },
  "language_info": {
   "codemirror_mode": {
    "name": "ipython",
    "version": 3
   },
   "file_extension": ".py",
   "mimetype": "text/x-python",
   "name": "python",
   "nbconvert_exporter": "python",
   "pygments_lexer": "ipython3",
   "version": "3.11.7"
  },
  "toc": {
   "base_numbering": 1,
   "nav_menu": {},
   "number_sections": false,
   "sideBar": true,
   "skip_h1_title": true,
   "title_cell": "Table of Contents",
   "title_sidebar": "Contents",
   "toc_cell": false,
   "toc_position": {},
   "toc_section_display": true,
   "toc_window_display": false
  }
 },
 "nbformat": 4,
 "nbformat_minor": 5
}