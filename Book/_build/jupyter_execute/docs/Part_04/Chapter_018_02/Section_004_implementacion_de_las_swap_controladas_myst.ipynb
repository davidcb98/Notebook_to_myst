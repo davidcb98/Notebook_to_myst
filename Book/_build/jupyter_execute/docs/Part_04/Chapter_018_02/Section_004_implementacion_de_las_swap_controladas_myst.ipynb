{
 "cells": [
  {
   "cell_type": "markdown",
   "id": "8ddaeb38",
   "metadata": {},
   "source": [
    "> {sub-ref}`today` | {sub-ref}`wordcount-minutes` min read\n",
    "\n",
    "::::{figure} Figuras/Fig_logo_UMA_scbi.png\n",
    ":width: 2000px\n",
    ":align: center\n",
    "::::\n",
    "\n",
    "$ \\newcommand{\\bra}[1]{\\langle #1|} $\n",
    "$ \\newcommand{\\ket}[1]{|#1\\rangle} $\n",
    "$ \\newcommand{\\branew}[1]{\\langle #1|} $\n",
    "$ \\newcommand{\\ketnew}[1]{\\langle #1|} $\n",
    "$ \\newcommand{\\braket}[2]{\\langle #1|#2\\rangle} $\n",
    "$ \\newcommand{\\ketbra}[2]{| #1\\rangle \\langle #2 |} $\n",
    "$ \\newcommand{\\i}{{\\color{blue} i}} $ \n",
    "$ \\newcommand{\\Hil}{{\\cal H}} $\n",
    "$ \\newcommand{\\cg}[1]{{\\rm C}#1} $\n",
    "$ \\newcommand{\\lp}{\\left(} $\n",
    "$ \\newcommand{\\rp}{\\right)} $\n",
    "$ \\newcommand{\\lc}{\\left[} $\n",
    "$ \\newcommand{\\rc}{\\right]} $\n",
    "$ \\newcommand{\\lch}{\\left\\{} $\n",
    "$ \\newcommand{\\rch}{\\right\\}} $\n",
    "$ \\newcommand{\\Lp}{\\Bigl(} $\n",
    "$ \\newcommand{\\Rp}{\\Bigr)} $\n",
    "$ \\newcommand{\\Lc}{\\Bigl[} $\n",
    "$ \\newcommand{\\Rc}{\\Bigr]} $\n",
    "$ \\newcommand{\\Lch}{\\Bigl\\{} $\n",
    "$ \\newcommand{\\Rch}{\\Bigr\\}} $\n",
    "$ \\newcommand{\\rqa}{\\quad \\Rightarrow \\quad} $\n",
    "$ \\newcommand{\\bm}{\\boldsymbol}$"
   ]
  },
  {
   "cell_type": "markdown",
   "id": "080fe82e",
   "metadata": {},
   "source": [
    "# Implementación de las SWAP controladas\n"
   ]
  },
  {
   "cell_type": "markdown",
   "id": "ca768d57",
   "metadata": {},
   "source": [
    "En la Fig. \\ref{Fig_2n+3_swap} podemos ver la puerta <i>SWAP</i> controlada. Esta es una puerta que admite tres qúbits (uno de control y dos de operación). Tenemos dos puertas <i>CNOT</i> que rodean a una puerta <i>Toffoli</i>. La función de esta puerta es intercambiar el valor de los dos qúbits de operación si el qúbit de control está activado. Como vemos, para intercambiar dos qúbits necesitamos 3 puertas, con lo cual las puertas necesarias para aplicar una puerta <i>SWAP</i> controlada a $n$ qúbit necesitamos $\\mathcal{O}(n)$ puertas.\n"
   ]
  },
  {
   "cell_type": "markdown",
   "id": "579946b0",
   "metadata": {},
   "source": [
    "Vemos que la puertas <i>SWAP</i> controlada no es las que la puerta <i>SWAP</i> normal (tres puertas <i>CNOT</i>) donde la puerta <i>CNOT</i> central se controla, convirtiéndola en una puerta <i>Toffoli</i>.\n"
   ]
  },
  {
   "cell_type": "markdown",
   "id": "67b86b8c",
   "metadata": {},
   "source": [
    "::::{figure} Figuras/Fig-swap.png\n",
    ":width: 300px\n",
    ":align: center\n",
    ":name: Fig_2n+3_swap\n",
    "Puerta SWAP\n",
    "::::\n"
   ]
  },
  {
   "cell_type": "markdown",
   "id": "8534e04c",
   "metadata": {},
   "source": [
    "::::{figure} https://quantumspain-project.es/wp-content/uploads/2022/11/Logo_QS_EspanaDigital.png\n",
    ":width: 2000px\n",
    ":align: center\n",
    "::::\n",
    "\n",
    "<center>\n",
    "<img align=\"left\" src=\"https://quantumspain-project.es/wp-content/uploads/2024/02/Banner-QS_GOB_v2.png\" width=\"1000px\" />\n",
    "</center>"
   ]
  }
 ],
 "metadata": {
  "kernelspec": {
   "display_name": "Python 3 (ipykernel)",
   "language": "python",
   "name": "python3"
  },
  "language_info": {
   "codemirror_mode": {
    "name": "ipython",
    "version": 3
   },
   "file_extension": ".py",
   "mimetype": "text/x-python",
   "name": "python",
   "nbconvert_exporter": "python",
   "pygments_lexer": "ipython3",
   "version": "3.11.7"
  },
  "toc": {
   "base_numbering": 1,
   "nav_menu": {},
   "number_sections": false,
   "sideBar": true,
   "skip_h1_title": true,
   "title_cell": "Table of Contents",
   "title_sidebar": "Contents",
   "toc_cell": false,
   "toc_position": {},
   "toc_section_display": true,
   "toc_window_display": false
  }
 },
 "nbformat": 4,
 "nbformat_minor": 5
}