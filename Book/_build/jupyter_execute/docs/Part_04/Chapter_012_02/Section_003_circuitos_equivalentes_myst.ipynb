{
 "cells": [
  {
   "cell_type": "markdown",
   "id": "8ddaeb38",
   "metadata": {},
   "source": [
    "> {sub-ref}`today` | {sub-ref}`wordcount-minutes` min read\n",
    "\n",
    "::::{figure} Figuras/Fig_logo_UMA_scbi.png\n",
    ":width: 2000px\n",
    ":align: center\n",
    "::::\n",
    "\n",
    "$ \\newcommand{\\bra}[1]{\\langle #1|} $\n",
    "$ \\newcommand{\\ket}[1]{|#1\\rangle} $\n",
    "$ \\newcommand{\\branew}[1]{\\langle #1|} $\n",
    "$ \\newcommand{\\ketnew}[1]{\\langle #1|} $\n",
    "$ \\newcommand{\\braket}[2]{\\langle #1|#2\\rangle} $\n",
    "$ \\newcommand{\\ketbra}[2]{| #1\\rangle \\langle #2 |} $\n",
    "$ \\newcommand{\\i}{{\\color{blue} i}} $ \n",
    "$ \\newcommand{\\Hil}{{\\cal H}} $\n",
    "$ \\newcommand{\\cg}[1]{{\\rm C}#1} $\n",
    "$ \\newcommand{\\lp}{\\left(} $\n",
    "$ \\newcommand{\\rp}{\\right)} $\n",
    "$ \\newcommand{\\lc}{\\left[} $\n",
    "$ \\newcommand{\\rc}{\\right]} $\n",
    "$ \\newcommand{\\lch}{\\left\\{} $\n",
    "$ \\newcommand{\\rch}{\\right\\}} $\n",
    "$ \\newcommand{\\Lp}{\\Bigl(} $\n",
    "$ \\newcommand{\\Rp}{\\Bigr)} $\n",
    "$ \\newcommand{\\Lc}{\\Bigl[} $\n",
    "$ \\newcommand{\\Rc}{\\Bigr]} $\n",
    "$ \\newcommand{\\Lch}{\\Bigl\\{} $\n",
    "$ \\newcommand{\\Rch}{\\Bigr\\}} $\n",
    "$ \\newcommand{\\rqa}{\\quad \\Rightarrow \\quad} $\n",
    "$ \\newcommand{\\bm}{\\boldsymbol}$"
   ]
  },
  {
   "cell_type": "markdown",
   "id": "080fe82e",
   "metadata": {},
   "source": [
    "# Circuitos equivalentes\n"
   ]
  },
  {
   "cell_type": "markdown",
   "id": "14033d89",
   "metadata": {},
   "source": [
    "Es posible encontrar distintos circuitos que producen acciones idénticas sobre un estado arbitrario. Se denominan <b>circuitos equivalentes</b>. Matemáticamente, representan distintas descomposiciones del mismo operador unitario en unitarios. Esto es muy importate, pues nos permite construir unas puertas a partir de otras, con lo cual, como ya veremos, implica que  <i>no es necesario tener implementadas todas las puertas.</i>\n"
   ]
  },
  {
   "cell_type": "markdown",
   "id": "b1b5e994",
   "metadata": {},
   "source": [
    "## Conjugación\n"
   ]
  },
  {
   "cell_type": "markdown",
   "id": "2b9104e7",
   "metadata": {},
   "source": [
    "Una caso muy frecuente es la <b>conjugación</b> de una puerta $V$  por un <b>unitario</b> $U$\n",
    "\\begin{equation}\n",
    "U V   U^\\dagger = V'\n",
    "\\end{equation}\n",
    "El operador conjugado $V'$ tiene <b>la misma acción</b> sobre la base <b>base rotada</b> $\\{\\ket{e'} = U\\ket{e}\\}$ que la que tiene $V$ sobre la original $\\{\\ket{e}\\}$. Por ello\n",
    "\n",
    " \n",
    "- Los <b>autovalores</b> de $V$ y de $V'$ son los <b>mismos</b>\n",
    " \n",
    "- Los <b>autovectores</b> son los <b>rotados</b>\n",
    "\n",
    "esto es\n",
    "\\begin{equation}\n",
    "\\lambda' = \\lambda ~~~~~~\\hbox{y}~~~~~~  \\ket{\\lambda}' = U\\ket{\\lambda}\n",
    "\\end{equation}\n"
   ]
  },
  {
   "cell_type": "markdown",
   "id": "a0e9db6c",
   "metadata": {},
   "source": [
    "::::::{admonition} Nota (Comprobémoslo) \n",
    ":class: note\n",
    "\n",
    "\n",
    "\n",
    "\\begin{align*}\n",
    "\\boxed{V \\ket{\\lambda}= \\lambda\\ket{\\lambda}} & ~~ \\Rightarrow ~~~V'\\ket{\\lambda}' =\n",
    "(UVU^\\dagger) U\\ket{\\lambda} = UV\\ket{\\lambda} =  U(\\lambda\\ket{\\lambda}) =\n",
    "\\lambda U\\ket{\\lambda} = \\lambda\\ket{\\lambda}' \\\\\n",
    "& ~~\\Rightarrow ~~~ \\boxed{ V' \\ket{\\lambda}'\n",
    "= \\lambda\\ket{\\lambda}'}\n",
    "\\end{align*}\n",
    "::::::\n"
   ]
  },
  {
   "cell_type": "markdown",
   "id": "efc72adf",
   "metadata": {},
   "source": [
    "Por ejemplo, en la Fig.  {numref}`%s <Fig_elementos_H_conjugation>` podemos ver la equivalencía entre $Z$ y $X$ conjugando con $H$.\n",
    "::::{figure} Figuras/Fig_elementos_H_conjugation\n",
    ":width: 500px\n",
    ":align: center\n",
    ":name: Fig_elementos_H_conjugation\n",
    "Relación de conjugación entre $Z$ y $X$.\n",
    "::::\n",
    "Para entenderla, tenemos que recordar que  la puerta $H$ lo que hace es girar 180º entorno a un eje que está a 45º grados entre el eje $z$ y el eje $x$. Es decir, lleva el eje $z$ al eje $x$ (lleva $\\ket{0}$ a $\\ket{+}$ y $\\ket{1}$ a $\\ket{-}$). Aquí vemos claramente que la acción de $Z$ sobre la base sin rotar ($\\lch \\ket{0}, \\ket{1} \\rch$) es la misma que la acción de $X$ sobre la base rotada ($\\lch \\ket{+},\\ket{-} \\rch $). Este tipo de equivalencia se sigue de las identidades algebráicas\n",
    "\\begin{eqnarray}\n",
    "HXH = Z ~~~~~&,&~~ ~~~\n",
    "HZH = X \\nonumber\n",
    "\\end{eqnarray}\n"
   ]
  },
  {
   "cell_type": "markdown",
   "id": "195e0b2a",
   "metadata": {},
   "source": [
    "Análogamente\n",
    "\\begin{equation*}\n",
    "S X S^\\dagger  = Y ~~~~~~, ~~~~~~~\n",
    "S Y S^\\dagger = -X ~~~~~~, ~~~~~~~\n",
    "S Z S^\\dagger = Z \\, .\n",
    "\\end{equation*}\n",
    "también  son fáciles de visualizar recordando que  $S=\\sqrt{Z}$ es una rotación de $90^\\circ$ en torno al eje $Z$.\n"
   ]
  },
  {
   "cell_type": "markdown",
   "id": "1a3ee037",
   "metadata": {},
   "source": [
    "## Conjugación de una exponencial\n"
   ]
  },
  {
   "cell_type": "markdown",
   "id": "c704e401",
   "metadata": {},
   "source": [
    "Muchas puertas unitarias son de la forma $V = e^{\\alpha A}$. Por ejemplo, si  $A = \\hat{\\bf n}\\cdot \\boldsymbol{\\sigma} $ entonces $  ~\\Rightarrow ~V= R_{\\hat{\\bf n}}(\\theta)$ es el operador que rota un ángulo $\\theta$ en torno al vector $\\hat{\\bf n}$ en la esfera de Bloch de la Ec.  {eq}`%s <ec_puertas_simples_Rn>`.\n"
   ]
  },
  {
   "cell_type": "markdown",
   "id": "e9ba94d4",
   "metadata": {},
   "source": [
    "::::::{prf:lemma} \n",
    "\n",
    "\n",
    "La conjugación de una exponencial se exponencia\n",
    "::::::\n",
    "\n",
    "\n"
   ]
  },
  {
   "cell_type": "markdown",
   "id": "102f81b8",
   "metadata": {},
   "source": [
    "::::::::::{dropdown} Demostración\n",
    "\\begin{eqnarray}\n",
    "U e^{\\alpha A} U^\\dagger &=&  U \\left(1 + \\alpha A  + \\frac{1}{2} \\alpha^2 A^2 + ... \\right) U^\\dagger \\\\ \\rule{0mm}{8mm}\n",
    "&=& 1 + \\alpha UAU^\\dagger + \\frac{1}{2}\\alpha^2 UAU^\\dagger U AU^\\dagger + ... \\\\ \\rule{0mm}{8mm}\n",
    "&=& e^{ \\alpha UAU^\\dagger}\n",
    "\\end{eqnarray}\n",
    "::::::::::\n"
   ]
  },
  {
   "cell_type": "markdown",
   "id": "8193289b",
   "metadata": {},
   "source": [
    "Para el caso $A = \\hat{\\bf n}\\cdot \\boldsymbol{\\sigma} $  la conjugación es\n",
    "```{math}\n",
    ":label: ec_elementos_UAU^dagger \n",
    "\\begin{equation} \n",
    "U A U^\\dagger ~\\to ~U (\\hat{\\bf n}\\cdot \\boldsymbol{\\sigma} ) U^\\dagger = (U\\hat{\\bf n})\\cdot  \\boldsymbol{\\sigma}\n",
    "\\end{equation} \n",
    "```\n"
   ]
  },
  {
   "cell_type": "markdown",
   "id": "648d5a26",
   "metadata": {},
   "source": [
    "::::::{admonition} Ejercicio\n",
    ":class: tip\n",
    "\n",
    "\n",
    "Comprueba la Ec.  {eq}`%s <ec_elementos_UAU^dagger>`.\n",
    "::::::\n",
    "\n",
    "\n"
   ]
  },
  {
   "cell_type": "markdown",
   "id": "5624b484",
   "metadata": {},
   "source": [
    "::::::{prf:corollary} \n",
    "\n",
    "\n",
    "La conjugación de una rotación en torno a un eje produce una rotación en torno al eje conjugado\n",
    "\\begin{equation}\n",
    "U R_{\\hat{\\bf n}}(\\theta) U^\\dagger = R_{U\\hat{\\bf n}}(\\theta)\n",
    "\\end{equation}\n",
    "::::::\n",
    "\n",
    "\n"
   ]
  },
  {
   "cell_type": "markdown",
   "id": "cdbc70c5",
   "metadata": {},
   "source": [
    "::::::{admonition} Ejemplo\n",
    ":class: tip\n",
    "\n",
    "\n",
    "\n",
    "Por ejemplo:\n",
    "\\begin{eqnarray*}\n",
    "H R_z(\\theta) H &=& e^{-i \\theta/2 HZH} =  e^{-i (\\theta/2) X} \\\\ \\rule{0mm}{8mm}\n",
    "&=& R_x(\\theta)\n",
    "\\end{eqnarray*}\n",
    "::::{figure} Figuras/Fig_elementos_HRzHconjugation.png\n",
    ":width: 700px\n",
    ":align: center\n",
    ":name: Fig_elementos_HRzHconjugation\n",
    "La conjugación con $H$ de una rotación en $Z$ nos da una rotación en $X$.\n",
    "::::\n",
    "::::::\n"
   ]
  },
  {
   "cell_type": "markdown",
   "id": "9569dd61",
   "metadata": {},
   "source": [
    "## Varios qubits\n"
   ]
  },
  {
   "cell_type": "markdown",
   "id": "aac4b3e8",
   "metadata": {},
   "source": [
    "### Cambiar controlador y controlado en $\\cg{Z}$ y $\\cg{P}$\n"
   ]
  },
  {
   "cell_type": "markdown",
   "id": "216dc20b",
   "metadata": {},
   "source": [
    "La puerta  controlada $\\cg{Z} =  {\\rm diag}(1,1,1,-1)$   es simétrica ya que lo único que hace, es cambiar de signo al estado $\\ket{11}$. Podemos ver esto en la Fig.  {numref}`%s <Fig_elementos_Equiv_Z>`.\n",
    "::::{figure} Figuras/Fig_elementos_Equiv_Z.png\n",
    ":width: 350px\n",
    ":align: center\n",
    ":name: Fig_elementos_Equiv_Z\n",
    "Equivalencia entre $\\cg{Z}$s cambiando el qúbit controlador y el controlado.\n",
    "::::\n",
    "En realidad, $\\cg{Z}$ es un caso particular de   $\\cg{P(\\phi)} = {\\rm diag} (1,1,1, e^{i\\phi})$, para la cual la equivalencia es la misma.\n"
   ]
  },
  {
   "cell_type": "markdown",
   "id": "240c6cf0",
   "metadata": {},
   "source": [
    "### Cambiar controlador y controlado en la CNOT\n"
   ]
  },
  {
   "cell_type": "markdown",
   "id": "cc134ee3",
   "metadata": {},
   "source": [
    "Otra equivalencia importante es la de la Fig.  {numref}`%s <Fig_elementos_Equiv_HH>`. Para probarla, observemos que las tres puertas del segundo qúbit se pueden componer para dar $HXH=Z$. Por el contrario, las dos puertas de Hadamard en el primer qúbit no se pueden multiplicar al haber un control entre ellas. Sin embargo, usando la  equivalencia de la Fig.  {numref}`%s <Fig_elementos_Equiv_Z>` podemos invertir la puerta $\\cg{Z}$ y, finalmente, conjugar en el primer qúbit $HZH=X$.\n",
    "::::{figure} Figuras/Fig_elementos_Equiv_HH.png\n",
    ":width: 450px\n",
    ":align: center\n",
    ":name: Fig_elementos_Equiv_HH\n",
    "Equivalencia entre CNOTs cambiando el qúbit controlador y el controlado\n",
    "::::\n"
   ]
  },
  {
   "cell_type": "markdown",
   "id": "6bf7d611",
   "metadata": {},
   "source": [
    "### SWAP a partir de CNOTs\n"
   ]
  },
  {
   "cell_type": "markdown",
   "id": "5a410f1e",
   "metadata": {},
   "source": [
    "Otra  equivalencia nada intuitiva pero muy importante relaciona tres operaciones CNOT con la permutación U$_{\\rm SWAP}$ de la Fig.  {numref}`%s <Fig_elementos_Equiv_CNOTs>`. No hay una forma sencilla de probar esta identidad, así que lo recomendable es escribir las matrices asociadas a cada miembro y comprobar que son iguales. Vemos que gracias a esta equivalencia, la SWAP no es una puerta fundamental.\n",
    "::::{figure} Figuras/Fig_elementos_Equiv_CNOTs.png\n",
    ":width: 450px\n",
    ":align: center\n",
    ":name: Fig_elementos_Equiv_CNOTs\n",
    "Construcción de la puerta SWAP mediante CNOTs.\n",
    "::::\n"
   ]
  },
  {
   "cell_type": "markdown",
   "id": "9a1f8b25",
   "metadata": {},
   "source": [
    "::::::{admonition} Jupyter Notebook (06-Elementos\\_Basicos sección 1) \n",
    ":class: attention\n",
    "\n",
    "\n",
    "\n",
    "Ver la sección 1 del notebook <b>06-Elementos\\_Basicos</b>.\n",
    "::::::\n"
   ]
  },
  {
   "cell_type": "markdown",
   "id": "b597b99c",
   "metadata": {},
   "source": [
    "### $\\cg{K}$ (puerta de phase global controlada) y $P_\\phi$\n"
   ]
  },
  {
   "cell_type": "markdown",
   "id": "0ac2722b",
   "metadata": {},
   "source": [
    "La puerta de phase global controlada, $\\cg{K_\\phi} = {\\rm diag} (1,1,e^{i\\phi}, e^{i\\phi})$, secretamente, no es una puerta controlada\n",
    "::::{figure} Figuras/Fig_elementos_Equiv_Kphase.png\n",
    ":width: 350px\n",
    ":align: center\n",
    ":name: Fig_elementos_Equiv_Kphase\n",
    "La puerta controlada de fase global no es una puerta controlada.\n",
    "::::\n"
   ]
  },
  {
   "cell_type": "markdown",
   "id": "1a08884d",
   "metadata": {},
   "source": [
    "::::::{admonition} Ejercicio\n",
    ":class: tip\n",
    "\n",
    "\n",
    "Demuestra las equivalencia de circuitos anteriores de dos formas:\n",
    "\n",
    "\n",
    "a) sobre el papel,  multiplicando las matrices asociadas\n",
    "\n",
    "b) en qiskit, componiendo los circuitos y extrayendo el operador unitario asociado.\n",
    "\n",
    "::::::\n",
    "\n",
    "\n"
   ]
  },
  {
   "cell_type": "markdown",
   "id": "98148ad1",
   "metadata": {},
   "source": [
    "::::::{admonition} Ejercicio\n",
    ":class: tip\n",
    "\n",
    "\n",
    "Comprueba la equivalencia de los dos circuitos siguientes, siempre que se verifique que $V^2 = U$\n",
    "::::{figure} Figuras/Fig_elementos_CCUdecomposition.png\n",
    ":width: 600px\n",
    ":align: center\n",
    ":name: Fig_elementos_CCUdecomposition\n",
    "Desconposición de una puerta con dos controles\n",
    "::::\n",
    "Pista: puedes demostrarlo viendo que operaciones hacen ambos circuitos sobre el tercer qúbit cuando por los dos\n",
    "primeros entran los 4 estados posibles ($\\ket{00}$, $\\ket{10}$, $\\ket{01}$ y $\\ket{11}$)\n",
    "::::::\n",
    "\n",
    "\n"
   ]
  },
  {
   "cell_type": "markdown",
   "id": "8534e04c",
   "metadata": {},
   "source": [
    "::::{figure} https://quantumspain-project.es/wp-content/uploads/2022/11/Logo_QS_EspanaDigital.png\n",
    ":width: 2000px\n",
    ":align: center\n",
    "::::\n",
    "\n",
    "<center>\n",
    "<img align=\"left\" src=\"https://quantumspain-project.es/wp-content/uploads/2024/02/Banner-QS_GOB_v2.png\" width=\"1000px\" />\n",
    "</center>"
   ]
  }
 ],
 "metadata": {
  "kernelspec": {
   "display_name": "Python 3 (ipykernel)",
   "language": "python",
   "name": "python3"
  },
  "language_info": {
   "codemirror_mode": {
    "name": "ipython",
    "version": 3
   },
   "file_extension": ".py",
   "mimetype": "text/x-python",
   "name": "python",
   "nbconvert_exporter": "python",
   "pygments_lexer": "ipython3",
   "version": "3.11.7"
  },
  "toc": {
   "base_numbering": 1,
   "nav_menu": {},
   "number_sections": false,
   "sideBar": true,
   "skip_h1_title": true,
   "title_cell": "Table of Contents",
   "title_sidebar": "Contents",
   "toc_cell": false,
   "toc_position": {},
   "toc_section_display": true,
   "toc_window_display": false
  }
 },
 "nbformat": 4,
 "nbformat_minor": 5
}