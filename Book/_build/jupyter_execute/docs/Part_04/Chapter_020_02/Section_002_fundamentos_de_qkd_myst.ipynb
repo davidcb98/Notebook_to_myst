{
 "cells": [
  {
   "cell_type": "markdown",
   "id": "8ddaeb38",
   "metadata": {},
   "source": [
    "> {sub-ref}`today` | {sub-ref}`wordcount-minutes` min read\n",
    "\n",
    "::::{figure} Figuras/Fig_logo_UMA_scbi.png\n",
    ":width: 2000px\n",
    ":align: center\n",
    "::::\n",
    "\n",
    "$ \\newcommand{\\bra}[1]{\\langle #1|} $\n",
    "$ \\newcommand{\\ket}[1]{|#1\\rangle} $\n",
    "$ \\newcommand{\\branew}[1]{\\langle #1|} $\n",
    "$ \\newcommand{\\ketnew}[1]{\\langle #1|} $\n",
    "$ \\newcommand{\\braket}[2]{\\langle #1|#2\\rangle} $\n",
    "$ \\newcommand{\\ketbra}[2]{| #1\\rangle \\langle #2 |} $\n",
    "$ \\newcommand{\\i}{{\\color{blue} i}} $ \n",
    "$ \\newcommand{\\Hil}{{\\cal H}} $\n",
    "$ \\newcommand{\\cg}[1]{{\\rm C}#1} $\n",
    "$ \\newcommand{\\lp}{\\left(} $\n",
    "$ \\newcommand{\\rp}{\\right)} $\n",
    "$ \\newcommand{\\lc}{\\left[} $\n",
    "$ \\newcommand{\\rc}{\\right]} $\n",
    "$ \\newcommand{\\lch}{\\left\\{} $\n",
    "$ \\newcommand{\\rch}{\\right\\}} $\n",
    "$ \\newcommand{\\Lp}{\\Bigl(} $\n",
    "$ \\newcommand{\\Rp}{\\Bigr)} $\n",
    "$ \\newcommand{\\Lc}{\\Bigl[} $\n",
    "$ \\newcommand{\\Rc}{\\Bigr]} $\n",
    "$ \\newcommand{\\Lch}{\\Bigl\\{} $\n",
    "$ \\newcommand{\\Rch}{\\Bigr\\}} $\n",
    "$ \\newcommand{\\rqa}{\\quad \\Rightarrow \\quad} $\n",
    "$ \\newcommand{\\bm}{\\boldsymbol}$"
   ]
  },
  {
   "cell_type": "markdown",
   "id": "080fe82e",
   "metadata": {},
   "source": [
    "# Fundamentos de QKD\n"
   ]
  },
  {
   "cell_type": "markdown",
   "id": "feafae8a",
   "metadata": {},
   "source": [
    "El panorama ha cambiado en las últimas décadas, gracias a las inesperadas aportaciones de la física cuántica. A principios de los años 80, Bennett y Brassard propusieron una solución al problema de la distribución de claves basada en la física cuántica {cite}`bib_BB84`; esta idea, redescubierta independientemente por Ekert unos años más tarde {cite}`bib_Ekert-1991`, fue el comienzo de la <b>Quantum Key Distribution (QKD)</b>.\n"
   ]
  },
  {
   "cell_type": "markdown",
   "id": "e348a5fd",
   "metadata": {},
   "source": [
    "En un intrigante avance independiente, diez años después de la aparición de la QKD, Peter Shor descubrió que, en principio, los números grandes pueden factorizarse eficientemente si se pueden realizar manipulaciones coherentes en muchos sistemas cuánticos (ver capítulo  {numref}`%s <sec_chapter_Shor>`). La factorización de grandes números es un ejemplo de tarea matemática considerada clásicamente difícil de resolver y, por este motivo, está relacionada con una clase de esquemas criptográficos muy utilizados en la actualidad (el protocolo RSA visto anteriormente). Aunque todavía no se han construido ordenadores cuánticos con suficientes qúbits como para factorizar claves del tamaño de las que se usan en el protocolo RSA, la computación cuántica representa una amenaza para este tipo de criptografía.\n"
   ]
  },
  {
   "cell_type": "markdown",
   "id": "5dcefcd3",
   "metadata": {},
   "source": [
    "La QKD es un protocolo de seguridad demostrable que permite crear bits de clave privada entre dos partes a través de un canal público. Los bits de clave pueden utilizarse para aplicar un criptosistema clásico de clave privada que permita a las partes comunicarse de forma segura. El único requisito del protocolo QKD es que los qúbits puedan comunicarse a través del canal público con una tasa de error inferior a un determinado umbral. La seguridad de la clave resultante está garantizada por las propiedades de la información cuántica y, por tanto, sólo está condicionada a que las leyes fundamentales de la física sean correctas.\n"
   ]
  },
  {
   "cell_type": "markdown",
   "id": "f5e2f82c",
   "metadata": {},
   "source": [
    "## Un poco de historia\n"
   ]
  },
  {
   "cell_type": "markdown",
   "id": "bcb8a036",
   "metadata": {},
   "source": [
    "La QKD se desarrolló con la presentación del primer protocolo completo por parte de Bennett y Brassard en 1984 {cite}`bib_BB84`, el <b>BB84</b>, basado en ideas anteriores de Wiesner {cite}`bib_BB84_Wiesner_1983`. En el protocolo BB84, los bits se codifican en dos bases complementarias de un sistema de dos niveles (qúbit); este qúbit es enviado por Alice a Bob, que lo mide. El teorema de no clonación se menciona explícitamente como la razón de la seguridad. Estos trabajos se publicaron en actas de congresos y fueron prácticamente desconocidos para la comunidad de físicos. No fue hasta 1991, cuando Artur Ekert, independientemente de los desarrollos anteriores, publicó un artículo sobre distribuciones cuánticas de claves (el algoritmo <b>E91</b>) que el campo ganó popularidad rápidamente {cite}`bib_Ekert-1991`. El argumento de Ekert a favor de la seguridad tenía un sabor diferente: un fisgón introduce \"elementos de realidad\" en las correlaciones compartidas por Alice y Bob; así, si observan correlaciones que violan una desigualdad de Bell, la comunicación no puede haber sido completamente rota por Eve. Poco después, Bennett, Brassard y Mermin argumentaron que los protocolos basados en el entrelazamiento, como el E91, son equivalentes a los protocolos de preparación y medida, como el protocolo BB84  {cite}`bib_BB84_E91_iguales`.\n"
   ]
  },
  {
   "cell_type": "markdown",
   "id": "4659c4ab",
   "metadata": {},
   "source": [
    "El año 1992 fue testigo de otros dos hitos: la invención del protocolo B92 {cite}`bib_B92` y la primera demostración experimental {cite}`bib_experiment_QKD`. Se puede concluir razonablemente el periodo fundacional de la QKD con la definición de la amplificación de la privacidad, el postprocesamiento clásico necesario para borrar la información de Eve de la clave bruta {cite}`bib_Privacy_amplification`.\n"
   ]
  },
  {
   "cell_type": "markdown",
   "id": "cd43bd8b",
   "metadata": {},
   "source": [
    "Con el paso de los años el campo de la QKD práctica ha ido creciendo en amplitud y madurez. Se han propuesto nuevas familias de protocolos, en particular <b>protocolos de variable continua</b> {cite}`bib_Continue_var_Ralph_1999`,{cite}`bib_Continue_var_Hillery_2000`,{cite}`bib_Continue_var_Cerf_2001`,{cite}`bib_Continue_var_Gottesman_2001`,{cite}`bib_Continue_var_Grosshans_2002`,{cite}`bib_Continue_var_Silberhorn_2002` y los más recientes <b>protocolos de referencia de fase distribuida</b> (<i>distributed-phase-reference protocols</i>) {cite}`bib_Phase_Inoue_2002`,{cite}`bib_Phase_Stucki_2005`.\n"
   ]
  },
  {
   "cell_type": "markdown",
   "id": "cf526dd2",
   "metadata": {},
   "source": [
    "## Conceptos generales\n"
   ]
  },
  {
   "cell_type": "markdown",
   "id": "9ae80ce2",
   "metadata": {},
   "source": [
    "::::{figure} Figuras/Fig_QKD_setup.png\n",
    ":width: 500px\n",
    ":align: center\n",
    ":name: Fig_QKD_setup.png\n",
    "El escenario de QKD: Alice y Bob están conectados por un canal cuántico, en el que Eve puede intervenir sin más restricción que las leyes de la física; y por un canal clásico autenticado, en el que Eve sólo puede escuchar.\n",
    "::::\n"
   ]
  },
  {
   "cell_type": "markdown",
   "id": "27fc8601",
   "metadata": {},
   "source": [
    "La configuración genérica de QKD se muestra en la Fig. 1. Los dos interlocutores autorizados, aquellos que desean establecer una clave secreta a distancia, se denominan tradicionalmente Alice y Bob. Necesitan estar conectados por dos canales: un canal cuántico, que les permite compartir señales cuánticas, y un canal clásico, por el que pueden enviar mensajes clásicos de ida y vuelta.\n"
   ]
  },
  {
   "cell_type": "markdown",
   "id": "8b0db0d2",
   "metadata": {},
   "source": [
    "El canal clásico necesita autenticación: esto significa que Alice y Bob se identifican; una tercera persona puede escuchar la conversación pero no participar en ella. El canal cuántico, sin embargo, está abierto a cualquier posible manipulación por parte de un tercero. En concreto, la tarea de Alice y Bob es garantizar la seguridad contra un espía adversario, normalmente llamado Eve, que se cuela en el canal cuántico y escucha los intercambios en el canal clásico.\n"
   ]
  },
  {
   "cell_type": "markdown",
   "id": "1c159211",
   "metadata": {},
   "source": [
    "Por garantía de seguridad entendemos que nunca se utiliza una clave no secreta: o bien los socios autorizados pueden crear una clave secreta (una lista común de bits secretos que sólo ellos conocen) o bien abortan el protocolo. Por lo tanto, tras la transmisión de una secuencia de símbolos, Alice y Bob deben estimar cuánta información sobre sus listas de bits se ha filtrado a Eve. Esta estimación es obviamente imposible en la comunicación clásica: si alguien está interviniendo una línea telefónica, la comunicación continúa sin modificaciones. Aquí es donde entra en juego la física cuántica: en un canal cuántico, la fuga de información está cuantitativamente relacionada con la degradación de la comunicación. A continuación profundizamos un poco más en las razones físicas de esta afirmación.\n"
   ]
  },
  {
   "cell_type": "markdown",
   "id": "8bcce0be",
   "metadata": {},
   "source": [
    "## El origen de la seguridad\n"
   ]
  },
  {
   "cell_type": "markdown",
   "id": "ad8353ba",
   "metadata": {},
   "source": [
    "El origen de la seguridad de la QKD se remonta a algunos principios fundamentales de la física cuántica. Se puede argumentar, por ejemplo, que cualquier acción mediante la cual Eve extrae alguna información de los estados cuánticos es una forma generalizada de <b>medición</b>; y un principio bien conocido de la física cuántica dice que la medición en general modifica el estado del sistema medido. Alternativamente, se puede pensar que el objetivo de Eve es tener una copia perfecta del estado que Alice envía a Bob; esto, sin embargo, está prohibido por el teorema de no clonación (ver sección  {numref}`%s <sec_no_clone>`), que afirma que no se puede duplicar un estado cuántico desconocido manteniendo intacto el original. Ambos argumentos ya aparecían en el artículo seminal de Bennett y Brassard {cite}`bib_BB84`.\n"
   ]
  },
  {
   "cell_type": "markdown",
   "id": "fa5c74a3",
   "metadata": {},
   "source": [
    "Para los algoritmos que se basan en pares entrelazados (como el de Ekert de 1991 {cite}`bib_Ekert-1991`)  se puede invocar un tercer argumento físico, que suele considerarse más un hecho que un principio, pero muy profundo: las correlaciones cuánticas obtenidas por mediciones separadas en miembros de pares entrelazados violan las desigualdades del seno de Bell y, por tanto, no pueden haber sido creadas por un acuerdo preestablecido. En otras palabras, <i>los resultados de las mediciones no existían antes de las mediciones</i>; pero entonces, en particular, Eve no podía conocerlos {cite}`bib_Ekert-1991`. Este argumento supone que la QKD se implementa con estados entrelazados.\n"
   ]
  },
  {
   "cell_type": "markdown",
   "id": "81b537aa",
   "metadata": {},
   "source": [
    "El hecho de que la seguridad pueda basarse en principios generales de la física sugiere la posibilidad de una <b>seguridad incondicional</b> (<i>unconditional security</i>, es decir, la posibilidad de garantizar la seguridad sin imponer ninguna restricción al poder del fisgón. De hecho, actualmente se ha demostrado la seguridad incondicional de varios protocolos QKD.\n"
   ]
  },
  {
   "cell_type": "markdown",
   "id": "4b1e4600",
   "metadata": {},
   "source": [
    "## La elección de la luz\n"
   ]
  },
  {
   "cell_type": "markdown",
   "id": "d3806683",
   "metadata": {},
   "source": [
    "En general, el procesamiento cuántico de la información puede aplicarse con cualquier sistema y, de hecho, existen propuestas para aplicar la informática cuántica con iones, átomos, luz, espines, etc. En abstracto, este es también el caso de la QKD: se podría imaginar realizar un experimento de QKD con electrones, iones y moléculas; sin embargo, la luz es la única opción práctica.\n"
   ]
  },
  {
   "cell_type": "markdown",
   "id": "a5de009d",
   "metadata": {},
   "source": [
    "Ahora bien, como es bien sabido, la luz no interactúa fácilmente con la materia; por tanto, los estados cuánticos de la luz pueden transmitirse a lugares distantes básicamente sin decoherencia, en el sentido de que se espera una pequeña perturbación en la definición del modo óptico. El problema de la luz es la <b>dispersión</b>, es decir, las pérdidas: muy a menudo, los fotones simplemente no llegan. En primer lugar, las pérdidas imponen límites a la tasa de claves secretas (que no puede escalar con la distancia mejor que la transmisividad de la línea y la distancia alcanzable) cuando las pérdidas son tan grandes que la señal se pierde en eventos espurios, los \"recuentos oscuros\". En segundo lugar, las pérdidas pueden filtrar información al fisgón, según la naturaleza de la señal cuántica: en el caso de los pulsos coherentes, sin duda; en el de los fotones individuales, no; el caso de los haces entrelazados es más sutil. Una tercera diferencia básica viene determinada por el esquema de detección. Las implementaciones que utilizan contadores de fotones se basan en la postselección: si un fotón no llega, el detector no hace clic y el evento simplemente se descarta. Por el contrario, las implementaciones que utilizan <b>detección homodina</b> siempre dan una señal; por lo tanto, las pérdidas se traducen como ruido adicional.\n"
   ]
  },
  {
   "cell_type": "markdown",
   "id": "6de9d931",
   "metadata": {},
   "source": [
    "En resumen, la QKD siempre se implementa con luz y no hay razón para creer que las cosas vayan a cambiar en el futuro. En consecuencia, el canal cuántico es cualquier medio que propague la luz con pérdidas razonables: normalmente, una fibra óptica o simplemente el espacio libre siempre que Alice y Bob tengan una línea de visión.\n"
   ]
  },
  {
   "cell_type": "markdown",
   "id": "64794f4e",
   "metadata": {},
   "source": [
    "## Tratamiento cuántico de la información: marcos P$\\&$M y EB\n"
   ]
  },
  {
   "cell_type": "markdown",
   "id": "bd194e14",
   "metadata": {},
   "source": [
    "### Marco P$\\&$M\n"
   ]
  },
  {
   "cell_type": "markdown",
   "id": "98b64d61",
   "metadata": {},
   "source": [
    "El primer paso de un protocolo QKD es el intercambio y la medición de señales en el canal cuántico. El papel de Alice es codificar: el protocolo debe especificar qué estado cuántico $\\ket{\\Psi(S_n)}$ codifica para la secuencia de $n$ símbolos $S_n = \\lch s_1, \\dots, s_n \\rch$. En muchos protocolos, pero no en todos, el estado $\\ket{\\Psi(S_n)}$ tiene la forma de un producto tensorial $\\ket{\\psi(s_1)} \\otimes \\cdots \\ket{\\psi(s_n)}$.  En todos los casos, es crucial que el protocolo utilice un conjunto de estados <b>no ortogonales</b>, ya que, de lo contrario, Eve podría descodificar la secuencia sin introducir errores midiendo en la base adecuada (en otras palabras, un conjunto de estados ortogonales puede clonarse perfectamente). La razón de usar estados no ortogonales viene dada por la siguiente proposición:\n"
   ]
  },
  {
   "cell_type": "markdown",
   "id": "e987b837",
   "metadata": {},
   "source": [
    "::::::{prf:proposition} \n",
    "\n",
    "\n",
    "<i>(La ganancia de información implica perturbaciones)</i> En cualquier intento de distinguir entre dos estados cuánticos no ortogonales, la ganancia de información sólo es posible a costa de introducir perturbaciones en la señal.\n",
    "::::::\n",
    "\n",
    "\n"
   ]
  },
  {
   "cell_type": "markdown",
   "id": "252b4cbe",
   "metadata": {},
   "source": [
    "::::::::::{dropdown} Demostración\n",
    "Sean $\\ket{\\psi}$ y $\\ket{\\varphi}$ los estados cuánticos no ortogonales sobre los que Eve intenta obtener información. Podemos suponer sin pérdida de generalidad que el proceso que utiliza para obtener información es interactuar unitariamente el estado ($\\ket{\\psi}$ o $\\ket{\\varphi}$) con una ancilla preparada en un estado estándar $\\ket{u}$. Suponiendo que este proceso no perturba los estados, en los dos casos se obtiene\n",
    "\\begin{equation}\n",
    "\\begin{aligned}\n",
    "\\ket{\\psi} \\ket{u} & \\rightarrow \\ket{\\psi} \\ket{v} \\\\\n",
    "\\ket{\\varphi} \\ket{u} & \\rightarrow \\ket{\\varphi} \\ket{v'}\n",
    "\\end{aligned}\n",
    "\\end{equation}\n",
    "A Eve le gustaría que $\\ket{v}$ y $\\ket{v'}$ fueran diferentes, de tal forma que pudiera adquirir información sobre la identidad de los estados. Sin embargo, como el producto interno se conserva respecto a las transformaciones unitarias, debe de seguirse que\n",
    "\\begin{equation}\n",
    "\\braket{v}{v'} \\braket{\\psi}{\\varphi} = \\braket{u}{u} \\braket{\\psi}{\\varphi} \\rqa \\braket{v}{v'} = \\braket{u}{u} = 1\n",
    "\\end{equation}\n",
    "lo que implica que $\\ket{v}$ y $\\ket{v'}$ deben de ser idénticos. Así, distinguir entre $\\ket{\\psi}$ y $\\ket{\\varphi}$ debe perturbar inevitablemente al menos uno de estos estados.\n",
    "::::::::::\n",
    "Aprovechamos esta idea transmitiendo estados de qubits no ortogonales entre Alice y Bob. Al comprobar si hay perturbaciones en sus estados transmitidos, establecen un límite superior para cualquier ruido o escucha que se produzca en su canal de comunicación. Por lo tanto, el papel de Bob es doble: sus mediciones permiten, por supuesto, descodificar la señal, pero también una estimación de la pérdida de coherencia cuántica y, por tanto, de la información de Eve. Para que esto sea posible, deben utilizarse mediciones no compatibles.\n"
   ]
  },
  {
   "cell_type": "markdown",
   "id": "11f637fc",
   "metadata": {},
   "source": [
    "### Marco EB\n"
   ]
  },
  {
   "cell_type": "markdown",
   "id": "415aac9a",
   "metadata": {},
   "source": [
    "Hemos descrito la codificación cuántica de los protocolos QKD con el lenguaje de los esquemas de preparación y medida (<i>prepare-and-measure</i>, <b>P$\\&$M</b>): Alice elige activamente la secuencia $S_n$ que quiere enviar, prepara el estado $\\ket{\\Psi(S_n)}$, y lo envía a Bob, que realiza alguna medida. Cualquier esquema de este tipo puede traducirse inmediatamente en un esquema basado en el entrelazamiento (<i>entanglement-based</i>, <b>EB</b>): Alice prepara el estado entrelazado\n",
    "\\begin{equation}\n",
    "\\ket{\\Phi^n} = \\frac{1}{\\sqrt{d_n}} \\sum_{S_n} \\ket{S_n}_A \\otimes \\ket{\\Psi(S_n)}_B\n",
    "\\end{equation}\n",
    "donde $d_n$ es el número de posibles secuencias $S_n$ y $\\ket{S_n}_A$ forma una base ortogonal. Midiendo en esta base, Alice aprende un $S_n$ y prepara el correspondiente $\\ket{\\Psi(S_n)}$ en el subsistema que se envía a Bob: desde el punto de vista de Bob, nada cambia. Esta traducción formal no significa que ambas realizaciones sean igualmente prácticas o incluso factibles con la tecnología actual. Sin embargo, implica que la prueba de seguridad para el protocolo EB se traduce inmediatamente al protocolo P$\\&$M correspondiente y viceversa.\n"
   ]
  },
  {
   "cell_type": "markdown",
   "id": "8534e04c",
   "metadata": {},
   "source": [
    "::::{figure} https://quantumspain-project.es/wp-content/uploads/2022/11/Logo_QS_EspanaDigital.png\n",
    ":width: 2000px\n",
    ":align: center\n",
    "::::\n",
    "\n",
    "<center>\n",
    "<img align=\"left\" src=\"https://quantumspain-project.es/wp-content/uploads/2024/02/Banner-QS_GOB_v2.png\" width=\"1000px\" />\n",
    "</center>"
   ]
  }
 ],
 "metadata": {
  "kernelspec": {
   "display_name": "Python 3 (ipykernel)",
   "language": "python",
   "name": "python3"
  },
  "language_info": {
   "codemirror_mode": {
    "name": "ipython",
    "version": 3
   },
   "file_extension": ".py",
   "mimetype": "text/x-python",
   "name": "python",
   "nbconvert_exporter": "python",
   "pygments_lexer": "ipython3",
   "version": "3.11.7"
  },
  "toc": {
   "base_numbering": 1,
   "nav_menu": {},
   "number_sections": false,
   "sideBar": true,
   "skip_h1_title": true,
   "title_cell": "Table of Contents",
   "title_sidebar": "Contents",
   "toc_cell": false,
   "toc_position": {},
   "toc_section_display": true,
   "toc_window_display": false
  }
 },
 "nbformat": 4,
 "nbformat_minor": 5
}