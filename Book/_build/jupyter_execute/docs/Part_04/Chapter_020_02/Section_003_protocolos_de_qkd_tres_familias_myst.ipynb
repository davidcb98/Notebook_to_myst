{
 "cells": [
  {
   "cell_type": "markdown",
   "id": "8ddaeb38",
   "metadata": {},
   "source": [
    "> {sub-ref}`today` | {sub-ref}`wordcount-minutes` min read\n",
    "\n",
    "::::{figure} Figuras/Fig_logo_UMA_scbi.png\n",
    ":width: 2000px\n",
    ":align: center\n",
    "::::\n",
    "\n",
    "$ \\newcommand{\\bra}[1]{\\langle #1|} $\n",
    "$ \\newcommand{\\ket}[1]{|#1\\rangle} $\n",
    "$ \\newcommand{\\branew}[1]{\\langle #1|} $\n",
    "$ \\newcommand{\\ketnew}[1]{\\langle #1|} $\n",
    "$ \\newcommand{\\braket}[2]{\\langle #1|#2\\rangle} $\n",
    "$ \\newcommand{\\ketbra}[2]{| #1\\rangle \\langle #2 |} $\n",
    "$ \\newcommand{\\i}{{\\color{blue} i}} $ \n",
    "$ \\newcommand{\\Hil}{{\\cal H}} $\n",
    "$ \\newcommand{\\cg}[1]{{\\rm C}#1} $\n",
    "$ \\newcommand{\\lp}{\\left(} $\n",
    "$ \\newcommand{\\rp}{\\right)} $\n",
    "$ \\newcommand{\\lc}{\\left[} $\n",
    "$ \\newcommand{\\rc}{\\right]} $\n",
    "$ \\newcommand{\\lch}{\\left\\{} $\n",
    "$ \\newcommand{\\rch}{\\right\\}} $\n",
    "$ \\newcommand{\\Lp}{\\Bigl(} $\n",
    "$ \\newcommand{\\Rp}{\\Bigr)} $\n",
    "$ \\newcommand{\\Lc}{\\Bigl[} $\n",
    "$ \\newcommand{\\Rc}{\\Bigr]} $\n",
    "$ \\newcommand{\\Lch}{\\Bigl\\{} $\n",
    "$ \\newcommand{\\Rch}{\\Bigr\\}} $\n",
    "$ \\newcommand{\\rqa}{\\quad \\Rightarrow \\quad} $\n",
    "$ \\newcommand{\\bm}{\\boldsymbol}$"
   ]
  },
  {
   "cell_type": "markdown",
   "id": "080fe82e",
   "metadata": {},
   "source": [
    "# Protocolos de QKD: Tres familias\n"
   ]
  },
  {
   "cell_type": "markdown",
   "id": "13109f5e",
   "metadata": {},
   "source": [
    "El número de protocolos QKD explícitos es prácticamente infinito: después de todo, Bennett ha demostrado que se puede obtener seguridad cuando un bit se codifica en sólo dos estados cuánticos no ortogonales {cite}`bib_BB84_E91_iguales`. Pero, de hecho, esta posible variedad se ha cristalizado en tres familias principales: codificación de <b>variable discreta</b> (sección \\ref{subsec_QKD_discreta}), codificación de <b>variable continua</b> (sección \\ref{subsec_QKD_continua}) y, más recientemente, codificación <b>distributed-phase-referenc</b>e (sección \\ref{subsec_QKD_phase}). La diferencia crucial es el esquema de detección: la codificación discreta-variable y la codificación distribuida-fase-referencia utilizan el <b>recuento de fotones</b> y postseleccionan los eventos en los que se ha producido efectivamente una detección, mientras que la codificación continua-variable se define por el uso de <b>detección homodina</b>.\n"
   ]
  },
  {
   "cell_type": "markdown",
   "id": "e5dacd40",
   "metadata": {},
   "source": [
    "La codificación variable discreta es la original. Su principal ventaja es que los protocolos pueden diseñarse de forma que, en ausencia de errores, Alice y Bob compartan inmediatamente una clave secreta perfecta. Siguen siendo los protocolos QKD más frecuentemente implementados. Los argumentos a favor de la codificación de variable continua se derivan de la observación de que los contadores de fotones presentan normalmente bajas eficiencias cuánticas, altas tasas de recuento oscuro y tiempos muertos bastante largos, mientras que estos inconvenientes pueden superarse utilizando la detección homodina. El precio que hay que pagar es que el protocolo proporciona a Alice y Bob una realización correlacionada pero bastante ruidosa de una variable aleatoria continua, porque las pérdidas se traducen en ruido: como consecuencia, hay que utilizar una cantidad significativa de corrección de errores. En cuanto a la codificación distributed-phase-reference, su origen se encuentra en los esfuerzos de algunos grupos experimentales hacia una implementación más práctica. Desde el punto de vista de la detección, estos protocolos producen un resultado de variable discreta; pero la naturaleza de las señales cuánticas es muy diferente a la de la codificación de variable discreta, y esto motiva un tratamiento aparte.\n"
   ]
  },
  {
   "cell_type": "markdown",
   "id": "e2ebed6c",
   "metadata": {},
   "source": [
    "A pesar de las diferencias originadas por el uso de un dispositivo de detección distinto, existe una fuerte unidad conceptual subyacente en la QKD discreta y continua. Por poner sólo un ejemplo, en ambos casos la capacidad de distribuir una clave cuántica está estrechamente relacionada con la capacidad de distribuir entrelazamiento, independientemente del esquema de detección utilizado e incluso si no hay entrelazamiento real. Estas similitudes no son muy sorprendentes, ya que se sabe desde hace tiempo que las características cuánticas de la luz pueden revelarse mediante el recuento de fotones (por ejemplo, experimentos antibunching o anticorrelación) o mediante la detección homodina (por ejemplo, experimentos de squeezing). Dado que la QKD es una técnica que explota estas características cuánticas de la luz, no hay razón para que se restrinja al régimen de recuento de fotones. Sorprendentemente, al igual que el antibunching (o una fuente monofotónica) ni siquiera es necesario en la QKD basada en el recuento de fotones, el squeezing tampoco es necesario en la QKD basada en la detección homodina. La única característica cuántica que resulta necesaria es la no ortogonalidad de los estados de luz.\n"
   ]
  },
  {
   "cell_type": "markdown",
   "id": "8d9eb892",
   "metadata": {},
   "source": [
    "\n",
    "(subsec_QKD_discreta)= \n",
    "## Protocolos de variable discreta \n"
   ]
  },
  {
   "cell_type": "markdown",
   "id": "33c91e36",
   "metadata": {},
   "source": [
    "### BB84-BBM\n"
   ]
  },
  {
   "cell_type": "markdown",
   "id": "bbd6780b",
   "metadata": {},
   "source": [
    "El protocolo BB84 es, no solo el más famoso de los protocolos de variable discreta, sino el más famoso en general. Se trata también de la primera propuesta de un algoritmo de QKD y data de 1984 {cite}`bib_BB84`. El correspondiente protocolo EB (entanglement-base) es conocido como BBM {cite}`bib_BB84_E91_iguales`: el protocolo E91 {cite}`bib_Ekert-1991` es equivalente a él cuando se implementa con qúbits. Veamos la filosofía de estos protocolos.\n"
   ]
  },
  {
   "cell_type": "markdown",
   "id": "f767c117",
   "metadata": {},
   "source": [
    "Supongamos que Alicia tiene una fuente de fotones individuales. Las propiedades espectrales de los fotones están claramente definidas, por lo que el único grado de libertad que queda es la polarización. Alice y Bob alinean sus polarizadores y acuerdan utilizar la base horizontal o vertical (+), o la base complementaria de polarizaciones lineales, es decir, +45/-45 ($\\times$). En concreto, la codificación de bits es\n",
    "```{math}\n",
    ":label: ec_QKD_estados_BB84 \n",
    "\\begin{equation} \n",
    "\\begin{array}{rr}\n",
    "\\ket{0_+},& \\quad \\text{codifica la polarización horizontal} \\\\\n",
    "\\ket{1_+},& \\quad \\text{codifica la polarización vertical} \\\\\n",
    "\\ket{0_\\times},& \\quad \\text{codifica la polarización a +45º} \\\\\n",
    "\\ket{1_\\times},& \\quad \\text{codifica la polarización a -45º}\n",
    "\\end{array}\n",
    "\\end{equation} \n",
    "```\n"
   ]
  },
  {
   "cell_type": "markdown",
   "id": "387174b7",
   "metadata": {},
   "source": [
    "Vemos que ambos valores de bit 0 y 1 se codifican de dos formas posibles, o más exactamente en estados no ortogonales porque\n",
    "\\begin{align}\n",
    "\\ket{0_\\times} & = \\frac{1}{\\sqrt{2}} \\lp \\ket{0_+} + \\ket{0_-} \\rp \\\\\n",
    "\\ket{1_\\times} & = \\frac{1}{\\sqrt{2}} \\lp \\ket{0_+} - \\ket{0_-} \\rp\n",
    "\\end{align}\n"
   ]
  },
  {
   "cell_type": "markdown",
   "id": "6937018f",
   "metadata": {},
   "source": [
    "::::::{admonition} Nota (caso con qúbits) \n",
    ":class: note\n",
    "\n",
    "\n",
    "\n",
    "Estamos hablando de polarizaciones de la luz porque, como ya comentamos, se usan fotones para las transmisiones en el canal cuántico. Sin embargo, podríamos plantear el mismo protocolo tratando con qúbit. Por ejemplo, con qúbits podemos usar los siguientes cuatro estados:\n",
    "```{math}\n",
    ":label: ec_QKD_estados_BB84_xy \n",
    "\\begin{equation} \n",
    "\\begin{array}{rr}\n",
    "\\ket{+x}, \\ket{-x}, & \\quad \\text{autoestados de } \\sigma_x \\\\\n",
    "\\ket{+y}, \\ket{-y}, & \\quad \\text{autoestados de } \\sigma_y\n",
    "\\end{array}\n",
    "\\end{equation} \n",
    "```\n",
    "::::::\n"
   ]
  },
  {
   "cell_type": "markdown",
   "id": "22481ce3",
   "metadata": {},
   "source": [
    "Dada esta codificación, el protocolo BB84 es el siguiente:\n",
    "\n",
    " \n",
    "1. Alice prepara un fotón aleatoriamente en uno de los cuatro estados anteriores y lo envía a Bob por el canal cuántico.\n",
    " \n",
    "2. Bob lo mide. Como Bob no conoce en que base lo ha generado Alice, este elige aleatoriamente una de las dos bases: $+$ o $\\times$.\n",
    " \n",
    "3. Los dos pasos anteriores se repiten $4N$ veces, de forma que tanto Alice como Bob tienen ahora una lista de $4N$ bits cada uno.\n",
    " \n",
    "4. Alice y Bob se comunican por un canal clásico diciendose que base han usado para medir cada uno de los fotones.\n",
    " \n",
    "5. Alice y Bob descartan aquellos bits en los cuales han medido en bases distintas. Este paso se le suele llamar <b>criba</b> (<i>sifting</i>).  En promedio, habrán descartado $2N$ bits, así que les queda una lista con los otros $2N$ bits. A esto se llama la <b>clave bruta</b> (<i>raw key</i>).\n",
    " \n",
    "6.  Alice y Bob revelan ahora una muestra aleatoria de tamaño $N$ de los bits de sus claves brutas y estiman la tasa de error en el canal cuántico, y por tanto a su vez la información de Eve, manteniendo secretos los otros $N$ bits. En ausencia de errores, la clave bruta es idéntica para Alice y Bob, y Eve no tiene información: en este caso, los $N$ bit secretos de la clave bruta ya son la clave secreta. Sin embargo, si hay errores, Alice y Bob tienen que corregirlos y borrar la información que Eve podría haber obtenido. Ambas tareas pueden realizarse mediante la comunicación en el canal clásico, por lo que esta parte del protocolo se denomina <b>postprocesamiento clásico</b>. Al final de este procesamiento, Alice y Bob comparten una clave realmente secreta o nada en absoluto (si la información de Eve era demasiado grande).\n",
    "\n"
   ]
  },
  {
   "cell_type": "markdown",
   "id": "2f786612",
   "metadata": {},
   "source": [
    "::::::{admonition} Nota\n",
    ":class: note\n",
    "\n",
    "\n",
    "\n",
    "Véase que las comunicaciones por el canal clásico no tiene porque estar encriptadas, pues aunque Eve conozca esa información no le servirá para romper el protocolo.\n",
    "::::::\n"
   ]
  },
  {
   "cell_type": "markdown",
   "id": "5d9c9620",
   "metadata": {},
   "source": [
    "### SAR04\n"
   ]
  },
  {
   "cell_type": "markdown",
   "id": "b279f509",
   "metadata": {},
   "source": [
    "El protocolo SARG04 {cite}`bib_SAR04_1`,{cite}`bib_SAR04_2` utiliza los mismos cuatro estados Ec. (\\ref{ec_QKD_estados_BB84_xy}) y las mismas medidas en el lado de Bob que BB84, pero el bit se codifica en la base en lugar de en el estado (la base $X$ codifica para 0 y la base $Y$ codifica para 1). Bob tiene que elegir sus bases con probabilidad 1/2.\n"
   ]
  },
  {
   "cell_type": "markdown",
   "id": "32d98d90",
   "metadata": {},
   "source": [
    "La creación de la clave en bruto es ligeramente más complicada que en BB84. Supongamos por definición que Alice envía $\\ket{+x}$: en ausencia de errores tenemos que:\n",
    "\n",
    " \n",
    "- si Bob mide $X$, obtiene $s_b = +$\n",
    " \n",
    "- si Bob mide $Y$, puede obtener ambos $s_b= +/-$ con igual probabilidad\n",
    "\n",
    "Alice sin embargo, como ha enviado ella el estado sabe que $s_a = +$. En la fase de criba, Bob revela $s_b$; Alice le dice que acepte si había preparado un estado con $s_a \\neq s_b$, en cuyo caso Bob acepta el bit correspondiente a la base que no ha utilizado. La razón está clara en el ejemplo anterior: en ausencia de errores, $s_b= -$ señala la base equivocada.\n"
   ]
  },
  {
   "cell_type": "markdown",
   "id": "88c34a48",
   "metadata": {},
   "source": [
    "::::::{admonition} Nota (Ejemplo con $\\ket{-x}$) \n",
    ":class: note\n",
    "\n",
    "\n",
    "\n",
    "Si Alice envía $\\ket{-x}$ ella tiene que $s_a = -$. Sin embargo, Bob tiene los casos:\n",
    "\n",
    "\n",
    "- si Bob mide $X$, obtiene $s_b = -$\n",
    "\n",
    "- si Bob mide $Y$, puede obtener ambos $s_b= +/-$ con igual probabilidad\n",
    "\n",
    "En este caso, lo que señala que Bob ha medido en la base equivocada es que obtenga $s_b = +$.\n",
    "::::::\n"
   ]
  },
  {
   "cell_type": "markdown",
   "id": "8a0b659a",
   "metadata": {},
   "source": [
    "SARG04 se inventó para implementaciones con fuentes láser atenuadas porque es más robusto que BB84 contra los <b>ataques PNS</b>. Se ha demostrado la seguridad incondicional de este algoritmo (ver {cite}`bib_QKD_resumen`).\n"
   ]
  },
  {
   "cell_type": "markdown",
   "id": "7e68ad83",
   "metadata": {},
   "source": [
    "### Otros protocolos de variable discreta\n"
   ]
  },
  {
   "cell_type": "markdown",
   "id": "d1c8c6f0",
   "metadata": {},
   "source": [
    "Se ha propuesto un gran número de otros protocolos de variables discretas; todos ellos tienen características que los hacen menos interesantes para la QKD práctica que BB84 o SARG04.El protocolo de seis estados {cite}`bib_QKD_Six_state_2`,{cite}`bib_QKD_Six_state_3` sigue la misma estructura que BB84, al que añade la tercera base Z mutuamente insesgada definida por la matriz de Pauli $\\sigma_z$. Su seguridad incondicional se demostró bastante pronto {cite}`bib_QKD_Six_state_lo2001proof`. El interés de este protocolo reside en el hecho de que la estimación del canal se vuelve \"tomográficamente completa\", es decir, los parámetros medidos caracterizan completamente el canal. Como consecuencia, se puede tolerar más ruido que con los protocolos BB84 o SARG04. Sin embargo, el ruido es bastante bajo en las configuraciones ópticas, mientras que las pérdidas son más preocupantes. En este sentido, el protocolo de seis estados funciona peor porque requiere componentes ópticos con pérdidas adicionales. Consideraciones similares se aplican a la versión de seis estados de la codificación SARG04.\n"
   ]
  },
  {
   "cell_type": "markdown",
   "id": "5c257fc2",
   "metadata": {},
   "source": [
    "Por último, mencionamos el protocolo B92 {cite}`bib_B92`, que utiliza sólo dos estados no ortogonales, cada uno de los cuales codifica un valor de bit. En términos de codificación, ésta es obviamente la posibilidad más económica. Desafortunadamente, B92 es un protocolo bastante sensible: como se observó en el artículo original, este protocolo es seguro sólo si alguna otra señal (por ejemplo, un pulso de referencia fuerte) está presente junto con los dos estados que codifican el bit. Se ha demostrado la seguridad incondicional de las implementaciones monofotónicas {cite}`bib_B92_proof_1`,{cite}`bib_B92_proof_2` y de algunas implementaciones con un pulso de referencia fuerte {cite}`bib_B92_proof_3`,{cite}`bib_B92_proof_4`.\n"
   ]
  },
  {
   "cell_type": "markdown",
   "id": "84a9dd94",
   "metadata": {},
   "source": [
    "\n",
    "(subsec_QKD_continua)= \n",
    "## Protocolos de variable continua \n"
   ]
  },
  {
   "cell_type": "markdown",
   "id": "400fca9c",
   "metadata": {},
   "source": [
    "La codificación de variables discretas puede aplicarse con varias fuentes, pero requiere técnicas de recuento de fotones. Se ha sugerido un enfoque alternativo a la QKD, en el que los contadores de fotones se sustituyen por fotodiodos $p$-$i$-$n$ estándar de telecomunicaciones, que son más rápidos (gigahercios en lugar de megahercios) y más eficientes (normalmente el 80\\% en lugar del 10\\%). Los esquemas de medición correspondientes se basan entonces en la <b>detección homodina</b> e implican la medición de datos que son amplitudes reales en lugar de eventos discretos; de ahí que estos esquemas se denominen QKD de variable continua (<b>CV</b>).\n"
   ]
  },
  {
   "cell_type": "markdown",
   "id": "aec3245a",
   "metadata": {},
   "source": [
    "Las primeras propuestas que sugieren el uso de la detección homodina en QKD se deben a Ralph {cite}`bib_Continue_var_Ralph_1999`, Hillery {cite}`bib_Continue_var_Hillery_2000` y Reid {cite}`bib_Continue_var_Reid_2000`. En particular, una versión de <b>estado estrangulado</b> (<i>squeezed-state</i>) de BB84 fue propuesta por {cite}`bib_Continue_var_Hillery_2000`, donde la elección de base de Alice consiste en seleccionar si el estado de luz enviado a Bob está estrangulado en la <b>cuadratura</b> $q = x$ o $q = p$. A continuación, este q-squeezed state se desplaza en $q$ en $+c$ o $-c$ dependiendo de un bit aleatorio elegido por Alice, donde $c$ es una constante elegida apropiadamente. La base aleatoria elegida por Bob define si lo que se mide es la cuadratura $x$ o $p$. La criba consiste simplemente en conservar sólo los casos en los que las cuadraturas elegidas por Alice y Bob coinciden. En este caso, el valor medido por Bob se distribuye según una distribución gaussiana centrada en el valor ($+c$ o $-c$) enviado por Alice. En cierto sentido, este protocolo puede considerarse \"híbrido\" porque los datos de Alice son binarios mientras que los de Bob son reales (con distribución gaussiana).\n"
   ]
  },
  {
   "cell_type": "markdown",
   "id": "cdda3f38",
   "metadata": {},
   "source": [
    "Estas primeras propuestas y su generalización directa se denominan <b>protocolos CV con modulación discreta</b>; al mismo tiempo, se propuso otra clase de protocolos CV que utilizan en su lugar una <b>modulación continua</b>, en particular una modulación gaussiana. Aunque los protocolos CV son mucho más recientes que los protocolos de variable discreta, sus pruebas de seguridad no han dejado de progresar en los últimos años y ahora están a punto de alcanzar un nivel comparable (ver {cite}`bib_QKD_resumen`).\n"
   ]
  },
  {
   "cell_type": "markdown",
   "id": "82bd26ae",
   "metadata": {},
   "source": [
    "### Squeezed-states y cuadraturas\n"
   ]
  },
  {
   "cell_type": "markdown",
   "id": "ea3358e3",
   "metadata": {},
   "source": [
    "En el contexto de la óptica cuántica y la mecánica cuántica, un \"estado estrangulado\" (squeezed-states) se refiere a un estado cuántico específico de la luz (normalmente radiación electromagnética, como la luz láser) con algunas propiedades únicas. Los squeezed-states se caracterizan por la reducción de la incertidumbre en una de las dos propiedades complementarias del campo luminoso, a menudo denominadas <b>cuadraturas</b>. Los conceptos clave son los siguientes:\n",
    "\n",
    " \n",
    "1. <b>Cuadraturas</b>:\n",
    "\n",
    " \n",
    "    - En óptica cuántica, la luz puede describirse mediante dos propiedades u observables complementarias: la <b>posición</b> ($x$) y el <b>momento</b> ($p$). Se denominan variables conjugadas y representan direcciones ortogonales en el espacio de fases del sistema cuántico.\n",
    " \n",
    "    - El principio de incertidumbre, formulado por Heisenberg, establece que existe un límite fundamental en cuanto a la precisión con la que pueden conocerse simultáneamente la posición y el momento de una partícula cuántica (o, en este caso, un fotón en un campo luminoso). En otras palabras, no se pueden conocer con precisión ambas propiedades simultáneamente.\n",
    "\n",
    " \n",
    "2. <b>Squeezed-state</b>:\n",
    "\n",
    " \n",
    "    - Un squeezed-state es un estado cuántico de la luz en el que la incertidumbre (desviación típica) en una de las cuadraturas ($x$ o $p$) se reduce por debajo del límite de incertidumbre de Heisenberg.\n",
    " \n",
    "    - Cuando un estado se \"estruja\" en una cuadratura concreta, significa que las mediciones de esa propiedad se hacen más precisas, pero a costa de aumentar la incertidumbre en la cuadratura complementaria.\n",
    "\n",
    "\n"
   ]
  },
  {
   "cell_type": "markdown",
   "id": "4f0dd575",
   "metadata": {},
   "source": [
    "Por ejemplo, si se tiene un squeezed-state en la cuadratura de posición ($x$), significa que se reduce la incertidumbre en la medición de la posición, lo que permite realizar mediciones de posición más precisas. Sin embargo, esto tiene el coste de aumentar la incertidumbre en la cuadratura del momento ($p$). A la inversa, si el estado está comprimido en la cuadratura de momento ($p$), permite mediciones de momento más precisas a expensas de la incertidumbre de posición.\n"
   ]
  },
  {
   "cell_type": "markdown",
   "id": "6cb3c737",
   "metadata": {},
   "source": [
    "### Detección homodina\n"
   ]
  },
  {
   "cell_type": "markdown",
   "id": "b3905e6f",
   "metadata": {},
   "source": [
    "La QKD de variación continua se basa en la medición de los componentes de cuadratura de la luz. Esto puede hacerse cómodamente mediante detección óptica homodina. Este esquema de detección utiliza dos haces de la misma frecuencia: la señal y el llamado oscilador local (LO), mucho más fuerte y, por tanto, a menudo tratado como clásico. Los haces se superponen en un divisor de haz equilibrado. La intensidad de la luz en cada uno de los modos de salida se mide con detectores proporcionales y se registra la diferencia entre las fotocorrientes resultantes. Si la amplitud y la fase del oscilador local son estables, la corriente diferencial transporta información sobre un componente en cuadratura de la señal de entrada.\n"
   ]
  },
  {
   "cell_type": "markdown",
   "id": "9b3625e5",
   "metadata": {},
   "source": [
    "Las intensidades se miden mediante diodos $p$-$i$-$n$, que proporcionan una alta eficiencia de detección (normalmente el 80\\%) y un ruido relativamente bajo. Por tanto, la detección homodina podría funcionar en principio a velocidades de repetición de gigahercios, a diferencia de los contadores de fotones basados en APD, cuya velocidad de detección está limitada por el tiempo muerto del detector.\n"
   ]
  },
  {
   "cell_type": "markdown",
   "id": "a220218f",
   "metadata": {},
   "source": [
    "Desgraciadamente, el uso de una técnica de detección homodina de tan alta velocidad tiene un precio. Debido al principio de incertidumbre, la medición de cuadraturas complementarias es intrínsecamente ruidosa. El ruido de vacío (o ruido intrínseco) es el ruido que se obtiene cuando hay vacío en el puerto de señal (sólo está presente el oscilador local). Ahora bien, las inevitables pérdidas de transmisión en la línea óptica, que simplemente causan \"clics perdidos\" en los esquemas basados en el recuento de fotones, provocan una disminución de la relación señal/ruido en los esquemas basados en la detección homodina. El ruido del vacío es responsable de un ruido añadido bastante significativo en la QKD de variación continua, que debe corregirse durante la etapa clásica de postprocesamiento: un esfuerzo informático adicional en la QKD de variación continua.\n"
   ]
  },
  {
   "cell_type": "markdown",
   "id": "e5dd221c",
   "metadata": {},
   "source": [
    "\n",
    "(subsec_QKD_phase)= \n",
    "## Protocolos Distributed-phase-reference \n"
   ]
  },
  {
   "cell_type": "markdown",
   "id": "0860e9bd",
   "metadata": {},
   "source": [
    "Tanto los protocolos de variable discreta como los de variable continua fueron inventados por teóricos. Algunos grupos experimentales, en sus desarrollos hacia sistemas QKD prácticos, han concebido nuevos protocolos, que no encajan en las categorías anteriores. En ellos, al igual que en los protocolos de variable discreta, las claves brutas están formadas por realizaciones de una variable discreta (un bit) y ya están perfectamente correlacionadas en ausencia de errores. Sin embargo, el canal cuántico se controla utilizando las propiedades de los estados coherentes, más concretamente, observando la coherencia de fase de los impulsos subsiguientes; de ahí el nombre de protocolos distributed-phase-reference.\n"
   ]
  },
  {
   "cell_type": "markdown",
   "id": "35a93528",
   "metadata": {},
   "source": [
    "El primer protocolo de este tipo se ha denominado desplazamiento de fase diferencial (DPS) {cite}`bib_Phase_Inoue_2002`,{cite}`bib_Phase_Inoue_2003`. Alice produce una secuencia de estados coherentes de la misma intensidad,\n",
    "\\begin{equation}\n",
    "\\ket{ \\Psi (S_n)} = \\cdots \\ket{e^{i \\varphi_{k-1}} \\sqrt{\\mu}} \\ket{e^{i \\varphi_k} \\sqrt{\\mu}} \\ket{e^{i \\varphi_{k+1}} \\sqrt{\\mu}} \\cdots\n",
    "\\end{equation}\n",
    "donde cada fase puede fijarse en $\\varphi = 0$ o $\\pi$ (ver Fig. \\ref{Fig_QKD_DFR}). Los bits se codifican en la diferencia entre dos fases sucesivas: $b_k = 0$ si $e^{i \\varphi_k} = e^{i \\varphi_{k+1}}$ y $b_k = 1$ en caso contrario. Esto puede discriminarse inequívocamente utilizando un interferómetro desequilibrado. La complejidad en el análisis de este protocolo radica en que el k-ésimo pulso contribuye tanto al k-ésimo como al (k + 1)-ésimo bit. El protocolo DPS ya ha sido objeto de varios experimentos {cite}`bib_QKD_DFR_Takesue_2005`,{cite}`bib_QKD_DFR_Takesue_2007`,{cite}`bib_QKD_DFR_Diamanti_2006`\n"
   ]
  },
  {
   "cell_type": "markdown",
   "id": "eac288fb",
   "metadata": {},
   "source": [
    "::::{figure} Figuras/Fig_QKD_DFR.png\n",
    ":width: 600px\n",
    ":align: center\n",
    ":name: Fig_QKD_DFR\n",
    "Dos formas de implementar el protocolo distributed-phase-reference: desplazamiento de fase diferencial (DPS, arriba) y coherente unidireccional (COW, abajo). Leyenda: PM, modulador de fase; IM, modulador de intensidad. Figura tomada de {cite}`bib_QKD_resumen`\n",
    "::::\n"
   ]
  },
  {
   "cell_type": "markdown",
   "id": "0e8fdbdb",
   "metadata": {},
   "source": [
    "En el protocolo denominado coherent one way (COW) {cite}`bib_Phase_gisin2004practical`,{cite}`bib_Phase_Stucki_2005`, cada bit se codifica en una secuencia de un impulso no vacío y otro vacío,\n",
    "\\begin{equation}\n",
    "\\ket{0}_k = \\ket{\\sqrt{\\mu}}_{2k+1} \\ket{0}_{2k}, \\hspace{2cm}\n",
    "\\ket{1}_k = \\ket{0}_{2k+1} \\ket{\\sqrt{\\mu}}_{2k}.\n",
    "\\end{equation}\n",
    "Estos dos estados pueden discriminarse inequívocamente de forma óptima midiendo el tiempo de llegada (ver Fig. \\ref{Fig_QKD_DFR}).\n"
   ]
  },
  {
   "cell_type": "markdown",
   "id": "9e92c542",
   "metadata": {},
   "source": [
    "Tanto DPS como COW son esquemas P\\&M, adaptados para fuentes láser. Aún no ha sido posible derivar un límite para la seguridad incondicional porque las técnicas existentes sólo se aplican cuando $\\ket{\\Psi (S_n)}$ puede descomponerse en señales independientes. (Esta afirmación es a fecha del 2009, pues el paper en que se basa esta sección {cite}`bib_QKD_resumen` data de esa fecha.)\n"
   ]
  },
  {
   "cell_type": "markdown",
   "id": "8534e04c",
   "metadata": {},
   "source": [
    "::::{figure} https://quantumspain-project.es/wp-content/uploads/2022/11/Logo_QS_EspanaDigital.png\n",
    ":width: 2000px\n",
    ":align: center\n",
    "::::\n",
    "\n",
    "<center>\n",
    "<img align=\"left\" src=\"https://quantumspain-project.es/wp-content/uploads/2024/02/Banner-QS_GOB_v2.png\" width=\"1000px\" />\n",
    "</center>"
   ]
  }
 ],
 "metadata": {
  "kernelspec": {
   "display_name": "Python 3 (ipykernel)",
   "language": "python",
   "name": "python3"
  },
  "language_info": {
   "codemirror_mode": {
    "name": "ipython",
    "version": 3
   },
   "file_extension": ".py",
   "mimetype": "text/x-python",
   "name": "python",
   "nbconvert_exporter": "python",
   "pygments_lexer": "ipython3",
   "version": "3.11.7"
  },
  "toc": {
   "base_numbering": 1,
   "nav_menu": {},
   "number_sections": false,
   "sideBar": true,
   "skip_h1_title": true,
   "title_cell": "Table of Contents",
   "title_sidebar": "Contents",
   "toc_cell": false,
   "toc_position": {},
   "toc_section_display": true,
   "toc_window_display": false
  }
 },
 "nbformat": 4,
 "nbformat_minor": 5
}