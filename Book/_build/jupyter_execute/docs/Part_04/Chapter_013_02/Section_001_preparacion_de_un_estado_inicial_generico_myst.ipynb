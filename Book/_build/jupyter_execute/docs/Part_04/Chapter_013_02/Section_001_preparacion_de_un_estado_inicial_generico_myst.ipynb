{
 "cells": [
  {
   "cell_type": "markdown",
   "id": "8ddaeb38",
   "metadata": {},
   "source": [
    "> {sub-ref}`today` | {sub-ref}`wordcount-minutes` min read\n",
    "\n",
    "::::{figure} Figuras/Fig_logo_UMA_scbi.png\n",
    ":width: 2000px\n",
    ":align: center\n",
    "::::\n",
    "\n",
    "$ \\newcommand{\\bra}[1]{\\langle #1|} $\n",
    "$ \\newcommand{\\ket}[1]{|#1\\rangle} $\n",
    "$ \\newcommand{\\branew}[1]{\\langle #1|} $\n",
    "$ \\newcommand{\\ketnew}[1]{\\langle #1|} $\n",
    "$ \\newcommand{\\braket}[2]{\\langle #1|#2\\rangle} $\n",
    "$ \\newcommand{\\ketbra}[2]{| #1\\rangle \\langle #2 |} $\n",
    "$ \\newcommand{\\i}{{\\color{blue} i}} $ \n",
    "$ \\newcommand{\\Hil}{{\\cal H}} $\n",
    "$ \\newcommand{\\cg}[1]{{\\rm C}#1} $\n",
    "$ \\newcommand{\\lp}{\\left(} $\n",
    "$ \\newcommand{\\rp}{\\right)} $\n",
    "$ \\newcommand{\\lc}{\\left[} $\n",
    "$ \\newcommand{\\rc}{\\right]} $\n",
    "$ \\newcommand{\\lch}{\\left\\{} $\n",
    "$ \\newcommand{\\rch}{\\right\\}} $\n",
    "$ \\newcommand{\\Lp}{\\Bigl(} $\n",
    "$ \\newcommand{\\Rp}{\\Bigr)} $\n",
    "$ \\newcommand{\\Lc}{\\Bigl[} $\n",
    "$ \\newcommand{\\Rc}{\\Bigr]} $\n",
    "$ \\newcommand{\\Lch}{\\Bigl\\{} $\n",
    "$ \\newcommand{\\Rch}{\\Bigr\\}} $\n",
    "$ \\newcommand{\\rqa}{\\quad \\Rightarrow \\quad} $\n",
    "$ \\newcommand{\\bm}{\\boldsymbol}$"
   ]
  },
  {
   "cell_type": "markdown",
   "id": "080fe82e",
   "metadata": {},
   "source": [
    "# Preparación de un estado inicial genérico\n"
   ]
  },
  {
   "cell_type": "markdown",
   "id": "6ee0b078",
   "metadata": {},
   "source": [
    "En general, la preparación de un estado inicial arbitrario (así como el borrado de un estado) no es una operación, en general, eficiente. Esto es porque, en general, esta preparación implica fijar $2^n$ números complejos\n",
    "\\begin{equation}\n",
    "U \\, : \\, \\ket{0} \\rightarrow \\sum_{i=0}^{2^n-1} c_i \\ket{i}\n",
    "\\end{equation}\n",
    "Como podemos ver, la complejidad no es polinómica, sino exponencial.\n"
   ]
  },
  {
   "cell_type": "markdown",
   "id": "f7912086",
   "metadata": {},
   "source": [
    "Veamos uno de los algoritmos más simples (los hay mas refinados) para preparar un estado inicial arbitrario. Separemos las amplitudes complejas en módulo y fase\n",
    "\\begin{equation}\n",
    "c_i = a_i e^{\\gamma_i} ~, ~~~~ \\text{donde } a_i = |c_i|\n",
    "\\end{equation}\n",
    "Veamos el caso $n=2$. El circuito que nos permite preparar un estado genérico es el de la Fig. \\ref{Fig_InicialOracle_preparestatecircuit}, donde\n",
    "\\begin{equation}\n",
    "R_y(\\theta) = \\begin{bmatrix} \\cos\\frac{\\theta}{2} & -\\sin\\frac{\\theta}{2} \\\\\n",
    "\\sin\\frac{\\theta}{2}  & \\cos\\frac{\\theta}{2} \\end{bmatrix}~~~~, ~~~~~\n",
    "D(\\gamma_i,\\gamma_j ) = \\begin{bmatrix} e^{i\\gamma_i} & 0 \\\\ 0 & e^{i\\gamma_j} \\end{bmatrix} = K(\\gamma_i) P(\\gamma_j-\\gamma_i)\n",
    "\\end{equation}\n"
   ]
  },
  {
   "cell_type": "markdown",
   "id": "802177a5",
   "metadata": {},
   "source": [
    "::::{figure} Figuras/Fig_InicialOracle_preparestatecircuit\n",
    ":width: 650px\n",
    ":align: center\n",
    ":name: Fig_InicialOracle_preparestatecircuit\n",
    "Preparación de un estado inicial genérico de 2 qúbits.\n",
    "::::\n"
   ]
  },
  {
   "cell_type": "markdown",
   "id": "328da7ab",
   "metadata": {},
   "source": [
    "Analicémoslo parte a parte. La primera parte fijará los módulos y la segunda las fases. El estado antes de la barrera será\n",
    "\\begin{align*}\n",
    "\\ket{\\psi_0}~~\n",
    "&= ~~ \\cos\\theta_1 \\ket{0}\\otimes \\big( \\cos\\theta_2 \\ket{0} + \\sin\\theta_2\\ket{1}\\big)\n",
    "+ \\sin\\theta_1\\ket{1}\\otimes \\big(\\cos\\theta_3\\ket{0} + \\sin\\theta_3\\ket{1}\\big) \\\\\n",
    "&= ~~ \\cos\\theta_1 \\cos\\theta_2 \\ket{00} + \\cos\\theta_1\\sin\\theta_2\\ket{01} + \\sin\\theta_1\\cos\\theta_3\\ket{10}\n",
    "+ \\sin\\theta_1\\sin\\theta_3\\ket{11}\n",
    "\\end{align*}\n",
    "donde obtenemos 4 ecuaciones para 4 incógnitas\n",
    "\\begin{align*}\n",
    "a_1 &=  \\cos\\theta_1 \\cos\\theta_2  \\\\\n",
    "a_2 &=  \\cos\\theta_1\\sin\\theta_2   \\\\\n",
    "a_3 &=  \\sin\\theta_1\\cos\\theta_3   \\\\\n",
    "a_4 &=  \\sqrt{1-a_1^3-a_2^2-a_3^2}\n",
    "\\end{align*}\n",
    "sólo necesitamos 3 ángulos para representar 4 amplitudes debido a la ligadura $\\sum_i a_i^2 = 1$.\n",
    "Una vez fijadas las amplitudes, la última parte del circuito es equivalente al  operador unitario\n",
    "\\begin{equation}\n",
    "U =\n",
    "\\begin{bmatrix}\n",
    "e^{i\\gamma_1} & 0 & 0 & 0    \\\\\n",
    "0 & e^{i\\gamma_2} & 0 & 0    \\\\\n",
    "0 & 0 & e^{i\\gamma_3} & 0    \\\\\n",
    "0 & 0 & 0 & e^{i\\gamma_4}\n",
    "\\end{bmatrix} =\n",
    "\\begin{bmatrix}\n",
    "K(\\gamma_1)P(\\gamma_2-\\gamma_1) & 0   \\\\\n",
    "0 &K(\\gamma_3) P(\\gamma_4-\\gamma_3)\n",
    "\\end{bmatrix}\n",
    "= \\ket{0}\\bra{0}D(\\gamma_1,\\gamma_2) + \\ket{1}\\bra{1}D(\\gamma_3,\\gamma_4)\n",
    "\\end{equation}\n",
    "Evidentemente este circuito no puede ser eficiente puesto que es necesario ajustar un número $2\\cdot 2^n-1$ de parámetros (el número de puertas crece exponencialmente)\n"
   ]
  },
  {
   "cell_type": "markdown",
   "id": "d36cd4df",
   "metadata": {},
   "source": [
    "Sin embargo, no todo está perdido. Como ya veremos, muchos algoritmo aprovechan que ciertos estados son más fáciles de preparar que otros.  Por ejemplo el estado inicial que es una superposición homogénea de elementos de la base\n",
    "\\begin{equation}\n",
    "\\ket{\\psi} = W \\ket{0}  = \\ket{+}^{\\otimes n}= \\frac{1}{\\sqrt{n}}\\sum_{i=1}^{2^n-1} \\ket{i}\n",
    "\\end{equation}\n",
    "se obtiene con un circuito de  <b>coste</b> = $n~$  y $~$ <b>profundidad</b>=1 (aplicando una puerta de Hadammar a cada qúbit). Este caso es el ejemplo de superposición perfecta. De una tacada estamos fijando los $2^n$ números complejos.\n"
   ]
  },
  {
   "cell_type": "markdown",
   "id": "cc904aaf",
   "metadata": {},
   "source": [
    "Muchas veces, como en química computacional, ya no se trata de preparar un estado arbitrario, sino que el estado inicial debe de cumplir ciertas condiciones que hacen que sea más fácil construir estos estados que construir estados arbitrarios.\n"
   ]
  },
  {
   "cell_type": "markdown",
   "id": "8534e04c",
   "metadata": {},
   "source": [
    "::::{figure} https://quantumspain-project.es/wp-content/uploads/2022/11/Logo_QS_EspanaDigital.png\n",
    ":width: 2000px\n",
    ":align: center\n",
    "::::\n",
    "\n",
    "<center>\n",
    "<img align=\"left\" src=\"https://quantumspain-project.es/wp-content/uploads/2024/02/Banner-QS_GOB_v2.png\" width=\"1000px\" />\n",
    "</center>"
   ]
  }
 ],
 "metadata": {
  "kernelspec": {
   "display_name": "Python 3 (ipykernel)",
   "language": "python",
   "name": "python3"
  },
  "language_info": {
   "codemirror_mode": {
    "name": "ipython",
    "version": 3
   },
   "file_extension": ".py",
   "mimetype": "text/x-python",
   "name": "python",
   "nbconvert_exporter": "python",
   "pygments_lexer": "ipython3",
   "version": "3.11.7"
  },
  "toc": {
   "base_numbering": 1,
   "nav_menu": {},
   "number_sections": false,
   "sideBar": true,
   "skip_h1_title": true,
   "title_cell": "Table of Contents",
   "title_sidebar": "Contents",
   "toc_cell": false,
   "toc_position": {},
   "toc_section_display": true,
   "toc_window_display": false
  }
 },
 "nbformat": 4,
 "nbformat_minor": 5
}