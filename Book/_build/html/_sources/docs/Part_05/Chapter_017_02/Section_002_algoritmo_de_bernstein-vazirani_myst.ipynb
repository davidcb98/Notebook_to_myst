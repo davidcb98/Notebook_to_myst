{
 "cells": [
  {
   "cell_type": "markdown",
   "id": "8ddaeb38",
   "metadata": {},
   "source": [
    "> {sub-ref}`today` | {sub-ref}`wordcount-minutes` min read\n",
    "\n",
    "<img src=\"Figuras/Fig_logo_UMA_scbi.png\" align=center  width=\"2000px\"/>\n",
    "\n",
    "\n",
    "<a href=\"https://www.scbi.uma.es/web/es/computacion-cuantica/\">\n",
    "    <button class=\"rounded\" style=\"float: right;\">\n",
    "    <svg xmlns=\"http://www.w3.org/2000/svg\" width=\"32\" height=\"32\" viewBox=\"0 0 24 24\">\n",
    "        <path fill=\"var(--fill, white)\"\n",
    "        d=\"M18.1 15.3c-.1.1-.3.2-.4.3l-2.4.4l1.7 3.6c.2.4 0 .8-.4\n",
    "            1l-2.8 1.3c-.1.1-.2.1-.3.1c-.3 0-.6-.2-.7-.4L11.2\n",
    "            18l-1.9 1.5c-.1.1-.3.2-.5.2c-.4 0-.8-.3-.8-.8V7.5c0-.5.3-.8.8-.8c.2 0\n",
    "            .4.1.5.2l8.7 7.4c.3.2.4.7.1 1M6 12H4V4h16v8h-1.6l2.2 1.9c.8-.3 1.3-1\n",
    "            1.3-1.9V4c0-1.1-.9-2-2-2H4c-1.1 0-2 .9-2 2v8c0 1.1.9 2 2 2h2z\" />\n",
    "    </svg>\n",
    "    Volver a SCBI - Computación Cuantica\n",
    "    </button>\n",
    "</a>\n",
    "\n",
    "$ \\newcommand{\\bra}[1]{\\langle #1|} $\n",
    "$ \\newcommand{\\ket}[1]{|#1\\rangle} $\n",
    "$ \\newcommand{\\branew}[1]{\\langle #1|} $\n",
    "$ \\newcommand{\\ketnew}[1]{\\langle #1|} $\n",
    "$ \\newcommand{\\braket}[2]{\\langle #1|#2\\rangle} $\n",
    "$ \\newcommand{\\ketbra}[2]{| #1\\rangle \\langle #2 |} $\n",
    "$ \\newcommand{\\i}{{\\color{blue} i}} $ \n",
    "$ \\newcommand{\\Hil}{{\\cal H}} $\n",
    "$ \\newcommand{\\cg}[1]{{\\rm C}#1} $\n",
    "$ \\newcommand{\\lp}{\\left(} $\n",
    "$ \\newcommand{\\rp}{\\right)} $\n",
    "$ \\newcommand{\\lc}{\\left[} $\n",
    "$ \\newcommand{\\rc}{\\right]} $\n",
    "$ \\newcommand{\\lch}{\\left\\{} $\n",
    "$ \\newcommand{\\rch}{\\right\\}} $\n",
    "$ \\newcommand{\\Lp}{\\Bigl(} $\n",
    "$ \\newcommand{\\Rp}{\\Bigr)} $\n",
    "$ \\newcommand{\\Lc}{\\Bigl[} $\n",
    "$ \\newcommand{\\Rc}{\\Bigr]} $\n",
    "$ \\newcommand{\\Lch}{\\Bigl\\{} $\n",
    "$ \\newcommand{\\Rch}{\\Bigr\\}} $\n",
    "$ \\newcommand{\\rqa}{\\quad \\Rightarrow \\quad} $\n",
    "$ \\newcommand{\\bm}{\\boldsymbol}$"
   ]
  },
  {
   "cell_type": "markdown",
   "id": "080fe82e",
   "metadata": {},
   "source": [
    "# Algoritmo de Bernstein-Vazirani\n"
   ]
  },
  {
   "cell_type": "markdown",
   "id": "080fe82e",
   "metadata": {},
   "source": [
    "\n",
    " \n- <b>Promesa:</b> la función $f$ es una <i>lineal</i>, definida por una cadena de bits $a \\in \\{0,1\\}^n$\n",
    "    \\begin{equation*}\n",
    "    f(x) = a\\cdot x  = a_{n-1} x_{n-1} \\oplus ....\\oplus a_0 x_0\n",
    "    \\end{equation*}\n",
    " \n- <b>Problema:</b> hallar $a = a_{n-1} \\ldots a_0$. (Clásicamente necesitaríamos invocar el oráculo  $n$ veces. Por ejemplo  $f(0\\cdots 0 1)=0,1 $ revela $a_0=0,1$ respectivamente. Iterativamente  $f(0\\cdots 0 1 0)\\to a_1$, $ f(0\\cdots 1 0 0)\\to a_2 \\cdots$, etc.)\n",
    " \n- <b>Solución:</b> correr el circuito una sola vez y medir el estado final. El circuito es de la forma de la Fig.  {numref}`%s <Fig_algoritmos_circuito_genérico_Deutsch-Jozsa>`.\n",
    "\n"
   ]
  },
  {
   "cell_type": "markdown",
   "id": "080fe82e",
   "metadata": {},
   "source": [
    "::::::::::{dropdown} Demostración\n",
    "Veámoslo:\n",
    "\\begin{align*}\n",
    "\\ket{\\Phi} & = \\frac{1}{2^n}\\sum_{y=0}^{2^n-1} \\left(\\sum_{x=0}^{2^n-1}(-1)^{f(x)+ y\\cdot x}\\right)\\ket{y} = \\frac{1}{2^n}\\sum_{y=0}^{2^n-1} \\left(\\sum_{x=0}^{2^n-1}(-1)^{(a+y)\\cdot x}\\right)\\ket{y} \\\\  \\rule{0mm}{10mm}\n",
    "& =  \\frac{1}{2^n}\\sum_{y=0}^{2^n-1} \\left(\\sum_{x=0}^{2^n-1}(-1)^{(-a+y)\\cdot x}\\right)\\ket{y} \\\\ \\rule{0mm}{10mm}\n",
    "& =  \\frac{1}{2^n} \\delta_{y,a} \\lp \\sum_{x=0}^{2^n-1} 1 \\rp \\ket{y} = \\delta_{y,a} \\ket{y} \\\\  \\rule{0mm}{5mm}\n",
    "& =  \\ket{a_0a_1\\cdots a_{n-1}}\n",
    "\\end{align*}\n",
    "En el primer paso (de la primera linea a la segunda) usamos la igualdad trivial $ (-1)^a = (-1)^{-a}$. Entender el segundo paso y la aparición de la  delta es un poco más complicado. Para ello, tenemos que darnos cuenta de que en el sumatorio en $x$ vamos a tener tantos 1 como $-1$, con lo cual va a ser $0$ excepto para el valor de $y$ para el cual el término $(-a+y) = 0$. Para este último, independientemente del valor de $x$, todos los exponentes serán cero, así que tendremos una suma de unos.\n",
    "::::::::::\n"
   ]
  },
  {
   "cell_type": "markdown",
   "id": "080fe82e",
   "metadata": {},
   "source": [
    "::::::{admonition} Jupyter Notebook ([9. Algoritmos del Oráculo)](https://www.scbi.uma.es/web/wp-content/uploads/Jupyterbook/CICC_UMA/Notebooks/html/docs/Part_01/Chapter_09-Busqueda_Oracula_myst.html) \n",
    ":class: attention\n",
    "\n",
    "\n",
    "\n",
    "Ver la sección [9.1. El problema de Bernstein-Vazirani](https://www.scbi.uma.es/web/wp-content/uploads/Jupyterbook/CICC_UMA/Notebooks/html/docs/Part_01/Chapter_09-Busqueda_Oracula_myst.html#el-problema-de-bernstein-vazirani) del notebook [9. Algoritmos del Oráculo)](https://www.scbi.uma.es/web/wp-content/uploads/Jupyterbook/CICC_UMA/Notebooks/html/docs/Part_01/Chapter_09-Busqueda_Oracula_myst.html).\n",
    "\n",
    "El Notebook puede descargarse de [Github](https://github.com/davidcb98/CICC_UMA/blob/master/Notebooks/Part_01/Chapter_09-Busqueda_Oracula.ipynb).\n",
    "::::::\n"
   ]
  },
  {
   "cell_type": "markdown",
   "id": "080fe82e",
   "metadata": {},
   "source": [
    "::::::{admonition} Nota (Bernstein-Vazirani en Qiskit) \n",
    ":class: note\n",
    "\n",
    "\n",
    "\n",
    "Se puede ver otra explicación del algoritmo de  Bernstein-Vazirani junto con su implementación en Qiskit en el [Notebook de Qiskit (https://learn.qiskit.org/course/ch-algorithms/bernstein-vazirani-algorithm)](https://learn.qiskit.org/course/ch-algorithms/bernstein-vazirani-algorithm) .\n",
    "\n",
    "::::::\n"
   ]
  },
  {
   "cell_type": "markdown",
   "id": "080fe82e",
   "metadata": {},
   "source": [
    "::::::{admonition} Nota (Porque funciona el circuito del algoritmo de Bernstein-Vazirani?) \n",
    ":class: note\n",
    "\n",
    "\n",
    "\n",
    "Supongamos que tomamos, por ejemplo, el caso $a=01011$. Podemos ver como sería el circuito para este caso en la Fig.  {numref}`%s <Fig_algoritmos_BV_circuit>`.\n",
    "::::{figure} Figuras/Fig_algoritmos_BV_circuit.png\n",
    ":width: 300px\n",
    ":align: center\n",
    ":name: Fig_algoritmos_BV_circuit\n",
    "Circuito de Bernstein-Vazirani para $a=010111$ (en la notación de Qisqit).\n",
    "::::\n",
    "\n",
    "Usando el hecho de que $HH=I$, podemos añadir pares de puertas $H$ entre las CNOTs en el qubit ancilla. Ahora solo tenemos que usar la identidad para invertir las CNOTs\n",
    "de la Fig.  {numref}`%s <Fig_elementos_Equiv_HH>` y llegaremos al circuito de la Fig.  {numref}`%s <Fig_algoritmos_Bernstein_Vazirani_trick>`\n",
    "\n",
    "::::{figure} Figuras/Fig_algoritmos_Bernstein_Vazirani_trick.png\n",
    ":width: 300px\n",
    ":align: center\n",
    ":name: Fig_algoritmos_Bernstein_Vazirani_trick\n",
    "Circuito multiplica binariamente qubit a qubit $x \\oplus a$. Para obtener el resultado de la multiplicación hay que hacer la multiplicación binaria de los qubit del final.\n",
    "::::\n",
    "\n",
    "::::::\n"
   ]
  },
  {
   "cell_type": "markdown",
   "id": "8534e04c",
   "metadata": {},
   "source": [
    "::::{figure} https://quantumspain-project.es/wp-content/uploads/2022/11/Logo_QS_EspanaDigital.png\n",
    ":width: 2000px\n",
    ":align: center\n",
    "::::\n",
    "\n",
    "<center>\n",
    "<img align=\"left\" src=\"https://quantumspain-project.es/wp-content/uploads/2024/02/Banner-QS_GOB_v2.png\" width=\"1000px\" />\n",
    "</center>"
   ]
  }
 ],
 "metadata": {
  "kernelspec": {
   "display_name": "Python 3 (ipykernel)",
   "language": "python",
   "name": "python3"
  },
  "language_info": {
   "codemirror_mode": {
    "name": "ipython",
    "version": 3
   },
   "file_extension": ".py",
   "mimetype": "text/x-python",
   "name": "python",
   "nbconvert_exporter": "python",
   "pygments_lexer": "ipython3",
   "version": "3.11.7"
  },
  "toc": {
   "base_numbering": 1,
   "nav_menu": {},
   "number_sections": false,
   "sideBar": true,
   "skip_h1_title": true,
   "title_cell": "Table of Contents",
   "title_sidebar": "Contents",
   "toc_cell": false,
   "toc_position": {},
   "toc_section_display": true,
   "toc_window_display": false
  }
 },
 "nbformat": 4,
 "nbformat_minor": 5
}
