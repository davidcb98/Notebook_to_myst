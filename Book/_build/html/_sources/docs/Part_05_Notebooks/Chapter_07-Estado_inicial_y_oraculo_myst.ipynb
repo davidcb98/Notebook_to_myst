{
 "cells": [
  {
   "cell_type": "markdown",
   "id": "671e9859",
   "metadata": {},
   "source": [
    "> {sub-ref}`today` | {sub-ref}`wordcount-minutes` min read\n",
    "\n",
    "(sec_Notebooks_oraculos)= \n",
    "# Oráculos (funciones digitales)\n"
   ]
  },
  {
   "cell_type": "markdown",
   "id": "a0ddddb4",
   "metadata": {},
   "source": [
    "- **{ref}`sec_Notebooks_oraculos_1`**\n",
    "- **{ref}`sec_Notebooks_oraculos_2`**"
   ]
  },
  {
   "cell_type": "code",
   "execution_count": null,
   "id": "d70beec7",
   "metadata": {},
   "outputs": [],
   "source": [
    "from qiskit import QuantumRegister, QuantumCircuit, ClassicalRegister\n",
    "from qiskit import transpile\n",
    "from qiskit.circuit.library import MCXGate\n",
    "import numpy as np\n",
    "from qiskit_aer import AerSimulator"
   ]
  },
  {
   "cell_type": "code",
   "execution_count": null,
   "id": "7b2e5c4e",
   "metadata": {},
   "outputs": [],
   "source": [
    "# Importamos el simulador. Con \"method\" le especificamos el método de simulación\n",
    "simulador = AerSimulator(method = 'statevector')"
   ]
  },
  {
   "cell_type": "markdown",
   "id": "d84021dc",
   "metadata": {},
   "source": [
    "(sec_Notebooks_oraculos_1)= \n",
    "##  Construcción de funciones binarias. Los min-términos "
   ]
  },
  {
   "cell_type": "markdown",
   "id": "61697ee2",
   "metadata": {},
   "source": [
    "Consideremos la siguiente tabla de verdad para una función $f: \\{0, 1\\}^3 \\rightarrow \\{0, 1\\}$ concreta.\n",
    "\n",
    "\n",
    "|$$x_2$$|$$x_1$$|$$x_0$$|$$f(x)$$|\n",
    "|---|---|---|---|\n",
    "|0|0|0|0|\n",
    "|0|0|1|1|\n",
    "|0|1|0|0|\n",
    "|0|1|1|0|\n",
    "|1|0|0|0|\n",
    "|1|0|1|1|\n",
    "|1|1|0|0|\n",
    "|1|1|1|1|"
   ]
  },
  {
   "cell_type": "markdown",
   "id": "996f9fd0",
   "metadata": {},
   "source": [
    "La idea es considerar exclusivamente los términos que tienen como salida la variable 1, que denominaremos <b>min-términos</b>. \n",
    "\n",
    "Cada min-término llevará asociada una puerta condicionada diferente. Su composición define la función $f$\n",
    "\n",
    "Para el caso de la tabla de verdad anterior, el circuito correspondiente vendrá dado por:"
   ]
  },
  {
   "cell_type": "code",
   "execution_count": null,
   "id": "be87b5d6",
   "metadata": {},
   "outputs": [],
   "source": [
    "qr = QuantumRegister(4)\n",
    "cr = ClassicalRegister(4)\n",
    "\n",
    "qc = QuantumCircuit(qr, cr, name='q')\n",
    "\n",
    "qc.append(MCXGate(3, ctrl_state=1), qr)\n",
    "qc.append(MCXGate(3, ctrl_state=5), qr)\n",
    "qc.append(MCXGate(3, ctrl_state=7), qr)\n",
    "\n",
    "qc.draw(output='mpl')"
   ]
  },
  {
   "cell_type": "markdown",
   "id": "d5b9203f",
   "metadata": {},
   "source": [
    "donde hemos hecho uso de la puerta multicontrolada [MCXGate](https://qiskit.org/documentation/stubs/qiskit.circuit.library.MCXGate.html?highlight=mcxgate#qiskit.circuit.library.MCXGate) de qiskit"
   ]
  },
  {
   "cell_type": "markdown",
   "id": "604ee3e1",
   "metadata": {},
   "source": [
    "Vamos a implementar una función $f:\\{0,1\\}^4\\to \\{0,1\\}^4$ dada por la siguiente *tabla de verdad* \n",
    "\n",
    "\n",
    "|$$x$$|$$f(x)$$|$$x$$|$$f(x)$$|\n",
    "|---|---|---|---|\n",
    "|0000|1111|1000|0101|\n",
    "|0001|1011|1001|0100|\n",
    "|0010|0011|1010|0000|\n",
    "|0011|1000|1011|1110|\n",
    "|0100|0101|1100|1111|\n",
    "|0101|0100|1101|1011|\n",
    "|0110|0000|1110|0011|\n",
    "|0111|1110|1111|1000|\n",
    "\n",
    ""
   ]
  },
  {
   "cell_type": "markdown",
   "id": "19f108ea",
   "metadata": {},
   "source": [
    "::::::{admonition} Ejercicio\n",
    ":class: tip\n",
    "\n",
    "\n",
    "        \n",
    "Completa la el código que genera un circuito que implementa la siguiente función digital\n",
    " \n",
    "\n",
    ":::{dropdown} Solución\n",
    "    if output_bit =='1':\n",
    "        qc.append(MCXGate(len(input_str), ctrl_state=ctrl_state),qr_input[:]+[qr_output[j]])\n",
    ":::\n",
    "::::::\n"
   ]
  },
  {
   "cell_type": "code",
   "execution_count": null,
   "id": "26ef1f45",
   "metadata": {},
   "outputs": [],
   "source": [
    "def oracle(f_outputs): \n",
    "    \n",
    "    n = int(np.log2(len(f_outputs)))  #dimension del registro de entrada |x> \n",
    "    m = len(f_outputs[0])             #dimension del registro de salida |f(x)>\n",
    "    \n",
    "    #generamos todos los posibles inputs en binario, completando con ceros hasta tener strings de n bits\n",
    "    inputs = [format(i, 'b').zfill(n) for i in range(2**n)]\n",
    "    print(inputs)\n",
    "    \n",
    "    qr_input = QuantumRegister(n, name='input')\n",
    "    qr_output = QuantumRegister(m, name='output')\n",
    "    qc = QuantumCircuit(qr_input, qr_output)\n",
    "\n",
    "\n",
    "    # Hacemos un bucle sobre los inputs\n",
    "    for i,input_str in enumerate(inputs):\n",
    "        ctrl_state= int(input_str[::],2)\n",
    "        print(i, ctrl_state)\n",
    "        # Para cada input, i, haz un bucle sobre cada bit del output     \n",
    "        for j,output_bit in enumerate(f_outputs[i]):\n",
    "        \n",
    "###\n",
    "#\n",
    "#        Tu solución aquí\n",
    "#\n",
    "#\n",
    "####\n",
    "    return qc"
   ]
  },
  {
   "cell_type": "code",
   "execution_count": null,
   "id": "123e69b3",
   "metadata": {},
   "outputs": [],
   "source": [
    "f_outputs = ['1111', '1011', '0011', '1000', '0101', '0100', \n",
    "               '0000', '1110', '0101', '0100', '0000', '1110', \n",
    "               '1111', '1011', '0011', '1000']\n",
    "\n",
    "# f_outputs= ['000', '001', '010', '011', '100', '101', '110', '111']\n",
    "    \n",
    "   \n",
    "oracle(f_outputs).draw()"
   ]
  },
  {
   "cell_type": "markdown",
   "id": "75e02211",
   "metadata": {},
   "source": [
    "::::::{admonition} Ejercicio\n",
    ":class: tip\n",
    "\n",
    "\n",
    "        \n",
    "Escribe una función $f:S^n\\to S$  que  produzca aleatoriamente $f(x) = \\pm 1$ de forma <i>equilibrada</i> (es decir, tantos $f(x)= +1$ como $f(x)= -1$). \n",
    " \n",
    "\n",
    ":::{dropdown} Solución\n",
    "\n",
    "Ver por ejemplo la solución del qiskit textbook:https://qiskit.org/textbook/ch-algorithms/deutsch-jozsa.html   sección 4.4 \n",
    "    \n",
    ":::\n",
    "::::::\n"
   ]
  },
  {
   "cell_type": "markdown",
   "id": "fe996846",
   "metadata": {},
   "source": [
    "(sec_Notebooks_oraculos_2)= \n",
    "## Función binaria lineal\n",
    " "
   ]
  },
  {
   "cell_type": "markdown",
   "id": "02795e77",
   "metadata": {},
   "source": [
    "Dados dos n-tuplas binarias $x=(x_{n-1},\\ldots,x_0)$ y $a=(a_{n-1},\\ldots,a_0)$ definimos la **función lineal**\n",
    "\n",
    "        \n",
    "\\begin{equation}\n",
    "f(x;a) = a \\cdot x = a_{n-1} x_{n-1} \\oplus a_{n-2} x_{n-2} \\oplus \\cdots \\oplus a_{0} x_{0}\\; ,\n",
    "\\end{equation}\n",
    "\n",
    "\n",
    "donde  $\\oplus$ es la suma módulo 2."
   ]
  },
  {
   "cell_type": "markdown",
   "id": "47240ea3",
   "metadata": {},
   "source": [
    "Por ejemplo, el circuito que implementa esta función cuando $a=11010$ es el siguiente\n",
    "\n",
    "\n",
    "\n",
    "\n",
    "::::{figure} Figuras/Fig_InitialOracle_linear_function.png\n",
    ":width: 400px\n",
    ":align: center\n",
    "::::\n"
   ]
  },
  {
   "cell_type": "markdown",
   "id": "b59a1337",
   "metadata": {},
   "source": [
    "::::::{admonition} Ejercicio\n",
    ":class: tip\n",
    "\n",
    "\n",
    "        \n",
    "Completa el siguiente código que genera el circuito asociado a la función binaria lineal $f(x;a)$. \n",
    " \n",
    "\n",
    ":::{dropdown} Solución\n",
    "\n",
    "    for i, aq in enumerate(reversed(a)):\n",
    "        if aq == '1':\n",
    "             qc.cx(qr_in[i],qr_out) \n",
    "    \n",
    ":::\n",
    "::::::\n"
   ]
  },
  {
   "cell_type": "markdown",
   "metadata": {},
   "source": [
    "```{code-block} python\n",
    "def linear_circuit(x,a):\n",
    "       \n",
    "    assert(len(x)==len(a))\n",
    "\n",
    "    # Inicialización de los registros\n",
    "    qr_in = QuantumRegister(len(a), name='qr_in')\n",
    "    qr_out = QuantumRegister(1, name='qr_out')\n",
    "    cr = ClassicalRegister(1, name='cr')  \n",
    "    qc = QuantumCircuit(qr_in, qr_out, cr, name='q_linear')\n",
    "    \n",
    "    'inicializamo el estado x '\n",
    "    for i, xq in enumerate(reversed(x)):  # ojo con la ordenación de qiskit, por eso está reversed()\n",
    "        if xq == '1':\n",
    "             qc.x(qr_in[i]) \n",
    "\n",
    "    qc.barrier()\n",
    "\n",
    "    'codificamos la función lineal x.a '\n",
    "###\n",
    "#\n",
    "#        Tu solución aquí\n",
    "#\n",
    "#\n",
    "####\n",
    "            \n",
    "    qc.barrier()\n",
    "    qc.measure(qr_out[0],cr[0])\n",
    "    \n",
    "    return qc \n",
    "```\n"
   ]
  },
  {
   "cell_type": "markdown",
   "id": "eea9fc58",
   "metadata": {},
   "source": [
    "Veamos un ejemplo"
   ]
  },
  {
   "cell_type": "markdown",
   "metadata": {},
   "source": [
    "```{code-block} python\n",
    "a = '1011'\n",
    "x = '1001'\n",
    "\n",
    "circuit = linear_circuit(x,a)\n",
    "#qc.draw('mpl')\n",
    "```\n"
   ]
  },
  {
   "cell_type": "markdown",
   "id": "0f2be722",
   "metadata": {},
   "source": [
    "La función $a\\cdot x = (1 + 0 + 0 + 1)mod(2) = 0$. Vamos a ver si este resultado es el hallado"
   ]
  },
  {
   "cell_type": "markdown",
   "metadata": {},
   "source": [
    "```{code-block} python\n",
    "# transpilamos\n",
    "t_circuit = transpile(circuit, backend = simulador)\n",
    "\n",
    "# Ejecutamos la simulación con 1000 shots \n",
    "result = simulador.run(t_circuit, shots = 1000).result()\n",
    "counts = result.get_counts()\n",
    "counts\n",
    "```\n"
   ]
  },
  {
   "cell_type": "code",
   "execution_count": null,
   "id": "b85a11d0",
   "metadata": {},
   "outputs": [],
   "source": []
  }
 ],
 "metadata": {
  "celltoolbar": "Tags",
  "kernelspec": {
   "display_name": "Python 3 (ipykernel)",
   "language": "python",
   "name": "python3"
  },
  "language_info": {
   "codemirror_mode": {
    "name": "ipython",
    "version": 3
   },
   "file_extension": ".py",
   "mimetype": "text/x-python",
   "name": "python",
   "nbconvert_exporter": "python",
   "pygments_lexer": "ipython3",
   "version": "3.11.7"
  },
  "toc": {
   "base_numbering": 1,
   "nav_menu": {},
   "number_sections": false,
   "sideBar": true,
   "skip_h1_title": true,
   "title_cell": "Table of Contents",
   "title_sidebar": "Contents",
   "toc_cell": false,
   "toc_position": {
    "height": "calc(100% - 180px)",
    "left": "10px",
    "top": "150px",
    "width": "303.639px"
   },
   "toc_section_display": true,
   "toc_window_display": false
  }
 },
 "nbformat": 4,
 "nbformat_minor": 5
}
