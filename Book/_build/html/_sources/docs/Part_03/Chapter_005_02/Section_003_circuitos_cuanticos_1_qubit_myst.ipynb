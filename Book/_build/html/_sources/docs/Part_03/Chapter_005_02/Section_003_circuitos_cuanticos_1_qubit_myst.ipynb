{
 "cells": [
  {
   "cell_type": "markdown",
   "id": "8ddaeb38",
   "metadata": {},
   "source": [
    "> {sub-ref}`today` | {sub-ref}`wordcount-minutes` min read\n",
    "\n",
    "<img src=\"Figuras/Fig_logo_UMA_scbi.png\" align=center  width=\"2000px\"/>\n",
    "\n",
    "\n",
    "<a href=\"https://www.scbi.uma.es/web/es/computacion-cuantica/\">\n",
    "    <button class=\"rounded\" style=\"float: right;\">\n",
    "    <svg xmlns=\"http://www.w3.org/2000/svg\" width=\"32\" height=\"32\" viewBox=\"0 0 24 24\">\n",
    "        <path fill=\"var(--fill, white)\"\n",
    "        d=\"M18.1 15.3c-.1.1-.3.2-.4.3l-2.4.4l1.7 3.6c.2.4 0 .8-.4\n",
    "            1l-2.8 1.3c-.1.1-.2.1-.3.1c-.3 0-.6-.2-.7-.4L11.2\n",
    "            18l-1.9 1.5c-.1.1-.3.2-.5.2c-.4 0-.8-.3-.8-.8V7.5c0-.5.3-.8.8-.8c.2 0\n",
    "            .4.1.5.2l8.7 7.4c.3.2.4.7.1 1M6 12H4V4h16v8h-1.6l2.2 1.9c.8-.3 1.3-1\n",
    "            1.3-1.9V4c0-1.1-.9-2-2-2H4c-1.1 0-2 .9-2 2v8c0 1.1.9 2 2 2h2z\" />\n",
    "    </svg>\n",
    "    Volver a SCBI - Computación Cuantica\n",
    "    </button>\n",
    "</a>\n",
    "\n",
    "$ \\newcommand{\\bra}[1]{\\langle #1|} $\n",
    "$ \\newcommand{\\ket}[1]{|#1\\rangle} $\n",
    "$ \\newcommand{\\branew}[1]{\\langle #1|} $\n",
    "$ \\newcommand{\\ketnew}[1]{\\langle #1|} $\n",
    "$ \\newcommand{\\braket}[2]{\\langle #1|#2\\rangle} $\n",
    "$ \\newcommand{\\ketbra}[2]{| #1\\rangle \\langle #2 |} $\n",
    "$ \\newcommand{\\i}{{\\color{blue} i}} $ \n",
    "$ \\newcommand{\\Hil}{{\\cal H}} $\n",
    "$ \\newcommand{\\cg}[1]{{\\rm C}#1} $\n",
    "$ \\newcommand{\\lp}{\\left(} $\n",
    "$ \\newcommand{\\rp}{\\right)} $\n",
    "$ \\newcommand{\\lc}{\\left[} $\n",
    "$ \\newcommand{\\rc}{\\right]} $\n",
    "$ \\newcommand{\\lch}{\\left\\{} $\n",
    "$ \\newcommand{\\rch}{\\right\\}} $\n",
    "$ \\newcommand{\\Lp}{\\Bigl(} $\n",
    "$ \\newcommand{\\Rp}{\\Bigr)} $\n",
    "$ \\newcommand{\\Lc}{\\Bigl[} $\n",
    "$ \\newcommand{\\Rc}{\\Bigr]} $\n",
    "$ \\newcommand{\\Lch}{\\Bigl\\{} $\n",
    "$ \\newcommand{\\Rch}{\\Bigr\\}} $\n",
    "$ \\newcommand{\\rqa}{\\quad \\Rightarrow \\quad} $\n",
    "$ \\newcommand{\\bm}{\\boldsymbol}$"
   ]
  },
  {
   "cell_type": "markdown",
   "id": "080fe82e",
   "metadata": {},
   "source": [
    "# Circuitos Cuánticos (1 qubit)\n"
   ]
  },
  {
   "cell_type": "markdown",
   "id": "080fe82e",
   "metadata": {},
   "source": [
    "En un circuito cuántico un qubit se representa como una linea horizontal y las puertas que se aplican sobre\n",
    "el mismo se representan como cajas que contiene los datos del operador asociado. Por ejemplo, la aplicación del operador $U(\\theta,\\phi,\\varphi)$ sobre un qubit en un estado $\\ket{\\psi}$, i.e.,\n",
    "\\begin{equation*}\n",
    "\\ket{\\psi} \\to  U(\\theta,\\phi,\\varphi)\\ket{\\psi},\n",
    "\\end{equation*}\n",
    "se representa mediante el circuito siguiente\n",
    "::::{figure} Figuras/Fig_puertas_simples.png\n",
    ":width: 300px\n",
    ":align: center\n",
    ":name: Fig_puertas_simples\n",
    "Circuito para la operación $\\ket{\\psi} \\to  U(\\theta,\\phi,\\varphi)\\ket{\\psi}$. Figura tomada de {cite}`bib_Curso-JMas`\n",
    "::::\n"
   ]
  },
  {
   "cell_type": "markdown",
   "id": "080fe82e",
   "metadata": {},
   "source": [
    "La concatenación de puertas se corresponde con la <b>composición de operadores</b>, es decir, con la <b>multiplicación de las matrices</b> asociadas.\n"
   ]
  },
  {
   "cell_type": "markdown",
   "id": "080fe82e",
   "metadata": {},
   "source": [
    "::::::{admonition} Nota (Orden de las puertas) \n",
    ":class: note\n",
    "\n",
    "\n",
    "\n",
    "El <b>orden</b> en el que aparecen los operadores en la composición es el opuesto al que se\n",
    "aprecia en el circuito. Así por ejemplo a la composición de operadores\n",
    "\\begin{equation}\n",
    "\\ket{\\psi} \\to  TH \\ket{\\psi}\n",
    "\\end{equation}\n",
    "le corresponde un circuito en el que  $H$ está a la izquierda de $T$. Recordemos que, por norma general,\n",
    "el producto de matrices no es conmutativo.\n",
    "::::::\n"
   ]
  },
  {
   "cell_type": "markdown",
   "id": "080fe82e",
   "metadata": {},
   "source": [
    "## Matriz de un circuito.\n"
   ]
  },
  {
   "cell_type": "markdown",
   "id": "080fe82e",
   "metadata": {},
   "source": [
    "Todo circuito se corresponde con un operador unitario que se obtiene componiendo todos los operadores que figuran en el. Por ejemplo, para el ejemplo $\\ket{\\psi} \\to  TH \\ket{\\psi}$, el circuito correspondiente representa el operador unitario $U$ al que le corresponde la matriz obtenida por multiplicación\n",
    "\\begin{equation}\n",
    "U = T H ~~~\\to ~~~ U_{ij} =\n",
    "\\begin{bmatrix}1&0\\\\0&e^{i\\pi/4}\\end{bmatrix} \\frac{1}{\\sqrt{2}}\n",
    "\\begin{bmatrix} 1& 1 \\\\ 1 & -1 \\end{bmatrix}  =\n",
    "\\frac{1}{\\sqrt{2}} \\begin{bmatrix} 1& 1 \\\\ e^{i\\pi/4} & -e^{i\\pi/4} \\end{bmatrix}\n",
    "\\end{equation}\n"
   ]
  },
  {
   "cell_type": "markdown",
   "id": "080fe82e",
   "metadata": {},
   "source": [
    "## Simulador de un estado con qiskit.\n"
   ]
  },
  {
   "cell_type": "markdown",
   "id": "080fe82e",
   "metadata": {},
   "source": [
    "Veremos como construir y simular un estado con qiskit en la sección  {numref}`%s <sec_medidas_subsub_codigo>`, después de haber visto como medir.\n"
   ]
  },
  {
   "cell_type": "markdown",
   "id": "8534e04c",
   "metadata": {},
   "source": [
    "::::{figure} https://quantumspain-project.es/wp-content/uploads/2022/11/Logo_QS_EspanaDigital.png\n",
    ":width: 2000px\n",
    ":align: center\n",
    "::::\n",
    "\n",
    "<center>\n",
    "<img align=\"left\" src=\"https://quantumspain-project.es/wp-content/uploads/2024/02/Banner-QS_GOB_v2.png\" width=\"1000px\" />\n",
    "</center>"
   ]
  }
 ],
 "metadata": {
  "kernelspec": {
   "display_name": "Python 3 (ipykernel)",
   "language": "python",
   "name": "python3"
  },
  "language_info": {
   "codemirror_mode": {
    "name": "ipython",
    "version": 3
   },
   "file_extension": ".py",
   "mimetype": "text/x-python",
   "name": "python",
   "nbconvert_exporter": "python",
   "pygments_lexer": "ipython3",
   "version": "3.11.7"
  },
  "toc": {
   "base_numbering": 1,
   "nav_menu": {},
   "number_sections": false,
   "sideBar": true,
   "skip_h1_title": true,
   "title_cell": "Table of Contents",
   "title_sidebar": "Contents",
   "toc_cell": false,
   "toc_position": {},
   "toc_section_display": true,
   "toc_window_display": false
  }
 },
 "nbformat": 4,
 "nbformat_minor": 5
}
