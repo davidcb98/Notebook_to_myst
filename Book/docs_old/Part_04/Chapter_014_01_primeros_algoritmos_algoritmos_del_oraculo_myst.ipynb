{
 "cells": [
  {
   "cell_type": "markdown",
   "id": "8ddaeb38",
   "metadata": {},
   "source": [
    "> {sub-ref}`today` | {sub-ref}`wordcount-minutes` min read\n",
    "\n",
    "::::{figure} Figuras/Fig_logo_UMA_scbi.png\n",
    ":width: 2000px\n",
    ":align: center\n",
    "::::\n",
    "\n",
    "$ \\newcommand{\\bra}[1]{\\langle #1|} $\n",
    "$ \\newcommand{\\ket}[1]{|#1\\rangle} $\n",
    "$ \\newcommand{\\branew}[1]{\\langle #1|} $\n",
    "$ \\newcommand{\\ketnew}[1]{\\langle #1|} $\n",
    "$ \\newcommand{\\braket}[2]{\\langle #1|#2\\rangle} $\n",
    "$ \\newcommand{\\ketbra}[2]{| #1\\rangle \\langle #2 |} $\n",
    "$ \\newcommand{\\i}{{\\color{blue} i}} $ \n",
    "$ \\newcommand{\\Hil}{{\\cal H}} $\n",
    "$ \\newcommand{\\cg}[1]{{\\rm C}#1} $\n",
    "$ \\newcommand{\\lp}{\\left(} $\n",
    "$ \\newcommand{\\rp}{\\right)} $\n",
    "$ \\newcommand{\\lc}{\\left[} $\n",
    "$ \\newcommand{\\rc}{\\right]} $\n",
    "$ \\newcommand{\\lch}{\\left\\{} $\n",
    "$ \\newcommand{\\rch}{\\right\\}} $\n",
    "$ \\newcommand{\\Lp}{\\Bigl(} $\n",
    "$ \\newcommand{\\Rp}{\\Bigr)} $\n",
    "$ \\newcommand{\\Lc}{\\Bigl[} $\n",
    "$ \\newcommand{\\Rc}{\\Bigr]} $\n",
    "$ \\newcommand{\\Lch}{\\Bigl\\{} $\n",
    "$ \\newcommand{\\Rch}{\\Bigr\\}} $\n",
    "$ \\newcommand{\\rqa}{\\quad \\Rightarrow \\quad} $\n",
    "$ \\newcommand{\\bm}{\\boldsymbol}$"
   ]
  },
  {
   "cell_type": "markdown",
   "id": "080fe82e",
   "metadata": {},
   "source": [
    "# Primeros algoritmos: algoritmos del oráculo.\n"
   ]
  },
  {
   "cell_type": "markdown",
   "id": "080fe82e",
   "metadata": {},
   "source": [
    "En esta capítulo veremos una clase de algoritmos denominados <b>algoritmos del oráculo</b>. Estos son una colección de tres algoritmos didácticos, en el sentido de que no tienen aplicación práctica más allá de ser suficientemente simples como para que sea buena idea empezar el estudio por ellos. Aún así, el tercero de estos algoritmos, el algoritmo de Simon, sirvió como inspiración para que Peter Shor construyera el famoso algoritmo que lleva su nombre, el algoritmo de factorización de Shor.\n"
   ]
  },
  {
   "cell_type": "markdown",
   "id": "080fe82e",
   "metadata": {},
   "source": [
    "Ya hemos visto que la computación cuántica destaca por su paralelismo. El ejemplo más fácil inicializar estado aplicando una puerta de Walsh-Hadammar sobre $n$ qúbits. Si los $n$ qúbits están en el estado $\\ket{0}$ ya hemos visto que lo que obtenemos es la superposición uniforme de todos los estados de la base:\n",
    "\\begin{equation}\n",
    "H^{\\otimes n} \\ket{0} = \\ket{00\\cdots0} + \\ket{00\\cdots1} + \\cdots + \\ket{11\\cdots 1}\n",
    "\\end{equation}\n",
    "Esto es una ventaja respecto a un cálculo clásico, pues en el caso clásico tendríamos que ir inicializando uno a uno los estados. Sin embargo, este paralelismo es, en cierta medida, una ilusión.  Si quisiéramos medir las amplitudes de todos los estados de este tipo de superposiciones, tendríamos que repetir el cálculo (es este caso, aplicar $H^{\\otimes}$) un número exponencial de veces con el tamaño del registro $n$. Esto es debido a que, como ya se comento, al medir <b>destruimos</b> la superposición, así que si queremos volver a medir sobre el estado del principio, tenemos que volver a construirlo.\n"
   ]
  },
  {
   "cell_type": "markdown",
   "id": "080fe82e",
   "metadata": {},
   "source": [
    "La potencial de la computación cuántica reside en que podamos fabricar estados que concentran la solución a un problema en una o varias amplitudes. El foco se desplaza entonces a encontrar los <i>problemas adecuados</i>, en los que la solución al problema esté en un número pequeño de amplitudes.\n"
   ]
  },
  {
   "cell_type": "markdown",
   "id": "080fe82e",
   "metadata": {},
   "source": [
    "Los problemas de <b>búsqueda de oráculo</b> consisten en desvelar alguna propiedad de la función que implementa dicho oráculo mediante el menor número de llamadas al oráculo.\n"
   ]
  },
  {
   "cell_type": "markdown",
   "id": "080fe82e",
   "metadata": {},
   "source": [
    "::::::{admonition} Ejemplo\n",
    ":class: tip\n",
    "\n",
    "\n",
    "\n",
    "Denotaremos el conjunto $S_n =\\{0,1,...2^n-1 \\}\\sim \\{0,1\\}^n$ indistintamente. Vamos a considerar una función binaria  $f:S_n \\to S_1$ implementada\n",
    "a través de un oráculo $O$ que podemos consultar a placer. La implementación unitaria de $f$ se realiza en la forma de un operador controlado\n",
    "\\begin{equation}\n",
    "{U_f} : \\ket{x}_n\\otimes \\ket{y} \\to \\ket{x}_n\\otimes \\ket{y + f(x)}\n",
    "\\end{equation}\n",
    "En particular, si $\\ket{y} = \\ket{-}$ tendremos el oráculo $f(x)$ <b>codificado en la fase</b>. Vamos a estudiar el circuito de la Fig. \\ref{Fig_algoritmos_didac_Busqueda_Oraculo}\n",
    "::::{figure} Figuras/Fig_algoritmos_didac_Busqueda_Oraculo.png\n",
    ":width: 650px\n",
    ":align: center\n",
    ":name: Fig_algoritmos_didac_Busqueda_Oraculo\n",
    "Circuito ejemplo de la implementación de un oráculo de fase sobre un qúbit ancila.\n",
    "::::\n",
    "\n",
    "Los ingredientes de este circuito son:\n",
    "\n",
    "\n- paralelismo, pues evaluamos el oráculo en <b>todos</b> los elementos de la base simultáneamente,\n",
    "\n- codificación del oráculo en <b>la fase</b> (retroceso de fase)\n",
    "\n- interferencia para <b>concentrar</b> la información en algunas amplitudes.\n",
    "\n",
    "Veamos esto último viendo el estado de salida:\n",
    "\n",
    "\\begin{align*}\n",
    "\\ket{\\psi_0} & = \\ket{0}_n \\otimes \\ket{-} \\\\\n",
    "& \\xrightarrow{H^{\\otimes n}}   \\frac{1}{\\sqrt{2^n}} \\sum^{2^n -1}_{x=0} \\ket{0} \\otimes \\ket{-} \\hspace{2cm} \\text{(paralelismo)} \\\\\n",
    "& \\xrightarrow{U_f}             \\frac{1}{\\sqrt{2^n}} \\sum^{2^n -1}_{x=0} \\ket{0} \\otimes (-1)^{f(c)} \\ket{-} \\hspace{2cm} \\text{(codificación del oráculo en la fase)} \\\\\n",
    "& \\xrightarrow{W_n}  \\frac{1}{\\sqrt{2^n}} \\sum^{2^n -1}_{x=0} (-1)^{f(x)} \\lp H^{\\otimes n} \\ket{x} \\rp \\otimes \\ket{-1} =\n",
    "\\frac{1}{2^n} \\sum^{2^n -1}_{x,y=0} (-1)^{f(x)+x\\cdot y}  \\ket{y} \\otimes \\ket{-}  \\hspace{0.5cm}  \\text{(interferencia)} \\, ,\n",
    "\\end{align*}\n",
    "donde\n",
    "\\begin{equation}\n",
    "x\\cdot y = x_{n-1} y_{n-1} \\oplus x_{n-1} y_{n-1} \\oplus \\ldots \\oplus x_0 y_0\n",
    "\\end{equation}\n",
    "\n",
    "Vemos que el estado final está <b>factorizado</b>, por un lado tenemos el estado del primer registro\n",
    "```{math}\n",
    ":label: ec_algoritmos_Psi \n",
    "\\begin{equation} \n",
    "\\ket{\\Phi} =  \\frac{1}{2^n} \\sum_{x,y=0}^{2^n-1}(-1)^{f(x)+ x \\cdot y}\\ket{y} \\, .\n",
    "\\end{equation} \n",
    "```\n",
    "que se ha visto modificado debido al <b>retroceso de fase</b>, y por otro el estado del segundo registro, $\\ket{-}$. Precisamente, como el estado de este último qúbit es independiente\n",
    "del primer registro, podemos ignorarlo y tratarlo como una <b>ancila</b>, es decir, una especie de qúbit auxiliar que\n",
    "usamos para un calculo intermedio y después desechamos, pues no lo medimos. Con respecto al primer registro, dependiendo\n",
    "de cómo sea $f(x)$ podremos conseguir <i>interferencias</i> que  concentren la probabilidad en algún estado.\n",
    "\n",
    "::::::\n"
   ]
  },
  {
   "cell_type": "markdown",
   "id": "080fe82e",
   "metadata": {},
   "source": [
    "::::::{admonition} Nota (Recordatorio de la Walsh-Hadamard.) \n",
    ":class: note\n",
    "\n",
    "\n",
    "\n",
    "Ya que la vamos a usar mucho, recordemos la acción de la puerta de Walsh-Hadamard que vimos en la Ec. (\\ref{ec_multiqubit_Walsh_H_sobre_x}):\n",
    "```{math}\n",
    ":label: ec_algoritmos_Walsh_H_sobre_x \n",
    "\\begin{equation} \n",
    "H^{\\otimes n} \\ket{x} = \\frac{1}{\\sqrt{2^n}} \\sum_{y \\, =\\, 0}^{2^n-1}(-1)^{x\\cdot y} \\ket{y} ~~ \\text{ donde } x\\cdot y = x_{n-1} y_{n-1} \\oplus x_{n-1} y_{n-1} \\oplus \\ldots \\oplus x_0 y_0\n",
    "\\end{equation} \n",
    "```\n",
    "donde $\\oplus$ se refiere a <b>suma binaria</b>, es decir, $x \\cdot y$ acaba valiendo 0 o 1.\n",
    "::::::\n"
   ]
  },
  {
   "cell_type": "markdown",
   "id": "080fe82e",
   "metadata": {},
   "source": [
    "::::::{admonition} Nota (ordenación de qúbits) \n",
    ":class: note\n",
    "\n",
    "\n",
    "\n",
    "Recordemos que la ordenación de los qúbits en el circuito tiene un convenio estándar que casi todo el mundo sigue. Sin embargo,\n",
    "uno de los principales agentes en este medio, IBM, usa un convenio distinto en su software Qiskit\n",
    "::::{figure} Figuras/Fig_multiqubits_convenios_ordenacion\n",
    ":width: 400px\n",
    ":align: center\n",
    ":name: Fig_elementos_convenios_ordenacion\n",
    "Convenios de ordenación de los qúbits en la forma estándar, resaltando que Qiskit decide usar el convenio al revés.\n",
    "::::\n",
    "::::::\n"
   ]
  },
  {
   "cell_type": "markdown",
   "id": "080fe82e",
   "metadata": {},
   "source": [
    "Vamos a plantear los siguientes problemas del oráculo de la siguiente forma: tenemos una <b>promesa</b> y un <b>problema</b>. Es decir, sabemos algo del oráculo (la promesa) y queremos usar esta información junto con el propio oráculo para obtener más información sobre el mismo (el problema)\n"
   ]
  },
  {
   "cell_type": "markdown",
   "id": "8534e04c",
   "metadata": {},
   "source": [
    "::::{figure} https://quantumspain-project.es/wp-content/uploads/2022/11/Logo_QS_EspanaDigital.png\n",
    ":width: 2000px\n",
    ":align: center\n",
    "::::\n",
    "\n",
    "<center>\n",
    "<img align=\"left\" src=\"https://quantumspain-project.es/wp-content/uploads/2024/02/Banner-QS_GOB_v2.png\" width=\"1000px\" />\n",
    "</center>"
   ]
  }
 ],
 "metadata": {
  "kernelspec": {
   "display_name": "Python 3 (ipykernel)",
   "language": "python",
   "name": "python3"
  },
  "language_info": {
   "codemirror_mode": {
    "name": "ipython",
    "version": 3
   },
   "file_extension": ".py",
   "mimetype": "text/x-python",
   "name": "python",
   "nbconvert_exporter": "python",
   "pygments_lexer": "ipython3",
   "version": "3.11.7"
  },
  "toc": {
   "base_numbering": 1,
   "nav_menu": {},
   "number_sections": false,
   "sideBar": true,
   "skip_h1_title": true,
   "title_cell": "Table of Contents",
   "title_sidebar": "Contents",
   "toc_cell": false,
   "toc_position": {},
   "toc_section_display": true,
   "toc_window_display": false
  }
 },
 "nbformat": 4,
 "nbformat_minor": 5
}
