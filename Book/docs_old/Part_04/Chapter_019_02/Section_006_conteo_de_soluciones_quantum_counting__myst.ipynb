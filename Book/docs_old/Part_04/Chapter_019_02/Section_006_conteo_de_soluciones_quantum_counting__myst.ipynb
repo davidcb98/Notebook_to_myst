{
 "cells": [
  {
   "cell_type": "markdown",
   "id": "8ddaeb38",
   "metadata": {},
   "source": [
    "> {sub-ref}`today` | {sub-ref}`wordcount-minutes` min read\n",
    "\n",
    "::::{figure} Figuras/Fig_logo_UMA_scbi.png\n",
    ":width: 2000px\n",
    ":align: center\n",
    "::::\n",
    "\n",
    "$ \\newcommand{\\bra}[1]{\\langle #1|} $\n",
    "$ \\newcommand{\\ket}[1]{|#1\\rangle} $\n",
    "$ \\newcommand{\\branew}[1]{\\langle #1|} $\n",
    "$ \\newcommand{\\ketnew}[1]{\\langle #1|} $\n",
    "$ \\newcommand{\\braket}[2]{\\langle #1|#2\\rangle} $\n",
    "$ \\newcommand{\\ketbra}[2]{| #1\\rangle \\langle #2 |} $\n",
    "$ \\newcommand{\\i}{{\\color{blue} i}} $ \n",
    "$ \\newcommand{\\Hil}{{\\cal H}} $\n",
    "$ \\newcommand{\\cg}[1]{{\\rm C}#1} $\n",
    "$ \\newcommand{\\lp}{\\left(} $\n",
    "$ \\newcommand{\\rp}{\\right)} $\n",
    "$ \\newcommand{\\lc}{\\left[} $\n",
    "$ \\newcommand{\\rc}{\\right]} $\n",
    "$ \\newcommand{\\lch}{\\left\\{} $\n",
    "$ \\newcommand{\\rch}{\\right\\}} $\n",
    "$ \\newcommand{\\Lp}{\\Bigl(} $\n",
    "$ \\newcommand{\\Rp}{\\Bigr)} $\n",
    "$ \\newcommand{\\Lc}{\\Bigl[} $\n",
    "$ \\newcommand{\\Rc}{\\Bigr]} $\n",
    "$ \\newcommand{\\Lch}{\\Bigl\\{} $\n",
    "$ \\newcommand{\\Rch}{\\Bigr\\}} $\n",
    "$ \\newcommand{\\rqa}{\\quad \\Rightarrow \\quad} $\n",
    "$ \\newcommand{\\bm}{\\boldsymbol}$"
   ]
  },
  {
   "cell_type": "markdown",
   "id": "080fe82e",
   "metadata": {},
   "source": [
    "\n",
    "(sec_quantum_counting)= \n",
    "# Conteo de soluciones (Quantum counting) \n"
   ]
  },
  {
   "cell_type": "markdown",
   "id": "080fe82e",
   "metadata": {},
   "source": [
    "En esta sección vamos a ver un algoritmo para obtener el número $M$ de soluciones. Este algoritmo puede decirse que en cierta medida está inspirado en el algoritmo de Shor, pues lo que vamos a hacer es usar el <b>algoritmo de estimación de fase cuántico (QPE)</b> para obtener el ángulo $\\theta$ a partir del operador de Grover $G$. Después, podemos usar la Ec. (\\ref{ec_t-sols_theta}) para obtener $M$ partir de $\\theta$.\n"
   ]
  },
  {
   "cell_type": "markdown",
   "id": "080fe82e",
   "metadata": {},
   "source": [
    "Vamos a seguir en el caso en el que $N=2^n$ y la distribución de probabilidad inicial es uniforme.\n"
   ]
  },
  {
   "cell_type": "markdown",
   "id": "080fe82e",
   "metadata": {},
   "source": [
    "## Breve resumen de la estimación de fase cuántica (QPE).\n"
   ]
  },
  {
   "cell_type": "markdown",
   "id": "080fe82e",
   "metadata": {},
   "source": [
    "Dado un operador unitario $U$ y un autovector $\\left| \\psi \\right\\rangle$ del mismo, tenemos:\n",
    "$$\n",
    "U \\left| \\psi \\right\\rangle = e^{2 \\pi i \\alpha}  \\left| \\psi \\right\\rangle\n",
    "$$\n",
    "El <b>algoritmo de estimación de fase cuántica</b> lo que hace es calcular un valor aproximado del ángulo $\\alpha$.\n",
    "En la Fig. \\ref{Fig_QC_QPE} podemos ver el circuito que implementa este algoritmo. No vamos a entrar a hablar en detalle del mismo (puede verse una explicación más detallada en el capítulo \\ref{chapter_QPE}). Simplemente comentar dos cosas:\n",
    "\n",
    " \n- Por el registro de qúbits de abajo en la Fig. \\ref{Fig_QC_QPE} debe de entrar el autoestado de $U$ del cual queremos medir la fase.\n",
    " \n- Si por el registro de conteo entran $p$ qúbits (el de arriba en la Fig. \\ref{Fig_QC_QPE}), en la salida vamos a medir el estado $| 2^p \\alpha \\rangle$.\n",
    "\n"
   ]
  },
  {
   "cell_type": "markdown",
   "id": "080fe82e",
   "metadata": {},
   "source": [
    "::::{figure} Figuras/Fig_QC_QPE.png\n",
    ":width: 800px\n",
    ":align: center\n",
    ":name: Fig_QC_QPE\n",
    "Implementación del algoritmo de estimación de fase cuántica (en el convenio estándar, siendo el bit más significativo el de arriba).\n",
    "::::\n"
   ]
  },
  {
   "cell_type": "markdown",
   "id": "080fe82e",
   "metadata": {},
   "source": [
    "## Estimación de fase con el operador de Grover.\n"
   ]
  },
  {
   "cell_type": "markdown",
   "id": "080fe82e",
   "metadata": {},
   "source": [
    "Como ya comentamos anteriormente, el operador de Grover $G$ (ver Ec. (\\ref{ec_t-sols_G})) rota el vector de estado en un ángulo $2\\theta$, donde $\\theta$ está dado por (\\ref{ec_t-sols_theta}), es decir\n",
    "\\begin{equation}\n",
    "|\\Psi(t+1) \\rangle = G | \\Psi(t) \\rangle = e^{i 2 \\theta} | \\Psi(t) \\rangle.\n",
    "\\end{equation}\n",
    "En concreto, se puede aplicar sobre el estado inicial\n",
    "\\begin{equation}\n",
    "\\boxed{G | \\Psi_0 \\rangle = e^{i 2 \\theta} | \\Psi_0 \\rangle},\n",
    "\\qquad \\text{ donde } \\qquad\n",
    "| \\Psi_0 \\rangle = H^{\\otimes n} |0\\rangle = \\frac{1}{2^n}  \\sum_{i=0}^{2^n} | i \\rangle\n",
    "\\end{equation}\n",
    "Podemos pues usar el algoritmo de QPE poniendo el registro de abajo en el estado $| \\Psi_0 \\rangle $ y mediremos a la salida el estado $| 2^p 2 \\theta / 2 \\pi \\rangle = | 2^p \\theta / \\pi \\rangle$. Podemos ver esto en la Fig. \\ref{Fig_QC_QPE_G}.\n"
   ]
  },
  {
   "cell_type": "markdown",
   "id": "080fe82e",
   "metadata": {},
   "source": [
    "::::{figure} Figuras/Fig_QC_QPE_G.png\n",
    ":width: 900px\n",
    ":align: center\n",
    ":name: Fig_QC_QPE_G\n",
    "Circuito para la QPE en el caso de Grover.\n",
    "::::\n"
   ]
  },
  {
   "cell_type": "markdown",
   "id": "080fe82e",
   "metadata": {},
   "source": [
    "Como acabamos de comentar, al aplicar QPE mediremos un valor $\\tilde{f} = 2^p\\tilde{\\theta} / \\pi$. Podemos despejar $\\tilde{\\theta}$ y usar (\\ref{ec_t-sols_theta}) para calcular $\\tilde{M}$\n",
    "```{math}\n",
    ":label: ec_QC_medidas \n",
    "\\begin{equation} \n",
    "\\tilde{\\theta} = \\frac{\\tilde{f} \\pi}{2^p} \\rqa \\tilde{M} = 2^n \\, \\sin^2 \\tilde{\\theta} = 2^n \\, \\sin^2 \\frac{\\tilde{f} \\pi}{2^p},\n",
    "\\end{equation} \n",
    "```\n",
    "donde las $\\tilde{\\theta}$, $\\tilde{f}$ y $\\tilde{M}$ llevan una tilde para diferenciarlos de los valores reales. Esto es, porque dependiendo del como de grande sea $p$ (cuantos qúbits tengamos en el registro de conteo) más nos acercaremos a medir el valor real del ángulo $\\theta$.\n"
   ]
  },
  {
   "cell_type": "markdown",
   "id": "080fe82e",
   "metadata": {},
   "source": [
    "::::::{admonition} Nota\n",
    ":class: note\n",
    "\n",
    "\n",
    "\n",
    "Como veremos en la sección \\ref{sub-sec_U_s}, muchas veces en vez de implementar el operador de\n",
    "difusión $U_{\\Psi_0}$ (ver Ec. (\\ref{ec_t-sols_Uw_Us})) en realidad se implementa $-U_{\\Psi_0}$.\n",
    "En una búsqueda de Grover normal, esta fase es global\n",
    "y no afecta al resultado, pero ahora estamos aplicando versiones controladas del operador de Grover\n",
    "$G$, con lo que esta fase afecta. En esencia, el único cambio es que en realidad estamos contando\n",
    "aquellos estados que <i>no son solución</i>. Lo único que tenemos que hacer para obtener el número\n",
    "de soluciones es restar al total de estados, $N$, el valor que obtenemos de aplicar QPE.\n",
    "::::::\n"
   ]
  },
  {
   "cell_type": "markdown",
   "id": "080fe82e",
   "metadata": {},
   "source": [
    "### Extra: Precisión de $\\tilde{M}$ respecto a $M$.\n"
   ]
  },
  {
   "cell_type": "markdown",
   "id": "080fe82e",
   "metadata": {},
   "source": [
    "Podemos evaluar la precisión del valor de $\\tilde{M}$ respecto al valor real $M$, acotando la desviación entre los mismos a medida que variamos $p$. Para ello, vamos a empezar asumiendo que la diferencia entre el valor real y el medido es menor que uno, es decir, $| f- \\tilde{f}| <1$. Esto sucede con una probabilidad razonable si $f$ es suficientemente grande (si $p$ es suficientemente grande). Teniendo en cuenta la Ec. (\\ref{ec_QC_medidas}), vemos que\n",
    "\\begin{equation*}\n",
    "| f- \\tilde{f}| < 1 \\rqa | \\theta - \\tilde{\\theta}| < \\frac{\\pi}{2^p} \\rqa | \\sin \\theta - \\sin \\tilde{\\theta}| < \\frac{\\pi}{2^p},\n",
    "\\end{equation*}\n",
    "donde en la última expresión se ha tenido en cuenta que $\\sin \\theta \\approx \\theta$ si $\\theta$ es pequeño, lo cual es lógico si consideramos $M << N$. Jugando con las desigualdades puede verse que\n",
    "```{math}\n",
    ":label: ec_QC_error \n",
    "\\begin{equation} \n",
    "\\boxed{|M - \\tilde{M}| <   \\frac{2 \\pi}{2^p} \\sqrt{M N} + \\frac{\\pi^2}{(2^p)^2} N}.\n",
    "\\end{equation} \n",
    "```\n"
   ]
  },
  {
   "cell_type": "markdown",
   "id": "080fe82e",
   "metadata": {},
   "source": [
    "::::::{admonition} Cálculo (Derivación de la Ec. (\\ref{ec_QC_error}) \n",
    ":class: tip\n",
    "\n",
    "\n",
    "\n",
    "Teniendo en cuenta las desigualdades anteriores, podemos derivar la expresión deseada\n",
    "\\begin{equation*}\n",
    "|M - \\tilde{M}|  < N \\left| sin^2 \\theta - sin^2 \\tilde{\\theta}  \\right|  =\n",
    "N \\left| \\sin \\theta -  \\sin \\tilde{\\theta} \\right|\n",
    "\\left| \\sin \\theta + \\sin \\tilde{\\theta} \\right|   <\n",
    "N \\frac{\\pi}{2^p} \\lp \\sin \\theta + \\sin \\tilde{\\theta} \\rp.\n",
    "\\end{equation*}\n",
    "En la última igualdad hemos quitado el valor absoluto porque es una suma de dos\n",
    "términos positivos ($0 < \\theta < \\pi/2$). Precisamente, como estos dos senos son\n",
    "positivos podemos escribir\n",
    "\\begin{equation*}\n",
    "\\left| \\sin \\theta - \\sin \\tilde{\\theta} \\right| < \\frac{\\pi}{2^p} \\rqa\n",
    "\\lch \\begin{matrix}\n",
    "& \\sin \\tilde{\\theta} <  \\sin \\theta + \\frac{\\pi}{2^p} \\\\\n",
    "& \\sin \\theta <  \\sin \\tilde{\\theta} + \\frac{\\pi}{2^p} .\n",
    "\\end{matrix} \\right.\n",
    "\\end{equation*}\n",
    "Esto es porque tenemos dos números positivos que se diferencian en menos de una cierta\n",
    "cantidad $\\alpha$, así que es siempre cierto que la suma de uno de los números más\n",
    "$\\alpha$ es mayor que el otro. Podemos usar la primera de estas desigualdades para\n",
    "seguir con el cálculo\n",
    "\\begin{equation}\n",
    "|M - \\tilde{M}|  < N \\frac{\\pi}{2^p} \\lp \\sin \\theta + \\sin \\tilde{\\theta}  \\rp <\n",
    "N \\frac{\\pi}{2^p} \\lp 2 \\sin \\theta +\\frac{\\pi}{2^p} \\rp\n",
    "\\end{equation}\n",
    "Finalmente, llegamos a la Ec. (\\ref{ec_QC_error})\n",
    "::::::\n"
   ]
  },
  {
   "cell_type": "markdown",
   "id": "080fe82e",
   "metadata": {},
   "source": [
    "Como podemos ver, la precisión depende de $p$. Además, el tiempo de ejecución depende de $p$, con lo que lo ideal es elegir un valor de $p$ suficientemente grande como para tener una buena precisión, pero que este valor de $p$ no sea demasiado grande y el algoritmo no tarde demasiado. Tomemos $c$ como un parámetro y veamos diferentes casos:\n",
    "\n",
    " \n- Si tomamos $2^p = c \\sqrt{N}$, el error de nuestra estimación de $M$ esta acotado por $\\frac{2 \\pi}{c} \\sqrt{M} + \\frac{\\pi^2}{c^2}$ siempre que $|f - \\tilde{f}| < 1$. Esto recuerda a encontrar la respuesta hasta unas pocas desviaciones estándar.\n",
    " \n- Si nos conformamos con tener un error <i>relativo</i> pequeño, podemos correr el algoritmo para sucesivos valores de $p$ hasta que $\\tilde{f}$ sea razonablemente grande. Esto sucederá cuando $2^p = c \\sqrt{N/M}$. Después de un tiempo proporcional a $\\sqrt{N/M}$, esto nos dará una estimación para $M$ que probablemente estén dentro de un factor $(1+ \\pi/c)^2$ de la respuesta correcta.\n",
    " \n- Si queremos que el error <i>absoluto</i> esté probablemente limitado por una constante, aplicamos el algoritmo una vez para $2^p = c \\sqrt{N}$ con el objetivo de estimar $M$. Entonces, ejecutamos otra vez, pero esta vez con $2^p = c \\sqrt{\\tilde{M}N}$. De acuerdo con la Ec. (\\ref{ec_QC_error}), pero suponiendo $2^p = c \\sqrt{MN}$ por simplicidad, el error resultante en nuestra segunda estimación de $M$ es probable que esté acotado por $\\frac{2 \\pi}{c} + \\frac{\\pi^2}{c^2 M}$. En particular, obtenemos una solución exacta, siempre que $|f - \\tilde{f}| < 1$, si tomamos $c \\geq 14$ ya que $\\frac{2 \\pi}{c} + \\frac{\\pi^2}{c^2 M} < \\frac{1}{2}$ en ese caso. (Obsérvese que si aplicaciones sucesivamente el algoritmo de Grover y vamos tachamos las soluciones a medida que se encuentran también nos proporcionará un recuento exacto con alta probabilidad en un tiempo en $\\mathcal{O} (\\sqrt{M N})$, pero con un consumo enorme de memoria. Ver \[[34]](../../Bibliografia.ipynb#bib_Approximate_QC).)\n",
    " \n- Finalmente, comentar que si estamos en el caso en el que el número de soluciones es un cuadrado perfecto pequeño, podemos encontrar el valor  exacto en un tiempo $\\mathcal{O}(\\sqrt{N})$ con una probabilidad de error muy pequeña.\n",
    "\n"
   ]
  },
  {
   "cell_type": "markdown",
   "id": "080fe82e",
   "metadata": {},
   "source": [
    "Para más detalles sobre el tema, puede verse \[[34]](../../Bibliografia.ipynb#bib_Approximate_QC).\n"
   ]
  },
  {
   "cell_type": "markdown",
   "id": "8534e04c",
   "metadata": {},
   "source": [
    "::::{figure} https://quantumspain-project.es/wp-content/uploads/2022/11/Logo_QS_EspanaDigital.png\n",
    ":width: 2000px\n",
    ":align: center\n",
    "::::\n",
    "\n",
    "<center>\n",
    "<img align=\"left\" src=\"https://quantumspain-project.es/wp-content/uploads/2024/02/Banner-QS_GOB_v2.png\" width=\"1000px\" />\n",
    "</center>"
   ]
  }
 ],
 "metadata": {
  "kernelspec": {
   "display_name": "Python 3 (ipykernel)",
   "language": "python",
   "name": "python3"
  },
  "language_info": {
   "codemirror_mode": {
    "name": "ipython",
    "version": 3
   },
   "file_extension": ".py",
   "mimetype": "text/x-python",
   "name": "python",
   "nbconvert_exporter": "python",
   "pygments_lexer": "ipython3",
   "version": "3.11.7"
  },
  "toc": {
   "base_numbering": 1,
   "nav_menu": {},
   "number_sections": false,
   "sideBar": true,
   "skip_h1_title": true,
   "title_cell": "Table of Contents",
   "title_sidebar": "Contents",
   "toc_cell": false,
   "toc_position": {},
   "toc_section_display": true,
   "toc_window_display": false
  }
 },
 "nbformat": 4,
 "nbformat_minor": 5
}
