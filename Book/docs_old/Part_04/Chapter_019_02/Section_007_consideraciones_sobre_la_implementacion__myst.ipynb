{
 "cells": [
  {
   "cell_type": "markdown",
   "id": "8ddaeb38",
   "metadata": {},
   "source": [
    "> {sub-ref}`today` | {sub-ref}`wordcount-minutes` min read\n",
    "\n",
    "::::{figure} Figuras/Fig_logo_UMA_scbi.png\n",
    ":width: 2000px\n",
    ":align: center\n",
    "::::\n",
    "\n",
    "$ \\newcommand{\\bra}[1]{\\langle #1|} $\n",
    "$ \\newcommand{\\ket}[1]{|#1\\rangle} $\n",
    "$ \\newcommand{\\branew}[1]{\\langle #1|} $\n",
    "$ \\newcommand{\\ketnew}[1]{\\langle #1|} $\n",
    "$ \\newcommand{\\braket}[2]{\\langle #1|#2\\rangle} $\n",
    "$ \\newcommand{\\ketbra}[2]{| #1\\rangle \\langle #2 |} $\n",
    "$ \\newcommand{\\i}{{\\color{blue} i}} $ \n",
    "$ \\newcommand{\\Hil}{{\\cal H}} $\n",
    "$ \\newcommand{\\cg}[1]{{\\rm C}#1} $\n",
    "$ \\newcommand{\\lp}{\\left(} $\n",
    "$ \\newcommand{\\rp}{\\right)} $\n",
    "$ \\newcommand{\\lc}{\\left[} $\n",
    "$ \\newcommand{\\rc}{\\right]} $\n",
    "$ \\newcommand{\\lch}{\\left\\{} $\n",
    "$ \\newcommand{\\rch}{\\right\\}} $\n",
    "$ \\newcommand{\\Lp}{\\Bigl(} $\n",
    "$ \\newcommand{\\Rp}{\\Bigr)} $\n",
    "$ \\newcommand{\\Lc}{\\Bigl[} $\n",
    "$ \\newcommand{\\Rc}{\\Bigr]} $\n",
    "$ \\newcommand{\\Lch}{\\Bigl\\{} $\n",
    "$ \\newcommand{\\Rch}{\\Bigr\\}} $\n",
    "$ \\newcommand{\\rqa}{\\quad \\Rightarrow \\quad} $\n",
    "$ \\newcommand{\\bm}{\\boldsymbol}$"
   ]
  },
  {
   "cell_type": "markdown",
   "id": "080fe82e",
   "metadata": {},
   "source": [
    "\n",
    "(sec_cons_imple)= \n",
    "# Consideraciones sobre la implementacion \n"
   ]
  },
  {
   "cell_type": "markdown",
   "id": "080fe82e",
   "metadata": {},
   "source": [
    "\n",
    "(sec_subsec_U_s)= \n",
    "## Creación de un difusor $U_{\\Psi_0}$. \n"
   ]
  },
  {
   "cell_type": "markdown",
   "id": "080fe82e",
   "metadata": {},
   "source": [
    "Vamos a ver como podemos hacer para crear de forma genérica un difusor de la forma de  {eq}`%s <ec_t-sols_Uw_Us>`. Refrescando un poco la memoria, el difusor es un operador que realiza una reflexión respecto al estado inicial $| \\Psi_0 \\rangle$, es decir, <b>le cambia el signo a las componentes perpendiculares a</b> $\\bm{| \\Psi_0 \\rangle}$. Lo que vamos a hacer para construir el difusor es, en realidad, construir un operador que  <b>le cambia el signo a las componentes paralelas a</b> $\\bm{| \\Psi_0 \\rangle}$, es decir, vamos a implementar $-U_{\\Psi_0}$.\n"
   ]
  },
  {
   "cell_type": "markdown",
   "id": "080fe82e",
   "metadata": {},
   "source": [
    "Empecemos definiendo la familia de <b>operadores de reflexión</b> $S_A$\n",
    "```{math}\n",
    ":label: ec_consideraciones_S_a \n",
    "\\begin{equation} \n",
    "\\boxed{S_A | i \\rangle =\n",
    "\\lch\n",
    "\\begin{matrix}\n",
    "& | i \\rangle \\quad \\text{si } i \\not \\in A \\\\\n",
    "& - | i \\rangle \\quad \\text{si } i \\in A\n",
    "\\end{matrix}\n",
    "\\right.}\n",
    "\\end{equation} \n",
    "```\n",
    "Es fácil ver que podemos escribir tanto el oráculo como el difusor en función de los operadores $S_A$\n",
    "\\begin{equation}\n",
    "\\begin{aligned}\n",
    "& U_\\omega = S_\\omega\n",
    "& \\boxed{U_{\\Psi_0} = - S_{\\Psi_0}}\n",
    "\\end{aligned}\n",
    "\\end{equation}\n",
    "Nosotros lo que vamos a construir y implementar es $S_{\\Psi_0}$, no $U_{\\Psi_0}$\n"
   ]
  },
  {
   "cell_type": "markdown",
   "id": "080fe82e",
   "metadata": {},
   "source": [
    "### Caso con $N = 2^n$.\n"
   ]
  },
  {
   "cell_type": "markdown",
   "id": "080fe82e",
   "metadata": {},
   "source": [
    "En el caso en el que el estado inicial es una superposición uniforme de la forma  {eq}`%s <ec_geo_phi_0_H>` podemos construir el difusor teniendo en cuenta que\n",
    "\\begin{equation}\n",
    "|\\Psi_0 \\rangle = H^{\\otimes n} |00 \\dots 0 \\rangle \\rqa H^{\\otimes n} |\\Psi_0 \\rangle = |0 0 \\dots 0\\rangle.\n",
    "\\end{equation}\n",
    "Viendo esta propiedad, podemos darnos cuenta de que si aplicamos el operador de Walsh-Hadamard $H^{\\otimes n}$ a la salida del oráculo lo que obtenemos es el estado $| 0 0 \\dots 0 \\rangle$ más una serie de estado que corresponderán a los cambios respecto al estado inicial que ha realizado el oráculo. Lo que tenemos que hacer para aplicar el difusor es cambiarle el signo al estado $| 0 0 \\dots 0 \\rangle$ (aplicar $S_0$) y volver a aplicar $H^{\\otimes n}$ para deshacer los cambios introducidos por la última aplicación el mismo. Es decir, el difusor será de la forma\n",
    "\\begin{equation}\n",
    "U_{\\Psi_0} = - S_{\\Psi_0}= - H^{\\otimes n} S_0 H^{\\otimes n}\n",
    "\\end{equation}\n",
    "Podemos construir $S_0$ a partir de la <b>puerta multicontrolada Z</b> ($MCZ$)\n",
    "\\begin{equation}\n",
    "MCZ =\n",
    "\\lp\n",
    "\\begin{matrix}\n",
    "& 1 & 0  & \\dots & 0 & 0 \\\\\n",
    "& 0 & 1  & \\dots & 0 & 0 \\\\\n",
    "& \\vdots  & \\vdots & \\ddots & \\vdots & \\vdots \\\\\n",
    "& 0 & 0 & \\dots & 1 & 0 \\\\\n",
    "& 0 & 0 & \\dots & 0 & -1 \\\\\n",
    "\\end{matrix}\n",
    "\\rp\n",
    "\\end{equation}\n",
    "que lo que hace es cambiarle el signo al estado $|2^n-1\\rangle= | 11 \\dots 1\\rangle$. Tenemos pues\n",
    "\\begin{equation}\n",
    "S_0 = X^{\\otimes n} (MCZ) X^{\\otimes n}\n",
    "\\end{equation}\n",
    "La puerta $X^{\\otimes n}$ (que consiste en aplicar puertas $X$ a todos los qubits) lo que hace es\n",
    "\\begin{align*}\n",
    "& |00 \\dots 0 \\rangle \\rightarrow |11 \\dots 1 \\rangle \\, \\, \\Lc |0 \\rangle \\rightarrow | 2^n-1 \\rangle \\Rc \\\\\n",
    "& |11 \\dots 1 \\rangle \\rightarrow |00 \\dots 0 \\rangle \\, \\, \\Lc |2^n-1 \\rangle \\rightarrow | 0 \\rangle \\Rc\n",
    "\\end{align*}\n",
    "De esta forma, lo que hace $S_{0}$ es:\n",
    "\n",
    " \n1. Aplicar la puerta $X^{\\otimes n}$ para cambiar el estado $|00 \\dots 0 \\rangle$ por el estado $|11 \\dots 1 \\rangle$. (Ver la Nota de abajo)\n",
    " \n2. Aplicar la puerta $MCZ$ con la que cambiamos el signo a $|11 \\dots 1 \\rangle$\n",
    " \n3. Aplicar la puerta $X^{\\otimes n}$ para deshacer los cambios del primer paso. De esta forma, el único cambio real es el del signo del estado $|0\\rangle = |00 \\dots 0 \\rangle$.\n",
    "\n"
   ]
  },
  {
   "cell_type": "markdown",
   "id": "080fe82e",
   "metadata": {},
   "source": [
    "::::::{admonition} Nota\n",
    ":class: note\n",
    "\n",
    "\n",
    "\n",
    "En realidad la puerta $X^{\\otimes n}$ afecta a todos los estados (no solo a $|00 \\dots 0 \\rangle $ y $|11 \\dots 1 \\rangle$).\n",
    "Sin embargo, como es su propia inversa ($X^{\\otimes n}X^{\\otimes n} = I$) y como entre la primera y la segunda\n",
    "aplicación de $X^{\\otimes n}$ lo único que hacemos es cambiarle al signo a $|11 \\dots 1 \\rangle$, todos los\n",
    "cambios se deshacen menos este signo, que pasa a estar en el estado $|00 \\dots 0 \\rangle $.\n",
    "::::::\n"
   ]
  },
  {
   "cell_type": "markdown",
   "id": "080fe82e",
   "metadata": {},
   "source": [
    "Como ya comentamos,<b> el operador que se implementa es</b> $\\bm{-U_{\\Psi_0}}$, es decir\n",
    "```{math}\n",
    ":label: ec_cons-imple_U_Psi0 \n",
    "\\begin{equation} \n",
    "\\begin{aligned}\n",
    "& \\boxed{-U_{\\Psi_0}  = S_{\\Psi_0}  = H^{\\otimes n} S_0 H^{\\otimes n} = H^{\\otimes n} X^{\\otimes n} (MCZ) X^{\\otimes n} H^{\\otimes n}} \\Rightarrow  \\\\\n",
    "& \\boxed{G_{imple}  =  - U_{\\Psi_0} U_\\omega = - H^{\\otimes n} S_0 H^{\\otimes n} U_\\omega}\n",
    "\\end{aligned}\n",
    "\\end{equation} \n",
    "```\n"
   ]
  },
  {
   "cell_type": "markdown",
   "id": "080fe82e",
   "metadata": {},
   "source": [
    "\n",
    "(sub-sec_N-no-2^n)= \n",
    "### Caso con $N \\neq 2^n$. \n"
   ]
  },
  {
   "cell_type": "markdown",
   "id": "080fe82e",
   "metadata": {},
   "source": [
    "Las limitación que hemos impuesto hasta ahora diciendo que $N$ debía ser una potencia de $2$ viene de la transformación de Walsh-Hadammard\n",
    "\\begin{equation}\n",
    "H^{\\otimes n} |j \\rangle = \\frac{1}{\\sqrt{N}} \\sum^{N-1}_{i=0} (-1)^{i \\cdot j} | i \\rangle, \\qquad \\text{ (donde } i \\cdot j \\text{ denota el producto escalar binario)}\n",
    "\\end{equation}\n",
    "Esta transformación, que se usa para generar el estado inicial y en el difusor, no está bien definida si no se cumple que $N=2^n$.\n"
   ]
  },
  {
   "cell_type": "markdown",
   "id": "080fe82e",
   "metadata": {},
   "source": [
    "Esta condición puede ser relajada si<b> sustituimos la transformación de Walsh-Hadammard por cualquier otra transformación unitario $F$ que cumpla</b>\n",
    "```{math}\n",
    ":label: ec_N-no-2n_T \n",
    "\\begin{equation} \n",
    "\\boxed{F |0 \\rangle = \\frac{1}{\\sqrt{N}} \\sum^{N-1}_{i=0} | i \\rangle}\n",
    "\\end{equation} \n",
    "```\n",
    "y seguiremos teniendo interaciones de Grover válidas aplicando\n",
    "\\begin{equation}\n",
    "F S_0 F^{-1} U_\\omega\n",
    "\\end{equation}\n",
    "De hecho, cuando estamos en el caso $N = 2^n$, la Walsh-Hadammard es simplemente la elección más sencilla de $F$. Para el caso en el que $N$ no es una potencia de dos, podemos usar la transformación de Fourier de Kitaev {cite}`bib_kitaev1995quantum`. Puede verse también {cite}`bib_PhysRevLett.80.4329`\n"
   ]
  },
  {
   "cell_type": "markdown",
   "id": "8534e04c",
   "metadata": {},
   "source": [
    "::::{figure} https://quantumspain-project.es/wp-content/uploads/2022/11/Logo_QS_EspanaDigital.png\n",
    ":width: 2000px\n",
    ":align: center\n",
    "::::\n",
    "\n",
    "<center>\n",
    "<img align=\"left\" src=\"https://quantumspain-project.es/wp-content/uploads/2024/02/Banner-QS_GOB_v2.png\" width=\"1000px\" />\n",
    "</center>"
   ]
  }
 ],
 "metadata": {
  "kernelspec": {
   "display_name": "Python 3 (ipykernel)",
   "language": "python",
   "name": "python3"
  },
  "language_info": {
   "codemirror_mode": {
    "name": "ipython",
    "version": 3
   },
   "file_extension": ".py",
   "mimetype": "text/x-python",
   "name": "python",
   "nbconvert_exporter": "python",
   "pygments_lexer": "ipython3",
   "version": "3.11.7"
  },
  "toc": {
   "base_numbering": 1,
   "nav_menu": {},
   "number_sections": false,
   "sideBar": true,
   "skip_h1_title": true,
   "title_cell": "Table of Contents",
   "title_sidebar": "Contents",
   "toc_cell": false,
   "toc_position": {},
   "toc_section_display": true,
   "toc_window_display": false
  }
 },
 "nbformat": 4,
 "nbformat_minor": 5
}
