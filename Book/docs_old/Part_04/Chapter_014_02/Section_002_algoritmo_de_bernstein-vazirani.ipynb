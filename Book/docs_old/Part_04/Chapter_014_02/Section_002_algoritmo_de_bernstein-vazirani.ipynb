{
 "cells": [
  {
   "cell_type": "markdown",
   "id": "8ddaeb38",
   "metadata": {},
   "source": [
    "<figure><center>\n",
    "<img   src=\"Figuras/Fig_logo_UMA_scbi.png\" align=center  width=\"2000px\"/>\n",
    "</center></figure>\n",
    "\n",
    "$ \\newcommand{\\bra}[1]{\\langle #1|} $\n",
    "$ \\newcommand{\\ket}[1]{|#1\\rangle} $\n",
    "$ \\newcommand{\\branew}[1]{\\langle #1|} $\n",
    "$ \\newcommand{\\ketnew}[1]{\\langle #1|} $\n",
    "$ \\newcommand{\\braket}[2]{\\langle #1|#2\\rangle} $\n",
    "$ \\newcommand{\\ketbra}[2]{| #1\\rangle \\langle #2 |} $\n",
    "$ \\newcommand{\\i}{{\\color{blue} i}} $ \n",
    "$ \\newcommand{\\Hil}{{\\cal H}} $\n",
    "$ \\newcommand{\\cg}[1]{{\\rm C}#1} $\n",
    "$ \\newcommand{\\lp}{\\left(} $\n",
    "$ \\newcommand{\\rp}{\\right)} $\n",
    "$ \\newcommand{\\lc}{\\left[} $\n",
    "$ \\newcommand{\\rc}{\\right]} $\n",
    "$ \\newcommand{\\lch}{\\left\\{} $\n",
    "$ \\newcommand{\\rch}{\\right\\}} $\n",
    "$ \\newcommand{\\Lp}{\\Bigl(} $\n",
    "$ \\newcommand{\\Rp}{\\Bigr)} $\n",
    "$ \\newcommand{\\Lc}{\\Bigl[} $\n",
    "$ \\newcommand{\\Rc}{\\Bigr]} $\n",
    "$ \\newcommand{\\Lch}{\\Bigl\\{} $\n",
    "$ \\newcommand{\\Rch}{\\Bigr\\}} $\n",
    "$ \\newcommand{\\rqa}{\\quad \\Rightarrow \\quad} $\n",
    "$ \\newcommand{\\bm}{\\boldsymbol}$"
   ]
  },
  {
   "cell_type": "markdown",
   "id": "080fe82e",
   "metadata": {},
   "source": [
    "# Algoritmo de Bernstein-Vazirani\n"
   ]
  },
  {
   "cell_type": "markdown",
   "id": "080fe82e",
   "metadata": {},
   "source": [
    "\n",
    " \n- <b>Promesa:</b> la función $f$ es una <i>lineal</i>, definida por una cadena de bits $a \\in \\{0,1\\}^n$\n",
    "    \\begin{equation*}\n",
    "    f(x) = a\\cdot x  = a_{n-1} x_{n-1} \\oplus ....\\oplus a_0 x_0\n",
    "    \\end{equation*}\n",
    " \n- <b>Problema:</b> hallar $a = a_{n-1} \\ldots a_0$. (Clásicamente necesitaríamos invocar el oráculo  $n$ veces. Por ejemplo  $f(0\\cdots 0 1)=0,1 $ revela $a_0=0,1$ respectivamente. Iterativamente  $f(0\\cdots 0 1 0)\\to a_1$, $ f(0\\cdots 1 0 0)\\to a_2 \\cdots$, etc.)\n",
    " \n- <b>Solución:</b> correr el circuito una sola vez y medir el estado final. El circuito es de la forma de la Fig.  {numref}`%s <Fig_algoritmos_circuito_genérico_Deutsch-Jozsa>`.\n",
    "\n"
   ]
  },
  {
   "cell_type": "markdown",
   "id": "080fe82e",
   "metadata": {},
   "source": [
    "<details><summary><p style=\"color:blue\" > >> <i>Demostración</i> </p></summary>\n",
    "Veámoslo:\n",
    "\\begin{align*}\n",
    "\\ket{\\Phi} & = \\frac{1}{2^n}\\sum_{y=0}^{2^n-1} \\left(\\sum_{x=0}^{2^n-1}(-1)^{f(x)+ y\\cdot x}\\right)\\ket{y} = \\frac{1}{2^n}\\sum_{y=0}^{2^n-1} \\left(\\sum_{x=0}^{2^n-1}(-1)^{(a+y)\\cdot x}\\right)\\ket{y} \\\\  \\rule{0mm}{10mm}\n",
    "& =  \\frac{1}{2^n}\\sum_{y=0}^{2^n-1} \\left(\\sum_{x=0}^{2^n-1}(-1)^{(-a+y)\\cdot x}\\right)\\ket{y} \\\\ \\rule{0mm}{10mm}\n",
    "& =  \\frac{1}{2^n} \\delta_{y,a} \\lp \\sum_{x=0}^{2^n-1} 1 \\rp \\ket{y} = \\delta_{y,a} \\ket{y} \\\\  \\rule{0mm}{5mm}\n",
    "& =  \\ket{a_0a_1\\cdots a_{n-1}}\n",
    "\\end{align*}\n",
    "En el primer paso (de la primera linea a la segunda) usamos la igualdad trivial $ (-1)^a = (-1)^{-a}$. Entender el segundo paso y la aparición de la  delta es un poco más complicado. Para ello, tenemos que darnos cuenta de que en el sumatorio en $x$ vamos a tener tantos 1 como $-1$, con lo cual va a ser $0$ excepto para el valor de $y$ para el cual el término $(-a+y) = 0$. Para este último, independientemente del valor de $x$, todos los exponentes serán cero, así que tendremos una suma de unos.\n",
    "</details>\n\n"
   ]
  },
  {
   "cell_type": "markdown",
   "id": "080fe82e",
   "metadata": {},
   "source": [
    "<div class=\"alert alert-block alert-warning\">\n",
    "<p style=\"color: #4B5320;\">\n",
    "<b>Jupyter Notebook</b>: <i>(08-Busqueda\\_Oracula sección 1)</i>\n",
    "<br>\n",
    "Ver la sección 1 del notebook <b>08-Busqueda\\_Oracula</b>.\n",
    "</p></div>\n"
   ]
  },
  {
   "cell_type": "markdown",
   "id": "080fe82e",
   "metadata": {},
   "source": [
    "<div class=\"alert alert-block alert-danger\">\n",
    "<p style=\"color: DarkRed;\">\n",
    "<b>Nota</b>: <i>(Bernstein-Vazirani en Qiskit)</i>\n",
    "<br>\n",
    "Se puede ver otra explicación del algoritmo de  Bernstein-Vazirani junto con su implementación en Qiskit en el \\href{https://learn.qiskit.org/course/ch-algorithms/bernstein-vazirani-algorithm}{Notebook de Qiskit (https://learn.qiskit.org/course/ch-algorithms/bernstein-vazirani-algorithm)} .\n",
    "<br>\n",
    "</p></div>\n"
   ]
  },
  {
   "cell_type": "markdown",
   "id": "080fe82e",
   "metadata": {},
   "source": [
    "<div class=\"alert alert-block alert-danger\">\n",
    "<p style=\"color: DarkRed;\">\n",
    "<b>Nota</b>: <i>(Porque funciona el circuito del algoritmo de Bernstein-Vazirani?)</i>\n",
    "<br>\n",
    "Supongamos que tomamos, por ejemplo, el caso $a=010111$. Podemos ver como sería el circuito para este caso en la Fig.  {numref}`%s <Fig_algoritmos_BV_circuit>`.\n",
    "<figure><center>\n",
    "<img src=\"Figuras/Fig_algoritmos_BV_circuit.png\" alt=\"\" align=center width='300px'/>\n",
    "<a id='Fig_algoritmos_BV_circuit'></a>\n",
    "<center>Circuito de Bernstein-Vazirani para $a=010111$ (en la notación de Qisqit).</center>\n",
    "</center></figure>\n\n",
    "<br>\n",
    "Usando el hecho de que $HH=I$, podemos añadir pares de puertas $H$ entre las CNOTs en el qúbit ancilla. Ahora solo tenemos que usar la identidad para invertir las CNOTs\n",
    "de la Fig.  {numref}`%s <Fig_elementos_Equiv_HH>` y llegaremos al circuito de la Fig.  {numref}`%s <Fig_algoritmos_Bernstein_Vazirani_trick>`\n",
    "<br>\n",
    "<figure><center>\n",
    "<img src=\"Figuras/Fig_algoritmos_Bernstein_Vazirani_trick.png\" alt=\"\" align=center width='300px'/>\n",
    "<a id='Fig_algoritmos_Bernstein_Vazirani_trick'></a>\n",
    "<center>Circuito multiplica binariamente qúbit a qúbit $x \\oplus a$. Para obtener el resultado de la multiplicación hay que hacer la multiplicación binaria de los qúbit del final.</center>\n",
    "</center></figure>\n\n",
    "<br>\n",
    "</p></div>\n"
   ]
  },
  {
   "cell_type": "markdown",
   "id": "8534e04c",
   "metadata": {},
   "source": [
    "<figure><center>\n",
    "<img   src=\"https://quantumspain-project.es/wp-content/uploads/2022/11/Logo_QS_EspanaDigital.png\" align=center  width=\"2000px\"/>\n",
    "</center></figure>\n",
    "\n",
    "<center>\n",
    "<img align=\"left\" src=\"https://quantumspain-project.es/wp-content/uploads/2024/02/Banner-QS_GOB_v2.png\" width=\"1000px\" />\n",
    "</center>"
   ]
  }
 ],
 "metadata": {
  "kernelspec": {
   "display_name": "Python 3 (ipykernel)",
   "language": "python",
   "name": "python3"
  },
  "language_info": {
   "codemirror_mode": {
    "name": "ipython",
    "version": 3
   },
   "file_extension": ".py",
   "mimetype": "text/x-python",
   "name": "python",
   "nbconvert_exporter": "python",
   "pygments_lexer": "ipython3",
   "version": "3.11.7"
  },
  "toc": {
   "base_numbering": 1,
   "nav_menu": {},
   "number_sections": false,
   "sideBar": true,
   "skip_h1_title": true,
   "title_cell": "Table of Contents",
   "title_sidebar": "Contents",
   "toc_cell": false,
   "toc_position": {},
   "toc_section_display": true,
   "toc_window_display": false
  }
 },
 "nbformat": 4,
 "nbformat_minor": 5
}
