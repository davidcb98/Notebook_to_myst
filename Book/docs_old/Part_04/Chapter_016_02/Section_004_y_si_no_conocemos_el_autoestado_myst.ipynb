{
 "cells": [
  {
   "cell_type": "markdown",
   "id": "8ddaeb38",
   "metadata": {},
   "source": [
    "> {sub-ref}`today` | {sub-ref}`wordcount-minutes` min read\n",
    "\n",
    "::::{figure} Figuras/Fig_logo_UMA_scbi.png\n",
    ":width: 2000px\n",
    ":align: center\n",
    "::::\n",
    "\n",
    "$ \\newcommand{\\bra}[1]{\\langle #1|} $\n",
    "$ \\newcommand{\\ket}[1]{|#1\\rangle} $\n",
    "$ \\newcommand{\\branew}[1]{\\langle #1|} $\n",
    "$ \\newcommand{\\ketnew}[1]{\\langle #1|} $\n",
    "$ \\newcommand{\\braket}[2]{\\langle #1|#2\\rangle} $\n",
    "$ \\newcommand{\\ketbra}[2]{| #1\\rangle \\langle #2 |} $\n",
    "$ \\newcommand{\\i}{{\\color{blue} i}} $ \n",
    "$ \\newcommand{\\Hil}{{\\cal H}} $\n",
    "$ \\newcommand{\\cg}[1]{{\\rm C}#1} $\n",
    "$ \\newcommand{\\lp}{\\left(} $\n",
    "$ \\newcommand{\\rp}{\\right)} $\n",
    "$ \\newcommand{\\lc}{\\left[} $\n",
    "$ \\newcommand{\\rc}{\\right]} $\n",
    "$ \\newcommand{\\lch}{\\left\\{} $\n",
    "$ \\newcommand{\\rch}{\\right\\}} $\n",
    "$ \\newcommand{\\Lp}{\\Bigl(} $\n",
    "$ \\newcommand{\\Rp}{\\Bigr)} $\n",
    "$ \\newcommand{\\Lc}{\\Bigl[} $\n",
    "$ \\newcommand{\\Rc}{\\Bigr]} $\n",
    "$ \\newcommand{\\Lch}{\\Bigl\\{} $\n",
    "$ \\newcommand{\\Rch}{\\Bigr\\}} $\n",
    "$ \\newcommand{\\rqa}{\\quad \\Rightarrow \\quad} $\n",
    "$ \\newcommand{\\bm}{\\boldsymbol}$"
   ]
  },
  {
   "cell_type": "markdown",
   "id": "080fe82e",
   "metadata": {},
   "source": [
    "# ¿Y si no conocemos el autoestado?\n"
   ]
  },
  {
   "cell_type": "markdown",
   "id": "080fe82e",
   "metadata": {},
   "source": [
    "Hemos visto que el algoritmo de estimación de fase requiere de seamos capaces de preparar un autoestado. Esto en realidad es contradictorio, pues para conocer un autoestado de un operador genérico (no diagonal), lo que tenemos que hacer es diagonizarlo. Diagonalizar un operador (una matriz) es una operación costosa y además, una vez diagonalizada la matriz, es trivial calcular los autovalores. Es decir, tal y como está planteado hasta ahora el problema de estimación de fase, no nos aporta nada debido a la restricción de conocer un autovector.\n"
   ]
  },
  {
   "cell_type": "markdown",
   "id": "080fe82e",
   "metadata": {},
   "source": [
    "Sin embargo, no es necesario conocer un autovector en concreto. El secreto está en que los autovectores de un operador forman una <b>base</b>, de forma que cualquier estado se puede escribir como combinación lineal de estos autoestado. Supongamos por ejemplo que tenemos un operador $U$ con autovectores $\\ket{\\psi_i}$ y autovalores $2 \\pi \\theta_i$:\n",
    "\\begin{equation}\n",
    "U \\ket{\\psi_i} = e^{2 \\pi i \\theta_i} \\ket{\\psi_i}\n",
    "\\end{equation}\n",
    "Si tenemos por ejemplo un estado genérico $\\ket{b}$, podemos escribirlo en la base de autovectores de $U$:\n",
    "```{math}\n",
    ":label: ec_QPE_b_genérico \n",
    "\\begin{equation} \n",
    "\\ket{b} = \\sum^N_{i=1} c_i \\ket{\\psi_i}\n",
    "\\end{equation} \n",
    "```\n"
   ]
  },
  {
   "cell_type": "markdown",
   "id": "080fe82e",
   "metadata": {},
   "source": [
    "Debido a linealidad del circuito $QPE$, a la salida del mismo (antes de la medida) entraremos una combinación lineal de estados de la forma\n",
    "\\begin{align*}\n",
    "U_{QPE}\\, :\\,\\ket{0}_t \\left(\\sum_{i=1}c_i\\ket{\\psi_i}\\right) \\rightarrow \\ket{\\Psi_3} &= \\sum_{i=1}c_i U_{QPE}\\left(\\ket{0}_t\\ket{\\psi_i} \\rule{0mm}{7mm}\\right)  \\\\ \\rule{0mm}{7mm}\n",
    "& = \\sum_{i=1}^N  c_i \\ket{\\Phi_i}\\ket{\\psi_i} \\\\\n",
    "& = \\sum_{i=1}^N c_i \\ket{\\Psi_{3,i}}\n",
    "\\end{align*}\n",
    "donde $\\ket{\\Phi_i}$ es el estado del registro de $t$ qúbits antes de la media en la Ec.  {eq}`%s <ec_QPE_Psi3_2>`, es decir\n",
    "\\begin{equation}\n",
    "\\ket{\\Psi_{3,i}} = \\lc \\frac{1}{2^{t}} \\sum_{x=0}^{2^t-1} \\sum_{y=0}^{2^{t}-1}e^{\\frac{2 \\pi i y}{2^t} (2^t \\theta_i - x)} |x\\rangle \\rc \\otimes \\vert\\psi_i\\rangle = \\ket{\\Phi_i} \\otimes \\vert\\psi_i\\rangle =  \\ket{\\Phi_i} \\vert\\psi_i\\rangle\n",
    "\\end{equation}\n"
   ]
  },
  {
   "cell_type": "markdown",
   "id": "080fe82e",
   "metadata": {},
   "source": [
    "::::::{admonition} Nota (Aclaración) \n",
    ":class: note\n",
    "\n",
    "\n",
    "\n",
    "Para entender un poco este resultado, quedemonos primero con la expresión siguiente:\n",
    "```{math}\n",
    ":label: ec_QPE_Psi_3_ci \n",
    "\\begin{equation} \n",
    "\\ket{\\Psi_3}  = \\sum_{i=1}^N  c_i \\ket{\\Phi_i}\\ket{\\psi_i} \\\\ \\rule{0mm}{7mm}\n",
    "\\end{equation} \n",
    "```\n",
    "y comparemosla con la expresión de la Ec.  {eq}`%s <ec_QPE_Psi3_2>`. Vemos que ahora lo que tenemos es una combinación lineas de los resultados para cada autovector que compone nuestro estado $\\ket{b}$. Para entenderlo mejor, podemos verlo al revés. El caso de la Ec.  {eq}`%s <ec_QPE_Psi3_2>` es el caso en el que $\\ket{b}$ es igual a un solo autovector, es decir, en el que <b>todos los $c_i$ son cero excepto uno de ellos</b>.\n",
    "::::::\n"
   ]
  },
  {
   "cell_type": "markdown",
   "id": "080fe82e",
   "metadata": {},
   "source": [
    "Como ya comentamos, si $2^t \\theta_i$ no es entero, el estado del primer registro será una superposición de la forma $\\ket{\\Phi_i} = \\sum_{x=0}^{2^t-1} f_i(x) \\ket{x}$, es decir\n",
    "```{math}\n",
    ":label: ec_QPE_Psi_3_ci \n",
    "\\begin{equation} \n",
    "\\ket{\\Psi_3}  = \\sum_{i=1}^N  c_i \\lp \\sum_{x=0}^{2^t-1} f_i(x) \\ket{x} \\rp  \\ket{\\psi_i} \\\\ \\rule{0mm}{7mm}\n",
    "\\end{equation} \n",
    "```\n",
    "Una medida del primer registro dará el registro binario de <i>un número entero</i> $x \\to m \\in [0,2^t-1)$ con distribución de probabilidad\n",
    "```{math}\n",
    ":label: ec_QPE_p(m)_ci \n",
    "\\begin{equation} \n",
    "p(m) = \\sum_i^N |c_i|^2 |f_i(m)|^2\n",
    "\\end{equation} \n",
    "```\n",
    "Comparando este resultado con el de la Ec.  {eq}`%s <ec_QPE_p(m)>` vemos que lo que obtenemos es una <b>suma ponderada de las distribuciones de probabilidad para cada autovalor</b>. Es decir:\n",
    "\n",
    " \n- Cuando nuestro $\\ket{b}$ es un autovector, lo que obtenemos es la distribución de probabilidad para su autovalor (ver Ec.  {eq}`%s <ec_QPE_p(m)>`). Como ya hemos comentado, esta está picada entorno al valor binario que más se parece al autovalor que buscamos.\n",
    " \n- Cuando $\\ket{b}$ es un estado genérico, podemos escribirlo en la base de autovectores de $U$ (ver Ec.  {eq}`%s <ec_QPE_b_genérico>`). Es decir, entendemos $\\ket{b}$ como una combinación lineal de autovectores con coeficientes $c_i$. En este caso obtenemos las distribuciones de probabilidades de cada uno de los autovectores de $U$ (distribuciones picadas entorno al valor binario de los autovalores) pero ponderadas por los $|c_i|^2$.\n",
    "    Esto quiere decir que dependiendo de como sea $\\ket{b}$, este podrá tener más componente de unos autovectores que de otros. Con lo cual, dependiendo de como sea $\\ket{b}$ podremos estimar unos autovalores o de otros.\n",
    "\n"
   ]
  },
  {
   "cell_type": "markdown",
   "id": "080fe82e",
   "metadata": {},
   "source": [
    "::::::{admonition} Nota\n",
    ":class: note\n",
    "\n",
    "\n",
    "\n",
    "Esta última sección puede resultar un poco confusa, pero se entiende mejor si pensamos en un ejemplo concreto. Como vamos a ver a continuación, en el algoritmo de Shor se usa la QPE. Como no conocemos los autoestados del operador, lo que se hace es usar una propiedad del propio operador para, de una manera sencilla, darle al algoritmo de QPE en vez de un autoestado, <b>una superporsición homogénea de todos los autoestados</b>. Es decir, en el algoritmo de Shor estamos en el caso en el que todos los $|c_i|^2$ son iguales.\n",
    "\n",
    "De esta forma, cada vez que ejecutamos el algoritmo estamos obteniendo una estimación de uno de los autovalores y tenemos la misma probabilidad de estimar un autovalor que otro. Esto es así porque, como ya veremos, sabemos que con alguno de estos autovalores podemos realizar un calculo que nos permite factorizar un número. Como no sabemos que autovalor nos sirve, vamos probando a hacer ejecuciones del circuito hasta que damos con uno que nos sirve. Como todos los autovalores tienen la misma probabilidad de salir, no tardaremos mucho en encontrar uno que nos sirva.\n",
    "::::::\n"
   ]
  },
  {
   "cell_type": "markdown",
   "id": "080fe82e",
   "metadata": {},
   "source": [
    "::::::{admonition} Jupyter Notebook ([11. Quantum Phase Estimation (QPE)](https://www.scbi.uma.es/web/wp-content/uploads/Jupyterbook/CICC_UMA/Notebooks/html/docs/Part_01/Chapter_11-QPE_myst.html) \n",
    ":class: attention\n",
    "\n",
    "\n",
    "\n",
    "Ver la secciones [11.2. ¿y si no podemos preparar un autoestado?](https://www.scbi.uma.es/web/wp-content/uploads/Jupyterbook/CICC_UMA/Notebooks/html/docs/Part_01/Chapter_11-QPE_myst.html#y-si-no-podemos-preparar-un-autoestado) y [11.3. Precisión](https://www.scbi.uma.es/web/wp-content/uploads/Jupyterbook/CICC_UMA/Notebooks/html/docs/Part_01/Chapter_11-QPE_myst.html#precision) del notebook [11. Quantum Phase Estimation (QPE)](https://www.scbi.uma.es/web/wp-content/uploads/Jupyterbook/CICC_UMA/Notebooks/html/docs/Part_01/Chapter_11-QPE_myst.html).\n",
    "\n",
    "El Notebook puede descargarse de [Github](https://github.com/davidcb98/CICC_UMA/blob/master/Notebooks/Part_01/Chapter_11-QPE.ipynb).\n",
    "::::::\n"
   ]
  },
  {
   "cell_type": "markdown",
   "id": "8534e04c",
   "metadata": {},
   "source": [
    "::::{figure} https://quantumspain-project.es/wp-content/uploads/2022/11/Logo_QS_EspanaDigital.png\n",
    ":width: 2000px\n",
    ":align: center\n",
    "::::\n",
    "\n",
    "<center>\n",
    "<img align=\"left\" src=\"https://quantumspain-project.es/wp-content/uploads/2024/02/Banner-QS_GOB_v2.png\" width=\"1000px\" />\n",
    "</center>"
   ]
  }
 ],
 "metadata": {
  "kernelspec": {
   "display_name": "Python 3 (ipykernel)",
   "language": "python",
   "name": "python3"
  },
  "language_info": {
   "codemirror_mode": {
    "name": "ipython",
    "version": 3
   },
   "file_extension": ".py",
   "mimetype": "text/x-python",
   "name": "python",
   "nbconvert_exporter": "python",
   "pygments_lexer": "ipython3",
   "version": "3.11.7"
  },
  "toc": {
   "base_numbering": 1,
   "nav_menu": {},
   "number_sections": false,
   "sideBar": true,
   "skip_h1_title": true,
   "title_cell": "Table of Contents",
   "title_sidebar": "Contents",
   "toc_cell": false,
   "toc_position": {},
   "toc_section_display": true,
   "toc_window_display": false
  }
 },
 "nbformat": 4,
 "nbformat_minor": 5
}
