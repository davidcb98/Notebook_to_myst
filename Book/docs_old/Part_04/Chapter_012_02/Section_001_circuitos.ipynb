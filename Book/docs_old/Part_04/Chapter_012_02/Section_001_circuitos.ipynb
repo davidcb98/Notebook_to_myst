{
 "cells": [
  {
   "cell_type": "markdown",
   "id": "8ddaeb38",
   "metadata": {},
   "source": [
    "<figure><center>\n",
    "<img   src=\"Figuras/Fig_logo_UMA_scbi.png\" align=center  width=\"2000px\"/>\n",
    "</center></figure>\n",
    "\n",
    "$ \\newcommand{\\bra}[1]{\\langle #1|} $\n",
    "$ \\newcommand{\\ket}[1]{|#1\\rangle} $\n",
    "$ \\newcommand{\\branew}[1]{\\langle #1|} $\n",
    "$ \\newcommand{\\ketnew}[1]{\\langle #1|} $\n",
    "$ \\newcommand{\\braket}[2]{\\langle #1|#2\\rangle} $\n",
    "$ \\newcommand{\\ketbra}[2]{| #1\\rangle \\langle #2 |} $\n",
    "$ \\newcommand{\\i}{{\\color{blue} i}} $ \n",
    "$ \\newcommand{\\Hil}{{\\cal H}} $\n",
    "$ \\newcommand{\\cg}[1]{{\\rm C}#1} $\n",
    "$ \\newcommand{\\lp}{\\left(} $\n",
    "$ \\newcommand{\\rp}{\\right)} $\n",
    "$ \\newcommand{\\lc}{\\left[} $\n",
    "$ \\newcommand{\\rc}{\\right]} $\n",
    "$ \\newcommand{\\lch}{\\left\\{} $\n",
    "$ \\newcommand{\\rch}{\\right\\}} $\n",
    "$ \\newcommand{\\Lp}{\\Bigl(} $\n",
    "$ \\newcommand{\\Rp}{\\Bigr)} $\n",
    "$ \\newcommand{\\Lc}{\\Bigl[} $\n",
    "$ \\newcommand{\\Rc}{\\Bigr]} $\n",
    "$ \\newcommand{\\Lch}{\\Bigl\\{} $\n",
    "$ \\newcommand{\\Rch}{\\Bigr\\}} $\n",
    "$ \\newcommand{\\rqa}{\\quad \\Rightarrow \\quad} $\n",
    "$ \\newcommand{\\bm}{\\boldsymbol}$"
   ]
  },
  {
   "cell_type": "markdown",
   "id": "080fe82e",
   "metadata": {},
   "source": [
    "# Circuitos\n"
   ]
  },
  {
   "cell_type": "markdown",
   "id": "080fe82e",
   "metadata": {},
   "source": [
    "Hasta ahora hemos visto varias puestas mono-qúbit y multi-qúbit, así como algunos circuitos simples.\n",
    "Antes de implementar algoritmos cuánticos en ordenadores cuánticos reales, es importante destacar la definición concreta de <b>circuito cuántico</b>, ya que construiremos circuitos cuánticos para implementar estos algoritmos.\n"
   ]
  },
  {
   "cell_type": "markdown",
   "id": "080fe82e",
   "metadata": {},
   "source": [
    "## Qué es un circuito cuántico?\n"
   ]
  },
  {
   "cell_type": "markdown",
   "id": "080fe82e",
   "metadata": {},
   "source": [
    "Un <b>circuito cuántico</b> es una rutina computacional consistente en <i>operaciones cuánticas coherentes sobre datos cuánticos, como qúbits, y computación clásica concurrente en tiempo real. Se trata de una secuencia ordenada de puertas cuánticas, mediciones y reinicios, todos los cuales pueden estar condicionados y utilizar datos del cálculo clásico en tiempo real.</i>\n"
   ]
  },
  {
   "cell_type": "markdown",
   "id": "080fe82e",
   "metadata": {},
   "source": [
    "Se dice que un conjunto de puertas cuánticas es <b>universal</b> si cualquier transformación unitaria de los datos cuánticos puede aproximarse de forma eficiente y arbitraria como una secuencia de puertas del conjunto. Cualquier programa cuántico puede representarse mediante una secuencia de circuitos cuánticos y computación clásica no concurrente.\n"
   ]
  },
  {
   "cell_type": "markdown",
   "id": "080fe82e",
   "metadata": {},
   "source": [
    "<div class=\"alert alert-block alert-danger\">\n",
    "<p style=\"color: DarkRed;\">\n",
    "<b>Nota</b>: <i>(ordenación de qúbits)</i>\n",
    "<br>\n",
    "Recordemos que la ordenación de los qúbits en el circuito tiene un convenio estándar que casi todo el mundo sigue. Sin embargo,\n",
    "uno de los principales agentes en este medio, IBM, usa un convenio distinto en su software Qiskit\n",
    "<figure><center>\n",
    "<br>\n",
    "<img src=\"Figuras/Fig_multiqubits_convenios_ordenacion\" alt=\"\" align=center width='400px'/>\n",
    "<center>Convenios de ordenación de los qúbits en la forma estándar, resaltando que Qiskit decide usar el convenio al revés.</center>\n",
    "<a id='Fig_elementos_convenios_ordenacion'></a>\n",
    "</center></figure>\n\n",
    "</p></div>\n"
   ]
  },
  {
   "cell_type": "markdown",
   "id": "080fe82e",
   "metadata": {},
   "source": [
    "## Ejemplo: Circuito de teleportación.\n"
   ]
  },
  {
   "cell_type": "markdown",
   "id": "080fe82e",
   "metadata": {},
   "source": [
    "Vamos a ver en esta sección a modo de ejemplo un circuito más completo que el de la Fig. \\ref{Fig_entrelazamiento_teleportacion} para implementar la teleportación. Con lo de \"más completo\" me refiero a que el circuito de la Fig. \\ref{Fig_entrelazamiento_teleportacion} no presenta la inicialización de los estados, además de que simplifica el hecho de usar bit clásicos poniéndolos en medio del circuito. El circuito sería el de la Fig. \\ref{Fig_elementos_teleportacion}.\n"
   ]
  },
  {
   "cell_type": "markdown",
   "id": "080fe82e",
   "metadata": {},
   "source": [
    "<figure><center>\n",
    "<br>\n",
    "<img src=\"Figuras/Fig_elementos_teleportacion.png\" alt=\"\" align=center width='700px'/>\n",
    "<center>Circuito de teleporación completo.</center>\n",
    "<a id='Fig_elementos_teleportacion'></a>\n",
    "</center></figure>\n\n"
   ]
  },
  {
   "cell_type": "markdown",
   "id": "080fe82e",
   "metadata": {},
   "source": [
    "El circuito cuántico utiliza tres qúbits y dos bits clásicos. Hay cuatro componentes principales en este circuito cuántico.\n",
    "\n",
    " \n- <b>Inicialización y reinicio</b>:\n",
    "En primer lugar, necesitamos comenzar nuestro cálculo cuántico con un estado cuántico bien definido. Esto se consigue mediante las operaciones de inicialización y reinicio. Los reinicios pueden realizarse mediante una combinación de puertas de un solo qúbit y computación clásica concurrente en tiempo real que controla si hemos creado con éxito el estado deseado mediante mediciones.\n",
    " \n- <b>Puertas cuánticas</b>:\n",
    "En segundo lugar, aplicamos una secuencia de puertas cuánticas que manipulan los tres qúbits tal y como requiere el algoritmo de teleportación. En este caso, sólo necesitamos aplicar puertas Hadamard ($H$) de un qúbit y CNOTs (dos qubits).\n",
    " \n- <b>Mediciones</b>:\n",
    "En tercer lugar, medimos dos de los tres qúbits. Un ordenador clásico interpreta las medidas de cada qúbit como resultados clásicos (0 y 1) y los almacena en los dos bits clásicos.\n",
    " \n- <b>Compuertas cuánticas controladas clásicamente</b>:\n",
    "En cuarto lugar, aplicamos puertas cuánticas y de un solo qúbit al tercer qubit. Estas puertas están condicionadas a los resultados de las medidas que se almacenan en los dos bits clásicos. En este caso, utilizamos los resultados del cálculo clásico simultáneamente en tiempo real dentro del mismo circuito cuántico.\n",
    "\n"
   ]
  },
  {
   "cell_type": "markdown",
   "id": "080fe82e",
   "metadata": {},
   "source": [
    "\\subsubsection{Porque partes clásicas en los circuitos?}\n"
   ]
  },
  {
   "cell_type": "markdown",
   "id": "080fe82e",
   "metadata": {},
   "source": [
    "Aunque un ordenador cuántico universal puede hacer cualquier cosa que haga un ordenador clásico, a menudo añadimos partes clásicas a nuestros circuitos cuánticos porque los estados cuánticos son frágiles.\n"
   ]
  },
  {
   "cell_type": "markdown",
   "id": "080fe82e",
   "metadata": {},
   "source": [
    "Cuando medimos el qúbit, colapsamos su estado y destruimos gran parte de la información. Como lo único que hace la medición es destruir información, en teoría podemos medir siempre en último lugar y no perder ninguna ventaja computacional. En realidad, medir antes ofrece muchas ventajas prácticas.\n"
   ]
  },
  {
   "cell_type": "markdown",
   "id": "080fe82e",
   "metadata": {},
   "source": [
    "Por ejemplo, en el circuito de teleportación, medimos los qúbits para poder enviar la información por canales clásicos en lugar de por canales cuánticos. La ventaja es que los canales clásicos son muy estables, mientras que en realidad no tenemos forma de enviar información cuántica a otras personas, ya que los canales son muy difíciles de crear.\n"
   ]
  },
  {
   "cell_type": "markdown",
   "id": "080fe82e",
   "metadata": {},
   "source": [
    "Un ejemplo de mezcla de computación clásica y cuántica son, como ya veremos, los famosos algoritmo <b>VQE (variational quantum eigensolvers)</b>. En estos algoritmos se itera en bucle, donde se hace un cálculo en ordenador cuántico con un circuito paramétrico, después se optimizan estos parámetro con un ordenador clásico, para volver a hacer el calculo en el ordenador cuántico, y así sucesivamente.  Dividir el cálculo en cálculos cuánticos más pequeños nos hace perder cierta ventaja computacional, pero lo compensa el hecho de que tenemos hardware ruidoso y al hacer esto reducimos el tiempo que nuestros qúbits están en superposición. Esto significa que hay menos posibilidades de que las interferencias introduzcan imprecisiones en nuestros resultados.\n"
   ]
  },
  {
   "cell_type": "markdown",
   "id": "080fe82e",
   "metadata": {},
   "source": [
    "Por último, para utilizar los resultados de nuestro cálculo cuántico en el mundo clásico cotidiano, tenemos que medir e interpretar esos estados al final del cálculo.\n"
   ]
  },
  {
   "cell_type": "markdown",
   "id": "8534e04c",
   "metadata": {},
   "source": [
    "<figure><center>\n",
    "<img   src=\"https://quantumspain-project.es/wp-content/uploads/2022/11/Logo_QS_EspanaDigital.png\" align=center  width=\"2000px\"/>\n",
    "</center></figure>\n",
    "\n",
    "<center>\n",
    "<img align=\"left\" src=\"https://quantumspain-project.es/wp-content/uploads/2024/02/Banner-QS_GOB_v2.png\" width=\"1000px\" />\n",
    "</center>"
   ]
  }
 ],
 "metadata": {
  "kernelspec": {
   "display_name": "Python 3 (ipykernel)",
   "language": "python",
   "name": "python3"
  },
  "language_info": {
   "codemirror_mode": {
    "name": "ipython",
    "version": 3
   },
   "file_extension": ".py",
   "mimetype": "text/x-python",
   "name": "python",
   "nbconvert_exporter": "python",
   "pygments_lexer": "ipython3",
   "version": "3.11.7"
  },
  "toc": {
   "base_numbering": 1,
   "nav_menu": {},
   "number_sections": false,
   "sideBar": true,
   "skip_h1_title": true,
   "title_cell": "Table of Contents",
   "title_sidebar": "Contents",
   "toc_cell": false,
   "toc_position": {},
   "toc_section_display": true,
   "toc_window_display": false
  }
 },
 "nbformat": 4,
 "nbformat_minor": 5
}
