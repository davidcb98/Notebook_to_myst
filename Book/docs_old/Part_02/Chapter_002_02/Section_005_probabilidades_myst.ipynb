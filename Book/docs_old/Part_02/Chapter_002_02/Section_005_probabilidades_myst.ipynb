{
 "cells": [
  {
   "cell_type": "markdown",
   "id": "8ddaeb38",
   "metadata": {},
   "source": [
    "> {sub-ref}`today` | {sub-ref}`wordcount-minutes` min read\n",
    "\n",
    "::::{figure} Figuras/Fig_logo_UMA_scbi.png\n",
    ":width: 2000px\n",
    ":align: center\n",
    "::::\n",
    "\n",
    "$ \\newcommand{\\bra}[1]{\\langle #1|} $\n",
    "$ \\newcommand{\\ket}[1]{|#1\\rangle} $\n",
    "$ \\newcommand{\\branew}[1]{\\langle #1|} $\n",
    "$ \\newcommand{\\ketnew}[1]{\\langle #1|} $\n",
    "$ \\newcommand{\\braket}[2]{\\langle #1|#2\\rangle} $\n",
    "$ \\newcommand{\\ketbra}[2]{| #1\\rangle \\langle #2 |} $\n",
    "$ \\newcommand{\\i}{{\\color{blue} i}} $ \n",
    "$ \\newcommand{\\Hil}{{\\cal H}} $\n",
    "$ \\newcommand{\\cg}[1]{{\\rm C}#1} $\n",
    "$ \\newcommand{\\lp}{\\left(} $\n",
    "$ \\newcommand{\\rp}{\\right)} $\n",
    "$ \\newcommand{\\lc}{\\left[} $\n",
    "$ \\newcommand{\\rc}{\\right]} $\n",
    "$ \\newcommand{\\lch}{\\left\\{} $\n",
    "$ \\newcommand{\\rch}{\\right\\}} $\n",
    "$ \\newcommand{\\Lp}{\\Bigl(} $\n",
    "$ \\newcommand{\\Rp}{\\Bigr)} $\n",
    "$ \\newcommand{\\Lc}{\\Bigl[} $\n",
    "$ \\newcommand{\\Rc}{\\Bigr]} $\n",
    "$ \\newcommand{\\Lch}{\\Bigl\\{} $\n",
    "$ \\newcommand{\\Rch}{\\Bigr\\}} $\n",
    "$ \\newcommand{\\rqa}{\\quad \\Rightarrow \\quad} $\n",
    "$ \\newcommand{\\bm}{\\boldsymbol}$"
   ]
  },
  {
   "cell_type": "markdown",
   "id": "080fe82e",
   "metadata": {},
   "source": [
    "# Probabilidades\n"
   ]
  },
  {
   "cell_type": "markdown",
   "id": "080fe82e",
   "metadata": {},
   "source": [
    "La Mecánica Cuántica es <b>intrinsecamente probabilística</b>. Por ello, es importate repasar algunos conceptos estadístico.\n"
   ]
  },
  {
   "cell_type": "markdown",
   "id": "080fe82e",
   "metadata": {},
   "source": [
    "## Variables aleatorias\n"
   ]
  },
  {
   "cell_type": "markdown",
   "id": "080fe82e",
   "metadata": {},
   "source": [
    "### Variable aleatoria\n"
   ]
  },
  {
   "cell_type": "markdown",
   "id": "080fe82e",
   "metadata": {},
   "source": [
    "::::::{card} \n",
    "\n",
    "\n",
    "Denotamos con $(X,p(X))$ una  <b>variable aleatoria</b> donde\n",
    "\n",
    " \n- $X$ es el <b>espacio muestral</b> de valores $\\{x_1, x_2,....,x_n\\}$ que pueden aparecer en una <i>consulta</i> a la variable aleatoria\n",
    "\n",
    " \n- $p(X)$ es la <b>distribución de probabilidad</b>\n",
    "\n",
    "::::::\n"
   ]
  },
  {
   "cell_type": "markdown",
   "id": "080fe82e",
   "metadata": {},
   "source": [
    "### Distribución de probabilidad\n"
   ]
  },
  {
   "cell_type": "markdown",
   "id": "080fe82e",
   "metadata": {},
   "source": [
    "::::::{card} \n",
    "\n",
    "\n",
    "Una <b>distribución de probabilidad</b> es una función real $x\\to p(x)$ que debe  verificar las dos condiciones siguientes\n",
    "\\begin{equation}\n",
    "p(x) \\in [0,1]~~~~~~~,~~~~~~~~\\sum_{x\\in X }p(x) = 1\n",
    "\\end{equation}\n",
    "Es decir, la suma de probabilidades de todos los sucesos posibles debe ser la unidad.\n",
    "::::::\n"
   ]
  },
  {
   "cell_type": "markdown",
   "id": "080fe82e",
   "metadata": {},
   "source": [
    "### Media\n"
   ]
  },
  {
   "cell_type": "markdown",
   "id": "080fe82e",
   "metadata": {},
   "source": [
    "::::::{card} \n",
    "\n",
    "\n",
    "La <b>media</b> de una variable aleatoria  viene dada por la expresión\n",
    "\\begin{equation}\n",
    "\\overline X  = \\sum_i x_i p(x_i)\n",
    "\\end{equation}\n",
    "::::::\n"
   ]
  },
  {
   "cell_type": "markdown",
   "id": "080fe82e",
   "metadata": {},
   "source": [
    "### Varianza y desviación estándar\n"
   ]
  },
  {
   "cell_type": "markdown",
   "id": "080fe82e",
   "metadata": {},
   "source": [
    "::::::{card} \n",
    "\n",
    "\n",
    "La <b>varianza</b>, $\\sigma_X^2$, es la  <i>media de la desviación cuadrática</i> $\\overline{(x_i - \\overline{X} )^2}$\n",
    "\\begin{equation}\n",
    "\\sigma^2_X = \\sum_j (x_j-\\overline{X})^2 p(x_j) = \\overline{X^2} - \\overline{X}^2\n",
    "\\end{equation}\n",
    "La cantidad $\\sigma_X$ se denomina  <b>desviación estándar</b>\n",
    "\\begin{equation}\n",
    "\\sigma_X = \\sqrt{\\overline{X^2} - \\overline{X}^2}\n",
    "\\end{equation}\n",
    "::::::\n"
   ]
  },
  {
   "cell_type": "markdown",
   "id": "080fe82e",
   "metadata": {},
   "source": [
    "## La conexión estadística\n"
   ]
  },
  {
   "cell_type": "markdown",
   "id": "080fe82e",
   "metadata": {},
   "source": [
    "Nuestro conocimiento del mundo se basa en la realización de <b>experimentos</b>, el resultado de los cuales es (empíricamente) <b>aleatorio</b>. Podemos pensar en el hecho de medir un sistema como la consulta de una variable aleatoria $(X,p(X))$ donde la distribución de probabilidad incorpora todo nuestro conocimiento acerca del sistema.\n"
   ]
  },
  {
   "cell_type": "markdown",
   "id": "080fe82e",
   "metadata": {},
   "source": [
    "### Frecuencias e Histogramas\n"
   ]
  },
  {
   "cell_type": "markdown",
   "id": "080fe82e",
   "metadata": {},
   "source": [
    "Cualquier consulta o medida da lugar a una <i>muestra</i> finita de valores $A_N = (a_1,a_2,...,a_N)$. Cada uno de estos resultados puede tomar cualquier valor $x_j$ del espacio muestral, es decir, $a_i\\in \\{x_1,...,x_n\\}$. A su vez, medidas diferentes ($a_i$ diferentes) pueden tomar valores iguales $x_j$, con números de aparición $n(x_i)$ tales que  $n(x_1) +  \\ldots + n(x_p) = N$.\n"
   ]
  },
  {
   "cell_type": "markdown",
   "id": "080fe82e",
   "metadata": {},
   "source": [
    "Estos datos se pueden agrupar en intervalos o <i>bins</i> que eliminen cierta precisión numérica.\n",
    "Por ejemplo, si truncamos nuestra precisión a las décimas de unidad,  $13.10$ y $13.19$ pertenecerán al mismo <i>bin</i>.\n"
   ]
  },
  {
   "cell_type": "markdown",
   "id": "080fe82e",
   "metadata": {},
   "source": [
    "Un <b>histograma</b> es un diagrama en el que, por cada <i>bin</i>, hay una columna, cuya altura representa el número de sucesos que pertenecen a dicho <i>bin</i>. Podemos ver uno en la Fig. \\ref{Fig_formalismo_histograma}.\n"
   ]
  },
  {
   "cell_type": "markdown",
   "id": "080fe82e",
   "metadata": {},
   "source": [
    "::::{figure} Figuras/Fig_formalismo_histograma.png\n",
    "\n",
    ":width: 400px\n",
    ":align: center\n",
    "Ejemplo de histograma.\n",
    ":name: Fig_formalismo_histograma\n",
    "::::\n"
   ]
  },
  {
   "cell_type": "markdown",
   "id": "080fe82e",
   "metadata": {},
   "source": [
    "### Ley de los grandes números\n"
   ]
  },
  {
   "cell_type": "markdown",
   "id": "080fe82e",
   "metadata": {},
   "source": [
    "La conexión entre estadística y teoría de la probabilidad se da mediante la <b>ley de los grandes números</b>. Lo que nos dice esta ley es que cuando el número de muestras tiende a infinito, $N\\to \\infty$, las fracciones relativas tienden a un número fijo que hereda, de toda la dinámica del sistema, ciertas propiedades que no se desvanecen. Este número es la probabilidad, es decir,\n",
    "\\begin{equation}\n",
    "f_N(x_i) = \\frac{n(x_i)}{N}~~~\\stackrel{N\\to\\infty}{\\longrightarrow}~~~{p(x_i)}\n",
    "\\end{equation}\n",
    "Un punto importante aquí es darnos cuenta de que experimentalmente sólo tenemos acceso a las frecuencias relativas $f_N(x_i)$ para un $N$ grande aunque <b>finito</b>.\n"
   ]
  },
  {
   "cell_type": "markdown",
   "id": "080fe82e",
   "metadata": {},
   "source": [
    "Igualmente, nuestro conocimiento de la  media $\\overline X$  y la varianza $\\sigma_X^2$ siempre es aproximado, y se realiza a través de las medias y varianzas muestrales\n",
    "\\begin{eqnarray}\n",
    "\\overline{A}_N = \\sum_i x_i f_N(x_i)~~~&\\stackrel{N\\to\\infty}{\\longrightarrow}&~~~ \\overline{X}\\\\\n",
    "\\sigma_{A_N}^2 = \\sum_{i} (x_i - \\overline{A}_N)^2 f_N(x_i) ~~~&\\stackrel{N\\to\\infty}{\\longrightarrow}&~~~ \\sigma_X^2\n",
    "\\end{eqnarray}\n"
   ]
  },
  {
   "cell_type": "markdown",
   "id": "080fe82e",
   "metadata": {},
   "source": [
    "::::::{admonition} Nota\n",
    ":class: note\n",
    "\n",
    "\n",
    "\n",
    "Este es el enfoque <b>frecuentista</b>.\n",
    "::::::\n"
   ]
  },
  {
   "cell_type": "markdown",
   "id": "080fe82e",
   "metadata": {},
   "source": [
    "### La distribución de Bernouilli\n",
    "::::::{card} \n",
    "\n",
    "\n",
    "Una <b>variable aleatoria de Bernouilli</b> $X=(x,p(x))$ tiene dos posibles resultados\n",
    "\n",
    " \n- <b>Exito</b>:$\\to x=1$ con probabilidad $p(1) = p$\n",
    "\n",
    " \n- <b>Fracaso</b>: $\\to x=0$ con probabilidad $p(0) = 1-p$\n",
    "\n",
    "::::::\n"
   ]
  },
  {
   "cell_type": "markdown",
   "id": "080fe82e",
   "metadata": {},
   "source": [
    "Podemos calcular fácilmente\n",
    "\\begin{align}\n",
    "\\overline X & = \\sum_i x_i p_i = 1 \\cdot p +0 \\cdot (1-p) = p \\\\\n",
    "\\sigma^2 & = \\sum_i (x-\\overline X)^2p_i = (1-p)^2p +(0-p) = p(1-p)\n",
    "\\end{align}\n"
   ]
  },
  {
   "cell_type": "markdown",
   "id": "080fe82e",
   "metadata": {},
   "source": [
    "### La distribución Binomial\n"
   ]
  },
  {
   "cell_type": "markdown",
   "id": "080fe82e",
   "metadata": {},
   "source": [
    "::::::{card} \n",
    "\n",
    "\n",
    "La <b>variable aleatoria binomia</b>l $X = (x,p(x))$ se define como\n",
    "\\begin{equation}\n",
    "x = \\text{número de éxitos obtenidos en } n \\text{ pruebas de Bernouilli sucesivas}\n",
    "\\end{equation}\n",
    "Claramente $x \\in (0,1,2,...n)$.\n",
    "\n",
    "Ahora es muy sencillo obtener la <b>probabilidad</b> de un suceso con $x$ éxitos\n",
    "\\begin{equation}\n",
    "p(x) = \\begin{pmatrix}n\\\\ x\\end{pmatrix} p^x (1-p)^{n-x}\n",
    "\\end{equation}\n",
    "donde el primer factor tiene en cuenta las posibles ordenaciones en que aparecen $x$ éxitos en $n$ intentos.\n",
    "::::::\n"
   ]
  },
  {
   "cell_type": "markdown",
   "id": "080fe82e",
   "metadata": {},
   "source": [
    "Podemos ver esta distribución en la Fig. \\ref{Fig_formalismo_dist_binomial}.\n"
   ]
  },
  {
   "cell_type": "markdown",
   "id": "080fe82e",
   "metadata": {},
   "source": [
    "Un cálculo un poco más largo permite ver que, ahora\n",
    "\\begin{align}\n",
    "\\overline X &=  np\\\\ \\rule{0mm}{7mm}\n",
    "\\sigma^2 &= n p(1-p)\n",
    "\\end{align}\n"
   ]
  },
  {
   "cell_type": "markdown",
   "id": "080fe82e",
   "metadata": {},
   "source": [
    "::::{figure} Figuras/Fig_formalismo_dist_binomial.png\n",
    "\n",
    ":width: 400px\n",
    ":align: center\n",
    "Distribución binomial\n",
    ":name: Fig_formalismo_dist_binomial\n",
    "::::\n"
   ]
  },
  {
   "cell_type": "markdown",
   "id": "080fe82e",
   "metadata": {},
   "source": [
    "### La distribución Normal o Gaussiana\n"
   ]
  },
  {
   "cell_type": "markdown",
   "id": "080fe82e",
   "metadata": {},
   "source": [
    "::::::{card} \n",
    "\n",
    "\n",
    "La <b>distribución normal</b> (o <b>gaussiana</b>) centrada en $\\mu$ y con anchura $\\sigma$ viene dada por\n",
    "\\begin{equation}\n",
    "p(x) = \\frac{1}{\\sqrt{2\\pi}\\sigma} \\exp \\left({-\\frac{(x-\\mu)^2}{2\\sigma^2}}\\right)\n",
    "\\end{equation}\n",
    "Nos encontramos ante una variable aleatoria con un espacio muestral continuo $x\\in (-\\infty,+\\infty)$.\n",
    "::::::\n"
   ]
  },
  {
   "cell_type": "markdown",
   "id": "080fe82e",
   "metadata": {},
   "source": [
    "Podemos ver esta distribución en la Fig. \\ref{Fig_formalismo_dist_normal}. Tenemos además que\n"
   ]
  },
  {
   "cell_type": "markdown",
   "id": "080fe82e",
   "metadata": {},
   "source": [
    "\\begin{align}\n",
    "\\overline{X} &= \\int_{-\\infty}^{+\\infty} xp(x) dx = \\mu \\\\\n",
    "\\overline{(x-\\overline X)^2} &= \\int_{-\\infty}^{+\\infty} (x-\\mu)^2 p(x)dx =\\sigma^2\n",
    "\\end{align}\n"
   ]
  },
  {
   "cell_type": "markdown",
   "id": "080fe82e",
   "metadata": {},
   "source": [
    "::::{figure} Figuras/Fig_subfig_formalismo_dist_normal.png\n",
    "\n",
    ":width: 1000px\n",
    ":align: center\n",
    "Distribución normal (o gaussina)\n",
    ":name: Fig_formalismo_dist_normal\n",
    "::::\n"
   ]
  },
  {
   "cell_type": "markdown",
   "id": "080fe82e",
   "metadata": {},
   "source": [
    "## Probabilidades combinadas\n"
   ]
  },
  {
   "cell_type": "markdown",
   "id": "080fe82e",
   "metadata": {},
   "source": [
    "Las probabilidades combinadas son la base de las <b>correlaciones</b>. Es aquí donde la Mecánica Cuántica produce resultados inesperados clásicamente. Esto es porque cantidades que son independientes desde el punto de vista clásico, presentan correlaciones al hacer el experimento.\n"
   ]
  },
  {
   "cell_type": "markdown",
   "id": "080fe82e",
   "metadata": {},
   "source": [
    "Ahora vamos a examinar variables aleatorias formadas por dos espacios muestrales $X$ e $Y$. Dependiendo de la forma en que combinemos la observación de cada una tendremos distintas distribuciones de probabilidad\n"
   ]
  },
  {
   "cell_type": "markdown",
   "id": "080fe82e",
   "metadata": {},
   "source": [
    "### Probabilidad combinada\n"
   ]
  },
  {
   "cell_type": "markdown",
   "id": "080fe82e",
   "metadata": {},
   "source": [
    "Una forma de lidiar con las correlaciones es tratar el conjunto de varias variables aleatorias como una sola variable. Esta es la idea detrás de la <b>probabilidad combinada</b>,\n"
   ]
  },
  {
   "cell_type": "markdown",
   "id": "080fe82e",
   "metadata": {},
   "source": [
    "::::::{card} \n",
    "\n",
    "\n",
    "La <b>distribución de probabilidad combinada</b> asocia un número $p(x,y)$ a la probabilidad de observación conjunta de $x$ <b>e</b> $y$.\n",
    "\n",
    "De esta forma, tratamos las parejas de eventos  como un solo evento  $a = (x,y)$. Por eso, la condición de normalización ahora es\n",
    "\\begin{equation}\n",
    "\\sum_a p(a) = \\sum_{xy} p(x,y) = 1\\, .\n",
    "\\end{equation}\n",
    "::::::\n"
   ]
  },
  {
   "cell_type": "markdown",
   "id": "080fe82e",
   "metadata": {},
   "source": [
    "\n",
    " \n- <b>Distribución marginal</b>:\n",
    "La suma parcial sobre una de las dos variables conduce a sendas <b>distribuciones marginales</b>\n",
    "\\begin{equation}\n",
    "q(x) = \\sum_{y} p(x,y) ~~~~~~~~~ \\tilde q(y) = \\sum_{x} p(x,y)\n",
    "\\end{equation}\n",
    " \n- <b>Variables independientes</b>:\n",
    "Si dos variables aleatorias no presentan <b>ninguna correlación</b>, decimos que son <b>independientes</b>. En este caso las probabilidades combinadas factorizan\n",
    "\\begin{equation}\n",
    "p(x,y) = p(x) p(y)\n",
    "\\end{equation}\n",
    "La distribución de cada variable coincide con la que se deduce de marginalizar la otra\n",
    "\\begin{equation}\n",
    "\\sum_y p(x,y) = p(x)~~~~,~~~~\\sum_x p(x,y) = p(y)\n",
    "\\end{equation}\n",
    "\n"
   ]
  },
  {
   "cell_type": "markdown",
   "id": "080fe82e",
   "metadata": {},
   "source": [
    "### Probabilidad condicionada\n"
   ]
  },
  {
   "cell_type": "markdown",
   "id": "080fe82e",
   "metadata": {},
   "source": [
    "::::::{card} \n",
    "\n",
    "\n",
    "La distribución de <b>probabilidad condicionada</b> $p(X|Y)$ asigna un número $p(x|y)$ a la probabilidad  de encontrar un suceso $X=x$ una vez <i>sabemos</i> que $Y=y$ ha sido el resultado de consultar $Y$.\n",
    "::::::\n"
   ]
  },
  {
   "cell_type": "markdown",
   "id": "080fe82e",
   "metadata": {},
   "source": [
    "La manera de acceder experimentalmente a estas distribuciones, es efectuar un muestreo $(a_i,b_i), i=1,...,N$ de valores de $(X,Y)$ y <i>seleccionar</i> sólo aquellos sucesos donde $b_i = y$ un valor concreto de $Y$.\n"
   ]
  },
  {
   "cell_type": "markdown",
   "id": "080fe82e",
   "metadata": {},
   "source": [
    "::::::{card} \n",
    "<b>Teorema</b>: </i>de Bayes</i> \n",
    "\n",
    "^^^\n",
    "Las probabilidades condicionales y combinadas se relacionan de la forma siguiente\n",
    "\\begin{equation}\n",
    "p(x,y) = p(x|y)p(y) = p(y|x) p(x)\n",
    "\\end{equation}\n",
    "La segunda igualdad conduce al <b>teorema de Bayes</b>\n",
    "\\begin{equation}\n",
    "p(x|y) = \\frac{p(y|x)p(x)}{p(y)}\n",
    "\\end{equation}\n",
    "::::::\n",
    "\n\n"
   ]
  },
  {
   "cell_type": "markdown",
   "id": "080fe82e",
   "metadata": {},
   "source": [
    "## Entropía de una una variable aleatoria\n"
   ]
  },
  {
   "cell_type": "markdown",
   "id": "080fe82e",
   "metadata": {},
   "source": [
    "::::::{card} \n",
    "<b>Definicion</b>:  \n",
    "\n",
    "^^^\n",
    "Dada una variable aleatoria $(X,p(X))$ definimos la <b>entropía</b> asociada mediante la expresión\n",
    "\\begin{equation}\n",
    "H = -\\sum_x p(x)\\log p(x)\n",
    "\\end{equation}\n",
    "::::::\n",
    "\n\n"
   ]
  },
  {
   "cell_type": "markdown",
   "id": "080fe82e",
   "metadata": {},
   "source": [
    "\n",
    " \n- El signo negativo hace esta expresión positiva, debido a que $\\log p(x)\\leq 0$.\n",
    " \n- El valor de $H$ está acotado entre $H\\in [0,\\log(N)]$ donde $N$ es el número de sucesos $x$ posibles\n",
    " \n- Si $p(x_i)=0 \\,\\,  \\forall x_i$ excepto $p(x_0)=1$ para un evento posible $\\Rightarrow H=0$\n",
    " \n- Si $p(x_i) = 1/N$ es equiprobable $\\Rightarrow H = \\log(N)$ y este es el valor máximo.\n",
    "\n"
   ]
  },
  {
   "cell_type": "markdown",
   "id": "080fe82e",
   "metadata": {},
   "source": [
    "::::::{admonition} Ejemplo\n",
    ":class: tip\n",
    "\n",
    "\n",
    "\n",
    "La entropía de la distribución de Bernoulli es\n",
    "\\begin{equation}\n",
    "H = - p\\log p -(1-p)\\log (1-p)\n",
    "\\end{equation}\n",
    "\n",
    "::::{figure} Figuras/Fig_formalismo_binaryentropy.png\n",
    "\n",
    ":width: 500px\n",
    ":align: center\n",
    "Entropía para una distribución de Bernouilli\n",
    ":name: Fig_formalismo_binaryentropy\n",
    "::::\n",
    "::::::\n"
   ]
  },
  {
   "cell_type": "markdown",
   "id": "8534e04c",
   "metadata": {},
   "source": [
    "::::{figure} https://quantumspain-project.es/wp-content/uploads/2022/11/Logo_QS_EspanaDigital.png\n",
    ":width: 2000px\n",
    ":align: center\n",
    "::::\n",
    "\n",
    "<center>\n",
    "<img align=\"left\" src=\"https://quantumspain-project.es/wp-content/uploads/2024/02/Banner-QS_GOB_v2.png\" width=\"1000px\" />\n",
    "</center>"
   ]
  }
 ],
 "metadata": {
  "kernelspec": {
   "display_name": "Python 3 (ipykernel)",
   "language": "python",
   "name": "python3"
  },
  "language_info": {
   "codemirror_mode": {
    "name": "ipython",
    "version": 3
   },
   "file_extension": ".py",
   "mimetype": "text/x-python",
   "name": "python",
   "nbconvert_exporter": "python",
   "pygments_lexer": "ipython3",
   "version": "3.11.7"
  },
  "toc": {
   "base_numbering": 1,
   "nav_menu": {},
   "number_sections": false,
   "sideBar": true,
   "skip_h1_title": true,
   "title_cell": "Table of Contents",
   "title_sidebar": "Contents",
   "toc_cell": false,
   "toc_position": {},
   "toc_section_display": true,
   "toc_window_display": false
  }
 },
 "nbformat": 4,
 "nbformat_minor": 5
}
