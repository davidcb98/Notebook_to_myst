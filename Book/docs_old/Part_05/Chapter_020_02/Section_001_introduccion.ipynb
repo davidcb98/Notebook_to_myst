{
 "cells": [
  {
   "cell_type": "markdown",
   "id": "8ddaeb38",
   "metadata": {},
   "source": [
    "<a href=\"https://www.scbi.uma.es/\" target=\"_blank\">\n",
    "<img src=\"Figuras/Fig_logo_UMA_scbi.png\" align=center width=\"2000px\">\n",
    "</a>\n",
    "\n",
    "\n",
    "\n",
    "<a href=\"https://www.scbi.uma.es/web/es/computacion-cuantica/\">\n",
    "    <button class=\"rounded\" style=\"float: right;\">\n",
    "    <svg xmlns=\"http://www.w3.org/2000/svg\" width=\"32\" height=\"32\" viewBox=\"0 0 24 24\">\n",
    "        <path fill=\"var(--fill, white)\"\n",
    "        d=\"M18.1 15.3c-.1.1-.3.2-.4.3l-2.4.4l1.7 3.6c.2.4 0 .8-.4\n",
    "            1l-2.8 1.3c-.1.1-.2.1-.3.1c-.3 0-.6-.2-.7-.4L11.2\n",
    "            18l-1.9 1.5c-.1.1-.3.2-.5.2c-.4 0-.8-.3-.8-.8V7.5c0-.5.3-.8.8-.8c.2 0\n",
    "            .4.1.5.2l8.7 7.4c.3.2.4.7.1 1M6 12H4V4h16v8h-1.6l2.2 1.9c.8-.3 1.3-1\n",
    "            1.3-1.9V4c0-1.1-.9-2-2-2H4c-1.1 0-2 .9-2 2v8c0 1.1.9 2 2 2h2z\" />\n",
    "    </svg>\n",
    "    Volver a SCBI - Computación Cuantica\n",
    "    </button>\n",
    "</a>\n",
    "\n",
    "$ \\newcommand{\\bra}[1]{\\langle #1|} $\n",
    "$ \\newcommand{\\ket}[1]{|#1\\rangle} $\n",
    "$ \\newcommand{\\branew}[1]{\\langle #1|} $\n",
    "$ \\newcommand{\\ketnew}[1]{\\langle #1|} $\n",
    "$ \\newcommand{\\braket}[2]{\\langle #1|#2\\rangle} $\n",
    "$ \\newcommand{\\ketbra}[2]{| #1\\rangle \\langle #2 |} $\n",
    "$ \\newcommand{\\i}{{\\color{blue} i}} $ \n",
    "$ \\newcommand{\\Hil}{{\\cal H}} $\n",
    "$ \\newcommand{\\cg}[1]{{\\rm C}#1} $\n",
    "$ \\newcommand{\\lp}{\\left(} $\n",
    "$ \\newcommand{\\rp}{\\right)} $\n",
    "$ \\newcommand{\\lc}{\\left[} $\n",
    "$ \\newcommand{\\rc}{\\right]} $\n",
    "$ \\newcommand{\\lch}{\\left\\{} $\n",
    "$ \\newcommand{\\rch}{\\right\\}} $\n",
    "$ \\newcommand{\\Lp}{\\Bigl(} $\n",
    "$ \\newcommand{\\Rp}{\\Bigr)} $\n",
    "$ \\newcommand{\\Lc}{\\Bigl[} $\n",
    "$ \\newcommand{\\Rc}{\\Bigr]} $\n",
    "$ \\newcommand{\\Lch}{\\Bigl\\{} $\n",
    "$ \\newcommand{\\Rch}{\\Bigr\\}} $\n",
    "$ \\newcommand{\\rqa}{\\quad \\Rightarrow \\quad} $\n",
    "$ \\newcommand{\\bm}{\\boldsymbol}$"
   ]
  },
  {
   "cell_type": "markdown",
   "id": "080fe82e",
   "metadata": {},
   "source": [
    "# Introducción\n"
   ]
  },
  {
   "cell_type": "markdown",
   "id": "080fe82e",
   "metadata": {},
   "source": [
    "## Criptografía y factorización\n"
   ]
  },
  {
   "cell_type": "markdown",
   "id": "080fe82e",
   "metadata": {},
   "source": [
    "El algoritmo de Shor es uno de los algoritmos de computación cuántica más conocidos debido a que es mejor en su tarea que cualquier algoritmo de computación clásica conocido hasta la fecha. Además, resuelve un problema que tiene una aplicación práctica directa: factorizar un número.\n"
   ]
  },
  {
   "cell_type": "markdown",
   "id": "080fe82e",
   "metadata": {},
   "source": [
    "Para entender porque este algoritmo es tan importante debemos hablar primero de criptografía, en concreto, del encriptado de transmisiones a través de Internet mediante el método de clave pública y clave privada (<b>criptografía asimétrica</b> usando el famoso <b>algoritmo RSA</b>). La explicación conceptual de esta forma de encriptar es simple. Cuando quieres, por ejemplo, acceder a la aplicación de tu banco tienes que ingresar las claves de acceso (DNI y pin), estas se mandan por Internet hasta la sede de tu banco, el cual verifica que son correctas y te da acceso. El problema radica precisamente en que la conexión se hace mediante Internet, con lo cual el mensaje con las claves de acceso puede ser interceptado. La solución a este problema es que el mensaje que el cliente envía esté encriptado y que solo tu banco pueda desencriptar el mensaje.\n"
   ]
  },
  {
   "cell_type": "markdown",
   "id": "080fe82e",
   "metadata": {},
   "source": [
    "El método de encriptación más usado en Internet usando el algoritmo RSA. En este tipo de encriptado el receptor del mensaje (en nuestro ejemplo, el banco) genera dos claves dependientes entre sí, una la publicará al exterior (clave pública) y otra solo la conocerá él (clave privada). Si un receptor quisiera recibir un mensaje encriptado, bastaría con que publicase su clave pública de forma que cualquiera que quiera mandarle un mensaje, pueda usarla para encriptar el mismo. Sin embargo, la clave privada solo es conocida por el receptor del mensaje, y se usa para desencriptar. Puede decirse que la clave pública es como un candado y la clave privada es la llave. Cualquiera puede cerrar el candado, pero solo el que tiene la llave puede abrirlo.\n"
   ]
  },
  {
   "cell_type": "markdown",
   "id": "080fe82e",
   "metadata": {},
   "source": [
    "El punto importante aquí es que, la clave privada son dos números primos (de gran tamaño, decenas de cifras), y la clave pública es la multiplicación de estos dos números. La solidez de este método de cifrado (RSA) radica en el hecho de que si tenemos dos números primos multiplicarlos es muy fácil, pero si tenemos la multiplicación de los mismos (la clave pública) hallar cuales son los dos números con los que se construyó (factorizar el número en sus elementos primos) es extremadamente difícil. Como es esperable, cuanto más larga es la clave, más tiempo se tarda en factorizarla. El problema radica específicamente en que el tiempo que se requiere crece <b>exponencialmente</b> con el número de bits. Para las longitudes de clave que se manejan actualmente, incluso con los mejores superordenadores se tardarían cientos o miles de años en hallar los factores.\n"
   ]
  },
  {
   "cell_type": "markdown",
   "id": "080fe82e",
   "metadata": {},
   "source": [
    "La tremenda potencia y aplicabilidad del algoritmo de Shor es que convierte este problema de complejidad exponencial en el número de bits para un computador clásico, en un problema de complejidad polinómica para un computador cuántico. Es decir, con el algoritmo de Shor el tiempo requerido para factorizar un número crece <b>polinómicamente</b> con el número de cifras del número. De esta forma, si se llega a tener un ordenador cuántico con suficientes qubits como para aplicar este algoritmo a números de la longitud de clave que se usa actualmente, se podrían factorizar y hallar la clave privada en un tiempo razonable para la escala humana. El algoritmo de Shor tiene el potencial de romper la criptografía asimétrica y hacer vulnerables las comunicaciones a través de la red, pero estamos muy lejos de tener un ordenador cuántico capar de implementarlo a la escala requerida. Se estima que se necesitarían del orden del millón de qubits, mientras que actualmente (año 2023) los ordenadores cuánticos más grandes andan por el orden de cientos de qubits.\n"
   ]
  },
  {
   "cell_type": "markdown",
   "id": "080fe82e",
   "metadata": {},
   "source": [
    "\n",
    "<a id='sec_algoritmo_factorizacion'></a>\n",
    "## Algoritmo de factorización \n"
   ]
  },
  {
   "cell_type": "markdown",
   "id": "080fe82e",
   "metadata": {},
   "source": [
    "El algoritmo de Shor se basa en el hecho de poder reducir un problema de factorización a uno de <b>period finding (hallar el periodo -orden- de una función)</b>. Antes de hablar de nada cuántico, vamos a ver, tal y como se describe en el Nielsen-Chuang [[20]](../../Bibliografia.ipynb#bib_nielsen),  como sería la estructura general de un algoritmo de factorización de esta forma comentando en que punto entra la computación cuántica para acelerarlo.\n"
   ]
  },
  {
   "cell_type": "markdown",
   "id": "080fe82e",
   "metadata": {},
   "source": [
    "Lo primero es introducir la noción de <b>números coprimos</b>:\n"
   ]
  },
  {
   "cell_type": "markdown",
   "id": "080fe82e",
   "metadata": {},
   "source": [
    "<div class=\"alert alert-block alert-info\">\n",
    "<p style=\"color: navy;\">\n",
    "<b>Definición</b>:\n",
    "Dos números $a$ y $b$ son coprimos si su máximo común divisor es 1, esto es, gcd$(a,b) = 1$. Es decir, dos números coprimos solo comparten como divisor común el 1.\n",
    "</p></div>\n",
    "\n\n"
   ]
  },
  {
   "cell_type": "markdown",
   "id": "080fe82e",
   "metadata": {},
   "source": [
    "Los pasos para reducir un problema de factorización en uno de period finding son los siguientes. Sea $N$ el número que queremos factorizas\n"
   ]
  },
  {
   "cell_type": "markdown",
   "id": "080fe82e",
   "metadata": {},
   "source": [
    "\n",
    " \n1. Si $N$ es par, devolver el factor 2.\n",
    " \n2. Determinar si $N=p^b$ para los enteros $p \\geq 1$ y $b \\geq 2$, y si es así, devolver el factor $p$ (puede hacerse en un tiempo polinómico).\n",
    " \n3. Elegir un número entero aleatorio $a$ tal que $1 < a \\leq N-1$. Usando el algoritmo de Euclides, determinar si gcd$(a,N) > 1$. Si lo es, devolver el factor gcd$(a,N)$.\n",
    " \n4. Si gcd$(a,N) = 1$ ($a$ y $N$ son coprimos) y $a^{r/2} \\neq -1$ mod$N = (\\alpha N -1)$ mod$N$, calculamos el periodo $r$ de la función $f(x) = a^x \\text{ mod} N$.\n",
    " \n5. Si $r$ es par y $a^{r/2} (\\text{mod } N)\\neq -1$, entonces calculamos gcd$(a^{r/2}-1,N)$ y gcd$(a^{r/2}+1,N)$ y probamos a ver alguno de estos es un factor no trivial de $N$. Si no se cumples esas dos condiciones, volvemos al paso 3.\n",
    "\n"
   ]
  },
  {
   "cell_type": "markdown",
   "id": "080fe82e",
   "metadata": {},
   "source": [
    "Todos los pasos de este algoritmo, excepto el <b>paso 4</b>, se pueden implementar en un ordenador clásico y resolverse en un tiempo polinómico. Esto es debido a que para calcular el máximo común divisor se puede usar el Algoritmo de Euclides [[26]](../../Bibliografia.ipynb#bib_Euclides), el cual resuelve el problema en un <b>tiempo polinómico</b> (se puede calcular en un tiempo razonable).\n"
   ]
  },
  {
   "cell_type": "markdown",
   "id": "080fe82e",
   "metadata": {},
   "source": [
    "El paso complicado y que, por lo menos hasta la fecha, no hay ninguna forma de implementarlo en un tiempo polinómico en un ordenador clásico (se implementa en un <b>tiempo exponencial</b>) es el <b>paso 4</b>, hallar el periodo de la función. Sin embargo, este paso puede implementarse en un ordenador cuántico en un tiempo polinómico. Tenemos pues que la forma óptima de factorizar un número consiste en <b>implementar los pasos 1, 2, 3 y 5 en un ordenador clásico, y el paso 4 en un ordenador cuántico</b>.\n"
   ]
  },
  {
   "cell_type": "markdown",
   "id": "080fe82e",
   "metadata": {},
   "source": [
    "## Explicación cualitativa\n"
   ]
  },
  {
   "cell_type": "markdown",
   "id": "080fe82e",
   "metadata": {},
   "source": [
    "Vamos a intentar entender de forma cualitativa porqué calculando el periodo de una función se pueden hallar los factores de un número. En la sección  {numref}`%s <sec_Formalismo>` veremos un poco más en detalle las afirmaciones que se hacen en esta sección.\n"
   ]
  },
  {
   "cell_type": "markdown",
   "id": "080fe82e",
   "metadata": {},
   "source": [
    "La función que nos interesa es la siguiente\n",
    "\\begin{equation}\n",
    "f(x) = a^x (\\text{ mod} N)\n",
    "\\end{equation}\n",
    "donde $a$ y $N$ son enteros positivos mayores que 1, siendo además $a < N$ y no teniendo factores comunes, es decir, que sean coprimos (gcd$(a,N) = 1$). La operación ($z$ mod$N$) a lo que se refiere es a quedarnos con el <b>resto</b> de dividir el número que $z$ por $N$.\n"
   ]
  },
  {
   "cell_type": "markdown",
   "id": "080fe82e",
   "metadata": {},
   "source": [
    "La función $f(x)$ se denomina  <b>exponenciales moduladas</b>. Esta se encaja dentro de la <b>aritmética modular</b> y si se cumplen las condiciones anteriores esta función es periódica. Denominaremos $r$ al <b>valor del periodo de la función</b> $f(x)$, es decir, $r$ es el mínimo valor entero para que se cumple:\n",
    "\\begin{equation}\n",
    "f(x+r) = f(x).\n",
    "\\end{equation}\n",
    "Este se puede calcular mediante un circuito cuántico.\n"
   ]
  },
  {
   "cell_type": "markdown",
   "id": "080fe82e",
   "metadata": {},
   "source": [
    "Una vez se tiene el periodo $r$, si este es par (sino hay que probar con otro valor de $a$) se pueden calcular los factores de $N$. Esto es debido a que\n",
    "\\begin{equation}\n",
    "a^r (\\text{ mod} N) = 1\n",
    "\\end{equation}\n",
    "con lo cual\n",
    "\\begin{equation}\n",
    "(a^r-1) (\\text{ mod}) N = 0\n",
    "\\end{equation}\n",
    "Con lo cual, $N$ debe ser un divisor de $a^r-1$. Si $r$ es par (sino hay que probar con otro valor de $a$), podemos escribir:\n",
    "\\begin{equation}\n",
    "a^r-1 = (a^{r/2}-1)(a^{r/2}+1)\n",
    "\\end{equation}\n",
    "Entonces tenemos una alta probabilidad de que el <b>máximo común divisor</b> de $N$ y $a^{\\,r/2}-1$ o $a^{\\,r/2}+1$ sea un factor propio de $N$.\n"
   ]
  },
  {
   "cell_type": "markdown",
   "id": "8534e04c",
   "metadata": {},
   "source": [
    "<figure><center>\n",
    "<img   src=\"https://quantumspain-project.es/wp-content/uploads/2022/11/Logo_QS_EspanaDigital.png\" align=center  width=\"2000px\"/>\n",
    "</center></figure>\n",
    "\n",
    "<center>\n",
    "<img align=\"left\" src=\"https://quantumspain-project.es/wp-content/uploads/2024/02/Banner-QS_GOB_v2.png\" width=\"1000px\" />\n",
    "</center>"
   ]
  }
 ],
 "metadata": {
  "kernelspec": {
   "display_name": "Python 3 (ipykernel)",
   "language": "python",
   "name": "python3"
  },
  "language_info": {
   "codemirror_mode": {
    "name": "ipython",
    "version": 3
   },
   "file_extension": ".py",
   "mimetype": "text/x-python",
   "name": "python",
   "nbconvert_exporter": "python",
   "pygments_lexer": "ipython3",
   "version": "3.11.7"
  },
  "toc": {
   "base_numbering": 1,
   "nav_menu": {},
   "number_sections": false,
   "sideBar": true,
   "skip_h1_title": true,
   "title_cell": "Table of Contents",
   "title_sidebar": "Contents",
   "toc_cell": false,
   "toc_position": {},
   "toc_section_display": true,
   "toc_window_display": false
  }
 },
 "nbformat": 4,
 "nbformat_minor": 5
}
