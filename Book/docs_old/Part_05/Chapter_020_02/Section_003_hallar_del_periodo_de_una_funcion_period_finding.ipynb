{
 "cells": [
  {
   "cell_type": "markdown",
   "id": "8ddaeb38",
   "metadata": {},
   "source": [
    "<a href=\"https://www.scbi.uma.es/\" target=\"_blank\">\n",
    "<img src=\"Figuras/Fig_logo_UMA_scbi.png\" align=center width=\"2000px\">\n",
    "</a>\n",
    "\n",
    "\n",
    "\n",
    "<a href=\"https://www.scbi.uma.es/web/es/computacion-cuantica/\">\n",
    "    <button class=\"rounded\" style=\"float: right;\">\n",
    "    <svg xmlns=\"http://www.w3.org/2000/svg\" width=\"32\" height=\"32\" viewBox=\"0 0 24 24\">\n",
    "        <path fill=\"var(--fill, white)\"\n",
    "        d=\"M18.1 15.3c-.1.1-.3.2-.4.3l-2.4.4l1.7 3.6c.2.4 0 .8-.4\n",
    "            1l-2.8 1.3c-.1.1-.2.1-.3.1c-.3 0-.6-.2-.7-.4L11.2\n",
    "            18l-1.9 1.5c-.1.1-.3.2-.5.2c-.4 0-.8-.3-.8-.8V7.5c0-.5.3-.8.8-.8c.2 0\n",
    "            .4.1.5.2l8.7 7.4c.3.2.4.7.1 1M6 12H4V4h16v8h-1.6l2.2 1.9c.8-.3 1.3-1\n",
    "            1.3-1.9V4c0-1.1-.9-2-2-2H4c-1.1 0-2 .9-2 2v8c0 1.1.9 2 2 2h2z\" />\n",
    "    </svg>\n",
    "    Volver a SCBI - Computación Cuantica\n",
    "    </button>\n",
    "</a>\n",
    "\n",
    "$ \\newcommand{\\bra}[1]{\\langle #1|} $\n",
    "$ \\newcommand{\\ket}[1]{|#1\\rangle} $\n",
    "$ \\newcommand{\\branew}[1]{\\langle #1|} $\n",
    "$ \\newcommand{\\ketnew}[1]{\\langle #1|} $\n",
    "$ \\newcommand{\\braket}[2]{\\langle #1|#2\\rangle} $\n",
    "$ \\newcommand{\\ketbra}[2]{| #1\\rangle \\langle #2 |} $\n",
    "$ \\newcommand{\\i}{{\\color{blue} i}} $ \n",
    "$ \\newcommand{\\Hil}{{\\cal H}} $\n",
    "$ \\newcommand{\\cg}[1]{{\\rm C}#1} $\n",
    "$ \\newcommand{\\lp}{\\left(} $\n",
    "$ \\newcommand{\\rp}{\\right)} $\n",
    "$ \\newcommand{\\lc}{\\left[} $\n",
    "$ \\newcommand{\\rc}{\\right]} $\n",
    "$ \\newcommand{\\lch}{\\left\\{} $\n",
    "$ \\newcommand{\\rch}{\\right\\}} $\n",
    "$ \\newcommand{\\Lp}{\\Bigl(} $\n",
    "$ \\newcommand{\\Rp}{\\Bigr)} $\n",
    "$ \\newcommand{\\Lc}{\\Bigl[} $\n",
    "$ \\newcommand{\\Rc}{\\Bigr]} $\n",
    "$ \\newcommand{\\Lch}{\\Bigl\\{} $\n",
    "$ \\newcommand{\\Rch}{\\Bigr\\}} $\n",
    "$ \\newcommand{\\rqa}{\\quad \\Rightarrow \\quad} $\n",
    "$ \\newcommand{\\bm}{\\boldsymbol}$"
   ]
  },
  {
   "cell_type": "markdown",
   "id": "080fe82e",
   "metadata": {},
   "source": [
    "# Hallar del periodo de una función (Period Finding)\n"
   ]
  },
  {
   "cell_type": "markdown",
   "id": "080fe82e",
   "metadata": {},
   "source": [
    "Como hemos comentado, el paso 4 (el de la búsqueda de periodo) descrito en la sección  {numref}`%s <sec_algoritmo_factorizacion>` se puede implementar en un ordenador cuántico. Para ello lo que se hace es reducir el problema a un problema de <b>QPE (Estimación de Fase Cuántica)</b> vista en el capítulo  {numref}`%s <sec_chapter_QPE>`.\n"
   ]
  },
  {
   "cell_type": "markdown",
   "id": "080fe82e",
   "metadata": {},
   "source": [
    "## La función\n"
   ]
  },
  {
   "cell_type": "markdown",
   "id": "080fe82e",
   "metadata": {},
   "source": [
    "Como comentamos en la introducción, lo que queremos es hallar el periodo de la función\n",
    "\\begin{equation}\n",
    "f(x) = a^x \\text{mod } N\n",
    "\\end{equation}\n",
    "donde $a$ y $N$ son enteros positivos mayores que 1, siendo además $a < N$ y no teniendo factores comunes. La operación ($z$ mod$N$) a lo que se refiere es a quedarnos con el <b>resto</b> de dividir el número que $z$ por $N$. A este tipo de funciones se las denomina <b>exponenciales moduladas</b>.\n"
   ]
  },
  {
   "cell_type": "markdown",
   "id": "080fe82e",
   "metadata": {},
   "source": [
    "Denominaremos $r$ al valor del periodo de la función $f(x)$, es decir, $r$ es el mínimo valor entero para que se cumple:\n",
    "\\begin{equation}\n",
    "f(x+r) = f(x)\n",
    "\\end{equation}\n",
    "En la Fig.  {numref}`%s <Fig_Ejemplo-Funcion-Periodica>` vemos un ejemplo de este tipo de funciones con $a = 3$ y $N=35$. Vemos que para este caso el periodo es $r = 12$.\n"
   ]
  },
  {
   "cell_type": "markdown",
   "id": "080fe82e",
   "metadata": {},
   "source": [
    "<figure><center>\n",
    "<img src=\"Figuras/Fig-Ejemplo-Funcion-Periodica.png\" alt=\"\" align=center width='700px'/>\n",
    "<a id='Fig_Ejemplo-Funcion-Periodica'></a>\n",
    "<center>Gráfica de los primeros valores de la función periódica $f(x) = a^x \\text{ mod} N$ con $a=3$ y $N=15$. Véase que las lineas puntuadas que unen las cruces son solo por estética.</center>\n",
    "</center></figure>\n\n"
   ]
  },
  {
   "cell_type": "markdown",
   "id": "080fe82e",
   "metadata": {},
   "source": [
    "## Solución: Estimación de fase de un operador U\n"
   ]
  },
  {
   "cell_type": "markdown",
   "id": "080fe82e",
   "metadata": {},
   "source": [
    "El algoritmo de Shor se basa en implementar el algoritmo de estimación de fases al operador unitario\n",
    "\\begin{equation}\n",
    "U |y \\rangle \\equiv | ay \\, \\text{mod} N \\rangle\n",
    "\\end{equation}\n",
    "Al aplicar sucesivas veces el operador $U$ sobre el estado $|1 \\rangle$ vamos obteniendo los valores de $f(x)$ con $x \\in \\mathbb{N}$, esto es,\n",
    "\\begin{equation}\n",
    "U^x |1 \\rangle = | f(x) \\rangle\n",
    "\\end{equation}\n",
    "Por ejemplo, para el caso que vimos en la gráfica anterior ($a=3$ y $N=35$) tenemos\n",
    "\\begin{align*}\n",
    "U^0 |1\\rangle & = |1\\rangle \\\\\n",
    "U |1\\rangle & = |3\\rangle \\\\\n",
    "U^2 |1\\rangle & = |9\\rangle \\\\\n",
    "\\vdots \\\\\n",
    "U^{r-1} |1\\rangle & = |12\\rangle \\\\\n",
    "U^r |1\\rangle & = |1\\rangle\n",
    "\\end{align*}\n"
   ]
  },
  {
   "cell_type": "markdown",
   "id": "080fe82e",
   "metadata": {},
   "source": [
    "(Recordemos que dado un estado de $n$ qubits $\\left| x \\right\\rangle$ tenemos que $\\left| x \\right\\rangle = \\left| x_1 x_2 \\dots x_n \\right\\rangle$ donde $x_1$ es el bit más significativo.)\n"
   ]
  },
  {
   "cell_type": "markdown",
   "id": "080fe82e",
   "metadata": {},
   "source": [
    "Como podemos ver, aplicar una vez más el operador $U$ significa pasar de un número al siguiente de la lista periódica. Veámoslo explícitamente:\n",
    "\\begin{align*}\n",
    "U(U^0 |1\\rangle) & = U(|1\\rangle) = |3\\rangle \\\\\n",
    "U(U |1\\rangle) & = U(|3\\rangle) = |9\\rangle \\\\\n",
    "U(U^2 |1\\rangle) & = U(|9\\rangle) = |27\\rangle\\\\\n",
    "\\vdots \\\\\n",
    "U(U^{r-1} |1\\rangle) & = U(|12\\rangle) =|1\\rangle \\\\\n",
    "U(U^r |1\\rangle) & = U(|1\\rangle) = |3\\rangle\n",
    "\\end{align*}\n"
   ]
  },
  {
   "cell_type": "markdown",
   "id": "080fe82e",
   "metadata": {},
   "source": [
    "Con esto se entiende fácilmente que la superposición equiprobable de todos los estados es un autoestado del operador $U$ con autovalor 1:\n",
    "\\begin{equation}\n",
    "| u_0 \\rangle = \\frac{1}{\\sqrt{r}} \\sum^{r-1}_{k=0} |a^k \\, \\text{mod} N \\rangle, \\qquad \\text{donde} \\quad U|u_0 \\rangle = |u_0\\rangle\n",
    "\\end{equation}\n"
   ]
  },
  {
   "cell_type": "markdown",
   "id": "080fe82e",
   "metadata": {},
   "source": [
    "<div class=\"alert alert-block alert-success\">\n",
    "<p style=\"color: DarkGreen;\">\n",
    "<b>Ejemplo</b>:\n",
    "<br>\n",
    "Ejemplo: caso con $a=3$ y $N=35$\n",
    "\\begin{align*}\n",
    "U |u_0 \\rangle & = U \\left[ \\frac{1}{\\sqrt{12}} \\left( |1 \\rangle + |3\\rangle + |9 \\rangle + \\dots |4 \\rangle + |12 \\rangle \\right) \\right] = \\\\\n",
    "& = \\frac{1}{\\sqrt{12}} \\left( U|1 \\rangle + U|3\\rangle + U|9 \\rangle + \\dots U|4 \\rangle + U|12 \\rangle \\right) = \\\\\n",
    "& =\\frac{1}{\\sqrt{12}} \\left( |3 \\rangle + |9\\rangle + |27 \\rangle + \\dots |12 \\rangle + |1 \\rangle \\right) = \\\\\n",
    "& =  |u_0 \\rangle\n",
    "\\end{align*}\n",
    "<br>\n",
    "</p></div>\n"
   ]
  },
  {
   "cell_type": "markdown",
   "id": "080fe82e",
   "metadata": {},
   "source": [
    "Un autoestado de autovalor 1 no nos es muy interesante a la hora de aplicar el algoritmo de estimación fase. Otro conjunto de autoestados mucho más interesantes son aquellos de la forma:\n",
    "\\begin{equation}\n",
    "| u_s \\rangle = \\frac{1}{\\sqrt{r}} \\sum^{r-1}_{k=0} e^{- \\boldsymbol{2 \\pi i}k \\frac{s}{r}} |a^k \\, \\text{mod} N \\rangle, \\qquad \\text{donde} \\quad U|u_s \\rangle = e^{\\boldsymbol{2 \\pi i} \\frac{s}{r}}|u_s\\rangle\n",
    "\\end{equation}\n",
    "donde $0 \\leq s \\leq r-1$. Si ahora aplicamos el algoritmo de estimación de fase cuántica a uno de estos autoestados $|u_s \\rangle$, lo que obtendremos en el registro de conteo es $|2^n s/r \\rangle$. De aquí podemos extraer el valor de $r$. Sin embargo, para preparar el estado $|u_s \\rangle$ tenemos que conocer $r$, es decir, lo que queremos calcular.\n"
   ]
  },
  {
   "cell_type": "markdown",
   "id": "080fe82e",
   "metadata": {},
   "source": [
    "Un solución elegante y fácil de implementar es darnos cuenta de que la suma de todos estos estados $|u_s \\rangle$ nos da el estado $|1\\rangle$, esto es,\n",
    "\\begin{equation} \\label{ec_Shor_suma_igual_1}\n",
    "\\frac{1}{r} \\sum_{s=0}^{r-1} |u_s \\rangle = \\frac{1}{r} \\left(|u_0 \\rangle + |u_1 \\rangle + \\dots +|u_{r-1} \\rangle \\right)  = | 1 \\rangle\n",
    "\\end{equation}\n"
   ]
  },
  {
   "cell_type": "markdown",
   "id": "080fe82e",
   "metadata": {},
   "source": [
    "<div class=\"alert alert-block alert-success\">\n",
    "<p style=\"color: DarkGreen;\">\n",
    "<b>Ejercicio</b>:\n",
    "Comprueba la veracidad de la ecuación  {eq}`%s <ec_Shor_suma_igual_1>` para el caso $a=7$ y $N=15$.\n",
    "</p></div>\n",
    "\n\n"
   ]
  },
  {
   "cell_type": "markdown",
   "id": "080fe82e",
   "metadata": {},
   "source": [
    "Si ahora aplicamos el algoritmo de estimación de fase cuántico (QPS) al estado $\\ket{1}$ (un estado fácilmente implementable) obtenemos una superposición equiprobable de estados de la forma $|2^n s/r \\rangle$, es decir:\n",
    "\\begin{equation}\n",
    "|0 \\rangle|1 \\rangle \\xrightarrow{QPS} \\frac{1}{\\sqrt{r}} \\left( \\left|2^t \\frac{1}{r} \\right\\rangle + \\left|2^t \\frac{2}{r} \\right\\rangle + \\dots + \\left|2^t \\frac{r-1}{r} \\right\\rangle \\right) |1 \\rangle\n",
    "\\end{equation}\n",
    "donde $t$ es el número de qubits del registro de conteo.\n",
    "Usando el algoritmo de las fracciones continuas [[25]](../../Bibliografia.ipynb#bib_Continued_fraction) podemos calcular $r$ a partir de los cocientes $s/r$. En Fig.  {numref}`%s <Fig_QPE-qiskit>` podemos ver el circuito (en el orden de Qiskit para los qubits) que implementa la estimación de fase cuántica\n"
   ]
  },
  {
   "cell_type": "markdown",
   "id": "080fe82e",
   "metadata": {},
   "source": [
    "<figure><center>\n",
    "<img src=\"Figuras/Fig-3_QPE-Shor.png\" alt=\"\" align=center width='1000px'/>\n",
    "<a id='Fig_QPE-qiskit'></a>\n",
    "<center>Implementación del algoritmo de estimación de fase cuántica (en el convenio de Qiskit).</center>\n",
    "</center></figure>\n\n"
   ]
  },
  {
   "cell_type": "markdown",
   "id": "080fe82e",
   "metadata": {},
   "source": [
    "<div class=\"alert alert-block alert-danger\">\n",
    "<p style=\"color: DarkRed;\">\n",
    "<b>Nota</b>:\n",
    "<br>\n",
    "Denominamos $\\bm n$ <b>al número de qubits que necesitamos para codificar el número</b> $\\bm N$ (que queremos factorizar) en un registro cuántico. Para aplicar el algoritmo de Shor se suelen usar $\\bm{t=2n}$ <b>qubits en el registro de conteo</b>.\n",
    "</p></div>\n"
   ]
  },
  {
   "cell_type": "markdown",
   "id": "8534e04c",
   "metadata": {},
   "source": [
    "<figure><center>\n",
    "<img   src=\"https://quantumspain-project.es/wp-content/uploads/2022/11/Logo_QS_EspanaDigital.png\" align=center  width=\"2000px\"/>\n",
    "</center></figure>\n",
    "\n",
    "<center>\n",
    "<img align=\"left\" src=\"https://quantumspain-project.es/wp-content/uploads/2024/02/Banner-QS_GOB_v2.png\" width=\"1000px\" />\n",
    "</center>"
   ]
  }
 ],
 "metadata": {
  "kernelspec": {
   "display_name": "Python 3 (ipykernel)",
   "language": "python",
   "name": "python3"
  },
  "language_info": {
   "codemirror_mode": {
    "name": "ipython",
    "version": 3
   },
   "file_extension": ".py",
   "mimetype": "text/x-python",
   "name": "python",
   "nbconvert_exporter": "python",
   "pygments_lexer": "ipython3",
   "version": "3.11.7"
  },
  "toc": {
   "base_numbering": 1,
   "nav_menu": {},
   "number_sections": false,
   "sideBar": true,
   "skip_h1_title": true,
   "title_cell": "Table of Contents",
   "title_sidebar": "Contents",
   "toc_cell": false,
   "toc_position": {},
   "toc_section_display": true,
   "toc_window_display": false
  }
 },
 "nbformat": 4,
 "nbformat_minor": 5
}
