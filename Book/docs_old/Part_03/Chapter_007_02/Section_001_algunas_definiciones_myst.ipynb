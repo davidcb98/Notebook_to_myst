{
 "cells": [
  {
   "cell_type": "markdown",
   "id": "8ddaeb38",
   "metadata": {},
   "source": [
    "> {sub-ref}`today` | {sub-ref}`wordcount-minutes` min read\n",
    "\n",
    "::::{figure} Figuras/Fig_logo_UMA_scbi.png\n",
    ":width: 2000px\n",
    ":align: center\n",
    "::::\n",
    "\n",
    "$ \\newcommand{\\bra}[1]{\\langle #1|} $\n",
    "$ \\newcommand{\\ket}[1]{|#1\\rangle} $\n",
    "$ \\newcommand{\\branew}[1]{\\langle #1|} $\n",
    "$ \\newcommand{\\ketnew}[1]{\\langle #1|} $\n",
    "$ \\newcommand{\\braket}[2]{\\langle #1|#2\\rangle} $\n",
    "$ \\newcommand{\\ketbra}[2]{| #1\\rangle \\langle #2 |} $\n",
    "$ \\newcommand{\\i}{{\\color{blue} i}} $ \n",
    "$ \\newcommand{\\Hil}{{\\cal H}} $\n",
    "$ \\newcommand{\\cg}[1]{{\\rm C}#1} $\n",
    "$ \\newcommand{\\lp}{\\left(} $\n",
    "$ \\newcommand{\\rp}{\\right)} $\n",
    "$ \\newcommand{\\lc}{\\left[} $\n",
    "$ \\newcommand{\\rc}{\\right]} $\n",
    "$ \\newcommand{\\lch}{\\left\\{} $\n",
    "$ \\newcommand{\\rch}{\\right\\}} $\n",
    "$ \\newcommand{\\Lp}{\\Bigl(} $\n",
    "$ \\newcommand{\\Rp}{\\Bigr)} $\n",
    "$ \\newcommand{\\Lc}{\\Bigl[} $\n",
    "$ \\newcommand{\\Rc}{\\Bigr]} $\n",
    "$ \\newcommand{\\Lch}{\\Bigl\\{} $\n",
    "$ \\newcommand{\\Rch}{\\Bigr\\}} $\n",
    "$ \\newcommand{\\rqa}{\\quad \\Rightarrow \\quad} $\n",
    "$ \\newcommand{\\bm}{\\boldsymbol}$"
   ]
  },
  {
   "cell_type": "markdown",
   "id": "080fe82e",
   "metadata": {},
   "source": [
    "# Algunas definiciones\n"
   ]
  },
  {
   "cell_type": "markdown",
   "id": "080fe82e",
   "metadata": {},
   "source": [
    "## Estados multi-qubit.\n"
   ]
  },
  {
   "cell_type": "markdown",
   "id": "080fe82e",
   "metadata": {},
   "source": [
    "Sea $\\{ \\ket{i}\\}_{i=0,1}$ la base computacional del espacio de Hilbert de un qúbit $\\mathcal{H} = {\\mathbb C}^2$\n"
   ]
  },
  {
   "cell_type": "markdown",
   "id": "080fe82e",
   "metadata": {},
   "source": [
    "::::::{card} \n",
    "<b>Definicion</b>:  \n",
    "\n",
    "^^^\n",
    "La <b>base computacional de</b> $ \\mathcal{H}^{\\otimes n}$ está formada por todas las cadenas de elementos posibles\n",
    "\\begin{equation}\n",
    "\\boxed{\\ket{i_{n-1}}\\otimes \\ket{i_{n-2}}\\otimes ... \\otimes \\ket{i_0} ~\\equiv ~\\ket{i_{n-1} i_{n-2}...i_0}}~\n",
    "\\end{equation}\n",
    "donde $~ i_{n-1},\\dots,i_0=0,1$ y donde $\\otimes$ representa el <b>producto tensorial</b> de espacio de Hilbert.\n",
    "::::::\n",
    "\n\n"
   ]
  },
  {
   "cell_type": "markdown",
   "id": "080fe82e",
   "metadata": {},
   "source": [
    "La <b>dimensión</b>  dim($\\mathcal{H}^{\\otimes n}$) = $2^n$ coincide con el número de combinaciones distintas posibles: $2\\times 2...\\times 2 = 2^n$.\n"
   ]
  },
  {
   "cell_type": "markdown",
   "id": "080fe82e",
   "metadata": {},
   "source": [
    "::::::{admonition} Nota (Producto de Krönecker) \n",
    ":class: note\n",
    "\n",
    "\n",
    "\n",
    "Cuando tenemos que un espacio de Hilbert es un <b>producto tensorial</b> de espacios Hilbert, para construir los\n",
    "elementos de la base y los operadores tenemos que usar el <b>producto de Krönecker</b>.\n",
    "\n",
    "Sean $A$ y $B$ dos operadores definidos respectivamente sobre $\\mathcal{H}_1$ y $\\mathcal{H}_2$. El operador\n",
    "$C=A \\otimes B$ actua sobre $\\mathcal{H} = \\mathcal{H}_1 \\otimes \\mathcal{H}_2$ de la forma siguiente\n",
    "```{math}\n",
    ":label: ec_multiqubit_C=AxB_1 \n",
    "\\begin{equation} \n",
    "C \\ket{v} = A \\otimes B \\equiv \\ket{Av_1} \\otimes \\ket{Bv_2} = \\ket{\\omega_1} \\otimes \\ket{\\omega_2} \\equiv \\ket{\\omega}\n",
    "\\end{equation} \n",
    "```\n",
    "y linealmente sobre sumas de vectores de $V$.\n",
    "\n",
    "Para el caso en que $A$ y $B$ son de dimension $2\\times 2$, el producto de Kronecker se puede escribir como\n",
    "\\begin{equation}\n",
    "A \\otimes B = \\lp \\begin{matrix}\n",
    "a_{11} B & a_{12} B \\\\\n",
    "a_{21} B & a_{22} B\n",
    "\\end{matrix} \\rp =\n",
    "\\lp \\begin{matrix}\n",
    "a_{11} b_{11} & a_{11} b_{12} & a_{12} b_{11} & a_{12}b_{12} \\\\\n",
    "a_{11} b_{21} & a_{11} b_{22} & a_{12} b_{21} & a_{12}b_{22} \\\\\n",
    "a_{21} b_{11} & a_{21} b_{12} & a_{22} b_{11} & a_{22}b_{12} \\\\\n",
    "a_{21} b_{21} & a_{21} b_{22} & a_{22} b_{21} & a_{22}b_{22}\n",
    "\\end{matrix} \\rp\n",
    "\\end{equation}\n",
    "Para el caso de dos matrices columna (como son los vectores de la base):\n",
    "\\begin{equation}\n",
    "\\begin{bmatrix} a_1 \\\\ a_2 \\end{bmatrix} \\otimes \\begin{bmatrix} b_1 \\\\ b_2 \\end{bmatrix} =\n",
    "\\begin{bmatrix} a_1 b_1 \\\\ a_1 b_2 \\\\ a_2 b_1 \\\\ a_2 b_2\\end{bmatrix}\n",
    "\\end{equation}\n",
    "Puede verse más información en, por ejemplo, \[[18]](../../Bibliografia.ipynb#bib_wiki_kronecker).\n",
    "::::::\n"
   ]
  },
  {
   "cell_type": "markdown",
   "id": "080fe82e",
   "metadata": {},
   "source": [
    "El multi-ínidice $i_{n-1}i_{n-2}....i_0$ interpretarse como un número entero escrito en base <b>binaria</b>\n",
    "```{math}\n",
    ":label: ec_multiqubit_notacion_binaria \n",
    "\\begin{equation} \n",
    "\\boxed{i_n i_{n-1}...i_1 ~~\\longleftrightarrow ~~~p = \\sum_{k=1}^n 2^{k-1} i_k}\n",
    "\\end{equation} \n",
    "```\n",
    "que tomará  $2^n$ valores $p = 0,1,...,2^{n}-1$. El cambio de notación\n",
    "\\begin{equation}\n",
    "<i>multi-índice</i> ~ \\leftrightarrow ~ <i>entero en notación decimal</i>\n",
    "\\end{equation}\n",
    "será frecuente y se aplicará a cualquier elemento. Por ejemplo $\\ket{000} = \\ket{0}, \\ket{111} = \\ket{7}$ etc.\n"
   ]
  },
  {
   "cell_type": "markdown",
   "id": "080fe82e",
   "metadata": {},
   "source": [
    "::::::{admonition} Ejemplo 2-qúbits\n",
    ":class: tip\n",
    "\n",
    "\n",
    "\n",
    "Por ejemplo, para un sistema de 2-qúbits,   $n=2$ y tendríamos $2^n=2^2 = 4$ y entonces\n",
    "\\begin{equation}\n",
    "\\ket{00}~=~ \\ket{0}\\otimes \\ket{0}~=~\n",
    "\\begin{bmatrix}1\\\\ 0\\end{bmatrix}\\begin{bmatrix}1\\\\ 0\\end{bmatrix} = \\begin{bmatrix}1\\\\0\\\\0 \\\\ 0\\end{bmatrix}\n",
    "~~~~~~,~~~~~\n",
    "\\ket{01}~=~ \\ket{0}\\otimes \\ket{1}~=~\n",
    "\\begin{bmatrix}1\\\\ 0\\end{bmatrix}\\begin{bmatrix}0\\\\ 1\\end{bmatrix} = \\begin{bmatrix}0\\\\1\\\\0 \\\\ 0\\end{bmatrix}\n",
    "\\end{equation}\n",
    "\\begin{equation}\n",
    "\\ket{10}~=~ \\ket{1}\\otimes \\ket{0}~=~\n",
    "\\begin{bmatrix}0\\\\ 1\\end{bmatrix}\\begin{bmatrix}1\\\\ 0\\end{bmatrix} = \\begin{bmatrix}0\\\\0\\\\1 \\\\ 0\\end{bmatrix}\n",
    "~~~~~,~~~~\n",
    "\\ket{11}~=~ \\ket{1}\\otimes \\ket{1}~=~\n",
    "\\begin{bmatrix}0\\\\ 1\\end{bmatrix}\\begin{bmatrix}0\\\\ 1\\end{bmatrix} = \\begin{bmatrix}0\\\\0\\\\0 \\\\ 1\\end{bmatrix}\n",
    "\\end{equation}\n",
    "Las etiquetas de los vectores y, por tanto, de las componentes de las matrices, bi-índices $ij=11,12,21,22$\n",
    "que adopta el mismo número, $N^2$, de cofiguraciones distintas.\n",
    "::::::\n"
   ]
  },
  {
   "cell_type": "markdown",
   "id": "080fe82e",
   "metadata": {},
   "source": [
    "El vector de estado más general  $\\ket{u}\\in \\mathcal{H}^{\\otimes n}$ será una combinación lineal de elementos de la base computacional $\\ket{i_n i_{n-1}...i_1}$ en términos de unas componentes $u_{i_ni_{n-1}...i_1}$\n",
    "```{math}\n",
    ":label: ec_multiqubit_u_general \n",
    "\\begin{equation} \n",
    "\\boxed{\\ket{u} = \\sum_{i_0,i_1,..,i_{n-1}=0,1} u_{i_{n-1}ni_{n-2}...i_0} \\ket{i_{n-1} i_{n-2}...i_0}  = \\sum_{k=0}^{2^n-1} u_k \\ket{k}},\n",
    "\\end{equation} \n",
    "```\n",
    "donde hemos usado alternativamente la notación binaria y la decimal.\n"
   ]
  },
  {
   "cell_type": "markdown",
   "id": "080fe82e",
   "metadata": {},
   "source": [
    "::::::{admonition} Ejemplo\n",
    ":class: tip\n",
    "\n",
    "\n",
    "\n",
    "Para $n=2$ tendremos, en notación binaria\n",
    "\n",
    "\\begin{equation*}\n",
    "\\begin{array}{ccc}\n",
    "\\ket{u} ~&=& ~ \\sum_{i,j=0,1} u_{ij} \\ket{ij}~=~ u_{00}\\ket{00}+ u_{01}\\ket{01} + u_{10}\\ket{10} +u_{11}\\ket{11}\n",
    "\\\\ \\\\\n",
    "~&=&~ u_{00}\\begin{bmatrix}1\\\\0\\\\0 \\\\ 0\\end{bmatrix}+ u_{01}  \\begin{bmatrix}0\\\\1\\\\0 \\\\ 0\\end{bmatrix} + u_{10}\n",
    "\\begin{bmatrix}0\\\\0\\\\1\\\\0\\end{bmatrix}+u_{11}  \\begin{bmatrix}0\\\\0\\\\0\\\\1\\end{bmatrix}   ~ =\n",
    "\\begin{bmatrix}u_{00}\\\\ u_{01}\\\\ u_{10} \\\\ u_{11}  \\end{bmatrix}\n",
    "\\end{array}\n",
    "\\end{equation*}\n",
    "\n",
    "y en notación decimal, para el mismo vector\n",
    "\\begin{equation*}\n",
    "\\begin{array}{ccc}\n",
    "\\ket{u} ~&=& ~ \\sum_{k=0}^{2^2-1=3} u_{k} \\ket{k}~=~ u_{0}\\ket{0}+ u_{1}\\ket{1} + u_{2}\\ket{2} +u_{3}\\ket{3}\n",
    "\\\\ \\\\\n",
    "~&=&~ u_{0}\\begin{bmatrix}1\\\\0\\\\0 \\\\ 0\\end{bmatrix}+ u_{1}  \\begin{bmatrix}0\\\\1\\\\0 \\\\ 0\\end{bmatrix} + u_{2}\n",
    "\\begin{bmatrix}0\\\\0\\\\1\\\\0\\end{bmatrix}+u_{3}  \\begin{bmatrix}0\\\\0\\\\0\\\\1\\end{bmatrix}   ~ =\n",
    "\\begin{bmatrix}u_{0}\\\\ u_{1}\\\\ u_{2} \\\\ u_{3}  \\end{bmatrix}\n",
    "\\end{array}\n",
    "\\end{equation*}\n",
    "\n",
    "No debería haber confusión entre ambas notaciones puesto que, en cuanto aparezca un número superior a 1 quiere decir que\n",
    "estamos tratando con la base decimal.\n",
    "::::::\n"
   ]
  },
  {
   "cell_type": "markdown",
   "id": "080fe82e",
   "metadata": {},
   "source": [
    "::::::{admonition} Ejercicio\n",
    ":class: tip\n",
    "\n",
    "\n",
    "Escribe el vector $\\ket{u} = (1+i)\\ket{101} -2\\ket{010} + 3\\ket{111}$ normalizado\n",
    "::::::\n",
    "\n\n"
   ]
  },
  {
   "cell_type": "markdown",
   "id": "8534e04c",
   "metadata": {},
   "source": [
    "::::{figure} https://quantumspain-project.es/wp-content/uploads/2022/11/Logo_QS_EspanaDigital.png\n",
    ":width: 2000px\n",
    ":align: center\n",
    "::::\n",
    "\n",
    "<center>\n",
    "<img align=\"left\" src=\"https://quantumspain-project.es/wp-content/uploads/2024/02/Banner-QS_GOB_v2.png\" width=\"1000px\" />\n",
    "</center>"
   ]
  }
 ],
 "metadata": {
  "kernelspec": {
   "display_name": "Python 3 (ipykernel)",
   "language": "python",
   "name": "python3"
  },
  "language_info": {
   "codemirror_mode": {
    "name": "ipython",
    "version": 3
   },
   "file_extension": ".py",
   "mimetype": "text/x-python",
   "name": "python",
   "nbconvert_exporter": "python",
   "pygments_lexer": "ipython3",
   "version": "3.11.7"
  },
  "toc": {
   "base_numbering": 1,
   "nav_menu": {},
   "number_sections": false,
   "sideBar": true,
   "skip_h1_title": true,
   "title_cell": "Table of Contents",
   "title_sidebar": "Contents",
   "toc_cell": false,
   "toc_position": {},
   "toc_section_display": true,
   "toc_window_display": false
  }
 },
 "nbformat": 4,
 "nbformat_minor": 5
}
