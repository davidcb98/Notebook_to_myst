{
 "cells": [
  {
   "cell_type": "markdown",
   "id": "8ddaeb38",
   "metadata": {},
   "source": [
    "> {sub-ref}`today` | {sub-ref}`wordcount-minutes` min read\n",
    "\n",
    "<a href=\"https://www.scbi.uma.es/\" target=\"_blank\">\n",
    "<img src=\"Figuras/Fig_logo_UMA_scbi.png\" align=center width=\"2000px\">\n",
    "</a>\n",
    "\n",
    "\n",
    "\n",
    "<a href=\"https://www.scbi.uma.es/web/es/computacion-cuantica/\">\n",
    "    <button class=\"rounded\" style=\"float: right;\">\n",
    "    <svg xmlns=\"http://www.w3.org/2000/svg\" width=\"32\" height=\"32\" viewBox=\"0 0 24 24\">\n",
    "        <path fill=\"var(--fill, white)\"\n",
    "        d=\"M18.1 15.3c-.1.1-.3.2-.4.3l-2.4.4l1.7 3.6c.2.4 0 .8-.4\n",
    "            1l-2.8 1.3c-.1.1-.2.1-.3.1c-.3 0-.6-.2-.7-.4L11.2\n",
    "            18l-1.9 1.5c-.1.1-.3.2-.5.2c-.4 0-.8-.3-.8-.8V7.5c0-.5.3-.8.8-.8c.2 0\n",
    "            .4.1.5.2l8.7 7.4c.3.2.4.7.1 1M6 12H4V4h16v8h-1.6l2.2 1.9c.8-.3 1.3-1\n",
    "            1.3-1.9V4c0-1.1-.9-2-2-2H4c-1.1 0-2 .9-2 2v8c0 1.1.9 2 2 2h2z\" />\n",
    "    </svg>\n",
    "    Volver a SCBI - Computación Cuantica\n",
    "    </button>\n",
    "</a>\n",
    "\n",
    "$ \\newcommand{\\bra}[1]{\\langle #1|} $\n",
    "$ \\newcommand{\\ket}[1]{|#1\\rangle} $\n",
    "$ \\newcommand{\\branew}[1]{\\langle #1|} $\n",
    "$ \\newcommand{\\ketnew}[1]{\\langle #1|} $\n",
    "$ \\newcommand{\\braket}[2]{\\langle #1|#2\\rangle} $\n",
    "$ \\newcommand{\\ketbra}[2]{| #1\\rangle \\langle #2 |} $\n",
    "$ \\newcommand{\\i}{{\\color{blue} i}} $ \n",
    "$ \\newcommand{\\Hil}{{\\cal H}} $\n",
    "$ \\newcommand{\\cg}[1]{{\\rm C}#1} $\n",
    "$ \\newcommand{\\lp}{\\left(} $\n",
    "$ \\newcommand{\\rp}{\\right)} $\n",
    "$ \\newcommand{\\lc}{\\left[} $\n",
    "$ \\newcommand{\\rc}{\\right]} $\n",
    "$ \\newcommand{\\lch}{\\left\\{} $\n",
    "$ \\newcommand{\\rch}{\\right\\}} $\n",
    "$ \\newcommand{\\Lp}{\\Bigl(} $\n",
    "$ \\newcommand{\\Rp}{\\Bigr)} $\n",
    "$ \\newcommand{\\Lc}{\\Bigl[} $\n",
    "$ \\newcommand{\\Rc}{\\Bigr]} $\n",
    "$ \\newcommand{\\Lch}{\\Bigl\\{} $\n",
    "$ \\newcommand{\\Rch}{\\Bigr\\}} $\n",
    "$ \\newcommand{\\rqa}{\\quad \\Rightarrow \\quad} $\n",
    "$ \\newcommand{\\bm}{\\boldsymbol}$"
   ]
  },
  {
   "cell_type": "markdown",
   "id": "080fe82e",
   "metadata": {},
   "source": [
    "# Puertas simples\n"
   ]
  },
  {
   "cell_type": "markdown",
   "id": "080fe82e",
   "metadata": {},
   "source": [
    "La computación clásica se basa en la descomposición de algoritmos complejos en una serie de puertas lógicas elementales. Veremos que lo mismo ocurre con la computación cuántica.\n"
   ]
  },
  {
   "cell_type": "markdown",
   "id": "080fe82e",
   "metadata": {},
   "source": [
    "Por puertas simples entendemos un conjunto de <b>operadores unitarios</b> que se utilizan con frecuencia en la computación cuántica. Vamos a ver las puertas simples sobre 1 qubit.\n"
   ]
  },
  {
   "cell_type": "markdown",
   "id": "080fe82e",
   "metadata": {},
   "source": [
    "## Dos formas de escribir las matrices 2x2.\n"
   ]
  },
  {
   "cell_type": "markdown",
   "id": "080fe82e",
   "metadata": {},
   "source": [
    "Primero hagamos un breve alto en el camino para vez una segunda forma de escribir las matrices $2\\times2$ en computación cuántica. Dada una matriz genérica $A$ podemos escribirla como\n",
    "\\begin{equation}\n",
    "A = \\lp \\begin{matrix}\n",
    "a_{11} & a_{12} \\\\\n",
    "a_{21} & a_{22}\n",
    "\\end{matrix} \\rp =\n",
    "a_{11} \\ketbra{0}{0} + a_{12} \\ketbra{0}{1} +  a_{21} \\ketbra{1}{0} +  a_{22} \\ketbra{1}{1}\n",
    "\\end{equation}\n",
    "Esta segunda forma es cómoda para hacer operaciones.\n"
   ]
  },
  {
   "cell_type": "markdown",
   "id": "080fe82e",
   "metadata": {},
   "source": [
    "::::::{admonition} Nota (producto de interno de estado de la base) \n",
    ":class: note\n",
    "\n",
    "\n",
    "\n",
    "Como los elemtos de la base son ortonormales cumplen:\n",
    "\\begin{equation}\n",
    "\\braket{0}{0} = \\braket{1}{1} = 1, ~~~~~~~~ \\braket{0}{1}=\\braket{1}{0}=0.\n",
    "\\end{equation}\n",
    "Ahora podemos ver como antúa una matriz genérica $A$ sobre un elemento de la base, por ejemplo, $\\ket{0}$\n",
    "\\begin{align*}\n",
    "A \\ket{0} & = a_{11} \\ket{0}\\braket{0}{0} + a_{12} \\ket{0} \\cancel{\\braket{1}{0}} +\n",
    "a_{21} \\ket{1}\\braket{0}{0} +  a_{22} \\ket{1} \\cancel{\\braket{1}{0}} \\\\\n",
    "& = a_{11} \\ket{0}\\braket{0}{0} + a_{21} \\ket{1}\\braket{0}{0} = a_{11} \\ket{0} + a_{21}\\ket{1} =\n",
    "\\begin{bmatrix} a_{11} \\\\ a_{21} \\end{bmatrix}\n",
    "\\end{align*}\n",
    "\n",
    "::::::\n"
   ]
  },
  {
   "cell_type": "markdown",
   "id": "080fe82e",
   "metadata": {},
   "source": [
    "## Puertas de fase\n",
    "### $P_\\alpha$ con $\\alpha \\in [ 0, 2\\pi ) $.\n"
   ]
  },
  {
   "cell_type": "markdown",
   "id": "080fe82e",
   "metadata": {},
   "source": [
    "Se trata de una rotación entorno al eje $Z$ y se escribe de la forma\n",
    "\\begin{equation}\n",
    "\\boxed{P(\\alpha)= \\lp \\begin{matrix}\n",
    "1 & 0 \\\\ 0 & e^{i\\alpha}\n",
    "\\end{matrix} \\rp =  \\ketbra{0}{0} + e^{i\\alpha}\\ketbra{1}{1}}\n",
    "\\end{equation}\n",
    "Aplicando sobre un estado genérico tenemos\n",
    "\\begin{equation*}\n",
    "P(\\alpha) \\ket{u} =\n",
    "\\lp \\begin{matrix} 1 & 0 \\\\ 0 & e^{i\\alpha} \\end{matrix} \\rp\n",
    "\\begin{bmatrix} \\cos\\theta/2 \\\\ e^{i\\phi}  \\sin\\theta/2 \\end{bmatrix} =\n",
    "\\begin{bmatrix} \\cos\\theta/2 \\\\ e^{i(\\phi+\\alpha)}  \\sin\\theta/2 \\end{bmatrix} =\n",
    "\\ket{v}\n",
    "\\end{equation*}\n"
   ]
  },
  {
   "cell_type": "markdown",
   "id": "080fe82e",
   "metadata": {},
   "source": [
    "Ya vimos en la Ec.  {eq}`%s <ec_puertas_simples_Rz_Ry_Rx>` una puerta para rotar entorno al eje $z$. Podemos ver que a efectos prácticos la puerta $P_\\alpha$ es lo mismo que la puerta $R_z(\\alpha)$, pues se diferencian solo en una fase global\n",
    "\\begin{equation*}\n",
    "P_\\alpha \\equiv e^{i \\alpha/2} R_z (\\alpha)\n",
    "\\end{equation*}\n"
   ]
  },
  {
   "cell_type": "markdown",
   "id": "080fe82e",
   "metadata": {},
   "source": [
    "### $K_\\alpha$\n"
   ]
  },
  {
   "cell_type": "markdown",
   "id": "080fe82e",
   "metadata": {},
   "source": [
    "Esta puerta es trivial pero a veces se usa en algunas demostraciones. Se trata simplemente de una puerta de fase global\n",
    "\\begin{equation}\n",
    "K(\\alpha)= e^{i\\alpha} \\lp \\begin{matrix} 1 & 0 \\\\ 0 & 1 \\end{matrix} \\rp =\n",
    "e^{i\\alpha} \\lp  \\ketbra{0}{0} + \\ketbra{1}{1} \\right) = e^{i\\alpha} I\n",
    "\\end{equation}\n"
   ]
  },
  {
   "cell_type": "markdown",
   "id": "080fe82e",
   "metadata": {},
   "source": [
    "## Puertas discretas\n"
   ]
  },
  {
   "cell_type": "markdown",
   "id": "080fe82e",
   "metadata": {},
   "source": [
    "### $X$, $Y$, $Z$\n"
   ]
  },
  {
   "cell_type": "markdown",
   "id": "080fe82e",
   "metadata": {},
   "source": [
    "Tres puertas muy usadas en computación cuántica con las siguientes\n",
    "```{math}\n",
    ":label: ec_puertas_simples_X_Y_Z \n",
    "\\begin{equation} \n",
    "\\begin{split}\n",
    "&\\boxed{X = \\lp  \\begin{matrix}0&1\\\\1&0\\end{matrix} \\rp = \\sigma_x = \\ketbra{1}{0} + \\ketbra{0}{1}}~, ~~~   \\\\ \\rule{0mm}{7mm}\n",
    "&\\boxed{Y = \\lp \\begin{matrix}0&-i\\\\i&0\\end{matrix} \\rp = \\sigma_y  =  i \\ketbra{1}{0} - i \\ketbra{0}{1}}~, ~~~ \\\\ \\rule{0mm}{7mm}\n",
    "&\\boxed{Z = \\lp  \\begin{matrix}1&0\\\\0&-1\\end{matrix} \\rp = \\sigma_z = \\ketbra{0}{0} - \\ketbra{1}{1}}  ~, ~~~\n",
    "\\end{split}\n",
    "\\end{equation} \n",
    "```\n",
    "donde hemos remarcado la igualdad con las <i>matrices de Pauli</i> (ver sección  {numref}`%s <sec_qubit_matrices_Pauli>`).\n"
   ]
  },
  {
   "cell_type": "markdown",
   "id": "080fe82e",
   "metadata": {},
   "source": [
    "::::::{admonition} Ejercicio\n",
    ":class: tip\n",
    "\n",
    "\n",
    "Relacionar  $X,Y,Z$ con   $R_x(\\alpha),R_y(\\alpha)$ y $R_z(\\alpha)$ par algún valor de $\\alpha$.\n",
    "::::::\n",
    "\n\n"
   ]
  },
  {
   "cell_type": "markdown",
   "id": "080fe82e",
   "metadata": {},
   "source": [
    "::::::{admonition} Nota\n",
    ":class: note\n",
    "\n",
    "\n",
    "\n",
    "Como las puertas $X$, $Y$ y $Z$ son las matrices de Pauli, estas son hermíticas ($A = A^\\dagger$) y\n",
    "además cumplen que son iguales a su inversa (ver Ec.  {eq}`%s <ec_qubit_pauli_sigma^2>`).\n",
    "Esto implica que aplicar dos veces seguidas una de estas puertas es lo mismo que aplicar la identidad.\n",
    "Además, los autovalores de las matrices de Pauli son $\\pm 1$ (ver Ec.  {eq}`%s <ec_qubit_sigma_tr>`).\n",
    "::::::\n"
   ]
  },
  {
   "cell_type": "markdown",
   "id": "080fe82e",
   "metadata": {},
   "source": [
    "### $S$, $T$\n"
   ]
  },
  {
   "cell_type": "markdown",
   "id": "080fe82e",
   "metadata": {},
   "source": [
    "Cualquier potencia $U^k$ de un operador unitario es otro operador unitario. Esto es fácil de demostrar cuando $k=2$ pero es cierto en el caso general $k\\in{\\mathbb R}$. Así obtenemos\n"
   ]
  },
  {
   "cell_type": "markdown",
   "id": "080fe82e",
   "metadata": {},
   "source": [
    "\\begin{equation}\n",
    "\\boxed{S = Z^{1/2} =  \\lp\\begin{matrix}1&0\\\\0&i\\end{matrix}\\rp = \\lp\\begin{matrix}1&0\\\\0&e^{i\\pi/2}\\end{matrix} \\rp}\n",
    "~~~~~,~~~~~~\n",
    "\\boxed{T = S^{1/2} = \\lp \\begin{matrix} 1&0 \\\\ 0 & e^{i\\pi/4} \\end{matrix} \\rp} \\, .\n",
    "\\end{equation}\n"
   ]
  },
  {
   "cell_type": "markdown",
   "id": "080fe82e",
   "metadata": {},
   "source": [
    "### $H$\n"
   ]
  },
  {
   "cell_type": "markdown",
   "id": "080fe82e",
   "metadata": {},
   "source": [
    "La puerta de Hadamard, $H$, es la primera puerta <b>genuinamente cuántica</b> en el sentido de que lleva un estado de la base a una superposición coherente\n"
   ]
  },
  {
   "cell_type": "markdown",
   "id": "080fe82e",
   "metadata": {},
   "source": [
    "\\begin{equation}\n",
    "H \\ket{0} = \\frac{1}{\\sqrt{2}}\\left(\\rule{0mm}{4mm}\\ket{0} + \\ket{1}\\right) =\\ket{+}\n",
    "~~~~~~~~,~~~~~~~~~~\n",
    "H \\ket{1} = \\frac{1}{\\sqrt{2}}\\left(\\rule{0mm}{4mm}\\ket{0} - \\ket{1}\\right) =\\ket{-}\n",
    "\\end{equation}\n"
   ]
  },
  {
   "cell_type": "markdown",
   "id": "080fe82e",
   "metadata": {},
   "source": [
    "Podemos escribir este operador en la base $H = H_{ij}\\ketbra{i}{j}$\n",
    "\\begin{align*}\n",
    "H &=  \\ket{+}\\bra{0} +  \\ket{-}\\bra{1} \\\\\n",
    "&= \\frac{1}{\\sqrt{2}}(\\ketbra{0}{0} + \\ketbra{1}{0} + \\ketbra{0}{1} - \\ketbra{1}{1})\n",
    "\\end{align*}\n",
    "de  lo que obtenemos la representación matricial\n",
    "```{math}\n",
    ":label: ec_puertas_simples_H \n",
    "\\begin{equation} \n",
    "\\boxed{H   =  \\frac{1}{\\sqrt{2}} \\lp \\begin{matrix} 1 & 1 \\\\ 1 & -1 \\end{matrix} \\rp}\n",
    "\\end{equation} \n",
    "```\n"
   ]
  },
  {
   "cell_type": "markdown",
   "id": "080fe82e",
   "metadata": {},
   "source": [
    "::::::{admonition} Nota (otra expresión para la Hadamard) \n",
    ":class: note\n",
    "\n",
    "\n",
    "\n",
    "En cálculos posteriores encontraremos muy útil la siguiente representación de la acción de $H$\n",
    "```{math}\n",
    ":label: ec_puertas_simples_H_sobre_1_qubit \n",
    "\\begin{equation} \n",
    "\\boxed{H \\ket{x} =\\frac{1}{\\sqrt{2}} \\sum_{y=0,1} (-1)^{ x  y} \\ket{y}}\n",
    "\\end{equation} \n",
    "```\n",
    "::::::\n"
   ]
  },
  {
   "cell_type": "markdown",
   "id": "080fe82e",
   "metadata": {},
   "source": [
    "Como cualquier puerta, la acción de $H$ puede visualizarse como una rotación en la esfera de Bloch. En este caso una es una rotación de $\\pi$ radianes en torno a un eje diagonal situado a 45$^\\circ$ entre el eje $x$ y el eje $z$. Esta rotación permuta los ejes $x$ y $z$ y cambia de sentido el eje $y$.\n"
   ]
  },
  {
   "cell_type": "markdown",
   "id": "080fe82e",
   "metadata": {},
   "source": [
    "\\begin{equation}\n",
    "\\hat{\\bf n} = \\frac{1}{\\sqrt{2}}(1,0,1) \\rqa\n",
    "R_{\\hat{\\bf n}}(\\pi) ~ = ~ -i\\frac{1}{\\sqrt{2}} \\lp \\begin{matrix} 1  & 1 \\\\ 1 & -1  \\end{matrix} \\rp =-i H \\sim H\n",
    "\\end{equation}\n"
   ]
  },
  {
   "cell_type": "markdown",
   "id": "080fe82e",
   "metadata": {},
   "source": [
    "::::::{admonition} Nota (La puerta de Hadammar es hermítica) \n",
    ":class: note\n",
    "\n",
    "\n",
    "\n",
    "Puede verse fácilmente que la puerta de Hadamard es hermítica e igual a su inversa. Es decir, aplicar\n",
    "dos veces seguidas la puerta de Hadamard es como aplicar la identidad.\n",
    "::::::\n"
   ]
  },
  {
   "cell_type": "markdown",
   "id": "080fe82e",
   "metadata": {},
   "source": [
    "## Descomposición\n"
   ]
  },
  {
   "cell_type": "markdown",
   "id": "080fe82e",
   "metadata": {},
   "source": [
    "Una noción muy importante en computación cuántica es la descomposición de una puerta en producto de otras más simples.\n"
   ]
  },
  {
   "cell_type": "markdown",
   "id": "080fe82e",
   "metadata": {},
   "source": [
    "Para el caso de $H$, un poco de visión espacial muestra que su acción equivale a la composición de\n",
    "\n",
    " \n- una  rotación de $\\pi/2$ radianes sobre el eje $y$\n",
    " \n- seguida de una rotación de  $\\pi$ radianes en torno al eje $x$.\n",
    "\n",
    "Lo demostramos algebraicamente (despreciando fases globales)\n",
    "\\begin{align*}\n",
    "R_x(\\pi)R_{y}\\left(\\frac{\\pi}{2}\\right) & =\n",
    "\\lp \\begin{matrix}0&-i\\\\-i&0\\end{matrix}  \\rp\n",
    "\\lp \\begin{matrix}\\cos\\pi/4& -\\sin\\pi/4 \\\\ \\sin\\pi/4 & \\cos\\pi/4 \\end{matrix} \\rp = \\\\\n",
    "& = \\frac{1}{\\sqrt{2}} \\lp \\begin{matrix} 0&1 \\\\ 1&0 \\end{matrix} \\rp\n",
    "\\lp \\begin{matrix}1 & -1 \\\\ 1 & 1 \\end{matrix} \\rp  =\n",
    "\\frac{-i}{\\sqrt{2}} \\begin{bmatrix}1&1\\\\1&-1\\end{bmatrix} =-i H \\sim H\n",
    "\\end{align*}\n"
   ]
  },
  {
   "cell_type": "markdown",
   "id": "080fe82e",
   "metadata": {},
   "source": [
    "::::::{admonition} Ejercicio\n",
    ":class: tip\n",
    "\n",
    "\n",
    "Encontrar los ángulos $\\theta,\\phi,\\varphi$ que hay que verifican las siguientes idendidades\n",
    "\\begin{equation}\n",
    "U(\\theta,\\phi,\\varphi) = H ~~~~,~~~~  U(\\theta,\\phi,\\varphi) = SH\n",
    "\\end{equation}\n",
    "::::::\n",
    "\n\n"
   ]
  },
  {
   "cell_type": "markdown",
   "id": "8534e04c",
   "metadata": {},
   "source": [
    "::::{figure} https://quantumspain-project.es/wp-content/uploads/2022/11/Logo_QS_EspanaDigital.png\n",
    ":width: 2000px\n",
    ":align: center\n",
    "::::\n",
    "\n",
    "<center>\n",
    "<img align=\"left\" src=\"https://quantumspain-project.es/wp-content/uploads/2024/02/Banner-QS_GOB_v2.png\" width=\"1000px\" />\n",
    "</center>"
   ]
  }
 ],
 "metadata": {
  "kernelspec": {
   "display_name": "Python 3 (ipykernel)",
   "language": "python",
   "name": "python3"
  },
  "language_info": {
   "codemirror_mode": {
    "name": "ipython",
    "version": 3
   },
   "file_extension": ".py",
   "mimetype": "text/x-python",
   "name": "python",
   "nbconvert_exporter": "python",
   "pygments_lexer": "ipython3",
   "version": "3.11.7"
  },
  "toc": {
   "base_numbering": 1,
   "nav_menu": {},
   "number_sections": false,
   "sideBar": true,
   "skip_h1_title": true,
   "title_cell": "Table of Contents",
   "title_sidebar": "Contents",
   "toc_cell": false,
   "toc_position": {},
   "toc_section_display": true,
   "toc_window_display": false
  }
 },
 "nbformat": 4,
 "nbformat_minor": 5
}
