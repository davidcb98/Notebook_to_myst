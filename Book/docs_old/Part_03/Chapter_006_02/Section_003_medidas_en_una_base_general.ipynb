{
 "cells": [
  {
   "cell_type": "markdown",
   "id": "8ddaeb38",
   "metadata": {},
   "source": [
    "<figure><center>\n",
    "<img   src=\"Figuras/Fig_logo_UMA_scbi.png\" align=center  width=\"2000px\"/>\n",
    "</center></figure>\n",
    "\n",
    "$ \\newcommand{\\bra}[1]{\\langle #1|} $\n",
    "$ \\newcommand{\\ket}[1]{|#1\\rangle} $\n",
    "$ \\newcommand{\\branew}[1]{\\langle #1|} $\n",
    "$ \\newcommand{\\ketnew}[1]{\\langle #1|} $\n",
    "$ \\newcommand{\\braket}[2]{\\langle #1|#2\\rangle} $\n",
    "$ \\newcommand{\\ketbra}[2]{| #1\\rangle \\langle #2 |} $\n",
    "$ \\newcommand{\\i}{{\\color{blue} i}} $ \n",
    "$ \\newcommand{\\Hil}{{\\cal H}} $\n",
    "$ \\newcommand{\\cg}[1]{{\\rm C}#1} $\n",
    "$ \\newcommand{\\lp}{\\left(} $\n",
    "$ \\newcommand{\\rp}{\\right)} $\n",
    "$ \\newcommand{\\lc}{\\left[} $\n",
    "$ \\newcommand{\\rc}{\\right]} $\n",
    "$ \\newcommand{\\lch}{\\left\\{} $\n",
    "$ \\newcommand{\\rch}{\\right\\}} $\n",
    "$ \\newcommand{\\Lp}{\\Bigl(} $\n",
    "$ \\newcommand{\\Rp}{\\Bigr)} $\n",
    "$ \\newcommand{\\Lc}{\\Bigl[} $\n",
    "$ \\newcommand{\\Rc}{\\Bigr]} $\n",
    "$ \\newcommand{\\Lch}{\\Bigl\\{} $\n",
    "$ \\newcommand{\\Rch}{\\Bigr\\}} $\n",
    "$ \\newcommand{\\rqa}{\\quad \\Rightarrow \\quad} $\n",
    "$ \\newcommand{\\bm}{\\boldsymbol}$"
   ]
  },
  {
   "cell_type": "markdown",
   "id": "080fe82e",
   "metadata": {},
   "source": [
    "# Medidas en una base general\n",
    "## Bases X, Y, Z <a id='sec_subsub_medidad1_bases_xyz'></a>\n"
   ]
  },
  {
   "cell_type": "markdown",
   "id": "080fe82e",
   "metadata": {},
   "source": [
    "A parte de la base computacional $\\{\\ket{0},\\ket{1} \\}$, es muy necesario y frecuente el uso de otras bases ortonormales como  $\\{\\ket{+},\\ket{-} \\}$ o  $\\{\\ket{+i},\\ket{-i} \\}$. Todas ellas diagonalizan algún operador de Pauli y, por  tanto, puede servir para construir aparatos de medida que discriminen entre sus estados\n",
    "\\begin{align}\n",
    "Z \\ket{0} &=+ \\ket{0}   , & Z \\ket{1} &=-\\ket{1} \\\\\n",
    "X \\ket{+} &=+ \\ket{+}    ,& X \\ket{-} &=-\\ket{-} \\\\\n",
    "Y \\ket{+i} &=+ \\ket{+i}  ,& Y \\ket{-i} &=-\\ket{-i}.\n",
    "\\end{align}\n",
    "En la práctica, solo solemos contar con un aparato de medida en la base computacional de autoestados de $\\sigma_z$. La pregunta ahora es cómo podríamos utilizar  dicho aparato para efectuar medidas en las bases de autoestados de $\\sigma_x$ y $\\sigma_y$.\n"
   ]
  },
  {
   "cell_type": "markdown",
   "id": "080fe82e",
   "metadata": {},
   "source": [
    "Por ejemplo desearíamos definir un aparato de medida que \"leyese\" los valores $0$ y $1$ para los autoestados $\\ket{\\pm}$ del opeador $\\sigma_x =  X$ (ver Fig. \\ref{Fig_medidas1_meter_xbasis2}).\n",
    "<figure><center>\n",
    "<br>\n",
    "<img src=\"Figuras/Fig_medidas1_meter_xbasis2\" alt=\"\" align=center width='300px'/>\n",
    "<center>Medidor en la base $X$.</center>\n",
    "<a id='Fig_medidas1_meter_xbasis2'></a>\n",
    "</center></figure>\n\n",
    "Análogamente, queremos los mismo para los autoestados $\\ket{\\pm i}$ de $\\sigma_y = Y$. La clave está en un cambio de base (en rotar la base en la que queremos medir a la base $\\lch \\ket{0}, \\ket{1} \\rch$).\n",
    "\\begin{align}\n",
    "\\ket{+}  &= H\\ket{0}  ,&  \\ket{-}  &= H\\ket{1}    \\\\\n",
    "\\ket{+i}  &= SH \\ket{0}    ,&  \\ket{-i}  &= SH\\ket{1}   .\n",
    "\\end{align}\n",
    "Estas expresiones son facilmente invertibles para deshacer el cambio de base:\n",
    "\\begin{align}\n",
    "H \\ket{+}  &= \\ket{0}                ,&  H\\ket{-}  & = \\ket{1}   \\label{ec_medidas1_de_X_a_Z} \\\\\n",
    "H S^\\dagger \\ket{+i}  &=  \\ket{0}    ,&  H S^\\dagger  \\ket{-i}  & = \\ket{1}   . \\label{ec_medidas1_de_Y_a_Z}\n",
    "\\end{align}\n",
    "Es decir, la idea es llevar a cabo una operación que nos lleve los elementos de la base en la que queremos medir (los elementos $\\{\\ket{+},\\ket{-} \\}$ o  $\\{\\ket{+i},\\ket{-i} \\}$) a los elementos de la base computacional $\\{\\ket{0},\\ket{1} \\}$. Esto es precisamente lo que conseguimos con los operadores $H$ y $H S^\\dagger$ en las Ecs. (\\ref{ec_medidas1_de_X_a_Z}) y (\\ref{ec_medidas1_de_Y_a_Z}).\n",
    "De las relaciones anteriores se deduce que\n",
    "\\begin{align}\n",
    "X & = H Z H   \\label{ec_medidas1_cambio_X-Z} \\\\\n",
    "Y & = S  H  Z   H S^\\dagger \\label{ec_medidas1_cambio_Y-Z}\n",
    "\\end{align}\n"
   ]
  },
  {
   "cell_type": "markdown",
   "id": "080fe82e",
   "metadata": {},
   "source": [
    "<div class=\"alert alert-block alert-danger\">\n",
    "<p style=\"color: DarkRed;\">\n",
    "<b>Nota</b>:\n",
    "<br>\n",
    "Verifiquemos por ejemplo\n",
    "\\begin{equation}\n",
    "Y \\ket{-i} = (SHZHS^\\dagger )(SH\\ket{0}) = SH Z\\ket{1} =  SH(-\\ket{1})= - SH\\ket{1} = -\\ket{-i}\n",
    "\\end{equation}\n",
    "</p></div>\n"
   ]
  },
  {
   "cell_type": "markdown",
   "id": "080fe82e",
   "metadata": {},
   "source": [
    "<div class=\"alert alert-block alert-success\">\n",
    "<p style=\"color: DarkGreen;\">\n",
    "<b>Ejercicio</b>:\n",
    "Comprueba estos cambios de base (las Ecs. (\\ref{ec_medidas1_de_X_a_Z}), (\\ref{ec_medidas1_de_Y_a_Z}), (\\ref{ec_medidas1_cambio_X-Z}) y (\\ref{ec_medidas1_cambio_Y-Z})).\n",
    "</p></div>\n",
    "\n\n"
   ]
  },
  {
   "cell_type": "markdown",
   "id": "080fe82e",
   "metadata": {},
   "source": [
    "Estas relaciones nos permite definir el aparato de medida efectivo en las direcciones $x$ e $y$. Podemos verlos en la Fig. \\ref{Fig_medidas1_meter_XYbasis}.\n"
   ]
  },
  {
   "cell_type": "markdown",
   "id": "080fe82e",
   "metadata": {},
   "source": [
    "<figure><center>\n",
    "<br>\n",
    "<img src=\"Figuras/Fig_medidas1_meter_XYbasis\" alt=\"\" align=center width='800px'/>\n",
    "<center>Equivalencias de los medidores en las bases $X$ e $Y$ con el medidor en $Z$. Cuando la medida es destructiva (la inmensa mayoría de las veces), no hace falta añadir los operadores después del aparato de medida.</center>\n",
    "<a id='Fig_medidas1_meter_XYbasis'></a>\n",
    "</center></figure>\n\n"
   ]
  },
  {
   "cell_type": "markdown",
   "id": "080fe82e",
   "metadata": {},
   "source": [
    "## Base arbitraria\n"
   ]
  },
  {
   "cell_type": "markdown",
   "id": "080fe82e",
   "metadata": {},
   "source": [
    "Vamos a generalizar el análisis anterior. Para ello podemos usar la matriz de rotación en la parametrización de Euler de la Ec. (\\ref{ec_puertas_simples_rotacion_U}), que nos lleva la base base  $\\lch \\ket{0}, \\ket{1} \\rch_{\\hat{\\bm n}}$ asociado a un vector\n"
   ]
  },
  {
   "cell_type": "markdown",
   "id": "080fe82e",
   "metadata": {},
   "source": [
    "\\begin{equation}\n",
    "\\hat{\\bm n} (\\theta, \\phi) = \\sin \\theta \\cos \\phi \\hat{\\bm x} + \\sin \\theta  \\sin \\phi \\hat{\\bm y} + \\cos \\theta \\hat{\\bm z}\n",
    "\\end{equation}\n"
   ]
  },
  {
   "cell_type": "markdown",
   "id": "080fe82e",
   "metadata": {},
   "source": [
    "<figure><center>\n",
    "<br>\n",
    "<img src=\"Figuras/Fig_medidas1_BlochSphere_basis\" alt=\"\" align=center width='300px'/>\n",
    "<center>Base computacional y base $\\hat{\\bm n}$ en la esfera de Bloch</center>\n",
    "<a id='Fig_medidas1_BlochSphere_basis'></a>\n",
    "</center></figure>\n\n"
   ]
  },
  {
   "cell_type": "markdown",
   "id": "080fe82e",
   "metadata": {},
   "source": [
    "Es decir, tenemos el cambio de base\n",
    "\\begin{equation}\n",
    "\\ket{a}_{\\hat{\\bm n}} = U \\lp \\theta, \\phi, 0 \\rp \\ket{a}_{\\hat{\\bm z}}, ~~~~ \\text{con } a= 0,1\n",
    "\\end{equation}\n",
    "que verifica la ecuación de autovalores\n",
    "\\begin{equation}\n",
    "\\sigma_z \\ket{a}_{\\hat{\\bm z}} = (-1)^a \\rqa (\\hat{\\bm n} \\cdot \\bm \\sigma ) \\ket{a}_{\\hat{\\bm n}} = (-1)^a \\ket{a}_{\\hat{\\bm n}}\n",
    "\\end{equation}\n",
    "Por esta razón, podemos etiquetar este operado como\n",
    "\\begin{equation}\n",
    "U(\\theta,\\phi,0) ~ \\equiv ~ U(z\\to \\hat{\\bf n})\n",
    "\\end{equation}\n",
    "para ver claramente que lo que hace es llevarnos de la base $Z$ a una base definida por $\\hat{n}$.\n"
   ]
  },
  {
   "cell_type": "markdown",
   "id": "080fe82e",
   "metadata": {},
   "source": [
    "El circuito de la Fig. \\ref{Fig_medidas2_nbasis_measure2}  simula un aparato de medición en la base $\\{\\ket{a}_{\\hat{\\bf n}}\\}_{a=0,1}$. Podemos ver que lo que se aplica antes del medidor en $Z$ no es $U(z\\to \\hat{\\bf n})$ sino su inversa, $U(z\\to \\hat{\\bf n})^\\dagger$. Esto es porque lo que tenemos que hacer es llevar la base $\\hat{\\bm n}$ a la base $Z$.\n"
   ]
  },
  {
   "cell_type": "markdown",
   "id": "080fe82e",
   "metadata": {},
   "source": [
    "<figure><center>\n",
    "<br>\n",
    "<img src=\"Figuras/Fig_medidas2_nbasis_measure2\" alt=\"\" align=center width='700px'/>\n",
    "<center>Medida en un eje arbitrario $\\hat{ \\bm n}$.</center>\n",
    "<a id='Fig_medidas2_nbasis_measure2'></a>\n",
    "</center></figure>\n\n"
   ]
  },
  {
   "cell_type": "markdown",
   "id": "080fe82e",
   "metadata": {},
   "source": [
    "<div class=\"alert alert-block alert-danger\">\n",
    "<p style=\"color: DarkRed;\">\n",
    "<b>Nota</b>:\n",
    "<br>\n",
    "Puede verse fácilmente que el caso genérico que acabamos de ver incluye, como es lógico\n",
    "los dos casos anterior:\n",
    "\\begin{eqnarray}\n",
    "U(\\pi/2,0,\\pi)=H : \\ket{a}_{\\hat{\\bf z}} \\to \\ket{a}_{\\hat{\\bf x}} \\\\ \\rule{0mm}{8mm}\n",
    "U(\\pi/2,\\pi/2,\\pi)= SH  : \\ket{a}_{\\hat{\\bf z}} \\to \\ket{a}_{\\hat{\\bf y}}\n",
    "\\end{eqnarray}\n",
    "</p></div>\n"
   ]
  },
  {
   "cell_type": "markdown",
   "id": "8534e04c",
   "metadata": {},
   "source": [
    "<figure><center>\n",
    "<img   src=\"https://quantumspain-project.es/wp-content/uploads/2022/11/Logo_QS_EspanaDigital.png\" align=center  width=\"2000px\"/>\n",
    "</center></figure>\n",
    "\n",
    "<center>\n",
    "<img align=\"left\" src=\"https://quantumspain-project.es/wp-content/uploads/2024/02/Banner-QS_GOB_v2.png\" width=\"1000px\" />\n",
    "</center>"
   ]
  }
 ],
 "metadata": {
  "kernelspec": {
   "display_name": "Python 3 (ipykernel)",
   "language": "python",
   "name": "python3"
  },
  "language_info": {
   "codemirror_mode": {
    "name": "ipython",
    "version": 3
   },
   "file_extension": ".py",
   "mimetype": "text/x-python",
   "name": "python",
   "nbconvert_exporter": "python",
   "pygments_lexer": "ipython3",
   "version": "3.11.7"
  },
  "toc": {
   "base_numbering": 1,
   "nav_menu": {},
   "number_sections": false,
   "sideBar": true,
   "skip_h1_title": true,
   "title_cell": "Table of Contents",
   "title_sidebar": "Contents",
   "toc_cell": false,
   "toc_position": {},
   "toc_section_display": true,
   "toc_window_display": false
  }
 },
 "nbformat": 4,
 "nbformat_minor": 5
}
