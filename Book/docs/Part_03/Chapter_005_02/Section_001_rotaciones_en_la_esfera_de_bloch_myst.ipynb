{
 "cells": [
  {
   "cell_type": "markdown",
   "id": "8ddaeb38",
   "metadata": {},
   "source": [
    "> {sub-ref}`today` | {sub-ref}`wordcount-minutes` min read\n",
    "\n",
    "::::{figure} Figuras/Fig_logo_UMA_scbi.png\n",
    ":width: 2000px\n",
    ":align: center\n",
    "::::\n",
    "\n",
    "$ \\newcommand{\\bra}[1]{\\langle #1|} $\n",
    "$ \\newcommand{\\ket}[1]{|#1\\rangle} $\n",
    "$ \\newcommand{\\branew}[1]{\\langle #1|} $\n",
    "$ \\newcommand{\\ketnew}[1]{\\langle #1|} $\n",
    "$ \\newcommand{\\braket}[2]{\\langle #1|#2\\rangle} $\n",
    "$ \\newcommand{\\ketbra}[2]{| #1\\rangle \\langle #2 |} $\n",
    "$ \\newcommand{\\i}{{\\color{blue} i}} $ \n",
    "$ \\newcommand{\\Hil}{{\\cal H}} $\n",
    "$ \\newcommand{\\cg}[1]{{\\rm C}#1} $\n",
    "$ \\newcommand{\\lp}{\\left(} $\n",
    "$ \\newcommand{\\rp}{\\right)} $\n",
    "$ \\newcommand{\\lc}{\\left[} $\n",
    "$ \\newcommand{\\rc}{\\right]} $\n",
    "$ \\newcommand{\\lch}{\\left\\{} $\n",
    "$ \\newcommand{\\rch}{\\right\\}} $\n",
    "$ \\newcommand{\\Lp}{\\Bigl(} $\n",
    "$ \\newcommand{\\Rp}{\\Bigr)} $\n",
    "$ \\newcommand{\\Lc}{\\Bigl[} $\n",
    "$ \\newcommand{\\Rc}{\\Bigr]} $\n",
    "$ \\newcommand{\\Lch}{\\Bigl\\{} $\n",
    "$ \\newcommand{\\Rch}{\\Bigr\\}} $\n",
    "$ \\newcommand{\\rqa}{\\quad \\Rightarrow \\quad} $\n",
    "$ \\newcommand{\\bm}{\\boldsymbol}$"
   ]
  },
  {
   "cell_type": "markdown",
   "id": "080fe82e",
   "metadata": {},
   "source": [
    "# Rotaciones en la esfera de Bloch\n"
   ]
  },
  {
   "cell_type": "markdown",
   "id": "080fe82e",
   "metadata": {},
   "source": [
    "Como todos los estados de un qúbit se pueden representar en la esfera de Bloch, cualquier operación que hagamos sobre el qúbit se puede interpretar como una rotación en la esfera de Bloch.\n"
   ]
  },
  {
   "cell_type": "markdown",
   "id": "080fe82e",
   "metadata": {},
   "source": [
    "::::::{admonition} Nota (operadores unitarios) \n",
    ":class: note\n",
    "\n",
    "\n",
    "\n",
    "Esto esta relacionado con que todas las puertas (operadores) que se usan en computación cuántica son\n",
    "<b>operadores unitarios</b>, es decir, transformaciones que preservan la norma\n",
    "del vector de estados. Esto es lógico, pues las probabilidades tienen que seguir\n",
    "sumando el 100 \\%.\n",
    "::::::\n"
   ]
  },
  {
   "cell_type": "markdown",
   "id": "080fe82e",
   "metadata": {},
   "source": [
    "::::::{card} \n",
    "<b>Teorema</b>:  \n",
    "\n",
    "^^^\n",
    "El operador que efectúa una <b>rotación de ángulo</b>  $\\alpha\\in [0,2\\pi)$ en torno al\n",
    "<b>eje que marca un vector unitario</b> $\\hat{\\bf n}$ es el siguiente\n",
    "```{math}\n",
    ":label: ec_puertas_simples_Rn \n",
    "\\begin{equation} \n",
    "\\boxed{R_{\\hat{\\bf n}}(\\alpha)~ = ~\\exp\\left( -i\\frac{\\alpha}{2} \\hat{\\bf n}\\cdot\n",
    "\\boldsymbol{\\sigma} \\right) ~=~ \\cos \\frac{\\alpha}{2} I - i \\sin\\frac{\\alpha}{2}\n",
    "\\hat{\\bf n}\\cdot\\boldsymbol{\\sigma} }\n",
    "\\end{equation} \n",
    "```\n",
    "donde $\\boldsymbol{\\sigma} = (\\sigma_x, \\sigma_y, \\sigma_z)$ son las matrices de Pauli.\n",
    "::::::\n",
    "\n\n"
   ]
  },
  {
   "cell_type": "markdown",
   "id": "080fe82e",
   "metadata": {},
   "source": [
    "Como podemos ver en el teorema anterior, solo necesitamos un ángulo y un eje (un vector unitario) para definir una rotación en la esfera de Bloch. Podemos ver una imagen de esto en la Fig. \\ref{Fig_puertas_simples_BlochSphere_rot.png}.\n"
   ]
  },
  {
   "cell_type": "markdown",
   "id": "080fe82e",
   "metadata": {},
   "source": [
    "::::::{admonition} Nota (Sentido de rotación) \n",
    ":class: note\n",
    "\n",
    "\n",
    "\n",
    "El sentido de la rotación que produce $R_{\\hat{\\bf n}}(\\alpha)$ en torno al eje\n",
    "$\\hat{\\bf n}$, viene dado por la <b>regla de la mano derecha</b> o, también,\n",
    "<b>anti-horario</b>.\n",
    "::::::\n"
   ]
  },
  {
   "cell_type": "markdown",
   "id": "080fe82e",
   "metadata": {},
   "source": [
    "::::{figure} Figuras/Fig_puertas_simples_BlochSphere_rot.png\n",
    ":width: 300px\n",
    ":align: center\n",
    ":name: Fig_puertas_simples_BlochSphere_rot.png\n",
    "Una rotación en la esfera de Bloch representada por un eje de rotación y el ángulo que se rota entorno al mismo. Figura tomada de {cite}`bib_Curso-JMas`\n",
    "::::\n"
   ]
  },
  {
   "cell_type": "markdown",
   "id": "080fe82e",
   "metadata": {},
   "source": [
    "En la Ec. (\\ref{ec_puertas_simples_Rn}) el término $\\hat{\\bf n}\\cdot \\boldsymbol{\\sigma}$ se refiere a la multiplicación de un vector por un vector de matrices. Esto es, multiplicar cada matriz por un elemento del vector y sumar las 3 matrices resultantes. Es decir, en la Ec. (\\ref{ec_puertas_simples_Rn}) tenemos la suma de 4 matrices 2x2. La matriz resultante es\n"
   ]
  },
  {
   "cell_type": "markdown",
   "id": "080fe82e",
   "metadata": {},
   "source": [
    "```{math}\n",
    ":label: ec_puertas_simples_Rn_matrix \n",
    "\\begin{equation} \n",
    "R_{\\hat{\\bf n}}(\\alpha)~  ~=~ \\large{\\lp \\begin{matrix}\n",
    "\\cos \\frac{\\alpha}{2} - i n_z\\sin\\frac{\\alpha}{2}\n",
    "& (-in_x- n_y)\\sin\\frac{\\alpha}{2} \\\\\n",
    "(-in_x + n_y) \\sin\\frac{\\alpha}{2}\n",
    "&  \\cos \\frac{\\alpha}{2} + i n_z\\sin\\frac{\\alpha}{2}\n",
    "\\end{matrix} \\rp}\n",
    "\\end{equation} \n",
    "```\n"
   ]
  },
  {
   "cell_type": "markdown",
   "id": "080fe82e",
   "metadata": {},
   "source": [
    "::::::{admonition} Ejercicio\n",
    ":class: tip\n",
    "\n",
    "\n",
    "Calcular la matriz (\\ref{ec_puertas_simples_Rn_matrix}) a partir de (\\ref{ec_puertas_simples_Rn})\n",
    "::::::\n",
    "\n\n"
   ]
  },
  {
   "cell_type": "markdown",
   "id": "080fe82e",
   "metadata": {},
   "source": [
    "## Rotaciones en X, Y, Z\n"
   ]
  },
  {
   "cell_type": "markdown",
   "id": "080fe82e",
   "metadata": {},
   "source": [
    "Veamos los casos particulares de las rotaciones entorno a los ejes $x$, $y$ y $z$.\n",
    "\\begin{align}\n",
    "\\bm \\hat{n} = (0,0,1) \\rqa R_z(\\alpha) & =\n",
    "\\lp \\begin{matrix}\n",
    "e^{-i \\alpha/2} & 0                       \\\\\n",
    "0               & e^{i \\alpha/2}\n",
    "\\end{matrix} \\rp   \\label{ec_puertas_simples_Rz} \\\\\n",
    "\\bm \\hat{n} = (0,1,0) \\rqa R_y(\\alpha) & =\n",
    "\\lp \\begin{matrix}\n",
    "\\cos \\alpha/2     &  -\\sin \\alpha/2       \\\\\n",
    "\\sin \\alpha/2     &  \\cos \\alpha/2\n",
    "\\end{matrix} \\rp  \\label{ec_puertas_simples_Ry} \\\\\n",
    "\\bm \\hat{n} = (1,0,0) \\rqa R_x(\\alpha) & =\n",
    "\\lp \\begin{matrix}\n",
    "\\cos \\alpha/2       &   -i \\sin \\alpha     \\\\\n",
    "-i \\sin \\alpha/2    &   \\cos \\alpha/2\n",
    "\\end{matrix} \\rp \\label{ec_puertas_simples_Rx}\n",
    "\\end{align}\n"
   ]
  },
  {
   "cell_type": "markdown",
   "id": "080fe82e",
   "metadata": {},
   "source": [
    "\n",
    "(sec_subsub_puertas_euler)= \n",
    "## Parametrización de Euler \n"
   ]
  },
  {
   "cell_type": "markdown",
   "id": "080fe82e",
   "metadata": {},
   "source": [
    "Hay otra parametrización para las rotaciones mucho más común en física y es la <b>parametrización de Euler</b>. A diferencia de la anterior, esta no necesita definir ningún eje extra usando un vector, sino que simplemente consiste en tres rotaciones, con tres ángulos, entorno a dos ejes coordenados: primero entorno al eje $z$, después en torno al eje $y$ y finalmente entorno al eje $z$ otra vez. Es decir\n",
    "```{math}\n",
    ":label: ec_puertas_simples_rotacion_1 \n",
    "\\begin{equation} \n",
    "R_z(\\phi) R_y (\\theta) R_z(\\varphi) = e^{- \\frac{i}{2} (\\phi + \\varphi)} U (\\theta, \\phi, \\varphi),\n",
    "\\end{equation} \n",
    "```\n",
    "donde\n"
   ]
  },
  {
   "cell_type": "markdown",
   "id": "080fe82e",
   "metadata": {},
   "source": [
    "```{math}\n",
    ":label: ec_puertas_simples_rotacion_U \n",
    "\\begin{equation} \n",
    "\\boxed{U (\\theta, \\phi, \\varphi) = \\large{ \\lp \\begin{matrix}\n",
    "\\cos \\frac{\\theta}{2}                &  - e^{i\\varphi} \\sin \\frac{\\theta}{2} \\\\\n",
    "e^{i \\phi} \\sin \\frac{\\theta}{2}     &  e^{i (\\varphi + \\phi)} \\cos \\frac{\\theta}{2}\n",
    "\\end{matrix} \\rp}}\n",
    "\\end{equation} \n",
    "```\n"
   ]
  },
  {
   "cell_type": "markdown",
   "id": "080fe82e",
   "metadata": {},
   "source": [
    "y donde $\\theta$, $\\phi$ y $\\varphi$ se denominan <b>ángulos de Euler</b>. Véase que nuevamente podemos ignorar la fase global que nos sale en la Ec. (\\ref{ec_puertas_simples_rotacion_1}) y quedarnos solo con la matriz $U (\\theta, \\phi, \\varphi)$.\n"
   ]
  },
  {
   "cell_type": "markdown",
   "id": "080fe82e",
   "metadata": {},
   "source": [
    "::::::{admonition} Nota\n",
    ":class: note\n",
    "\n",
    "\n",
    "\n",
    "Podría usarse otro orden de ejes, como por ejemplo $xyx$ o $yzy$.\n",
    "::::::\n"
   ]
  },
  {
   "cell_type": "markdown",
   "id": "080fe82e",
   "metadata": {},
   "source": [
    "Podemos ver que la acción del operador (\\ref{ec_puertas_simples_rotacion_U}) sobre el estado $\\ket{0}$ nos da la expresión genérica del estado de un qúbit que vimos en la Ec. (\\ref{ec_qubit_caso_general}):\n",
    "\\begin{equation}\n",
    "U (\\theta, \\phi, \\varphi) \\ket{0} =\n",
    "U (\\theta, \\phi, \\varphi) \\begin{bmatrix} 1 \\\\ 0 \\end{bmatrix} =\n",
    "\\cos{\\frac{\\theta}{2}}\\, |0\\rangle + e^{i\\varphi}\\sin{\\frac{\\theta}{2}}\\,|1\\rangle\n",
    "\\end{equation}\n",
    "También podemos ver que la acción del operador de este operador sobre la base computacional $\\lch \\ket{0}, \\ket{1} \\rch$ nos la una base alineada con el eje $(\\theta, \\phi)$:\n",
    "\\begin{equation}\n",
    "U(\\theta,\\phi,\\varphi) \\ket{0} =\n",
    "\\large{\\begin{bmatrix} \\cos \\frac{\\theta}{2}  \\\\ e^{i\\phi} \\sin \\frac{\\theta}{2} \\end{bmatrix} }\n",
    "~~~~~~,~~~~~~~\n",
    "U(\\theta,\\phi,\\varphi) \\ket{1} =\n",
    "\\large{\\begin{bmatrix} -e^{i\\varphi}\\sin \\frac{\\theta}{2} \\\\ e^{i(\\varphi + \\phi)} \\cos \\frac{\\theta}{2} \\end{bmatrix} }\n",
    "\\end{equation}\n"
   ]
  },
  {
   "cell_type": "markdown",
   "id": "8534e04c",
   "metadata": {},
   "source": [
    "::::{figure} https://quantumspain-project.es/wp-content/uploads/2022/11/Logo_QS_EspanaDigital.png\n",
    ":width: 2000px\n",
    ":align: center\n",
    "::::\n",
    "\n",
    "<center>\n",
    "<img align=\"left\" src=\"https://quantumspain-project.es/wp-content/uploads/2024/02/Banner-QS_GOB_v2.png\" width=\"1000px\" />\n",
    "</center>"
   ]
  }
 ],
 "metadata": {
  "kernelspec": {
   "display_name": "Python 3 (ipykernel)",
   "language": "python",
   "name": "python3"
  },
  "language_info": {
   "codemirror_mode": {
    "name": "ipython",
    "version": 3
   },
   "file_extension": ".py",
   "mimetype": "text/x-python",
   "name": "python",
   "nbconvert_exporter": "python",
   "pygments_lexer": "ipython3",
   "version": "3.11.7"
  },
  "toc": {
   "base_numbering": 1,
   "nav_menu": {},
   "number_sections": false,
   "sideBar": true,
   "skip_h1_title": true,
   "title_cell": "Table of Contents",
   "title_sidebar": "Contents",
   "toc_cell": false,
   "toc_position": {},
   "toc_section_display": true,
   "toc_window_display": false
  }
 },
 "nbformat": 4,
 "nbformat_minor": 5
}
