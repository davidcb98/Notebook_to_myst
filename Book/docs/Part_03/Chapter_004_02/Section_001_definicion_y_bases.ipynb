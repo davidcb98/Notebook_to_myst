{
 "cells": [
  {
   "cell_type": "markdown",
   "id": "8ddaeb38",
   "metadata": {},
   "source": [
    "<figure><center>\n",
    "<img   src=\"Figuras/Fig_logo_UMA_scbi.png\" align=center  width=\"2000px\"/>\n",
    "</center></figure>\n",
    "\n",
    "$ \\newcommand{\\bra}[1]{\\langle #1|} $\n",
    "$ \\newcommand{\\ket}[1]{|#1\\rangle} $\n",
    "$ \\newcommand{\\branew}[1]{\\langle #1|} $\n",
    "$ \\newcommand{\\ketnew}[1]{\\langle #1|} $\n",
    "$ \\newcommand{\\braket}[2]{\\langle #1|#2\\rangle} $\n",
    "$ \\newcommand{\\ketbra}[2]{| #1\\rangle \\langle #2 |} $\n",
    "$ \\newcommand{\\i}{{\\color{blue} i}} $ \n",
    "$ \\newcommand{\\Hil}{{\\cal H}} $\n",
    "$ \\newcommand{\\cg}[1]{{\\rm C}#1} $\n",
    "$ \\newcommand{\\lp}{\\left(} $\n",
    "$ \\newcommand{\\rp}{\\right)} $\n",
    "$ \\newcommand{\\lc}{\\left[} $\n",
    "$ \\newcommand{\\rc}{\\right]} $\n",
    "$ \\newcommand{\\lch}{\\left\\{} $\n",
    "$ \\newcommand{\\rch}{\\right\\}} $\n",
    "$ \\newcommand{\\Lp}{\\Bigl(} $\n",
    "$ \\newcommand{\\Rp}{\\Bigr)} $\n",
    "$ \\newcommand{\\Lc}{\\Bigl[} $\n",
    "$ \\newcommand{\\Rc}{\\Bigr]} $\n",
    "$ \\newcommand{\\Lch}{\\Bigl\\{} $\n",
    "$ \\newcommand{\\Rch}{\\Bigr\\}} $\n",
    "$ \\newcommand{\\rqa}{\\quad \\Rightarrow \\quad} $\n",
    "$ \\newcommand{\\bm}{\\boldsymbol}$"
   ]
  },
  {
   "cell_type": "markdown",
   "id": "080fe82e",
   "metadata": {},
   "source": [
    "# Definición y bases\n"
   ]
  },
  {
   "cell_type": "markdown",
   "id": "080fe82e",
   "metadata": {},
   "source": [
    "## Definición de Qubit\n",
    "Un concepto fundamental en computación cuántica (QC) es el concepto de <b>qúbit</b> o <i>bit cuántico</i>.\n",
    "En esta sección veremos que es un qúbit, que es la base computación y como se representa un qubit en la esfera de Bloch.\n"
   ]
  },
  {
   "cell_type": "markdown",
   "id": "080fe82e",
   "metadata": {},
   "source": [
    "Como sabemos, la computación clásica se de basa en el <b>bits</b>, es decir, en ceros o unos. Con estos bits construimos cadenas de ceros y unos sobre las que se aplican puertas lógicas (AND, OR, NOT,...) que transforman esta cadena en otra. Definamos de forma matemática un bit:\n",
    "<div class=\"alert alert-block alert-info\">\n",
    "<p style=\"color: navy;\">\n",
    "<b>Definicion</b>:\n",
    "Un <b>bit</b> es una variable  real $a$ que puede tomar valores en $ {\\mathbb Z}_2= \\{0, 1\\}$.\n",
    "</p></div>\n",
    "\n\n"
   ]
  },
  {
   "cell_type": "markdown",
   "id": "080fe82e",
   "metadata": {},
   "source": [
    "Un qúbit es el equivalen en computación cuántica de un bit. Un qúbit es un <b>sistema cuántico de dos niveles de energía o dos estados no degenerado</b>.\n",
    "<div class=\"alert alert-block alert-danger\">\n",
    "<p style=\"color: DarkRed;\">\n",
    "<b>Nota</b>: <i>(Estado degenerado)</i>\n",
    "<br>\n",
    "Dentro de un sistema cuántico dos estados se denominan <b>degenerados</b> si tiene la misma energía\n",
    "</p></div>\n"
   ]
  },
  {
   "cell_type": "markdown",
   "id": "080fe82e",
   "metadata": {},
   "source": [
    "El estado de menor energía será el equivalente al cero y el estado de mayor energía será equivalente al uno. Definiéndolo de forma rigurosa:\n",
    "<div class=\"alert alert-block alert-info\">\n",
    "<p style=\"color: navy;\">\n",
    "<b>Definicion</b>:\n",
    "Un cúbit es un <b>espacio de Hilbert</b> complejo de dimensión dos, $\\ket{v} \\in \\mathcal{H} \\sim  \\mathbb{C}^2$\n",
    "</p></div>\n",
    "\n\n"
   ]
  },
  {
   "cell_type": "markdown",
   "id": "080fe82e",
   "metadata": {},
   "source": [
    "Quizás estas dos definiciones parecen muy pomposas, pero tienen la capacidad de transmitirnos en dos simples frases la abismal diferencia entre un bit y un qúbit. Mientras un bit es simplemente un número entero que puede tomar dos valores, un qúbit puede tomar los infinitos valores del espacio del Hilbert de dos dimensiones. Es decir, bit es una variable discreta (digitalizada), mientras que un qúbit es una variable continua (analógica). Como veremos mas adelante, la digitalización de la computación cuántica se da en el momento de la <b>medida</b>.\n"
   ]
  },
  {
   "cell_type": "markdown",
   "id": "080fe82e",
   "metadata": {},
   "source": [
    "Cabe destacar que cualquier sistema  cuyo estado instantáneo se pueda describir mediante un vector $\\ket{v}\\in {\\mathbb C}^2$ puede albergar físicamente un <b>qúbit</b>. A efectos prácticos,  se trata de sistemas que pueden estar y conmutar entre dos niveles de energía bien definidos de manera controlada. Esto lleva a que haya varias implementaciones de los qúbits (qúbits superconductores, trampas de iones, ...).\n"
   ]
  },
  {
   "cell_type": "markdown",
   "id": "080fe82e",
   "metadata": {},
   "source": [
    "Se está explorando también el uso de sistemas cuánticos de más niveles que dos, como lo <b>qútrit</b> de dimensión 3. De forma genérica, a un qúbit de $d$ dimensiones se le denomina <b>qúdit</b>.\n"
   ]
  },
  {
   "cell_type": "markdown",
   "id": "080fe82e",
   "metadata": {},
   "source": [
    "<div class=\"alert alert-block alert-danger\">\n",
    "<p style=\"color: DarkRed;\">\n",
    "<b>Nota</b>: <i>(El espín del electrón como un qúbit)</i>\n",
    "<br>\n",
    "El ejemplo más típico es el de un espín de un electrón, que de forma natural tiene dos niveles (la proyección 1/2 y la proyección -1/2). Sin embargo, como queremos que los dos estados estén bien diferenciados, debemos pensar en el espín de un electrón sumergido en un campo magnético, de forma que la proyección del espín a favor del campo se ve favorecida sobre la otra. Es decir, pasamos de tener un dos estados degenerados (de igual energía) a tener dos estados con diferente energía.\n",
    "</p></div>\n"
   ]
  },
  {
   "cell_type": "markdown",
   "id": "080fe82e",
   "metadata": {},
   "source": [
    "## Bases computacionales y bases $X$ e $Y$.\n"
   ]
  },
  {
   "cell_type": "markdown",
   "id": "080fe82e",
   "metadata": {},
   "source": [
    "En esta sección vamos a ver tres bases para representar nuestro qúbits: la base $Z$ (o computacional), la $X$ y la $Y$. Estás dos últimas bases estarán referidas a la primera.\n"
   ]
  },
  {
   "cell_type": "markdown",
   "id": "080fe82e",
   "metadata": {},
   "source": [
    "### Base computacional o base $Z$\n"
   ]
  },
  {
   "cell_type": "markdown",
   "id": "080fe82e",
   "metadata": {},
   "source": [
    "Como acabamos de ver, los qúbits viven en un espacio de Hilbert complejo de dos dimensiones, así que vamos a necesitar dos vectores ortonormales para definir una <b>base</b>.\n"
   ]
  },
  {
   "cell_type": "markdown",
   "id": "080fe82e",
   "metadata": {},
   "source": [
    "Definir por primera vez una base tiene una cierta componente de arbitraridad. Por ejemplo, cuando tenemos un vector en un plano podemos describirlo definiendo sus cordenadas respecto a unos ejes $x$ e $y$. La gracia está en que estos ejes podemos elegirlos como queramos (siempre que sean independientes). Sin embargo, una vez fijados unos ejes, cualquier nuevo par de ejes que introduzcamos (cualquier nueva base) está definido a partir de los primeros.\n"
   ]
  },
  {
   "cell_type": "markdown",
   "id": "080fe82e",
   "metadata": {},
   "source": [
    "<div class=\"alert alert-block alert-danger\">\n",
    "<p style=\"color: DarkRed;\">\n",
    "<b>Nota</b>: <i>(Mas sobre el espín)</i>\n",
    "<br>\n",
    "Como comentamos en una nota anterior, los autoestado  $\\ket{+}$ y $\\ket{-}$ de la matriz $\\sigma_z$\n",
    "corresponden a las proyecciones $1/2$ y $-1/2$ del espín sobre el eje $z$. Cabe preguntarnos, porque\n",
    "es tan común medir las proyecciones sobre este eje? En realidad, es simplemente por convenio y\n",
    "por la arbitraridad a la hora de elegir la dirección de este eje. Simplemente, se mide la\n",
    "proyección del espín sobre un eje cualquiera y se considera que este es el eje $z$. Como ahora\n",
    "tenemos definido uno de los ejes, si medimos en otro eje diferente, esta nueva medida  ya no podrá\n",
    "ser la proyección sobre el eje $z$.\n",
    "</p></div>\n"
   ]
  },
  {
   "cell_type": "markdown",
   "id": "080fe82e",
   "metadata": {},
   "source": [
    "La base que se usa habitualmente en computación cuántica se denomina <b>base computacional</b> y se denota como $B = \\{ \\ket{0}, \\ket{1} \\}$. Podemos ver la clara analogía con los bits. Esta base es <b>ortonormal</b>, es decir\n",
    "\\begin{equation}\n",
    "\\braket{0}{1}=\\braket{1}{0}=0 ~~~ \\text{y} ~~~ \\braket{0}{0}=\\braket{1}{1}=1\\, .\n",
    "\\end{equation}\n"
   ]
  },
  {
   "cell_type": "markdown",
   "id": "080fe82e",
   "metadata": {},
   "source": [
    "Una manera de especificar una base es decir cuál es el operador que diagonaliza. A la base computacional se la suele denominar habitualmente como <b>base $Z$</b>, pues es la base que diagonaliza la matriz de Pauli $\\sigma_z$\n",
    "\\begin{align}\n",
    "& \\ket{+} = \\ket{0}_Z \\equiv \\boxed{\\ket{0} = \\begin{bmatrix}  1\\\\ 0\\end{bmatrix}},\n",
    "& \\ket{-} = \\ket{1}_Z \\equiv \\boxed{\\ket{1} =  \\begin{bmatrix}  0\\\\ 1\\end{bmatrix}}\n",
    "\\end{align}\n",
    "Es decir, esta base la forman los autoestados del operador $Z = \\sigma_z = \\lp \\begin{matrix} 1& 0 \\\\ 0 & -1 \\end{matrix} \\rp $ con autovalores $\\pm 1$.\n"
   ]
  },
  {
   "cell_type": "markdown",
   "id": "080fe82e",
   "metadata": {},
   "source": [
    "### Base $X$\n"
   ]
  },
  {
   "cell_type": "markdown",
   "id": "080fe82e",
   "metadata": {},
   "source": [
    "También podemos usar la base de autoestados del operador $X = \\sigma_x = \\lp \\begin{matrix} 0 & 1 \\\\ 1 & 0 \\end{matrix} \\rp $ con autovalores $\\pm 1$:\n",
    "\\begin{align}\n",
    "& \\ket{x_+} = \\ket{0}_X \\equiv \\boxed{\\ket{+} = \\frac{1}{\\sqrt{2}} \\lp \\ket{0} + \\ket{1} \\rp = \\frac{1}{\\sqrt{2}} \\begin{bmatrix}  1 \\\\ 1  \\end{bmatrix}}, \\label{ec_qubit_x+} \\\\\n",
    "& \\ket{x_-} = \\ket{1}_X \\equiv \\boxed{\\ket{-} =  \\frac{1}{\\sqrt{2}} \\lp \\ket{0} - \\ket{1} \\rp = \\frac{1}{\\sqrt{2}} \\begin{bmatrix}  1 \\\\ -1  \\end{bmatrix}}. \\label{ec_qubit_x-}\n",
    "\\end{align}\n"
   ]
  },
  {
   "cell_type": "markdown",
   "id": "080fe82e",
   "metadata": {},
   "source": [
    "### Base $Y$\n"
   ]
  },
  {
   "cell_type": "markdown",
   "id": "080fe82e",
   "metadata": {},
   "source": [
    "También podemos usar la base de autoestados del operador $Y = \\sigma_y = \\lp \\begin{matrix} 0 & -i \\\\ i & 0 \\end{matrix} \\rp $ con autovalores $\\pm 1$:\n",
    "\\begin{align}\n",
    "& \\ket{y_+} = \\ket{0}_Y \\equiv \\boxed{\\ket{+i} = \\frac{1}{\\sqrt{2}} \\lp \\ket{0} + i \\ket{1} \\rp = \\frac{1}{\\sqrt{2}} \\begin{bmatrix}  1 \\\\ i  \\end{bmatrix}}, \\label{ec_qubit_y-} \\\\\n",
    "& \\ket{y_-} = \\ket{1}_Y \\equiv \\boxed{\\ket{-i} =  \\frac{1}{\\sqrt{2}} \\lp \\ket{0} - i \\ket{1} \\rp = \\frac{1}{\\sqrt{2}} \\begin{bmatrix}  1 \\\\ -i  \\end{bmatrix}}. \\label{ec_qubit_y-}\n",
    "\\end{align}\n"
   ]
  },
  {
   "cell_type": "markdown",
   "id": "080fe82e",
   "metadata": {},
   "source": [
    "<div class=\"alert alert-block alert-success\">\n",
    "<p style=\"color: DarkGreen;\">\n",
    "<b>Ejercicio</b>:\n",
    "Escribe las matrices de cambio de la base $Z\\to X$, $Z\\to Y$ y $X\\to Y$.\n",
    "</p></div>\n",
    "\n\n"
   ]
  },
  {
   "cell_type": "markdown",
   "id": "8534e04c",
   "metadata": {},
   "source": [
    "<figure><center>\n",
    "<img   src=\"https://quantumspain-project.es/wp-content/uploads/2022/11/Logo_QS_EspanaDigital.png\" align=center  width=\"2000px\"/>\n",
    "</center></figure>\n",
    "\n",
    "<center>\n",
    "<img align=\"left\" src=\"https://quantumspain-project.es/wp-content/uploads/2024/02/Banner-QS_GOB_v2.png\" width=\"1000px\" />\n",
    "</center>"
   ]
  }
 ],
 "metadata": {
  "kernelspec": {
   "display_name": "Python 3 (ipykernel)",
   "language": "python",
   "name": "python3"
  },
  "language_info": {
   "codemirror_mode": {
    "name": "ipython",
    "version": 3
   },
   "file_extension": ".py",
   "mimetype": "text/x-python",
   "name": "python",
   "nbconvert_exporter": "python",
   "pygments_lexer": "ipython3",
   "version": "3.11.7"
  },
  "toc": {
   "base_numbering": 1,
   "nav_menu": {},
   "number_sections": false,
   "sideBar": true,
   "skip_h1_title": true,
   "title_cell": "Table of Contents",
   "title_sidebar": "Contents",
   "toc_cell": false,
   "toc_position": {},
   "toc_section_display": true,
   "toc_window_display": false
  }
 },
 "nbformat": 4,
 "nbformat_minor": 5
}
