{
 "cells": [
  {
   "cell_type": "markdown",
   "id": "8ddaeb38",
   "metadata": {},
   "source": [
    "<figure><center>\n",
    "<img   src=\"../../Figuras/Fig_logo_UMA_scbi.png\" align=center  width=\"2000px\"/>\n",
    "</center></figure>\n",
    "\n",
    "$ \\newcommand{\\bra}[1]{\\langle #1|} $\n",
    "$ \\newcommand{\\ket}[1]{|#1\\rangle} $\n",
    "$ \\newcommand{\\braket}[2]{\\langle #1|#2\\rangle} $\n",
    "$ \\newcommand{\\i}{{\\color{blue} i}} $ \n",
    "$ \\newcommand{\\Hil}{{\\cal H}} $\n",
    "$ \\newcommand{\\cg}[1]{{\\rm C}#1} $\n",
    "$ \\newcommand{\\lp}{\\left(} $\n",
    "$ \\newcommand{\\rp}{\\right)} $\n",
    "$ \\newcommand{\\lc}{\\left[} $\n",
    "$ \\newcommand{\\rc}{\\right]} $\n",
    "$ \\newcommand{\\lch}{\\left\\{} $\n",
    "$ \\newcommand{\\rch}{\\right\\}} $\n",
    "$ \\newcommand{\\Lp}{\\Bigl(} $\n",
    "$ \\newcommand{\\Rp}{\\Bigr)} $\n",
    "$ \\newcommand{\\Lc}{\\Bigl[} $\n",
    "$ \\newcommand{\\Rc}{\\Bigr]} $\n",
    "$ \\newcommand{\\Lch}{\\Bigl\\{} $\n",
    "$ \\newcommand{\\Rch}{\\Bigr\\}} $\n",
    "$ \\newcommand{\\rqa}{\\quad \\Rightarrow \\quad} $\n",
    "$ \\newcommand{\\bm}{\\boldsymbol}$"
   ]
  },
  {
   "cell_type": "markdown",
   "id": "080fe82e",
   "metadata": {},
   "source": [
    "# Medidas en bases generales\n"
   ]
  },
  {
   "cell_type": "markdown",
   "id": "080fe82e",
   "metadata": {},
   "source": [
    "Vamos a suponer que queremos medir en una base ortonormal arbitraria $\\{\\ket{ x}'\\}$, $x=0,...,2^n-1$. Buscamos un circuito que, a la llegada de un vector  concreto de la base $\\ket{x}'=\\ket{a_{n-1}...a_0}'$, devuelva exactamente \\textbf{la misma colección} de bits  $a_{n-1}...a_0$. Para ello, al igual que vimos en el caso de un qúbit, debemos conocer el operador $U$ que relaciona esta base con la base computacional\n",
    "$$\n",
    "\\ket{ x}'= U\\ket{x}~~~~~~\\Longrightarrow ~~~~~~   U^\\dagger\\ket{x}' = \\ket{ x}  \\, .\n",
    "$$\n",
    "Entonces es evidente que sólo tenemos que añadir el operador $U^\\dagger$ antes de usar el medidor estándar. Podemos ver esto en la Fig. \\ref{Fig_medidas2_Multimeter_basis}.\n"
   ]
  },
  {
   "cell_type": "markdown",
   "id": "080fe82e",
   "metadata": {},
   "source": [
    "<figure><center>\n",
    "<br>\n",
    "<img src=\"Figuras/Fig_medidas2_Multimeter_basis\" alt=\"\" align=center width='600px'/>\n",
    "<center>Medidor en una base arbitraria.</center>\n",
    "<a id='Fig_medidas2_Multimeter_basis'></a>\n",
    "</center></figure>\n\n"
   ]
  },
  {
   "cell_type": "markdown",
   "id": "080fe82e",
   "metadata": {},
   "source": [
    "## Medidas de Pauli\n"
   ]
  },
  {
   "cell_type": "markdown",
   "id": "080fe82e",
   "metadata": {},
   "source": [
    "En caso más frecuente consiste en medir diferentes qúbits en diferentes bases de Pauli, $X$, $Y$ ó $Z$. En este caso, $U= R_1\\otimes \\ldots \\otimes R_n$ es un producto de rotaciones locales. Esto sigue la misma pauta que se explicó para el caso de un sólo qúbit (ver sección \\ref{sec_subsub_medidad1_bases_xyz}). Podemos ver un ejemplo en la Fig. \\ref{Fig_medidas2_XYZ_multimeter}.\n"
   ]
  },
  {
   "cell_type": "markdown",
   "id": "080fe82e",
   "metadata": {},
   "source": [
    "<figure><center>\n",
    "<br>\n",
    "<img src=\"Figuras/Fig_medidas2_XYZ_multimeter\" alt=\"\" align=center width='300px'/>\n",
    "<center>Ejemplo de un circuito que mide en la base $Z_0X_1Y_2$ (el qúbit de arriba se mide en la base $Z$, el de en medio e la base $X$ y el de abajo en la base $Y$).</center>\n",
    "<a id='Fig_medidas2_XYZ_multimeter'></a>\n",
    "</center></figure>\n\n"
   ]
  },
  {
   "cell_type": "markdown",
   "id": "080fe82e",
   "metadata": {},
   "source": [
    "\\begin{mybox_orange}{Jypyter Notebook: 04-Medidas\\_II  seccion 1}\n",
    "Ver la sección 1 del notebook \\textbf{04-Medidas\\_II}.\n",
    "\\end{mybox_orange}\n"
   ]
  },
  {
   "cell_type": "markdown",
   "id": "080fe82e",
   "metadata": {},
   "source": [
    "## Medidas de Bell\n"
   ]
  },
  {
   "cell_type": "markdown",
   "id": "080fe82e",
   "metadata": {},
   "source": [
    "Podemos medir también en bases entrelazadas, por ejemplo, en la base de Bell. En la Ec. (\\ref{ec_multiqubit_Bell_states}) podemos ver la base de Bell\n",
    "\\begin{equation} \\label{ec_medidas2_base_Bell_from_Z}\n",
    "\\ket{B_{xy}} = \\ket{xy}'  = U \\ket{xy}.\n",
    "\\end{equation}\n",
    "En esta última expresión, $\\ket{xy}$ está expresado en la base computacional.  El circuito que genera esta base puede verse en la Fig. \\ref{Fig_medidas2_circuit_Bell_basis}. Sabemos que el circuito de medida debe de llevar antes de los medidores el inverso de este circuito. Podemos ver el circuito de medida en la base de Bell en la Fig. \\ref{Fig_medidas2_Bell_meter}.\n"
   ]
  },
  {
   "cell_type": "markdown",
   "id": "080fe82e",
   "metadata": {},
   "source": [
    "<figure><center>\n",
    "<br>\n",
    "<img src=\"Figuras/Fig_medidas2_circuit_Bell_basis\" alt=\"\" align=center width='250px'/>\n",
    "<center>Circuito que genera la base de Bell a partir de la base computacional (ver Ec. (\\ref{ec_medidas2_base_Bell_from_Z}).</center>\n",
    "<a id='Fig_medidas2_circuit_Bell_basis'></a>\n",
    "</center></figure>\n\n"
   ]
  },
  {
   "cell_type": "markdown",
   "id": "080fe82e",
   "metadata": {},
   "source": [
    "<figure><center>\n",
    "<br>\n",
    "<img src=\"Figuras/Fig_medidas2_Bell_meter\" alt=\"\" align=center width='400px'/>\n",
    "<center>Medidor en la base de Bell. </center>\n",
    "<a id='Fig_medidas2_Bell_meter'></a>\n",
    "</center></figure>\n\n"
   ]
  },
  {
   "cell_type": "markdown",
   "id": "080fe82e",
   "metadata": {},
   "source": [
    "\\begin{mybox_orange}{Jypyter Notebook: 04-Medidas\\_II seccion 2}\n",
    "Ver la sección 2 del notebook \\textbf{04-Medidas\\_II}.\n",
    "\\end{mybox_orange}\n"
   ]
  },
  {
   "cell_type": "markdown",
   "id": "8534e04c",
   "metadata": {},
   "source": [
    "<figure><center>\n",
    "<img   src=\"https://quantumspain-project.es/wp-content/uploads/2022/11/Logo_QS_EspanaDigital.png\" align=center  width=\"2000px\"/>\n",
    "</center></figure>\n",
    "\n",
    "<center>\n",
    "<img align=\"left\" src=\"https://quantumspain-project.es/wp-content/uploads/2024/02/Banner-QS_GOB_v2.png\" width=\"1000px\" />\n",
    "</center>"
   ]
  }
 ],
 "metadata": {
  "kernelspec": {
   "display_name": "Python 3 (ipykernel)",
   "language": "python",
   "name": "python3"
  },
  "language_info": {
   "codemirror_mode": {
    "name": "ipython",
    "version": 3
   },
   "file_extension": ".py",
   "mimetype": "text/x-python",
   "name": "python",
   "nbconvert_exporter": "python",
   "pygments_lexer": "ipython3",
   "version": "3.11.7"
  },
  "toc": {
   "base_numbering": 1,
   "nav_menu": {},
   "number_sections": false,
   "sideBar": true,
   "skip_h1_title": true,
   "title_cell": "Table of Contents",
   "title_sidebar": "Contents",
   "toc_cell": false,
   "toc_position": {},
   "toc_section_display": true,
   "toc_window_display": false
  }
 },
 "nbformat": 4,
 "nbformat_minor": 5
}
