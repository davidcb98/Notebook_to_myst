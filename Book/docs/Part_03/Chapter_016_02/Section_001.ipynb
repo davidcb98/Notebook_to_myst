{
 "cells": [
  {
   "cell_type": "markdown",
   "id": "8ddaeb38",
   "metadata": {},
   "source": [
    "<figure><center>\n",
    "<img   src=\"Figuras/Fig_logo_UMA_scbi.png\" align=center  width=\"2000px\"/>\n",
    "</center></figure>\n",
    "\n",
    "$ \\newcommand{\\bra}[1]{\\langle #1|} $\n",
    "$ \\newcommand{\\ket}[1]{|#1\\rangle} $\n",
    "$ \\newcommand{\\braket}[2]{\\langle #1|#2\\rangle} $\n",
    "$ \\newcommand{\\i}{{\\color{blue} i}} $ \n",
    "$ \\newcommand{\\Hil}{{\\cal H}} $\n",
    "$ \\newcommand{\\cg}[1]{{\\rm C}#1} $\n",
    "$ \\newcommand{\\lp}{\\left(} $\n",
    "$ \\newcommand{\\rp}{\\right)} $\n",
    "$ \\newcommand{\\lc}{\\left[} $\n",
    "$ \\newcommand{\\rc}{\\right]} $\n",
    "$ \\newcommand{\\lch}{\\left\\{} $\n",
    "$ \\newcommand{\\rch}{\\right\\}} $\n",
    "$ \\newcommand{\\Lp}{\\Bigl(} $\n",
    "$ \\newcommand{\\Rp}{\\Bigr)} $\n",
    "$ \\newcommand{\\Lc}{\\Bigl[} $\n",
    "$ \\newcommand{\\Rc}{\\Bigr]} $\n",
    "$ \\newcommand{\\Lch}{\\Bigl\\{} $\n",
    "$ \\newcommand{\\Rch}{\\Bigr\\}} $\n",
    "$ \\newcommand{\\rqa}{\\quad \\Rightarrow \\quad} $\n",
    "$ \\newcommand{\\bm}{\\boldsymbol}$"
   ]
  },
  {
   "cell_type": "markdown",
   "id": "080fe82e",
   "metadata": {},
   "source": [
    "# Introducción\n"
   ]
  },
  {
   "cell_type": "markdown",
   "id": "080fe82e",
   "metadata": {},
   "source": [
    "Desde los orígenes de la escritura ya se tenía claro que no existen canales de comunicación seguros. Por ejemplo, si se envía un jinete con un mensaje, este puede ser interceptado por el enemigo, asaltándolo y robándole el mensaje. La única solución viable es \\textbf{encriptar el mensaje}, para que en caso de que se  interceptado no puedan leerlo.\n",
    "Los orígenes de la criptografía se remontan a la antigüedad Babilónica donde el mensaje se enrollaba\n",
    "en un cilindro de un radio adecuado que permitía que las letras se alineasen de manera correcta. La\n",
    "\\textbf{clave}, por tanto, era el radio del cilindro. Sólamente el poseedor del cilindro correcto podía descifrar el\n",
    "mensaje. En el imperio romano se usaron las llamadas \\textit{reglas de sustitución}, en las que todas la letras se\n",
    "remplazaban por otras de acuerdo con una regla secreta (cifrado del Cesar). Por ejemplo la letra siguiente\n",
    "del abecedario, o a una cierta distancia fija. La regla de sustitución se denomina \\textbf{clave criptográfica} y la\n",
    "sustitución directa en inversa se conocen como \\textbf{cifrado} y \\textbf{descifrado}. Las correlaciones que existen entre el\n",
    "mensaje original y el cifrado permiten casi siempre adivinar la regla de sustitución, lo que se denomina\n",
    "\\textbf{romper un código}. Notar que éste método requiere \\textbf{compartir una clave secreta}. A partir de ahí, los\n",
    "mensajes se pueden compartir por un \\textbf{canal inseguro}.\n"
   ]
  },
  {
   "cell_type": "markdown",
   "id": "080fe82e",
   "metadata": {},
   "source": [
    "Esto que parece tan lejano, en realidad muy común a día de hoy para nosotros con las telecomunicaciones: en Internet es imposible enviar un mensaje sin que este sea susceptible de ser interceptado por una tercera persona. Además, estos mensajes pueden contener información muy sensible, como por ejemplo las claves de acceso a la aplicación del banco. Es decir, con la aparición de Internet, la criptografía se convirtió en pan de cada día.\n"
   ]
  },
  {
   "cell_type": "markdown",
   "id": "080fe82e",
   "metadata": {},
   "source": [
    "Cuando hablamos de \\textbf{Quantum Key Distribution (QKD)} hablamos del hecho de usar la física cuántica para enviar las claves criptográficas entre los dos participantes de la conversación. La gracia aquí está en que las leyes de la física cuántica nos ayudan ha saber cuando la clave ha sido interceptada, pudiendo así abortar el protocolo y e probar otra vez a enviar las claves. Una vez que los dos participantes tiene las claves, ya pueden empezar a comunicarse por un canal inseguro.\n"
   ]
  },
  {
   "cell_type": "markdown",
   "id": "080fe82e",
   "metadata": {},
   "source": [
    "Cuando hablamos de criptografía, siempre se suelen usar tres personajes ficticios: Alice, Bob y Eve. Alice quiere enviarle un mensaje a Bob, mientras que Eve intenta leer el mensaje.\n"
   ]
  },
  {
   "cell_type": "markdown",
   "id": "080fe82e",
   "metadata": {},
   "source": [
    "Este capitulo se basa en gran medida en el artículo recopilatorio \\cite{QKD_resumen} de 2009, así como en la sección 12.6.3 del Nielsen-Chuang \\cite{nielsen_chuang_2010}.\n"
   ]
  },
  {
   "cell_type": "markdown",
   "id": "080fe82e",
   "metadata": {},
   "source": [
    "## Criptografía\n"
   ]
  },
  {
   "cell_type": "markdown",
   "id": "080fe82e",
   "metadata": {},
   "source": [
    "La \\textbf{criptografía} es un campo de aplicaciones que proporciona privacidad, autenticación y confidencialidad a los usuarios. Un subcampo importante es el de la \\textbf{comunicación segura}, cuyo objetivo es permitir la comunicación confidencial entre distintas partes de forma que ninguna parte no autorizada tenga acceso al contenido de los mensajes. Este campo tiene una larga historia de éxitos y fracasos, ya que a lo largo de los siglos surgieron muchos métodos para codificar mensajes, y los códigos siempre se rompían tiempo después.\n"
   ]
  },
  {
   "cell_type": "markdown",
   "id": "080fe82e",
   "metadata": {},
   "source": [
    "Sin embargo, la historia no tiene por qué repetirse eternamente. En 1917, Vernam inventó el llamado cifrado \\textit{one time pad}, que utiliza una clave secreta simétrica y aleatoria compartida entre emisor y receptor \\cite{Vernam-1926}. En principio, este esquema no puede romperse, siempre que las partes no reutilicen su clave. Tres décadas más tarde, Shannon demostró que el esquema Vernam es óptimo: no existe ningún método de cifrado que requiera menos clave \\cite{Shannon-1949}. Esto significa que la clave se agota en el proceso. Para emplear este esquema, por tanto, las partes comunicantes deben disponer de un método seguro para compartir una clave que sea tan larga como el texto que se desea cifrar. Debido a esta limitación, que se agrava cuando hay que transmitir grandes cantidades de información de forma segura, la mayoría de las aplicaciones criptográficas actuales se basan en otros esquemas, cuya seguridad no puede demostrarse en principio, sino que se basa más bien en nuestra experiencia de que algunos problemas son difíciles de resolver. En otras palabras, estos esquemas pueden romperse, pero con una cantidad sustancial de potencia de cálculo.\n"
   ]
  },
  {
   "cell_type": "markdown",
   "id": "080fe82e",
   "metadata": {},
   "source": [
    "## Criptografía de clave privada\n"
   ]
  },
  {
   "cell_type": "markdown",
   "id": "080fe82e",
   "metadata": {},
   "source": [
    "Hasta la invención de la \\textbf{criptografía de clave pública} en los años 70, todos los criptosistemas funcionaban según un principio diferente, conocido ahora como \\textbf{criptografía de clave privada}. En un criptosistema de clave privada, si Alice desea enviar mensajes a Bob, debe tener una \\textbf{clave de codificación}, que le permita cifrar su mensaje, y Bob debe tener una \\textbf{clave de descodificación} equivalente, que le permita descifrar el mensaje cifrado. Un criptosistema de clave privada sencillo pero muy eficaz es el \\textbf{cifrado de Vernam}, a veces llamado \\textit{one time pad}. Alice y Bob comienzan con cadenas de claves secretas de n bits, que son idénticas. Alice codifica su mensaje de n bits sumando el mensaje y la clave, y Bob descodifica restando para invertir la codificación.\n"
   ]
  },
  {
   "cell_type": "markdown",
   "id": "080fe82e",
   "metadata": {},
   "source": [
    "La gran característica de este sistema es que, mientras las cadenas de claves sean realmente secretas, es \\textbf{demostrablemente seguro}. Es decir, cuando el protocolo utilizado por Alice y Bob tiene éxito, lo hace con una probabilidad arbitrariamente alta.  Y para cualquier estrategia de escucha empleada por Eve, Alice y Bob pueden garantizar que la información mutua de Eve con su mensaje no codificado puede hacerse tan pequeña como se desee. Por el contrario, la seguridad de la criptografía de clave pública se basa en \\textit{suposiciones matemáticas no demostradas sobre la dificultad de resolver ciertos problemas} como la factorización (¡con ordenadores clásicos!), a pesar de ser ampliamente utilizada y más conveniente.\n"
   ]
  },
  {
   "cell_type": "markdown",
   "id": "080fe82e",
   "metadata": {},
   "source": [
    "La principal dificultad de los criptosistemas de clave privada es la \\textbf{distribución segura de los bits de clave}. En concreto, el cifrado de Vernam sólo es seguro si el número de bits de clave es al menos tan grande como el tamaño del mensaje que se codifica, y los bits de clave no pueden reutilizarse. Por tanto, la gran cantidad de bits de clave necesarios hace que estos sistemas sean poco prácticos para el uso general. Además, los bits clave deben entregarse con antelación, custodiarse asíduamente hasta su uso y destruirse después; de lo contrario, en principio, esa información clásica puede copiarse sin alterar los originales, lo que compromete la seguridad de todo el protocolo. A pesar de estos inconvenientes, los criptosistemas de clave privada como el cifrado de Vernam siguen utilizándose por su seguridad demostrable, con material clave entregado mediante reuniones clandestinas, mensajeros de confianza o enlaces de comunicación privados y seguros.\n"
   ]
  },
  {
   "cell_type": "markdown",
   "id": "080fe82e",
   "metadata": {},
   "source": [
    "### Cifrado de Vernam (One time pad)\n"
   ]
  },
  {
   "cell_type": "markdown",
   "id": "080fe82e",
   "metadata": {},
   "source": [
    "El cifrado de Vernam es un protocolo en tres pasos\n",
    "\\begin{enumerate}\n",
    "\\item El mensaje se codifica en forma de un número binario $s_i = 0100101110$.\n",
    "\\item La clave secreta es una secuencia binaria aleatoria de longitud al menos tan grande como el mensaje $c_i = 0101111001$. La codificación consiste en la suma módulo dos de ambas secuencias:\n",
    "$\\tilde{s}_i = s_i \\oplus c_i = 0001010111$.\n",
    "\\item La de-codificación consiste en la suma módulo dos de nuevo de la clave compartida con el mensaje cifrado $s_i = \\tilde{s}_i \\oplus c_i = si \\oplus 2c_i = 0001010111$.\n",
    "\\end{enumerate}\n",
    "Por un lado, el texto cifrado es indescifrable porque la clave es aleatoria. Por tanto no transmite ninguna correlación entre los dígitos del mensaje original.\n"
   ]
  },
  {
   "cell_type": "markdown",
   "id": "080fe82e",
   "metadata": {},
   "source": [
    "### Distribución secreta de claves\n"
   ]
  },
  {
   "cell_type": "markdown",
   "id": "080fe82e",
   "metadata": {},
   "source": [
    "El (cifrado de Vernam) fue inventado por el matemático Gilbert Vernam en 1917 \\cite{Vernam-1926}, y es el primer ejemplo\n",
    "de código irrompible. La prueba de su inviolabilidad se debe a Claude Shannon treinta años más tarde \\cite{Shannon-1949},\n",
    "y depende crucialmente de tres detalles: 1) que la clave sea aleatoria, 2) que la clave sea secreta (sólo\n",
    "conocida por Bob y Alice), y 3) que la clave sólo se utilice una vez (one-time pad).\n"
   ]
  },
  {
   "cell_type": "markdown",
   "id": "080fe82e",
   "metadata": {},
   "source": [
    "Sólo cuando exista la seguridad absoluta de que la clave no ha sido interceptada por un tercer agente\n",
    "(Eve), Alice y Bob pueden confiar en la imposibilidad de nadie para descifrar su mensaje. Desde un\n",
    "punto de vista práctico, Alice y Bob poseen un banco de claves secretas que han intercambiado en algún\n",
    "momento del pasado, y van gastándolas a razón de una por cada mensaje. En este sentido, el cifrado de\n",
    "Vernam, cambia el centro de gravedad del problema de la transmisión segura, a la \\textbf{distribución segura de\n",
    "claves}. Este es precisamente el punto donde entran los algoritmos de QKD.\n"
   ]
  },
  {
   "cell_type": "markdown",
   "id": "080fe82e",
   "metadata": {},
   "source": [
    "## Criptografía de clave pública\n"
   ]
  },
  {
   "cell_type": "markdown",
   "id": "080fe82e",
   "metadata": {},
   "source": [
    "El criptosistema de clave pública requiere una función tipo puerta trampa, $f$ , fácil pero que tenga una inversa, $f^{-1}$, difícil de calcular. Fácil y difícil se refieren al nivel de complejidad computacional requerido. En general diremos que un problema es fácil si el tiempo de cálculo escala polinómicamente (clase P), como $n^a$ con el número $n$ de letras del mensaje. Un problema difícil lo hace de manera no-polinómica (clase NP). Como ya se ha comentado, la seguridad de los protocolos de clave pública no se puede demostrar, sino que simplemente se basa en la dificulta a la hora de invertir la función.\n"
   ]
  },
  {
   "cell_type": "markdown",
   "id": "080fe82e",
   "metadata": {},
   "source": [
    "En el sistema de clave pública Alice y Bob no intercambian ningúna clave. Bob tiene dos claves, una para encriptar y otra para desencriptar. Publica la primera, y Alice con ella encripta su mensaje.\n",
    "Una vez recibido, Bob usa la clave de desencriptar para averiguar el contenido. Quien no posea la clave privada de Bob, aún puede intentar averiguar la operación inversa a la encriptación que efectuó Alice con la clave pública. Este proceso debe ser muy costoso en términos de tiempo para que la clave sea considerada segura (es decir, lo que comentamos de calcular $f^{-1}$)\n"
   ]
  },
  {
   "cell_type": "markdown",
   "id": "080fe82e",
   "metadata": {},
   "source": [
    "### El protocolo RSA\n"
   ]
  },
  {
   "cell_type": "markdown",
   "id": "080fe82e",
   "metadata": {},
   "source": [
    "El protocolo RSA es el criptosistema más utilizado en transacciones comerciales, o para la verificación de identidad. Inventado en 1977 por Rivest, Shamir y Adleman. Funciona con el siguiente conjunto de pasos\n",
    "\\begin{enumerate}\n",
    "\\item Bob escoge dos numeros primos $p$ y $q$ y calcula $N = pq$ y $L = (p - 1)(q - 1)$.\n",
    "\\item Escoge $e$ (de encriptación), un número impar pequeño, coprimo con $L$.\n",
    "\\item Calcula $d$ (de desencriptación), el inverso módulo $L$ de $e$. Es decir\n",
    "\\begin{equation}\n",
    "e \\cdot d \\text{mod }L = 1\n",
    "\\end{equation}\n",
    "Esta tarea es fácil, conociendo $e$ y $L$.\n",
    "\\item\n"
   ]
  },
  {
   "cell_type": "markdown",
   "id": "080fe82e",
   "metadata": {},
   "source": [
    "- La clave pública es ($e$, $N$) y cualquiera puede usarla para mandar mensajes a Bob.\n",
    "- La clave privada es ($d$, $N$) y, a priori, sólo es conocida por Bob.\n"
   ]
  },
  {
   "cell_type": "markdown",
   "id": "080fe82e",
   "metadata": {},
   "source": [
    "\\item Para encriptar, Alice divide su mensaje en bloques, $i = 1, 2, \\dots,$ de manera que cada bloque pueda ser identificado por un número $m_i < N$. La clave permite una \\textit{regla de sustitución}\n",
    "\\begin{equation}\n",
    "m_i \\rightarrow \\tilde{m}_i = (m_i)^e \\text{mod } N\n",
    "\\end{equation}\n",
    "es decir el resto mod$(N)$ de exponenciar $m_i$ a las potencia $e$.\n",
    "\\item  Para desencriptar, Bob realiza la operación inversa sobre $\\tilde{m}_i$. Se puede probar que $(m_i)^{ed}|_{\\text{mod }N} = m_i$. Por tanto la operación que realiza Bob es simplemente\n",
    "\\begin{equation}\n",
    "\\tilde{m}_i = (\\tilde{m}_i)^d (\\text{mod }N)\n",
    "\\end{equation}\n",
    "\\end{enumerate}\n"
   ]
  },
  {
   "cell_type": "markdown",
   "id": "080fe82e",
   "metadata": {},
   "source": [
    "Las dos ventajas principales del sistema criptográfico público son\n"
   ]
  },
  {
   "cell_type": "markdown",
   "id": "080fe82e",
   "metadata": {},
   "source": [
    "- No necesitan de una distribución secreta de clave.\n",
    "- Se puede reutilizar la misma clave repetidamente.\n"
   ]
  },
  {
   "cell_type": "markdown",
   "id": "080fe82e",
   "metadata": {},
   "source": [
    "La fortaleza de la clave RSA crece con la magnitud del número $N$. El código puede romperse si alguien obtiene los factores primos $pq = N$. Ello permite hallar $L = (p - 1)(q - 1)$ y, como $e$ es público, obtener\n",
    "$d$ fácilmente. La fiabilidad del sistema reside en la inexistencia de métodos para hallar $p$ y $q$ tarea en un tiempo polinómico en $n = log_2 N$. El más eficiente, método de criba, y requiere un tiempo que crece como $\\exp( n^{1/3} (log n)^{2/3})$. El algoritmo de Shor permite resolver el problema en un tiempo polinómico $\\mathcal{O}(n^c)$.\n"
   ]
  },
  {
   "cell_type": "markdown",
   "id": "8534e04c",
   "metadata": {},
   "source": [
    "<figure><center>\n",
    "<img   src=\"https://quantumspain-project.es/wp-content/uploads/2022/11/Logo_QS_EspanaDigital.png\" align=center  width=\"2000px\"/>\n",
    "</center></figure>\n",
    "\n",
    "<center>\n",
    "<img align=\"left\" src=\"https://quantumspain-project.es/wp-content/uploads/2024/02/Banner-QS_GOB_v2.png\" width=\"1000px\" />\n",
    "</center>"
   ]
  }
 ],
 "metadata": {
  "kernelspec": {
   "display_name": "Python 3 (ipykernel)",
   "language": "python",
   "name": "python3"
  },
  "language_info": {
   "codemirror_mode": {
    "name": "ipython",
    "version": 3
   },
   "file_extension": ".py",
   "mimetype": "text/x-python",
   "name": "python",
   "nbconvert_exporter": "python",
   "pygments_lexer": "ipython3",
   "version": "3.11.7"
  },
  "toc": {
   "base_numbering": 1,
   "nav_menu": {},
   "number_sections": false,
   "sideBar": true,
   "skip_h1_title": true,
   "title_cell": "Table of Contents",
   "title_sidebar": "Contents",
   "toc_cell": false,
   "toc_position": {},
   "toc_section_display": true,
   "toc_window_display": false
  }
 },
 "nbformat": 4,
 "nbformat_minor": 5
}
