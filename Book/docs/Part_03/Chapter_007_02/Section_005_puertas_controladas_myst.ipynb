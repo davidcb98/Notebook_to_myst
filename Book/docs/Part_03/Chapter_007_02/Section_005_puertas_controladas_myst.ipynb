{
 "cells": [
  {
   "cell_type": "markdown",
   "id": "8ddaeb38",
   "metadata": {},
   "source": [
    "> {sub-ref}`today` | {sub-ref}`wordcount-minutes` min read\n",
    "\n",
    "<img src=\"Figuras/Fig_logo_UMA_scbi.png\" align=center  width=\"2000px\"/>\n",
    "\n",
    "\n",
    "<a href=\"https://www.scbi.uma.es/web/es/computacion-cuantica/\">\n",
    "    <button class=\"rounded\" style=\"float: right;\">\n",
    "    <svg xmlns=\"http://www.w3.org/2000/svg\" width=\"32\" height=\"32\" viewBox=\"0 0 24 24\">\n",
    "        <path fill=\"var(--fill, white)\"\n",
    "        d=\"M18.1 15.3c-.1.1-.3.2-.4.3l-2.4.4l1.7 3.6c.2.4 0 .8-.4\n",
    "            1l-2.8 1.3c-.1.1-.2.1-.3.1c-.3 0-.6-.2-.7-.4L11.2\n",
    "            18l-1.9 1.5c-.1.1-.3.2-.5.2c-.4 0-.8-.3-.8-.8V7.5c0-.5.3-.8.8-.8c.2 0\n",
    "            .4.1.5.2l8.7 7.4c.3.2.4.7.1 1M6 12H4V4h16v8h-1.6l2.2 1.9c.8-.3 1.3-1\n",
    "            1.3-1.9V4c0-1.1-.9-2-2-2H4c-1.1 0-2 .9-2 2v8c0 1.1.9 2 2 2h2z\" />\n",
    "    </svg>\n",
    "    Volver a SCBI - Computación Cuantica\n",
    "    </button>\n",
    "</a>\n",
    "\n",
    "$ \\newcommand{\\bra}[1]{\\langle #1|} $\n",
    "$ \\newcommand{\\ket}[1]{|#1\\rangle} $\n",
    "$ \\newcommand{\\branew}[1]{\\langle #1|} $\n",
    "$ \\newcommand{\\ketnew}[1]{\\langle #1|} $\n",
    "$ \\newcommand{\\braket}[2]{\\langle #1|#2\\rangle} $\n",
    "$ \\newcommand{\\ketbra}[2]{| #1\\rangle \\langle #2 |} $\n",
    "$ \\newcommand{\\i}{{\\color{blue} i}} $ \n",
    "$ \\newcommand{\\Hil}{{\\cal H}} $\n",
    "$ \\newcommand{\\cg}[1]{{\\rm C}#1} $\n",
    "$ \\newcommand{\\lp}{\\left(} $\n",
    "$ \\newcommand{\\rp}{\\right)} $\n",
    "$ \\newcommand{\\lc}{\\left[} $\n",
    "$ \\newcommand{\\rc}{\\right]} $\n",
    "$ \\newcommand{\\lch}{\\left\\{} $\n",
    "$ \\newcommand{\\rch}{\\right\\}} $\n",
    "$ \\newcommand{\\Lp}{\\Bigl(} $\n",
    "$ \\newcommand{\\Rp}{\\Bigr)} $\n",
    "$ \\newcommand{\\Lc}{\\Bigl[} $\n",
    "$ \\newcommand{\\Rc}{\\Bigr]} $\n",
    "$ \\newcommand{\\Lch}{\\Bigl\\{} $\n",
    "$ \\newcommand{\\Rch}{\\Bigr\\}} $\n",
    "$ \\newcommand{\\rqa}{\\quad \\Rightarrow \\quad} $\n",
    "$ \\newcommand{\\bm}{\\boldsymbol}$"
   ]
  },
  {
   "cell_type": "markdown",
   "id": "080fe82e",
   "metadata": {},
   "source": [
    "# Puertas controladas\n"
   ]
  },
  {
   "cell_type": "markdown",
   "id": "080fe82e",
   "metadata": {},
   "source": [
    "En las puertas controladas, un operador se aplica sobre un qubit dependiendo del estado en el que se encuentra otro. Este segundo qubit se denomina <b>controlador</b>, mientras que el primero es el <b>controlado</b>. Las puertas controladas son eficientes para generar entrelazamiento.\n",
    "La puerta controlada  se representa como sigue\n",
    "\\begin{equation}\n",
    "\\boxed{\\cg{U} = \\ket{0}\\bra{0}\\otimes I + \\ket{1}\\bra{1}\\otimes U}\n",
    "\\end{equation}\n",
    "donde $U$ es un operador unitario de 1-qubit general. Si por el primer qubit (el controlador)\n",
    "\n",
    " \n- entra $\\ket{0}$, sale $\\ket{0}$ y en el segundo cúbit (controlado) no se hace nada (se aplica $I$).\n",
    " \n- entra $\\ket{1}$, sale $\\ket{1}$ y en el segundo cúbit (controlado) se aplica el operador $U$.\n",
    "\n",
    "La <b>representación matricial</b> de $CU$ es fácil de obtener como suma de  <b>productos de Kronecker</b>\n",
    "\\begin{equation}\n",
    "\\cg{U} = \\begin{bmatrix}1 & 0 \\\\ 0 & 0 \\end{bmatrix}\\otimes  I +  \\begin{bmatrix}0 & 0 \\\\ 0 & 1 \\end{bmatrix} \\otimes U\n",
    "= \\begin{bmatrix} 1\\times I & 0 \\\\ 0 & 0 \\end{bmatrix}  +\n",
    "\\begin{bmatrix} 0 & 0 \\\\ 0 & 1\\times U \\end{bmatrix} = \\begin{bmatrix}   I & 0 \\\\ 0 &   U \\end{bmatrix} =\n",
    "\\begin{bmatrix} 1 & 0 & 0 & 0 \\\\ 0 & 1 & 0 & 0 \\\\ 0 & 0 & U_{11} & U_{12} \\\\\n",
    "0 & 0 & U_{21} & U_{22}\\end{bmatrix}\n",
    "\\end{equation}\n"
   ]
  },
  {
   "cell_type": "markdown",
   "id": "080fe82e",
   "metadata": {},
   "source": [
    "::::::{admonition} Nota (Las puertas controladas son unitarias) \n",
    ":class: note\n",
    "\n",
    "\n",
    "\n",
    "Escrito de esta manera es evidente que, si $U$ es una matriz unitaria, $\\cg{U}$ también lo es\n",
    "$~\\Rightarrow (\\cg{U})^\\dagger \\cg{U} = I$. Esto no es algo trivial ya que la combinación lineal de operadores\n",
    "unitarios, en general, no es  unitaria.\n",
    "::::::\n"
   ]
  },
  {
   "cell_type": "markdown",
   "id": "080fe82e",
   "metadata": {},
   "source": [
    "La acción de $\\cg{U}$ sobre elementos de la base $\\{\\ket{x}\\}$ donde $x=0,1$ admite una forma compacta\n",
    "\\begin{equation}\n",
    "\\boxed{\\cg{U}:\\ket{x}\\otimes\\ket{y}  \\rightarrow \\ket{x} \\otimes U^x\\ket{y}}\n",
    "\\end{equation}\n",
    "Podemos ver la representación gráfica asociada al operador $\\cg{U}$ en la Fíg.  {numref}`%s <Fig_multiqubit_cU_gate>`\n"
   ]
  },
  {
   "cell_type": "markdown",
   "id": "080fe82e",
   "metadata": {},
   "source": [
    "::::{figure} Figuras/Fig_multiqubit_cU_gate.png\n",
    ":width: 250px\n",
    ":align: center\n",
    ":name: Fig_multiqubit_cU_gate\n",
    "Puerta controlada\n",
    "::::\n"
   ]
  },
  {
   "cell_type": "markdown",
   "id": "080fe82e",
   "metadata": {},
   "source": [
    "::::::{admonition} Ejercicio\n",
    ":class: tip\n",
    "\n",
    "\n",
    "Escribe un operador controlado y las matrices asociadas cuando\n",
    "\n",
    "\n- el qubit de control es el segundo sobre el primero.\n",
    "\n- el operador $U$ se aplica sobre el segundo cúbit, si el estado del primero es $\\ket{0}$.\n",
    "\n",
    "::::::\n",
    "\n\n"
   ]
  },
  {
   "cell_type": "markdown",
   "id": "080fe82e",
   "metadata": {},
   "source": [
    "Operadores como éste existen en circuitos clásicos. La fascinante novedad es que, ahora, por el primer qubit podría circular una superposición $a\\ket{0} + b\\ket{1}$. En estos casos, se efectuarían virtualmente las dos operaciones. El resultado de una acción controlada también conduce a una superposición, de forma tal que <b>se genera entrelazamiento</b>.\n"
   ]
  },
  {
   "cell_type": "markdown",
   "id": "080fe82e",
   "metadata": {},
   "source": [
    "Para verlo, hagamos actuar $\\cg{U}$ sobre un estado de la forma  $\\ket{\\phi} = (a\\ket{0} + b\\ket{1})\\otimes \\ket{v}$, que es <b>factorizable</b>\n",
    "\\begin{align*}\n",
    "\\cg{U}\\,\\Lc (a\\ket{0} +b \\ket{1})\\otimes \\ket{v} \\Rc\n",
    "& = \\left(\\ket{0}\\bra{0}\\otimes I + \\ket{1}\\bra{1}\\otimes U\\rule{0mm}{4mm}\\right) \\Lc (a\\ket{0} +b \\ket{1})\\otimes \\ket{v} \\Rc \\\\ \\rule{0mm}{5mm}\n",
    "& = a\\ket{0}\\otimes \\ket{v} + b\\ket{1}\\otimes U\\ket{v}\n",
    "\\end{align*}\n",
    "Vemos que, efectivamente, el resultado es un estado entrelazado. Podemos ver esto en la Fig.  {numref}`%s <Fig_multiqubit_entangling_CU_circuit>`.\n"
   ]
  },
  {
   "cell_type": "markdown",
   "id": "080fe82e",
   "metadata": {},
   "source": [
    "::::{figure} Figuras/Fig_multiqubit_entangling_CU_circuit.png\n",
    ":width: 500px\n",
    ":align: center\n",
    ":name: Fig_multiqubit_entangling_CU_circuit\n",
    "Entrelazamiento a partir de una puerta controlada.\n",
    "::::\n"
   ]
  },
  {
   "cell_type": "markdown",
   "id": "080fe82e",
   "metadata": {},
   "source": [
    "## CNOT\n"
   ]
  },
  {
   "cell_type": "markdown",
   "id": "080fe82e",
   "metadata": {},
   "source": [
    "El caso más frecuente de una puerta binaria controlada es la puerta CNOT = $\\cg{X}$\n",
    "```{math}\n",
    ":label: ec_multiqubit_CNOT \n",
    "\\begin{equation} \n",
    "\\boxed{\\hbox{CNOT} = \\cg{X} ~=~ \\ket{0}\\bra{0}\\otimes I + \\ket{1}\\bra{1}\\otimes X }\n",
    "~=~ \\begin{bmatrix} 1 & 0 & 0 & 0 \\\\ 0 & 1 & 0 & 0 \\\\ 0 & 0 & 0 & 1 \\\\ 0 & 0 & 1 & 0\\end{bmatrix}\n",
    "\\end{equation} \n",
    "```\n",
    "Sobre elementos de la base computacional $\\ket{xy}=\\ket{x}\\otimes\\ket{y}$ donde $\\, x,y= 0,1$, su acción  se puede representar de manera compacta usando la suma módulo dos\n",
    "```{math}\n",
    ":label: ec_multiqubit_CNOT_compu \n",
    "\\begin{equation} \n",
    "\\boxed{\\cg{X}:\\ket{x}\\otimes\\ket{y} \\rightarrow \\ket{x} \\otimes X^x\\ket{y} = \\ket{x} \\otimes \\ket{y\\oplus x}}\n",
    "\\end{equation} \n",
    "```\n",
    "Podemos ver la representación gráfica asociada al operador CNOT en la Fíg.  {numref}`%s <Fig_multiqubit_cX_gate>`\n",
    "::::{figure} Figuras/Fig_multiqubit_cX_gate.png\n",
    ":width: 250px\n",
    ":align: center\n",
    ":name: Fig_multiqubit_cX_gate\n",
    "Puerta CNOT, CX o control-X\n",
    "::::\n"
   ]
  },
  {
   "cell_type": "markdown",
   "id": "080fe82e",
   "metadata": {},
   "source": [
    "::::::{admonition} Ejercicio\n",
    ":class: tip\n",
    "\n",
    "\n",
    "El estado factorizable más general de dos cúbits es ($a$ es la normalización)\n",
    "\\begin{equation}\n",
    "\\ket{\\psi} = a \\left(\\ket{0} + b_1 e^{i\\phi_1}\\ket{1} \\rp \\lp \\ket{0} + b_0 e^{i\\phi_0} \\ket{1} \\right)\n",
    "\\end{equation}\n",
    "Escribe la condición más general que deben satisfacer  $b_0,b_1,\\phi_0$ y $\\phi_1$ para que CNOT$\\ket{\\psi}$\n",
    "sea un vector entrelazado. Nota: aplicar que, para que un estado sea entrelazado, el determinante de los coefientes es cero.\n",
    "::::::\n",
    "\n\n"
   ]
  },
  {
   "cell_type": "markdown",
   "id": "080fe82e",
   "metadata": {},
   "source": [
    "::::::{admonition} Nota (CNOT en Qiskit) \n",
    ":class: note\n",
    "\n",
    "\n",
    "\n",
    "La puerta CNOT en qiskit aparece invertida con respecto a la que dibujamos en la Fig.  {numref}`%s <Fig_multiqubit_cX_gate>`. Ello se debe a que qiskit ordena\n",
    "los qubits en $\\ket{q_1 \\, q_0}$ poniendo el asociado al bit menos relevante $q_0$ arriba.\n",
    "\n",
    "Cuando en un circuito en Qiskit aparece una puerta como la de ls Fig.  {numref}`%s <Fig_multiqubit_cX_gate>` (con el control en el qubit de arriba y aplicándose sobre el de abajo), como Qískit pone arriba el\n",
    "bit menos significativos en realidad lo que tenemos en <i>una CNOT donde el qubit de control es el segundo</i>, es decir\n",
    "\\begin{equation}\n",
    "\\hbox{CNOT} = \\cg{X} ~=~ I \\otimes \\ket{0}\\bra{0} + X \\otimes \\ket{1}\\bra{1}\n",
    "~=~ \\begin{bmatrix} 1 & 0 & 0 & 0 \\\\ 0 & 0 & 0 & 1 \\\\ 0 & 0 & 1 & 0 \\\\ 0 & 1 & 0 & 0\\end{bmatrix}\n",
    "\\end{equation}\n",
    "::::::\n"
   ]
  },
  {
   "cell_type": "markdown",
   "id": "080fe82e",
   "metadata": {},
   "source": [
    "::::::{admonition} Jupyter Notebook ([Circuitos multiqubit](https://www.scbi.uma.es/web/wp-content/uploads/Jupyterbook/CICC_UMA/Notebooks/html/docs/Part_01/Chapter_03-Circuitos_Multiqubits_myst.html) \n",
    ":class: attention\n",
    "\n",
    "\n",
    "\n",
    "En las secciones [4.1 Circuitos de dos qubits con una CNOT](https://www.scbi.uma.es/web/wp-content/uploads/Jupyterbook/CICC_UMA/Notebooks/html/docs/Part_01/Chapter_04-Circuitos_Multiqubits_myst.html#circuitos-de-dos-qubits-con-una-cnot) y [4.2. Entrelazamiento: Crear estados entrelazados con la CNOT y la $H$](https://www.scbi.uma.es/web/wp-content/uploads/Jupyterbook/CICC_UMA/Notebooks/html/docs/Part_01/Chapter_04-Circuitos_Multiqubits_myst.html#entrelazamiento-crear-estados-entrelazados-con-la-cnot-y-la-h) del notebook [Circuitos multiqubit](https://www.scbi.uma.es/web/wp-content/uploads/Jupyterbook/CICC_UMA/Notebooks/html/docs/Part_01/Chapter_04-Circuitos_Multiqubits_myst.html) pueden verse ejemplos de CNOTs y como crear entrelazamiento con ellas.\n",
    "\n",
    "El Notebook puede descargarse de [Github](https://github.com/davidcb98/CICC_UMA/blob/master/Notebooks/Part_01/Chapter_04-Circuitos_Multiqubits.ipynb).\n",
    "::::::\n"
   ]
  },
  {
   "cell_type": "markdown",
   "id": "080fe82e",
   "metadata": {},
   "source": [
    "## Control-SWAP\n"
   ]
  },
  {
   "cell_type": "markdown",
   "id": "080fe82e",
   "metadata": {},
   "source": [
    "Si el qubit  de control está en  el estado $\\ket{1}$ los dos controlados se intercambian.\n",
    "```{math}\n",
    ":label: Fig_multiqubit_CSWAP_gate \n",
    "\\begin{equation} \n",
    "\\boxed{U_{\\rm CSWAP} =\\ket{0}\\bra{0} \\otimes I_4 + \\ket{1}\\bra{1} \\otimes U_{\\rm SWAP}} \\, .\n",
    "\\end{equation} \n",
    "```\n",
    "Podemos verla en la Fig.  {numref}`%s <Fig_multiqubit_CSWAP_gate>`.\n",
    "::::{figure} Figuras/Fig_multiqubit_CSWAP_gate.png\n",
    ":width: 130px\n",
    ":align: center\n",
    ":name: Fig_multiqubit_CSWAP_gate\n",
    "Puerta CSWAP\n",
    "::::\n"
   ]
  },
  {
   "cell_type": "markdown",
   "id": "080fe82e",
   "metadata": {},
   "source": [
    "::::::{admonition} Jupyter Notebook ([Circuitos multiqubit](https://www.scbi.uma.es/web/wp-content/uploads/Jupyterbook/CICC_UMA/Notebooks/html/docs/Part_01/Chapter_04-Circuitos_Multiqubits_myst.html) \n",
    ":class: attention\n",
    "\n",
    "\n",
    "\n",
    "En las secciones [4.3. Puerta Swap](https://www.scbi.uma.es/web/wp-content/uploads/Jupyterbook/CICC_UMA/Notebooks/html/docs/Part_01/Chapter_04-Circuitos_Multiqubits_myst.html#puerta-swap) y  [4.4. Puerta CSWAP](https://www.scbi.uma.es/web/wp-content/uploads/Jupyterbook/CICC_UMA/Notebooks/html/docs/Part_01/Chapter_04-Circuitos_Multiqubits_myst.html#puerta-cswap) y  del notebook [Circuitos multiqubit](https://www.scbi.uma.es/web/wp-content/uploads/Jupyterbook/CICC_UMA/Notebooks/html/docs/Part_01/Chapter_04-Circuitos_Multiqubits_myst.html) pueden verse ejemplos de SWAPs y CSWAPs\n",
    "\n",
    "El Notebook puede descargarse de [Github](https://github.com/davidcb98/CICC_UMA/blob/master/Notebooks/Part_01/Chapter_04-Circuitos_Multiqubits.ipynb).\n",
    "::::::\n"
   ]
  },
  {
   "cell_type": "markdown",
   "id": "8534e04c",
   "metadata": {},
   "source": [
    "::::{figure} https://quantumspain-project.es/wp-content/uploads/2022/11/Logo_QS_EspanaDigital.png\n",
    ":width: 2000px\n",
    ":align: center\n",
    "::::\n",
    "\n",
    "<center>\n",
    "<img align=\"left\" src=\"https://quantumspain-project.es/wp-content/uploads/2024/02/Banner-QS_GOB_v2.png\" width=\"1000px\" />\n",
    "</center>"
   ]
  }
 ],
 "metadata": {
  "kernelspec": {
   "display_name": "Python 3 (ipykernel)",
   "language": "python",
   "name": "python3"
  },
  "language_info": {
   "codemirror_mode": {
    "name": "ipython",
    "version": 3
   },
   "file_extension": ".py",
   "mimetype": "text/x-python",
   "name": "python",
   "nbconvert_exporter": "python",
   "pygments_lexer": "ipython3",
   "version": "3.11.7"
  },
  "toc": {
   "base_numbering": 1,
   "nav_menu": {},
   "number_sections": false,
   "sideBar": true,
   "skip_h1_title": true,
   "title_cell": "Table of Contents",
   "title_sidebar": "Contents",
   "toc_cell": false,
   "toc_position": {},
   "toc_section_display": true,
   "toc_window_display": false
  }
 },
 "nbformat": 4,
 "nbformat_minor": 5
}
