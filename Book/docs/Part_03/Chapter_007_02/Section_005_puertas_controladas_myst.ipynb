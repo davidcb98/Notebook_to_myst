{
 "cells": [
  {
   "cell_type": "markdown",
   "id": "8ddaeb38",
   "metadata": {},
   "source": [
    "> {sub-ref}`today` | {sub-ref}`wordcount-minutes` min read\n",
    "\n",
    "::::{figure} Figuras/Fig_logo_UMA_scbi.png\n",
    ":width: 2000px\n",
    ":align: center\n",
    "::::\n",
    "\n",
    "$ \\newcommand{\\bra}[1]{\\langle #1|} $\n",
    "$ \\newcommand{\\ket}[1]{|#1\\rangle} $\n",
    "$ \\newcommand{\\branew}[1]{\\langle #1|} $\n",
    "$ \\newcommand{\\ketnew}[1]{\\langle #1|} $\n",
    "$ \\newcommand{\\braket}[2]{\\langle #1|#2\\rangle} $\n",
    "$ \\newcommand{\\ketbra}[2]{| #1\\rangle \\langle #2 |} $\n",
    "$ \\newcommand{\\i}{{\\color{blue} i}} $ \n",
    "$ \\newcommand{\\Hil}{{\\cal H}} $\n",
    "$ \\newcommand{\\cg}[1]{{\\rm C}#1} $\n",
    "$ \\newcommand{\\lp}{\\left(} $\n",
    "$ \\newcommand{\\rp}{\\right)} $\n",
    "$ \\newcommand{\\lc}{\\left[} $\n",
    "$ \\newcommand{\\rc}{\\right]} $\n",
    "$ \\newcommand{\\lch}{\\left\\{} $\n",
    "$ \\newcommand{\\rch}{\\right\\}} $\n",
    "$ \\newcommand{\\Lp}{\\Bigl(} $\n",
    "$ \\newcommand{\\Rp}{\\Bigr)} $\n",
    "$ \\newcommand{\\Lc}{\\Bigl[} $\n",
    "$ \\newcommand{\\Rc}{\\Bigr]} $\n",
    "$ \\newcommand{\\Lch}{\\Bigl\\{} $\n",
    "$ \\newcommand{\\Rch}{\\Bigr\\}} $\n",
    "$ \\newcommand{\\rqa}{\\quad \\Rightarrow \\quad} $\n",
    "$ \\newcommand{\\bm}{\\boldsymbol}$"
   ]
  },
  {
   "cell_type": "markdown",
   "id": "080fe82e",
   "metadata": {},
   "source": [
    "# Puertas controladas\n"
   ]
  },
  {
   "cell_type": "markdown",
   "id": "080fe82e",
   "metadata": {},
   "source": [
    "En las puertas controladas, un operador se aplica sobre un qúbit dependiendo del estado en el que se encuentra otro. Este segundo qúbit se denomina <b>controlador</b>, mientras que el primero es el <b>controlado</b>. Las puertas controladas son eficientes para generar entrelazamiento.\n",
    "La puerta controlada  se representa como sigue\n",
    "\\begin{equation}\n",
    "\\boxed{\\cg{U} = \\ket{0}\\bra{0}\\otimes I + \\ket{1}\\bra{1}\\otimes U}\n",
    "\\end{equation}\n",
    "donde $U$ es un operador unitario de 1-qúbit general. Si por el primer qúbit (el controlador)\n",
    "\n",
    " \n- entra $\\ket{0}$, sale $\\ket{0}$ y en el segundo cúbit (controlado) no se hace nada (se aplica $I$).\n",
    " \n- entra $\\ket{1}$, sale $\\ket{1}$ y en el segundo cúbit (controlado) se aplica el operador $U$.\n",
    "\n",
    "La <b>representación matricial</b> de $CU$ es fácil de obtener como suma de  <b>productos de Kronecker</b>\n",
    "\\begin{equation}\n",
    "\\cg{U} = \\begin{bmatrix}1 & 0 \\\\ 0 & 0 \\end{bmatrix}\\otimes  I +  \\begin{bmatrix}0 & 0 \\\\ 0 & 1 \\end{bmatrix} \\otimes U\n",
    "= \\begin{bmatrix} 1\\times I & 0 \\\\ 0 & 0 \\end{bmatrix}  +\n",
    "\\begin{bmatrix} 0 & 0 \\\\ 0 & 1\\times U \\end{bmatrix} = \\begin{bmatrix}   I & 0 \\\\ 0 &   U \\end{bmatrix} =\n",
    "\\begin{bmatrix} 1 & 0 & 0 & 0 \\\\ 0 & 1 & 0 & 0 \\\\ 0 & 0 & U_{11} & U_{12} \\\\\n",
    "0 & 0 & U_{21} & U_{22}\\end{bmatrix}\n",
    "\\end{equation}\n"
   ]
  },
  {
   "cell_type": "markdown",
   "id": "080fe82e",
   "metadata": {},
   "source": [
    "::::::{admonition} Nota (Las puertas controladas son unitarias) \n",
    ":class: note\n",
    "\n",
    "\n",
    "\n",
    "Escrito de esta manera es evidente que, si $U$ es una matriz unitaria, $\\cg{U}$ también lo es\n",
    "$~\\Rightarrow (\\cg{U})^\\dagger \\cg{U} = I$. Esto no es algo trivial ya que la combinación lineal de operadores\n",
    "unitarios, en general, no es  unitaria.\n",
    "::::::\n"
   ]
  },
  {
   "cell_type": "markdown",
   "id": "080fe82e",
   "metadata": {},
   "source": [
    "La acción de $\\cg{U}$ sobre elementos de la base $\\{\\ket{x}\\}$ donde $x=0,1$ admite una forma compacta\n",
    "\\begin{equation}\n",
    "\\boxed{\\cg{U}:\\ket{x}\\otimes\\ket{y}  \\rightarrow \\ket{x} \\otimes U^x\\ket{y}}\n",
    "\\end{equation}\n",
    "Podemos ver la representación gráfica asociada al operador $\\cg{U}$ en la Fíg. \\ref{Fig_multiqubit_cU_gate}\n"
   ]
  },
  {
   "cell_type": "markdown",
   "id": "080fe82e",
   "metadata": {},
   "source": [
    "::::{figure} Figuras/Fig_multiqubit_cU_gate\n",
    "\n",
    ":width: 250px\n",
    ":align: center\n",
    "Puerta controlada\n",
    ":name: Fig_multiqubit_cU_gate\n",
    "::::\n"
   ]
  },
  {
   "cell_type": "markdown",
   "id": "080fe82e",
   "metadata": {},
   "source": [
    "::::::{admonition} Ejercicio\n",
    ":class: tip\n",
    "\n",
    "\n",
    "Escribe un operador controlado y las matrices asociadas cuando\n",
    "\n",
    " \n- el qúbit de control es el segundo sobre el primero.\n",
    " \n- el operador $U$ se aplica sobre el segundo cúbit, si el estado del primero es $\\ket{0}$.\n",
    "\n",
    "::::::\n",
    "\n\n"
   ]
  },
  {
   "cell_type": "markdown",
   "id": "080fe82e",
   "metadata": {},
   "source": [
    "Operadores como éste existen en circuitos clásicos. La fascinante novedad es que, ahora, por el primer qúbit podría circular una superposición $a\\ket{0} + b\\ket{1}$. En estos casos, se efectuarían virtualmente las dos operaciones. El resultado de una acción controlada también conduce a una superposición, de forma tal que <b>se genera entrelazamiento</b>.\n"
   ]
  },
  {
   "cell_type": "markdown",
   "id": "080fe82e",
   "metadata": {},
   "source": [
    "Para verlo, hagamos actuar $\\cg{U}$ sobre un estado de la forma  $\\ket{\\phi} = (a\\ket{0} + b\\ket{1})\\otimes \\ket{v}$, que es <b>factorizable</b>\n",
    "\\begin{align*}\n",
    "\\cg{U}\\,\\Lc (a\\ket{0} +b \\ket{1})\\otimes \\ket{v} \\Rc\n",
    "& = \\left(\\ket{0}\\bra{0}\\otimes I + \\ket{1}\\bra{1}\\otimes U\\rule{0mm}{4mm}\\right) \\Lc (a\\ket{0} +b \\ket{1})\\otimes \\ket{v} \\Rc \\\\ \\rule{0mm}{5mm}\n",
    "& = a\\ket{0}\\otimes \\ket{v} + b\\ket{1}\\otimes U\\ket{v}\n",
    "\\end{align*}\n",
    "Vemos que, efectivamente, el resultado es un estado entrelazado. Podemos ver esto en la Fig. \\ref{Fig_multiqúbit_entangling_CU_circuit}.\n"
   ]
  },
  {
   "cell_type": "markdown",
   "id": "080fe82e",
   "metadata": {},
   "source": [
    "::::{figure} Figuras/Fig_multiqúbit_entangling_CU_circuit\n",
    "\n",
    ":width: 500px\n",
    ":align: center\n",
    "Entrelazamiento a partir de una puerta controlada.\n",
    ":name: Fig_multiqúbit_entangling_CU_circuit\n",
    "::::\n"
   ]
  },
  {
   "cell_type": "markdown",
   "id": "080fe82e",
   "metadata": {},
   "source": [
    "## CNOT\n"
   ]
  },
  {
   "cell_type": "markdown",
   "id": "080fe82e",
   "metadata": {},
   "source": [
    "El caso más frecuente de una puerta binaria controlada es la puerta CNOT = $\\cg{X}$\n",
    "```{math}\n",
    ":label: ec_multiqubit_CNOT \n",
    "\\begin{equation} \n",
    "\\boxed{\\hbox{CNOT} = \\cg{X} ~=~ \\ket{0}\\bra{0}\\otimes I + \\ket{1}\\bra{1}\\otimes X }\n",
    "~=~ \\begin{bmatrix} 1 & 0 & 0 & 0 \\\\ 0 & 1 & 0 & 0 \\\\ 0 & 0 & 0 & 1 \\\\ 0 & 0 & 1 & 0\\end{bmatrix}\n",
    "\\end{equation} \n",
    "```\n",
    "Sobre elementos de la base computacional $\\ket{xy}=\\ket{x}\\otimes\\ket{y}$ donde $\\, x,y= 0,1$, su acción  se puede representar de manera compacta usando la suma módulo dos\n",
    "```{math}\n",
    ":label: ec_multiqubit_CNOT_compu \n",
    "\\begin{equation} \n",
    "\\boxed{\\cg{X}:\\ket{x}\\otimes\\ket{y} \\rightarrow \\ket{x} \\otimes X^x\\ket{y} = \\ket{x} \\otimes \\ket{y\\oplus x}}\n",
    "\\end{equation} \n",
    "```\n",
    "Podemos ver la representación gráfica asociada al operador CNOT en la Fíg. \\ref{Fig_multiqubit_cX_gate}\n",
    "::::{figure} Figuras/Fig_multiqubit_cX_gate\n",
    "\n",
    ":width: 250px\n",
    ":align: center\n",
    "Puerta CNOT, CX o control-X\n",
    ":name: Fig_multiqubit_cX_gate\n",
    "::::\n"
   ]
  },
  {
   "cell_type": "markdown",
   "id": "080fe82e",
   "metadata": {},
   "source": [
    "::::::{admonition} Ejercicio\n",
    ":class: tip\n",
    "\n",
    "\n",
    "El estado factorizable más general de dos cúbits es ($a$ es la normalización)\n",
    "\\begin{equation}\n",
    "\\ket{\\psi} = a \\left(\\ket{0} + b_1 e^{i\\phi_1}\\ket{1} \\rp \\lp \\ket{0} + b_0 e^{i\\phi_0} \\ket{1} \\right)\n",
    "\\end{equation}\n",
    "Escribe la condición más general que deben satisfacer  $b_0,b_1,\\phi_0$ y $\\phi_1$ para que CNOT$\\ket{\\psi}$\n",
    "sea un vector entrelazado. Nota: aplicar que para que un estado sea entrelazado el determinante de los coefientes es cero.\n",
    "::::::\n",
    "\n\n"
   ]
  },
  {
   "cell_type": "markdown",
   "id": "080fe82e",
   "metadata": {},
   "source": [
    "::::::{admonition} Nota (CNOT en Qiskit) \n",
    ":class: note\n",
    "\n",
    "\n",
    "\n",
    "La puerta CNOT en qiskit aparece invertida con respecto a la que dibujamos en la Fig. \\ref{Fig_multiqubit_cX_gate}. Ello se debe a que qiskit ordena\n",
    "los qubits en $\\ket{q_1 \\, q_0}$ poniendo el asociado al bit menos relevante $q_0$ arriba.\n",
    "\n",
    "Cuando en un circuito en Qiskit aparece una puerta como la de ls Fig. \\ref{Fig_multiqubit_cX_gate} (con el control en el qúbit de arriba y aplicándose sobre el de abajo), como Qískit pone arriba el\n",
    "bit menos significativos en realidad lo que tenemos en <i>una CNOT donde el qúbit de control es el segundo</i>, es decir\n",
    "\\begin{equation}\n",
    "\\hbox{CNOT} = \\cg{X} ~=~ I \\otimes \\ket{0}\\bra{0} + X \\otimes \\ket{1}\\bra{1}\n",
    "~=~ \\begin{bmatrix} 1 & 0 & 0 & 0 \\\\ 0 & 0 & 0 & 1 \\\\ 0 & 0 & 1 & 0 \\\\ 0 & 1 & 0 & 0\\end{bmatrix}\n",
    "\\end{equation}\n",
    "::::::\n"
   ]
  },
  {
   "cell_type": "markdown",
   "id": "080fe82e",
   "metadata": {},
   "source": [
    "\\begin{mybox_orange}{Jypyter Notebook: 03-Circuitos\\_multiqubit secciones 1.1 y 1.2}\n",
    "En las secciones 1.1 y 1.2 del notebook <b>03-Circuitos\\_multiqubit</b> pueden verse ejemplos de CNOTs y como crear entrelazamiento con ellas.\n",
    "\\end{mybox_orange}\n"
   ]
  },
  {
   "cell_type": "markdown",
   "id": "080fe82e",
   "metadata": {},
   "source": [
    "## Control-SWAP\n"
   ]
  },
  {
   "cell_type": "markdown",
   "id": "080fe82e",
   "metadata": {},
   "source": [
    "Si el qúbit  de control está en  el estado $\\ket{1}$ los dos controlados se intercambian.\n",
    "```{math}\n",
    ":label: Fig_multiqubit_CSWAP_gate \n",
    "\\begin{equation} \n",
    "\\boxed{U_{\\rm CSWAP} =\\ket{0}\\bra{0} \\otimes I_4 + \\ket{1}\\bra{1} \\otimes U_{\\rm SWAP}} \\, .\n",
    "\\end{equation} \n",
    "```\n",
    "Podemos verla en la Fig. \\ref{Fig_multiqubit_CSWAP_gate}.\n",
    "::::{figure} Figuras/Fig_multiqubit_CSWAP_gate\n",
    "\n",
    ":width: 130px\n",
    ":align: center\n",
    "Puerta CSWAP\n",
    ":name: Fig_multiqubit_CSWAP_gate\n",
    "::::\n"
   ]
  },
  {
   "cell_type": "markdown",
   "id": "080fe82e",
   "metadata": {},
   "source": [
    "\\begin{mybox_orange}{Jypyter Notebook: 03-Circuitos\\_multiqubit secciones 1.3 y 1.4}\n",
    "En las secciones 1.3 y 1.4 del notebook <b>03-Circuitos\\_multiqubit</b> pueden verse ejemplos de SWAPs y CSWAPs\n",
    "\\end{mybox_orange}\n"
   ]
  },
  {
   "cell_type": "markdown",
   "id": "8534e04c",
   "metadata": {},
   "source": [
    "::::{figure} https://quantumspain-project.es/wp-content/uploads/2022/11/Logo_QS_EspanaDigital.png\n",
    ":width: 2000px\n",
    ":align: center\n",
    "::::\n",
    "\n",
    "<center>\n",
    "<img align=\"left\" src=\"https://quantumspain-project.es/wp-content/uploads/2024/02/Banner-QS_GOB_v2.png\" width=\"1000px\" />\n",
    "</center>"
   ]
  }
 ],
 "metadata": {
  "kernelspec": {
   "display_name": "Python 3 (ipykernel)",
   "language": "python",
   "name": "python3"
  },
  "language_info": {
   "codemirror_mode": {
    "name": "ipython",
    "version": 3
   },
   "file_extension": ".py",
   "mimetype": "text/x-python",
   "name": "python",
   "nbconvert_exporter": "python",
   "pygments_lexer": "ipython3",
   "version": "3.11.7"
  },
  "toc": {
   "base_numbering": 1,
   "nav_menu": {},
   "number_sections": false,
   "sideBar": true,
   "skip_h1_title": true,
   "title_cell": "Table of Contents",
   "title_sidebar": "Contents",
   "toc_cell": false,
   "toc_position": {},
   "toc_section_display": true,
   "toc_window_display": false
  }
 },
 "nbformat": 4,
 "nbformat_minor": 5
}
