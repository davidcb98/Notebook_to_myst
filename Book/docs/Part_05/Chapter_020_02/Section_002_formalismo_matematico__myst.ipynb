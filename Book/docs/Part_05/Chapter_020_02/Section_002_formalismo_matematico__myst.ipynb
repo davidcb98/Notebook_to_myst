{
 "cells": [
  {
   "cell_type": "markdown",
   "id": "8ddaeb38",
   "metadata": {},
   "source": [
    "> {sub-ref}`today` | {sub-ref}`wordcount-minutes` min read\n",
    "\n",
    "<img src=\"Figuras/Fig_logo_UMA_scbi.png\" align=center  width=\"2000px\"/>\n",
    "\n",
    "\n",
    "<a href=\"https://www.scbi.uma.es/web/es/computacion-cuantica/\">\n",
    "    <button class=\"rounded\" style=\"float: right;\">\n",
    "    <svg xmlns=\"http://www.w3.org/2000/svg\" width=\"32\" height=\"32\" viewBox=\"0 0 24 24\">\n",
    "        <path fill=\"var(--fill, white)\"\n",
    "        d=\"M18.1 15.3c-.1.1-.3.2-.4.3l-2.4.4l1.7 3.6c.2.4 0 .8-.4\n",
    "            1l-2.8 1.3c-.1.1-.2.1-.3.1c-.3 0-.6-.2-.7-.4L11.2\n",
    "            18l-1.9 1.5c-.1.1-.3.2-.5.2c-.4 0-.8-.3-.8-.8V7.5c0-.5.3-.8.8-.8c.2 0\n",
    "            .4.1.5.2l8.7 7.4c.3.2.4.7.1 1M6 12H4V4h16v8h-1.6l2.2 1.9c.8-.3 1.3-1\n",
    "            1.3-1.9V4c0-1.1-.9-2-2-2H4c-1.1 0-2 .9-2 2v8c0 1.1.9 2 2 2h2z\" />\n",
    "    </svg>\n",
    "    Volver a SCBI - Computación Cuantica\n",
    "    </button>\n",
    "</a>\n",
    "\n",
    "$ \\newcommand{\\bra}[1]{\\langle #1|} $\n",
    "$ \\newcommand{\\ket}[1]{|#1\\rangle} $\n",
    "$ \\newcommand{\\branew}[1]{\\langle #1|} $\n",
    "$ \\newcommand{\\ketnew}[1]{\\langle #1|} $\n",
    "$ \\newcommand{\\braket}[2]{\\langle #1|#2\\rangle} $\n",
    "$ \\newcommand{\\ketbra}[2]{| #1\\rangle \\langle #2 |} $\n",
    "$ \\newcommand{\\i}{{\\color{blue} i}} $ \n",
    "$ \\newcommand{\\Hil}{{\\cal H}} $\n",
    "$ \\newcommand{\\cg}[1]{{\\rm C}#1} $\n",
    "$ \\newcommand{\\lp}{\\left(} $\n",
    "$ \\newcommand{\\rp}{\\right)} $\n",
    "$ \\newcommand{\\lc}{\\left[} $\n",
    "$ \\newcommand{\\rc}{\\right]} $\n",
    "$ \\newcommand{\\lch}{\\left\\{} $\n",
    "$ \\newcommand{\\rch}{\\right\\}} $\n",
    "$ \\newcommand{\\Lp}{\\Bigl(} $\n",
    "$ \\newcommand{\\Rp}{\\Bigr)} $\n",
    "$ \\newcommand{\\Lc}{\\Bigl[} $\n",
    "$ \\newcommand{\\Rc}{\\Bigr]} $\n",
    "$ \\newcommand{\\Lch}{\\Bigl\\{} $\n",
    "$ \\newcommand{\\Rch}{\\Bigr\\}} $\n",
    "$ \\newcommand{\\rqa}{\\quad \\Rightarrow \\quad} $\n",
    "$ \\newcommand{\\bm}{\\boldsymbol}$"
   ]
  },
  {
   "cell_type": "markdown",
   "id": "080fe82e",
   "metadata": {},
   "source": [
    "\n",
    "(sec_Formalismo)= \n",
    "# Formalismo matemático \n"
   ]
  },
  {
   "cell_type": "markdown",
   "id": "080fe82e",
   "metadata": {},
   "source": [
    "Veamos un poco el formalismo matemático detrás de las afirmaciones de la sección anterior.\n"
   ]
  },
  {
   "cell_type": "markdown",
   "id": "080fe82e",
   "metadata": {},
   "source": [
    "## Periodicidad de $f(x)$\n"
   ]
  },
  {
   "cell_type": "markdown",
   "id": "080fe82e",
   "metadata": {},
   "source": [
    "Demostrar que, dada la condición gcd$(a,N) = 1$, la función $f(x) = a^x (\\text{mod} N)$ es periódica no es fácil, pues se necesitan plantear varios teoremas y la explicación se hace árida (puede verse el Appendix 4 de {cite}`bib_nielsen`). Aquí vamos a ver una explicación más simple partiendo del siguiente resultado (sin demostrarlos):\n"
   ]
  },
  {
   "cell_type": "markdown",
   "id": "080fe82e",
   "metadata": {},
   "source": [
    "::::::{prf:lemma} \n",
    "\n",
    "\n",
    "Dada la función $f(x) = a^x (\\text{mod} N)$, si se cumple que gcd$(a,N) = 1$, tenemos que para algún valor entero $z>0$ se cumple $f(z) = a^z (\\text{mod} N) = 1$.\n",
    "::::::\n",
    "\n\n"
   ]
  },
  {
   "cell_type": "markdown",
   "id": "080fe82e",
   "metadata": {},
   "source": [
    "Vemos a ver ahora que este valor $z>0$ para el cual se cumple $f(z) = a^z (\\text{mod} N) = 1$ será el periodo de la función. Denominaremos a este valor $r$, es decir, $r$ será el primer valor (mayor que cero) para el cual se cumple $f(r) = 1$. Tenemos que\n",
    "\\begin{equation}\n",
    "a^0 =1 \\rightarrow f(0) = a^0 (\\text{ mod} N) = 1 = a^r (\\text{ mod} N) = f(r).\n",
    "\\end{equation}\n",
    "En el momento en el que llegamos a un exponente $r$ tal que $a^r (\\text{ mod} N) = 1$ podemos pues escribir\n",
    "\\begin{equation}\n",
    "a^r = \\alpha N + 1\n",
    "\\end{equation}\n",
    "con lo cual\n",
    "\\begin{equation}\n",
    "\\begin{aligned}\n",
    "f(r+z) & = a^{r+z} (\\text{ mod} N)   = a^r a^z (\\text{ mod} N) = (\\alpha N + 1)a^z (\\text{ mod} N) = \\\\\n",
    "& = \\alpha N a^z (\\text{ mod} N) + a^z (\\text{ mod} N)  = a^z (\\text{ mod} N) = f(z)\n",
    "\\end{aligned}\n",
    "\\end{equation}\n"
   ]
  },
  {
   "cell_type": "markdown",
   "id": "080fe82e",
   "metadata": {},
   "source": [
    "Hemos visto pues que $f(x)$ es periódica.\n"
   ]
  },
  {
   "cell_type": "markdown",
   "id": "080fe82e",
   "metadata": {},
   "source": [
    "\n",
    "(sec_factores)= \n",
    "## Factores de $N$ a partir del periodo $r$ \n"
   ]
  },
  {
   "cell_type": "markdown",
   "id": "080fe82e",
   "metadata": {},
   "source": [
    "El problema de la factorización de números en un ordenador clásico resulta ser equivalente a otro problema, el de la búsqueda del periodo. Esta equivalencia es importante, ya que resulta que los ordenadores cuánticos son capaces de resolver rápidamente el problema de búsqueda de orden y, por tanto, pueden factorizar rápidamente. En esta sección explicamos la equivalencia entre estos dos problemas, centrándonos en la reducción de la factorización a la búsqueda de órdenes.\n"
   ]
  },
  {
   "cell_type": "markdown",
   "id": "080fe82e",
   "metadata": {},
   "source": [
    "::::::{admonition} Nota (Relación entre $z$ y $a$ I.) \n",
    ":class: note\n",
    "\n",
    "\n",
    "\n",
    "En esta sección empezaremos haciendo unas demostraciones generales usando $z$ en vez de $a^r$. Después, vemos la relación entre el $z$ de cada demostración y el $a^r$ de nuestro problema.\n",
    "\n",
    "Porqué usamos un valor genérico $z$ y no nuestro valor concreto $a^r$? Pues porque las demostraciones deben de ser genéricas.\n",
    "::::::\n"
   ]
  },
  {
   "cell_type": "markdown",
   "id": "080fe82e",
   "metadata": {},
   "source": [
    "Supongamos que:\n",
    "\n",
    " \n- $N$ es un entero positivo\n",
    " \n- $z$ es coprimo con $N$\n",
    " \n- $1 \\leq z < N$\n",
    "\n",
    "El <i>orden</i> (o periodo) de $z$ modulo $N$ se define como el entero positivo $r$ más pequeño que cumple\n",
    "\\begin{equation}\n",
    "z^r (\\text{mod} N) = 1\n",
    "\\end{equation}\n",
    "El problema de busqueda del periodo (orden) consiste en determinar $r$ dados $z$ y $N$.\n"
   ]
  },
  {
   "cell_type": "markdown",
   "id": "080fe82e",
   "metadata": {},
   "source": [
    "La reducción de la factorización a la búsqueda del periodo se realiza en dos pasos:\n",
    "\n",
    " \n1. El primer paso es demostrar que podemos calcular un factor de $N$ si podemos encontrar una solución no trivial $z(\\text{mod }N) \\neq \\pm 1 $ a la ecuación $z^2 (\\text{mod }N) = 1$.\n",
    " \n2. El segundo paso consiste en mostrar que, al elegir al azar un $y \\in [1,N-1]$  que sea coprimo con $N$, la probabilidad de que la función $f(x) = y^x (\\text{mod} N)$ tenga un periodo par $r$ y se cumpla $y^{r/2} (\\text{mod }N) \\neq 1$ es alta. (Es decir, que se cumpla que $z \\equiv y^{r/2}  (\\text{mod }N)$ sea solución no trivial de $z^2 (\\text{mod }N) = 1$).\n",
    "\n"
   ]
  },
  {
   "cell_type": "markdown",
   "id": "080fe82e",
   "metadata": {},
   "source": [
    "::::::{admonition} Nota (Relación entre $z$ y $a$ II.) \n",
    ":class: note\n",
    "\n",
    "\n",
    "\n",
    "Viendo así las expresiones con $z$ e $y$ es un poco confuso ver a que nos referimos. Veamoslos en nuestro caso:\n",
    "\n",
    "\n1. Para el primer caso tenemos $z^2 = a^{r}$. Es decir, lo que nos dice es que vamos a demostrar que si tenemos un $a$ tal que $a^{r/2}$ no sea una solución trivial de\n",
    "    \\begin{equation*}\n",
    "    a^r (\\text{mod }N) = 1\n",
    "    \\end{equation*}\n",
    "    (es decir, que tengamos $a^{r/2} (\\text{mod }N) \\neq \\pm 1 $), entonces podremos hallar los factores de $N$. Fijémonos que debe de cumplirse que $r$ sea para para que $a^{r/2}$ sea entero.\n",
    "\n",
    "\n2. El segundo paso consiste en demostrar que si escogemos un valor $a \\in [1,N-1]$ al azar y que sea coprimo con $N$, entonces tenemos una alta probabilidad de que se cumplan las dos condiciones que del punto anterior:\n",
    "\n",
    "\n    - Que el periodo $r$ de la función $f(x) = a^x (\\text{mod} N)$ sea par\n",
    "\n    - Que $a^{r/2}$ no cumpla $a^{r/2} (\\text{mod }N) \\neq \\pm 1 $\n",
    "\n",
    "\n",
    "::::::\n"
   ]
  },
  {
   "cell_type": "markdown",
   "id": "080fe82e",
   "metadata": {},
   "source": [
    "Estos dos puntos se fundamentan en los siguientes teoremas:\n"
   ]
  },
  {
   "cell_type": "markdown",
   "id": "080fe82e",
   "metadata": {},
   "source": [
    "::::::{prf:theorem} Teorema 5.2 del Nielsen-Chuang\n",
    "\n",
    "\n",
    "Supongamos que $N$ es un número compuesto de $L$ bits, y $z$ es una solución no trivial de la ecuación $(z^2 = 1 \\text{ mod} N)$ en el rango $1 \\leq a \\leq N$, esto es,\n",
    "\n",
    "\n- ni $z (\\text{ mod} N) = 1 $,\n",
    "\n- ni $z (\\text{ mod} N) = -1 [= (N-1)(\\text{mod }N)] $.\n",
    "\n",
    "Entonces, uno de gcd$(z-1,N)$ y gcd$(z+1,N)$ es un factor no trivial de $N$ que se puede calcular usando $\\mathcal{O}(L^3)$ operaciones.\n",
    "::::::\n",
    "\n\n"
   ]
  },
  {
   "cell_type": "markdown",
   "id": "080fe82e",
   "metadata": {},
   "source": [
    "::::::::::{dropdown} Demostración\n",
    "Ya que $z^2 (\\text{ mod} N) = 1 \\rightarrow (z^2 -1) (\\text{ mod} N) = 0$, debe de cumplirse que $N$ divida a $(z^2-1) = (z+1)(z-1)$, con lo cual $N$ debe de tener un factor común con $(z+1)$ o con $(z-1)$. Como por suposición tenemos que $1 <  z < N-1$, de lo que se deduce que $z-1 < z+1 < N$, de lo cual podemos ver que el factor común no puede ser el propio $N$. Usando el Algoritmo de Euclides {cite}`bib_Euclides` podemos calcular gcd$(z-1)$ y gcd$(z+1)$, y con lo cual obtener un factor no trivial de $N$, usando $\\mathcal{O}$ operaciones.\n",
    "::::::::::\n"
   ]
  },
  {
   "cell_type": "markdown",
   "id": "080fe82e",
   "metadata": {},
   "source": [
    "::::::{prf:theorem} Teorema 5.3 del Nielsen-Chuang\n",
    "\n",
    "\n",
    "Supongamos $N = p^{\\alpha_1}_1 \\dots p^{\\alpha_m}_m $ es la descomposición en factores primos de un entero impar positivo. Sea $y$ un número entero elegido uniformemente al azar, sujeto a la restricción $1 \\leq y \\leq N-1$ y $y$ coprimo de $N$. Sea $r$ el periodo de $f(x) = y^x \\text{ mod} N$. Entonces\n",
    "```{math}\n",
    ":label: ec_shor_teorema_5_3_Nielsen_P \n",
    "\\begin{equation} \n",
    "p(y \\textnormal{ tal que } \\underline{r \\textnormal{ es par}} \\textnormal{ e } \\underline{y^{r/2} (\\textnormal{mod } N) \\neq - 1}) \\geq 1 - \\frac{1}{2^m} \\,.\n",
    "\\end{equation} \n",
    "```\n",
    "::::::\n",
    "\n\n"
   ]
  },
  {
   "cell_type": "markdown",
   "id": "080fe82e",
   "metadata": {},
   "source": [
    "::::::::::{dropdown} Demostración\n",
    "La demostración es compleja. Puede verse en el Apéndice A4.3 del Nielsen-Chuang {cite}`bib_nielsen_chuang_2010`.\n",
    "::::::::::\n"
   ]
  },
  {
   "cell_type": "markdown",
   "id": "080fe82e",
   "metadata": {},
   "source": [
    "La Ec.  {eq}`%s <ec_shor_teorema_5_3_Nielsen_P>` lo que nos dice es que la probabilidad de que $r$ sea par y que se cumpla $y^{r/2} \\text{ mod} N \\neq - 1$ es mayor que $1 - 1/2^m$.\n"
   ]
  },
  {
   "cell_type": "markdown",
   "id": "080fe82e",
   "metadata": {},
   "source": [
    "Las preguntas ahora son:\n",
    "\n",
    " \n- ¿Porque no se incluye aquí la condición $y^{r/2} (\\text{ mod} N) \\neq 1$?\n",
    "    La respuesta es que al decir que $r$ es el periodo de la función $f(x) = y^x \\text{ mod} N$, esta condición queda incluida. Veámoslo:\n",
    "\n",
    " \n    - Por una lado hemos dicho que $r$ es el menor número para el cual $y^r \\text{ mod} N = 1$\n",
    " \n    - Por otro lado tenemos $y^{r/2} (\\text{ mod} N) = 1$\n",
    "\n",
    "    Es evidente que no pueden ser las dos afirmaciones ciertas, pues si la segunda es cierta quiere decir que $r$ no es el periodo de la función, pues $r/2 < r$, contraviniendo la definición del periodo.\n",
    " \n- ¿Porqué imponemos la condición  $y^{r/2} (\\text{mod }N) \\neq - 1$?\n",
    "    Estamos diciendo todo el tiempo que no podemos encontrar los factores de $N$ si tenemos $y^{r/2} (\\text{mod }N) = -1$. ¿Porqué es esto? La respuesta es simple. Si tenemos $y^{r/2} (\\text{mod }N) = -1$:\n",
    "    \\begin{equation*}\n",
    "    y^{r/2} (\\text{mod }N) = 1 \\rqa (y^{r/2}+1) (\\text{mod }N) =0\n",
    "    \\end{equation*}\n",
    "    con lo que gcd$(y^{r/2}+1,N) = N$ y no podemos obtener ningún factor de $N$ a partir de $y^{r/2}+1$.\n",
    "\n"
   ]
  },
  {
   "cell_type": "markdown",
   "id": "080fe82e",
   "metadata": {},
   "source": [
    "::::::{admonition} Nota\n",
    ":class: note\n",
    "\n",
    "\n",
    "\n",
    "Para nuestro caso tenemos $m=2$ ($N=pq$) en la Ec.  {eq}`%s <ec_shor_teorema_5_3_Nielsen_P>` , así que la probabilidad escoger un $a$ válido es\n",
    "```{math}\n",
    ":label: ec_shor_teorema_5_3_Nielsen_P \n",
    "\\begin{equation} \n",
    "p(a \\textnormal{ tal que } \\underline{r \\textnormal{ es par}} \\textnormal{ y } \\underline{a^{r/2} (\\textnormal{mod } N) \\neq - 1}) \\geq \\frac{1}{2} \\,.\n",
    "\\end{equation} \n",
    "```\n",
    "\n",
    "Es decir, para nosotros $N=pq$. Como hemos impuesto que $y^{r/2} \\text{ mod} N \\neq - 1$ y hemos visto que $y^{r/2} \\text{ mod} N \\neq  1$ es imposible, la conclusión a la que llegamos es que:\n",
    "\\begin{equation}\n",
    "\\left.\n",
    "\\begin{matrix}\n",
    "&(a^{r/2}-1)(a^{r/2}+1) (\\text{mod }N) = 0 \\\\\n",
    "&(a^{r/2}-1) (\\text{mod }N)  \\neq 0 \\\\\n",
    "&(a^{r/2}+1) (\\text{mod }N)  \\neq 0\n",
    "\\end{matrix}\n",
    "\\right\\}\n",
    "\\rqa\n",
    "\\boxed{(a^{r/2}-1) = lp, \\qquad (a^{r/2}+1) = l^{'} q}\n",
    "\\end{equation}\n",
    "\n",
    "::::::\n"
   ]
  },
  {
   "cell_type": "markdown",
   "id": "080fe82e",
   "metadata": {},
   "source": [
    "Los teoremas 5.2 y 5.3 pueden combinarse para dar un algoritmo que, con alta probabilidad, devuelve un factor no trivial de cualquier numero no primo $N$. Todos los pasos del algoritmo pueden realizarse de forma eficiente en un ordenador clásico, excepto (por lo que se sabe hoy en día) una subrutina de búsqueda de periodo que utiliza el algoritmo. Repitiendo el procedimiento podemos encontrar una factorización prima completa de $N$.\n"
   ]
  },
  {
   "cell_type": "markdown",
   "id": "8534e04c",
   "metadata": {},
   "source": [
    "::::{figure} https://quantumspain-project.es/wp-content/uploads/2022/11/Logo_QS_EspanaDigital.png\n",
    ":width: 2000px\n",
    ":align: center\n",
    "::::\n",
    "\n",
    "<center>\n",
    "<img align=\"left\" src=\"https://quantumspain-project.es/wp-content/uploads/2024/02/Banner-QS_GOB_v2.png\" width=\"1000px\" />\n",
    "</center>"
   ]
  }
 ],
 "metadata": {
  "kernelspec": {
   "display_name": "Python 3 (ipykernel)",
   "language": "python",
   "name": "python3"
  },
  "language_info": {
   "codemirror_mode": {
    "name": "ipython",
    "version": 3
   },
   "file_extension": ".py",
   "mimetype": "text/x-python",
   "name": "python",
   "nbconvert_exporter": "python",
   "pygments_lexer": "ipython3",
   "version": "3.11.7"
  },
  "toc": {
   "base_numbering": 1,
   "nav_menu": {},
   "number_sections": false,
   "sideBar": true,
   "skip_h1_title": true,
   "title_cell": "Table of Contents",
   "title_sidebar": "Contents",
   "toc_cell": false,
   "toc_position": {},
   "toc_section_display": true,
   "toc_window_display": false
  }
 },
 "nbformat": 4,
 "nbformat_minor": 5
}
