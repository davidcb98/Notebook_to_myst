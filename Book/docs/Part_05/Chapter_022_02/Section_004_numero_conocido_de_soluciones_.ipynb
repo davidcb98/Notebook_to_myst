{
 "cells": [
  {
   "cell_type": "markdown",
   "id": "8ddaeb38",
   "metadata": {},
   "source": [
    "<img src=\"Figuras/Fig_logo_UMA_scbi.png\" align=center  width=\"2000px\"/>\n",
    "\n",
    "\n",
    "<a href=\"https://www.scbi.uma.es/web/es/computacion-cuantica/\">\n",
    "    <button class=\"rounded\" style=\"float: right;\">\n",
    "    <svg xmlns=\"http://www.w3.org/2000/svg\" width=\"32\" height=\"32\" viewBox=\"0 0 24 24\">\n",
    "        <path fill=\"var(--fill, white)\"\n",
    "        d=\"M18.1 15.3c-.1.1-.3.2-.4.3l-2.4.4l1.7 3.6c.2.4 0 .8-.4\n",
    "            1l-2.8 1.3c-.1.1-.2.1-.3.1c-.3 0-.6-.2-.7-.4L11.2\n",
    "            18l-1.9 1.5c-.1.1-.3.2-.5.2c-.4 0-.8-.3-.8-.8V7.5c0-.5.3-.8.8-.8c.2 0\n",
    "            .4.1.5.2l8.7 7.4c.3.2.4.7.1 1M6 12H4V4h16v8h-1.6l2.2 1.9c.8-.3 1.3-1\n",
    "            1.3-1.9V4c0-1.1-.9-2-2-2H4c-1.1 0-2 .9-2 2v8c0 1.1.9 2 2 2h2z\" />\n",
    "    </svg>\n",
    "    Volver a SCBI - Computación Cuantica\n",
    "    </button>\n",
    "</a>\n",
    "\n",
    "$ \\newcommand{\\bra}[1]{\\langle #1|} $\n",
    "$ \\newcommand{\\ket}[1]{|#1\\rangle} $\n",
    "$ \\newcommand{\\branew}[1]{\\langle #1|} $\n",
    "$ \\newcommand{\\ketnew}[1]{\\langle #1|} $\n",
    "$ \\newcommand{\\braket}[2]{\\langle #1|#2\\rangle} $\n",
    "$ \\newcommand{\\ketbra}[2]{| #1\\rangle \\langle #2 |} $\n",
    "$ \\newcommand{\\i}{{\\color{blue} i}} $ \n",
    "$ \\newcommand{\\Hil}{{\\cal H}} $\n",
    "$ \\newcommand{\\cg}[1]{{\\rm C}#1} $\n",
    "$ \\newcommand{\\lp}{\\left(} $\n",
    "$ \\newcommand{\\rp}{\\right)} $\n",
    "$ \\newcommand{\\lc}{\\left[} $\n",
    "$ \\newcommand{\\rc}{\\right]} $\n",
    "$ \\newcommand{\\lch}{\\left\\{} $\n",
    "$ \\newcommand{\\rch}{\\right\\}} $\n",
    "$ \\newcommand{\\Lp}{\\Bigl(} $\n",
    "$ \\newcommand{\\Rp}{\\Bigr)} $\n",
    "$ \\newcommand{\\Lc}{\\Bigl[} $\n",
    "$ \\newcommand{\\Rc}{\\Bigr]} $\n",
    "$ \\newcommand{\\Lch}{\\Bigl\\{} $\n",
    "$ \\newcommand{\\Rch}{\\Bigr\\}} $\n",
    "$ \\newcommand{\\rqa}{\\quad \\Rightarrow \\quad} $\n",
    "$ \\newcommand{\\bm}{\\boldsymbol}$"
   ]
  },
  {
   "cell_type": "markdown",
   "id": "080fe82e",
   "metadata": {},
   "source": [
    "\n",
    "<a id='sec_t-sols'></a>\n",
    "# Número conocido de soluciones. \n"
   ]
  },
  {
   "cell_type": "markdown",
   "id": "080fe82e",
   "metadata": {},
   "source": [
    "Vamos a empezar el análisis formal tratando el caso en el que <b>conocemos el número $\\bm M$ de soluciones</b> que hay en nuestro dataset. Es decir, tenemos $M$ valores diferentes $i$ que cumplen $L_i=x$. Denominemos $\\omega$ al conjunto de los $M$ valores $i$ que son solución, y denominemos $\\omega^\\perp$ al conjunto de los $N-M$ valores $i$ que no son solución\n",
    "\\begin{equation}\n",
    "\\begin{aligned}\n",
    "& \\boxed{\\omega = \\lch i | L_{i} = x \\rch }\n",
    "& \\boxed{\\omega^{\\perp} = \\lch i | L_{i} \\neq x \\rch}.\n",
    "\\end{aligned}\n",
    "\\end{equation}\n"
   ]
  },
  {
   "cell_type": "markdown",
   "id": "080fe82e",
   "metadata": {},
   "source": [
    "Supondremos también que <b>estamos en el caso en el que</b> $N = 2^n$ y que además partimos del estado de la Ec.  {eq}`%s <ec_geo_phi-0_1>`, es decir, de una <b>superposición uniforme</b>.\n"
   ]
  },
  {
   "cell_type": "markdown",
   "id": "080fe82e",
   "metadata": {},
   "source": [
    "<div class=\"alert alert-block alert-danger\">\n",
    "<p style=\"color: DarkRed;\">\n",
    "<b>Nota Importante!!</b>:\n",
    "<br>\n",
    "Uno de los pasos del algoritmo de Grover es una reflexión de las amplitudes respecto a la media.\n",
    "Esto implica que podemos tener los siguientes casos:\n",
    "<br>\n",
    "<br>\n- $M < N/2$: El algoritmo funciona normal.\n",
    "<br>\n",
    "<br>\n- $M = N/2$: El algoritmo no funciona\n",
    "<br>\n",
    "<br>\n- $M > N/2$: El algoritmo amplifica las soluciones incorrectas.\n",
    "<br>\n",
    "</p></div>\n"
   ]
  },
  {
   "cell_type": "markdown",
   "id": "080fe82e",
   "metadata": {},
   "source": [
    "## Generalización de las expresiones de la sección  {numref}`%s <sec_geo>` para $M$ soluciones.\n"
   ]
  },
  {
   "cell_type": "markdown",
   "id": "080fe82e",
   "metadata": {},
   "source": [
    "Vemos a reescribir las ecuaciones enmarcadas de la sección  {numref}`%s <sec_geo>` para el caso de $M$ soluciones. Empecemos reescribiendo las expresiones del estado inicial de la Ec.  {eq}`%s <ec_geo_phi-0_2>` y del estado $|\\Psi_j \\rangle $ de la Ec.  {eq}`%s <ec_geo_phi-j>`\n",
    "\\begin{equation} \\label{ec_t-sols_phi-0}\n",
    "\\boxed{|\\Psi_0 \\rangle = | \\Psi (k(0),l(0)) \\rangle = \\sum_{i \\in \\omega} k(0) |i \\rangle + \\sum_{i  \\in \\omega^{\\perp}}  l(0)  |i \\rangle}, \\quad \\text{donde} \\quad \\boxed{k(0) = l(0) = \\frac{1}{\\sqrt{N}}}.\n",
    "\\end{equation}\n",
    "\\begin{equation} \\label{ec_t-sols_phi-j}\n",
    "\\boxed{|\\Psi(t) \\rangle = | \\Psi (k(t),l(t)) \\rangle = \\sum_{i \\in \\omega} k(t) |i \\rangle + \\sum_{i  \\in \\omega^{\\perp}} l(t) |i \\rangle }.\n",
    "\\end{equation}\n",
    "Vemos que ahora el primer sumatorio tiene $M$ elementos, mientras que el segundo tiene $N-M$. Por supuesto, se cumple que $|\\Psi(t) \\rangle$ tiene módulo 1, es decir\n",
    "\\begin{equation} \\label{ec_t-sols_mod_1}\n",
    "\\langle \\Psi(t) |\\Psi(t) \\rangle = \\boxed{ M k(t)^2 + (N-M) l(t)^2 = 1 \\, \\, \\forall t}.\n",
    "\\end{equation}\n",
    "Podemos ahora también redefinir el estado $|\\omega^{\\perp} \\rangle$ de la Ec.  {eq}`%s <ec_geo_phi-j-s>` y definir $| \\omega \\rangle$\n",
    "\\begin{equation}  \\label{ec_t-sols_omega_omega-perp}\n",
    "\\begin{aligned}\n",
    "& \\boxed{| \\omega^{\\perp}  \\rangle = \\frac{1}{\\sqrt{N-M}}\\sum_{i \\in \\omega^{\\perp}}  |i \\rangle}\n",
    "& \\boxed{| \\omega  \\rangle = \\frac{1}{\\sqrt{M}}\\sum_{i \\in \\omega} | i \\rangle}\n",
    "\\end{aligned}\n",
    "\\end{equation}\n",
    "de forma que\n",
    "\\begin{equation} \\label{ec_t-sols_phi-j-s}\n",
    "\\boxed{|\\Psi(t) \\rangle =  k(t) \\sqrt{M} |\\omega \\rangle + l(t) \\sqrt{N-M} | \\omega^{\\perp}  \\rangle}.\n",
    "\\end{equation}\n"
   ]
  },
  {
   "cell_type": "markdown",
   "id": "080fe82e",
   "metadata": {},
   "source": [
    "<div class=\"alert alert-block alert-danger\">\n",
    "<p style=\"color: DarkRed;\">\n",
    "<b>Nota</b>:\n",
    "<br>\n",
    "Nuevamente, los factores $\\sqrt{N-M}$ y $\\sqrt{M}$ en las definiciones de $| \\omega^{\\perp} \\rangle$ y $| \\omega \\rangle$ son para hacerlos vectores unitarios\n",
    "\\begin{equation}\n",
    "\\begin{aligned}\n",
    "& \\langle \\omega^{\\perp} | \\omega^{\\perp} \\rangle = 1\n",
    "& \\langle \\omega | \\omega \\rangle = 1 .\n",
    "\\end{aligned}\n",
    "\\end{equation}\n",
    "</p></div>\n"
   ]
  },
  {
   "cell_type": "markdown",
   "id": "080fe82e",
   "metadata": {},
   "source": [
    "Veamos ahora la expresión del esto inicial en función del ángulo $\\theta$ de la Ec.  {eq}`%s <ec_geo_theta>`\n",
    "\\begin{equation} \\label{ec_t-sols_theta}\n",
    "| \\Psi_0 \\rangle = \\sin \\theta \\, |\\omega \\rangle + \\cos \\theta \\, | \\omega^{\\perp} \\rangle, \\qquad \\text{donde} \\qquad  \\boxed{\\sin \\theta = \\sqrt{\\frac{M}{N}}}.\n",
    "\\end{equation}\n",
    "Nuevamente, comparando las Ecs.  {eq}`%s <ec_t-sols_theta>` y  {eq}`%s <ec_t-sols_phi-j-s>` obtenemos las expresiones de $k(t)$ y $l(t)$ en función del ángulo $\\theta$\n",
    "\\begin{equation} \\label{ec_t-sols_sin-cos}\n",
    "\\begin{aligned}\n",
    "& \\boxed{k(t) = \\frac{1}{\\sqrt{M}} \\sin \\Lc (2t+1) \\theta \\Rc}\n",
    "& \\boxed{l(t) = \\frac{1}{\\sqrt{N-M}}\\cos \\Lc (2t+1) \\theta \\Rc}.\n",
    "\\end{aligned}\n",
    "\\end{equation}\n",
    "Vemos que estas expresiones cumplen la Ec.  {eq}`%s <ec_t-sols_mod_1>`\n",
    "Finalmente, por ser rigurosos (y por recopilar todas las ecuaciones juntas), tenemos que el oráculo  {eq}`%s <ec_geo_Uw>`, el difusor  {eq}`%s <ec_geo_Us>` nos quedan:\n",
    "\\begin{equation} \\label{ec_t-sols_Uw_Us}\n",
    "\\begin{aligned}\n",
    "& \\boxed{U_\\omega | i \\rangle =\n",
    "\\lch\n",
    "\\begin{matrix}\n",
    "& | i \\rangle \\quad \\text{si } i \\not \\in \\omega \\\\\n",
    "& - | i \\rangle \\quad \\text{si } i \\in \\omega\n",
    "\\end{matrix}\n",
    "\\right.}\n",
    "& \\boxed{U_{\\Psi_0} = 2 |\\Psi_0 \\rangle \\langle \\Psi_0 | - I}.\n",
    "\\end{aligned}\n",
    "\\end{equation}\n",
    "donde recordemos que denominamos operador de Grover a\n",
    "\\begin{equation} \\label{ec_t-sols_G}\n",
    "\\boxed{G = U_{\\Psi_0} U_\\omega} \\rqa |\\Psi(t) \\rangle =  G^t | \\Psi_0 \\rangle.\n",
    "\\end{equation}\n"
   ]
  },
  {
   "cell_type": "markdown",
   "id": "080fe82e",
   "metadata": {},
   "source": [
    "Véase que el caso particular de una solución es, efectivamente, aquel con $M=1$.\n"
   ]
  },
  {
   "cell_type": "markdown",
   "id": "080fe82e",
   "metadata": {},
   "source": [
    "## Número de iteraciones.\n"
   ]
  },
  {
   "cell_type": "markdown",
   "id": "080fe82e",
   "metadata": {},
   "source": [
    "Denominemos $\\bm T$ al <b>número de iteraciones para el cual la probabilidad de medir la solución correcta se maximiza</b>. Es decir, $l(T) \\approx 0$ y $k(T) \\approx 1$. Sabemos que $l(\\tilde{T}) =0$ cuando el coseno es igual cero, es decir:\n",
    "\\begin{equation}\n",
    "l(\\tilde{T}) = 0 \\rqa (2\\tilde{T}+1) \\theta = \\frac{\\pi}{2} \\rqa \\tilde{T} = \\frac{\\pi}{4 \\theta} - \\frac{1}{2}.\n",
    "\\end{equation}\n",
    "Por regla general, este valor $\\tilde{T}$ no será un entero. Tomemos\n",
    "\\begin{equation}\n",
    "T = \\lfloor \\pi / 4 \\theta \\rfloor\n",
    "\\end{equation}\n",
    "donde la notación $\\lfloor \\alpha \\rfloor$ quiere decir que <b>redondeamos a un entero por truncamiento</b>. Véase que $|T-\\tilde{T}| \\leq 1/2$. Se sigue que $|(2T+1)\\theta - (2\\tilde{T}+1)\\theta | \\leq \\theta $. Pero $(2 \\tilde{T}+1) \\theta = \\pi/2$ por definición de $\\tilde{T}$. Con lo cual $\\left| \\cos \\Lp (2T+1) \\theta \\Rp \\right| \\leq | \\sin \\theta |$. Concluimos entonces que la probabilidad de fallo después de $T = \\lfloor \\pi / 4 \\theta \\rfloor$ es\n",
    "\\begin{equation}\n",
    "(N-M)l^2(T) = \\cos^2 \\Lp (2T+1) \\theta \\Rp \\leq \\sin^2 \\theta = \\frac{M}{N}\n",
    "\\end{equation}\n",
    "que es despreciable si $M \\ll N$. Véase que el $(N-M)$ de la expresión anterior es porque hay $(N-M)$ estados incorrectos que podemos medir, cada uno de ellos con probabilidad $l^2(T)$.\n"
   ]
  },
  {
   "cell_type": "markdown",
   "id": "080fe82e",
   "metadata": {},
   "source": [
    "Véase que el algoritmo corre en un tiempo del orden de $\\mathcal{O}(\\sqrt{N/M})$ ya que\n",
    "\\begin{equation} \\label{ec_t-sols_m}\n",
    "T \\leq \\frac{\\pi}{4 \\theta} \\approx \\frac{\\pi}{4 \\sin \\theta} \\approx \\frac{\\pi}{4} \\sqrt{\\frac{N}{M}} \\rqa \\boxed{T = \\left\\lfloor \\frac{\\pi}{4} \\sqrt{\\frac{N}{M}} \\right\\rfloor}.\n",
    "\\end{equation}\n"
   ]
  },
  {
   "cell_type": "markdown",
   "id": "080fe82e",
   "metadata": {},
   "source": [
    "## Extra: Formulación recursiva de $k(t)$ y $l(t)$.\n"
   ]
  },
  {
   "cell_type": "markdown",
   "id": "080fe82e",
   "metadata": {},
   "source": [
    "Ya hemos comentado en cada iteración se aplican lo dos operadores de la Ec.  {eq}`%s <ec_t-sols_Uw_Us>`, es decir\n",
    "\\begin{equation} \\label{ec_t-sols_Psi_j+1_j}\n",
    "|\\Psi{(t+1)} \\rangle = U_{\\Psi_0} U_\\omega |\\Psi(t) \\rangle.\n",
    "\\end{equation}\n"
   ]
  },
  {
   "cell_type": "markdown",
   "id": "080fe82e",
   "metadata": {},
   "source": [
    "Desarrollemos esta expresión para ver la relación de recursivida de los coeficientes, es decir, para ver la expresión de $k(t+1)$ y $l(t+1)$ en función de $k(t)$ y $l(t)$. Primero vamos el término $U_\\omega |\\Psi(t) \\rangle$ usando la expresión de $U_\\omega$ de la Ec.  {eq}`%s <ec_t-sols_Uw_Us>`:\n",
    "\\begin{equation} \\label{ec_t-sols_aux_1}\n",
    "U_\\omega |\\Psi(t) \\rangle =  - k(t)  \\sqrt{M}|\\omega \\rangle + l(t) \\sqrt{N-M} | \\omega^{\\perp} \\rangle.\n",
    "\\end{equation}\n"
   ]
  },
  {
   "cell_type": "markdown",
   "id": "080fe82e",
   "metadata": {},
   "source": [
    "Desarrollemos un poco la Ec.  {eq}`%s <ec_t-sols_Psi_j+1_j>` usando la expresión de $U_{\\Psi_0}$ de la  Ec.  {eq}`%s <ec_t-sols_Uw_Us>`\n",
    "\\begin{equation} \\label{ec_t-sols_aux_2}\n",
    "\\begin{split}\n",
    "|\\Psi(t+1) \\rangle & =  U_{\\Psi_0} U_\\omega |\\Psi(t) \\rangle  \\\\\n",
    "& =  \\Bigl( 2 |\\Psi_0 \\rangle \\langle \\Psi_0 | - I \\Bigr) U_\\omega |\\Psi(t) \\rangle  \\\\\n",
    "& =  2 |\\Psi_0 \\rangle \\langle \\Psi_0 |  U_\\omega |\\Psi(t) \\rangle  - U_\\omega |\\Psi(t) \\rangle .\n",
    "\\end{split}\n",
    "\\end{equation}\n"
   ]
  },
  {
   "cell_type": "markdown",
   "id": "080fe82e",
   "metadata": {},
   "source": [
    "Usando la Ec.  {eq}`%s <ec_t-sols_aux_1>` el término $\\langle \\Psi_0 |  U_\\omega |\\Psi(t) \\rangle$ nos queda\n",
    "\\begin{equation} \\label{ec_t-sols_aux_3}\n",
    "\\langle \\Psi_0 | U_\\omega |\\Psi(t) \\rangle = \\frac{1}{\\sqrt{N}} \\Lp -k(t) M + (N-M) l(t) \\Rp.\n",
    "\\end{equation}\n"
   ]
  },
  {
   "cell_type": "markdown",
   "id": "080fe82e",
   "metadata": {},
   "source": [
    "<div class=\"alert alert-block alert-success\">\n",
    "<p style=\"color: DarkGreen;\">\n",
    "<b>Calculo de $\\langle \\Psi_0 |  U_\\omega |\\Psi(t) \\rangle$</b>:\n",
    "<br>\n",
    "Hacemos ahora el producto $ \\langle \\Psi_0 |  U_\\omega |\\Psi(t) \\rangle  =  \\langle \\Psi_0 | \\Lp U_\\omega |\\Psi(t) \\rangle \\Rp $\n",
    "usando la Ec.  {eq}`%s <ec_t-sols_aux_1>`\n",
    "\\begin{equation*}\n",
    "\\begin{split}\n",
    "\\langle \\Psi_0 | U_\\omega |\\Psi(t) \\rangle\n",
    "& = \\langle \\Psi_0 | \\Lp -k(t) \\sqrt{M} |\\omega \\rangle + l(t) \\, \\sqrt{N-M} | \\omega^{\\perp} \\rangle \\Rp \\\\\n",
    "& = \\Lp k(0) \\sqrt{M} \\langle \\omega| + l(0) \\, \\sqrt{N-M} \\langle \\omega^{\\perp} | \\Rp\n",
    "\\Lp -k(t) \\sqrt{M} |\\omega \\rangle + l(t) \\, \\sqrt{N-M} | \\omega^{\\perp} \\rangle \\Rp .\n",
    "\\end{split}\n",
    "\\end{equation*}\n",
    "Debido a la ortogonalidad de los estado (esto es, $\\langle i | j \\rangle =0$ si $j\\neq i$), y teniendo en cuanta que $k(0) = l(0) = 1/\\sqrt{N}$ tenemos\n",
    "\\begin{equation*}\n",
    "\\langle \\Psi_0 | U_\\omega |\\Psi(t) \\rangle = - k(0) k(t) M + (N-M) l(0) l(t) =\n",
    "\\frac{1}{\\sqrt{N}} \\Lp -k(t) M + (N-M) l(t) \\Rp.\n",
    "\\end{equation*}\n",
    "</p></div>\n"
   ]
  },
  {
   "cell_type": "markdown",
   "id": "080fe82e",
   "metadata": {},
   "source": [
    "Sustituyendo  {eq}`%s <ec_t-sols_aux_1>` y  {eq}`%s <ec_t-sols_aux_3>` en  {eq}`%s <ec_t-sols_aux_2>` tenemos:\n",
    "\\begin{equation} \\label{ec_t-sols_aux_4}\n",
    "|\\Psi(t+1) \\rangle  = \\lp \\frac{N-2M}{N} k(t) + \\frac{2(N-M)}{N} l(t) \\rp \\sum_{i \\in \\omega} | i \\rangle + \\lp \\frac{N-2M}{N} l(t) - \\frac{2M}{N} k(t) \\rp \\sum_{i \\in \\omega^{\\perp}} | i \\rangle.\n",
    "\\end{equation}\n"
   ]
  },
  {
   "cell_type": "markdown",
   "id": "080fe82e",
   "metadata": {},
   "source": [
    "<div class=\"alert alert-block alert-success\">\n",
    "<p style=\"color: DarkGreen;\">\n",
    "<b>Calculo de la Ec.  {eq}`%s <ec_t-sols_aux_4>`</b>:\n",
    "<br>\n",
    "Sustituyendo  {eq}`%s <ec_t-sols_aux_1>` y  {eq}`%s <ec_t-sols_aux_3>` en  {eq}`%s <ec_t-sols_aux_2>` tenemos:\n",
    "\\begin{align*}\n",
    "|\\Psi (t+1) \\rangle & =\n",
    "\\, 2  \\frac{1}{\\sqrt{N}} \\Lp -k(t) M + (N-M) l(t) \\Rp | \\Psi_0 \\rangle\n",
    "- k(t) \\sqrt{M} |\\omega \\rangle +  l(t) \\, \\sqrt{N-M} | \\omega^{\\perp} \\rangle  = \\\\\n",
    "& =  \\, \\frac{2}{\\sqrt{N}} \\Lp -k(t) M + (N-M) l(t) \\Rp  \\frac{1}{\\sqrt{N}} \\Lp \\sqrt{M} | \\omega \\rangle + \\sqrt{N-M} |\\omega^{\\perp} \\rangle \\Rp \\\\\n",
    "& \\qquad + k(t) \\sqrt{M} |\\omega \\rangle  +   l(t) \\, \\sqrt{N-M} | \\omega^{\\perp} \\rangle = \\\\\n",
    "& =  \\, \\lc \\frac{2}{N} \\Lp -k(t) M + (N-M) l(t) \\Rp + k(t) \\rc \\sqrt{M}  | \\omega \\rangle   \\\\\n",
    "& \\qquad + \\lc \\frac{2}{N}  \\Lp -k(t) M + (N-M) l(t) \\Rp - l(t)  \\rc \\sqrt{N-M} | \\omega^{\\perp} \\rangle.\n",
    "\\end{align*}\n",
    "Simplificando y teniendo en cuenta que las expresión de $| \\omega \\rangle$ y $|\\omega^{\\perp} \\rangle$ en la\n",
    "Ec.  {eq}`%s <ec_t-sols_omega_omega-perp>`, llegamos a la Ec.  {eq}`%s <ec_t-sols_aux_4>`.\n",
    "</p></div>\n"
   ]
  },
  {
   "cell_type": "markdown",
   "id": "080fe82e",
   "metadata": {},
   "source": [
    "Finalmente llegamos a las relaciones:\n",
    "\\begin{equation} \\label{ec_t-sols_k-l_j+1}\n",
    "\\begin{aligned}\n",
    "& \\boxed{k(t+1) = \\frac{N-2M}{N} k(t) + \\frac{2(N-M)}{N} l(t)},\n",
    "& \\boxed{l(t+1) = \\frac{N-2M}{N} l(t) - \\frac{2M}{N}k(t)}.\n",
    "\\end{aligned}\n",
    "\\end{equation}\n"
   ]
  },
  {
   "cell_type": "markdown",
   "id": "8534e04c",
   "metadata": {},
   "source": [
    "<figure><center>\n",
    "<img   src=\"https://quantumspain-project.es/wp-content/uploads/2022/11/Logo_QS_EspanaDigital.png\" align=center  width=\"2000px\"/>\n",
    "</center></figure>\n",
    "\n",
    "<center>\n",
    "<img align=\"left\" src=\"https://quantumspain-project.es/wp-content/uploads/2024/02/Banner-QS_GOB_v2.png\" width=\"1000px\" />\n",
    "</center>"
   ]
  }
 ],
 "metadata": {
  "kernelspec": {
   "display_name": "Python 3 (ipykernel)",
   "language": "python",
   "name": "python3"
  },
  "language_info": {
   "codemirror_mode": {
    "name": "ipython",
    "version": 3
   },
   "file_extension": ".py",
   "mimetype": "text/x-python",
   "name": "python",
   "nbconvert_exporter": "python",
   "pygments_lexer": "ipython3",
   "version": "3.11.7"
  },
  "toc": {
   "base_numbering": 1,
   "nav_menu": {},
   "number_sections": false,
   "sideBar": true,
   "skip_h1_title": true,
   "title_cell": "Table of Contents",
   "title_sidebar": "Contents",
   "toc_cell": false,
   "toc_position": {},
   "toc_section_display": true,
   "toc_window_display": false
  }
 },
 "nbformat": 4,
 "nbformat_minor": 5
}
