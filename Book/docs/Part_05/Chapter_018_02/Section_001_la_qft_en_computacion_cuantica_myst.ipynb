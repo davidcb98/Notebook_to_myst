{
 "cells": [
  {
   "cell_type": "markdown",
   "id": "8ddaeb38",
   "metadata": {},
   "source": [
    "> {sub-ref}`today` | {sub-ref}`wordcount-minutes` min read\n",
    "\n",
    "<img src=\"Figuras/Fig_logo_UMA_scbi.png\" align=center  width=\"2000px\"/>\n",
    "\n",
    "\n",
    "<a href=\"https://www.scbi.uma.es/web/es/computacion-cuantica/\">\n",
    "    <button class=\"rounded\" style=\"float: right;\">\n",
    "    <svg xmlns=\"http://www.w3.org/2000/svg\" width=\"32\" height=\"32\" viewBox=\"0 0 24 24\">\n",
    "        <path fill=\"var(--fill, white)\"\n",
    "        d=\"M18.1 15.3c-.1.1-.3.2-.4.3l-2.4.4l1.7 3.6c.2.4 0 .8-.4\n",
    "            1l-2.8 1.3c-.1.1-.2.1-.3.1c-.3 0-.6-.2-.7-.4L11.2\n",
    "            18l-1.9 1.5c-.1.1-.3.2-.5.2c-.4 0-.8-.3-.8-.8V7.5c0-.5.3-.8.8-.8c.2 0\n",
    "            .4.1.5.2l8.7 7.4c.3.2.4.7.1 1M6 12H4V4h16v8h-1.6l2.2 1.9c.8-.3 1.3-1\n",
    "            1.3-1.9V4c0-1.1-.9-2-2-2H4c-1.1 0-2 .9-2 2v8c0 1.1.9 2 2 2h2z\" />\n",
    "    </svg>\n",
    "    Volver a SCBI - Computación Cuantica\n",
    "    </button>\n",
    "</a>\n",
    "\n",
    "$ \\newcommand{\\bra}[1]{\\langle #1|} $\n",
    "$ \\newcommand{\\ket}[1]{|#1\\rangle} $\n",
    "$ \\newcommand{\\branew}[1]{\\langle #1|} $\n",
    "$ \\newcommand{\\ketnew}[1]{\\langle #1|} $\n",
    "$ \\newcommand{\\braket}[2]{\\langle #1|#2\\rangle} $\n",
    "$ \\newcommand{\\ketbra}[2]{| #1\\rangle \\langle #2 |} $\n",
    "$ \\newcommand{\\i}{{\\color{blue} i}} $ \n",
    "$ \\newcommand{\\Hil}{{\\cal H}} $\n",
    "$ \\newcommand{\\cg}[1]{{\\rm C}#1} $\n",
    "$ \\newcommand{\\lp}{\\left(} $\n",
    "$ \\newcommand{\\rp}{\\right)} $\n",
    "$ \\newcommand{\\lc}{\\left[} $\n",
    "$ \\newcommand{\\rc}{\\right]} $\n",
    "$ \\newcommand{\\lch}{\\left\\{} $\n",
    "$ \\newcommand{\\rch}{\\right\\}} $\n",
    "$ \\newcommand{\\Lp}{\\Bigl(} $\n",
    "$ \\newcommand{\\Rp}{\\Bigr)} $\n",
    "$ \\newcommand{\\Lc}{\\Bigl[} $\n",
    "$ \\newcommand{\\Rc}{\\Bigr]} $\n",
    "$ \\newcommand{\\Lch}{\\Bigl\\{} $\n",
    "$ \\newcommand{\\Rch}{\\Bigr\\}} $\n",
    "$ \\newcommand{\\rqa}{\\quad \\Rightarrow \\quad} $\n",
    "$ \\newcommand{\\bm}{\\boldsymbol}$"
   ]
  },
  {
   "cell_type": "markdown",
   "id": "080fe82e",
   "metadata": {},
   "source": [
    "# La QFT en computación cuántica\n"
   ]
  },
  {
   "cell_type": "markdown",
   "id": "080fe82e",
   "metadata": {},
   "source": [
    "La transformada de Fourier aparece en muchas versiones diferentes a lo largo de la computación clásica, en ámbitos que van desde el procesamiento de señales a la compresión de datos, pasando por la teoría de la complejidad. La transformada cuántica de Fourier (QFT) es la implementación cuántica de la transformada discreta de Fourier sobre las amplitudes de una función de onda. Forma parte de muchos algoritmos cuánticos, entre los que destacan el algoritmo de factorización de Shor y la estimación cuántica de fase.\n"
   ]
  },
  {
   "cell_type": "markdown",
   "id": "080fe82e",
   "metadata": {},
   "source": [
    "En su versión clásica, la transformada actúa sobre un vector $(x_0, x_1, \\dots, x_{N-1})$ y lo mapea a otro vector $(\\tilde{x}_0, \\tilde{x}_1, \\dots, \\tilde{x}_{N-1})$ de acuerdo con la fórmula\n",
    "```{math}\n",
    ":label: ec_QFT_clasica \n",
    "\\begin{equation} \n",
    "\\tilde{x}_k = \\frac{1}{\\sqrt{N}} \\sum_{y=0}^{N-1} \\omega^{ky} x_y, \\hspace{1.5cm} \\text{donde } \\quad \\omega^{ky}= e^{2\\pi i \\frac{ky}{N}}\n",
    "\\end{equation} \n",
    "```\n",
    "En concreto, la transformada de Fourier aplicada sobre cada uno de los vectores de la base nos lleva esta base a otra denominada <b>base de Fourier</b>. Esta transformación es biyectiva, es decir, mapea cada vector a un único vector, con lo cual, es invertible.\n"
   ]
  },
  {
   "cell_type": "markdown",
   "id": "080fe82e",
   "metadata": {},
   "source": [
    "De forma análoga, la transformada de Fourier cuántica es un operador unitario que actúa sobre un estado cuántico $ \\ket{\\Psi} = \\sum_{j=0}^{N-1} \\psi_j \\ket{j}$ y lo mapea a otro estado cuántico $\\ket{\\widetilde{\\Psi}} = \\sum_{y=0}^{N-1} \\tilde{\\psi}_y \\ket{y}$ de acuerdo con la fórmula\n",
    "\\begin{equation}\n",
    "\\widetilde{\\psi}_y = \\frac{1}{\\sqrt{N}} \\sum_{j=0}^{N-1} \\omega^{jy} \\psi_j, \\hspace{1.5cm} \\text{donde } \\quad \\omega^{jy} = e^{2\\pi i \\frac{jy}{N}}\n",
    "\\end{equation}\n",
    "Es decir, la transformación de un estado genérico $\\ket{\\psi}$ sería:\n",
    "```{math}\n",
    ":label: ec_QFT_sobre_Psi \n",
    "\\begin{equation} \n",
    "\\boxed{\\ket{\\Psi} \\to \\ket{\\widetilde{\\Psi}} = \\sum_{y=0}^{N-1} \\widetilde{\\psi}_y \\ket{y} =  \\sum_{y=0}^{N-1} \\lp \\frac{1}{\\sqrt{N}} \\sum_{j=0}^{N-1} \\omega^{jy} \\psi_j \\rp \\ket{y}}\n",
    "\\end{equation} \n",
    "```\n",
    "Véase que aquí tanto $\\ket{\\psi}$ como $\\ket{\\widetilde{\\psi}}$ están expresados en la misma base, por ejemplo, la base computacional.\n"
   ]
  },
  {
   "cell_type": "markdown",
   "id": "080fe82e",
   "metadata": {},
   "source": [
    "::::::{admonition} Nota (base computacional y base de fourier) \n",
    ":class: note\n",
    "\n",
    "\n",
    "\n",
    "Independientemente de la \"etiqueta\" que haya dentro del ket, estaremos tratando con elementos base computacional <b>cuando el elemento no lleve tilde</b>,\n",
    "es decir, $\\ket{x}$, $\\ket{j}$, $\\dots$. Estaremos tratando con la transformada de Fourier de ese elemento de la base (es decir, el correspondiente elemento de\n",
    "la base pero en la base de Fourier) cuando les pongamos una tilde: $\\ket{x} \\to \\ket{\\widetilde{x}}$, $\\ket{j} \\to \\ket{\\widetilde{j}}$, $\\dots$.\n",
    "\n",
    "Por otro lado, reservamos las letras griegas para referirnos a <b>estados</b>, es decir, combinaciones lineales de elementos de la base: $ \\ket{\\Psi} = \\sum_{j=0}^{N-1} \\psi_j \\ket{j}$\n",
    "::::::\n"
   ]
  },
  {
   "cell_type": "markdown",
   "id": "080fe82e",
   "metadata": {},
   "source": [
    "Veamos como actúa la QFT sobre los elementos de la base computacional. Para ello, solo tenemos que tomar $\\ket{\\Psi}$ como un elemento de la base en la Ec.  {eq}`%s <ec_QFT_sobre_Psi>`. Es decir\n",
    "\\begin{equation}\n",
    "\\ket{\\Psi} = \\sum_{j=0}^{N-1} \\psi_j \\ket{j} \\xrightarrow[\\psi_x = 1]{\\psi_j = 0 \\,\\,\\, \\forall  j \\neq x} \\ket{\\Psi} = \\ket{x}\n",
    "\\end{equation}\n",
    "Haciendo esta misma sustitución en la Ec.  {eq}`%s <ec_QFT_sobre_Psi>` llegamos a\n",
    "```{math}\n",
    ":label: ec_QFT_sobre_base_computacional \n",
    "\\begin{equation} \n",
    "\\ket{x} \\to \\ket{\\widetilde{x}} = \\sum_{y=0}^{N-1} \\lp \\frac{1}{\\sqrt{N}} \\sum_{j=0}^{N-1} \\omega^{jy} \\psi_j \\rp \\ket{y}\n",
    "\\xrightarrow[\\psi_x = 1]{\\psi_j = 0 \\,\\,\\,  \\forall j \\neq x}\n",
    "\\boxed{QFT \\ket{x} = \\ket{\\widetilde{x}} = \\frac{1}{\\sqrt{N}}  \\sum_{y=0}^{N-1}  \\omega^{xy}   \\ket{y} }\n",
    "\\end{equation} \n",
    "```\n",
    "donde\n",
    "\\begin{equation}\n",
    "\\boxed{\\omega  = e^{2\\pi i  /N}} \\, , \\hspace{1cm}\n",
    "x   = 0,...,N-1 \\, , \\hspace{1cm}\n",
    "\\widetilde{x}  = \\widetilde{0}, \\dots, \\widetilde{N-1} \\, ,\\hspace{0.7cm}  \\text{y} \\hspace{0.7cm}\n",
    "N=2^n.\n",
    "\\end{equation}\n"
   ]
  },
  {
   "cell_type": "markdown",
   "id": "080fe82e",
   "metadata": {},
   "source": [
    "La Ec.  {eq}`%s <ec_QFT_sobre_base_computacional>` es la transformada de Fourier de un elemento de la base computaciónal $\\ket{x}$. Esta nos da el elemento transformado en la base de Fourier $\\ket{\\widetilde{x}}$. Como podemos ver, la transformada de Fourier es un operador unitario. Como también sabemos, un operador está completamente definido si especificamos como actúa sobre todos los elementos de una base, como es el caso.\n"
   ]
  },
  {
   "cell_type": "markdown",
   "id": "080fe82e",
   "metadata": {},
   "source": [
    "::::::{admonition} Nota (QFT y Walsh-Hadamard) \n",
    ":class: note\n",
    "\n",
    "\n",
    "\n",
    "Comparar la Ec.  {eq}`%s <ec_QFT_sobre_base_computacional>` con la de la transformada de Walsh-Hadamard  {eq}`%s <ec_algoritmos_Walsh_H_sobre_x>`\n",
    "\\begin{equation}\n",
    "W: \\ket{x} \\to \\ket{\\tilde x} =  \\frac{1}{\\sqrt{N}}\\sum_{y}(-1)^{xy}\\ket{y} =   \\frac{1}{\\sqrt{N}}\\sum_{y} e^{i\\pi   xy} \\ket{y}\n",
    "\\end{equation}\n",
    "que es formalmente igual, pero con $\\omega = e^{2\\pi i/2} = -1$.\n",
    "Ya hemos visto cómo este factor produce <i>interferencias</i> interesantes que conducen a soluciones como la del problema de Simon.\n",
    "::::::\n"
   ]
  },
  {
   "cell_type": "markdown",
   "id": "080fe82e",
   "metadata": {},
   "source": [
    "El nuevo factor $\\omega = e^{2\\pi i/N}$ también sirve para producir interferencias destructivas y constructivas interesantes. Esto se debe esencialmente a la importante fórmula de <b>suma nula</b>\n",
    "```{math}\n",
    ":label: ec_QFT_suma_nula \n",
    "\\begin{equation} \n",
    "\\frac{1}{N} \\sum_{y=0}^{N} e^{2\\pi i xy/N} = \\delta_{x \\, 0 {\\rm mod}N}\n",
    "\\end{equation} \n",
    "```\n",
    "Como vemos, esta suma en $y$ es cero para todos los valores de $x$ excepto para $x = 0, N, 2N, \\dots$.\n"
   ]
  },
  {
   "cell_type": "markdown",
   "id": "080fe82e",
   "metadata": {},
   "source": [
    "::::::{admonition} Ejercicio\n",
    ":class: tip\n",
    "\n",
    "\n",
    "Utiliza la Ec.  {eq}`%s <ec_QFT_suma_nula>` para demostrar que, invirtiendo los signos de las fases obtenemos la QFT inversa. Es decir, demuestra que, si\n",
    "\\begin{equation}\n",
    "U^{-1}_{QFT}\\ket{x}  =  \\frac{1}{\\sqrt{N}}\\sum_{y} e^{-2\\pi i  xy /N} \\ket{y}\n",
    "\\end{equation}\n",
    "se sigue que\n",
    "\\begin{equation}\n",
    "U_{QFT}^{-1}(U_{QFT} \\ket{x}) ) \\ket{x}\n",
    "\\end{equation}\n",
    "Esto confirma que es un operador unitario $U_{QFT}^{-1} = U_{QFT}^\\dagger$.\n",
    "::::::\n",
    "\n\n"
   ]
  },
  {
   "cell_type": "markdown",
   "id": "080fe82e",
   "metadata": {},
   "source": [
    "En general, los elementos de matriz serán evidentemente, las fases\n",
    "\\begin{equation*}\n",
    "\\bra{x} U_{QFT} \\ket{y} =  \\frac{1}{\\sqrt{N}} e^{2\\pi i  x y/N} =\\frac{1}{\\sqrt{N}} \\omega^{xy}\n",
    "= \\frac{1}{\\sqrt{N}} \\begin{bmatrix}\n",
    "1&1&1&1&\\cdots &1 \\\\\n",
    "1&\\omega_N&\\omega_N^2&\\omega_N^3&\\cdots&\\omega_N^{N-1} \\\\\n",
    "1&\\omega_N^2&\\omega_N^4&\\omega_N^6&\\cdots&\\omega_N^{2(N-1)}\\\\ 1&\\omega_N^3&\\omega_N^6&\\omega_N^9&\\cdots&\\omega_N^{3(N-1)}\\\\\n",
    "\\vdots&\\vdots&\\vdots&\\vdots&\\ddots&\\vdots\\\\\n",
    "1&\\omega_N^{N-1}&\\omega_N^{2(N-1)}&\\omega_N^{3(N-1)}&\\cdots&\\omega_N^{(N-1)(N-1)}\n",
    "\\end{bmatrix}\n",
    "\\end{equation*}\n"
   ]
  },
  {
   "cell_type": "markdown",
   "id": "080fe82e",
   "metadata": {},
   "source": [
    "::::::{admonition} Ejemplos\n",
    ":class: tip\n",
    "\n",
    "\n",
    "\n",
    "\n",
    "\n- Para $n=1 \\to \\omega = e^{2\\pi i /2^1} = -1$ y la QFT no es otra que la puerta de Hadamard\n",
    "    \\begin{equation}\n",
    "    U_{QFT} = \\frac{1}{\\sqrt{2}}\\begin{bmatrix} 1 & 1 \\\\ 1 & -1 \\end{bmatrix} = H\n",
    "    \\end{equation}\n",
    "    Su acción es\n",
    "    \\begin{equation}\n",
    "    U_{QFT}\\ket{0} = \\ket{+}~~~~~~~~~,~~~~~~~~~~  U_{QFT}\\ket{1} = \\ket{-}\n",
    "    \\end{equation}\n",
    "    Observamos que los vectores imagen están situados en el plano ecuatorial de la esfera de Bloch\n",
    "\n- Para $n=2 \\to  \\omega = e^{2\\pi i/2^2} = i$ y entonces\n",
    "    \\begin{equation}\n",
    "    U_{QFT} =\\frac{1}{2}\n",
    "    \\begin{bmatrix} 1 & 1 & 1 & 1 \\\\ 1 & -i & -1 & i \\\\ 1 & - 1 & 1 & - 1 \\\\ 1 & i & -1 & -i  \\end{bmatrix}\n",
    "    \\end{equation}\n",
    "    Observar que la suma de cualquier columna o fila que no sean las primeras da cero\n",
    "\n",
    "\n",
    "::::::\n"
   ]
  },
  {
   "cell_type": "markdown",
   "id": "080fe82e",
   "metadata": {},
   "source": [
    "En el primer ejemplo es fácil de ver que los vectores de la base de Fourier se sitúan sobre el plano $xy$. En el segundo caso también es cierto, pero es más difícil de ver a primera vista. Esta es una regla de la QFT:\n"
   ]
  },
  {
   "cell_type": "markdown",
   "id": "080fe82e",
   "metadata": {},
   "source": [
    "::::::{prf:theorem} \n",
    "\n",
    "\n",
    "Los vectores de la <b>base de Fourier</b> son estados <b>factorizables</b> en productos de estados de un qubit que se sitúan <b>sobre el ecuador</b> de la esfera de Bloch (sobre el plano $xy$)\n",
    "::::::\n",
    "\n\n"
   ]
  },
  {
   "cell_type": "markdown",
   "id": "080fe82e",
   "metadata": {},
   "source": [
    "Uno de los puntos importantes del anterior teorema es que nos dice que la base de Fourier es factorizable, no entrelazada. Esto puede parecer sorprendente, pues la QFT es una suma de muchos elementos con fases distintas. Como la base de Fourier es factorizable, podemos dibujarla como productos de esferas de Bloch, como se puede ver en la Fig.  {numref}`%s <Fig_QFT_compu_fourier_bases>`. En esta figura podemos ver varios ejemplos de transformadas de Fourier de elementos de la base computacional para 4 qubits. Veamos ahora la demostración del teorema:\n"
   ]
  },
  {
   "cell_type": "markdown",
   "id": "080fe82e",
   "metadata": {},
   "source": [
    "::::::{admonition} Nota (Notación binaria con decimales) \n",
    ":class: note\n",
    "\n",
    "\n",
    "\n",
    "Antes de ver la demostración del teorema, veamos la notación binaria con decimales: Un número $x \\in \\mathbb{Q}$ puede expresarse en base 2 como\n",
    "\\begin{align*}\n",
    "x & = x_{n-1} 2^{n-1} + \\dots + x_1 2^1 + x_0 2^0 + x_{-1} 2^{-1} + \\dots + x_{-m} 2^{-m} \\\\\n",
    "& = x_{n-1} \\dots x_1 x_0 \\, . \\, x_{-1} \\dots x_{-m} \\\\\n",
    "& = x_{n-1} \\dots x_1 x_0 + 0.x_{-1} \\dots x_{-m}\n",
    "\\end{align*}\n",
    "en particular, si $y\\in S_n =[0,...,2^n-1]$, en base 2 tendríamos\n",
    "\\begin{eqnarray}\n",
    "y &=& y_{n-1} \\ldots   y_2y_1 y_0 \\nonumber\\\\\n",
    "y/2&~=~&  y_{n-1}...y_2y_1 + 0. y_0 \\nonumber\\\\\n",
    "y/2^2 &~=~&  y_{n-1}...y_2 + 0.y_1 y_0 \\nonumber\\\\\n",
    "&\\vdots & \\nonumber \\\\\n",
    "y/2^n &~=~&   0.y_{n-1}y_{n-2}...y_0 \\,\n",
    "\\end{eqnarray}\n",
    "::::::\n"
   ]
  },
  {
   "cell_type": "markdown",
   "id": "080fe82e",
   "metadata": {},
   "source": [
    "::::::::::{dropdown} Demostración\n",
    "Vamos a estudiar la acción de $U_{\\rm QFT}$ sobre un elemento $\\ket{x} = \\ket{x_{n-1}}\\ket{x_{n-2}}... \\ket{x_0}$ de la base computacional\n",
    "\\begin{eqnarray*}\n",
    "\\ket{\\tilde x}  ~\\equiv ~  U_{\\rm QFT}\\ket{x}  &=&  \\frac{1}{\\sqrt{N}} \\sum_{y=0}^{2^n-1} e^{2\\pi i  xy/2^n}\\ket{y}      \\\\ \\rule{0mm}{7mm}\n",
    "&=&  \\frac{1}{\\sqrt{N}} \\sum_{y_0,...,y_{n-1}=\\{0,1\\}} e^{ 2\\pi i x \\left( y_{n-1}2^{n-1} + y_{n-2}2^{n-2}  + ... + y_0\\right)/2^n } \\ket{y_{n-1}}\\ket{y_{n-2}}\\ldots \\ket{ y_0}   \\\\ \\rule{0mm}{7mm}\n",
    "&=&  \\frac{1}{\\sqrt{N}} \\sum_{y_0,...,y_{n-1}=\\{0,1\\}} e^{2\\pi i x \\left(\\frac{y_{n-1}}{2} + \\frac{y_{n-2}}{2^2}  + ... + \\frac{y_0}{2^n}\\right) } \\ket{y_{n-1}}\\ket{y_{n-2}}\\ldots \\ket{ y_0}  \\\\ \\rule{0mm}{7mm}\n",
    "&=&  \\frac{1}{\\sqrt{N}} \\left( \\ket{0} + e^{2\\pi i \\frac{x}{2}}\\ket{1}\\right)\\left( \\ket{0} + e^{2\\pi i \\frac{x}{2^2}}\\ket{1}\\right)...\\left( \\ket{0} + e^{2\\pi i \\frac{x}{2^n}}\\ket{1}\\right) \\\\ \\rule{0mm}{7mm}\n",
    "&=& \\frac{1}{\\sqrt{N}} \\left( \\ket{0} + e^{2\\pi i \\, 0.x_0}\\ket{1}\\right)\\left( \\ket{0} + e^{2\\pi i \\, 0.x_1x_0}\\ket{1}\\right)...\\left( \\ket{0} + e^{2\\pi i \\, 0.x_{n-1}...x_0}\\ket{1}\\right)    \\\\ \\rule{0mm}{7mm}\n",
    "&\\equiv & ~~ \\ket{\\tilde x_{n-1}}\\ket{\\tilde x_{n-2}}\\cdots \\ket{\\tilde x_{0}}\n",
    "\\end{eqnarray*}\n",
    "Se ha usado que las partes enteras de $x$ no contribuyen a las fases (es un número entero multiplicado por $2\\pi$)\n",
    "```{math}\n",
    ":label: ec_QFT_demostracion_equiv_exp \n",
    "\\begin{equation} \n",
    "e^{2\\pi i x/2} = e^{2\\pi i (x_{n-1}...x_1 + 0. x_0)}= e^{2\\pi i (x_{n-1}...x_1)}e^{2\\pi i \\, 0. x_0} = e^{2\\pi i\\, 0.x_0}\n",
    "\\end{equation} \n",
    "```\n",
    "Vemos que la transformada de Fourier es factorizable y cada elemento de la base vive en el ecuador de la esfera de Bloch.\n",
    "::::::::::\n"
   ]
  },
  {
   "cell_type": "markdown",
   "id": "080fe82e",
   "metadata": {},
   "source": [
    "Como acabamos de ver en la desmostración anterior, tenemos que:\n",
    "```{math}\n",
    ":label: ec_QFT_ecuacion_desarrollada \n",
    "\\begin{equation} \n",
    "\\boxed{\\ket{\\tilde x}  ~\\equiv ~  U_{\\rm QFT}\\ket{x} = \\frac{1}{\\sqrt{N}} \\left( \\ket{0} + e^{2\\pi i \\frac{x}{2}}\\ket{1}\\right)\\left( \\ket{0} + e^{2\\pi i \\frac{x}{2^2}}\\ket{1}\\right)...\\left( \\ket{0} + e^{2\\pi i \\frac{x}{2^n}}\\ket{1}\\right)}\n",
    "\\end{equation} \n",
    "```\n",
    "En realidad, esta expresión es tan útil e importante que podríamos haberla tomado esta como la definición de la transformada de Fourier, pues es equivalente a la Ec.  {eq}`%s <ec_QFT_sobre_base_computacional>`. Otra forma de escribirla es con la notación decimal anterior y teniendo en cuenta el resultado de la Ec.  {eq}`%s <ec_QFT_demostracion_equiv_exp>` es\n",
    "\\begin{equation}\n",
    "\\boxed{\\ket{\\tilde x}  ~\\equiv ~  U_{\\rm QFT}\\ket{x} = \\frac{1}{\\sqrt{N}} \\left( \\ket{0} + e^{2\\pi i \\, 0.x_0}\\ket{1}\\right)\\left( \\ket{0} + e^{2\\pi i \\, 0.x_1x_0}\\ket{1}\\right)...\\left( \\ket{0} + e^{2\\pi i \\, 0.x_{n-1}...x_0}\\ket{1}\\right) }\n",
    "\\end{equation}\n"
   ]
  },
  {
   "cell_type": "markdown",
   "id": "080fe82e",
   "metadata": {},
   "source": [
    "::::::{admonition} Nota (QFT sobre vectores) \n",
    ":class: note\n",
    "\n",
    "\n",
    "\n",
    "Por supuesto, la operación $U_{QFT}$ no está restringida a elementos de la base computacional. Ya hemos visto en la Ec.  {eq}`%s <ec_QFT_sobre_Psi>` que puede actuar sobre vectores.\n",
    "::::::\n"
   ]
  },
  {
   "cell_type": "markdown",
   "id": "8534e04c",
   "metadata": {},
   "source": [
    "::::{figure} https://quantumspain-project.es/wp-content/uploads/2022/11/Logo_QS_EspanaDigital.png\n",
    ":width: 2000px\n",
    ":align: center\n",
    "::::\n",
    "\n",
    "<center>\n",
    "<img align=\"left\" src=\"https://quantumspain-project.es/wp-content/uploads/2024/02/Banner-QS_GOB_v2.png\" width=\"1000px\" />\n",
    "</center>"
   ]
  }
 ],
 "metadata": {
  "kernelspec": {
   "display_name": "Python 3 (ipykernel)",
   "language": "python",
   "name": "python3"
  },
  "language_info": {
   "codemirror_mode": {
    "name": "ipython",
    "version": 3
   },
   "file_extension": ".py",
   "mimetype": "text/x-python",
   "name": "python",
   "nbconvert_exporter": "python",
   "pygments_lexer": "ipython3",
   "version": "3.11.7"
  },
  "toc": {
   "base_numbering": 1,
   "nav_menu": {},
   "number_sections": false,
   "sideBar": true,
   "skip_h1_title": true,
   "title_cell": "Table of Contents",
   "title_sidebar": "Contents",
   "toc_cell": false,
   "toc_position": {},
   "toc_section_display": true,
   "toc_window_display": false
  }
 },
 "nbformat": 4,
 "nbformat_minor": 5
}
