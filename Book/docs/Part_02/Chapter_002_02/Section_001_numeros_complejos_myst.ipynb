{
 "cells": [
  {
   "cell_type": "markdown",
   "id": "8ddaeb38",
   "metadata": {},
   "source": [
    "> {sub-ref}`today` | {sub-ref}`wordcount-minutes` min read\n",
    "\n",
    "::::{figure} Figuras/Fig_logo_UMA_scbi.png\n",
    ":width: 2000px\n",
    ":align: center\n",
    "::::\n",
    "\n",
    "$ \\newcommand{\\bra}[1]{\\langle #1|} $\n",
    "$ \\newcommand{\\ket}[1]{|#1\\rangle} $\n",
    "$ \\newcommand{\\branew}[1]{\\langle #1|} $\n",
    "$ \\newcommand{\\ketnew}[1]{\\langle #1|} $\n",
    "$ \\newcommand{\\braket}[2]{\\langle #1|#2\\rangle} $\n",
    "$ \\newcommand{\\ketbra}[2]{| #1\\rangle \\langle #2 |} $\n",
    "$ \\newcommand{\\i}{{\\color{blue} i}} $ \n",
    "$ \\newcommand{\\Hil}{{\\cal H}} $\n",
    "$ \\newcommand{\\cg}[1]{{\\rm C}#1} $\n",
    "$ \\newcommand{\\lp}{\\left(} $\n",
    "$ \\newcommand{\\rp}{\\right)} $\n",
    "$ \\newcommand{\\lc}{\\left[} $\n",
    "$ \\newcommand{\\rc}{\\right]} $\n",
    "$ \\newcommand{\\lch}{\\left\\{} $\n",
    "$ \\newcommand{\\rch}{\\right\\}} $\n",
    "$ \\newcommand{\\Lp}{\\Bigl(} $\n",
    "$ \\newcommand{\\Rp}{\\Bigr)} $\n",
    "$ \\newcommand{\\Lc}{\\Bigl[} $\n",
    "$ \\newcommand{\\Rc}{\\Bigr]} $\n",
    "$ \\newcommand{\\Lch}{\\Bigl\\{} $\n",
    "$ \\newcommand{\\Rch}{\\Bigr\\}} $\n",
    "$ \\newcommand{\\rqa}{\\quad \\Rightarrow \\quad} $\n",
    "$ \\newcommand{\\bm}{\\boldsymbol}$"
   ]
  },
  {
   "cell_type": "markdown",
   "id": "080fe82e",
   "metadata": {},
   "source": [
    "# Números complejos\n"
   ]
  },
  {
   "cell_type": "markdown",
   "id": "080fe82e",
   "metadata": {},
   "source": [
    "## Introducción\n"
   ]
  },
  {
   "cell_type": "markdown",
   "id": "080fe82e",
   "metadata": {},
   "source": [
    "Para entender de donde surge la idea de los número complejos, tenemos que recordar primero que el cuadrado de cualquier número real, $a \\in \\mathbb{R}$, es <i>siempre</i> positivo: $a^2 > 0$. Por ejemplo\n",
    "\\begin{equation*}\n",
    "2^2 = (-2)^2 = +4\n",
    "\\end{equation*}\n",
    "Por eso, la raíz cuadrada de un número real <i>sólo</i> existe (como número real) si el número es positivo y tiene dos soluciones, la positiva y la negativa:\n",
    "\\begin{equation*}\n",
    "\\sqrt{4} = \\pm 2\n",
    "\\end{equation*}\n",
    "En este punto, surge la siguiente pregunta: cual es la solución de la siguiente ecuación?\n",
    "\\begin{equation}\n",
    "x^2 + 1 = 0 \\rqa x^2 = -1 \\rqa x = \\sqrt{-1}\n",
    "\\end{equation}\n",
    "Como comentamos, no hay ningún número real que cumpla esa ecuación. Podemos pues, definir un nuevo número. Este número no pertenece a los números reales:\n"
   ]
  },
  {
   "cell_type": "markdown",
   "id": "080fe82e",
   "metadata": {},
   "source": [
    "::::::{card} \n",
    "<b>Definición</b>:  \n",
    "\n",
    "^^^\n",
    "Se postula la existencia de un número, $i$, que es solución de la ecuación\n",
    "\\begin{equation}\n",
    "i^2 = -1\n",
    "\\end{equation}\n",
    "::::::\n",
    "\n\n"
   ]
  },
  {
   "cell_type": "markdown",
   "id": "080fe82e",
   "metadata": {},
   "source": [
    "Equivalentemente $i = \\sqrt{-1}$. No hay nada misterioso en $i$, se puede sumar, restar, multiplicar y dividir normalmente:\n",
    "\\begin{align*}\n",
    "i + i & = 2i \\\\\n",
    "i - i & = 0 \\\\\n",
    "i + 2i & = 3i \\\\\n",
    "i^3 & = i^2 \\cdot i = -i \\\\\n",
    "i^4 & = i^2 \\cdot i^2  = 1 \\\\\n",
    "\\frac{i}{i} & = 1\n",
    "\\end{align*}\n"
   ]
  },
  {
   "cell_type": "markdown",
   "id": "080fe82e",
   "metadata": {},
   "source": [
    "Una vez definido este número, podemos resolver cualquier raíz con un número negativo:\n",
    "\\begin{equation}\n",
    "x^2 + 4 = 0  \\rqa x = \\sqrt{-4} = \\sqrt{4} \\sqrt{-1} = 2i\n",
    "\\end{equation}\n"
   ]
  },
  {
   "cell_type": "markdown",
   "id": "080fe82e",
   "metadata": {},
   "source": [
    "En resumen: la solución pasa por ampliar el conjunto de los número reales definiendo un nuevo conjunto, el de los <b>números imaginarios</b> o <b>complejos</b>, $\\mathbb{C}$\n"
   ]
  },
  {
   "cell_type": "markdown",
   "id": "080fe82e",
   "metadata": {},
   "source": [
    "## Forma cartesiana, polar y conjugación compleja\n"
   ]
  },
  {
   "cell_type": "markdown",
   "id": "080fe82e",
   "metadata": {},
   "source": [
    "Los números complejos pueden escribirse de dos formas diferentes: la forma <b>cartesiana</b> y la forma <b>polar</b>.\n"
   ]
  },
  {
   "cell_type": "markdown",
   "id": "080fe82e",
   "metadata": {},
   "source": [
    "### Forma cartesiana\n"
   ]
  },
  {
   "cell_type": "markdown",
   "id": "080fe82e",
   "metadata": {},
   "source": [
    "::::::{card} \n",
    "\n",
    "\n",
    "Un <i>número complejo</i>, $z \\in \\mathbb{C}$, se representa en la <b>forma cartesiana</b> mediante dos números reales $x,y \\in \\mathbb{R}$,\n",
    "\\begin{equation}\n",
    "z = x + iy \\hspace{0.5cm} \\text{donde} \\hspace{0.5cm}\n",
    "\\lch\n",
    "\\begin{split}\n",
    "x & \\quad \\text{ es la parte real} \\\\\n",
    "y & \\quad \\text{ es la parte imaginaria} \\\\\n",
    "\\end{split}\n",
    "\\right.\n",
    "\\end{equation}\n",
    "::::::\n"
   ]
  },
  {
   "cell_type": "markdown",
   "id": "080fe82e",
   "metadata": {},
   "source": [
    "Como podemos ver, tenemos dos casos:\n",
    "\n",
    " \n- Si $y=0 \\rightarrow z = x$ es un <b>número real puro</b>.\n",
    " \n- Si $x = 0 \\rightarrow z = iy$ es un <b>número imaginario puro</b>.\n",
    "\n",
    "Aquí podemos ver perfectamente que los número complejos (o imaginarios) son una extensión de los números reales, en el sentido de que los engloban: como acabamos de ver, un número real puede verse como un número complejo con la parte imaginaria igual a cero.\n"
   ]
  },
  {
   "cell_type": "markdown",
   "id": "080fe82e",
   "metadata": {},
   "source": [
    "Es bien conocido que los números reales se representan sobre una recta, la <b>recta real</b>. Los números complejos por su parte se representan en un plano, el <b>plano complejo</b>, donde el eje horizontal es la recta real y el eje vertical es el eje imaginario. Esto se ve precisamente muy bien en la forma cartesiana, pues $x$ sería el valor del eje real e $y$ sería el valor del eje imaginario. Podemos ver esto más claramente en la Fig.  {numref}`%s <Fig_formalismo_conjugación>`b).\n"
   ]
  },
  {
   "cell_type": "markdown",
   "id": "080fe82e",
   "metadata": {},
   "source": [
    "::::{figure} Figuras/Fig_subfig_formalismo_nums_en_plano_complejo.png\n",
    ":width: 1000px\n",
    ":align: center\n",
    ":name: Fig_formalismo_conjugación\n",
    "Representaciones de números en el plano complejo.\n",
    "::::\n"
   ]
  },
  {
   "cell_type": "markdown",
   "id": "080fe82e",
   "metadata": {},
   "source": [
    "### Forma Polar\n"
   ]
  },
  {
   "cell_type": "markdown",
   "id": "080fe82e",
   "metadata": {},
   "source": [
    "::::::{prf:theorem} Fórmula de Euler\n",
    "\n",
    "\n",
    "Dado un ángulo $\\theta \\in [0,2 \\pi)$ las dos expresiones siguientes son equivalentes\n",
    "\\begin{equation}\n",
    "\\cos \\theta + i \\sin \\theta = e^{i \\theta}\n",
    "\\end{equation}\n",
    "A esta identidad se la denomina <b>Fórmula de Euler</b>.\n",
    "::::::\n",
    "\n\n"
   ]
  },
  {
   "cell_type": "markdown",
   "id": "080fe82e",
   "metadata": {},
   "source": [
    "::::::::::{dropdown} Demostración\n",
    "La demostración de la Fórmula de Euler viene de expandir ambos miembros en serie de Taylor en torno a $\\theta = 0$ y comprobar que ambas series son iguales\n",
    "\\begin{equation}\n",
    "\\begin{array}{rcl}\n",
    "e^{i\\theta} &=& 1 + i\\theta + \\frac{1}{2}(i\\theta)^2 + \\frac{1}{3!}(i\\theta)^3+\\, ... \\\\\n",
    "&=& 1 -\\frac{1}{2}\\theta^2 ~+~ ... ~+~ i \\left(\\theta - \\frac{1}{3!} \\theta^3+ \\, ...\\right) \\\\\n",
    "&=& \\cos \\theta  + i \\sin \\theta\n",
    "\\end{array}\n",
    "\\end{equation}\n",
    "::::::::::\n"
   ]
  },
  {
   "cell_type": "markdown",
   "id": "080fe82e",
   "metadata": {},
   "source": [
    "Con esto, veamos lo que es la forma polar:\n",
    "::::::{card} \n",
    "\n",
    "\n",
    "El número $z=x + i y$ se puede representar en <b>forma polar</b>\n",
    "```{math}\n",
    ":label: ec_formalismo_forma_polar \n",
    "\\begin{equation} \n",
    "z = \\rho e^{i\\theta} = \\rho (\\cos\\theta + i \\sin\\theta)\n",
    "\\end{equation} \n",
    "```\n",
    "de donde obtenemos las componentes cartesianas\n",
    "\\begin{equation}\n",
    "x=\\rho\\cos\\theta ~~,~~y=\\rho\\sin\\theta.\n",
    "\\end{equation}\n",
    "Tanto $\\rho$ como $\\theta$ son números reales y se denominan <b>módulo</b> y <b>fase</b>.\n",
    "::::::\n"
   ]
  },
  {
   "cell_type": "markdown",
   "id": "080fe82e",
   "metadata": {},
   "source": [
    "En principio, esta forma de representar los números complejos puede parecer rara, pero es muy fácil de entender. Para ello, solo hay que recordar que los números complejos los podemos representar en un plano. Los puntos en un plano pueden verse como <b>vectores</b> que parten del origen y cuya punta acaba en el punto que queremos describir. La forma habitual de referirse a estos vectores (puntos) es usar las coordenadas sobre los dos ejes, es decir, usar lo que en matemáticas se llama <b>sistema de coordenadas cartesiano</b> (ver la Fig.  {numref}`%s <Fig_formalismo_conjugación>`b)). Sin embargo, otra forma de describir estos puntos es usando el módulo del vector (su longitud) y el ángulo que este forma con el eje horizontal (ver la Fig.  {numref}`%s <Fig_formalismo_conjugación>`b)). A esta forma de describir el plano se la llama <b>sistema de coordenadas polar</b>.\n"
   ]
  },
  {
   "cell_type": "markdown",
   "id": "080fe82e",
   "metadata": {},
   "source": [
    "La forma polar que acabamos de ver de los número complejos (Ec.  {eq}`%s <ec_formalismo_forma_polar>`) no es más que describir el número complejo usando el sistema de coordenadas polar. En concreto, el número real $\\rho$ es el módulo del vector y el número real $\\theta$ es su fase, es decir, el ángulo con el eje horizontal. Usando el <b>teorema de Pitágoras</b> para los triángulos rectángulos es muy fácil comprobar que $\\rho$ es el módulo si tenemos en cuenta que $x$ e $y$ son los catetos:\n",
    "\\begin{equation}\n",
    "x^2 + y^2 = \\rho^2 \\cos^2 \\theta + \\rho^2 \\sin^2 \\theta = \\rho^2 (\\cos^2 \\theta +  \\sin^2 \\theta) =  \\rho^2.\n",
    "\\end{equation}\n"
   ]
  },
  {
   "cell_type": "markdown",
   "id": "080fe82e",
   "metadata": {},
   "source": [
    "::::::{admonition} Nota (Números con módulo 1) \n",
    ":class: note\n",
    "\n",
    "\n",
    "\n",
    "Como ya comentamos, a $\\theta$ se le denomina <b>fase</b>. Habitualmente también se denominan fases a los números complejos con $\\rho =1$ pues en estos casos tenemos $z = e^{i \\theta}$. Esto es un abuso del lenguaje pero es algo muy extendido.\n",
    "::::::\n"
   ]
  },
  {
   "cell_type": "markdown",
   "id": "080fe82e",
   "metadata": {},
   "source": [
    "### Conversión entre forma cartesiana y polar\n"
   ]
  },
  {
   "cell_type": "markdown",
   "id": "080fe82e",
   "metadata": {},
   "source": [
    "La conversión de la representación <i>polar a cartesiana</i> es muy sencilla gracias a las fórmula de Euler\n",
    "\\begin{equation}\n",
    "\\boxed{z = r e^{i\\theta} = x + i y ~~~\\hbox{ con }  ~~~\\left\\{\\begin{array}{l} x=r \\cos \\theta \\\\ \\rule{0mm}{4mm} y = r\\sin \\theta . \\end{array} \\right. }\n",
    "\\end{equation}\n",
    "La conversión inversa, <i>de cartesiana a polar</i> es un poco más delicada. Formalmente sería\n",
    "```{math}\n",
    ":label: ec_formalismo_de_cartesiana_a_polar \n",
    "\\begin{equation} \n",
    "\\boxed{z = x + i y  = r e^{i\\theta} ~~~ \\hbox{ con } ~~~ \\left\\{\\begin{array}{l} r=\\sqrt{x^2+y^2} \\\\  \\rule{0mm}{4mm} \\theta = \\arctan(y/x) . \\end{array} \\right.}\n",
    "\\end{equation} \n",
    "```\n"
   ]
  },
  {
   "cell_type": "markdown",
   "id": "080fe82e",
   "metadata": {},
   "source": [
    "::::::{admonition} Nota (Signo de la arcotangente) \n",
    ":class: note\n",
    "\n",
    "\n",
    "\n",
    "En la formula de la arcotangente de la Ec.  {eq}`%s <ec_formalismo_de_cartesiana_a_polar>` hay que elegir el signo con cuidado. La arcotangente devuelve valores en $(-\\pi/2$, $\\pi/2)$, pero sabemos que los ángulos en la circunferencia está en  $[0,2\\pi)$. Por ello, hay que aplicar el siguiente criterio:\n",
    "\n",
    "\n- Si $x=0$ e $y>0$ (sobre el eje $y$) $\\Rightarrow \\theta = \\pi$\n",
    "\n- Si $x=0$ e $y<0$ (sobre el eje $y$) $ \\Rightarrow \\theta = 3\\pi/2$\n",
    "\n- Si $x>0$ e $y \\geq 0$ (primer cuadrante) $ \\Rightarrow \\theta = \\arctan (y/x)$\n",
    "\n- Si $x<0$ e $y \\geq 0$ (segundo cuadrante) $ \\Rightarrow \\theta = \\arctan (-y/x) + \\pi/2$\n",
    "\n- Si $x<0$ e $y<0$ (tercer cuadrante) $ \\Rightarrow \\theta = \\arctan (y/x) + \\pi$\n",
    "\n- Si $x<0$ e $y<0$ (cuarto cuadrante) $ \\Rightarrow \\theta = \\arctan (-y/x) + 3\\pi/2$\n",
    "\n",
    "::::::\n"
   ]
  },
  {
   "cell_type": "markdown",
   "id": "080fe82e",
   "metadata": {},
   "source": [
    "::::::{admonition} Ejercicio\n",
    ":class: tip\n",
    "\n",
    "\n",
    "Calcula a mano la forma polar de los números:\n",
    "\\begin{equation}\n",
    "4 + 3i, \\quad 7 - 2i, \\quad - 5 + 5i, \\quad - 3 + 4i\n",
    "\\end{equation}\n",
    "::::::\n",
    "\n\n"
   ]
  },
  {
   "cell_type": "markdown",
   "id": "080fe82e",
   "metadata": {},
   "source": [
    "### Conjugación compleja\n"
   ]
  },
  {
   "cell_type": "markdown",
   "id": "080fe82e",
   "metadata": {},
   "source": [
    "Todo número complejo, $z$, lleva <i>asociado</i> otro, $z^*$, denominado el <b>complejo conjugado</b> que se obtiene cambiando $i \\to -i$, tanto en forma cartesiana\n",
    "\\begin{equation}\n",
    "\\boxed{z = x+i y ~~~~\\leftrightarrow~~~~ z^* = x - i y}\n",
    "\\end{equation}\n",
    "como en forma polar\n",
    "\\begin{equation}\n",
    "\\boxed{z = \\rho e^{i \\theta} ~~~~\\leftrightarrow~~~~ z^* = \\rho e^{- i \\theta}}\n",
    "\\end{equation}\n"
   ]
  },
  {
   "cell_type": "markdown",
   "id": "080fe82e",
   "metadata": {},
   "source": [
    "Hablando de representaciones, la conjugación compleja no es más que una reflexión sobre el eje horizontal como podemos ver en la Fig.  {numref}`%s <Fig_formalismo_conjugación>`.\n"
   ]
  },
  {
   "cell_type": "markdown",
   "id": "080fe82e",
   "metadata": {},
   "source": [
    "Matemáticamente, el complejo conjugado $z^*$ de un número complejo $z$ es el número por el cual hay que multiplicar $z$ para obtener el módulo cuadrado, es decir:\n",
    "\\begin{equation}\n",
    "\\boxed{|z|^2 = z \\cdot z^* = \\rho^2}\n",
    "\\end{equation}\n"
   ]
  },
  {
   "cell_type": "markdown",
   "id": "080fe82e",
   "metadata": {},
   "source": [
    "## Operaciones básicas\n"
   ]
  },
  {
   "cell_type": "markdown",
   "id": "080fe82e",
   "metadata": {},
   "source": [
    "Los números complejos ${\\mathbb C}$ forman una estructura matemática denominada <i>cuerpo</i>. Esto  quiere decir que admiten dos operaciones <i>internas</i>: la <b>suma</b> y la <b>multiplicación</b>. Vamos a estudiarlas por separado\n"
   ]
  },
  {
   "cell_type": "markdown",
   "id": "080fe82e",
   "metadata": {},
   "source": [
    "### Suma\n"
   ]
  },
  {
   "cell_type": "markdown",
   "id": "080fe82e",
   "metadata": {},
   "source": [
    "\n",
    " \n- En <i>forma cartesiana</i> se <i>suman las partes real e imaginaria por separado</i>\n",
    "    \\begin{equation}\n",
    "    (a + i b) + (c + i d) = (a+c) + i (b+d)\n",
    "    \\end{equation}\n",
    "    La resta es obvia, ya que $a,b,c,d$ pueden ser números negativos.\n",
    " \n- En  <i>forma polar</i>, la suma de dos números complejos no admite ninguna simplificación, y deben transformarse primeramente a forma cartesiana, para sumarse.\n",
    "    \\begin{equation}\n",
    "    z + w = \\rho e^{i\\theta} + \\sigma e^{i\\phi} = (\\rho\\cos\\theta + \\sigma\\cos\\phi) + i(\\rho\\sin\\theta +  \\sigma\\sin\\phi)\n",
    "    \\end{equation}\n",
    "\n"
   ]
  },
  {
   "cell_type": "markdown",
   "id": "080fe82e",
   "metadata": {},
   "source": [
    "### Multiplicación\n"
   ]
  },
  {
   "cell_type": "markdown",
   "id": "080fe82e",
   "metadata": {},
   "source": [
    "\n",
    " \n- En <i>forma cartesiana</i> debemos multiplicar todos los factores entre sí, y teniendo en cuenta que $i^2= -1$\n",
    "    \\begin{equation}\n",
    "    (a + i b) (c + i d) =ac +  ai d +i bc +i^2 bd = (ab - bd) + i(ac + bd)\n",
    "    \\end{equation}\n",
    " \n- En la <i>forma polar</i>, la cosa es más simple, pues solo hay que multiplicar los módulos y sumar las fases:\n",
    "    \\begin{equation}\n",
    "    z w = r e^{i\\theta} s e^{i\\phi} = rs\\,   e^{i(\\theta + \\phi)}\n",
    "    \\end{equation}\n",
    "\n"
   ]
  },
  {
   "cell_type": "markdown",
   "id": "080fe82e",
   "metadata": {},
   "source": [
    "### Valor absoluto\n"
   ]
  },
  {
   "cell_type": "markdown",
   "id": "080fe82e",
   "metadata": {},
   "source": [
    "El cuadrado de un número real $a\\in {\\mathbb R}$ es otro número real positivo $a^2 >0$. Ello nos permite definir\n",
    "el valor absoluto $|a| = \\sqrt{a^2}$ que es el mismo para $a$ y para $-a$.\n"
   ]
  },
  {
   "cell_type": "markdown",
   "id": "080fe82e",
   "metadata": {},
   "source": [
    "Esto no sucede con un número complejo $z$. En efecto,  $z^2 = x^2 - y^2 +2i xy$ es complejo. Sin embargo, el producto de un número por su conjugado es un número <i>real</i> y <i>positivo</i>\n",
    "\\begin{equation}\n",
    "z z^*  = (x + i y) (x-i y) = x^2 + y^2 >0\n",
    "\\end{equation}\n",
    "lo nos permite definir el <b>valor absoluto</b> de un número complejo\n",
    "\\begin{equation}\n",
    "\\boxed{|z| = \\sqrt{z z^*} = \\sqrt{x^2 + y^2}}\n",
    "\\end{equation}\n"
   ]
  },
  {
   "cell_type": "markdown",
   "id": "080fe82e",
   "metadata": {},
   "source": [
    "El valor absoluto de una fase es 1\n",
    "\\begin{equation}\n",
    "|e^{i\\theta}| = \\sqrt{ e^{i\\theta}   e^{-i\\theta}}=\\sqrt{ e^{i(\\theta-\\theta)}}=\\sqrt{e^0} = 1\n",
    "\\end{equation}\n",
    "El valor absoluto de un número complejo coincide con el <b>módulo</b> escrito en forma polar\n",
    "\\begin{equation}\n",
    "|z| = \\sqrt{zz^*} = \\sqrt{\\rho e^{i\\theta} \\rho e^{-i\\theta}}=\\sqrt{\\rho^2} ~~ \\Rightarrow ~~ \\boxed{|z| = \\rho}\n",
    "\\end{equation}\n"
   ]
  },
  {
   "cell_type": "markdown",
   "id": "080fe82e",
   "metadata": {},
   "source": [
    "### División\n"
   ]
  },
  {
   "cell_type": "markdown",
   "id": "080fe82e",
   "metadata": {},
   "source": [
    "Al igual que la multiplicación, en forma cartesiana, la división no es simple. Sea $z = a+ i b$ y $w=c+i d$\n",
    "\\begin{equation}\n",
    "\\frac{z}{w} = \\frac{z}{w}\\frac{w^*}{w^*} = \\frac{( a+ i b)(c-i d)}{|w|^2} = \\frac{ac+bd + i(bc-ad)}{c^2+d^2}  = \\frac{ac+bd}{c^2+d^2} +i\\frac{bc-ad}{c^2+d^2}\n",
    "\\end{equation}\n"
   ]
  },
  {
   "cell_type": "markdown",
   "id": "080fe82e",
   "metadata": {},
   "source": [
    "En forma polar la división es tan sencilla como la multiplicación. Se toma el  cociente de los módulos y la resta de las fases\n",
    "\\begin{equation}\n",
    "\\frac{z}{w} = \\frac{\\rho e^{i\\theta}}{\\sigma e^{i\\phi}} = \\frac{\\rho}{\\sigma} e^{i(\\theta-\\phi)}\n",
    "\\end{equation}\n"
   ]
  },
  {
   "cell_type": "markdown",
   "id": "080fe82e",
   "metadata": {},
   "source": [
    "## Casos particulares\n"
   ]
  },
  {
   "cell_type": "markdown",
   "id": "080fe82e",
   "metadata": {},
   "source": [
    "### Sumas nulas\n"
   ]
  },
  {
   "cell_type": "markdown",
   "id": "080fe82e",
   "metadata": {},
   "source": [
    "En muchas ocasiones nos encontraremos la siguiente representación del numero cero (complejo) $0 = 0 + i 0$\n",
    "\\begin{equation}\n",
    "\\sum_{k=0}^{N-1} e^{2\\pi i k/N} =   e^{2\\pi i\\, 0/N} +  e^{2\\pi i\\, 1/N}  +~...~ +   e^{2\\pi i\\, (N-2)/N}+   e^{2\\pi i\\, (N-1)/N} ~=~  ~0.\n",
    "\\end{equation}\n",
    "No es trivial ver que esta igualdad es cierta, así que no vamos a demostrarla.\n"
   ]
  },
  {
   "cell_type": "markdown",
   "id": "080fe82e",
   "metadata": {},
   "source": [
    "Si multiplicamos todas la fases por un número entero $j$ tal que $1\\leq j \\leq N-1$, el resultado es el mismo\n",
    "\\begin{equation}\n",
    "\\sum_{k=0}^{N-1} e^{2\\pi i j k/N} =   e^{2\\pi i \\, 0/N} +  e^{2\\pi i \\, j/N}  +~...~ +   e^{2\\pi i \\, j(N-2)/N}+   e^{2\\pi i \\, j(N-1)/N} ~=~  ~0.\n",
    "\\end{equation}\n"
   ]
  },
  {
   "cell_type": "markdown",
   "id": "080fe82e",
   "metadata": {},
   "source": [
    "Sin embargo si $j = 0, N, 2N,... = 0\\,\\hbox{mod} N$, entonces <b>la suma no se anula</b> y su valor es igual a $N$. Tomemos por ejemplo $j=N$\n",
    "\\begin{equation}\n",
    "\\sum_{k=0}^{N-1} e^{2\\pi i (N) k/N} = \\sum_{k=0}^{N-1} e^{2\\pi i  k}  =  \\sum_{k=0}^{N-1} 1 =~  ~N.\n",
    "\\end{equation}\n"
   ]
  },
  {
   "cell_type": "markdown",
   "id": "080fe82e",
   "metadata": {},
   "source": [
    "Una manera de resumir todos los casos anteriores en una sola expresión involucra la función $\\delta$ <b>de Kronecker</b>\n",
    "```{math}\n",
    ":label: ec_fundamentos_delta_de_kronecker \n",
    "\\begin{equation} \n",
    "\\delta_{ij} = \\left\\{ \\begin{array}{rcl} 0 & \\hbox{si} & i\\neq j \\\\ 1 & \\hbox{si} & i = j \\end{array} \\right.\n",
    "\\end{equation} \n",
    "```\n",
    "Con ella podemos enunciar el siguiente resultado\n",
    "\\begin{equation}\n",
    "\\boxed{\\frac{1}{N}\\sum_{k=0}^{N-1} e^{2\\pi i \\, j k/N} =  \\delta_{j\\, 0{\\rm mod} N}},\n",
    "\\end{equation}\n",
    "que usaremos al estudiar la transformada de Fourier cuántica.\n"
   ]
  },
  {
   "cell_type": "markdown",
   "id": "080fe82e",
   "metadata": {},
   "source": [
    "### Desigualdad triangular\n"
   ]
  },
  {
   "cell_type": "markdown",
   "id": "080fe82e",
   "metadata": {},
   "source": [
    "::::::{card} \n",
    "\n",
    "\n",
    "<b>Desigualdad triangular</b>:\n",
    "\n",
    "El módulo de la suma de dos números complejos verifica que\n",
    "\\begin{equation}\n",
    "| z+w| \\leq |z| + |w| \\,\n",
    "\\end{equation}\n",
    "donde la igualdad sólo se verifica cuando ambos números complejos son paralelos en el plano complejo.\n",
    "::::::\n"
   ]
  },
  {
   "cell_type": "markdown",
   "id": "8534e04c",
   "metadata": {},
   "source": [
    "::::{figure} https://quantumspain-project.es/wp-content/uploads/2022/11/Logo_QS_EspanaDigital.png\n",
    ":width: 2000px\n",
    ":align: center\n",
    "::::\n",
    "\n",
    "<center>\n",
    "<img align=\"left\" src=\"https://quantumspain-project.es/wp-content/uploads/2024/02/Banner-QS_GOB_v2.png\" width=\"1000px\" />\n",
    "</center>"
   ]
  }
 ],
 "metadata": {
  "kernelspec": {
   "display_name": "Python 3 (ipykernel)",
   "language": "python",
   "name": "python3"
  },
  "language_info": {
   "codemirror_mode": {
    "name": "ipython",
    "version": 3
   },
   "file_extension": ".py",
   "mimetype": "text/x-python",
   "name": "python",
   "nbconvert_exporter": "python",
   "pygments_lexer": "ipython3",
   "version": "3.11.7"
  },
  "toc": {
   "base_numbering": 1,
   "nav_menu": {},
   "number_sections": false,
   "sideBar": true,
   "skip_h1_title": true,
   "title_cell": "Table of Contents",
   "title_sidebar": "Contents",
   "toc_cell": false,
   "toc_position": {},
   "toc_section_display": true,
   "toc_window_display": false
  }
 },
 "nbformat": 4,
 "nbformat_minor": 5
}
