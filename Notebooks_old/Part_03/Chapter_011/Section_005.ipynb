{
 "cells": [
  {
   "cell_type": "markdown",
   "id": "8ddaeb38",
   "metadata": {},
   "source": [
    "<figure><center>\n",
    "<img   src=\"../../Figuras/Fig_logo_UMA_scbi.png\" align=center  width=\"2000px\"/>\n",
    "</center></figure>\n",
    "\n",
    "$ \\newcommand{\\bra}[1]{\\langle #1|} $\n",
    "$ \\newcommand{\\ket}[1]{|#1\\rangle} $\n",
    "$ \\newcommand{\\braket}[2]{\\langle #1|#2\\rangle} $\n",
    "$ \\newcommand{\\i}{{\\color{blue} i}} $ \n",
    "$ \\newcommand{\\Hil}{{\\cal H}} $\n",
    "$ \\newcommand{\\cg}[1]{{\\rm C}#1} $\n",
    "$ \\newcommand{\\lp}{\\left(} $\n",
    "$ \\newcommand{\\rp}{\\right)} $\n",
    "$ \\newcommand{\\lc}{\\left[} $\n",
    "$ \\newcommand{\\rc}{\\right]} $\n",
    "$ \\newcommand{\\lch}{\\left\\{} $\n",
    "$ \\newcommand{\\rch}{\\right\\}} $\n",
    "$ \\newcommand{\\Lp}{\\Bigl(} $\n",
    "$ \\newcommand{\\Rp}{\\Bigr)} $\n",
    "$ \\newcommand{\\Lc}{\\Bigl[} $\n",
    "$ \\newcommand{\\Rc}{\\Bigr]} $\n",
    "$ \\newcommand{\\Lch}{\\Bigl\\{} $\n",
    "$ \\newcommand{\\Rch}{\\Bigr\\}} $\n",
    "$ \\newcommand{\\rqa}{\\quad \\Rightarrow \\quad} $\n",
    "$ \\newcommand{\\bm}{\\boldsymbol}$"
   ]
  },
  {
   "cell_type": "markdown",
   "id": "080fe82e",
   "metadata": {},
   "source": [
    "# Universalidad de la computación cuántica con puertas. <a id='sec_elementos_universalidad'></a>\n"
   ]
  },
  {
   "cell_type": "markdown",
   "id": "080fe82e",
   "metadata": {},
   "source": [
    "El objetivo de un \\textbf{computador cuántico universal} es el de ser capaz de implementar el operador unitario más general\n",
    "$$\n",
    "U  = \\sum_x \\ket{f(x)}\\bra{x}\n",
    "$$\n",
    "donde $f: x \\to f(x)$ es una función arbitraria invertible.\n"
   ]
  },
  {
   "cell_type": "markdown",
   "id": "080fe82e",
   "metadata": {},
   "source": [
    "## Teorema\n"
   ]
  },
  {
   "cell_type": "markdown",
   "id": "080fe82e",
   "metadata": {},
   "source": [
    "\\Teorema{ \\textit{(Barenco et. al. 1995):} Cualquier operador unitario $U_n$ sobre $n$ qúbits puede expresarse como el\n",
    "producto de\n"
   ]
  },
  {
   "cell_type": "markdown",
   "id": "080fe82e",
   "metadata": {},
   "source": [
    "- puertas continuas de \\textit{un qúbit}\n",
    "- puertas CNOT\n"
   ]
  },
  {
   "cell_type": "markdown",
   "id": "080fe82e",
   "metadata": {},
   "source": [
    "}\n"
   ]
  },
  {
   "cell_type": "markdown",
   "id": "080fe82e",
   "metadata": {},
   "source": [
    "Podemos ver un ejemplo de este teorema en la Fig. \\ref{Fig_elementos_Equiv_Phase}.\n",
    "<figure><center>\n",
    "<br>\n",
    "<img src=\"Figuras/Fig_elementos_Equiv_Phase\" alt=\"\" align=center width='600px'/>\n",
    "<center>Descomposión de la puerta $\\cg{P_\\phi}$ en puertas de un qúbit y CNOTs</center>\n",
    "<a id='Fig_elementos_Equiv_Phase'></a>\n",
    "</center></figure>\n\n"
   ]
  },
  {
   "cell_type": "markdown",
   "id": "080fe82e",
   "metadata": {},
   "source": [
    "<details><summary><p style=\"color:blue\" > >> <i>Demostración</i> </p></summary>\n",
    "No vamos a ver en detalle la demostración pero su vamos a ilustrar cuales son los pasos a seguir:\n",
    "\\begin{enumerate}\n",
    "\\item Cualquier operador $U_n$ sobre $n$ cúbits se puede descomponer como \\textbf{producto de operadores} $\\cg{^kU}$\n",
    "controlados por $k$ cúbits.\n",
    "<br>\n",
    "\\item Los operadores $\\hbox{C}^kU$ se pueden descomponer como productos de un  operador $\\cg{U}$ y puertas de Toffoli (CCNOT).\n",
    "En general para $\\cg{^kU}$ necesitamos $k-1$ ancillas, como podemos ver en la Fig. \\ref{Fig_universal_CkUdecomposition}.\n",
    "<figure><center>\n",
    "<br>\n",
    "<img src=\"Figuras/Fig_universal_CkUdecomposition\" alt=\"\" align=center width='650px'/>\n",
    "<center>Descomposión de una puerta $U$ multicontrolada.</center>\n",
    "<a id='Fig_universal_CkUdecomposition'></a>\n",
    "</center></figure>\n\n",
    "<br>\n",
    "<br>\n",
    "\\item Las puertas de Toffoli puede descomponerse como productos de $H$, $\\cg{X}$ y $\\cg{S}$, como podemos ver en la\n",
    "Fig. \\ref{Fig_universal_Toffolidecomposition}. Este no es más que el caso particular  de la descomposición general\n",
    "de $\\cg{^2U}$ de la Fig. \\ref{Fig_elementos_CCUdecomposition} usando\n",
    "$U = X = HZH=HSSH =  (HSH)(HSH)= V^2 ~~\\Rightarrow ~~V = HSH$.\n",
    "<figure><center>\n",
    "<br>\n",
    "<img src=\"Figuras/Fig_universal_Toffolidecomposition\" alt=\"\" align=center width='650px'/>\n",
    "<center>Descomposión de la puerta Toffoli.</center>\n",
    "<a id='Fig_universal_Toffolidecomposition'></a>\n",
    "</center></figure>\n\n",
    "<br>\n",
    "\\item Una puerta $\\cg{U}$ puede descomponerse de forma única usando tres rotaciones $A, B$ y $C$ que verifiquen\n",
    "\\begin{equation}\n",
    "ABC = I ~~~~~,~~~~ e^{i\\delta}  AXBXC = U\\, ,\n",
    "\\end{equation}\n",
    "siguiendo el circuito de la Fig. \\ref{Fig_universal_CUdecomposition}\n",
    "<figure><center>\n",
    "<br>\n",
    "<img src=\"Figuras/Fig_universal_CUdecomposition\" alt=\"\" align=center width='650px'/>\n",
    "<center>Descomposión de $\\cg{U}$.</center>\n",
    "<a id='Fig_universal_CUdecomposition'></a>\n",
    "</center></figure>\n\n",
    "En efecto, si el qúbit de control es $\\ket{0}$ la fase $P(\\delta)$ no le afecta y el operador efectivo en el segundo\n",
    "qúbit es $ABC= I$. Por el contrario, si el primer qúbits es $\\ket{1}$, entonces se aplica $AXBXC$ al segundo qúbit, y\n",
    "el operador $P(\\delta)$ añade la fase global, que al ser global podemos pasársela al segundo qúbit, lo que hace\n",
    "$e^{i\\delta} AXBXC = U$.\n",
    "<br>\n",
    "<div class=\"alert alert-block alert-danger\">\n",
    "<p style=\"color: DarkRed;\">\n",
    "<b>Nota</b>:\n",
    "<br>\n",
    "Las dos condiciones  algebráicas admiten una solución única para un operador unitario genérico\n",
    "\\begin{align*}\n",
    "U = & e^{i\\delta}\n",
    "\\begin{bmatrix}\n",
    "e^{-i(\\alpha+\\beta)/2} \\cos\\frac{\\theta}{2}  &  - e^{i(-\\alpha+\\beta)/2}\\sin\\frac{\\theta}{2}  \\\\  \\rule{0mm}{5mm}\n",
    "e^{i(\\alpha-\\beta)/2}\\sin\\frac{\\theta}{2}    &  e^{i(\\alpha+\\beta)/2}\\cos\\frac{\\theta}{2}\n",
    "\\end{bmatrix}\n",
    "= e^{i\\delta} AXBXC ~  \\Longrightarrow ~ \\\\ \\vspace{5mm}\n",
    "& \\Longrightarrow\n",
    "\\left\\{ \\begin{array}{l}\n",
    "A = R_z(\\alpha) R_y\\left(\\frac{\\theta}{2}\\right) \\\\\n",
    "B = R_y\\left(-\\frac{\\theta}{2}\\right) R_z\\left(-\\frac{\\alpha + \\beta}{2}\\right) \\\\\n",
    "C = R_z\\left( \\frac{\\beta-\\alpha}{2}\\right)\n",
    "\\end{array} \\right.\n",
    "\\end{align*}\n",
    "<br>\n",
    "Como $U\\in U(2)$  es un operador unitario y  su determinante es una fase $\\det U = e^{i\\delta}$. Por su parte\n",
    "$\\det(AXBXC) = 1$, y por tanto es un elemento de $SU(2)$.  Por esta razón es necesario añadir la fase $e^{i\\delta}$\n",
    "para obtener un operador unitario general.\n",
    "</p></div>\n",
    "<br>\n",
    "\\end{enumerate}\n",
    "</details>\n"
   ]
  },
  {
   "cell_type": "markdown",
   "id": "080fe82e",
   "metadata": {},
   "source": [
    "## Conjuntos de puertas universales\n"
   ]
  },
  {
   "cell_type": "markdown",
   "id": "080fe82e",
   "metadata": {},
   "source": [
    "La descomposición del teorema de Barenco es  una identidad exacta capaz de descomponer un conjunto infinito y continuo de operadores $U_n$ en puertas CNOT y puertas \\textit{continuas} $U$. Por otro lado, esto coincide con la demanda de la computación cuántica \\textbf{resistente a errores (fault tolerant)} de una discretización del proceso de computación. De esta forma, lo que se busca es un \\textit{conjunto discreto de puertas universales} susceptibles de ser implementadas de manera resistente a errores.\n"
   ]
  },
  {
   "cell_type": "markdown",
   "id": "080fe82e",
   "metadata": {},
   "source": [
    "Este conjunto de puertas universales puede ser diferente dependiendo de la plataforma utilizada. Por ejemplo, circuitos superconductores se usan, entre otras, las bases\n"
   ]
  },
  {
   "cell_type": "markdown",
   "id": "080fe82e",
   "metadata": {},
   "source": [
    "- Shor basis: $\\{ H$, $T$, CNOT$ \\}$\n",
    "- NCT: $\\{ X$, CNOT, Toffoli $\\}$\n"
   ]
  },
  {
   "cell_type": "markdown",
   "id": "080fe82e",
   "metadata": {},
   "source": [
    "Es importante relacionar las puertas universales con \\textbf{puertas nativas} (las que de verdad se implementan y se usan para construir las demás). Por ejemplo, en ordenadores de iones atrapados hay las siguientes puertas nativas \\cite{IONQ}:\n",
    "$$\n",
    "\\{ \\hbox{GPi},\\hbox{Virtual}Z, \\hbox{MS}\\}\n",
    "$$\n",
    "donde\n",
    "$$\n",
    "\\hbox{GPi} = \\begin{bmatrix} 0 & e^{-i\\phi} \\\\e^{i\\phi} & 0 \\end{bmatrix}~~~,~~~\n",
    "\\hbox{Virtual}Z = \\begin{bmatrix} e^{-i\\phi} & 0 \\\\ 0 & e^{i\\phi} \\end{bmatrix} ~~,~~~~\n",
    "$$\n",
    "y la puerta de Mølmer-Sørensen\n",
    "$$\n",
    "MS(\\phi_1,\\phi_2) = \\frac{1}{\\sqrt{2}}\n",
    "\\begin{bmatrix}\n",
    "1 & 0 & 0 & e^{-i(\\phi_1+\\phi_2)} \\\\ 0 & 1 &-i e^{-i(\\phi_1-\\phi_2)} & 0 \\\\ 0 & -i e^{i(\\phi_1-\\phi_2)} & 1 & 0  \\\\\n",
    "-ie^{i(\\phi_1+\\phi_2)} & 0 & 0 & 1\n",
    "\\end{bmatrix}\n",
    "$$\n"
   ]
  },
  {
   "cell_type": "markdown",
   "id": "8534e04c",
   "metadata": {},
   "source": [
    "<figure><center>\n",
    "<img   src=\"https://quantumspain-project.es/wp-content/uploads/2022/11/Logo_QS_EspanaDigital.png\" align=center  width=\"2000px\"/>\n",
    "</center></figure>\n",
    "\n",
    "<center>\n",
    "<img align=\"left\" src=\"https://quantumspain-project.es/wp-content/uploads/2024/02/Banner-QS_GOB_v2.png\" width=\"1000px\" />\n",
    "</center>"
   ]
  }
 ],
 "metadata": {
  "kernelspec": {
   "display_name": "Python 3 (ipykernel)",
   "language": "python",
   "name": "python3"
  },
  "language_info": {
   "codemirror_mode": {
    "name": "ipython",
    "version": 3
   },
   "file_extension": ".py",
   "mimetype": "text/x-python",
   "name": "python",
   "nbconvert_exporter": "python",
   "pygments_lexer": "ipython3",
   "version": "3.11.7"
  },
  "toc": {
   "base_numbering": 1,
   "nav_menu": {},
   "number_sections": false,
   "sideBar": true,
   "skip_h1_title": true,
   "title_cell": "Table of Contents",
   "title_sidebar": "Contents",
   "toc_cell": false,
   "toc_position": {},
   "toc_section_display": true,
   "toc_window_display": false
  }
 },
 "nbformat": 4,
 "nbformat_minor": 5
}
