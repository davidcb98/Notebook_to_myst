{
 "cells": [
  {
   "cell_type": "markdown",
   "id": "8ddaeb38",
   "metadata": {},
   "source": [
    "<figure><center>\n",
    "<img   src=\"../../Figuras/Fig_logo_UMA_scbi.png\" align=center  width=\"2000px\"/>\n",
    "</center></figure>\n",
    "\n",
    "$ \\newcommand{\\bra}[1]{\\langle #1|} $\n",
    "$ \\newcommand{\\ket}[1]{|#1\\rangle} $\n",
    "$ \\newcommand{\\braket}[2]{\\langle #1|#2\\rangle} $\n",
    "$ \\newcommand{\\i}{{\\color{blue} i}} $ \n",
    "$ \\newcommand{\\Hil}{{\\cal H}} $\n",
    "$ \\newcommand{\\cg}[1]{{\\rm C}#1} $\n",
    "$ \\newcommand{\\lp}{\\left(} $\n",
    "$ \\newcommand{\\rp}{\\right)} $\n",
    "$ \\newcommand{\\lc}{\\left[} $\n",
    "$ \\newcommand{\\rc}{\\right]} $\n",
    "$ \\newcommand{\\lch}{\\left\\{} $\n",
    "$ \\newcommand{\\rch}{\\right\\}} $\n",
    "$ \\newcommand{\\Lp}{\\Bigl(} $\n",
    "$ \\newcommand{\\Rp}{\\Bigr)} $\n",
    "$ \\newcommand{\\Lc}{\\Bigl[} $\n",
    "$ \\newcommand{\\Rc}{\\Bigr]} $\n",
    "$ \\newcommand{\\Lch}{\\Bigl\\{} $\n",
    "$ \\newcommand{\\Rch}{\\Bigr\\}} $\n",
    "$ \\newcommand{\\rqa}{\\quad \\Rightarrow \\quad} $\n",
    "$ \\newcommand{\\bm}{\\boldsymbol}$"
   ]
  },
  {
   "cell_type": "markdown",
   "id": "080fe82e",
   "metadata": {},
   "source": [
    "# En la base computacional\n",
    "## Superposiciones, medidas y colapso.\n"
   ]
  },
  {
   "cell_type": "markdown",
   "id": "080fe82e",
   "metadata": {},
   "source": [
    "En mecánica cuántica podemos tener un estado que sea la \\textbf{superposición} de varios estado. Por ejemplo, el estado de un qúbit puede ser la superposición de los estados $\\ket{0}$ y $\\ket{1}$, esto es\n",
    "\\begin{equation}\n",
    "\\boxed{\\ket{u} = \\cos{\\frac{\\theta}{2}}\\, |0\\rangle + e^{i\\varphi}\\sin{\\frac{\\theta}{2}}\\,|1\\rangle }\n",
    "\\end{equation}\n",
    "Sin embargo, al medir solo obtenemos \\textbf{uno de estos estado de la superposición}. La probabilidad de medir cada uno de estos estados que forman la superposición es igual \\textbf{al módulo cuadrado del coeficiente que lo acompaña en el vector}  $\\ket{\\psi}$ (el módulo cuadrado de la amplitud de ese estado). En este caso vemos que la probabilidad de medir el estado $\\ket{0}$ es $|\\alpha|^2$ y la de medir $\\ket{1}$ es $|\\beta|^2$.\n"
   ]
  },
  {
   "cell_type": "markdown",
   "id": "080fe82e",
   "metadata": {},
   "source": [
    "El aparato de medida estándar en computación cuántica asigna valores $\\{0,1\\}$ a los kets $\\ket{0}$ y $\\ket{1}$ de la base computacional. Su representación en un circuito podemos verla en la Fig. \\ref{Fig_medidas1_cubit_meter}. En esta figura vemos que tenemos dos formas de medir: una destructiva y otra no destructiva. La explicación es simple: dependiendo de como esté construido el ordenador cuántico, nuestra medida destruirá o no el estado del qúbit al medirlo.\n"
   ]
  },
  {
   "cell_type": "markdown",
   "id": "080fe82e",
   "metadata": {},
   "source": [
    "En el caso en el que el estado no se destruya, lo que pasará será que el qúbit \\textbf{colapsará} al estado medido. Esto es el famosos \\textbf{colapso de la función de ondas} en mecánica cuántica. Si, por ejemplo, al medir nuestro qúbit obtenemos que estado $\\ket{0}$, la superposición desaparece y nuestro qubit pasa a estar en el estado $\\ket{0}$.\n"
   ]
  },
  {
   "cell_type": "markdown",
   "id": "080fe82e",
   "metadata": {},
   "source": [
    "\\begin{figure}[H] \\setcounter{subfigure}{0}\n",
    "\\centering\n",
    "\\subfigure[Medida no destructiva. \\label{Fig_medidas1_cubit_meter1}]{\\includegraphics[width=0.3\\linewidth]{Figuras/Fig_medidas1_cubit_meter1}}  \\hspace{2cm}\n",
    "\\subfigure[Medida destructiva. \\label{Fig_medidas1_cubit_meter2}]{\\includegraphics[width=0.3\\linewidth]{Figuras/Fig_medidas1_cubit_meter2}}\n",
    "\\caption{Medidas de un qubit en el estado $\\ket{\\psi}$ en un circuito cuántico. El resultado puede ser $a = 0$ o $a=1$. La linea simple representa un qubit, mientras que la linea doble representa un bit clásico. Figura tomada de \\cite{Curso-JMas}}\n",
    "\\label{Fig_medidas1_cubit_meter}\n",
    "\\end{figure}\n"
   ]
  },
  {
   "cell_type": "markdown",
   "id": "080fe82e",
   "metadata": {},
   "source": [
    "## Sobre medir en la base computaciones.\n"
   ]
  },
  {
   "cell_type": "markdown",
   "id": "080fe82e",
   "metadata": {},
   "source": [
    "Los elementos de la base computacional $\\ket{a}\\in \\{\\ket{0},\\ket{1}\\}$, son autoestados del \\textbf{observable} $Z = \\sigma_z $, cuyos autovalores son $+1$ y $-1$ respectivamente, cumpliendo\n",
    "$$\n",
    "Z\\ket{0} = +\\ket{0}~~~~,~~~~~ Z\\ket{1} = -\\ket{1}\n",
    "$$\n",
    "Podemos unificar ambos resultados como: $Z\\ket{a} = (-1)^a\\ket{a}$, con  $a=\\{0,1\\}$. Es decir, lo que estamos haciendo es medir el observable $Z$ (por ejemplo, medir el espín en el eje $z$) y si obtenemos el autovalor $+1$ decimos que tenemos un 0, mientras que si medimos el autovalor $-1$, decimos que tenemos un $1$.\n"
   ]
  },
  {
   "cell_type": "markdown",
   "id": "080fe82e",
   "metadata": {},
   "source": [
    "## Código de Qiskit: simulación de un estado y medida.  <a id='sec_medidas_subsub_codigo'></a>\n"
   ]
  },
  {
   "cell_type": "markdown",
   "id": "080fe82e",
   "metadata": {},
   "source": [
    "\\begin{mybox_orange}{Jypyter Notebook: 02-Circuitos\\_1\\_qubit\\_medidas\\_y\\_RealHardware parte 1}\n",
    "En la primera parte del notebook \\textbf{02-Circuitos\\_1\\_qubit\\_medidas\\_y\\_RealHardware} puede verse como construir circuitos de un qúbit en qiskit,\n",
    "como añadir puertas de un qúbit, como añadir los medidores y como hacer la simulación. Además de como guardar figuras de los\n",
    "circuitos y de como generar histogramas con los resultados.\n",
    "\\end{mybox_orange}\n"
   ]
  },
  {
   "cell_type": "markdown",
   "id": "080fe82e",
   "metadata": {},
   "source": [
    "## Código de Qiskit: ejecución en un ordenador real.\n"
   ]
  },
  {
   "cell_type": "markdown",
   "id": "080fe82e",
   "metadata": {},
   "source": [
    "\\begin{mybox_orange}{Jypyter Notebook: 02-Circuitos\\_1\\_qubit\\_medidas\\_y\\_RealHardware parte 2}\n",
    "En la segunda parte del notebook \\textbf{02-Circuitos\\_1\\_qubit\\_medidas\\_y\\_RealHardware} puede verse como mandar circuitos a ejecutar en ordenadores\n",
    "cuánticos reales de IBM.\n",
    "\\end{mybox_orange}\n"
   ]
  },
  {
   "cell_type": "markdown",
   "id": "8534e04c",
   "metadata": {},
   "source": [
    "<figure><center>\n",
    "<img   src=\"https://quantumspain-project.es/wp-content/uploads/2022/11/Logo_QS_EspanaDigital.png\" align=center  width=\"2000px\"/>\n",
    "</center></figure>\n",
    "\n",
    "<center>\n",
    "<img align=\"left\" src=\"https://quantumspain-project.es/wp-content/uploads/2024/02/Banner-QS_GOB_v2.png\" width=\"1000px\" />\n",
    "</center>"
   ]
  }
 ],
 "metadata": {
  "kernelspec": {
   "display_name": "Python 3 (ipykernel)",
   "language": "python",
   "name": "python3"
  },
  "language_info": {
   "codemirror_mode": {
    "name": "ipython",
    "version": 3
   },
   "file_extension": ".py",
   "mimetype": "text/x-python",
   "name": "python",
   "nbconvert_exporter": "python",
   "pygments_lexer": "ipython3",
   "version": "3.11.7"
  },
  "toc": {
   "base_numbering": 1,
   "nav_menu": {},
   "number_sections": false,
   "sideBar": true,
   "skip_h1_title": true,
   "title_cell": "Table of Contents",
   "title_sidebar": "Contents",
   "toc_cell": false,
   "toc_position": {},
   "toc_section_display": true,
   "toc_window_display": false
  }
 },
 "nbformat": 4,
 "nbformat_minor": 5
}
