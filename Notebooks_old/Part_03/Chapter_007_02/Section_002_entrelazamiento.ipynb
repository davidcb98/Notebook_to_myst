{
 "cells": [
  {
   "cell_type": "markdown",
   "id": "8ddaeb38",
   "metadata": {},
   "source": [
    "<figure><center>\n",
    "<img   src=\"Figuras/Fig_logo_UMA_scbi.png\" align=center  width=\"2000px\"/>\n",
    "</center></figure>\n",
    "\n",
    "$ \\newcommand{\\bra}[1]{\\langle #1|} $\n",
    "$ \\newcommand{\\ket}[1]{|#1\\rangle} $\n",
    "$ \\newcommand{\\branew}[1]{\\langle #1|} $\n",
    "$ \\newcommand{\\ketnew}[1]{\\langle #1|} $\n",
    "$ \\newcommand{\\braket}[2]{\\langle #1|#2\\rangle} $\n",
    "$ \\newcommand{\\ketbra}[2]{| #1\\rangle \\langle #2 |} $\n",
    "$ \\newcommand{\\i}{{\\color{blue} i}} $ \n",
    "$ \\newcommand{\\Hil}{{\\cal H}} $\n",
    "$ \\newcommand{\\cg}[1]{{\\rm C}#1} $\n",
    "$ \\newcommand{\\lp}{\\left(} $\n",
    "$ \\newcommand{\\rp}{\\right)} $\n",
    "$ \\newcommand{\\lc}{\\left[} $\n",
    "$ \\newcommand{\\rc}{\\right]} $\n",
    "$ \\newcommand{\\lch}{\\left\\{} $\n",
    "$ \\newcommand{\\rch}{\\right\\}} $\n",
    "$ \\newcommand{\\Lp}{\\Bigl(} $\n",
    "$ \\newcommand{\\Rp}{\\Bigr)} $\n",
    "$ \\newcommand{\\Lc}{\\Bigl[} $\n",
    "$ \\newcommand{\\Rc}{\\Bigr]} $\n",
    "$ \\newcommand{\\Lch}{\\Bigl\\{} $\n",
    "$ \\newcommand{\\Rch}{\\Bigr\\}} $\n",
    "$ \\newcommand{\\rqa}{\\quad \\Rightarrow \\quad} $\n",
    "$ \\newcommand{\\bm}{\\boldsymbol}$"
   ]
  },
  {
   "cell_type": "markdown",
   "id": "080fe82e",
   "metadata": {},
   "source": [
    "# Entrelazamiento\n"
   ]
  },
  {
   "cell_type": "markdown",
   "id": "080fe82e",
   "metadata": {},
   "source": [
    "De forma  general, los estados $\\ket{u}\\in \\mathcal{H}^{\\otimes n}$ pertenecen a dos conjuntos disjuntos\n",
    "\n",
    "- Estados <b>factorizables</b>, cuando $\\ket{u} = \\ket{a}\\otimes \\ket{b}\\otimes...\\otimes \\ket{c}$\n",
    "- Estados <b>entrelazados</b>, cuando $\\ket{u}$ no es factorizable\n",
    " \n\n"
   ]
  },
  {
   "cell_type": "markdown",
   "id": "080fe82e",
   "metadata": {},
   "source": [
    "Ejemplos de estados factorizables serían\n",
    "\\begin{align*}\n",
    "\\ket{ \\Psi} & = \\frac{1}{\\sqrt{4}} \\lp \\ket{00} + \\ket{01} + \\ket{10} + \\ket{11} \\rp =\n",
    "\\frac{1}{\\sqrt{4}} \\lp \\ket{0} + \\ket{1} \\rp \\otimes \\lp \\ket{0} + \\ket{1} \\rp \\\\\n",
    "\\ket{ \\Psi} & = \\frac{1}{\\sqrt{2}} \\lp  \\ket{10} + \\ket{11} \\rp =\n",
    "\\frac{1}{\\sqrt{4}}  \\ket{1}  \\otimes \\lp \\ket{0} + \\ket{1} \\rp \\\\\n",
    "\\end{align*}\n",
    "Veremos un poco más sobre el entrelazamiento en la sección \\ref{sec_subsub_multiqubit_medidas_parciales}\n"
   ]
  },
  {
   "cell_type": "markdown",
   "id": "080fe82e",
   "metadata": {},
   "source": [
    "## Base de Bell\n"
   ]
  },
  {
   "cell_type": "markdown",
   "id": "080fe82e",
   "metadata": {},
   "source": [
    "Hasta ahora las bases que hemos usado eran todas de elementos factorizables. Podemos sin embargo usar también bases cuyo elementos sean vectores entrelazados. El ejemplo más común de base entrelazada es la <b>base del Bell</b>:\n",
    "\n",
    "- <b>Base computacional (factorizable)</b>: $\\{ \\ket{00},\\ket{01},\\ket{10},\\ket{11} \\}$\n",
    "- <b>Base de Bell (entrelazada)</b>:\n",
    "\\begin{equation} \\label{ec_multiqubit_Bell_states}\n",
    "\\begin{array}{rcl}\n",
    "\\ket{B_{00}} &=& \\frac{1}{\\sqrt{2}} \\big( \\ket{00} + \\ket{11} \\big)  \\\\\n",
    "\\ket{B_{01}} &=& \\frac{1}{\\sqrt{2}} \\big( \\ket{01} + \\ket{10} \\big)  \\\\\n",
    "\\ket{B_{10}} &=& \\frac{1}{\\sqrt{2}} \\big( \\ket{00} - \\ket{11} \\big)  \\\\\n",
    "\\ket{B_{11}} &=& \\frac{1}{\\sqrt{2}} \\big( \\ket{01} - \\ket{10} \\big) \\\\\n",
    "\\end{array}\n",
    "\\end{equation}\n",
    " \n\n"
   ]
  },
  {
   "cell_type": "markdown",
   "id": "080fe82e",
   "metadata": {},
   "source": [
    "## Medidas parciales <a id='sec_subsub_multiqubit_medidas_parciales'></a>\n"
   ]
  },
  {
   "cell_type": "markdown",
   "id": "080fe82e",
   "metadata": {},
   "source": [
    "Una medida parcial afecta sólamente a un subconjunto de qúbits de un multi-qúbit. Es decir, solo afecta a uno o varios de los espacios de Hilbert, pero no a todos. Aquí encontramos una diferencia crucial entre estados factorizados y entrelazados.\n"
   ]
  },
  {
   "cell_type": "markdown",
   "id": "080fe82e",
   "metadata": {},
   "source": [
    "### Medidas parciales en un estado factorizable.\n"
   ]
  },
  {
   "cell_type": "markdown",
   "id": "080fe82e",
   "metadata": {},
   "source": [
    "Consideremos el estado bi-qúbit <b>factorizable</b>\n",
    "\\begin{equation}\n",
    "\\ket{u} = \\ket{a}\\otimes \\ket{b} = \\frac{1}{\\sqrt{2}}\\big( \\ket{0} + \\ket{1}\\big)\\otimes \\frac{1}{\\sqrt{2}}\\big( \\ket{0} + \\ket{1}\\big)\\, .\n",
    "\\end{equation}\n",
    "Una medida sobre el primer qúbit solo podrá resultar, con probabilidad $1/2$, en uno de los dos posibles estados siguientes\n",
    "\\begin{equation}\n",
    "\\ket{u} ~\\rightarrow ~ \\left\\{ \\begin{matrix}\\ket{0} \\otimes \\frac{1}{\\sqrt{2}}\\big( \\ket{0} + \\ket{1}\\big)\\\\ \\ket{1} \\otimes \\frac{1}{\\sqrt{2}}\\big( \\ket{0} + \\ket{1}\\big) \\end{matrix} \\right.\n",
    "\\end{equation}\n",
    "Vemos que, después de esta medición, el segundo qúbit permanece intacto. Es decir, si medimos el segundo qúbit seguimos teniendo una probabilidad 1/2 de medir $\\ket{0}$ o $\\ket{1}$.\n"
   ]
  },
  {
   "cell_type": "markdown",
   "id": "080fe82e",
   "metadata": {},
   "source": [
    "### Medidas parciales en un estado factorizable.\n"
   ]
  },
  {
   "cell_type": "markdown",
   "id": "080fe82e",
   "metadata": {},
   "source": [
    "Sin embargo, si el estado es <b>entrelazado</b>, por ejemplo,\n",
    "\\begin{equation}\n",
    "\\ket{B_{00}} = \\frac{1}{\\sqrt{2}}\\big( \\ket{00} + \\ket{11} \\big)\\, ,\n",
    "\\end{equation}\n",
    "una medida sobre el primer cúbit hace colapsar el segundo a uno de los dos siguientes posibles estados\n",
    "\\begin{equation}\n",
    "\\ket{B_{00}} ~\\rightarrow ~ \\left\\{ \\begin{matrix}\\ket{0}\\otimes\\ket{0}  \\\\ \\ket{1}\\otimes \\ket{1}\\end{matrix} \\right. \\, .\n",
    "\\end{equation}\n",
    "también con probabilidad 1/2. Vemos que ahora, <i>el segundo qúbit ha sufrido modificación  <b>correlacionada</b> con el resultado obtenido de la medida del primero qúbit</i>.  Es decir, una medida parcial sobre uno de los espacios de Hilbert está afrectando al otro espacio de Hilbert.\n"
   ]
  },
  {
   "cell_type": "markdown",
   "id": "080fe82e",
   "metadata": {},
   "source": [
    "<div class=\"alert alert-block alert-danger\">\n",
    "<p style=\"color: DarkRed;\">\n",
    "<b>Nota</b>: <i>(Entrelazamiento y acción fantasmal a distancia)</i>\n",
    "<br>\n",
    "Cuando se descubrió el entrelazamiento y las consecuencias que tenía sobre los estados al hecho de medir, a este efecto se lo denominó\n",
    "<i>acción fantasmal a distancia</i>, y fue muy criticado por personalidades de la talla de Albert Einstein.\n",
    "<br><br>\n",
    "Quizás con la explicación anterior no se entiende bien lo sorprendente del entrelazamiento y porque se lo denominó como acción fantasmal a distancia.\n",
    "Cuando hablamos de que tenemos <i>dos espación de Hilbert</i> diferente, a lo que esto se (puede) traducir en la vida real es a que tenemos <i>dos partículas</i>.\n",
    "Lo que hemos visto es que sí nuestro par de partículas está en un estado entrelazado <i>medir el estado de una partícula afecta el estado de la otra</i>.\n",
    "Esto es, cuanto menos, sorprendente.\n",
    "<br><br>\n",
    "Uno de los argumentos que usaban los detractores de la física cuántica para criticarla era precisamente el entrelazamiendo. El argumento es simple: si tenemos un par de\n",
    "partículas en un estado entrelazado, nada nos impide separarlas y llevar cada una a una esquina del universo. Como están entrelazadas, si medimos una de ellas,\n",
    "inmediatamente el estado de la otra partícula se ve afectado y también colapsa. Es decir, parece que hay una interacción que es capaz de hacer un efecto instantáneo\n",
    "independientemente de la distancia que separe las partículas, lo cual viola un principio fundamental de la Relatividad Especial: \\textit{nada puede viajar más rápido que\n",
    "la velocidad de la luz en el vacío, ni siquiera las interacciones}.\n",
    "<br><br>\n",
    "Esta contradicción con la Relatividad se solventa teniendo en cuenta que \\textit{no existe ninguna forma de usar partículas entrelazadas para transmitir información más\n",
    "rápido que la velocidad de la luz}. Esto es simple de entender. Cuando tú tienes una de estas partículas entrelazadas no tienes forma de saber si la persona que tiene la\n",
    "otra partícula ha decido medirla o no. En caso de que la otra persona midiera, la única forma de que tú sepas que ha medido es que te mande un mensaje y te lo diga.\n",
    "Como este mensaje no puede viajar más rápido que la velocidad de la luz, no se viola la causalidad.\n",
    "</p></div>\n"
   ]
  },
  {
   "cell_type": "markdown",
   "id": "080fe82e",
   "metadata": {},
   "source": [
    "\n",
    "- En ambos casos,  las probabilidades de medir $\\ket{0}$ ó $\\ket{1}$ en el segundo cúbit, son idénticamente iguales a $1/2$.\n",
    "- Eso implica que: mediciones sobre el segundo qúbit, <i>no permiten desvelar</i> si el estado original era entrelazado o no. Es decir, si tienes repetido cientos de ves el mismo par de qúbits y decides solo medir un qúbit en cada par, no tienes forma de saber que está pasando en el otro qúbit del par, si ha colapsado al medir o no.\n",
    "- Sin embargo, el entrelazamiento introduce un tipo de correlaciones muy sutiles que se pueden detectar haciendo medidas más sofisticadas, como las que conducen a las desigualdades de Bell.\n",
    " \n\n"
   ]
  },
  {
   "cell_type": "markdown",
   "id": "080fe82e",
   "metadata": {},
   "source": [
    "<div class=\"alert alert-block alert-danger\">\n",
    "<p style=\"color: DarkRed;\">\n",
    "<b>Nota</b>: <i>(Dos electrones entrelados)</i>\n",
    "<br>\n",
    "Una forma intuitiva de pensar en el entrelazamiento es pensar que dos partículas están entrelazadas cuando las medidas de sus estados están correlacionadas. El ejemplo clásico es del espín de dos electrones. Dos electrones pueden entrelazarse de forma que si mides que uno de ellos tiene espín $+1/2$, el otro tiene espín $-1/2$.\n",
    "<br><br>\n",
    "La gracia de este entrelazamiento es que ambos electrones están en un estado de superposición, de forma que el estado global del sistema es\n",
    "\\begin{equation}\n",
    "\\ket{\\Psi} = \\ket{\\uparrow \\downarrow} + \\ket{\\downarrow\\uparrow}\n",
    "\\end{equation}\n",
    "Vemos que es una supersición, pero donde solo son posibles los estados en los que los electrones tienen estados al contrarios. Se ve fácilmente que este estado no es factorizable, con lo que es entrelazado.\n",
    "</p></div>\n"
   ]
  },
  {
   "cell_type": "markdown",
   "id": "8534e04c",
   "metadata": {},
   "source": [
    "<figure><center>\n",
    "<img   src=\"https://quantumspain-project.es/wp-content/uploads/2022/11/Logo_QS_EspanaDigital.png\" align=center  width=\"2000px\"/>\n",
    "</center></figure>\n",
    "\n",
    "<center>\n",
    "<img align=\"left\" src=\"https://quantumspain-project.es/wp-content/uploads/2024/02/Banner-QS_GOB_v2.png\" width=\"1000px\" />\n",
    "</center>"
   ]
  }
 ],
 "metadata": {
  "kernelspec": {
   "display_name": "Python 3 (ipykernel)",
   "language": "python",
   "name": "python3"
  },
  "language_info": {
   "codemirror_mode": {
    "name": "ipython",
    "version": 3
   },
   "file_extension": ".py",
   "mimetype": "text/x-python",
   "name": "python",
   "nbconvert_exporter": "python",
   "pygments_lexer": "ipython3",
   "version": "3.11.7"
  },
  "toc": {
   "base_numbering": 1,
   "nav_menu": {},
   "number_sections": false,
   "sideBar": true,
   "skip_h1_title": true,
   "title_cell": "Table of Contents",
   "title_sidebar": "Contents",
   "toc_cell": false,
   "toc_position": {},
   "toc_section_display": true,
   "toc_window_display": false
  }
 },
 "nbformat": 4,
 "nbformat_minor": 5
}
