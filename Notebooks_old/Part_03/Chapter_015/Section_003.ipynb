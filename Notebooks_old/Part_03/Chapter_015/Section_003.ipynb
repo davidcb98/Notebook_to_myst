{
 "cells": [
  {
   "cell_type": "markdown",
   "id": "8ddaeb38",
   "metadata": {},
   "source": [
    "<figure><center>\n",
    "<img   src=\"../../Figuras/Fig_logo_UMA_scbi.png\" align=center  width=\"2000px\"/>\n",
    "</center></figure>\n",
    "\n",
    "$ \\newcommand{\\bra}[1]{\\langle #1|} $\n",
    "$ \\newcommand{\\ket}[1]{|#1\\rangle} $\n",
    "$ \\newcommand{\\braket}[2]{\\langle #1|#2\\rangle} $\n",
    "$ \\newcommand{\\i}{{\\color{blue} i}} $ \n",
    "$ \\newcommand{\\Hil}{{\\cal H}} $\n",
    "$ \\newcommand{\\cg}[1]{{\\rm C}#1} $\n",
    "$ \\newcommand{\\lp}{\\left(} $\n",
    "$ \\newcommand{\\rp}{\\right)} $\n",
    "$ \\newcommand{\\lc}{\\left[} $\n",
    "$ \\newcommand{\\rc}{\\right]} $\n",
    "$ \\newcommand{\\lch}{\\left\\{} $\n",
    "$ \\newcommand{\\rch}{\\right\\}} $\n",
    "$ \\newcommand{\\Lp}{\\Bigl(} $\n",
    "$ \\newcommand{\\Rp}{\\Bigr)} $\n",
    "$ \\newcommand{\\Lc}{\\Bigl[} $\n",
    "$ \\newcommand{\\Rc}{\\Bigr]} $\n",
    "$ \\newcommand{\\Lch}{\\Bigl\\{} $\n",
    "$ \\newcommand{\\Rch}{\\Bigr\\}} $\n",
    "$ \\newcommand{\\rqa}{\\quad \\Rightarrow \\quad} $\n",
    "$ \\newcommand{\\bm}{\\boldsymbol}$"
   ]
  },
  {
   "cell_type": "markdown",
   "id": "080fe82e",
   "metadata": {},
   "source": [
    "# Formulación matemática\n"
   ]
  },
  {
   "cell_type": "markdown",
   "id": "080fe82e",
   "metadata": {},
   "source": [
    "Veamos paso a paso que hace el circuito anterior para estimar la fase $\\theta$.\n"
   ]
  },
  {
   "cell_type": "markdown",
   "id": "080fe82e",
   "metadata": {},
   "source": [
    "\\begin{enumerate}\n",
    "\\item \\textbf{Inicialización}: Por un lado tenemos un registro de qúbits que forman un autoestado $\\left| \\psi \\right\\rangle$ del operador $U$. Por otro lado tenemos un conjunto de $\\bm t$ \\textbf{qúbits} que forman un \\textbf{registro de conteo} donde al final del circuito tendremos almacenado el valor $2^t \\theta$:\n",
    "$$\n",
    "\\left| \\Psi_0 \\right\\rangle = \\left| 0 \\right\\rangle^{\\otimes t} \\left| \\psi \\right\\rangle\n",
    "$$\n"
   ]
  },
  {
   "cell_type": "markdown",
   "id": "080fe82e",
   "metadata": {},
   "source": [
    "\\item \\textbf{Superposición}: Aplicamos una operación de puerta de Hadamard t-bit al registro de conteo:\n",
    "$$\n",
    "\\left| \\Psi_1 \\right\\rangle = \\frac{1}{2^{t/2}}  \\left( \\left| 0 \\right\\rangle + \\left| 1 \\right\\rangle \\right)^{\\otimes t} \\left| \\psi \\right\\rangle\n",
    "$$\n"
   ]
  },
  {
   "cell_type": "markdown",
   "id": "080fe82e",
   "metadata": {},
   "source": [
    "\\item \\textbf{Operaciones unitarias controladas}: Aplicamos sucesivas veces el operador controlado $CU$, es decir, aplicar $U$ en el registro objetivo solo si el qúbit controlador está en el estado $\\left| 1 \\right\\rangle$. En concreto, aplicamos $2^{j}$ veces $U$ en el registro $\\left| \\psi \\right\\rangle$ controlado por un qúbits del registro de conteo. El número de veces $2^{j}$ que aplicamos $U$ depende de que qúbit es el controlador (si es el bit más significativo tenemos $j = t-1$, para el siguiente $j = t-2$, ..., hasta llegar al bit menos significativo en el cual $j=0$).\n"
   ]
  },
  {
   "cell_type": "markdown",
   "id": "080fe82e",
   "metadata": {},
   "source": [
    "En la notación del convenio estandar, el qúbit más significativo es el primero. En Qiskit es al revés.\n"
   ]
  },
  {
   "cell_type": "markdown",
   "id": "080fe82e",
   "metadata": {},
   "source": [
    "Como $U$ es unitaria y $\\left| \\psi \\right\\rangle$ es autovector de $U$, aplicar $2^{j}$ veces $U$ se traduce en:\n",
    "$$\n",
    "U^{2^{j}} \\left| \\psi \\right\\rangle = U^{2^{j}-1} U \\left| \\psi \\right\\rangle = U^{2^{j}-1} e^{2 \\pi i \\theta} \\left| \\psi \\right\\rangle = \\dots = e^{2 \\pi i 2^j \\theta} \\left| \\psi \\right\\rangle\n",
    "$$\n",
    "Usando la relación\n",
    "\\begin{align*}\n",
    "CU \\Lc \\left( \\left| 0 \\right\\rangle + \\left| 1 \\right\\rangle \\right) \\otimes \\left| \\psi \\right\\rangle \\Rc & =\n",
    "CU \\Lc \\ket{0} \\otimes \\ket{\\psi} + \\ket{1} \\otimes \\ket{\\psi} \\Rc \\\\\n",
    "& = \\left| 0 \\right\\rangle \\otimes \\left | \\psi \\right\\rangle + \\left| 1 \\right\\rangle \\otimes e^{2 \\pi i \\theta} \\left | \\psi \\right\\rangle  \\\\\n",
    "& = \\left( \\left| 0 \\right\\rangle + e^{2 \\pi i \\theta} \\left| 1 \\right\\rangle \\right) \\otimes \\left| \\psi \\right\\rangle \\,  ,\n",
    "\\end{align*}\n",
    "llegamos a\n",
    "\\begin{align*}\n",
    "|\\Psi_{2}\\rangle & =\\frac {1}{2^{t/2}} \\left(|0\\rangle+{e^{{2\\pi i} \\theta 2^{t-1}}}|1\\rangle \\right) \\otimes \\cdots \\otimes \\left(|0\\rangle+{e^{{2\\pi i} \\theta 2^{1}}}\\vert1\\rangle \\right) \\otimes \\left(|0\\rangle+{e^{2\\pi i \\theta 2^{0}}}\\vert1\\rangle \\right) \\otimes |\\psi\\rangle \\\\\n",
    "& = \\frac{1}{2^{n/2}}\\sum_{y=0}^{2^{t}-1}e^{2\\pi i \\theta y}|y\\rangle \\otimes \\vert\\psi\\rangle\n",
    "\\end{align*}\n"
   ]
  },
  {
   "cell_type": "markdown",
   "id": "080fe82e",
   "metadata": {},
   "source": [
    "<div class=\"alert alert-block alert-danger\">\n",
    "<p style=\"color: DarkRed;\">\n",
    "<b>Nota</b>:\n",
    "<br>\n",
    "Podemos ver que si por el registro de conteo entra un estado $|z \\rangle = | z_{n-1}, z_{n-2}, \\dots, z_0 \\rangle$, la salida antes de aplicar la QFT$^{-1}$ es de la forma\n",
    "$$\n",
    "|z \\rangle |\\psi \\rangle \\rightarrow |z \\rangle U^{z_{t-1} 2^{t-1}} U^{z_{t-2}2^{t-2}} \\dots U^{z_0 2^0} |\\psi \\rangle = | z \\rangle U^{z}  |\\psi \\rangle\n",
    "$$\n",
    "Es decir, lo que se hace es aplicar $z$ veces el operador $U$ sobre el estado $|\\psi \\rangle$.\n",
    "<br>\n",
    "</p></div>\n"
   ]
  },
  {
   "cell_type": "markdown",
   "id": "080fe82e",
   "metadata": {},
   "source": [
    "\\item \\textbf{Transformada de Fourier inversa}: Si nos fijamos en detalle vemos que la expresión anterior es igual al resultado de aplicar la QFT un estado de $t$ qúbits $\\ket{x}$ (ver Ec. (\\ref{ec_QFT_ecuacion_desarrollada}))\n",
    "$$\n",
    "\\left( U_{QFT} \\left| x \\right\\rangle \\right) \\otimes \\left| \\psi \\right\\rangle = \\frac{1}{2^{t/2}} \\sum_{y=0}^{2^t-1} e^{2 \\pi i xy /2^t} \\left| y \\right\\rangle \\otimes \\left| \\psi \\right\\rangle\n",
    "$$\n",
    "si tomamos $x = 2^t \\theta$.\n"
   ]
  },
  {
   "cell_type": "markdown",
   "id": "080fe82e",
   "metadata": {},
   "source": [
    "Lo que podemos hacer es aplicar la transformada de Fourier inversa en el registro de conteo para obtener el valor $2^t \\theta$\n",
    "\\begin{align*}\n",
    "\\ket{\\Psi_3} = \\lc U_{QFT}^\\dagger \\lp \\frac{1}{2^{t/2}}\\sum_{y=0}^{2^{t}-1}e^{{2\\pi i} \\theta y}|y\\rangle \\rp \\rc \\otimes \\vert\\psi\\rangle & =  \\lc \\frac{1}{2^{t/2}}\\sum_{y=0}^{2^{t}-1}e^{{2\\pi i} \\theta y} \\left( U^\\dagger_{QFT}|y\\rangle \\right) \\rc \\otimes \\vert\\psi\\rangle \\\\ \\rule{0mm}{10mm}\n",
    "& = \\lc \\frac{1}{2^{t/2}}\\sum_{y=0}^{2^{t}-1}e^{{2\\pi i} \\theta y} \\left( \\sum^{2^t-1}_{x=0} e^{-2 \\pi i y x /2^t} \\ket{x} \\right) \\rc \\otimes \\vert\\psi\\rangle \\\\ \\rule{0mm}{10mm}\n",
    "& = \\lc \\frac{1}{2^{t}} \\sum_{x=0}^{2^t-1} \\sum_{y=0}^{2^{t}-1}e^{-\\frac{2 \\pi i y}{2^t} (x-2^t \\theta)} |x\\rangle \\rc \\otimes \\vert\\psi\\rangle\n",
    "\\end{align*}\n"
   ]
  },
  {
   "cell_type": "markdown",
   "id": "080fe82e",
   "metadata": {},
   "source": [
    "En general, $2^t \\theta$ no será un número entero, así que, en general $(x-2^t \\theta) \\neq  0$ $\\forall x \\in \\mathbb{Z}$.\n"
   ]
  },
  {
   "cell_type": "markdown",
   "id": "080fe82e",
   "metadata": {},
   "source": [
    "\\item \\textbf{Medida}. Aunque no parezca obvio, la expresión anterior está picada entorno a $x = 2^t \\theta$ incluso para el caso en el que $2^t \\theta$ no sea un número entero. Para verlo, primero separemos el número $2^t \\theta$ en su parte entera y decimal de la siguiente forma\n",
    "\\begin{equation*}\n",
    "2^t \\theta = a + \\delta\n",
    "\\end{equation*}\n",
    "con $a \\in \\mathbb{Z}$ y $\\delta \\in [0,1)$. Con esta separación, el resultado del apartado anterior nos queda\n",
    "\\begin{equation} \\label{ec_QPE_Psi3_2}\n",
    "\\ket{\\Psi_3} = \\lc \\frac{1}{2^{t}} \\sum_{x=0}^{2^t-1} \\sum_{y=0}^{2^{t}-1}e^{\\frac{2 \\pi i y}{2^t} (a+\\delta -x )} |x\\rangle \\rc \\otimes \\vert\\psi\\rangle\n",
    "\\end{equation}\n"
   ]
  },
  {
   "cell_type": "markdown",
   "id": "080fe82e",
   "metadata": {},
   "source": [
   ]
  },
  {
   "cell_type": "markdown",
   "id": "080fe82e",
   "metadata": {},
   "source": [
    "- Si $\\delta = 0$, es decir, si $2^t \\theta$ fuese un entero $a \\in S_t = \\{ 0, \\dots, 2^t-1 \\}$, entonces el resultado sería \\textbf{exactamente} $\\ket{\\Psi_4} = \\ket{a} = \\ket{2^t \\theta}$\n",
    "\\begin{align*}\n",
    "\\ket{\\Psi_4} & = \\lc \\sum_{x=0}^{2^t-1} \\frac{1}{2^t} \\lp \\sum^{2^t-1}_{y = 0} e^{\\frac{2 \\pi i}{2^t} y (a-x)} \\rp \\ket{x} \\rc \\otimes \\ket{\\psi} \\\\\n",
    "& = \\lc \\sum_{x=0}^{2^t-1} \\frac{1}{2^t} \\lp 2^t \\delta_{x,a} \\rp \\ket{x} \\rc \\otimes \\ket{\\psi} \\\\\n",
    "& = \\ket{a}\n",
    "\\end{align*}\n",
    "En este caso, midiendo el primer registro obtendríamos un registro binario del número $a\\in[0, 2^t-1]$. Con $a$ recuperaríamos la fase buscada \\textit{de forma exacta}:\n",
    "$$\n",
    "\\varphi = \\frac{a}{2^t}  \\in [0,1)\n",
    "$$\n",
    "<br>\n",
    "- Si $\\delta \\neq 0$ (si $2^t \\theta$ no es entero), el estado en el primer registro  $\\ket{\\Phi} = \\sum_{x=0}^{2^t-1} f(x) \\ket{x}$ será una superposición.\n",
    "$$\n",
    "\\ket{\\Psi_4} = \\lc \\sum_{x=0}^{2^t-1} \\left( \\frac{1}{2^{t}}\\sum_{y=0}^{2^t-1}  e^{2\\pi i (a + \\delta  -x) y/2^t} \\right) \\ket{x} \\rc \\otimes \\ket{\\psi} = \\lc \\sum_{x=0}^{2^t-1} f(x) \\ket{x} \\rc \\otimes \\ket{\\psi}\n",
    "$$\n",
    "Una medida del primer registro dará el registro binario de \\textit{un número entero} $x \\to m \\in [0,2^t-1)$ con distribución de probabilidad\n",
    "\\begin{equation} \\label{ec_QPE_p(m)}\n",
    "p(m) = |f(m)|^2\n",
    "\\end{equation}\n",
    "picada en $m=a=[2^t\\varphi]$.\n"
   ]
  },
  {
   "cell_type": "markdown",
   "id": "080fe82e",
   "metadata": {},
   "source": [
    "\\end{enumerate}\n"
   ]
  },
  {
   "cell_type": "markdown",
   "id": "080fe82e",
   "metadata": {},
   "source": [
    "\\begin{mybox_orange}{Jypyter Notebook: 10-QPE}\n",
    "Ver la sección 1.1 del notebook notebook \\textbf{9-QFS}.\n",
    "\\end{mybox_orange}\n"
   ]
  },
  {
   "cell_type": "markdown",
   "id": "080fe82e",
   "metadata": {},
   "source": [
    "La \\textbf{anchura $t$ del circuito auxiliar} determina la anchura de la curva de probabilidad en torno al valor medio, es decir, como de precisa será nuestra estimación de la fase. Es fácil convencerse de que cuanto mayor sea $t$, mayor será nuestra precisión. Podemos acotar la aproximación al valor real de la fase buscada según el siguiente teorema  (ver Nielsen \\cite{nielsen} p. 224)\n"
   ]
  },
  {
   "cell_type": "markdown",
   "id": "080fe82e",
   "metadata": {},
   "source": [
    "\\Teorema{El algoritmo QPE (Quantum Phase Estimation) es capaz de producir una \\textit{estimación $m$ de orden $k$}  para la fase $\\varphi$ (en el sentido de que  $|\\varphi- m/2^t |<2^{-k}$) con una  probabilidad $1-\\epsilon$,  tomando una dimensión del espacio de representación\n",
    "$$\n",
    "t \\geq k  + \\left[ \\log\\left(1 + \\frac{1}{2\\epsilon}\\right) \\right]\n",
    "$$\n",
    "}\n"
   ]
  },
  {
   "cell_type": "markdown",
   "id": "8534e04c",
   "metadata": {},
   "source": [
    "<figure><center>\n",
    "<img   src=\"https://quantumspain-project.es/wp-content/uploads/2022/11/Logo_QS_EspanaDigital.png\" align=center  width=\"2000px\"/>\n",
    "</center></figure>\n",
    "\n",
    "<center>\n",
    "<img align=\"left\" src=\"https://quantumspain-project.es/wp-content/uploads/2024/02/Banner-QS_GOB_v2.png\" width=\"1000px\" />\n",
    "</center>"
   ]
  }
 ],
 "metadata": {
  "kernelspec": {
   "display_name": "Python 3 (ipykernel)",
   "language": "python",
   "name": "python3"
  },
  "language_info": {
   "codemirror_mode": {
    "name": "ipython",
    "version": 3
   },
   "file_extension": ".py",
   "mimetype": "text/x-python",
   "name": "python",
   "nbconvert_exporter": "python",
   "pygments_lexer": "ipython3",
   "version": "3.11.7"
  },
  "toc": {
   "base_numbering": 1,
   "nav_menu": {},
   "number_sections": false,
   "sideBar": true,
   "skip_h1_title": true,
   "title_cell": "Table of Contents",
   "title_sidebar": "Contents",
   "toc_cell": false,
   "toc_position": {},
   "toc_section_display": true,
   "toc_window_display": false
  }
 },
 "nbformat": 4,
 "nbformat_minor": 5
}
