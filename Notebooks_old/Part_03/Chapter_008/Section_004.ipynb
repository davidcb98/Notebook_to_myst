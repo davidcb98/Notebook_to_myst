{
 "cells": [
  {
   "cell_type": "markdown",
   "id": "8ddaeb38",
   "metadata": {},
   "source": [
    "<figure><center>\n",
    "<img   src=\"../../Figuras/Fig_logo_UMA_scbi.png\" align=center  width=\"2000px\"/>\n",
    "</center></figure>\n",
    "\n",
    "$ \\newcommand{\\bra}[1]{\\langle #1|} $\n",
    "$ \\newcommand{\\ket}[1]{|#1\\rangle} $\n",
    "$ \\newcommand{\\braket}[2]{\\langle #1|#2\\rangle} $\n",
    "$ \\newcommand{\\i}{{\\color{blue} i}} $ \n",
    "$ \\newcommand{\\Hil}{{\\cal H}} $\n",
    "$ \\newcommand{\\cg}[1]{{\\rm C}#1} $\n",
    "$ \\newcommand{\\lp}{\\left(} $\n",
    "$ \\newcommand{\\rp}{\\right)} $\n",
    "$ \\newcommand{\\lc}{\\left[} $\n",
    "$ \\newcommand{\\rc}{\\right]} $\n",
    "$ \\newcommand{\\lch}{\\left\\{} $\n",
    "$ \\newcommand{\\rch}{\\right\\}} $\n",
    "$ \\newcommand{\\Lp}{\\Bigl(} $\n",
    "$ \\newcommand{\\Rp}{\\Bigr)} $\n",
    "$ \\newcommand{\\Lc}{\\Bigl[} $\n",
    "$ \\newcommand{\\Rc}{\\Bigr]} $\n",
    "$ \\newcommand{\\Lch}{\\Bigl\\{} $\n",
    "$ \\newcommand{\\Rch}{\\Bigr\\}} $\n",
    "$ \\newcommand{\\rqa}{\\quad \\Rightarrow \\quad} $\n",
    "$ \\newcommand{\\bm}{\\boldsymbol}$"
   ]
  },
  {
   "cell_type": "markdown",
   "id": "080fe82e",
   "metadata": {},
   "source": [
    "# Medida de Hadamard\n"
   ]
  },
  {
   "cell_type": "markdown",
   "id": "080fe82e",
   "metadata": {},
   "source": [
    "## Valor esperado de un operador a partir de $\\langle X \\rangle$ y $\\langle Y\\rangle$\n"
   ]
  },
  {
   "cell_type": "markdown",
   "id": "080fe82e",
   "metadata": {},
   "source": [
    "Al final, el valor esperado de un operador es un simple número que se obtiene a partir de una distribución aleatoria de valores.\n",
    "¿No podríamos diseñar una variable aleatoria cuyo valor medio coincida con ese resultado?\n",
    "La medida de Hadamard hace precisamente esto aprovechando el entrelazamiento.\n"
   ]
  },
  {
   "cell_type": "markdown",
   "id": "080fe82e",
   "metadata": {},
   "source": [
    "\\Teorema{\n",
    "Sea el circuito de la Fig. \\ref{Fig_medidas2_Hadamard_measure}, donde por uno de los qúbits (el qúbit ancilla) entra el estado $\\ket{+}$, por el otro entra el estado $\\ket{\\psi}$, se aplica el operador $U$ sobre qúbit en el estado $\\ket{\\psi}$ controlado por el qúbit en el estado $\\ket{+}$ y se mide este último qúbit. Esta medida se hace bien usando un medidor en la base $X$ (ver Fig. \\ref{Fig_medidas2_Hadamard_measurea}) o un medidor en la base base $Y$ (ver Fig. \\ref{Fig_medidas2_Hadamard_measureb}). Calculando los valores esperados de $\\langle X \\rangle $ e $\\langle Y \\rangle$ en este qúbit ancilla (en la base computacional)\n",
    "\\begin{equation}\n",
    "\\langle X \\rangle_{ancilla} = (+1) \\frac{n^x_0}{n_0^x+n_1^x} + (-1) \\frac{n^x_1}{n^x_0+n^x_1} ~~~~, ~~~~\n",
    "\\langle Y \\rangle_{ancilla} = (+1) \\frac{n^y_0}{n^y_0+n^y_1} + (-1) \\frac{n^y_1}{n^y_0+n^y_1}\n",
    "\\end{equation}\n",
    "podemos calcular el valor esperado del operador $U$ en el estado $\\ket{\\psi}$ usando\n",
    "\\begin{equation}\n",
    "\\langle X\\rangle_{ancilla} = {\\rm Re} \\langle U\\rangle_{\\psi} ~~~,~~~ \\langle Y\\rangle_{ancilla} = {\\rm Im} \\langle U\\rangle_{\\psi}\\,\n",
    "\\end{equation}\n",
    "\\begin{figure}[H] \\setcounter{subfigure}{0}\n",
    "\\centering\n",
    "\\subfigure[En bases $X$ o $Y$ \\label{Fig_medidas2_Hadamard_measure}]{\\includegraphics[width=0.3\\linewidth]\n",
    "{Figuras/Fig_medidas2_Hadamard_measure}}\n",
    "\\\\\n",
    "\\subfigure[Con el medidor $X$ expandido \\label{Fig_medidas2_Hadamard_measurea}]{\\includegraphics[width=0.4\\linewidth]\n",
    "{Figuras/Fig_medidas2_Hadamard_measurea}} \\hspace{2cm}\n",
    "\\subfigure[Con el medidor $Y$ expandido \\label{Fig_medidas2_Hadamard_measureb}]{\\includegraphics[width=0.4\\linewidth]\n",
    "{Figuras/Fig_medidas2_Hadamard_measureb}}\n",
    "\\caption{Medidas de Hadammard}\n",
    "\\end{figure}\n",
    "}\n"
   ]
  },
  {
   "cell_type": "markdown",
   "id": "080fe82e",
   "metadata": {},
   "source": [
    "<details><summary><p style=\"color:blue\" > >> <i>Demostración</i> </p></summary>\n",
    "Para el caso $X$, el circuito anterior será el de la Fig. \\ref{Fig_medidas2_Hadamard_measurea}. Un cálculo explícito nos da el estado que llega al aparato de medida (el estado que llega a las lineas punteadas verticales)\n",
    "$$\n",
    "\\ket{0}\\ket{\\psi} ~\\to ~ \\ket{\\Psi} = \\frac{1}{2} \\Lc \\rule{0mm}{3mm} |0\\rangle \\otimes (1 + U) |\\psi\\rangle +  |1\\rangle \\otimes (1 - U) |\\psi\\rangle \\Rc \\label{hadam}\n",
    "$$\n",
    "Si medimos el qúbit ancilla (el de arriba), obtendremos como resultados $\\{0,1\\}$ con probabilidades\n",
    "\\begin{eqnarray}\n",
    "p_{0}  &=&  \\left\\vert \\frac{1}{2}  (1 + U) \\ket{\\psi}  \\right\\vert^{2} =\n",
    "\\frac{1}{4}\\bra{\\psi}(1 + U^\\dagger) (1 + U) \\ket{\\psi} =\\frac{1}{2}(1+\\operatorname{Re}\\langle \\psi|U|\\psi\\rangle) \\nonumber\\\\\n",
    "p_{1}  &=&  \\left\\vert \\frac{1}{2}  (1 - U) \\ket{\\psi}  \\right\\vert^{2}=\n",
    "\\frac{1}{4}\\bra{\\psi}(1 - U^\\dagger) (1 - U) \\ket{\\psi} =\n",
    "\\frac{1}{2}(1-\\operatorname{Re}\\langle \\psi|U|\\psi\\rangle) \\nonumber\n",
    "\\end{eqnarray}\n",
    "El valor esperado $\\langle X \\rangle_{ancilla}$ será\n",
    "$$\n",
    "\\langle X \\rangle_{ancilla} = (+1) \\frac{n^x_0}{n_0^x+n_1^x} + (-1) \\frac{n^x_1}{n^x_0+n^x_1} =  \\hbox{Re}\\bra{\\psi} U \\ket{\\psi}\n",
    "$$\n",
    "La demostración para la medida en de $\\ket{Y}$ y la obtención de la $\\operatorname{Re}\\langle \\psi|U|\\psi\\rangle$ es análoga.\n",
    "</details>\n"
   ]
  },
  {
   "cell_type": "markdown",
   "id": "080fe82e",
   "metadata": {},
   "source": [
    "\\Ejercicio{\n",
    "Verificar que la parte imaginaria viene de medir  $\\langle Y\\rangle$ en la ancilla\n",
    "$$\n",
    "\\langle{Y}\\rangle_{ancilla}  =  \\hbox{Im}\\bra{\\psi} U \\ket{\\psi} \\, .\n",
    "$$\n",
    "}\n"
   ]
  },
  {
   "cell_type": "markdown",
   "id": "080fe82e",
   "metadata": {},
   "source": [
    "Vemos que aquí estamos usando el poder del entrelazamiento, pues midiendo en un qubit que\\textbf{ no tiene el estado} $\\ket{\\psi}$ \\textbf{ni se ha aplicado el operador} $U$, somos capaces de calcular $\\langle U \\rangle_\\psi$.\n"
   ]
  },
  {
   "cell_type": "markdown",
   "id": "080fe82e",
   "metadata": {},
   "source": [
    "<div class=\"alert alert-block alert-danger\">\n",
    "<p style=\"color: DarkRed;\">\n",
    "<b>Nota</b>:\n",
    "<br>\n",
    "Si estamos en el caso en que $U$ es hermítico, entonces solo hace falta medir $\\langle X \\rangle$, pues\n",
    "los operadores hermíticos tiene todos sus autovalores reales.\n",
    "</p></div>\n"
   ]
  },
  {
   "cell_type": "markdown",
   "id": "080fe82e",
   "metadata": {},
   "source": [
    "\\Ejercicio{\n",
    "Define una función add\\_Hadamadar\\_measure que reciba un circuito y una  cadena de Pauli y añada al\n",
    "circuito el medidor de Hadamard asociado.\n",
    "}\n"
   ]
  },
  {
   "cell_type": "markdown",
   "id": "080fe82e",
   "metadata": {},
   "source": [
    "\\begin{mybox_orange}{Jypyter Notebook: 04-Medidas\\_II seccion 4}\n",
    "Ver la sección 4 del notebook \\textbf{04-Medidas\\_II}.\n",
    "\\end{mybox_orange}\n"
   ]
  },
  {
   "cell_type": "markdown",
   "id": "080fe82e",
   "metadata": {},
   "source": [
    "## Proyeccion de Hadamard\n"
   ]
  },
  {
   "cell_type": "markdown",
   "id": "080fe82e",
   "metadata": {},
   "source": [
    "Supongamos el operador $U$ es un operador sobre 1 qúbit \\textbf{a la vez hermítico y unitario}. Por tanto puede ser considerado, a la vez,\n"
   ]
  },
  {
   "cell_type": "markdown",
   "id": "080fe82e",
   "metadata": {},
   "source": [
    "- un observable con autovalores reales  $\\lambda = \\pm1$ y\n",
    "- una puerta cuántica con autovalores de módulo unidad\n"
   ]
  },
  {
   "cell_type": "markdown",
   "id": "080fe82e",
   "metadata": {},
   "source": [
    "Ello deja a $\\lambda = \\pm 1$ como los únicos autovalores posibles para un operador así. Los operadores $X,Y,Z$ y $H$ son ejemplos de ello.\n"
   ]
  },
  {
   "cell_type": "markdown",
   "id": "080fe82e",
   "metadata": {},
   "source": [
    "Denominemos $\\ket{a}_U, \\, a=0,1$  los autovectores de $U$ con autovalores $(-1)^a$, es decir $U\\ket{a}_U = (-1)^a\\ket{a}_U$. En este caso, los factores $(1\\pm U)$ que aparecen en la medida de Hadamard son proyectores ortogonales sobre los autoestados de $U$. La imagen bajo este circuito de un estado de entrada $\\ket{0}\\ket{\\psi}$ ahora será\n",
    "\\begin{equation}\n",
    "\\ket{0}\\ket{\\psi} = \\ket{0}\\otimes (\\alpha\\ket{0}_U + \\beta\\ket{1}_U) ~~\\longrightarrow ~~  \\alpha\\ket{0}\\ket{0}_U +  \\beta\\ket{1}\\ket{1}_U\\, .\n",
    "\\end{equation}\n",
    "Podemos ver esto en la Fig. \\ref{Fig_medidas2_HadamardProjection}  Al igual que con los estados de Bell, cada resultado de  medida en la ancilla está correlacionado con un autoestado del operador $U$.\n"
   ]
  },
  {
   "cell_type": "markdown",
   "id": "080fe82e",
   "metadata": {},
   "source": [
    "\\begin{figure}[H]\n",
    "\\centering\n",
    "\\includegraphics[width=0.4\\linewidth]{Figuras/Fig_medidas2_HadamardProjection}\n",
    "\\caption{Proyección de Hadammar}\n",
    "\\label{Fig_medidas2_HadamardProjection}\n",
    "\\end{figure}\n"
   ]
  },
  {
   "cell_type": "markdown",
   "id": "8534e04c",
   "metadata": {},
   "source": [
    "<figure><center>\n",
    "<img   src=\"https://quantumspain-project.es/wp-content/uploads/2022/11/Logo_QS_EspanaDigital.png\" align=center  width=\"2000px\"/>\n",
    "</center></figure>\n",
    "\n",
    "<center>\n",
    "<img align=\"left\" src=\"https://quantumspain-project.es/wp-content/uploads/2024/02/Banner-QS_GOB_v2.png\" width=\"1000px\" />\n",
    "</center>"
   ]
  }
 ],
 "metadata": {
  "kernelspec": {
   "display_name": "Python 3 (ipykernel)",
   "language": "python",
   "name": "python3"
  },
  "language_info": {
   "codemirror_mode": {
    "name": "ipython",
    "version": 3
   },
   "file_extension": ".py",
   "mimetype": "text/x-python",
   "name": "python",
   "nbconvert_exporter": "python",
   "pygments_lexer": "ipython3",
   "version": "3.11.7"
  },
  "toc": {
   "base_numbering": 1,
   "nav_menu": {},
   "number_sections": false,
   "sideBar": true,
   "skip_h1_title": true,
   "title_cell": "Table of Contents",
   "title_sidebar": "Contents",
   "toc_cell": false,
   "toc_position": {},
   "toc_section_display": true,
   "toc_window_display": false
  }
 },
 "nbformat": 4,
 "nbformat_minor": 5
}
