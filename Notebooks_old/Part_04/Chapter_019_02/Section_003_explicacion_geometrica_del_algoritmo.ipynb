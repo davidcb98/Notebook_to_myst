{
 "cells": [
  {
   "cell_type": "markdown",
   "id": "8ddaeb38",
   "metadata": {},
   "source": [
    "<figure><center>\n",
    "<img   src=\"Figuras/Fig_logo_UMA_scbi.png\" align=center  width=\"2000px\"/>\n",
    "</center></figure>\n",
    "\n",
    "$ \\newcommand{\\bra}[1]{\\langle #1|} $\n",
    "$ \\newcommand{\\ket}[1]{|#1\\rangle} $\n",
    "$ \\newcommand{\\branew}[1]{\\langle #1|} $\n",
    "$ \\newcommand{\\ketnew}[1]{\\langle #1|} $\n",
    "$ \\newcommand{\\braket}[2]{\\langle #1|#2\\rangle} $\n",
    "$ \\newcommand{\\ketbra}[2]{| #1\\rangle \\langle #2 |} $\n",
    "$ \\newcommand{\\i}{{\\color{blue} i}} $ \n",
    "$ \\newcommand{\\Hil}{{\\cal H}} $\n",
    "$ \\newcommand{\\cg}[1]{{\\rm C}#1} $\n",
    "$ \\newcommand{\\lp}{\\left(} $\n",
    "$ \\newcommand{\\rp}{\\right)} $\n",
    "$ \\newcommand{\\lc}{\\left[} $\n",
    "$ \\newcommand{\\rc}{\\right]} $\n",
    "$ \\newcommand{\\lch}{\\left\\{} $\n",
    "$ \\newcommand{\\rch}{\\right\\}} $\n",
    "$ \\newcommand{\\Lp}{\\Bigl(} $\n",
    "$ \\newcommand{\\Rp}{\\Bigr)} $\n",
    "$ \\newcommand{\\Lc}{\\Bigl[} $\n",
    "$ \\newcommand{\\Rc}{\\Bigr]} $\n",
    "$ \\newcommand{\\Lch}{\\Bigl\\{} $\n",
    "$ \\newcommand{\\Rch}{\\Bigr\\}} $\n",
    "$ \\newcommand{\\rqa}{\\quad \\Rightarrow \\quad} $\n",
    "$ \\newcommand{\\bm}{\\boldsymbol}$"
   ]
  },
  {
   "cell_type": "markdown",
   "id": "080fe82e",
   "metadata": {},
   "source": [
    "# Explicación geométrica del algoritmo <a id='sec_geo'></a>\n"
   ]
  },
  {
   "cell_type": "markdown",
   "id": "080fe82e",
   "metadata": {},
   "source": [
    "Para facilitar la explicación y sin perdida de generalidad, pongámonos en el caso más simple de todos: queremos encontrar una única solución $| \\omega_0 \\rangle$ y tenemos $N=2^n$. Supongamos también que podemos partir del caso más simple, de una superposión uniforme de todos los estados. Más adelante iremos viendo generalizaciones del algoritmo para casos más complicados, como el caso de varias soluciones o el caso en el que partimos de una distribución de probabilidad aleatoria.\n"
   ]
  },
  {
   "cell_type": "markdown",
   "id": "080fe82e",
   "metadata": {},
   "source": [
    "## Estado inicial: superposición\n"
   ]
  },
  {
   "cell_type": "markdown",
   "id": "080fe82e",
   "metadata": {},
   "source": [
    "Partimos de una superposición uniforme de $N$ estados\n",
    "\\begin{equation} \\label{ec_geo_phi-0_1}\n",
    "| \\Psi_0 \\rangle = \\frac{1}{\\sqrt{N}}  \\sum_{i=0}^{N} | i \\rangle.\n",
    "\\end{equation}\n",
    "Esto no es más que decir que al inicio de la búsqueda, todas las opciones son igualmente probables (cualquier suposición de la ubicación de la solución es tan buena como cualquier otra).\n"
   ]
  },
  {
   "cell_type": "markdown",
   "id": "080fe82e",
   "metadata": {},
   "source": [
    "<div class=\"alert alert-block alert-danger\">\n",
    "<p style=\"color: DarkRed;\">\n",
    "<b>Nota</b>:\n",
    "<br>\n",
    "Recordemos que si $N=2^n$, donde $n$ es el número de qúbits, este estado es fácil de construir, pues solo tenemos que aplicar puertas de Hadamard en todos los qúbits (partiendo estos del estado $|0 \\rangle$):\n",
    "\\begin{equation} \\label{ec_geo_phi_0_H}\n",
    "|\\Psi_0 \\rangle = H^{\\otimes n} |0 \\rangle^{n} = \\frac{1}{\\sqrt{N}}  \\sum_{i=0}^{N=2^n} | i \\rangle.\n",
    "\\end{equation}\n",
    "</p></div>\n"
   ]
  },
  {
   "cell_type": "markdown",
   "id": "080fe82e",
   "metadata": {},
   "source": [
    "El objetivo del algoritmo de Grover es aumentar el valor del coeficiente que acompaña al estado $| \\omega_0 \\rangle$ que queremos encontrar, es decir, aumentar la probabilidad de que al medir, obtengamos este estado. Como la suma de todas las probabilidades tiene que ser 1, este aumento en la probabilidad del estado $| \\omega_0 \\rangle$ se produce a expensas de reducir la probabilidad del resto.\n"
   ]
  },
  {
   "cell_type": "markdown",
   "id": "080fe82e",
   "metadata": {},
   "source": [
    "<div class=\"alert alert-block alert-danger\">\n",
    "<p style=\"color: DarkRed;\">\n",
    "<b>Nota</b>:\n",
    "<br>\n",
    "Recordemos que en mecánica cuántica podemos tener un estado que sea la <b>superposición</b>\n",
    "de varios estado (como es el caso anterior), pero al medir solo obtenemos \\textbf{uno de estos\n",
    "estado}. La probabilidad de medir cada uno de estos estados que forman la superposición es igual\n",
    "al módulo cuadrado del coeficiente que lo acompaña en el vector de esto $| \\Psi \\rangle$ (el módulo\n",
    "cuadrado de la amplitud). Este caso, vemos que todos los estados tiene probabilidad $1/N$.\n",
    "</p></div>\n"
   ]
  },
  {
   "cell_type": "markdown",
   "id": "080fe82e",
   "metadata": {},
   "source": [
    "## Amplificación de amplitud mediante iteraciones del algoritmo\n"
   ]
  },
  {
   "cell_type": "markdown",
   "id": "080fe82e",
   "metadata": {},
   "source": [
    "Como vamos a ver a continuación, el algoritmo de Grover tiene una interpretación geométrica muy simple: dos reflexiones que rotan el vector de estado en un plano bidimensional.\n"
   ]
  },
  {
   "cell_type": "markdown",
   "id": "080fe82e",
   "metadata": {},
   "source": [
    "El algoritmo de Grover consta de dos partes: un <b>oráculo</b> y un <b>difusor</b>. Para que el algoritmo maximice la probabilidad de la solución deseada tenemos realizar un número concreto de <b>iteraciones</b>. En cada iteración del algoritmo, primero se aplica el oráculo y después el difusor. Con cada iteración la probabilidad de medir la solución deseada va aumentando. Sin embargo, es muy importante aplicar el número correcto de iteraciones que nos maximiza la probabilidad, pues tanto si nos quedamos cortos como si nos pasamos, la probabilidad de medir $|\\omega_0 \\rangle$ disminuye. Esto se va a entender muy bien a continuación, cuando veamos la explicación geométrica.\n"
   ]
  },
  {
   "cell_type": "markdown",
   "id": "080fe82e",
   "metadata": {},
   "source": [
    "Pongamos el estado inicial de la Ec. (\\ref{ec_geo_phi-0_1}) de una forma más adecuada para nuestro propósito\n",
    "\\begin{equation} \\label{ec_geo_phi-0_2}\n",
    "\\boxed{|\\Psi_0 \\rangle = | \\Psi (k(0),l(0)) \\rangle = k(0) |\\omega_0 \\rangle + \\sum_{i \\neq \\omega_0}  l(0)  |i \\rangle}, \\quad \\text{donde} \\quad \\boxed{k(0) = l(0) = \\frac{1}{\\sqrt{N}}}.\n",
    "\\end{equation}\n",
    "Denominaremos $k(t)$ y $l(t)$ a los coeficientes que tendremos en la t-esima iteración del algoritmo, es decir\n",
    "\\begin{equation} \\label{ec_geo_phi-j}\n",
    "\\boxed{|\\Psi(t) \\rangle = | \\Psi (k(t),l(t)) \\rangle = k(t) |\\omega_0 \\rangle +  \\sum_{i \\neq \\omega_0}^N l(t) |i \\rangle }.\n",
    "\\end{equation}\n"
   ]
  },
  {
   "cell_type": "markdown",
   "id": "080fe82e",
   "metadata": {},
   "source": [
    "Véase que aquí ya estamos adelantando que los coeficientes de todos los estados que no son el deseado son iguales en cada iteración. Nuestro vector de estado $|\\Psi(t) \\rangle$ vive en un espacio de Hilbert de $N$ dimensiones y los estados $| i \\rangle$, con $i=0,1,\\dots,N-1$ , forman una base ortogonal del espacio de Hilbert (véase que aquí se incluye $\\omega_0$, pues no es nada más que un valor de $i$ concreto). Para entender bien esto, podemos fijamos en las Ecs. (\\ref{ec_geo_phi-0_1}) y (\\ref{ec_geo_phi-0_2}) y ver que estas no son más que la expresión de un vector como la multiplicación de unos coeficientes por los elementos de la base\\footnote{Esto es en esencia lo mismo que con vectores en tres dimensiones: $\\vec{r} = a \\hat{x} + b \\hat{y} + c \\hat{z}$}. Como no podemos dibujar un vectores de más de 3 dimensiones, para explicar geométricamente el algoritmo vamos a recurrir a un truco: vamos a descomponer nuestro vector de estado en la suma de dos vectores $|\\omega_0 \\rangle$ y $| \\omega^{\\perp} \\rangle$, donde este último es la suma de todos los demás elementos de la base, es decir:\n",
    "\\begin{equation} \\label{ec_geo_phi-j-s}\n",
    "\\boxed{|\\Psi(t) \\rangle = | \\Psi (k(t),l(t)) \\rangle = k(t) |\\omega_0 \\rangle + l(t) \\sqrt{N-1} | \\omega^{\\perp}  \\rangle}, \\quad \\text{donde} \\quad \\boxed{| \\omega^{\\perp}  \\rangle = \\frac{1}{\\sqrt{N-1}}\\sum_{i \\neq \\omega_0}^N  |i \\rangle}.\n",
    "\\end{equation}\n"
   ]
  },
  {
   "cell_type": "markdown",
   "id": "080fe82e",
   "metadata": {},
   "source": [
    "<div class=\"alert alert-block alert-danger\">\n",
    "<p style=\"color: DarkRed;\">\n",
    "<b>Nota</b>:\n",
    "<br>\n",
    "Es importante darse cuenta de donde sale el factor $\\sqrt{N-1}$ en la definición de\n",
    "$|\\omega^{\\perp}\\rangle$. Este es debido a que estamos definiendo $|\\omega^{\\perp}\\rangle$\n",
    "como un vector unitario, es decir\n",
    "\\begin{equation}\n",
    "\\langle \\omega^{\\perp}| \\omega^{\\perp} \\rangle = 1.\n",
    "\\end{equation}\n",
    "Por otro lado, $|\\Psi_0\\rangle$ también es unitario\n",
    "\\begin{equation}\n",
    "\\parallel |\\Psi(t) \\rangle \\parallel^2 = \\langle \\Psi(t) | \\Psi(t) \\rangle =\n",
    "k(t)^2 + \\sum_{i \\neq \\omega_0}^N l(t)^2 = k(t)^2 + l(t)^2 (N-1) = 1 .\n",
    "\\end{equation}\n",
    "Con lo cual, ese factor es necesario.\n",
    "</p></div>\n"
   ]
  },
  {
   "cell_type": "markdown",
   "id": "080fe82e",
   "metadata": {},
   "source": [
    "Teniendo en cuenta que $|\\omega_0 \\rangle$ es un elemento de la base, eso quiere decir que es ortogonal al resto de elementos de la base. Concluimos entonces que $|\\omega_0 \\rangle$ y $| \\omega^{\\perp} \\rangle$ son ortogonales. Podemos pues dibujar nuestro vector de estado en un plano cuyos ejes son $|\\omega_0 \\rangle$ y $|\\omega^{\\perp} \\rangle$. La imagen de la izquierda de la Fig. \\ref{Fig_geo_1} podemos ver el estado inicial $| \\Psi_0 \\rangle$ dibujado en este plano.\n"
   ]
  },
  {
   "cell_type": "markdown",
   "id": "080fe82e",
   "metadata": {},
   "source": [
    "<div class=\"alert alert-block alert-danger\">\n",
    "<p style=\"color: DarkRed;\">\n",
    "<b>Nota</b>:\n",
    "<br>\n",
    "Veamos un ejemplo sencillo para ver a que nos referimos con esta descomposición. Pongamos que\n",
    "tenemos un vector tridimensional unitario de la forma\n",
    "$$ \\vec{r} = a \\vec{x} + b \\vec{y} + c \\vec{z}, \\quad \\text{ donde } a^2+b^2+c^2 = 1 .$$\n",
    "y donde $\\vec{x}$, $\\vec{y}$ y $\\vec{z}$ son los vectores unitarios en las direcciones de los ejes\n",
    "$X$, $Y$ y $Z$. Estos vectores unitarios son los <b>elementos de la base</b> que comentamos\n",
    "anteriormente (los equivalentes a los estados $|i\\rangle$ en $\\mathbb{R}^3$). Supongamos ahora que\n",
    "nuestra solución es $\\vec{z}$. Lo que podemos hacer es juntar $a \\vec{x} + b \\vec{y}$ en un único\n",
    "vector unitario $\\vec{v}$ que represente al plano formado por $\\vec{x}$ y $\\vec{y}$\n",
    "$$ \\vec{v} = \\frac{1}{\\sqrt{a^2+b^2}} \\lp a \\vec{x} + b \\vec{y} \\rp. $$\n",
    "Con lo que\n",
    "$$ \\vec{r} = c \\vec{z} + \\sqrt{a^2+b^2} \\, \\vec{v}. $$\n",
    "De esta forma, al aumentar $c$ el vector $r$ se va poniendo cada vez más paralelo\n",
    "al eje $Z$, mientras que si aumentamos $a$ o $b$ el vector se acerca a $\\vec{v}$, que representa el\n",
    "plano $XY$.\n",
    "<br><br>\n",
    "</p></div>\n"
   ]
  },
  {
   "cell_type": "markdown",
   "id": "080fe82e",
   "metadata": {},
   "source": [
    "<figure><center>\n",
    "<br>\n",
    "<img src=\"Figuras/Fig_geo_1.png\" alt=\"\" align=center width='850px'/>\n",
    "\\caption{Esto inicial del algoritmo de Grover: superposición uniforme de los $N$ estados.\n",
    "En la figura de la izquierda, $| \\Psi_0 \\rangle$ representa el estado inicial,\n",
    "el eje $|\\omega_0 \\rangle $ representa la solución y el eje $| \\omega^{\\perp} \\rangle$ el resto de estados\n",
    "de espacio de Hilbert. En la figura de la derecha vemos la <b>amplitud</b> de cada estado.\n",
    "Recordemos que la probabilidad de cada estado es el cuadrado de la amplitud. Figura tomada\n",
    "de [[32]](../../Bibliografia.ipynb#bib_Qiskit-Grover).}\n",
    "<a id='Fig_geo_1'></a>\n",
    "</center></figure>\n\n"
   ]
  },
  {
   "cell_type": "markdown",
   "id": "080fe82e",
   "metadata": {},
   "source": [
    "Sabemos también que todo vector en un plano podemos definirlo mediante su módulo y el ángulo respecto a uno de los ejes. Como el vector de estado tiene módulo uno (la suma de las probabilidades es uno), podemos escribirlo solo en función de un ángulo. Si llamamos $\\theta_0$ al ángulo que forman el vector de estado con el eje $| \\omega^{\\perp} \\rangle$, podemos escribir\n",
    "\\begin{equation} \\label{ec_geo_theta}\n",
    "| \\Psi_0 \\rangle = \\sin \\theta_0 \\, |\\omega_0 \\rangle + \\cos \\theta_0 \\, | \\omega^{\\perp} \\rangle, \\qquad \\text{donde} \\qquad  \\boxed{\\sin \\theta_0 =  \\cos \\theta_0 = \\frac{1}{\\sqrt{N}}}.\n",
    "\\end{equation}\n",
    "En el gráfico de barras de la derecha en la Fig. \\ref{Fig_geo_1} podemos ver las amplitudes de los estados. Recordemos que la probabilidad de un estado es el cuadrado de la amplitud.\n"
   ]
  },
  {
   "cell_type": "markdown",
   "id": "080fe82e",
   "metadata": {},
   "source": [
    "### Primera parte de las iteraciones: El oráculo.\n"
   ]
  },
  {
   "cell_type": "markdown",
   "id": "080fe82e",
   "metadata": {},
   "source": [
    "El algoritmo de Grover usa un <b>oráculo</b> cuya función es aplicar una fase negativa al estado que buscamos, es decir\n",
    "\\begin{equation} \\label{ec_geo_Uw}\n",
    "\\boxed{U_{\\omega_0} | i \\rangle =\n",
    "\\lch\n",
    "\\begin{matrix}\n",
    "& | i \\rangle \\quad \\text{si } i \\neq \\omega_0 \\\\\n",
    "& - | i \\rangle \\quad \\text{si } i = \\omega_0.\n",
    "\\end{matrix}\n",
    "\\right.}\n",
    "\\end{equation}\n"
   ]
  },
  {
   "cell_type": "markdown",
   "id": "080fe82e",
   "metadata": {},
   "source": [
    "Este oráculo no es más que una matriz diagonal con todo 1 en la diagonal menos en el elemento correspondiente al estado $| \\omega_0 \\rangle$, donde tenemos un $-1$. Veremos más adelante ejemplos de como construir este tipo de oráculos. Podemos adelantar que, aunque no es trivial construirlos pues a priori parece que tenemos que conocer la solución de antemano, tampoco es (en muchos caso) excesivamente complicado.\n"
   ]
  },
  {
   "cell_type": "markdown",
   "id": "080fe82e",
   "metadata": {},
   "source": [
    "Una de las características importantes de este algoritmo es lo fácil que resulta convertir un problema a un oráculo de esta forma. Hay muchos problemas computacionales en los que es difícil encontrar una solución, pero relativamente fácil verificarla (problemas NP). Por ejemplo, podemos verificar fácilmente la solución de un sudoku comprobando que se cumplen todas las reglas. Para estos problemas, podemos crear una función $f$ que tome una propuesta de solución $i$ y nos devuelva $f(i)=0$ si $i$ no es solución ($i \\neq  \\omega_0$) y $f(i) = 1$ si $i$ es solución ($i \\neq  \\omega_0$). Podemos entonces definir el oráculo de la forma\n",
    "\\begin{equation} \\label{ec_geo_U_f}\n",
    "\\boxed{U_{\\omega_0} |i \\rangle = (-1)^{f(i)} |i \\rangle}.\n",
    "\\end{equation}\n",
    "De esta forma, a matriz es ahora una matriz diagonal con\n",
    "\\begin{equation}\n",
    "Diag(U_{\\omega_0})=\\lc (-1)^{f(0)}, \\, (-1)^{f(1)}, \\dots , \\, (-1)^{f(2^n-1)}    \\rc .\n",
    "\\end{equation}\n"
   ]
  },
  {
   "cell_type": "markdown",
   "id": "080fe82e",
   "metadata": {},
   "source": [
    "<div class=\"alert alert-block alert-danger\">\n",
    "<p style=\"color: DarkRed;\">\n",
    "<b>Nota</b>:\n",
    "<br>\n",
    "Podemos usar el retorno de fase (<i>phase kickback</i>) para construir este tipo de oráculos.\n",
    "Si tenemos nuestra función clásica $f(x)$,   podemos convertirla en un circuito reversible de la\n",
    "forma (ver Fig. \\ref{Fig_geo_phase_kick}(a))\n",
    "\\begin{equation*}\n",
    "|x \\rangle |0 \\rangle \\rightarrow |x \\rangle | 0 \\oplus f(x) \\rangle  = |x \\rangle | f(x) \\rangle .\n",
    "\\end{equation*}\n",
    "<br><br>\n",
    "Si inicializamos la ancilla en el estado $| -\\rangle$, tenemos (ver Fig. \\ref{Fig_geo_phase_kick}(b))\n",
    "\\begin{equation*}\n",
    "|x \\rangle |- \\rangle = \\frac{1}{\\sqrt{2}} |x \\rangle \\lp | 0 \\rangle - | 1 \\rangle \\rp\n",
    "\\rightarrow\n",
    "|x \\rangle \\lp | 0 \\oplus f(x) \\rangle - | 1 \\oplus f(x) \\rangle  \\rp = (-1)^{f(x))} |x \\rangle |- \\rangle .\n",
    "\\end{equation*} \n",
    "<figure><center> \\setcounter{subfigure}{0}\n",
    "<br>\n",
    "\\subfigure[]{\\includegraphics[width=0.3\\linewidth]{Figuras/Fig_geo_phase_kick_0.png}}\n",
    "\\subfigure[]{\\includegraphics[width=0.35\\linewidth]{Figuras/Fig_geo_phase_kick.png}}\n",
    "\\caption{Retorno de fase (<i>phase kickback</i>) para construir un oráculo de la forma de la\n",
    "Ec. (\\ref{ec_geo_U_f}). }\n",
    "<a id='Fig_geo_phase_kick'></a>\n",
    "</center></figure>\n\n",
    "<br><br>\n",
    "</p></div>\n"
   ]
  },
  {
   "cell_type": "markdown",
   "id": "080fe82e",
   "metadata": {},
   "source": [
    "En la Fig. \\ref{Fig_geo_2} podemos ver el efecto del oráculo $U_{\\omega_0}$ sobre el vector y las amplitudes. El cambio de signo en la amplitud del estado $| \\omega_0 \\rangle$ se traduce en un cambio de signo en la proyección del vector de estado sobre este eje. A efectos prácticos, esto no es más que una reflexión del vector de estado respecto al eje $| \\omega^{\\perp} \\rangle$. Como las probabilidades son el cuadrado de las amplitudes, este cambio de signo no se traduce en un cambio en la probabilidades. A efectos de las medidas, nada ha cambiado. En esta figura también se representa la <b>media de las amplitudes</b> (linea punteada). Vemos que ha disminuido la media al cambiar el signo de la amplitud del estado $| \\omega_0 \\rangle$.\n"
   ]
  },
  {
   "cell_type": "markdown",
   "id": "080fe82e",
   "metadata": {},
   "source": [
    "<figure><center>\n",
    "<br>\n",
    "<img src=\"Figuras/Fig_geo_2.png\" alt=\"\" align=center width='850px'/>\n",
    "\\caption{Primer paso del algoritmo de Grover: aplicación del <b>oráculo</b> $U_{\\omega_0}$\n",
    "para cambiar el signo de la amplitud del estado deseado. En la figura de la izquierda,\n",
    "$| \\Psi_0 \\rangle$ representa el estado inicial, el eje $|\\omega_0 \\rangle $\n",
    "representa la solución y el eje $| \\omega^{\\perp} \\rangle$ el resto de estados de espacio de Hilbert.\n",
    "En la figura de la derecha vemos la <b>amplitud</b> de cada estado, donde la línea punteada\n",
    "representa la media. Figura tomada de [[32]](../../Bibliografia.ipynb#bib_Qiskit-Grover).}\n",
    "<a id='Fig_geo_2'></a>\n",
    "</center></figure>\n\n"
   ]
  },
  {
   "cell_type": "markdown",
   "id": "080fe82e",
   "metadata": {},
   "source": [
    "### Segunda parte de las iteraciones: El difusor.\n"
   ]
  },
  {
   "cell_type": "markdown",
   "id": "080fe82e",
   "metadata": {},
   "source": [
    "El <b>difusor</b> consiste en aplicar el operador\n",
    "\\begin{equation} \\label{ec_geo_Us}\n",
    "\\boxed{U_{\\Psi_0} = 2 |\\Psi_0 \\rangle \\langle \\Psi_0 | - I }.\n",
    "\\end{equation}\n",
    "Este operador no es más que una reflexión respecto el estado inicial $|\\Psi_0 \\rangle$.\n"
   ]
  },
  {
   "cell_type": "markdown",
   "id": "080fe82e",
   "metadata": {},
   "source": [
    "En la Fig. \\ref{Fig_geo_3} podemos ver el efecto del difusor.  En el diagrama de barras de la amplitud, podemos entender esta transformación como una reflexión respecto a la media de las amplitudes (la media queda igual). Como habíamos disminuido la media al aplicar el oráculo, lo que tenemos ahora es una amplificación de la amplitud del estado deseado. Esto se ve también en el plano de la izquierda, pues las amplitudes no son más que las proyecciones del vector sobre los ejes.\n"
   ]
  },
  {
   "cell_type": "markdown",
   "id": "080fe82e",
   "metadata": {},
   "source": [
    "<figure><center>\n",
    "<br>\n",
    "<img src=\"Figuras/Fig_geo_3.png\" alt=\"\" align=center width='850px'/>\n",
    "\\caption{Segundo paso del algoritmo de Grover: aplicar el operador de <b>difusión</b>\n",
    "(o reflexión) $U_{\\Psi_0} = 2 |\\Psi_0 \\rangle \\langle \\Psi_0 | - I$.  En la figura de la izquierda,\n",
    "$| \\Psi_0 \\rangle$ representa el estado inicial, el eje $|\\omega_0 \\rangle $ representa\n",
    "la solución y el eje $| \\omega^{\\perp} \\rangle$ el resto de estados de espacio de Hilbert. En la figura de la\n",
    "derecha vemos la <b>amplitud</b> de cada estado. Recordemos que la probabilidad de cada estado\n",
    "es el cuadrado de la amplitud. Figura tomada de [[32]](../../Bibliografia.ipynb#bib_Qiskit-Grover).}\n",
    "<a id='Fig_geo_3'></a>\n",
    "</center></figure>\n\n"
   ]
  },
  {
   "cell_type": "markdown",
   "id": "080fe82e",
   "metadata": {},
   "source": [
    "Lo que estamos haciendo mediante la aplicación del oráculo y el difusor no es mas que <b>rotar el vector de estado un ángulo</b> $\\bm{2 \\theta_0}$ (donde $\\theta_0$ está definido en la ec. (\\ref{ec_geo_theta})) hacia el eje que representa nuestra solución, aumentando así su proyección, es decir, su amplitud, y con ello la probabilidad de medirlo.\n"
   ]
  },
  {
   "cell_type": "markdown",
   "id": "080fe82e",
   "metadata": {},
   "source": [
    "Después de $t$ iteraciones hemos aumentado el ángulo en $2t\\theta_0$, con lo que tenemos estado:\n",
    "\\begin{equation} \\label{ec_geo_phi-j}\n",
    "\\boxed{|\\Psi(t) \\rangle = \\lp U_{\\Psi_0} U_{\\omega_0} \\rp^t | \\Psi_0 \\rangle} = \\sin \\lp (2t+1) \\theta_0 \\rp \\, |\\omega_0 \\rangle + \\cos \\lp (2t+1) \\theta_0 \\rp \\, | \\omega^{\\perp} \\rangle.\n",
    "\\end{equation}\n"
   ]
  },
  {
   "cell_type": "markdown",
   "id": "080fe82e",
   "metadata": {},
   "source": [
    "Podemos ahora definir el <b>operador de Grover</b>\n",
    "\\begin{equation}\n",
    "\\boxed{G = U_{\\Psi_0} U_{\\omega_0}} \\rqa |\\Psi(t) \\rangle =  G^t | \\Psi_0 \\rangle.\n",
    "\\end{equation}\n"
   ]
  },
  {
   "cell_type": "markdown",
   "id": "080fe82e",
   "metadata": {},
   "source": [
    "Ahora es fácil entender porqué tenemos que aplicar un número concreto de iteraciones y porqué si nos pasamos, la probabilidad disminuye. Como acabamos de ver, el resultado después de cada iteración es que rotamos el vector de estado $2 \\theta_0$ en el sentido contrario de las agujas del reloj. Lo que queremos es que el vector quede lo más vertical posible, es decir, que quede lo más cerca posible del eje $|\\omega\\rangle $. Si hacemos demasiadas iteraciones, lo que vamos a conseguir es \"pasarnos de largo\" del eje. Discutiremos el número exacto de iteraciones en la sección \\ref{sec_t-sols}, pero ya comentamos que es del orden de $\\sqrt{N}$.\n"
   ]
  },
  {
   "cell_type": "markdown",
   "id": "080fe82e",
   "metadata": {},
   "source": [
    "Si comparamos las ecuaciones (\\ref{ec_geo_phi-j-s}) y (\\ref{ec_geo_phi-j}) vemos que\n",
    "\\begin{align} \\label{ec_geo_sin-cos}\n",
    "& \\boxed{k(t) = \\sin \\Lc (2t+1) \\theta_0 \\Rc}\n",
    "& \\boxed{l(t) = \\frac{1}{\\sqrt{N-1}}\\cos \\Lc (2t+1) \\theta_0 \\Rc}.\n",
    "\\end{align}\n"
   ]
  },
  {
   "cell_type": "markdown",
   "id": "8534e04c",
   "metadata": {},
   "source": [
    "<figure><center>\n",
    "<img   src=\"https://quantumspain-project.es/wp-content/uploads/2022/11/Logo_QS_EspanaDigital.png\" align=center  width=\"2000px\"/>\n",
    "</center></figure>\n",
    "\n",
    "<center>\n",
    "<img align=\"left\" src=\"https://quantumspain-project.es/wp-content/uploads/2024/02/Banner-QS_GOB_v2.png\" width=\"1000px\" />\n",
    "</center>"
   ]
  }
 ],
 "metadata": {
  "kernelspec": {
   "display_name": "Python 3 (ipykernel)",
   "language": "python",
   "name": "python3"
  },
  "language_info": {
   "codemirror_mode": {
    "name": "ipython",
    "version": 3
   },
   "file_extension": ".py",
   "mimetype": "text/x-python",
   "name": "python",
   "nbconvert_exporter": "python",
   "pygments_lexer": "ipython3",
   "version": "3.11.7"
  },
  "toc": {
   "base_numbering": 1,
   "nav_menu": {},
   "number_sections": false,
   "sideBar": true,
   "skip_h1_title": true,
   "title_cell": "Table of Contents",
   "title_sidebar": "Contents",
   "toc_cell": false,
   "toc_position": {},
   "toc_section_display": true,
   "toc_window_display": false
  }
 },
 "nbformat": 4,
 "nbformat_minor": 5
}
