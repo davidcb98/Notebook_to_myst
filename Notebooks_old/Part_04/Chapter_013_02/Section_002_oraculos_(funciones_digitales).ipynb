{
 "cells": [
  {
   "cell_type": "markdown",
   "id": "8ddaeb38",
   "metadata": {},
   "source": [
    "<figure><center>\n",
    "<img   src=\"Figuras/Fig_logo_UMA_scbi.png\" align=center  width=\"2000px\"/>\n",
    "</center></figure>\n",
    "\n",
    "$ \\newcommand{\\bra}[1]{\\langle #1|} $\n",
    "$ \\newcommand{\\ket}[1]{|#1\\rangle} $\n",
    "$ \\newcommand{\\branew}[1]{\\langle #1|} $\n",
    "$ \\newcommand{\\ketnew}[1]{\\langle #1|} $\n",
    "$ \\newcommand{\\braket}[2]{\\langle #1|#2\\rangle} $\n",
    "$ \\newcommand{\\ketbra}[2]{| #1\\rangle \\langle #2 |} $\n",
    "$ \\newcommand{\\i}{{\\color{blue} i}} $ \n",
    "$ \\newcommand{\\Hil}{{\\cal H}} $\n",
    "$ \\newcommand{\\cg}[1]{{\\rm C}#1} $\n",
    "$ \\newcommand{\\lp}{\\left(} $\n",
    "$ \\newcommand{\\rp}{\\right)} $\n",
    "$ \\newcommand{\\lc}{\\left[} $\n",
    "$ \\newcommand{\\rc}{\\right]} $\n",
    "$ \\newcommand{\\lch}{\\left\\{} $\n",
    "$ \\newcommand{\\rch}{\\right\\}} $\n",
    "$ \\newcommand{\\Lp}{\\Bigl(} $\n",
    "$ \\newcommand{\\Rp}{\\Bigr)} $\n",
    "$ \\newcommand{\\Lc}{\\Bigl[} $\n",
    "$ \\newcommand{\\Rc}{\\Bigr]} $\n",
    "$ \\newcommand{\\Lch}{\\Bigl\\{} $\n",
    "$ \\newcommand{\\Rch}{\\Bigr\\}} $\n",
    "$ \\newcommand{\\rqa}{\\quad \\Rightarrow \\quad} $\n",
    "$ \\newcommand{\\bm}{\\boldsymbol}$"
   ]
  },
  {
   "cell_type": "markdown",
   "id": "080fe82e",
   "metadata": {},
   "source": [
    "# Oráculos (funciones digitales)\n"
   ]
  },
  {
   "cell_type": "markdown",
   "id": "080fe82e",
   "metadata": {},
   "source": [
    "Una clase de problemas en los que la computación cuántica promete alcanzar una ventaja con respecto a la clásica se denominan <b>algoritmos de consulta del oráculo (oracle query)</b>. En esto problemas tenemos un <b>oráculo</b>, que podemos verlo como una función a la cual nosotros le damos inputs y el oráculo nos da outputs dependiendo del input. El oráculo es como una <b>caja negra</b>. El objetivo de estos algoritmos es extraer información del oráculo haciéndole consultas (dándole inputs). Como el espacio de funciones sobre el espacio de Hilbert es mucho más grande que el propio espacio de Hilbert, el hecho de adivinar una propiedad de una función es un problema de complegidad NP.\n"
   ]
  },
  {
   "cell_type": "markdown",
   "id": "080fe82e",
   "metadata": {},
   "source": [
    "<div class=\"alert alert-block alert-danger\">\n",
    "<p style=\"color: DarkRed;\">\n",
    "<b>Nota</b>: <i>(Origen del nombre \"oráculo\")</i>\n",
    "<br>\n",
    "Precisamente, el nombre de oráculo viene de los oráculos como personas a las que se les iba a preguntar\n",
    "por el futuro y ellos te daban respuestas, sin saber muy bien de donde salían las respuestas.\n",
    "</p></div>\n"
   ]
  },
  {
   "cell_type": "markdown",
   "id": "080fe82e",
   "metadata": {},
   "source": [
    "Aun que consideremos los oráculos como cajas negras, lo cierto es que tenemos que construirlo, así que sabemos como están construidos. Sin embargo, el razonamiento es el mismo. Esto se entenderá mucho mejor cuando veamos, por ejemplo, el algoritmo de Grover.\n"
   ]
  },
  {
   "cell_type": "markdown",
   "id": "080fe82e",
   "metadata": {},
   "source": [
    "## Construcción de funciones binarias. Los min-términos\n"
   ]
  },
  {
   "cell_type": "markdown",
   "id": "080fe82e",
   "metadata": {},
   "source": [
    "Una <b>función binaria (o digitales)</b> no es más que una función que lleva cadenas de $n$ bits de entrada a cadenas de $m$ bits como salida\n",
    "$$\n",
    "f : \\{0,1\\}^n ~~\\to ~~\\{0,1\\}^m\n",
    "$$\n",
    "La construcción de $f$ es equivalente a la especificación de $m$ funciones  $f_1,f_2,...,f_m$ <b>binarias</b>\n",
    "$$\n",
    "f_i : \\{0,1\\}^n ~~\\to ~~\\{0,1\\}\n",
    "$$\n",
    "Es evidente que ninguna función binaria es invertible para $n\\geq 2$. Como la computación cuántica es reversible, tenemos que buscar otra forma de implementar estas funciones. La manera más simple de fabricar, a partir de un mapa no invertible $f$, otro invertible $U_f$, implica <i>conservar</i> los valores de la variables iniciales. Es decir, para $f:\\{0,1\\}^n \\to \\{0,1\\}$ necesitamos un total de $n+1$ qúbits:\n",
    "<br>\n",
    "- $n$ cúbits que contienen el argumento de la función, $\\ket{x}_n \\in \\mathbb{C}^n$,\n",
    "<br>\n",
    "- 1 cúbit que guardará el resultado, $\\ket{y} \\in \\mathbb{C}$.\n",
    "<br>\n",
    "<br>\n",
    "Sea $U_f$ el siguiente operador\n",
    "\\begin{equation} \\label{ec_InicialOracle_Uf}\n",
    "U_f : \\ket{x}\\ket{y} \\longrightarrow \\ket{x} \\ket{ y \\oplus f(x) }\n",
    "\\end{equation}\n",
    "Donde $\\oplus$ indica suma módulo 2. Es evidente de la definición que $U_f\\cdot U_f = I$, así que es invertible.\n"
   ]
  },
  {
   "cell_type": "markdown",
   "id": "080fe82e",
   "metadata": {},
   "source": [
    "Es muy sencillo establecer un método general para construir funciones binarias de la forma $f: \\{0, 1\\}^n \\rightarrow \\{0, 1\\}$. Consideremos la siguiente <b>tabla de verdad</b> para una función $f: \\{0, 1\\}^3 \\rightarrow \\{0, 1\\}$ concreta.\n"
   ]
  },
  {
   "cell_type": "markdown",
   "id": "080fe82e",
   "metadata": {},
   "source": [
    "\\begin{table}[H]\n",
    "\\centering\n",
    "\\begin{tabular}{lllll}\n",
    "$x_2$ & $x_1$ & $x_0$ & & $f(x)$ \\\\ \\hline\n",
    "0&0&0 &&0\\\\\n",
    "0&0&1 &&1\\\\\n",
    "0&1&0 &&0\\\\\n",
    "0&1&1 &&0\\\\\n",
    "1&0&0 &&0\\\\\n",
    "1&0&1 &&1\\\\\n",
    "1&1&0 &&0\\\\\n",
    "1&1&1 &&1\\\\ \\hline\n",
    "\\end{tabular}\n",
    "\\caption{Ejemplo de función binaria $f: \\{0, 1\\}^3 \\rightarrow \\{0, 1\\}$}\n",
    "\\label{Tab_InitialOracle_f_bin_1}\n",
    "\\end{table}\n"
   ]
  },
  {
   "cell_type": "markdown",
   "id": "080fe82e",
   "metadata": {},
   "source": [
    "La idea es considerar exclusivamente los términos que tienen como salida la variable 1, que denominaremos <b>min-términos</b>. Por ejemplo hay un min-término de la forma $101 \\to 1$ que se puede obtener mediante una puerta de la Fig. \\ref{Fig_InitialOracle_ctrl5}.\n",
    "<figure><center>[H]\n",
    "<br>\n",
    "<img src=\"Figuras/Fig_InitialOracle_ctrl5\" alt=\"\" align=center width='130px'/>\n",
    "<center>Uno de los min-términos de la función de la tabla \\ref{Tab_InitialOracle_f_bin_1}</center>\n",
    "<a id='Fig_InitialOracle_ctrl5'></a>\n",
    "</center></figure>\n\n"
   ]
  },
  {
   "cell_type": "markdown",
   "id": "080fe82e",
   "metadata": {},
   "source": [
    "<div class=\"alert alert-block alert-success\">\n",
    "<p style=\"color: DarkGreen;\">\n",
    "<b>Ejercicio</b>:\n",
    "Completa el código del notebook para implementar la función $f:\\{0,1\\}^4\\to \\{0,1\\}^4$ dada su tabla de verdad.\n",
    "Recuerda que en qiskit el bit menos significativo es el de arriba.\n",
    "</p></div>\n",
    "\n\n"
   ]
  },
  {
   "cell_type": "markdown",
   "id": "080fe82e",
   "metadata": {},
   "source": [
    "<div class=\"alert alert-block alert-success\">\n",
    "<p style=\"color: DarkGreen;\">\n",
    "<b>Ejercicio</b>:\n",
    "Escribe una función $f:S^n\\to S$  que  produzca aleatoriamente $f(x) = \\pm 1$ de forma <i>equilibrada</i> (es decir, tantos $f(x)= +1$ como $f(x)= -1$).  Puedes ver la solución en la sección 4.4 de algoritmo de \\href{https://learn.qiskit.org/course/ch-algorithms/deutsch-jozsa-algorithm}{Deutsch-Jozsa del notebook de Qiskit}.\n",
    "</p></div>\n",
    "\n\n"
   ]
  },
  {
   "cell_type": "markdown",
   "id": "080fe82e",
   "metadata": {},
   "source": [
    "### Función binaria lineal.\n"
   ]
  },
  {
   "cell_type": "markdown",
   "id": "080fe82e",
   "metadata": {},
   "source": [
    "Dados dos n-tuplas binarias $x=(x_{n-1},\\ldots,x_0)$ y $a=(a_{n-1},\\ldots,a_0)$ definimos la <b>función lineal</b>\n",
    "\\begin{equation}\n",
    "f(x;a) = a \\cdot x = a_{n-1} x_{n-1} \\oplus a_{n-2} x_{n-2} \\oplus \\cdots \\oplus a_{0} x_{0}\\; ,\n",
    "\\end{equation}\n",
    "donde  $\\oplus$ es la suma módulo 2. Por ejemplo, el circuito que implementa esta función cuando $a=11010$ es el de la Fig.  \\ref{Fig_InitialOracle_linear_function}\n"
   ]
  },
  {
   "cell_type": "markdown",
   "id": "080fe82e",
   "metadata": {},
   "source": [
    "<figure><center>[H]\n",
    "<br>\n",
    "<img src=\"Figuras/Fig_InitialOracle_linear_function\" alt=\"\" align=center width='350px'/>\n",
    "<center>Ejemplo de función binaria lineal para $a=11010$.</center>\n",
    "<a id='Fig_InitialOracle_linear_function'></a>\n",
    "</center></figure>\n\n"
   ]
  },
  {
   "cell_type": "markdown",
   "id": "080fe82e",
   "metadata": {},
   "source": [
    "<div class=\"alert alert-block alert-success\">\n",
    "<p style=\"color: DarkGreen;\">\n",
    "<b>Ejercicio</b>:\n",
    "Completa el código del notebook que genera el circuito asociado a la función binaria lineal $f(x;a)$.\n",
    "</p></div>\n",
    "\n\n"
   ]
  },
  {
   "cell_type": "markdown",
   "id": "080fe82e",
   "metadata": {},
   "source": [
    "<div class=\"alert alert-block alert-success\">\n",
    "<p style=\"color: DarkGreen;\">\n",
    "<b>Ejercicio</b>:\n",
    "Sea sobre el conjunto de valores $x\\in \\{0,1,2,3\\}$ la función $f(x) = x^2$. Halla la tabla de verdad\n",
    "en binario y construye el oráculo que implementa esta función.\n",
    "</p></div>\n",
    "\n\n"
   ]
  },
  {
   "cell_type": "markdown",
   "id": "080fe82e",
   "metadata": {},
   "source": [
    "\\begin{mybox_orange}{Jypyter Notebook: 07-Estado\\_inicial\\_y\\_oraculo sección 2}\n",
    "Ver la sección 2 del notebook <b>07-Estado\\_inicial\\_y\\_oraculo</b>.\n",
    "\\end{mybox_orange}\n"
   ]
  },
  {
   "cell_type": "markdown",
   "id": "080fe82e",
   "metadata": {},
   "source": [
    "## Oráculos booleanos y de fase\n"
   ]
  },
  {
   "cell_type": "markdown",
   "id": "080fe82e",
   "metadata": {},
   "source": [
    "En la sección anterior hemos definido el operador  $U_f$ usando un qúbit ancilla\n",
    "$$\n",
    "U_f \\ket{x}\\otimes\\ket{y} = \\ket{x}\\ket{y + f(x)}\n",
    "$$\n",
    "Dependiendo del valor que le demos a $\\ket{y}$, tenemos dos clases de oráculos.\n"
   ]
  },
  {
   "cell_type": "markdown",
   "id": "080fe82e",
   "metadata": {},
   "source": [
    "### Oráculos booleanos.\n"
   ]
  },
  {
   "cell_type": "markdown",
   "id": "080fe82e",
   "metadata": {},
   "source": [
    "Es la cláse de oráculos que vimos hasta ahora. Son aquellos en los que la salida se codifica como un $0$ o un $1$ en el bit $n+1$, es decir\n",
    "$$\n",
    "U_f \\ket{x}\\otimes\\ket{0} = \\ket{x}\\ket{f(x)}\n",
    "$$\n",
    "Es decir, tomamos $\\ket{y} = 0$.\n"
   ]
  },
  {
   "cell_type": "markdown",
   "id": "080fe82e",
   "metadata": {},
   "source": [
    "### Oráculos de fase.\n"
   ]
  },
  {
   "cell_type": "markdown",
   "id": "080fe82e",
   "metadata": {},
   "source": [
    "Nada nos impide inicializar la ancilla en un <b>autovector</b> de $U_f$.\n"
   ]
  },
  {
   "cell_type": "markdown",
   "id": "080fe82e",
   "metadata": {},
   "source": [
    "<div class=\"alert alert-block alert-info\">\n",
    "<p style=\"color: navy;\">\n",
    "<b>Teorema</b>:\n",
    "Los autovectores de $U_f$ son los estados $\\ket{x}\\otimes \\ket{\\pm}$.\n",
    "</p></div>\n",
    "\n\n"
   ]
  },
  {
   "cell_type": "markdown",
   "id": "080fe82e",
   "metadata": {},
   "source": [
    "<details><summary><p style=\"color:blue\" > >> <i>Demostración</i> </p></summary>\n",
    "Por un lado sabemos que los autovalores deben ser $\\pm 1$ dado que $U_f^2 = I$. Veamos cada caso\n",
    "\\begin{eqnarray}\n",
    "U_f\\ket{x}\\otimes \\ket{+} &=& \\ket{x}\\otimes \\frac{1}{\\sqrt{2}}\\left( \\rule{0mm}{6mm}\\ket{0\\oplus f(x)}+\\ket{1\\oplus f(x)} \\right)\n",
    "= \\ket{x}\\otimes \\ket{+} \\nonumber\\\\\n",
    "U_f\\ket{x}\\otimes \\ket{-} &=& \\ket{x}\\otimes \\frac{1}{\\sqrt{2}}\\left( \\rule{0mm}{6mm} \\ket{0\\oplus f(x)}-\\ket{1\\oplus f(x)}\\right)\n",
    "= (-1)^{f(x)} \\ket{x}\\otimes \\ket{-} \\nonumber\n",
    "\\end{eqnarray}\n",
    "donde vemos que se produce un típico efecto de <i>retroceso de fase</i>.\n",
    "</details>\n",
    "\n\n"
   ]
  },
  {
   "cell_type": "markdown",
   "id": "080fe82e",
   "metadata": {},
   "source": [
    "Si especificamos $\\ket{y} = \\ket{-}$ codificamos $f(x)$ en <b>la fase</b> $~\\to ~(-1)^{f(x)} = e^{i\\pi f(x)}$.\n"
   ]
  },
  {
   "cell_type": "markdown",
   "id": "8534e04c",
   "metadata": {},
   "source": [
    "<figure><center>\n",
    "<img   src=\"https://quantumspain-project.es/wp-content/uploads/2022/11/Logo_QS_EspanaDigital.png\" align=center  width=\"2000px\"/>\n",
    "</center></figure>\n",
    "\n",
    "<center>\n",
    "<img align=\"left\" src=\"https://quantumspain-project.es/wp-content/uploads/2024/02/Banner-QS_GOB_v2.png\" width=\"1000px\" />\n",
    "</center>"
   ]
  }
 ],
 "metadata": {
  "kernelspec": {
   "display_name": "Python 3 (ipykernel)",
   "language": "python",
   "name": "python3"
  },
  "language_info": {
   "codemirror_mode": {
    "name": "ipython",
    "version": 3
   },
   "file_extension": ".py",
   "mimetype": "text/x-python",
   "name": "python",
   "nbconvert_exporter": "python",
   "pygments_lexer": "ipython3",
   "version": "3.11.7"
  },
  "toc": {
   "base_numbering": 1,
   "nav_menu": {},
   "number_sections": false,
   "sideBar": true,
   "skip_h1_title": true,
   "title_cell": "Table of Contents",
   "title_sidebar": "Contents",
   "toc_cell": false,
   "toc_position": {},
   "toc_section_display": true,
   "toc_window_display": false
  }
 },
 "nbformat": 4,
 "nbformat_minor": 5
}
