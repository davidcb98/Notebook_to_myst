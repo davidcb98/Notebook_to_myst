{
 "cells": [
  {
   "cell_type": "markdown",
   "id": "8ddaeb38",
   "metadata": {},
   "source": [
    "<figure><center>\n",
    "<img   src=\"Figuras/Fig_logo_UMA_scbi.png\" align=center  width=\"2000px\"/>\n",
    "</center></figure>\n",
    "\n",
    "$ \\newcommand{\\bra}[1]{\\langle #1|} $\n",
    "$ \\newcommand{\\ket}[1]{|#1\\rangle} $\n",
    "$ \\newcommand{\\branew}[1]{\\langle #1|} $\n",
    "$ \\newcommand{\\ketnew}[1]{\\langle #1|} $\n",
    "$ \\newcommand{\\braket}[2]{\\langle #1|#2\\rangle} $\n",
    "$ \\newcommand{\\ketbra}[2]{| #1\\rangle \\langle #2 |} $\n",
    "$ \\newcommand{\\i}{{\\color{blue} i}} $ \n",
    "$ \\newcommand{\\Hil}{{\\cal H}} $\n",
    "$ \\newcommand{\\cg}[1]{{\\rm C}#1} $\n",
    "$ \\newcommand{\\lp}{\\left(} $\n",
    "$ \\newcommand{\\rp}{\\right)} $\n",
    "$ \\newcommand{\\lc}{\\left[} $\n",
    "$ \\newcommand{\\rc}{\\right]} $\n",
    "$ \\newcommand{\\lch}{\\left\\{} $\n",
    "$ \\newcommand{\\rch}{\\right\\}} $\n",
    "$ \\newcommand{\\Lp}{\\Bigl(} $\n",
    "$ \\newcommand{\\Rp}{\\Bigr)} $\n",
    "$ \\newcommand{\\Lc}{\\Bigl[} $\n",
    "$ \\newcommand{\\Rc}{\\Bigr]} $\n",
    "$ \\newcommand{\\Lch}{\\Bigl\\{} $\n",
    "$ \\newcommand{\\Rch}{\\Bigr\\}} $\n",
    "$ \\newcommand{\\rqa}{\\quad \\Rightarrow \\quad} $\n",
    "$ \\newcommand{\\bm}{\\boldsymbol}$"
   ]
  },
  {
   "cell_type": "markdown",
   "id": "080fe82e",
   "metadata": {},
   "source": [
    "# Operadores de Clifford\n"
   ]
  },
  {
   "cell_type": "markdown",
   "id": "080fe82e",
   "metadata": {},
   "source": [
    "<div class=\"alert alert-block alert-info\">\n",
    "<p style=\"color: navy;\">\n",
    "<b>Definicion</b>:\n",
    "Se define un <b>operador de Clifford</b>, $U$, como aquel que conjuga un operador de Pauli a otro operador de Pauli.\n",
    "</p></div>\n",
    "\n\n"
   ]
  },
  {
   "cell_type": "markdown",
   "id": "080fe82e",
   "metadata": {},
   "source": [
    "Los propios operadores de Pauli son operadores de Clifford.  La conjugación correspondiente simplemente refleja el operador de Pauli. Por ejemplo con $U=Z$\n",
    "$$\n",
    "ZXZ = -X~~~~~~~~~ZYZ = -Y ~~~~~~~~~ZZZ = Z\n",
    "$$\n",
    "Pero vemos que también $H$ y $S$ son de Clifford. Por el contrario $T$ no es un operador de Clifford.\n"
   ]
  },
  {
   "cell_type": "markdown",
   "id": "080fe82e",
   "metadata": {},
   "source": [
    "<div class=\"alert alert-block alert-danger\">\n",
    "<p style=\"color: DarkRed;\">\n",
    "<b>Nota</b>: <i>(simulaciones de circuitos con operadores de Clifford)</i>\n",
    "<br>\n",
    "Los circuitos cuánticos compuestos únicamente por operadores de Clifford pueden simularse de forma eficiente en ordenadores\n",
    "clásicos gracias al <b>teorema de Gottesman-Knill</b> (ver [[13]](../../Bibliografia.ipynb#bib_Gottesman-Knill)).\n",
    "</p></div>\n"
   ]
  },
  {
   "cell_type": "markdown",
   "id": "080fe82e",
   "metadata": {},
   "source": [
    "Esta definición se extiende a puertas multi-cúbits. Un operador de Clifford será aquel que conjuga una cadena de Pauli para dar otra cadena de Pauli. Por ejemplo\n",
    "\\begin{eqnarray*}\n",
    "(XXH) \\, (YZX) \\,  (XXH)^\\dagger &=& XXH \\otimes YZX \\otimes XXH \\\\\n",
    "&=& XYX \\otimes  XZX \\otimes HXH \\\\\n",
    "&=& (-Y)\\otimes (-Z) \\otimes Z \\\\\n",
    "&=& YZZ\n",
    "\\end{eqnarray*}\n"
   ]
  },
  {
   "cell_type": "markdown",
   "id": "080fe82e",
   "metadata": {},
   "source": [
    "También podemos conjugar operadores obtenidos por exponenciación\n",
    "$$\n",
    "(XXH) \\, e^{aYZX} \\,  (XXH)^\\dagger =e^{a XXH \\otimes XZX \\otimes XXH} =  e^{a YZZ}\n",
    "$$\n"
   ]
  },
  {
   "cell_type": "markdown",
   "id": "080fe82e",
   "metadata": {},
   "source": [
    "Para 2 qúbits la <b>clase de Clifford</b> admite puertas controladas.\n",
    "$$\n",
    "\\cg{X} \\, (X\\otimes I)\\,  \\cg{X} = X \\otimes X\n",
    "$$\n",
    "que copia el operador $X$ en el segundo qúbit. Esta identidad se puede demostrar gráficamente como vemos en la Fig. \\ref{Fig_elementos_clone_X}.\n",
    "<figure><center>[H]\n",
    "<br>\n",
    "<img src=\"Figuras/Fig_elementos_clone_X\" alt=\"\" align=center width='900px'/>\n",
    "<center>Clonación de la puerta $X$.</center>\n",
    "<a id='Fig_elementos_clone_X'></a>\n",
    "</center></figure>\n\n"
   ]
  },
  {
   "cell_type": "markdown",
   "id": "8534e04c",
   "metadata": {},
   "source": [
    "<figure><center>\n",
    "<img   src=\"https://quantumspain-project.es/wp-content/uploads/2022/11/Logo_QS_EspanaDigital.png\" align=center  width=\"2000px\"/>\n",
    "</center></figure>\n",
    "\n",
    "<center>\n",
    "<img align=\"left\" src=\"https://quantumspain-project.es/wp-content/uploads/2024/02/Banner-QS_GOB_v2.png\" width=\"1000px\" />\n",
    "</center>"
   ]
  }
 ],
 "metadata": {
  "kernelspec": {
   "display_name": "Python 3 (ipykernel)",
   "language": "python",
   "name": "python3"
  },
  "language_info": {
   "codemirror_mode": {
    "name": "ipython",
    "version": 3
   },
   "file_extension": ".py",
   "mimetype": "text/x-python",
   "name": "python",
   "nbconvert_exporter": "python",
   "pygments_lexer": "ipython3",
   "version": "3.11.7"
  },
  "toc": {
   "base_numbering": 1,
   "nav_menu": {},
   "number_sections": false,
   "sideBar": true,
   "skip_h1_title": true,
   "title_cell": "Table of Contents",
   "title_sidebar": "Contents",
   "toc_cell": false,
   "toc_position": {},
   "toc_section_display": true,
   "toc_window_display": false
  }
 },
 "nbformat": 4,
 "nbformat_minor": 5
}
