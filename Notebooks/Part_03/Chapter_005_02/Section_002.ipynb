{
 "cells": [
  {
   "cell_type": "markdown",
   "id": "8ddaeb38",
   "metadata": {},
   "source": [
    "<figure><center>\n",
    "<img   src=\"Figuras/Fig_logo_UMA_scbi.png\" align=center  width=\"2000px\"/>\n",
    "</center></figure>\n",
    "\n",
    "$ \\newcommand{\\bra}[1]{\\langle #1|} $\n",
    "$ \\newcommand{\\ket}[1]{|#1\\rangle} $\n",
    "$ \\newcommand{\\braket}[2]{\\langle #1|#2\\rangle} $\n",
    "$ \\newcommand{\\i}{{\\color{blue} i}} $ \n",
    "$ \\newcommand{\\Hil}{{\\cal H}} $\n",
    "$ \\newcommand{\\cg}[1]{{\\rm C}#1} $\n",
    "$ \\newcommand{\\lp}{\\left(} $\n",
    "$ \\newcommand{\\rp}{\\right)} $\n",
    "$ \\newcommand{\\lc}{\\left[} $\n",
    "$ \\newcommand{\\rc}{\\right]} $\n",
    "$ \\newcommand{\\lch}{\\left\\{} $\n",
    "$ \\newcommand{\\rch}{\\right\\}} $\n",
    "$ \\newcommand{\\Lp}{\\Bigl(} $\n",
    "$ \\newcommand{\\Rp}{\\Bigr)} $\n",
    "$ \\newcommand{\\Lc}{\\Bigl[} $\n",
    "$ \\newcommand{\\Rc}{\\Bigr]} $\n",
    "$ \\newcommand{\\Lch}{\\Bigl\\{} $\n",
    "$ \\newcommand{\\Rch}{\\Bigr\\}} $\n",
    "$ \\newcommand{\\rqa}{\\quad \\Rightarrow \\quad} $\n",
    "$ \\newcommand{\\bm}{\\boldsymbol}$"
   ]
  },
  {
   "cell_type": "markdown",
   "id": "080fe82e",
   "metadata": {},
   "source": [
    "# Puertas simples\n"
   ]
  },
  {
   "cell_type": "markdown",
   "id": "080fe82e",
   "metadata": {},
   "source": [
    "La computación clásica se basa en la descomposición de algoritmos complejos en una serie de puertas lógicas elementales. Veremos que lo mismo ocurre con la computación cuántica.\n"
   ]
  },
  {
   "cell_type": "markdown",
   "id": "080fe82e",
   "metadata": {},
   "source": [
    "Por puertas simples entendemos un conjunto de \\textbf{operadores unitarios} que se utilizan con frecuencia en la computación cuántica. Vamos a ver las puertas simples sobre 1 qúbit.\n"
   ]
  },
  {
   "cell_type": "markdown",
   "id": "080fe82e",
   "metadata": {},
   "source": [
    "## Dos formas de escribir las matrices 2x2.\n"
   ]
  },
  {
   "cell_type": "markdown",
   "id": "080fe82e",
   "metadata": {},
   "source": [
    "Primero hagamos un breve alto en el camino para vez una segunda forma de escribir las matrices $2\\times2$ en computación cuántica. Dada una matriz genérica $A$ podemos escribirla como\n",
    "\\begin{equation}\n",
    "A = \\lp \\begin{matrix}\n",
    "a_{11} & a_{12} \\\\\n",
    "a_{21} & a_{22}\n",
    "\\end{matrix} \\rp =\n",
    "a_{11} \\ketbra{0}{0} + a_{12} \\ketbra{0}{1} +  a_{21} \\ketbra{1}{0} +  a_{22} \\ketbra{1}{1}\n",
    "\\end{equation}\n",
    "Esta segunda forma es cómoda para hacer operaciones.\n"
   ]
  },
  {
   "cell_type": "markdown",
   "id": "080fe82e",
   "metadata": {},
   "source": [
    "<div class=\"alert alert-block alert-danger\">\n",
    "<p style=\"color: DarkRed;\">\n",
    "<b>Nota</b>:\n",
    "Como los elemtos de la base son ortonormales cumplen:\n",
    "\\begin{equation}\n",
    "\\braket{0}{0} = \\braket{1}{1} = 1, ~~~~~~~~ \\braket{0}{1}=\\braket{1}{0}=0.\n",
    "\\end{equation}\n",
    "Ahora podemos ver como antúa una matriz genérica $A$ sobre un elemento de la base, por ejemplo, $\\ket{0}$\n",
    "\\begin{align*}\n",
    "A \\ket{0} & = a_{11} \\ket{0}\\braket{0}{0} + a_{12} \\ket{0} \\cancel{\\braket{1}{0}} +\n",
    "a_{21} \\ket{1}\\braket{0}{0} +  a_{22} \\ket{1} \\cancel{\\braket{1}{0}} \\\\\n",
    "& = a_{11} \\ket{0}\\braket{0}{0} + a_{21} \\ket{1}\\braket{0}{0} = a_{11} \\ket{0} + a_{21}\\ket{1} =\n",
    "\\begin{bmatrix} a_{11} \\\\ a_{21} \\end{bmatrix}\n",
    "\\end{align*}\n",
    "<br><br>\n",
    "</p></div>\n"
   ]
  },
  {
   "cell_type": "markdown",
   "id": "080fe82e",
   "metadata": {},
   "source": [
    "## Puertas de fase\n",
    "### $P_\\alpha$ con $\\alpha \\in [ 0, 2\\pi ) $.\n"
   ]
  },
  {
   "cell_type": "markdown",
   "id": "080fe82e",
   "metadata": {},
   "source": [
    "Se trata de una rotación entorno al eje $Z$ y se escribe de la forma\n",
    "\\begin{equation}\n",
    "\\boxed{P(\\alpha)= \\lp \\begin{matrix}\n",
    "1 & 0 \\\\ 0 & e^{i\\alpha}\n",
    "\\end{matrix} \\rp =  \\ketbra{0}{0} + e^{i\\alpha}\\ketbra{1}{1}}\n",
    "\\end{equation}\n",
    "Aplicando sobre un estado genérico tenemos\n",
    "\\begin{equation*}\n",
    "P(\\alpha) \\ket{u} =\n",
    "\\lp \\begin{matrix} 1 & 0 \\\\ 0 & e^{i\\alpha} \\end{matrix} \\rp\n",
    "\\begin{bmatrix} \\cos\\theta/2 \\\\ e^{i\\phi}  \\sin\\theta/2 \\end{bmatrix} =\n",
    "\\begin{bmatrix} \\cos\\theta/2 \\\\ e^{i(\\phi+\\alpha)}  \\sin\\theta/2 \\end{bmatrix} =\n",
    "\\ket{v}\n",
    "\\end{equation*}\n"
   ]
  },
  {
   "cell_type": "markdown",
   "id": "080fe82e",
   "metadata": {},
   "source": [
    "Ya vimos en la Ec. (\\ref{ec_puertas_simples_Rz}) una puerta para rotar entorno al eje $z$. Podemos ver que a efectos prácticos la puerta $P_\\alpha$ es lo mismo que la puerta $R_z(\\alpha)$, pues se diferencian solo en una fase global\n",
    "\\begin{equation*}\n",
    "P_\\alpha \\equiv e^{i \\alpha/2} R_z (\\alpha)\n",
    "\\end{equation*}\n"
   ]
  },
  {
   "cell_type": "markdown",
   "id": "080fe82e",
   "metadata": {},
   "source": [
    "### $K_\\alpha$\n"
   ]
  },
  {
   "cell_type": "markdown",
   "id": "080fe82e",
   "metadata": {},
   "source": [
    "Esta puerta es trivial pero a veces se usa en algunas demostraciones. Se trata simplemente de una puerta de fase global\n",
    "\\begin{equation}\n",
    "K(\\alpha)= e^{i\\alpha} \\lp \\begin{matrix} 1 & 0 \\\\ 0 & 1 \\end{matrix} \\rp =\n",
    "e^{i\\alpha} \\lp  \\ketbra{0}{0} + \\ketbra{1}{1} \\right) = e^{i\\alpha} I\n",
    "\\end{equation}\n"
   ]
  },
  {
   "cell_type": "markdown",
   "id": "080fe82e",
   "metadata": {},
   "source": [
    "## Puertas discretas\n"
   ]
  },
  {
   "cell_type": "markdown",
   "id": "080fe82e",
   "metadata": {},
   "source": [
    "### $X$, $Y$, $Z$\n"
   ]
  },
  {
   "cell_type": "markdown",
   "id": "080fe82e",
   "metadata": {},
   "source": [
    "Tres puertas muy usadas en computación cuántica con las siguientes\n",
    "\\begin{align}\n",
    "&\\boxed{X = \\lp  \\begin{matrix}0&1\\\\1&0\\end{matrix} \\rp = \\sigma_x = \\ketbra{1}{0} + \\ketbra{0}{1}}~, ~~~  \\label{ec_puertas_simples_X} \\\\ \\rule{0mm}{7mm}\n",
    "&\\boxed{Y = \\lp \\begin{matrix}0&-i\\\\i&0\\end{matrix} \\rp = \\sigma_y  =  i \\ketbra{1}{0} - i \\ketbra{0}{1}}~, ~~~ \\label{ec_puertas_simples_Y}\\\\ \\rule{0mm}{7mm}\n",
    "&\\boxed{Z = \\lp  \\begin{matrix}1&0\\\\0&-1\\end{matrix} \\rp = \\sigma_z = \\ketbra{0}{0} - \\ketbra{1}{1}}  ~, ~~~ \\label{ec_puertas_simples_Z}\n",
    "\\end{align}\n",
    "donde hemos remarcado la igualdad con las \\textit{matrices de Pauli} (ver sección \\ref{sec_qubit_matrices_Pauli}).\n"
   ]
  },
  {
   "cell_type": "markdown",
   "id": "080fe82e",
   "metadata": {},
   "source": [
    "\\Ejercicio{Relacionar  $X,Y,Z$ con   $R_x(\\alpha),R_y(\\alpha)$ y $R_z(\\alpha)$ par algún valor de $\\alpha$.}\n"
   ]
  },
  {
   "cell_type": "markdown",
   "id": "080fe82e",
   "metadata": {},
   "source": [
    "<div class=\"alert alert-block alert-danger\">\n",
    "<p style=\"color: DarkRed;\">\n",
    "<b>Nota</b>:\n",
    "Como las puertas $X$, $Y$ y $Z$ son las matrices de Pauli, estas son hermíticas ($A = A^\\dagger$) y\n",
    "además cumplen que son iguales a su inversa (ver Ec. (\\ref{ec_qubit_pauli_sigma^2})).\n",
    "Esto implica que aplicar dos veces seguidas una de estas puertas es lo mismo que aplicar la identidad.\n",
    "Además, los autovalores de las matrices de Pauli son $\\pm 1$ (ver Ecs. (\\ref{ec_qubit_sigma_det}) y (\\ref{ec_qubit_sigma_tr})).\n",
    "</p></div>\n"
   ]
  },
  {
   "cell_type": "markdown",
   "id": "080fe82e",
   "metadata": {},
   "source": [
    "### $S$, $T$\n"
   ]
  },
  {
   "cell_type": "markdown",
   "id": "080fe82e",
   "metadata": {},
   "source": [
    "Cualquier potencia $U^k$ de un operador unitario es otro operador unitario. Esto es fácil de demostrar cuando $k=2$ pero es cierto en el caso general $k\\in{\\mathbb R}$. Así obtenemos\n"
   ]
  },
  {
   "cell_type": "markdown",
   "id": "080fe82e",
   "metadata": {},
   "source": [
    "\\begin{equation}\n",
    "\\boxed{S = Z^{1/2} =  \\lp\\begin{matrix}1&0\\\\0&i\\end{matrix}\\rp = \\lp\\begin{matrix}1&0\\\\0&e^{i\\pi/2}\\end{matrix} \\rp}\n",
    "~~~~~,~~~~~~\n",
    "\\boxed{T = S^{1/2} = \\lp \\begin{matrix} 1&0 \\\\ 0 & e^{i\\pi/4} \\end{matrix} \\rp} \\, .\n",
    "\\end{equation}\n"
   ]
  },
  {
   "cell_type": "markdown",
   "id": "080fe82e",
   "metadata": {},
   "source": [
    "### $H$\n"
   ]
  },
  {
   "cell_type": "markdown",
   "id": "080fe82e",
   "metadata": {},
   "source": [
    "La puerta de Hadamard, $H$, es la primera puerta \\textbf{genuinamente cuántica} en el sentido de que lleva un estado de la base a una superposición coherente\n"
   ]
  },
  {
   "cell_type": "markdown",
   "id": "080fe82e",
   "metadata": {},
   "source": [
    "\\begin{equation}\n",
    "H \\ket{0} = \\frac{1}{\\sqrt{2}}\\left(\\rule{0mm}{4mm}\\ket{0} + \\ket{1}\\right) =\\ket{+}\n",
    "~~~~~~~~,~~~~~~~~~~\n",
    "H \\ket{1} = \\frac{1}{\\sqrt{2}}\\left(\\rule{0mm}{4mm}\\ket{0} - \\ket{1}\\right) =\\ket{-}\n",
    "\\end{equation}\n"
   ]
  },
  {
   "cell_type": "markdown",
   "id": "080fe82e",
   "metadata": {},
   "source": [
    "Podemos escribir este operador en la base $H = H_{ij}\\ketbra{i}{j}$\n",
    "\\begin{align*}\n",
    "H &=  \\ket{+}\\bra{0} +  \\ket{-}\\bra{1} \\\\\n",
    "&= \\frac{1}{\\sqrt{2}}(\\ketbra{0}{0} + \\ketbra{1}{0} + \\ketbra{0}{1} - \\ketbra{1}{1})\n",
    "\\end{align*}\n",
    "de  lo que obtenemos la representación matricial\n",
    "\\begin{equation} \\label{ec_puertas_simples_H}\n",
    "\\boxed{H   =  \\frac{1}{\\sqrt{2}} \\lp \\begin{matrix} 1 & 1 \\\\ 1 & -1 \\end{matrix} \\rp}\n",
    "\\end{equation}\n"
   ]
  },
  {
   "cell_type": "markdown",
   "id": "080fe82e",
   "metadata": {},
   "source": [
    "<div class=\"alert alert-block alert-danger\">\n",
    "<p style=\"color: DarkRed;\">\n",
    "<b>Nota</b>:\n",
    "En cálculos posteriores encontraremos muy útil la siguiente representación de la acción de $H$\n",
    "\\begin{equation} \\label{ec_puertas_simples_H_sobre_1_qubit}\n",
    "\\boxed{H \\ket{x} =\\frac{1}{\\sqrt{2}} \\sum_{y=0,1} (-1)^{ x  y} \\ket{y}}\n",
    "\\end{equation}\n",
    "</p></div>\n"
   ]
  },
  {
   "cell_type": "markdown",
   "id": "080fe82e",
   "metadata": {},
   "source": [
    "Como cualquier puerta, la acción de $H$ puede visualizarse como una rotación en la esfera de Bloch. En este caso una es una rotación de $\\pi$ radianes en torno a un eje diagonal situado a 45$^\\circ$ entre el eje $x$ y el eje $y$. Esta rotación permuta los ejes $x$ y $z$ y cambia de sentido el eje $y$.\n"
   ]
  },
  {
   "cell_type": "markdown",
   "id": "080fe82e",
   "metadata": {},
   "source": [
    "\\begin{equation}\n",
    "\\hat{\\bf n} = \\frac{1}{\\sqrt{2}}(1,0,1) \\rqa\n",
    "R_{\\hat{\\bf n}}(\\pi) ~ = ~ -i\\frac{1}{\\sqrt{2}} \\lp \\begin{matrix} 1  & 1 \\\\ 1 & -1  \\end{matrix} \\rp =-i H \\sim H\n",
    "\\end{equation}\n"
   ]
  },
  {
   "cell_type": "markdown",
   "id": "080fe82e",
   "metadata": {},
   "source": [
    "<div class=\"alert alert-block alert-danger\">\n",
    "<p style=\"color: DarkRed;\">\n",
    "<b>Nota</b>:\n",
    "Puede verse fácilmente que la puerta de Hadamard es hermítica e igual a su inversa. Es decir, aplicar\n",
    "dos veces seguidas la puerta de Hadamard es como aplicar la identidad.\n",
    "</p></div>\n"
   ]
  },
  {
   "cell_type": "markdown",
   "id": "080fe82e",
   "metadata": {},
   "source": [
    "## Descomposición\n"
   ]
  },
  {
   "cell_type": "markdown",
   "id": "080fe82e",
   "metadata": {},
   "source": [
    "Una noción muy importante en computación cuántica es la descomposición de una puerta en producto de otras más simples.\n"
   ]
  },
  {
   "cell_type": "markdown",
   "id": "080fe82e",
   "metadata": {},
   "source": [
    "Para el caso de $H$, un poco de visión espacial muestra que su acción equivale a la composición de\n",
    "<br>\n",
    "- una  rotación de $\\pi/2$ radianes sobre el eje $y$\n",
    "<br>\n",
    "- seguida de una rotación de  $\\pi$ radianes en torno al eje $x$.\n",
    "<br>\n",
    "<br>\n",
    "Lo demostramos algebraicamente (despreciando fases globales)\n",
    "\\begin{align*}\n",
    "R_x(\\pi)R_{y}\\left(\\frac{\\pi}{2}\\right) & =\n",
    "\\lp \\begin{matrix}0&-i\\\\-i&0\\end{matrix}  \\rp\n",
    "\\lp \\begin{matrix}\\cos\\pi/4& -\\sin\\pi/4 \\\\ \\sin\\pi/4 & \\cos\\pi/4 \\end{matrix} \\rp = \\\\\n",
    "& = \\frac{1}{\\sqrt{2}} \\lp \\begin{matrix} 0&1 \\\\ 1&0 \\end{matrix} \\rp\n",
    "\\lp \\begin{matrix}1 & -1 \\\\ 1 & 1 \\end{matrix} \\rp  =\n",
    "\\frac{-i}{\\sqrt{2}} \\begin{bmatrix}1&1\\\\1&-1\\end{bmatrix} =-i H \\sim H\n",
    "\\end{align*}\n"
   ]
  },
  {
   "cell_type": "markdown",
   "id": "080fe82e",
   "metadata": {},
   "source": [
    "\\Ejercicio{Encontrar los ángulos $\\theta,\\phi,\\varphi$ que hay que verifican las siguientes idendidades\n",
    "$$\n",
    "U(\\theta,\\phi,\\varphi) = H ~~~~,~~~~  U(\\theta,\\phi,\\varphi) = SH\n",
    "$$}\n"
   ]
  },
  {
   "cell_type": "markdown",
   "id": "8534e04c",
   "metadata": {},
   "source": [
    "<figure><center>\n",
    "<img   src=\"https://quantumspain-project.es/wp-content/uploads/2022/11/Logo_QS_EspanaDigital.png\" align=center  width=\"2000px\"/>\n",
    "</center></figure>\n",
    "\n",
    "<center>\n",
    "<img align=\"left\" src=\"https://quantumspain-project.es/wp-content/uploads/2024/02/Banner-QS_GOB_v2.png\" width=\"1000px\" />\n",
    "</center>"
   ]
  }
 ],
 "metadata": {
  "kernelspec": {
   "display_name": "Python 3 (ipykernel)",
   "language": "python",
   "name": "python3"
  },
  "language_info": {
   "codemirror_mode": {
    "name": "ipython",
    "version": 3
   },
   "file_extension": ".py",
   "mimetype": "text/x-python",
   "name": "python",
   "nbconvert_exporter": "python",
   "pygments_lexer": "ipython3",
   "version": "3.11.7"
  },
  "toc": {
   "base_numbering": 1,
   "nav_menu": {},
   "number_sections": false,
   "sideBar": true,
   "skip_h1_title": true,
   "title_cell": "Table of Contents",
   "title_sidebar": "Contents",
   "toc_cell": false,
   "toc_position": {},
   "toc_section_display": true,
   "toc_window_display": false
  }
 },
 "nbformat": 4,
 "nbformat_minor": 5
}
