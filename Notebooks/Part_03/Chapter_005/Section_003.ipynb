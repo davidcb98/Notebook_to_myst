{
 "cells": [
  {
   "cell_type": "markdown",
   "id": "8ddaeb38",
   "metadata": {},
   "source": [
    "<figure><center>\n",
    "<img   src=\"../../Figuras/Fig_logo_UMA_scbi.png\" align=center  width=\"2000px\"/>\n",
    "</center></figure>\n",
    "\n",
    "$ \\newcommand{\\bra}[1]{\\langle #1|} $\n",
    "$ \\newcommand{\\ket}[1]{|#1\\rangle} $\n",
    "$ \\newcommand{\\braket}[2]{\\langle #1|#2\\rangle} $\n",
    "$ \\newcommand{\\i}{{\\color{blue} i}} $ \n",
    "$ \\newcommand{\\Hil}{{\\cal H}} $\n",
    "$ \\newcommand{\\cg}[1]{{\\rm C}#1} $\n",
    "$ \\newcommand{\\lp}{\\left(} $\n",
    "$ \\newcommand{\\rp}{\\right)} $\n",
    "$ \\newcommand{\\lc}{\\left[} $\n",
    "$ \\newcommand{\\rc}{\\right]} $\n",
    "$ \\newcommand{\\lch}{\\left\\{} $\n",
    "$ \\newcommand{\\rch}{\\right\\}} $\n",
    "$ \\newcommand{\\Lp}{\\Bigl(} $\n",
    "$ \\newcommand{\\Rp}{\\Bigr)} $\n",
    "$ \\newcommand{\\Lc}{\\Bigl[} $\n",
    "$ \\newcommand{\\Rc}{\\Bigr]} $\n",
    "$ \\newcommand{\\Lch}{\\Bigl\\{} $\n",
    "$ \\newcommand{\\Rch}{\\Bigr\\}} $\n",
    "$ \\newcommand{\\rqa}{\\quad \\Rightarrow \\quad} $"
   ]
  },
  {
   "cell_type": "markdown",
   "id": "080fe82e",
   "metadata": {},
   "source": [
    "\\section{Circuitos Cuánticos (1 qubit)}\n",
    "\n\n",
    "En un circuito cuántico un qubit se representa como una linea horizontal y las puertas que se aplican sobre\n",
    "el mismo se representan como cajas que contiene los datos del operador asociado. Por ejemplo, la aplicación del operador $U(\\theta,\\phi,\\varphi)$ sobre un qubit en un estado $\\ket{\\psi}$, i.e.,\n",
    "\\begin{equation*}\n",
    "\\ket{\\psi} \\to  U(\\theta,\\phi,\\varphi)\\ket{\\psi},\n",
    "\\end{equation*}\n",
    "se representa mediante el circuito siguiente\n",
    "\\begin{figure}[H]\n",
    "\\centering\n",
    "\\includegraphics[width=0.3\\linewidth]{Figuras/Fig_puertas_simples}\n",
    "\\caption{Circuito para la operación $\\ket{\\psi} \\to  U(\\theta,\\phi,\\varphi)\\ket{\\psi}$. Figura tomada de \\cite{Curso-JMas}}\n",
    "\\label{Fig_puertas_simples}\n",
    "\\end{figure}\n",
    "\n\n",
    "La concatenación de puertas se corresponde con la \\textbf{composición de operadores}, es decir, con la \\textbf{multiplicación de las matrices} asociadas.\n",
    "\n\n",
    "\\begin{mybox_blue}{Nota: Orden de las puertas}\n",
    "El \\textbf{orden} en el que aparecen los operadores en la composición es el opuesto al que se\n",
    "aprecia en el circuito. Así por ejemplo a la composición de operadores\n",
    "$$\n",
    "\\ket{\\psi} \\to  TH \\ket{\\psi}\n",
    "$$\n",
    "le corresponde un circuito en el que  $H$ está a la izquierda de $T$. Recordemos que, por norma general,\n",
    "el producto de matrices no es conmutativo.\n",
    "\\end{mybox_blue}\n",
    "\n\n",
    "\\subsection{Matriz de un circuito.}\n",
    "\n\n",
    "Todo circuito se corresponde con un operador unitario que se obtiene componiendo todos los operadores que figuran en el. Por ejemplo, para el ejemplo $\\ket{\\psi} \\to  TH \\ket{\\psi}$, el circuito correspondiente representa el operador unitario $U$ al que le corresponde la matriz obtenida por multiplicación\n",
    "$$\n",
    "U = T H ~~~\\to ~~~ U_{ij} =\n",
    "\\begin{bmatrix}1&0\\\\0&e^{i\\pi/4}\\end{bmatrix} \\frac{1}{\\sqrt{2}}\n",
    "\\begin{bmatrix} 1& 1 \\\\ 1 & -1 \\end{bmatrix}  =\n",
    "\\frac{1}{\\sqrt{2}} \\begin{bmatrix} 1& 1 \\\\ e^{i\\pi/4} & -e^{i\\pi/4} \\end{bmatrix}\n",
    "$$\n",
    "\n\n",
    "\\subsection{Simulador de un estado con qiskit.}\n",
    "\n\n",
    "Veremos como construir y simular un estado con qiskit en la sección \\ref{sec_medidas_subsub_codigo}, después de haber visto como medir.\n",
    "\n\n"
   ]
  },
  {
   "cell_type": "markdown",
   "id": "8534e04c",
   "metadata": {},
   "source": [
    "<figure><center>\n",
    "<img   src=\"https://quantumspain-project.es/wp-content/uploads/2022/11/Logo_QS_EspanaDigital.png\" align=center  width=\"2000px\"/>\n",
    "</center></figure>\n",
    "\n",
    "<center>\n",
    "<img align=\"left\" src=\"https://quantumspain-project.es/wp-content/uploads/2024/02/Banner-QS_GOB_v2.png\" width=\"1000px\" />\n",
    "</center>"
   ]
  }
 ],
 "metadata": {
  "kernelspec": {
   "display_name": "Python 3 (ipykernel)",
   "language": "python",
   "name": "python3"
  },
  "language_info": {
   "codemirror_mode": {
    "name": "ipython",
    "version": 3
   },
   "file_extension": ".py",
   "mimetype": "text/x-python",
   "name": "python",
   "nbconvert_exporter": "python",
   "pygments_lexer": "ipython3",
   "version": "3.11.7"
  },
  "toc": {
   "base_numbering": 1,
   "nav_menu": {},
   "number_sections": false,
   "sideBar": true,
   "skip_h1_title": true,
   "title_cell": "Table of Contents",
   "title_sidebar": "Contents",
   "toc_cell": false,
   "toc_position": {},
   "toc_section_display": true,
   "toc_window_display": false
  }
 },
 "nbformat": 4,
 "nbformat_minor": 5
}
