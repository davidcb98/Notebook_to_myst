{
 "cells": [
  {
   "cell_type": "markdown",
   "id": "8ddaeb38",
   "metadata": {},
   "source": [
    "<figure><center>\n",
    "<img   src=\"Figuras/Fig_logo_UMA_scbi.png\" align=center  width=\"2000px\"/>\n",
    "</center></figure>\n",
    "\n",
    "$ \\newcommand{\\bra}[1]{\\langle #1|} $\n",
    "$ \\newcommand{\\ket}[1]{|#1\\rangle} $\n",
    "$ \\newcommand{\\branew}[1]{\\langle #1|} $\n",
    "$ \\newcommand{\\ketnew}[1]{\\langle #1|} $\n",
    "$ \\newcommand{\\braket}[2]{\\langle #1|#2\\rangle} $\n",
    "$ \\newcommand{\\ketbra}[2]{| #1\\rangle \\langle #2 |} $\n",
    "$ \\newcommand{\\i}{{\\color{blue} i}} $ \n",
    "$ \\newcommand{\\Hil}{{\\cal H}} $\n",
    "$ \\newcommand{\\cg}[1]{{\\rm C}#1} $\n",
    "$ \\newcommand{\\lp}{\\left(} $\n",
    "$ \\newcommand{\\rp}{\\right)} $\n",
    "$ \\newcommand{\\lc}{\\left[} $\n",
    "$ \\newcommand{\\rc}{\\right]} $\n",
    "$ \\newcommand{\\lch}{\\left\\{} $\n",
    "$ \\newcommand{\\rch}{\\right\\}} $\n",
    "$ \\newcommand{\\Lp}{\\Bigl(} $\n",
    "$ \\newcommand{\\Rp}{\\Bigr)} $\n",
    "$ \\newcommand{\\Lc}{\\Bigl[} $\n",
    "$ \\newcommand{\\Rc}{\\Bigr]} $\n",
    "$ \\newcommand{\\Lch}{\\Bigl\\{} $\n",
    "$ \\newcommand{\\Rch}{\\Bigr\\}} $\n",
    "$ \\newcommand{\\rqa}{\\quad \\Rightarrow \\quad} $\n",
    "$ \\newcommand{\\bm}{\\boldsymbol}$"
   ]
  },
  {
   "cell_type": "markdown",
   "id": "080fe82e",
   "metadata": {},
   "source": [
    "# Desigualdades de Bell\n"
   ]
  },
  {
   "cell_type": "markdown",
   "id": "080fe82e",
   "metadata": {},
   "source": [
    "Con el nacimiento de la Mecánica Cuántica de mano de grandes físicos como Schrödinger o Dirac, también nacieron sus detractores. Uno de los más emblemáticos es el archiconocido Albert Einstein. Estos detractores defendían que la Mecánica Cuántica era una teoría incompleta. El argumento se basaba en que toda esta \"parafernalia\" de la Cuántica de las superposiciones, las indeterminaciones, el colapso de los estados,$\\dots$ no eran más que consecuencia de tener una teoría incompleta.\n"
   ]
  },
  {
   "cell_type": "markdown",
   "id": "080fe82e",
   "metadata": {},
   "source": [
    "Argumentaban así que había <b>variables ocultas</b>, es decir, variables que no conocíamos pero en el caso de que las conociéramos, la Cuántica sería una teoría <b>determinista</b> (como la Mecánica Clásica). En esta batalla entre dos bandos enfrentados, entre los aférrimos defensores del determinismo (del <b>realismos local</b>) y los defensores de la cuántica, el tiempo y los experimentos dieron la razón a los segundos: la física cuántica no es una teoría determinista y no hay variables ocultas.\n"
   ]
  },
  {
   "cell_type": "markdown",
   "id": "080fe82e",
   "metadata": {},
   "source": [
    "En este capítulo vamos a explicar el argumento que dio el golpe final a las variables ocultas y demostró el no determinismo inherente a la cuántica: <b>la violación de las desigualdades de Bell</b>.\n"
   ]
  },
  {
   "cell_type": "markdown",
   "id": "080fe82e",
   "metadata": {},
   "source": [
    "Para ello, empecemos viendo un poco en detalle a que nos referimos cuando hablamos de <b>realismo local</b>. Las teorías con realismo local asumen que los valores que adquieren las magnitudes que se miden en un experimento <b>pertenecen</b> al sistema medido. Así, en una teoría con realismo local la posición de una partícula es algo bien definido aunque no la estemos midiendo\\footnote{En una teoría con realismo local, si un árbol cae en el bosque este hace ruido aunque nadie lo escuche.}. La palabra <b>local</b> hace referencia a que ningún agente puede propagar su acción a mayor velocidad que la luz. Podría usarse la palabra <b>causal</b> en su lugar.\n"
   ]
  },
  {
   "cell_type": "markdown",
   "id": "080fe82e",
   "metadata": {},
   "source": [
    "Con esta definición en mente, tanto la Mecánica Clásica como un teoría cuántica con varibles ocultas serían teorías con realismo local. Sin embargo, la Mecánica Cuántica no lo sería. Cuando hablamos del espín de un electrón, no es correcto decir que <b>la proyección del espín a lo largo del eje $\\hat{\\bf z}$ es $+\\hbar/2$</b>. Lo correcto es decir que, <b>al medir</b> la proyección sobre el eje $\\hat{\\bf z}$, la medida obtenida es $+\\hbar/2$.  Dicho de otro, cualquiera de los valores $\\pm\\hbar/2$ se <b>adquiere</b> o <b>pone de manifiesto</b>  de forma <b>aleatoria</b> al hacer una medida de la proyección elegida.\n"
   ]
  },
  {
   "cell_type": "markdown",
   "id": "080fe82e",
   "metadata": {},
   "source": [
    "En 1964  físico nor-irlandés John Bell, trabajando en el CERN demostró [[10]](../../Bibliografia.ipynb#bib_Bell) que <b>todas las teorías que respetan el realismo local</b> satisfacen ciertas desigualdades matemáticas. En particular, todas las magnitudes que evolucionan siguiendo las leyes de la física clásica las satisfacen.\n"
   ]
  },
  {
   "cell_type": "markdown",
   "id": "080fe82e",
   "metadata": {},
   "source": [
    "Por el contrario, John Bell mostró cómo, en Mecánica Cuántica, el proceso de medida incorpora correlaciones sutiles que permiten <b>traspasar</b> dichas desigualdades. La discusión, pasó de ser puramente filosófica a ser objeto de investigación experimental, culminando con el  experimento de Alain Aspect y colaboradores en 1982 [[11]](../../Bibliografia.ipynb#bib_Bell_experiment). Se observó que la Mecánica Cuántica viola las desigualdades de Bell y, por tanto, <b>no es una teoría con realismo local</b>: <b>las propiedades no pertenecen al sistema, se generan en la interacción entre el sistema y el medidor</b>.\n"
   ]
  },
  {
   "cell_type": "markdown",
   "id": "080fe82e",
   "metadata": {},
   "source": [
    "La propuesta de John Bell dio pie a una familia de desigualdades que ponen en evidencia la imposibilidad de obtener ciertas correlaciones en un mundo clásico. Vamos a examinar la desigualdad en la forma estudiada por Clauser, Horne, Shimony y Holt (<b>CHSH</b>) [[12]](../../Bibliografia.ipynb#bib_Bell_CHSH). Posteriormente estudiaremos el <b>experimento de GHZ</b>, el cuál, también pone de manifiesto las correlaciones sutiles que introduce el entrelazamiento de una forma determinista, en lugar de estadística.\n"
   ]
  },
  {
   "cell_type": "markdown",
   "id": "080fe82e",
   "metadata": {},
   "source": [
    "## Perfecta anticorrelación\n"
   ]
  },
  {
   "cell_type": "markdown",
   "id": "080fe82e",
   "metadata": {},
   "source": [
    "Central en esta discusión es la presencia de entrelazamiento. Vamos a seleccionar el denominado <b>singlete</b> de la Base de Bell.\n",
    "\\begin{equation}\n",
    "\\ket{B_{11}}=\\frac{1}{\\sqrt{2}}(\\ket{01}-\\ket{10})\n",
    "\\end{equation}\n",
    "Una de las partículas del par entrelazado estaría en poder de Alice y la otra en poder de Bob.\n"
   ]
  },
  {
   "cell_type": "markdown",
   "id": "080fe82e",
   "metadata": {},
   "source": [
    "<div class=\"alert alert-block alert-danger\">\n",
    "<p style=\"color: DarkRed;\">\n",
    "<b>Nota</b>: <i>(creación del singlete)</i>\n",
    "<br>\n",
    "Desde un punto de vista experimental, para obtener este par entrelazado de electrones lo que se haces es coger los productos\n",
    "de una desintegración. Hay desintegraciones radioactivas que emiten estos pares entrelazados de electrones en direcciones\n",
    "opuestas.\n",
    "</p></div>\n"
   ]
  },
  {
   "cell_type": "markdown",
   "id": "080fe82e",
   "metadata": {},
   "source": [
    "Supongamos que  Alice y Bob poseen sendos medidores de Stern Gerlach apuntando en la dirección $\\hat{\\bf z}$. De esta forma, lo que miden es el espín en la dirección $z$. Tenemos pues que\n",
    "\n",
    " \n- Si Alice registra +1 el estado colapsa a $\\ket{01}$ y, por tanto, Bob solo podrá medir  $\\, -1$\n",
    " \n- Si Alice registra -1 el estado colapsa a $\\ket{10}$ y, por tanto, Bob solo podrá medir  $\\, +1$\n",
    "\n",
    "En definitiva hay una anticorrelación perfecta que se pone de manifiesto en el valor medio del producto de las medidas. Si las mediciones de Alice son $a_i=\\pm 1$, las de Bob son $b_i=\\mp 1$ respectivamente, con lo cual el valor medio\n",
    "\\begin{equation}\n",
    "\\langle Z\\otimes Z\\rangle = \\frac{1}{N}\\sum_{i=1}^N a_i b_i =\\frac{1}{N}\\sum_{i=1}^N (-1) = -1\n",
    "\\end{equation}\n"
   ]
  },
  {
   "cell_type": "markdown",
   "id": "080fe82e",
   "metadata": {},
   "source": [
    "<div class=\"alert alert-block alert-danger\">\n",
    "<p style=\"color: DarkRed;\">\n",
    "<b>Nota</b>: <i>(Veámoslo)</i>\n",
    "<br>\n",
    "Vamos a ver cómo la predicción teórica confirma este hecho. El estado $\\ket{B_{11}}$ ya es autoestado\n",
    "del observable asociado a dicha pareja\n",
    "\\begin{equation}\n",
    "Z\\otimes Z \\ket{B_{11}} = Z\\ket{0}Z\\ket{1} - Z\\ket{1}Z\\ket{0} = -\\ket{01} + \\ket{10} = -\\ket{B_{11}}\n",
    "\\end{equation}\n",
    "Y el valor esperado satura en este autovalor, con lo que, la probabilidad de medida es 1\n",
    "\\begin{equation}\n",
    "\\langle Z\\otimes Z\\rangle = \\bra{B_{11}}Z\\otimes Z\\,  \\ket{B_{11}}  = -\\braket{B_{11}}{B_{11}}= -1\\, .\n",
    "\\end{equation}\n",
    "</p></div>\n"
   ]
  },
  {
   "cell_type": "markdown",
   "id": "080fe82e",
   "metadata": {},
   "source": [
    "<div class=\"alert alert-block alert-danger\">\n",
    "<p style=\"color: DarkRed;\">\n",
    "<b>Nota</b>:\n",
    "<br>\n",
    "Hasta aquí, no se observa nada cuántico. La anti correlación que hemos hallado parece natural y presente en un\n",
    "experimento clásico hecho con una bolsa que contiene dos calcetines de dos colores: si Alice saca el blanco,\n",
    "el que saca Bob tiene que ser negro.\n",
    "</p></div>\n"
   ]
  },
  {
   "cell_type": "markdown",
   "id": "080fe82e",
   "metadata": {},
   "source": [
    "La cosa se pone más divertida cuando los dos polarizadores de Stern Gerlach <b>no se orientan en la misma dirección</b>. Es decir, cuando medimos las proyecciones del spín en dos direcciones diferentes. El observable asociado ahora a la dirección $\\hat{\\bf n}$  será  $\\hat{\\bf n}\\cdot \\boldsymbol{\\sigma}$. Aun así, los autovalores de este operador y, por ello, la proyección del espín seguirá siendo $\\pm 1$. Como ya comentamos, da igual en que eje se mida, los valores de la proyección del espín que podemos medir son los mismos. Sin embargo, ahora el valor esperado cambia:\n"
   ]
  },
  {
   "cell_type": "markdown",
   "id": "080fe82e",
   "metadata": {},
   "source": [
    "<a id='Teo_entrelazamiento_bell'></a>\n",
    "<div class=\"alert alert-block alert-info\">\n",
    "<p style=\"color: navy;\">\n",
    "<b>Teorema</b>: \n",
    "El valor medio del producto de las proyecciones de espín a lo largo de sendos ejes $\\hat{\\bf m}$ y\n",
    "$\\hat{\\bf n}$ viene dada por el coseno del ángulo $\\theta$  que forman los  ejes de los dos detectores\n",
    "\\begin{equation}\n",
    "\\bra{B_{11}}(\\hat{\\bf m}\\cdot \\boldsymbol{\\sigma}\\otimes \\hat{\\bf n}\\cdot \\boldsymbol{\\sigma})\\ket{B_{11}}\n",
    "= -\\cos \\theta = - \\hat{\\bf m}\\cdot \\hat{\\bf n}\n",
    "\\end{equation}\n",
    "</p></div>\n",
    "\n\n"
   ]
  },
  {
   "cell_type": "markdown",
   "id": "080fe82e",
   "metadata": {},
   "source": [
    "<div class=\"alert alert-block alert-success\">\n",
    "<p style=\"color: DarkGreen;\">\n",
    "<b>Ejercicio</b>:\n",
    "Prueba el resultado del teorema \\ref{Teo_entrelazamiento_bell}\n",
    "</p></div>\n",
    "\n\n"
   ]
  },
  {
   "cell_type": "markdown",
   "id": "080fe82e",
   "metadata": {},
   "source": [
    "Cuando los ejes son paralelos recuperamos la  anticorrelación, independientemente de la dirección\n",
    "\\begin{equation}\n",
    "-\\hat{\\bf n}\\cdot \\hat{\\bf n} = - \\cos 0 = -1\n",
    "\\end{equation}\n",
    "mucho más interesante es cuando las direcciones de los detectores de Alice y Bob no coinciden ($\\hat{\\bf n} \\neq \\hat{\\bf m}$).\n"
   ]
  },
  {
   "cell_type": "markdown",
   "id": "080fe82e",
   "metadata": {},
   "source": [
    "## Desigualdad CSCH\n"
   ]
  },
  {
   "cell_type": "markdown",
   "id": "080fe82e",
   "metadata": {},
   "source": [
    "Enn 1970 Clauser, Horne, Shimony y Holt [[12]](../../Bibliografia.ipynb#bib_Bell_CHSH) propusieron una figura de mérito fácilmente accesible para verificar las desigualdades de Bell. La idea es que Alice y Bob pueden orientar sus detectores en <b>dos direcciones  arbitrarias</b> cada uno. Para alice Alice denotamos $\\hat{\\bf n}_A, \\hat{\\bf n}'_A$  y  para Bob $\\, \\hat{\\bf n}_B, \\hat{\\bf n}'_B$. Los pasos a seguir son los siguientes:\n",
    "\n",
    " \n- Alice y Bob seleccionan cada uno una orientación (de las dos posibles de cada uno), p. ej.  $\\hat{\\bf n}_A$ y $\\hat{\\bf n}'_B$, para sus detectores.\n",
    "Hay cuatro parejas posibles dependiendo de que selecciones cada uno\n",
    "\\begin{equation}\n",
    "\\begin{array}{c|c} {\\rm Alice} & {\\rm Bob} \\\\\n",
    "\\hline \\hat{\\bf n}_A  &  \\hat{\\bf n}_B     \\\\\n",
    "\\hat{\\bf n}_A         &  \\hat{\\bf n}'_B    \\\\\n",
    "\\hat{\\bf n}'_A        &  \\hat{\\bf n}_B     \\\\\n",
    "\\hat{\\bf n}'_A        &  \\hat{\\bf n}'_B \\end{array}\n",
    "\\end{equation}\n",
    " \n- Alice y Bob reciben un electrón cada uno de un par entrelazado en el estado $\\ket{B_{11}}$\n",
    " \n- Alice y Bob realizan la medida de la proyección del espín a lo largo del eje elegido y anotan el resultado de la medición $(a,b')=(\\pm 1, \\pm 1)$\n",
    " \n- Repiten el paso anterior un número $i=1,..., N$ grande de veces, y con los datos obtenidos $(a_i,b_i)=(\\pm 1, \\pm 1)$\n",
    "donde $i=1,...,N$ pueden reconstruir la cantidad\n",
    "\\begin{equation}\n",
    "C(\\hat{\\bf n}_A, \\hat{\\bf n}'_B) = \\frac{1}{N}\\sum_{i=1}^N a_i b'_i ~\\in~  [-1,1]\n",
    "\\end{equation}\n",
    "Esta vez, como miden en direcciones diferentes, los dos pueden medir el mismo valor, así que esta cantidad estará ente $-1$ y $+1$.\n",
    " \n- Repiten todo el proceso anterior para las cuatro posibles orientaciones elegidas de forma aleatoria. Con las  $4N$ mediciones construyen la cantidad\n",
    "\\begin{equation} \\label{ec_entrelazamiento_bell_R}\n",
    "R = | C(\\hat{\\bf n}_A, \\hat{\\bf n}_B) +  C(\\hat{\\bf n}_A, \\hat{\\bf n}'_B) +  C(\\hat{\\bf n}'_A, \\hat{\\bf n}_B)-\n",
    "C(\\hat{\\bf n}'_A, \\hat{\\bf n}'_B)|\n",
    "\\end{equation}\n",
    "\n"
   ]
  },
  {
   "cell_type": "markdown",
   "id": "080fe82e",
   "metadata": {},
   "source": [
    "En un mundo clásico, supondríamos que los valores $a_i,b_i$ proceden de <b>valores predefinidos</b> para cada sistema individual, sobre el que efectuamos simplemente un promedio estadístico de muchos sistemas. Entonces podemos probar la <b>desigualdad de CSCH</b>:\n"
   ]
  },
  {
   "cell_type": "markdown",
   "id": "080fe82e",
   "metadata": {},
   "source": [
    "<div class=\"alert alert-block alert-info\">\n",
    "<p style=\"color: navy;\">\n",
    "<b>Teorema</b>:\n",
    "La desigualdad de CSCH afirma que\n",
    "\\begin{equation} \\label{ec_entrelazamiento_CHSH_R}\n",
    "R \\leq 2\n",
    "\\end{equation}\n",
    "</p></div>\n",
    "\n\n"
   ]
  },
  {
   "cell_type": "markdown",
   "id": "080fe82e",
   "metadata": {},
   "source": [
    "<details><summary><p style=\"color:blue\" > >> <i>Demostración</i> </p></summary>\n",
    "Es fácil ver que se cumple para cada colección $a_i,a'_i,b_i,b'_i \\in \\pm 1$ la desigualdad\n",
    "\\begin{equation}\n",
    "a_i (b_i +  b'_i) + a'_i (b_i -  b'_i) = \\pm 2\n",
    "\\end{equation}\n",
    "porque si $b_i +  b'_i=\\pm 2$ entonces $b_i - b'_i=0$ y viceversa. Ahora podemos demostrar la desigualdad\n",
    "\\begin{eqnarray*}\n",
    "R &=& \\lim_{N\\to \\infty}|\\frac{1}{N} \\sum_{i=1}^N \\left( a_i b_i + a_i b'_i + a'_i b_i - a'_i b'_i\\right) | \\nonumber\\\\\n",
    "&=& \\lim_{N\\to \\infty}\\frac{1}{N}| \\sum_{i=1}^N  \\left( a_i (b_i +  b'_i) + a'_i (b_i -  b'_i)\\right)| \\nonumber\\\\\n",
    "&\\leq &  \\lim_{N\\to \\infty} \\frac{1}{N} \\sum_{i=1}^N  |\\left( a_i (b_i +  b'_i) + a'_i (b_i -  b'_i)\\right)| \\ \\nonumber\\\\\n",
    "&= &  \\lim_{N\\to \\infty} \\frac{1}{N} \\sum_{i=1}^N  2 \\ \\nonumber\\\\\n",
    "&=& 2\n",
    "\\end{eqnarray*}\n",
    "</details>\n\n"
   ]
  },
  {
   "cell_type": "markdown",
   "id": "080fe82e",
   "metadata": {},
   "source": [
    "La Mecánica Cuántica nos proporciona una respuesta teórica para $R$ que sólo depende de los ángulos relativos $\\cos\\theta_{AB} = \\cos(\\theta_A-\\theta_B)= \\hat{\\bf n}_A\\cdot \\hat{\\bf n}_B$.\n",
    "\\begin{equation}\n",
    "R = | \\cos\\theta_{AB}  + \\cos \\theta_{A'B} + \\cos \\theta_{AB'}  - \\cos \\theta_{A'B'}|\\, .\n",
    "\\end{equation}\n"
   ]
  },
  {
   "cell_type": "markdown",
   "id": "080fe82e",
   "metadata": {},
   "source": [
    "### Ejemplo particular.\n"
   ]
  },
  {
   "cell_type": "markdown",
   "id": "080fe82e",
   "metadata": {},
   "source": [
    "Ahora sólo hace falta jugar un poco con los detectores. Por ejemplo, podemos situarlos en el plano $(y,z)$, perpendicular al eje de propagación $x$, de manera que los vectores  $\\hat{\\bf n}'_A,\\hat{\\bf n}_{A},\\hat{\\bf n}_B$ y $\\hat{\\bf n}_B'$ estén ordenados correlativamente en sentido horario. Finalmente tomaremos dos ejes coincidentes $\\hat{\\bf n}_{A}=\\hat{\\bf n}_B$ paralelos $\\Rightarrow \\theta_{AB}=0$, y apertura igual para ambos, $\\theta_{A'A} = \\theta_{BB'} = \\varphi$, de modo que $\\theta_{A'B'} = 2\\varphi$. Podemos ver esta disposión en la Fig. \\ref{Fig_entrelazamiento_CHSH_basis}.\n"
   ]
  },
  {
   "cell_type": "markdown",
   "id": "080fe82e",
   "metadata": {},
   "source": [
    "<figure><center>\n",
    "<br>\n",
    "<img src=\"Figuras/Fig_entrelazamiento_CHSH_basis\" alt=\"\" align=center width='350px'/>\n",
    "<center>Ejemplo particular de unas orientaciones de los medidores de Alice y Bob</center>\n",
    "<a id='Fig_entrelazamiento_CHSH_basis'></a>\n",
    "</center></figure>\n\n"
   ]
  },
  {
   "cell_type": "markdown",
   "id": "080fe82e",
   "metadata": {},
   "source": [
    "La expresión de $R$ nos queda\n",
    "\\begin{equation}\n",
    "R = |1 +  2 \\cos\\varphi  - \\cos 2\\varphi|\\, .\n",
    "\\end{equation}\n",
    "Derivando vemos que esta expresión alcanza su máximo cuando $\\sin\\varphi = \\sin 2\\varphi$ lo cual tiene solución $\\varphi = \\pi/3 = 60^\\circ$. Sustituyendo encontramos $R= 2.5>2$, violando la desigualdad CHSH de la Ec. (\\ref{ec_entrelazamiento_CHSH_R}).\n"
   ]
  },
  {
   "cell_type": "markdown",
   "id": "080fe82e",
   "metadata": {},
   "source": [
    "\\begin{mybox_orange}{Jypyter Notebook: 05-Entrelazamiento sección 1}\n",
    "Ver la sección 1 del notebook <b>05-Entrelazamiento</b>.\n",
    "\\end{mybox_orange}\n"
   ]
  },
  {
   "cell_type": "markdown",
   "id": "080fe82e",
   "metadata": {},
   "source": [
    "<div class=\"alert alert-block alert-success\">\n",
    "<p style=\"color: DarkGreen;\">\n",
    "<b>Ejercicio</b>:\n",
    "Prueba con otros estados de la base de Bell. Realiza este experimento en un ordenador real.\n",
    "</p></div>\n",
    "\n\n"
   ]
  },
  {
   "cell_type": "markdown",
   "id": "080fe82e",
   "metadata": {},
   "source": [
    "<div class=\"alert alert-block alert-success\">\n",
    "<p style=\"color: DarkGreen;\">\n",
    "<b>Ejercicio</b>:\n",
    "Usar bases perpendiculares de  Alice $A$ y $A'$  y Bob $B$ y $B'$, y formando un ángulo $\\varphi$ entre sí. Sin pérdida de generalidad puedes tomar $B = X$ y $B' = Z$. Variar $\\varphi$ en el intervalo $(0,\\pi)$ y hallar el valor de la máxima violación de la desigualdad de Bell.\n",
    "</p></div>\n",
    "\n\n"
   ]
  },
  {
   "cell_type": "markdown",
   "id": "8534e04c",
   "metadata": {},
   "source": [
    "<figure><center>\n",
    "<img   src=\"https://quantumspain-project.es/wp-content/uploads/2022/11/Logo_QS_EspanaDigital.png\" align=center  width=\"2000px\"/>\n",
    "</center></figure>\n",
    "\n",
    "<center>\n",
    "<img align=\"left\" src=\"https://quantumspain-project.es/wp-content/uploads/2024/02/Banner-QS_GOB_v2.png\" width=\"1000px\" />\n",
    "</center>"
   ]
  }
 ],
 "metadata": {
  "kernelspec": {
   "display_name": "Python 3 (ipykernel)",
   "language": "python",
   "name": "python3"
  },
  "language_info": {
   "codemirror_mode": {
    "name": "ipython",
    "version": 3
   },
   "file_extension": ".py",
   "mimetype": "text/x-python",
   "name": "python",
   "nbconvert_exporter": "python",
   "pygments_lexer": "ipython3",
   "version": "3.11.7"
  },
  "toc": {
   "base_numbering": 1,
   "nav_menu": {},
   "number_sections": false,
   "sideBar": true,
   "skip_h1_title": true,
   "title_cell": "Table of Contents",
   "title_sidebar": "Contents",
   "toc_cell": false,
   "toc_position": {},
   "toc_section_display": true,
   "toc_window_display": false
  }
 },
 "nbformat": 4,
 "nbformat_minor": 5
}
