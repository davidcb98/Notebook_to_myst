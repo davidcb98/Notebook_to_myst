{
 "cells": [
  {
   "cell_type": "markdown",
   "id": "8ddaeb38",
   "metadata": {},
   "source": [
    "<figure><center>\n",
    "<img   src=\"Figuras/Fig_logo_UMA_scbi.png\" align=center  width=\"2000px\"/>\n",
    "</center></figure>\n",
    "\n",
    "$ \\newcommand{\\bra}[1]{\\langle #1|} $\n",
    "$ \\newcommand{\\ket}[1]{|#1\\rangle} $\n",
    "$ \\newcommand{\\branew}[1]{\\langle #1|} $\n",
    "$ \\newcommand{\\ketnew}[1]{\\langle #1|} $\n",
    "$ \\newcommand{\\braket}[2]{\\langle #1|#2\\rangle} $\n",
    "$ \\newcommand{\\ketbra}[2]{| #1\\rangle \\langle #2 |} $\n",
    "$ \\newcommand{\\i}{{\\color{blue} i}} $ \n",
    "$ \\newcommand{\\Hil}{{\\cal H}} $\n",
    "$ \\newcommand{\\cg}[1]{{\\rm C}#1} $\n",
    "$ \\newcommand{\\lp}{\\left(} $\n",
    "$ \\newcommand{\\rp}{\\right)} $\n",
    "$ \\newcommand{\\lc}{\\left[} $\n",
    "$ \\newcommand{\\rc}{\\right]} $\n",
    "$ \\newcommand{\\lch}{\\left\\{} $\n",
    "$ \\newcommand{\\rch}{\\right\\}} $\n",
    "$ \\newcommand{\\Lp}{\\Bigl(} $\n",
    "$ \\newcommand{\\Rp}{\\Bigr)} $\n",
    "$ \\newcommand{\\Lc}{\\Bigl[} $\n",
    "$ \\newcommand{\\Rc}{\\Bigr]} $\n",
    "$ \\newcommand{\\Lch}{\\Bigl\\{} $\n",
    "$ \\newcommand{\\Rch}{\\Bigr\\}} $\n",
    "$ \\newcommand{\\rqa}{\\quad \\Rightarrow \\quad} $\n",
    "$ \\newcommand{\\bm}{\\boldsymbol}$"
   ]
  },
  {
   "cell_type": "markdown",
   "id": "080fe82e",
   "metadata": {},
   "source": [
    "# Algoritmo de Deutsch-Jozsa.\n"
   ]
  },
  {
   "cell_type": "markdown",
   "id": "080fe82e",
   "metadata": {},
   "source": [
    "<br>\n",
    "- <b>Promesa:</b> la función $f$ que implementa el oráculo es de una de las dos siguientes clases:\n",
    "<br>\n",
    "<br>\n",
    "\\item[-] <i>constante</i> ($C \\Rightarrow f(x)$ igual para todo $x$)\n",
    "\\item[-] <i>equilibrada</i> ($E \\Rightarrow f(x)$ nos da tantos unos como ceros.)\n",
    "<br>\n",
    "- <b>Problema:</b> descubrir si $f$ es de clase $C$ o $E$. (Clásicamente, si nos toca un oráculo de clase $C$, deberíamos hacer $2^n/2+1$ consultas al oráculo para asegurarnos de que no es de clase $E$. Los de clase $E$ con suerte podríamos diferenciarlos antes).\n",
    "<br>\n",
    "- <b>Solución:</b> corremos el circuito una vez y medimos sobre el estado $\\ket{\\Phi}$ (ver Ec. (\\ref{ec_algoritmos_Psi})):\n",
    "<br>\n",
    "<br>\n",
    "\\item[-] Si $f \\in C \\Rightarrow$ la probabilidad de medir $\\ket{0^n}$ es 1.\n",
    "\\item[-] Si $f \\in E \\Rightarrow$ la probabilidad de medir $\\ket{0^n}$ es 0.\n",
    "<br>\n",
    "El circuito es de la forma de la Fig. \\ref{Fig_algoritmos_circuito_genérico_Deutsch-Jozsa}\n",
    "<figure><center>[h!]\n",
    "<br>\n",
    "<img src=\"Figuras/Fig_algoritmos_circuito_genérico_Deutsch-Jozsa.png\" alt=\"\" align=center width='600px'/>\n",
    "\\caption{Forma genérica de los circuitos de Deutsch-Jozsa y Bernstein-Vazirani, donde el oráculo toma como entradas todos los qúbits\n",
    "menos el último, el qúbit ancila. Sobre este último qúbit es sobre el que se aplica el oráculo. Como el qúbit ancila se inicializa en el\n",
    "estado $\\ket{-}$, estamos ente oráculos de fase.}\n",
    "<a id='Fig_algoritmos_circuito_genérico_Deutsch-Jozsa'></a>\n",
    "</center></figure>\n\n",
    "<br><br>\n",
    "<br>\n"
   ]
  },
  {
   "cell_type": "markdown",
   "id": "080fe82e",
   "metadata": {},
   "source": [
    "<details><summary><p style=\"color:blue\" > >> <i>Demostración</i> </p></summary>\n",
    "Veámoslo. Para ellos usamos la expresión de $\\ket{\\Psi}$ de la Ec. (\\ref{ec_algoritmos_Psi}):\n",
    "\\begin{align*}\n",
    "p_{0} &= |\\braket{0^n}{\\Phi}|^2 \\nonumber\\\\ \\rule{0mm}{12mm}\n",
    "&= \\left| \\bra{0^n} \\sum_{y=0}^{2^n-1} \\left( \\frac{1}{2^n}\\sum_{x=0}^{2^n-1}(-1)^{f(x) + x \\cdot y} \\right)\\ket{y} \\right|^2 \\\\ \\rule{0mm}{12mm}\n",
    "&= \\left| \\frac{1}{2^n} \\sum_{x=0}^{2^n-1} (-1)^{f(x) x \\cdot 0} \\right|^2   =  \\left| \\frac{1}{2^n} \\sum_{x=0}^{2^n-1} (-1)^{f(x)} \\right|^2 \\, .\n",
    "\\end{align*}\n",
    "Para el caso de $f \\in C$ tenemos que $f(x) = f_0$ con lo que:\n",
    "\\begin{equation*}\n",
    "p_{0} = \\left|  \\sum_{x=0}^{2^n-1} (-1)^{f(x)} \\right|^2    =  \\left| (-1)^{f_0} \\frac{1}{2^n} \\sum_{x=0}^{2^n-1}  \\right|^2  = \\left| (-1)^{f_0} \\right|^2 = 1  \\, .\n",
    "\\end{equation*}\n",
    "<br><br>\n",
    "Para el caso de $f \\in E$ tenemos igual número de  $f(x) = 0$ que de $f(x) = 1$, con lo que en el sumatorio tenemos tantos $1$ como $-1$:\n",
    "\\begin{equation*}\n",
    "p_{0} = \\left|  \\sum_{x=0}^{2^n-1} (-1)^{f(x)} \\right|^2    =  0  \\, .\n",
    "\\end{equation*}\n",
    "</details>\n\n"
   ]
  },
  {
   "cell_type": "markdown",
   "id": "080fe82e",
   "metadata": {},
   "source": [
    "<div class=\"alert alert-block alert-success\">\n",
    "<p style=\"color: DarkGreen;\">\n",
    "<b>Ejercicio</b>:\n",
    "Oráculos constantes sólo hay dos, $f(x)=0~$ ó $~f(x) = 1$ para todo $x$. Oráculos equilibrados hay muchos. Construye un oráculo constante y uno\n",
    "equilibrado. Construye el circuito de Deutsch-Josza y ponlo a prueba con estos dos oráculos. Para ello, sigue el tutorial del\n",
    "\\href{https://learn.qiskit.org/course/ch-algorithms/deutsch-jozsa-algorithm}{Notebook de Qiskit}\\footnote{\\url{https://learn.qiskit.org/course/ch-algorithms/deutsch-jozsa-algorithm}}.\n",
    "</p></div>\n",
    "\n\n"
   ]
  },
  {
   "cell_type": "markdown",
   "id": "080fe82e",
   "metadata": {},
   "source": [
    "<div class=\"alert alert-block alert-danger\">\n",
    "<p style=\"color: DarkRed;\">\n",
    "<b>Nota</b>:\n",
    "<br>\n",
    "Sobre el registro $x$ que controla el oráculo, la acción del mismo tiene que ser la identidad. Es decir, el oráculo solo actúa sobre el registro objetivo. Este es el motivo por el cual en el\n",
    "tutorial anterior de qiskit se ponen tantas puertas $X$ al principio como al final, pues hay que deshacer los cambios hechos sobre el registro de control.\n",
    "</p></div>\n"
   ]
  },
  {
   "cell_type": "markdown",
   "id": "8534e04c",
   "metadata": {},
   "source": [
    "<figure><center>\n",
    "<img   src=\"https://quantumspain-project.es/wp-content/uploads/2022/11/Logo_QS_EspanaDigital.png\" align=center  width=\"2000px\"/>\n",
    "</center></figure>\n",
    "\n",
    "<center>\n",
    "<img align=\"left\" src=\"https://quantumspain-project.es/wp-content/uploads/2024/02/Banner-QS_GOB_v2.png\" width=\"1000px\" />\n",
    "</center>"
   ]
  }
 ],
 "metadata": {
  "kernelspec": {
   "display_name": "Python 3 (ipykernel)",
   "language": "python",
   "name": "python3"
  },
  "language_info": {
   "codemirror_mode": {
    "name": "ipython",
    "version": 3
   },
   "file_extension": ".py",
   "mimetype": "text/x-python",
   "name": "python",
   "nbconvert_exporter": "python",
   "pygments_lexer": "ipython3",
   "version": "3.11.7"
  },
  "toc": {
   "base_numbering": 1,
   "nav_menu": {},
   "number_sections": false,
   "sideBar": true,
   "skip_h1_title": true,
   "title_cell": "Table of Contents",
   "title_sidebar": "Contents",
   "toc_cell": false,
   "toc_position": {},
   "toc_section_display": true,
   "toc_window_display": false
  }
 },
 "nbformat": 4,
 "nbformat_minor": 5
}
