{
 "cells": [
  {
   "cell_type": "markdown",
   "id": "8ddaeb38",
   "metadata": {},
   "source": [
    "<figure><center>\n",
    "<img   src=\"../../Figuras/Fig_logo_UMA_scbi.png\" align=center  width=\"2000px\"/>\n",
    "</center></figure>\n",
    "\n",
    "$ \\newcommand{\\bra}[1]{\\langle #1|} $\n",
    "$ \\newcommand{\\ket}[1]{|#1\\rangle} $\n",
    "$ \\newcommand{\\braket}[2]{\\langle #1|#2\\rangle} $\n",
    "$ \\newcommand{\\i}{{\\color{blue} i}} $ \n",
    "$ \\newcommand{\\Hil}{{\\cal H}} $\n",
    "$ \\newcommand{\\cg}[1]{{\\rm C}#1} $\n",
    "$ \\newcommand{\\lp}{\\left(} $\n",
    "$ \\newcommand{\\rp}{\\right)} $\n",
    "$ \\newcommand{\\lc}{\\left[} $\n",
    "$ \\newcommand{\\rc}{\\right]} $\n",
    "$ \\newcommand{\\lch}{\\left\\{} $\n",
    "$ \\newcommand{\\rch}{\\right\\}} $\n",
    "$ \\newcommand{\\Lp}{\\Bigl(} $\n",
    "$ \\newcommand{\\Rp}{\\Bigr)} $\n",
    "$ \\newcommand{\\Lc}{\\Bigl[} $\n",
    "$ \\newcommand{\\Rc}{\\Bigr]} $\n",
    "$ \\newcommand{\\Lch}{\\Bigl\\{} $\n",
    "$ \\newcommand{\\Rch}{\\Bigr\\}} $\n",
    "$ \\newcommand{\\rqa}{\\quad \\Rightarrow \\quad} $\n",
    "$ \\newcommand{\\bm}{\\boldsymbol}$"
   ]
  },
  {
   "cell_type": "markdown",
   "id": "080fe82e",
   "metadata": {},
   "source": [
    "# Teorema de no-clonación <a id='sec_no_clone'></a>\n"
   ]
  },
  {
   "cell_type": "markdown",
   "id": "080fe82e",
   "metadata": {},
   "source": [
    "En un principio, que el protocolo de teleportación exija la destrucción del estado inicial para teleportarlo puede parecer una particularidad de este protocolo. Sin embargo, nada más lejos de la realidad.\n",
    "El \\textbf{Teorema de No Clonación} es uno de los resultados más sencillos y a la vez más importante del formalismo de la Mecánica Cuántica. De hecho su formalización completa es bastante reciente, 1982, debida a Wootters, Zurek \\cite{clone2} y Dieks \\cite{clone1}.\n"
   ]
  },
  {
   "cell_type": "markdown",
   "id": "080fe82e",
   "metadata": {},
   "source": [
    "\\Teorema{ \\textbf{(de No Clonación)} No existe un operador unitario $U$ (clonador) que, para un estado arbitrario $|\\psi\\rangle$, realice la siguiente operación\n",
    "\\begin{equation}\n",
    "U \\ket{\\psi}\\ket{0} = \\ket{\\psi}\\ket{\\psi}\n",
    "\\end{equation}}\n"
   ]
  },
  {
   "cell_type": "markdown",
   "id": "080fe82e",
   "metadata": {},
   "source": [
    "<details><summary><p style=\"color:blue\" > >> <i>Demostración</i> </p></summary>\n",
    "Supondremos que $U$ existe y llegaremos a una contradicción.\n",
    "Tratemos de clonar el estado $\\alpha\\ket{\\psi}+\\beta\\ket{\\phi}$. Esto implica evaluar\n",
    "\\begin{equation*}\n",
    "U (\\alpha\\ket{\\psi}+\\beta\\ket{\\phi})\\otimes \\ket{0} = (\\alpha\\ket{\\psi}+\\beta\\ket{\\phi})\\otimes (\\alpha\\ket{\\psi}+\\beta\\ket{\\phi})\n",
    "\\end{equation*}\n",
    "Sin embargo, la linealidad de $U$ nos permite seguir otro camino\n",
    "\\begin{align*}\n",
    "U(\\alpha|\\psi\\rangle+\\beta|\\phi\\rangle) \\otimes|0\\rangle\n",
    "& = \\alpha U|\\psi\\rangle \\otimes|0\\rangle+\\beta U|\\phi\\rangle \\otimes|0\\rangle  \\\\\n",
    "& = \\alpha|\\psi\\rangle \\otimes|\\psi\\rangle+\\beta|\\phi\\rangle \\otimes|\\phi\\rangle .\n",
    "\\end{align*}\n",
    "Los dos resultados son diferentes y el teorema queda demostrado por reducción al absurdo.\n",
    "</details>\n"
   ]
  },
  {
   "cell_type": "markdown",
   "id": "080fe82e",
   "metadata": {},
   "source": [
    "<div class=\"alert alert-block alert-danger\">\n",
    "<p style=\"color: DarkRed;\">\n",
    "<b>Nota</b>:\n",
    "<br>\n"
   ]
  },
  {
   "cell_type": "markdown",
   "id": "080fe82e",
   "metadata": {},
   "source": [
    "- El teorema de no clonación pone  de manifiesto la  \\textit{tensión} que hay entre linealidad y tensorialidad cuando se trata de aplicar operadores.\n",
    "- Es muy importante recalcar que la validez de este teorema sólo aplica a estados \\textit{genéricos}.\n",
    "Si por ejemplo nos restringimos a estados de la base $\\ket{0}$ y $\\ket{1}$, entonces la mera puerta CNOT es un operador de clonación.\n",
    "$$\n",
    "\\cg{X}\\ket{00}\\to \\ket{00}~~~~~,~~~~~~ \\cg{X}\\ket{10}\\to \\ket{11}\n",
    "$$\n"
   ]
  },
  {
   "cell_type": "markdown",
   "id": "080fe82e",
   "metadata": {},
   "source": [
    "</p></div>\n"
   ]
  },
  {
   "cell_type": "markdown",
   "id": "8534e04c",
   "metadata": {},
   "source": [
    "<figure><center>\n",
    "<img   src=\"https://quantumspain-project.es/wp-content/uploads/2022/11/Logo_QS_EspanaDigital.png\" align=center  width=\"2000px\"/>\n",
    "</center></figure>\n",
    "\n",
    "<center>\n",
    "<img align=\"left\" src=\"https://quantumspain-project.es/wp-content/uploads/2024/02/Banner-QS_GOB_v2.png\" width=\"1000px\" />\n",
    "</center>"
   ]
  }
 ],
 "metadata": {
  "kernelspec": {
   "display_name": "Python 3 (ipykernel)",
   "language": "python",
   "name": "python3"
  },
  "language_info": {
   "codemirror_mode": {
    "name": "ipython",
    "version": 3
   },
   "file_extension": ".py",
   "mimetype": "text/x-python",
   "name": "python",
   "nbconvert_exporter": "python",
   "pygments_lexer": "ipython3",
   "version": "3.11.7"
  },
  "toc": {
   "base_numbering": 1,
   "nav_menu": {},
   "number_sections": false,
   "sideBar": true,
   "skip_h1_title": true,
   "title_cell": "Table of Contents",
   "title_sidebar": "Contents",
   "toc_cell": false,
   "toc_position": {},
   "toc_section_display": true,
   "toc_window_display": false
  }
 },
 "nbformat": 4,
 "nbformat_minor": 5
}
