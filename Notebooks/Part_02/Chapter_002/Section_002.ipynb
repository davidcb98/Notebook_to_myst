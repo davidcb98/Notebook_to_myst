{
 "cells": [
  {
   "cell_type": "markdown",
   "id": "8ddaeb38",
   "metadata": {},
   "source": [
    "<figure><center>\n",
    "<img   src=\"../../Figuras/Fig_logo_UMA_scbi.png\" align=center  width=\"2000px\"/>\n",
    "</center></figure>\n",
    "\n",
    "$ \\newcommand{\\bra}[1]{\\langle #1|} $\n",
    "$ \\newcommand{\\ket}[1]{|#1\\rangle} $\n",
    "$ \\newcommand{\\braket}[2]{\\langle #1|#2\\rangle} $\n",
    "$ \\newcommand{\\i}{{\\color{blue} i}} $ \n",
    "$ \\newcommand{\\Hil}{{\\cal H}} $\n",
    "$ \\newcommand{\\cg}[1]{{\\rm C}#1} $\n",
    "$ \\newcommand{\\lp}{\\left(} $\n",
    "$ \\newcommand{\\rp}{\\right)} $\n",
    "$ \\newcommand{\\lc}{\\left[} $\n",
    "$ \\newcommand{\\rc}{\\right]} $\n",
    "$ \\newcommand{\\lch}{\\left\\{} $\n",
    "$ \\newcommand{\\rch}{\\right\\}} $\n",
    "$ \\newcommand{\\Lp}{\\Bigl(} $\n",
    "$ \\newcommand{\\Rp}{\\Bigr)} $\n",
    "$ \\newcommand{\\Lc}{\\Bigl[} $\n",
    "$ \\newcommand{\\Rc}{\\Bigr]} $\n",
    "$ \\newcommand{\\Lch}{\\Bigl\\{} $\n",
    "$ \\newcommand{\\Rch}{\\Bigr\\}} $\n",
    "$ \\newcommand{\\rqa}{\\quad \\Rightarrow \\quad} $\n",
    "$ \\newcommand{\\bm}{\\boldsymbol}$"
   ]
  },
  {
   "cell_type": "markdown",
   "id": "080fe82e",
   "metadata": {},
   "source": [
    "# Vectores\n"
   ]
  },
  {
   "cell_type": "markdown",
   "id": "080fe82e",
   "metadata": {},
   "source": [
    "## Espacio Vectorial Complejo\n"
   ]
  },
  {
   "cell_type": "markdown",
   "id": "080fe82e",
   "metadata": {},
   "source": [
    "### Definición\n"
   ]
  },
  {
   "cell_type": "markdown",
   "id": "080fe82e",
   "metadata": {},
   "source": [
    "\\Definicion{\n",
    "De forma poco rigurosa, definiremos un \\textbf{vector de dimensión} $N$ como una columna de $N$ números complejos\n",
    "$$\n",
    "|u\\rangle = \\begin{bmatrix} {u_1}\\\\ {u_2}\\\\ \\vdots \\\\ {u_N}\n",
    "\\end{bmatrix}\n",
    "$$\n",
    "}\n"
   ]
  },
  {
   "cell_type": "markdown",
   "id": "080fe82e",
   "metadata": {},
   "source": [
    "- El símbolo $\\ket{u}$  \\textit{representa }al vector y se denomina \\textbf{ket} en la \\textbf{notación de Dirac}. Otra notación sería $\\vec{u}$, pero esta nunca se usa en Mecánica Cuántica.\n",
    "<br>\n",
    "- Los números complejos $u_i \\in {\\mathbb C}$ con $\\, i=1,...,N$ se denominan \\textbf{componentes} del vector $\\ket{u}$. Estas componentes toman un valor concreto cuando especificamos una \\textbf{base}. En otra base, estos elementos pueden tener otro valores. Es decir, el vector es un objeto abstracto.\n"
   ]
  },
  {
   "cell_type": "markdown",
   "id": "080fe82e",
   "metadata": {},
   "source": [
    "\\Definicion{\n",
    "La colección de todos los posibles vectores de $N$ componentes,  con las  propiedades de suma y multiplicación forman un \\textbf{espacio vectorial}, $V$ de dimension compleja $N$.\n",
    "}\n"
   ]
  },
  {
   "cell_type": "markdown",
   "id": "080fe82e",
   "metadata": {},
   "source": [
    "Es decir,  en un espacio vectorial  tenemos las siguientes propiedades:\n"
   ]
  },
  {
   "cell_type": "markdown",
   "id": "080fe82e",
   "metadata": {},
   "source": [
    "- Dos operaciones posibles: \\textbf{suma }de dos vectores y \\textbf{multiplicación de un vector por un número complejo }$\\lambda\\in {\\mathbb C}$\n",
    "\\begin{equation}\n",
    "|u\\rangle + \\ket{v}~ =~\\,\n",
    "\\begin{bmatrix} {u_1}+v_1\\\\ {u_2}+v_2\\\\ \\vdots \\\\ {u_N}+v_n \\end{bmatrix} ~= ~\\ket{w}\\ , \\qquad \\lambda|u\\rangle ~ =~   \\begin{bmatrix} {\\lambda u_1}\\\\ {\\lambda u_2}\\\\ \\vdots \\\\ {\\lambda u_N} \\end{bmatrix} ~\\equiv~\\ket{\\lambda u}\n",
    "\\end{equation}\n",
    "<br>\n",
    "- Existencia de un \\textbf{elementos neutro} (respecto a la suma). Todo vector de $V$ se denota mediante el símbolo $\\ket{v}$ menos el elemento neutro, que se escribe como $0$.\n",
    "\\begin{equation}\n",
    "\\ket{v} + 0 = \\ket{v}\n",
    "\\end{equation}\n",
    "<br>\n",
    "- La existencia de un \\textbf{elemento opuesto} (respecto a la suma):\n",
    "\\begin{equation}\n",
    "\\ket{v} + \\ket{-v} = \\ket{v}-\\ket{v} = 0\n",
    "\\end{equation}\n"
   ]
  },
  {
   "cell_type": "markdown",
   "id": "080fe82e",
   "metadata": {},
   "source": [
    "<div class=\"alert alert-block alert-danger\">\n",
    "<p style=\"color: DarkRed;\">\n",
    "<b>Nota</b>:\n",
    "<br>\n",
    "La \\textbf{dimensión} es igual al número de cantidades (\\textit{grados de libertad}) que debemos fijar para especificar un vector. Como estamos lidiando con un espacio vectorial complejo donde nuestro vector está compuesto por $N$ números complejos, la cantidad de números reales que debemos fijar es $2N$.\n",
    "\\vspace{0.3cm}\n",
    "<br>\n",
    "Entonces, podemos decir que la \\textbf{dimensión compleja} de un espacio vectorial complejo $V$ es $N$, o que su \\textbf{dimensión real} es $2N$\n",
    "\\begin{equation}\n",
    "{\\rm dim}_{\\mathbb C} V = N ~~~~\\Longleftrightarrow ~~~   {\\rm dim}_{\\mathbb R} V = 2N\n",
    "\\end{equation}\n",
    "Habitualmente, cuando se habla simplemente de \\textit{dimensión} se habla de la real.\n",
    "</p></div>\n"
   ]
  },
  {
   "cell_type": "markdown",
   "id": "080fe82e",
   "metadata": {},
   "source": [
    "### Conjugación adjunta\n"
   ]
  },
  {
   "cell_type": "markdown",
   "id": "080fe82e",
   "metadata": {},
   "source": [
    "La operación \\textbf{conjugación adjunta},  $\\dagger$, es una \\textit{extensión} de la \\textbf{conjugación compleja}  a los vectores.\n"
   ]
  },
  {
   "cell_type": "markdown",
   "id": "080fe82e",
   "metadata": {},
   "source": [
    "\\Definicion{Asociado a cada \\textit{ket }$\\ket{u}$, definimos un vector \\textbf{adjunto}, o \\textbf{bra} $\\bra{u}\\equiv\\left(\\ket{u}\\right)^\\dagger$,  que representamos mediante un vector fila con las componentes conjugadas complejas:\n",
    "\\begin{equation}\n",
    "\\dagger \\,: \\quad\\,|u\\rangle = \\begin{bmatrix} {u_1}\\\\ {u_2}\\\\ \\vdots \\\\ {u_N} \\end{bmatrix}\n",
    "~~~~~{\\rightarrow}~~~~~~ \\left(\\ket{u}\\right)^\\dagger \\equiv \\bra{u} =\\begin{bmatrix} {u_1^*} & {u_2^*} & \\cdots & {u_N^*}\n",
    "\\end{bmatrix}\n",
    "\\end{equation}\n",
    "}\n"
   ]
  },
  {
   "cell_type": "markdown",
   "id": "080fe82e",
   "metadata": {},
   "source": [
    "Consistentemente encontramos para el producto de un vector por un número complejo $\\lambda$\n",
    "\\begin{equation}\n",
    "\\dagger \\,:\\quad\\,  \\lambda\\ket{u}=\\ket{\\lambda u} ~~~~~{\\rightarrow}~~~~~~ \\left(\\lambda\\ket{u}\\right)^\\dagger=\\lambda^*\\bra{u} = \\bra{u}\\lambda^* = \\bra{\\lambda u}\n",
    "\\end{equation}\n",
    "ya que el producto de un vector por un número es conmutativo.\n"
   ]
  },
  {
   "cell_type": "markdown",
   "id": "080fe82e",
   "metadata": {},
   "source": [
    "<div class=\"alert alert-block alert-danger\">\n",
    "<p style=\"color: DarkRed;\">\n",
    "<b>Nota</b>:\n",
    "<br>\n",
    "En la notación con \\textit{kets} y \\textit{bras} vemos que es lo mimos escribir $\\lambda\\ket{u}$ que $\\ket{\\lambda u}$. Esto podemos pensarlo como que los números complejos entran y salen de los kets sin modificaciones.\n",
    "\\vspace{0.3cm}\n",
    "<br>\n",
    "Sin embargo, en los bras tenemos $\\bra{u}\\lambda^* = \\bra{\\lambda u}$. Es decir, sacar o meter un número complejo dentro de los bras implica una conjugación compleja del número.\n",
    "\\vspace{0.3cm}\n",
    "<br>\n",
    "Esto, como comentamos, es solo \\textbf{notación}, es decir, un convenio para escribir las cosas.\n",
    "</p></div>\n"
   ]
  },
  {
   "cell_type": "markdown",
   "id": "080fe82e",
   "metadata": {},
   "source": [
    "Al igual que la conjugación compleja, la conjugación adjunta es una \\textbf{involución}: su aplicación sucesiva devuelve el vector original\n",
    "$$\n",
    "(\\ket{u}^\\dagger)^\\dagger =\\bra{u}^\\dagger =  \\ket{u}\n",
    "$$\n",
    "es decir, $\\dagger^2 = I$, el operador identidad.\n"
   ]
  },
  {
   "cell_type": "markdown",
   "id": "080fe82e",
   "metadata": {},
   "source": [
    "## Bases\n"
   ]
  },
  {
   "cell_type": "markdown",
   "id": "080fe82e",
   "metadata": {},
   "source": [
    "\\Definicion{\n",
    "En un espacio vectorial $V$ de dimensión $N$ una \\textbf{base} es una colección de $N$ vectores  $\\{\\ket{e_1},...,\\ket{e_N}\\}$ tales que, cualquier vector $\\ket{v}\\in V$ se puede expresar como una \\textbf{combinación lineal} de ellos\n",
    "$$\n",
    "\\ket{v} = \\sum_{i=1}^N v_i \\ket{e_i}\n",
    "$$\n",
    "Los coeficientes $v_i$ son las \\textbf{componentes} de $\\ket{v}$ \\textit{en la base dada}.\n",
    "}\n"
   ]
  },
  {
   "cell_type": "markdown",
   "id": "080fe82e",
   "metadata": {},
   "source": [
    "Existen \\textit{infinitas bases} en un espacio vectorial. Podemos escoger una de ellas y asociarle el siguiente conjunto de columnas\n",
    "\\begin{equation} \\label{ec_formalismo_base_cartesina}\n",
    "|e_1\\rangle \\sim \\begin{bmatrix} 1 \\\\ 0 \\\\ 0\\\\ \\vdots\n",
    "\\\\ 0 \\\\ 0 \\end{bmatrix}~~~~\n",
    "|e_2\\rangle \\sim \\begin{bmatrix} 0 \\\\ 1 \\\\ 0\\\\ \\vdots\n",
    "\\\\ 0 \\\\ 0 \\end{bmatrix}~~~~~~~~~\n",
    "\\cdots ~~~~~~~~\n",
    "|e_{N-1}\\rangle \\sim \\begin{bmatrix} 0 \\\\ 0 \\\\ 0\\\\\\vdots\n",
    "\\\\ 1 \\\\ 0 \\end{bmatrix}~~~~\n",
    "|e_N\\rangle \\sim \\begin{bmatrix} 0 \\\\ 0 \\\\0\\\\ \\vdots\n",
    "\\\\ 0 \\\\ 1 \\end{bmatrix}\n",
    "\\end{equation}\n"
   ]
  },
  {
   "cell_type": "markdown",
   "id": "080fe82e",
   "metadata": {},
   "source": [
    "De esta forma, cualquier vector, escrito como una combinación lineal de sus elementos adquiere la representación usual\n",
    "\\begin{align}\n",
    "|u\\rangle ~&=~ {u_1} |e_1 \\rangle + {u_2} | e_2\\rangle +... + {u_{ N}}|e_{ N}\\rangle~=~ \\sum_{i=1}^N {u_ i} |e_i\\rangle \\,\\sim \\\\\n",
    "\\sim &~ {u_1} \\begin{bmatrix} 1 \\\\ 0 \\\\ 0\\\\ \\vdots\n",
    "\\\\ 0 \\\\ 0 \\end{bmatrix} \\,+\\,{u_2} \\begin{bmatrix} 0 \\\\ 1 \\\\ 0\\\\ \\vdots \\\\ 0 \\\\ 0 \\end{bmatrix}~+~ ... ~+ ~\n",
    "{u_{N-1}} \\begin{bmatrix} 0 \\\\ 0 \\\\ 0\\\\\\vdots\n",
    "\\\\ 1 \\\\ 0 \\end{bmatrix}+\n",
    "\\,{u_N}\\,  \\begin{bmatrix} 0 \\\\ 0 \\\\0\\\\ \\vdots\n",
    "\\\\ 0 \\\\ 1 \\end{bmatrix}~~~= ~~~\n",
    "\\begin{bmatrix} {u_1} \\\\ {u_2} \\\\{u_3}\\\\ \\vdots\n",
    "\\\\ \\,{u_{N-1}}\\, \\\\ {u_{N}} \\end{bmatrix}\n",
    "\\end{align}\n"
   ]
  },
  {
   "cell_type": "markdown",
   "id": "080fe82e",
   "metadata": {},
   "source": [
    "### Cambio de base\n"
   ]
  },
  {
   "cell_type": "markdown",
   "id": "080fe82e",
   "metadata": {},
   "source": [
    "Existen \\textit{infinitas} bases  en un espacio vectorial de dimensión finita.\n",
    "Todas ellas sirven para representar un vector arbitrario.\n"
   ]
  },
  {
   "cell_type": "markdown",
   "id": "080fe82e",
   "metadata": {},
   "source": [
    "Consideremos dos bases\n",
    "$\\{\\ket{e_i}\\}$ y $\\{\\ket{f_j}\\}$ donde $ i,j = 1,...,N$.\n",
    "Cualquier vector $\\ket{v}$ se puede expandir de forma diferente en cada una de ellas\n",
    "$$\n",
    "\\ket{v} ~=~ \\sum_{i=1}^N v_i \\ket{e_i} ~=~ \\sum_{i=1}^N \\tilde v_i \\ket{f_i}\n",
    "$$\n",
    "donde las componente $v_i$ y $\\tilde v_i$ \\textit{deben ser distintas} pero \\textit{estar relacionadas}. Es decir, las componentes de los vectores dependen de la base elegida y tiene una \\textit{regla de cambio} cuando decidimos escribir nuestro vector en otra base.\n"
   ]
  },
  {
   "cell_type": "markdown",
   "id": "080fe82e",
   "metadata": {},
   "source": [
    "Para encontrar esta relación entre los elementos del vector en distintas bases tenemos que primero encontrar la relación entre la  bases. Como ya dijimos, cualquier vector se puede escribir como combinación lineal de elementos de una base, sin ninguna excepción. Es decir, como caso particular tenemos que cualquier elemento (vector) de una base se puede expresar como una combinación lineal de elementos de la otra. Tomemos por ejemplo, $\\ket{v}= \\ket{f_1}$\n",
    "\\begin{equation}\n",
    "\\ket{f_1} = \\sum_{i=1}^N A_{ i 1} \\ket{e_i}\n",
    "\\end{equation}\n",
    "donde $A_{ i 1}\\in \\mathbb{C}$ son las componentes del vector $\\ket{f_1}$ en la base $\\{\\ket{e_i}\\}$. Haciendo esto para todos los elementos de la base $\\{\\ket{f_j}\\}$, los coeficientes constituyen una \\textbf{matriz de cambio de base} $A_{ij}$:\n",
    "\\begin{equation} \\label{ec_formalismo_cambio_base_base}\n",
    "\\boxed{\\ket{f_j} = \\sum_{i=1}^N A_{ i j} \\ket{e_i} ~,~~~~~~j=1,..., N}\n",
    "\\end{equation}\n",
    "<div class=\"alert alert-block alert-danger\">\n",
    "<p style=\"color: DarkRed;\">\n",
    "<b>Nota</b>:\n",
    "<br>\n",
    "La forma en que están sumados los índices $\\ket{f_j} = \\sum_{i=1}^N A_{ \\textcolor{red}{i} j} \\ket{e_{\\textcolor{red}{i}}}$.\n",
    "</p></div>\n",
    "Dado un vector $\\ket{v}$ con coordenadas $(v_1,\\dots,v_N)$ en la base $\\{\\ket{e_i}\\}$ y coordenadas $(\\tilde{v}_1,\\dots,\\tilde{v}_N)$ en la base $\\{\\ket{f_i}\\}$, es decir,\n",
    "$$\n",
    "\\ket{v} ~=~ \\sum_{i=1}^N v_i \\ket{e_i} ~=~ \\sum_{i=1}^N \\tilde{v}_i \\ket{f_i}\n",
    "$$\n",
    "la fórmula de cambio de base expresa las coordenadas sobre la base antigua, $\\{\\ket{e_i}\\}$, en términos de las coordenadas sobre la base nueva, $\\{\\ket{f_i}\\}$:\n",
    "\\begin{equation} \\label{ec_formalismo_cambio_de_base}\n",
    "\\boxed{v_i = \\sum_{i=1}^N A_{ij} \\tilde{v}_j}\n",
    "\\end{equation}\n",
    "<div class=\"alert alert-block alert-danger\">\n",
    "<p style=\"color: DarkRed;\">\n",
    "<b>Nota</b>:\n",
    "<br>\n",
    "La forma en que están sumados los índices $v_i = \\sum_{i=1}^N A_{i\\textcolor{red}{j}} \\tilde{v}_{\\textcolor{red}{j}} $.\n",
    "</p></div>\n",
    "En términos de matrices, la formula de cambio de base es\n",
    "\\begin{equation}\n",
    "\\boxed{\\ket{v}_{\\{\\ket{e_i}\\}} = A \\ket{v}_{\\{\\ket{f_i}\\}}}\n",
    "\\end{equation}\n",
    "donde $\\ket{v}_{\\{\\ket{e_i}\\}}$ y $\\ket{v}_{\\{\\ket{e_i}\\}}$ son los vectores columna con las coordenadas de $\\ket{v}$  en las bases $\\{\\ket{e_i}\\}$ y $\\{\\ket{f_i}\\}$ respectivamente.\n",
    "<details><summary><p style=\"color:blue\" > >> <i>Demostración</i> </p></summary>\n",
    "Usando definición (\\ref{ec_formalismo_cambio_base_base}) de la matriz de cambio de base, tenemos\n",
    "\\begin{align*}\n",
    "\\ket{v} ~&= ~ \\sum_{j=1}^N \\tilde{v}_j \\ket{f_j} \\\\\n",
    "& = ~ \\sum_{j=1}^N \\tilde{v}_j \\lp \\sum_{i=1}^N A_{ i j} \\ket{e_i} \\rp \\\\\n",
    "& =   \\sum_{i=1}^N \\lp  \\sum_{j=1}^N A_{ i j} \\tilde{v}_j \\rp \\ket{e_i}\n",
    "\\end{align*}\n",
    "Como $\\ket{v} ~=~ \\sum_{i=1}^N v_i \\ket{e_i}$, la Ec. (\\ref{ec_formalismo_cambio_de_base}) se demuestra debido a la unicidad de la descomposición de un vector sobre una base.\n",
    "</details>\n"
   ]
  },
  {
   "cell_type": "markdown",
   "id": "080fe82e",
   "metadata": {},
   "source": [
    "Por supuesto, el cambio de base de la Ec. (\\ref{ec_formalismo_cambio_de_base}) se puede \\textbf{invertir} para\n",
    "obtener las coordenadas sobre la base nueva, $\\{\\ket{f_i}\\}$, en términos de las coordenadas sobre la base vieja,  $\\{\\ket{e_i}\\}$:\n",
    "\\begin{equation} \\label{ec_formalismo_cambio_de_base_inv}\n",
    "\\boxed{\\tilde{v}_i = \\sum_{j=1}^N A^{-1}_{ij} v_j ~, ~~~~~~~\n",
    "\\ket{v}_{\\{\\ket{f_i}\\}} = A^{-1} \\ket{v}_{\\{\\ket{e_i}\\}}}\n",
    "\\end{equation}\n",
    "Es más, que el cambio de base sea invertible es un \\textbf{requisito}. Si no lo es, no es un cambio de base.\n"
   ]
  },
  {
   "cell_type": "markdown",
   "id": "080fe82e",
   "metadata": {},
   "source": [
    "<div class=\"alert alert-block alert-danger\">\n",
    "<p style=\"color: DarkRed;\">\n",
    "<b>Nota</b>:\n",
    "<br>\n",
    "Quizás la siguiente afirmación parezca contradictoria, pero veremos que no: dadas dos bases $\\{\\ket{e_i}\\}$ y $\\{\\ket{f_i}\\}$, los elementos de la base $\\{\\ket{e_i}\\}$ expresados en la base $\\{\\ket{e_i}\\}$ toman la forma\n",
    "\\begin{equation*}\n",
    "|e_1\\rangle \\sim \\begin{bmatrix} 1 \\\\ 0 \\\\ \\vdots\n",
    "\\\\ 0 \\end{bmatrix}~~~~\n",
    "|e_2\\rangle \\sim \\begin{bmatrix} 0 \\\\ 1 \\\\  \\vdots\n",
    "\\\\ 0 \\end{bmatrix}~~~~~~~~~\n",
    "\\cdots ~~~~~~~~\n",
    "|e_N\\rangle \\sim \\begin{bmatrix} 0 \\\\ 0 \\\\ \\vdots\n",
    "\\\\ 1 \\end{bmatrix}\n",
    "\\end{equation*}\n",
    "mientras que los elementos de la base $\\{\\ket{f_i}\\}$ expresados en la base $\\{\\ket{f_i}\\}$ toman la forma\n",
    "\\begin{equation*}\n",
    "|f_1\\rangle \\sim \\begin{bmatrix} 1 \\\\ 0 \\\\  \\vdots\n",
    "\\\\ 0 \\end{bmatrix}~~~~\n",
    "|f_2\\rangle \\sim \\begin{bmatrix} 0 \\\\ 1 \\\\ \\vdots\n",
    "\\\\ 0 \\end{bmatrix}~~~~~~~~~\n",
    "\\cdots ~~~~~~~~\n",
    "|f_N\\rangle \\sim \\begin{bmatrix} 0 \\\\ 0 \\\\ \\vdots\n",
    "\\\\ 1 \\end{bmatrix}\n",
    "\\end{equation*}\n",
    "La pregunta ahora es, ¿dónde está el truco? Lo engañoso aquí es la notación de los vectores como columnas de números. Como ya comentamos, un vector es un elemento abstracto que toma la forma de una columna de números complejos \\textbf{cuando especificamos una base}. Es decir, cuando escribimos un vector como una columna de números, esa columna está expresada en una base de la forma (\\ref{ec_formalismo_base_cartesina}). Es decir, si tenemos un vector $\\ket{u}$ y trabajamos, por ejemplo, en la base $\\{\\ket{e_i}\\}$ tenemos\n",
    "\\begin{equation*}\n",
    "\\ket{u} = u_1 \\ket{e_1} + u_2 \\ket{e_2} + \\dots + u_n \\ket{e_N} = \\sum_{i=1}^{N} u_i \\ket{e_i} =\n",
    "\\begin{bmatrix}\n",
    "u_1 \\\\ u_2\\\\ \\vdots \\\\ u_N\n",
    "\\end{bmatrix}_{\\{\\ket{e_i}\\}}\n",
    "\\end{equation*}\n",
    "mientras que si trabajamos en la base $\\{\\ket{f_i}\\}$ tenemos\n",
    "\\begin{equation*}\n",
    "\\ket{u} = \\tilde{u}_1 \\ket{f_1} + \\tilde{u}_2 \\ket{f_2} + \\dots + \\tilde{u}_n \\ket{f_N} = \\sum_{i=1}^{N} \\tilde{u}_i \\ket{f_i} =\n",
    "\\begin{bmatrix}\n",
    "\\tilde{u}_1 \\\\ \\tilde{u}_2\\\\ \\vdots \\\\ \\tilde{u}_N\n",
    "\\end{bmatrix}_{\\{\\ket{f_i}\\}}\n",
    "\\end{equation*}\n",
    "Es decir, cuando escribimos los elementos de una base como vectores columna \\textbf{en su propia base}, siempre toman la forma de vectores con todo 0's menos un 1.\n",
    "</p></div>\n"
   ]
  },
  {
   "cell_type": "markdown",
   "id": "080fe82e",
   "metadata": {},
   "source": [
    "<div class=\"alert alert-block alert-danger\">\n",
    "<p style=\"color: DarkRed;\">\n",
    "<b>Nota</b>:\n",
    "<br>\n",
    "Complementando a la nota anterior, cuando elegimos una base y decimos, por ejemplo, que nuestra base es\n",
    "\\begin{equation*}\n",
    "\\ket{f_1} = \\frac{1}{\\sqrt{2}}\\begin{bmatrix}\n",
    "1 \\\\ 1\n",
    "\\end{bmatrix} ~~~~,~~~~\n",
    "\\ket{f_2} = \\frac{1}{\\sqrt{2}}\\begin{bmatrix}\n",
    "1 \\\\ - 1\n",
    "\\end{bmatrix}\n",
    "\\end{equation*}\n",
    "lo que estamos haciendo al escribirlos como vectores columna es expresar la nueva base $\\{\\ket{f_i}\\}$, en la base\n",
    "\\begin{equation*}\n",
    "\\ket{e_1} = \\frac{1}{\\sqrt{2}}\\begin{bmatrix}\n",
    "1 \\\\ 0\n",
    "\\end{bmatrix} ~~~~,~~~~\n",
    "\\ket{e_2} = \\frac{1}{\\sqrt{2}}\\begin{bmatrix}\n",
    "0 \\\\  1\n",
    "\\end{bmatrix}\n",
    "\\end{equation*}\n",
    "Es decir, siempre que escribimos un vector como una columna de números, esa columna está expresada en una base de la forma (\\ref{ec_formalismo_base_cartesina}). Si queremos pasar a trabajar en la base $\\{\\ket{f_i}\\}$ debemos transformar todos los vectores para expresarlos en la base donde $\\ket{f_1}$ y $\\ket{f_2}$ toman la forma\n",
    "\\begin{equation*}\n",
    "\\ket{f_1} = \\frac{1}{\\sqrt{2}}\\begin{bmatrix}\n",
    "1 \\\\ 0\n",
    "\\end{bmatrix} ~~~~,~~~~\n",
    "\\ket{f_2} = \\frac{1}{\\sqrt{2}}\\begin{bmatrix}\n",
    "0 \\\\  1\n",
    "\\end{bmatrix}\n",
    "\\end{equation*}\n",
    "Después de aplicar esta transformación (el cambio de base), los vectores $\\ket{e_1}$ y $\\ket{e_2}$ dejarán de tener la forma anterior.\n",
    "</p></div>\n"
   ]
  },
  {
   "cell_type": "markdown",
   "id": "080fe82e",
   "metadata": {},
   "source": [
    "\\begin{mybox_green}{Ejemplo}\n"
   ]
  },
  {
   "cell_type": "markdown",
   "id": "080fe82e",
   "metadata": {},
   "source": [
    "Cuando escribimos la base nueva en componentes\\footnote{Aquí con \"en componentes\" nos referimos a las componentes respecto a la base antigua, $\\{\\ket{e_i}\\}$. Es decir, todos los vectores de este ejemplo están escritos en la base $\\{\\ket{e_i}\\}$:\n",
    "$$\n",
    "\\begin{bmatrix}\n",
    "a \\\\b\n",
    "\\end{bmatrix} = a \\ket{e_1} + b \\ket{e_2}\n",
    "$$}, automáticamente estamos dando el cambio de base:\n",
    "Por ejemplo, sea una nueva base $\\{\\ket{f_1},\\ket{f_2}\\}$ definida en términos de la antigua mediante\n",
    "$$\n",
    "\\ket{f_1} = \\frac{1}{\\sqrt{2}}\\left(\\rule{0mm}{4mm}\\ket{e_1} + i\\ket{e_2}\\right)~,~~\\ket{f_2} = \\frac{1}{\\sqrt{2}}\\left( \\rule{0mm}{4mm}\\ket{e_1} - i\\ket{e_2}\\right)\\, .\n",
    "$$\n",
    "En componentes, esto quiere decir que\n",
    "$$\n",
    "\\ket{f_1} = \\frac{1}{\\sqrt{2}}\\begin{bmatrix} 1 \\\\i \\end{bmatrix}~,\n",
    "\\ket{f_2} = \\frac{1}{\\sqrt{2}}\\begin{bmatrix} 1 \\\\-i \\end{bmatrix}~.\n",
    "$$\n",
    "Poniendo las dos columnas en una sola matriz, obtenemos\n",
    "$$\n",
    "A_{ij} = \\frac{1}{\\sqrt{2}}\\begin{bmatrix} 1 & 1 \\\\ i & -i \\end{bmatrix}\\, ,\n",
    "$$\n",
    "que es, efectivamente, la matriz que efectúa el cambio de los vectores de la base\n"
   ]
  },
  {
   "cell_type": "markdown",
   "id": "080fe82e",
   "metadata": {},
   "source": [
    "$$\n",
    "\\ket{f_j} = \\sum_{i=1}^N A_{i j}\\ket{e_{i}} \\, ,\n",
    "$$\n",
    "así como de las componentes de los nuevos vectores en la antigua base\n",
    "$$\n",
    "\\ket{f_1} = \\frac{1}{\\sqrt{2}}\\begin{bmatrix} 1 \\\\i \\end{bmatrix} = \\frac{1}{\\sqrt{2}}\\begin{bmatrix} 1 & 1 \\\\ i & -i \\end{bmatrix}\\begin{bmatrix} 1 \\\\0 \\end{bmatrix}~.\n",
    "\\ket{f_2} = \\frac{1}{\\sqrt{2}}\\begin{bmatrix} 1 \\\\-i \\end{bmatrix} = \\frac{1}{\\sqrt{2}}\\begin{bmatrix} 1 & 1 \\\\ i & -i \\end{bmatrix}\\begin{bmatrix} 0 \\\\1 \\end{bmatrix}~.\n",
    "$$\n",
    "\\end{mybox_green}\n"
   ]
  },
  {
   "cell_type": "markdown",
   "id": "080fe82e",
   "metadata": {},
   "source": [
    "## Espacios de Hilbert\n"
   ]
  },
  {
   "cell_type": "markdown",
   "id": "080fe82e",
   "metadata": {},
   "source": [
    "\\Definicion{\n",
    "Un \\textbf{espacio de Hilbert}, $\\mathcal{H}$, es un espacio vectorial (real o complejo) dotado de una operación interna denominada \\textbf{producto escalar}.\n",
    "}\n"
   ]
  },
  {
   "cell_type": "markdown",
   "id": "080fe82e",
   "metadata": {},
   "source": [
    "En matemáticas, los espacios de Hilbert (llamados así por David Hilbert) permiten generalizar los métodos del álgebra lineal y el cálculo de \\textit{espacios vectoriales euclidianos} (de dimensiones finitas) a espacios que pueden ser de dimensiones infinitas. Los espacios de Hilbert surgen de forma natural y frecuente en matemáticas y física, normalmente como espacios de funciones. Formalmente, un espacio de Hilbert es un espacio vectorial equipado con un producto interior que induce una función de \\textbf{distancia} según la cual el espacio es un espacio métrico completo.\n"
   ]
  },
  {
   "cell_type": "markdown",
   "id": "080fe82e",
   "metadata": {},
   "source": [
    "### Producto escalar\n"
   ]
  },
  {
   "cell_type": "markdown",
   "id": "080fe82e",
   "metadata": {},
   "source": [
    "\\Definicion{\n",
    "El \\textbf{producto escalar} de dos vectores $\\ket{u}$ y $\\ket{v}$ es un \\textit{número complejo} $a\\in{\\mathbb C}$ que denotamos con un \\textbf{braket}, $a \\equiv \\braket{u}{v} $. El producto escalar verifica las tres propiedades siguientes\n"
   ]
  },
  {
   "cell_type": "markdown",
   "id": "080fe82e",
   "metadata": {},
   "source": [
    "- \\textbf{Linealidad}:\n",
    "\\begin{equation}\n",
    "\\bra{u}\\big(a\\ket{v}+b\\ket{w}\\big) = a\\braket{u}{v} + b\\braket{u}{w}\n",
    "\\end{equation}\n",
    "para cualquier $a,b \\in  \\mathbb{C}$ y cualquier vector $\\ket{u}$, $\\ket{v}$ y $\\ket{w}$.\n",
    "<br>\n",
    "- \\textbf{Hermiticidad}:\n",
    "\\begin{equation}\n",
    "\\braket{v}{u} = \\braket{u}{v}^*\n",
    "\\end{equation}\n",
    "- \\textbf{Positividad}:\n",
    "\\begin{equation}\n",
    "\\braket{u}{u} >0 \\text{ para todo ket } \\ket{u}\\neq 0\n",
    "\\end{equation}\n"
   ]
  },
  {
   "cell_type": "markdown",
   "id": "080fe82e",
   "metadata": {},
   "source": [
    "}\n",
    "Combinando las dos primeras propiedades, el producto escalar también es lineal en el primer argumento\n",
    "$$\n",
    "(a\\bra{u}+b\\bra{w})\\ket{v} = a\\braket{u}{v} + b\\braket{w}{v}~,\n",
    "$$\n",
    "es decir, el producto escalar es \\textbf{bilineal}.\n"
   ]
  },
  {
   "cell_type": "markdown",
   "id": "080fe82e",
   "metadata": {},
   "source": [
    "### Norma\n"
   ]
  },
  {
   "cell_type": "markdown",
   "id": "080fe82e",
   "metadata": {},
   "source": [
    "La positividad del producto escalar de un vector por sí mismo permite definir su \\textbf{norma}:\n",
    "\\begin{equation}\n",
    "\\boxed{\\|\\ket{v}\\| = \\sqrt{\\braket{v}{v}}}\n",
    "\\end{equation}\n"
   ]
  },
  {
   "cell_type": "markdown",
   "id": "080fe82e",
   "metadata": {},
   "source": [
    "<div class=\"alert alert-block alert-danger\">\n",
    "<p style=\"color: DarkRed;\">\n",
    "<b>Nota</b>:\n",
    "<br>\n"
   ]
  },
  {
   "cell_type": "markdown",
   "id": "080fe82e",
   "metadata": {},
   "source": [
    "- En contraste con la definición de producto escalar en espacios vectoriales reales, en el caso complejo se hace necesario conjugar (usar un  \\textit{bra}), para  que la \\textit{norma} de un vector sea siempre real y positiva. Esta es la idea detrás de la definición de la \\textit{conjugación adjunta}.\n",
    "<br>\n",
    "- El único vector que tiene norma nula en un espacio de Hilbert es el elemento neutro\n",
    "$$\n",
    "\\braket{v}{v} = 0 ~~~ \\Leftrightarrow ~~~\\ket{v} = 0\n",
    "$$\n"
   ]
  },
  {
   "cell_type": "markdown",
   "id": "080fe82e",
   "metadata": {},
   "source": [
    "</p></div>\n"
   ]
  },
  {
   "cell_type": "markdown",
   "id": "080fe82e",
   "metadata": {},
   "source": [
    "\\begin{mybox_green}{Ejemplo: espacio Euclidiano}\n",
    "Uno de los ejemplos más conocidos de espacio de Hilbert es el \\textbf{espacio vectorial euclídeo}\\footnote{Es el espacio real de tres dimensiones, $\\mathbb{R}^3$, habitual, el clásico de geometría.} formado por vectores tridimensionales, denotado por $\\mathbb{R}^3$, y dotado del \\textbf{producto punto}. El producto punto toma dos vectores $\\vec{x}$ e $\\vec{y}$ y produce un número real $\\vec{x} \\cdot \\vec{y}$. Si $\\vec{x}$ e $\\vec{y}$ se representan en coordenadas cartesianas, el producto punto se define como\n",
    "\\begin{equation*}\n",
    "\\begin{bmatrix}\n",
    "x_1 \\\\ x_2 \\\\ x_3\n",
    "\\end{bmatrix}\n",
    "\\cdot\n",
    "\\begin{bmatrix}\n",
    "y_1 \\\\ y_2 \\\\ y_3\n",
    "\\end{bmatrix}\n",
    "= x_1y_1 + x_2y_2 + x_3y_3\n",
    "\\end{equation*}\n",
    "El producto punto satisface las siguientes propiedades:\n"
   ]
  },
  {
   "cell_type": "markdown",
   "id": "080fe82e",
   "metadata": {},
   "source": [
    "- Es lineal en su primer argumento: $(a \\vec{x}_1 + b \\vec{x}_2) \\cdot \\vec{y} = a (\\vec{x}_1 \\cdot \\vec{y}) + b (\\vec{x}_2 \\cdot \\vec{y})$, para cualquier escaleres $a$, $b$ y vectores $\\vec{x}_1$, $\\vec{x}_2$ y $\\vec{y}$.\n",
    "<br>\n",
    "- Es simétrico: $\\vec{x} \\cdot \\vec{y} = \\vec{y} \\cdot \\vec{x}$\n",
    "- Es definido positivo: para todo vector $\\vec{x}$, $\\vec{x} \\cdot \\vec{x} \\geq 0$, cuya igualdad solo se satisface si $\\vec{x} = 0$.\n"
   ]
  },
  {
   "cell_type": "markdown",
   "id": "080fe82e",
   "metadata": {},
   "source": [
    "\\end{mybox_green}\n"
   ]
  },
  {
   "cell_type": "markdown",
   "id": "080fe82e",
   "metadata": {},
   "source": [
    "### Desigualdades\n"
   ]
  },
  {
   "cell_type": "markdown",
   "id": "080fe82e",
   "metadata": {},
   "source": [
    "En muchas ocasiones será necesario acotar cantidades.\n",
    "<div class=\"alert alert-block alert-info\">\n",
    "<p style=\"color: navy;\">\n",
    "\\textbf{Desigualdad de Cauchy-Schwarz:}\n",
    "\\begin{equation}\n",
    "|\\braket{u}{v}| \\leq \\|\\ket{u}\\|\\, \\|\\ket{v}\\|\n",
    "\\end{equation}\n",
    "</p></div>\n"
   ]
  },
  {
   "cell_type": "markdown",
   "id": "080fe82e",
   "metadata": {},
   "source": [
    "Una consecuencia inmediata  de la desigualdad de Cauchy-Schwarz es la desigualdad triangular\n",
    "<div class=\"alert alert-block alert-info\">\n",
    "<p style=\"color: navy;\">\n",
    "\\textbf{Desigualdad triangular:}\n",
    "\\begin{equation}\n",
    "\\|\\ket{u}+\\ket{v}\\| \\leq \\|\\ket{u}\\|+ \\|\\ket{v}\\|\n",
    "\\end{equation}\n",
    "</p></div>\n"
   ]
  },
  {
   "cell_type": "markdown",
   "id": "080fe82e",
   "metadata": {},
   "source": [
    "## Bases ortogonales\n"
   ]
  },
  {
   "cell_type": "markdown",
   "id": "080fe82e",
   "metadata": {},
   "source": [
    "Hasta ahora, a los vectores de una base $\\{\\ket{e_i}\\}$ sólo se les ha pedido que sean $N$ vectores \\textit{linealmente independientes}, donde $N$ es la dimensión del espacio vectorial $V$. En un espacio de Hilbert $\\mathcal{H}$ tiene sentido calcular el producto escalar de dos elementos de una base.\n"
   ]
  },
  {
   "cell_type": "markdown",
   "id": "080fe82e",
   "metadata": {},
   "source": [
    "### Base ortonormal\n"
   ]
  },
  {
   "cell_type": "markdown",
   "id": "080fe82e",
   "metadata": {},
   "source": [
    "<div class=\"alert alert-block alert-info\">\n",
    "<p style=\"color: navy;\">\n",
    "Una base \\textbf{ortornormal} se caracteriza por la siguiente lista de productos escalares\n",
    "\\begin{equation}\n",
    "\\braket{e_i}{e_j} = \\delta_{ij}\n",
    "\\end{equation}\n",
    "Es decir:\n"
   ]
  },
  {
   "cell_type": "markdown",
   "id": "080fe82e",
   "metadata": {},
   "source": [
    "- Por un lado, dos elementos distintos de la base son ortogonales $\\braket{e_1}{e_2} = 0$.\n",
    "- Por otro, todos están normalizados  $ \\| e_i \\| = \\sqrt{\\braket{e_1}{e_1}} = \\sqrt{1} = 1$.\n"
   ]
  },
  {
   "cell_type": "markdown",
   "id": "080fe82e",
   "metadata": {},
   "source": [
    "</p></div>\n"
   ]
  },
  {
   "cell_type": "markdown",
   "id": "080fe82e",
   "metadata": {},
   "source": [
    "En este curso siempre supondremos que las bases con las que trabajamos son ortonormales. Ello se justifica en base al siguiente teorema:\n",
    "\\Teorema{ \\label{teorema_formalismo_gramm_schmidt}\n",
    "Dada una base general $\\{\\braket{f_i}{f_j}\\neq \\delta_{ij}\\}$ de vectores no ortonormales, existe una procedimiento iterativo (de Gramm-Schmidt \\cite{wiki_GramSchmidt}) para construir, a partir de ella, una nueva base ortonormal $\\{\\braket{e_i}{e_j}\\}=\\delta_{ij}$.\n",
    "}\n"
   ]
  },
  {
   "cell_type": "markdown",
   "id": "080fe82e",
   "metadata": {},
   "source": [
   ]
  },
  {
   "cell_type": "markdown",
   "id": "080fe82e",
   "metadata": {},
   "source": [
    "- Dado un vector  $\\ket{v} = \\sum_{i=1}^N v_i \\ket{e_i}$ donde $\\ket{e_i}$ es una base ortonorma, la \\textit{componente} $v_k$ se extrae mediante la \\textbf{proyección} ortogonal\n",
    "\\begin{equation}\n",
    "\\boxed{v_k =\\braket{e_k}{v}}\n",
    "\\end{equation}\n",
    "<br>\n",
    "<details><summary><p style=\"color:blue\" > >> <i>Demostración</i> </p></summary>\n",
    "\\begin{align*}\n",
    "\\braket{e_k}{v} &=  \\bra{e_k}\\left(\\sum_{j=1}^N v_j\\ket{e_j}\\right) \\nonumber\\\\\n",
    "&=  \\sum_{j=1}^N  v_j\\braket{e_k}{e_j}  \\nonumber\\\\\n",
    "&=  \\sum_{j=1}^N  v_j\\delta_{kj} = v_k\n",
    "\\end{align*}\n",
    "</details>\n",
    "<br>\n",
    "- Calcular el valor de un \\textit{producto escalar} $a=\\braket{u}{v}$ es muy simple si conocemos las componentes de $\\ket{u}$ y $\\ket{v}$ en una base ortonormal:\n",
    "\\begin{equation*}\n",
    "a = \\braket{u}{v}\n",
    "= \\left(\\sum_{i}u_i^*\\bra{e_i}\\right)\\left(\\sum_{j}v_j\\ket{e_j} \\right)\n",
    "= \\sum_{ij} u_i^* v_j  \\braket{e_i}{e_j}\n",
    "= \\sum_{ij} u_i^* v_j \\delta_{ij} = \\sum_{i} u_i^* v_i  ~~ \\Rightarrow \\\\\n",
    "\\end{equation*}\n",
    "\\begin{equation}\n",
    "\\Rightarrow \\boxed{a =  \\braket{u}{v} = \\begin{bmatrix} {u_1^*} & {u_2^*} & \\cdots & {u_N^*} \\end{bmatrix}\n",
    "\\begin{bmatrix} {v_1}\\\\ {v_2}\\\\ \\vdots \\\\ {v_N} \\end{bmatrix}}\n",
    "\\end{equation}\n",
    "<br>\n"
   ]
  },
  {
   "cell_type": "markdown",
   "id": "080fe82e",
   "metadata": {},
   "source": [
    "<div class=\"alert alert-block alert-danger\">\n",
    "<p style=\"color: DarkRed;\">\n",
    "<b>Nota</b>:\n",
    "<br>\n",
    "La expresión de la izquierda  $a = \\braket{u}{v}$ \\textbf{no hace referencia a ninguna base}. Por tanto, el resultado $\\sum_{i=1}^n{ u_i^* v_i} $ debe ser independiente de la base que utilizamos para representar estos vectores mediante sus componentes $u_i$ y $v_i$.\n",
    "\\vspace{0.3cm}\n",
    "<br>\n",
    "Este resultado es \\textit{no trivial} y subrayamos su importancia: $\\braket{u}{v}$ puede ser calculado en la base más conveniente.\n",
    "</p></div>\n"
   ]
  },
  {
   "cell_type": "markdown",
   "id": "8534e04c",
   "metadata": {},
   "source": [
    "<figure><center>\n",
    "<img   src=\"https://quantumspain-project.es/wp-content/uploads/2022/11/Logo_QS_EspanaDigital.png\" align=center  width=\"2000px\"/>\n",
    "</center></figure>\n",
    "\n",
    "<center>\n",
    "<img align=\"left\" src=\"https://quantumspain-project.es/wp-content/uploads/2024/02/Banner-QS_GOB_v2.png\" width=\"1000px\" />\n",
    "</center>"
   ]
  }
 ],
 "metadata": {
  "kernelspec": {
   "display_name": "Python 3 (ipykernel)",
   "language": "python",
   "name": "python3"
  },
  "language_info": {
   "codemirror_mode": {
    "name": "ipython",
    "version": 3
   },
   "file_extension": ".py",
   "mimetype": "text/x-python",
   "name": "python",
   "nbconvert_exporter": "python",
   "pygments_lexer": "ipython3",
   "version": "3.11.7"
  },
  "toc": {
   "base_numbering": 1,
   "nav_menu": {},
   "number_sections": false,
   "sideBar": true,
   "skip_h1_title": true,
   "title_cell": "Table of Contents",
   "title_sidebar": "Contents",
   "toc_cell": false,
   "toc_position": {},
   "toc_section_display": true,
   "toc_window_display": false
  }
 },
 "nbformat": 4,
 "nbformat_minor": 5
}
