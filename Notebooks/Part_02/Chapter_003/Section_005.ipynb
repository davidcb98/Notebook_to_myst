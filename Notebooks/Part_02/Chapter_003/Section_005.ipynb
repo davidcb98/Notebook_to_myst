{
 "cells": [
  {
   "cell_type": "markdown",
   "id": "8ddaeb38",
   "metadata": {},
   "source": [
    "<figure><center>\n",
    "<img   src=\"../../Figuras/Fig_logo_UMA_scbi.png\" align=center  width=\"2000px\"/>\n",
    "</center></figure>\n",
    "\n",
    "$ \\newcommand{\\bra}[1]{\\langle #1|} $\n",
    "$ \\newcommand{\\ket}[1]{|#1\\rangle} $\n",
    "$ \\newcommand{\\braket}[2]{\\langle #1|#2\\rangle} $\n",
    "$ \\newcommand{\\i}{{\\color{blue} i}} $ \n",
    "$ \\newcommand{\\Hil}{{\\cal H}} $\n",
    "$ \\newcommand{\\cg}[1]{{\\rm C}#1} $\n",
    "$ \\newcommand{\\lp}{\\left(} $\n",
    "$ \\newcommand{\\rp}{\\right)} $\n",
    "$ \\newcommand{\\lc}{\\left[} $\n",
    "$ \\newcommand{\\rc}{\\right]} $\n",
    "$ \\newcommand{\\lch}{\\left\\{} $\n",
    "$ \\newcommand{\\rch}{\\right\\}} $\n",
    "$ \\newcommand{\\Lp}{\\Bigl(} $\n",
    "$ \\newcommand{\\Rp}{\\Bigr)} $\n",
    "$ \\newcommand{\\Lc}{\\Bigl[} $\n",
    "$ \\newcommand{\\Rc}{\\Bigr]} $\n",
    "$ \\newcommand{\\Lch}{\\Bigl\\{} $\n",
    "$ \\newcommand{\\Rch}{\\Bigr\\}} $\n",
    "$ \\newcommand{\\rqa}{\\quad \\Rightarrow \\quad} $"
   ]
  },
  {
   "cell_type": "markdown",
   "id": "080fe82e",
   "metadata": {},
   "source": [
    "# Estados Mezcla y Matriz Densidad\n"
   ]
  },
  {
   "cell_type": "markdown",
   "id": "080fe82e",
   "metadata": {},
   "source": [
    "## Estado puro y mezcla\n"
   ]
  },
  {
   "cell_type": "markdown",
   "id": "080fe82e",
   "metadata": {},
   "source": [
    "Hasta ahora hemos estado estudiando casos \\textbf{ideales}, donde los estados que tenemos son \\textit{perfectos}, en el sentido de que tenemos el estado que creemos tener con una probabilidad del 100\\%. Esto en la vida real no es así. Cuando intentamos generar un estado cuántico, nunca vamos a generar estos estados perfectos, pues nuestros aparatos no son perfectos y nunca lo serán. Todo aparato lleva asociada una \\textbf{incertidumbre}, es decir, una probabilidad de error.\n"
   ]
  },
  {
   "cell_type": "markdown",
   "id": "080fe82e",
   "metadata": {},
   "source": [
    "A estos estados \\textit{perfectos} se los denomina \\textbf{estados puros}, mientras que al resto de estados se los denomina \\textbf{estados mezcla}.\n"
   ]
  },
  {
   "cell_type": "markdown",
   "id": "080fe82e",
   "metadata": {},
   "source": [
    "\\SubsubiIt{Estos puros}\n"
   ]
  },
  {
   "cell_type": "markdown",
   "id": "080fe82e",
   "metadata": {},
   "source": [
    "Si sabemos \\textit{con seguridad} que el  sistema se encuentra en un estado $\\ket{\\psi}\\in \\mathcal{H}$ \\textit{toda la incertidumbre} que queda es cuántica.\n"
   ]
  },
  {
   "cell_type": "markdown",
   "id": "080fe82e",
   "metadata": {},
   "source": [
    "\\begin{mybox_gray2}{}\n",
    "\\textbf{Estado puro}:\n"
   ]
  },
  {
   "cell_type": "markdown",
   "id": "080fe82e",
   "metadata": {},
   "source": [
    "Si con \\textit{certeza total} podemos afirmar que el estado de un sistema está descrito por un vector $\\ket{\\psi}\\in \\mathcal{H}$ decimos que nuestro sistema se encuentra en un \\textbf{estado puro}.\n",
    "\\end{mybox_gray2}\n"
   ]
  },
  {
   "cell_type": "markdown",
   "id": "080fe82e",
   "metadata": {},
   "source": [
    "Tomemos un estado \\textbf{superposición}\n",
    "\\begin{equation}\n",
    "\\ket{\\psi} = a\\ket{0} + b\\ket{1}\n",
    "\\end{equation}\n",
    "con $a,b \\neq 0$.\n",
    "La probabilidad de medir el estado $\\ket{0}$ será positiva\n",
    "\\begin{equation}\n",
    "p(0) = |\\braket{0}{\\psi}|^2  =\n",
    "\\left\\vert\\bra{0}\\big(a\\ket{0}+b\\ket{1}\\big)\\right\\vert^2=\\left\\vert a\\braket{0}{0}+b \\braket{0}{1}\\right\\vert^2 = |a|^2\n",
    "\\end{equation}\n",
    "la de medir el estado $\\ket{1}$ también\n",
    "\\begin{equation}\n",
    "p(1) = |\\braket{1}{\\psi}|^2  = \\left\\vert\\bra{1}\\big(a\\ket{0}+b\\ket{1}\\big)\\right\\vert^2 =\\left\\vert a\\braket{1}{0}+b \\braket{1}{1}\\right\\vert^2= |b|^2\n",
    "\\end{equation}\n",
    "y la de medir el estado $\\ket{+} =  \\frac{1}{\\sqrt{2}}(\\ket{0}+\\ket{1})$ será\n",
    "\\begin{eqnarray}\n",
    "p(+)&=&|\\braket{+}{\\psi}|^2 =  \\frac{1}{2}\\left\\vert\\big(\\bra{0}+ \\bra{1}\\big)\\big(a\\ket{0}+b\\ket{1}\\big)\\right\\vert^2 = \\frac{1}{2}\\left\\vert\\big(a\\braket{0}{0}+b\\braket{1}{1}\\big)\n",
    "\\right\\vert^2  \\nonumber \\\\\n",
    "&=&\\frac{1}{2}|a+b|^2  = \\frac{1}{2}(a+b)(a^* + b^*)\n",
    "\\\\\n",
    "&=& \\frac{1}{2}\\left(\\rule{0mm}{4mm} |a|^2 + |b|^2 + 2{\\rm Re}(ab^*) \\right) \\nonumber\n",
    "\\end{eqnarray}\n",
    "El término que no tiene signo definido $2{\\rm Re}(ab^*)$ se denomina \\textit{interferencia}.\n",
    "Es el responsable de que $p(+)=0$ se pueda anular aun cuando $a,b\\neq 0$. Concretamente cuando $a=1=-b$\n",
    "\\begin{equation}\n",
    "\\ket{\\psi}=   \\frac{1}{\\sqrt{2}}(\\ket{0}-\\ket{1}) = \\ket{-}\n",
    "\\end{equation}\n",
    "y los estados son ortogonales $|\\braket{\\psi}{+}|^2=|\\braket{-}{+}|^2= p(\\ket{-}\\to\\ket{+})=0$, obteniendo $p(+)=0$.\n"
   ]
  },
  {
   "cell_type": "markdown",
   "id": "080fe82e",
   "metadata": {},
   "source": [
    "\\SubsubiIt{Estados mezcla}\n"
   ]
  },
  {
   "cell_type": "markdown",
   "id": "080fe82e",
   "metadata": {},
   "source": [
    "¿Qué ocurre si no podemos tener la certeza de que el estado que describe el sistema sea $\\ket{\\psi}$?\n"
   ]
  },
  {
   "cell_type": "markdown",
   "id": "080fe82e",
   "metadata": {},
   "source": [
    "Por ejemplo: supongamos que,\n",
    "\\begin{itemize}\n",
    "\\item a la salida de un polarizador de Stern Gerlach, encontramos que el estado es $\\ket{+}$,\n",
    "\\item pero la fiabilidad nominal de dicho aparato es del 90\\%.\n",
    "\\item Eso quiere decir que, con un 10\\% de probabilidad, el estado emergente ha sido, en realidad, $\\ket{-}$.\n",
    "\\end{itemize}\n",
    "Nuestro polarizador se comporta como una \\textit{variable aleatoria} $ \\{\\{\\ket{+},0.9\\},\\{\\ket{-},0.1\\}\\}$ de la que obtendremos, cada vez, un estado u otro con distinta probabilidad.\n"
   ]
  },
  {
   "cell_type": "markdown",
   "id": "080fe82e",
   "metadata": {},
   "source": [
    "\\begin{mybox_blue}{Nota}\n",
    "Véase que esta incertidumbre debida al error del polarizador que genera el estado es clásica, no cuántica.\n",
    "\\end{mybox_blue}\n"
   ]
  },
  {
   "cell_type": "markdown",
   "id": "080fe82e",
   "metadata": {},
   "source": [
    "\\begin{mybox_gray2}{}\n",
    "\\textbf{Estados mezcla}:\n"
   ]
  },
  {
   "cell_type": "markdown",
   "id": "080fe82e",
   "metadata": {},
   "source": [
    "En la situación más general, un  sistema estará en un \\textbf{estado mezcla} asociado a una variable aleatoria\n",
    "\\begin{equation}\n",
    "\\{\\ket{\\psi_\\alpha},p_\\alpha\\}\n",
    "\\end{equation}\n",
    "que indica que, con probabilidad $p_\\alpha$,  el estado real del sistema es $\\ket{\\psi_\\alpha}$\n",
    "\\end{mybox_gray2}\n"
   ]
  },
  {
   "cell_type": "markdown",
   "id": "080fe82e",
   "metadata": {},
   "source": [
    "\\begin{itemize}\n",
    "\\item Un estado mezcla no es un vector en el espacio de Hilbert, sino que es una variable aleatoria donde el espacio muestral son vectores en el espacio de Hilbert.\n"
   ]
  },
  {
   "cell_type": "markdown",
   "id": "080fe82e",
   "metadata": {},
   "source": [
    "\\item Es importante recalcar que las probabilidades $p_\\alpha \\in  \\mathbb{R}$ son incertidumbres clásicas, y por tanto $p_k \\in \\lc 0,1 \\rc$, $\\sum_\\alpha p_\\alpha = 1$.\n"
   ]
  },
  {
   "cell_type": "markdown",
   "id": "080fe82e",
   "metadata": {},
   "source": [
    "\\item El estado mixto contiene al estado puro como caso particular en el que para un cierto valor $\\alpha = i$, tenemos $p_i = 1$ y el resto son cero.\n",
    "\\end{itemize}\n"
   ]
  },
  {
   "cell_type": "markdown",
   "id": "080fe82e",
   "metadata": {},
   "source": [
    "## Operador densidad\n"
   ]
  },
  {
   "cell_type": "markdown",
   "id": "080fe82e",
   "metadata": {},
   "source": [
    "El formalismo matemático que nos permite lidiar con los estados mezcla pasa por usar la \\textbf{matriz densidad}.\n"
   ]
  },
  {
   "cell_type": "markdown",
   "id": "080fe82e",
   "metadata": {},
   "source": [
    "Supongamos que a nuestro sistema le podemos asignar un estado mixto $\\{\\ket{\\psi_\\alpha},p_\\alpha\\}$. La probabilidad, $p(\\lambda_n)$, de encontrar un autovector $\\ket{\\lambda_n}$ como resultado de la medida de un observable $A$, debe ser la \\textit{suma ponderada} de probabilidades  de esa medida en cada uno de los estados $\\ket{\\psi_\\alpha}$\n",
    "\\begin{equation} \\label{ec_fundamentos_op_dens_prob}\n",
    "\\begin{array}{rcl}\n",
    "p(\\lambda_n) &=& \\sum_\\alpha p_\\alpha |\\braket{\\lambda_n}{\\psi_\\alpha}|^2  =  \\sum_\\alpha p_\\alpha \\braket{\\lambda_n}{\\psi_\\alpha}\\braket{\\psi_\\alpha}{\\lambda_n} \\\\ \\rule{0mm}{6mm}\n",
    "&=& \\bra{\\lambda_n}\\left(\\rule{0mm}{6mm}\\sum_\\alpha p_\\alpha \\ket{\\psi_\\alpha}\\bra{\\psi_\\alpha}\\right)\\ket{\\lambda_n} \\\\\n",
    "&\\equiv&\\bra{\\lambda_n}\\rho\\ket{\\lambda_n}\\\\\n",
    "\\end{array}\n",
    "\\end{equation}\n",
    "El resultado anterior muestra la aparición en escena de un \\textit{nuevo operador} formado con los datos del colectivo aleatorio $\\{\\ket{\\psi_\\alpha},p_\\alpha\\}$\n",
    "\\begin{equation} \\label{ec_fundamentos_operador_densidad_diag}\n",
    "\\boxed{\\rho = \\sum_\\alpha p_\\alpha \\ketbra{\\psi_\\alpha}{\\psi_\\alpha} = \\sum_\\alpha p_\\alpha P_\\alpha}\n",
    "\\end{equation}\n",
    "$\\rho ~$ se denomina \\textbf{matriz densidad} y consiste en una suma ponderada de proyectores sobre cada uno de los subespacios generados por los estados posibles. Este es el objeto matemático que caracteriza un estado mezcla.\n"
   ]
  },
  {
   "cell_type": "markdown",
   "id": "080fe82e",
   "metadata": {},
   "source": [
    "En particular, como acabamos de ver, la probabilidad de medir el autovalor $\\lambda$ es el \\textit{valor esperado} del operador densidad en dicho estado\n",
    "\\begin{equation}\n",
    "\\boxed{p(\\lambda_n) =\\langle \\rho \\rangle_{\\ket{\\lambda_n}} = \\bra{\\lambda_n }\\rho\\ket{\\lambda_n}}\n",
    "\\end{equation}\n"
   ]
  },
  {
   "cell_type": "markdown",
   "id": "080fe82e",
   "metadata": {},
   "source": [
    "\\begin{mybox_gray2}{}\n",
    "\\textbf{Operador densidad}:\n"
   ]
  },
  {
   "cell_type": "markdown",
   "id": "080fe82e",
   "metadata": {},
   "source": [
    "Un operador, $\\rho$, podrá ser el operador densidad de un sistema si cumple los siguientes requisitos\n",
    "\\begin{itemize}\n",
    "\\item es hermítico $\\rho = \\rho^\\dagger$\n",
    "\\item es semidefinido positivo\n",
    "\\item tiene traza unidad ${\\rm tr }\\rho = 1$\n",
    "\\end{itemize}\n"
   ]
  },
  {
   "cell_type": "markdown",
   "id": "080fe82e",
   "metadata": {},
   "source": [
    "\\end{mybox_gray2}\n"
   ]
  },
  {
   "cell_type": "markdown",
   "id": "080fe82e",
   "metadata": {},
   "source": [
    "Claramente la expresión dada anteriormente cumple con todos estos requisitos.\n",
    "\\begin{itemize}\n",
    "\\item Hermiticidad: se ve gracias a que los $p_\\alpha$ son probabilidades (números reales)\n",
    "\\begin{equation}\n",
    "\\rho^\\dagger = \\left(\\sum_\\alpha p_\\alpha \\ketbra{\\psi_\\alpha}{\\psi_\\alpha}\\right)^\\dagger =\n",
    "\\sum_\\alpha p^*_\\alpha \\ketbra{\\psi_\\alpha}{\\psi_\\alpha} = \\rho\n",
    "\\end{equation}\n"
   ]
  },
  {
   "cell_type": "markdown",
   "id": "080fe82e",
   "metadata": {},
   "source": [
    "\\item De hecho escrito en esta base, la matriz que representa $\\rho$ es diagonal\n",
    "\\begin{equation}\n",
    "\\rho = \\begin{bmatrix} p_1& 0 & ... & 0 \\\\ 0 & p_2 & ... & 0 \\\\ & &\\vdots  & \\\\ 0 & 0 & \\cdots & p_n\n",
    "\\end{bmatrix}\n",
    "\\end{equation}\n",
    "Por tanto los números $p_\\alpha\\geq 0$ son los autovalores, que son no-negativos, lo cuál caracteriza un operador semidefinido positivo.\n"
   ]
  },
  {
   "cell_type": "markdown",
   "id": "080fe82e",
   "metadata": {},
   "source": [
    "\\item Finalmente la traza es la unidad debido a que $p_\\alpha$ son probabilidades\n",
    "\\begin{equation}\n",
    "{\\rm Tr}\\, \\rho = \\sum_\\alpha p_\\alpha = 1\n",
    "\\end{equation}\n"
   ]
  },
  {
   "cell_type": "markdown",
   "id": "080fe82e",
   "metadata": {},
   "source": [
    "\\end{itemize}\n"
   ]
  },
  {
   "cell_type": "markdown",
   "id": "080fe82e",
   "metadata": {},
   "source": [
    "\\begin{mybox_blue}{Nota}\n",
    "Es importante darse cuenta de que un estado mezcla \\textbf{no se puede escribir como un vector de estado}. Solo los estados puros pueden ser escritos así.\n",
    "\\vspace{0.3cm}\n"
   ]
  },
  {
   "cell_type": "markdown",
   "id": "080fe82e",
   "metadata": {},
   "source": [
    "Por ejemplo, en el caso que veíamos antes de un polarizador que generaba el estado $\\ket{+}$ con una probabilidad del 90\\%, este se comportaba como una variable aleatoria $ \\{\\{\\ket{+},0.9\\},\\{\\ket{-},0.1\\}\\}$. El estado que sale de este polarizador es un estado mezcla que se puede expresar con siguiente matriz densidad\n",
    "\\begin{equation}\n",
    "\\rho = \\Lc 0.9 \\ketbra{+}{+}\\Rc + \\Lc 0.1 \\ketbra{-}{-} \\Rc\n",
    "\\end{equation}\n",
    "Este estado \\textbf{no es el mismo} que el estado puro\n",
    "\\begin{equation}\n",
    "\\ket{\\psi} = \\sqrt{0.9} \\ket{+} + \\sqrt{0.1} \\ket{-}\n",
    "\\end{equation}\n",
    "Es más, podemos escribir la matriz densidad de este segundo estado para ver que es diferente:\n",
    "\\begin{align}\n",
    "\\rho_{\\ket{\\psi}}\n",
    "& =\\ketbra{\\psi}{\\psi}\n",
    "= \\lp \\sqrt{0.9} \\ket{+} + \\sqrt{0.1} \\ket{-} \\rp\n",
    "\\lp \\sqrt{0.9} \\bra{+} + \\sqrt{0.1} \\bra{-} \\rp \\\\\n",
    "& = \\Lc 0.9 \\ketbra{+}{+} \\Rc + \\Lc 0.1 \\ketbra{-}{-} \\Rc + \\Lc \\sqrt{0.9}\\sqrt{0.1} \\ketbra{+}{-} \\Rc  + \\Lc \\sqrt{0.9}\\sqrt{0.1} \\ketbra{-}{+} \\Rc\n",
    "\\end{align}\n",
    "\\end{mybox_blue}\n"
   ]
  },
  {
   "cell_type": "markdown",
   "id": "080fe82e",
   "metadata": {},
   "source": [
    "\\begin{mybox_blue}{Nota}\n",
    "La matriz densidad de un estado mezcla \\textbf{no tiene porque ser diagonal}. La Ec. (\\ref{ec_fundamentos_operador_densidad_diag}) es simplemente el caso en el que estamos en una base donde la matriz es diagonal.\n",
    "\\end{mybox_blue}\n"
   ]
  },
  {
   "cell_type": "markdown",
   "id": "080fe82e",
   "metadata": {},
   "source": [
    "\\SubsubiIt{Matriz densidad de un estado puro}\n"
   ]
  },
  {
   "cell_type": "markdown",
   "id": "080fe82e",
   "metadata": {},
   "source": [
    "La matriz densidad es un formalismo más general que el del vector estado, que sólo se aplica en el caso de estados puros. En efecto, la matriz densidad asociada a un estado puro $\\ket{\\psi_0}$ se obtiene haciendo todas las probabilidades $p_{\\alpha\\neq 0}=0$ y $p_{0} = 1$. Entonces el colectivo $\\{\\ket{\\psi_0},p_0=1\\}$ tiene asociado el operador\n",
    "\\begin{equation}\n",
    "\\rho = \\ketbra{\\psi_0}{\\psi_0} = \\begin{bmatrix}1 &  & \\\\ & 0 & \\\\ & & \\ddots  \\end{bmatrix}\n",
    "\\end{equation}\n",
    "Es evidente que esta expresión cumple, a mayores, la propiedad que caracteriza a un \\textbf{proyector}\n",
    "\\begin{equation}\n",
    "\\rho^2 = \\rho\n",
    "\\end{equation}\n",
    "y esto es una ecuación que \\textit{sólo verifican las matrices densidad asociadas a estados puros}.\n"
   ]
  },
  {
   "cell_type": "markdown",
   "id": "080fe82e",
   "metadata": {},
   "source": [
    "\\textbf{Por el contrario}, para un estado mezcla podemos ver que $\\rho^2 \\neq \\rho$\n",
    "\\begin{equation}\n",
    "\\rho^2  = \\sum_\\alpha p_\\alpha^2 \\ketbra{\\psi_\\alpha}{\\psi_\\alpha} \\neq  \\sum_\\alpha p_\\alpha \\ketbra{\\psi_\\alpha}{\\psi_\\alpha} = \\rho\n",
    "\\end{equation}\n"
   ]
  },
  {
   "cell_type": "markdown",
   "id": "080fe82e",
   "metadata": {},
   "source": [
    "Podemos extraer esta información de forma \\textit{independiente de la base} usando la función traza  ${\\rm Tr}$\n",
    "\\begin{itemize}\n",
    "\\item Si $\\ket{\\psi_\\alpha}$ son vectores ortonormales,  ${\\rm Tr } \\rho = \\sum p_\\alpha = 1$ pero  ${\\rm Tr }\\rho^2 = \\sum_\\alpha p_\\alpha^2\\leq 1$\n"
   ]
  },
  {
   "cell_type": "markdown",
   "id": "080fe82e",
   "metadata": {},
   "source": [
    "\\item La igualdad ${\\rm Tr} \\rho^2=1$ sólo se producirá si  $p_\\alpha = 1$ para un solo $\\alpha$.\n",
    "\\end{itemize}\n"
   ]
  },
  {
   "cell_type": "markdown",
   "id": "080fe82e",
   "metadata": {},
   "source": [
    "\\Teorema{\n",
    "Un estado  $\\rho$ será \\textit{puro} (\\textit{mezcla}) sí y solo sí ${\\rm Tr } \\rho^2 = 1~~\n",
    "({\\rm Tr } \\rho^2 <1)$\n",
    "}\n"
   ]
  },
  {
   "cell_type": "markdown",
   "id": "080fe82e",
   "metadata": {},
   "source": [
    "\\SubsubiIt{Estado máximalmente mezclado}\n"
   ]
  },
  {
   "cell_type": "markdown",
   "id": "080fe82e",
   "metadata": {},
   "source": [
    "En el extremo opuesto de un estado puro, encontramos un estado \\textbf{maximalmente mezclado}, en el cual \\textit{todos} los proyectores aparecen de manera equiprobable $\\{\\ket{\\psi_\\alpha},p_\\alpha = \\frac{1}{d}\\}, \\alpha = 1,...,d$\n",
    "\\begin{equation}\n",
    "\\rho = \\sum_{\\alpha=1}^d \\frac{1}{d} \\ket{\\psi_\\alpha}\\bra{\\psi_\\alpha} = \\frac{1}{d} I = \\begin{bmatrix}\\frac{1}{d} &  & & \\\\ & \\frac{1}{d} &  &\\\\ & & &\\ddots & \\\\ & & & & \\frac{1}{d} \\end{bmatrix}\n",
    "\\end{equation}\n",
    "Por tanto, es una matriz diagonal proporcional a la identidad.\n"
   ]
  },
  {
   "cell_type": "markdown",
   "id": "080fe82e",
   "metadata": {},
   "source": [
    "\\SubsubiIt{Estado mezcla parcial}\n"
   ]
  },
  {
   "cell_type": "markdown",
   "id": "080fe82e",
   "metadata": {},
   "source": [
    "Entre los dos extremos mencionados anteriormente, estado puro y estado maximalmente mezclado, se sitúa cualquier estado $\\rho$ genérico. Si escribimos\n",
    "\\begin{equation}\n",
    "\\rho = \\sum_{\\alpha} p_\\alpha \\ketbra{\\psi_\\alpha}{\\psi_\\alpha}\n",
    "\\end{equation}\n",
    "el grado de mezcla es proporcional a la uniformidad en la distribución de valores $p_\\alpha$.\n"
   ]
  },
  {
   "cell_type": "markdown",
   "id": "080fe82e",
   "metadata": {},
   "source": [
    "\\SubsubiIt{Estado de Gibbs}\n"
   ]
  },
  {
   "cell_type": "markdown",
   "id": "080fe82e",
   "metadata": {},
   "source": [
    "Un caso muy importante de mezcla parcial es el \\textbf{estado de Gibbs}, que describe un sistema cuando alcanza el \\textit{equilibrio término a una temperatura }$T$. En este caso, los estados $\\{\\ket{\\psi_\\alpha}= \\ket{E_\\alpha}\\}$ son la \\textit{base de autoestados del operador Hamiltoniano},\n",
    "\\begin{equation}\n",
    "H\\ket{E_\\alpha} = E_\\alpha \\ket{E_\\alpha}\n",
    "\\end{equation}\n",
    "y los autovalores $E_\\alpha$, con $\\alpha = 1,2...d$, son los \\textit{niveles de energía} del sistema.\n"
   ]
  },
  {
   "cell_type": "markdown",
   "id": "080fe82e",
   "metadata": {},
   "source": [
    "Cuando un sistema se encuentra en contacto con un baño térmico a temperatura $T$ el estado de energía no está bien definido, sino que es una mezcla denominada \\textbf{colectivo canónico}\n",
    "\\begin{equation}\n",
    "\\left\\{\\rule{0mm}{5mm}\\ket{E_\\alpha}, p_\\alpha = e^{-E_\\alpha/k_BT}\\right\\}\n",
    "\\end{equation}\n",
    "Los coeficientes $p_\\alpha = e^{-E_\\alpha/k_BT}$ se denominan \\textit{coeficientes de Boltzmann}  codifican la probabilidad  de hallarse en el estado (nivel de energía) $\\ket{E_\\alpha}$.\n"
   ]
  },
  {
   "cell_type": "markdown",
   "id": "080fe82e",
   "metadata": {},
   "source": [
    "La matriz densidad que describe el estado de este sistema es el denominado \\textbf{estado de Gibbs}\n",
    "\\begin{equation}\n",
    "\\rho(T) = \\frac{1}{Z}\\sum_{\\alpha=1}^d e^{-E_\\alpha/k_BT} \\ket{E_\\alpha}\\bra{E_\\alpha} = \\frac{1}{Z} \\begin{bmatrix}e^{-E_0/k_BT}&  & \\\\ & e^{-E_1/k_BT} & \\\\ &  &\\ddots  \\end{bmatrix} \\, ,\n",
    "\\end{equation}\n",
    "donde $k_B$ es la constante de Bolzmann, y  $Z =\\sum_\\alpha e^{-E_\\alpha/k_BT}$ es la normalización necesaria para que ${\\rm tr}\\rho(T) = 1$. La \\textbf{energía del sistema} a cada temperatura, vendrá dada por un promedio sobre todos los autoestados pesados por la matriz densidad a dicha temperatura\n",
    "\\begin{equation}\n",
    "\\langle E \\rangle_T = {\\rm tr} (\\rho(T) H)\n",
    "\\end{equation}\n"
   ]
  },
  {
   "cell_type": "markdown",
   "id": "080fe82e",
   "metadata": {},
   "source": [
    "\\begin{mybox_blue}{Nota: autoestados del Hamiltoniano}\n",
    "Como ya comentamos, un autoestado de un operador es un estado donde el observable (operador) toma un valor concreto (el autovalor). Los autoestados del operador hamiltoniano son especiales, pues son los \\textbf{niveles de energía}. Es decir, los autovalores son las \\textbf{energías}.\n",
    "\\end{mybox_blue}\n"
   ]
  },
  {
   "cell_type": "markdown",
   "id": "080fe82e",
   "metadata": {},
   "source": [
    "\\Ejercicio{\n",
    "Probar  que recuperamos los casos puro y maximalmente mezclado en los límites siguientes\n",
    "\\begin{itemize}\n",
    "\\item $\\rho(T=0) = \\ketbra{E_0}{E_0}$\n",
    "\\item $\\rho(T=\\infty) = \\frac{1}{d} I$\n",
    "\\end{itemize}\n",
    "}\n"
   ]
  },
  {
   "cell_type": "markdown",
   "id": "080fe82e",
   "metadata": {},
   "source": [
    "\\Ejercicio{\n",
    "Genera aleatoriamente un estado de Gibbs a temperatura $T$ y grafica los valores de $p_\\alpha(T)$\n",
    "para distintos valores de $T$ (toma $k_B=1$).\n",
    "}\n"
   ]
  },
  {
   "cell_type": "markdown",
   "id": "080fe82e",
   "metadata": {},
   "source": [
    "\\SubsubiIt{Entropía de Von Neumann}\n"
   ]
  },
  {
   "cell_type": "markdown",
   "id": "080fe82e",
   "metadata": {},
   "source": [
    "La entropía de Von Neumann $S(\\rho)$ es una medida del \\textit{grado de mezcla} que hay en una matriz densidad. Se define  como sigue\n",
    "\\begin{equation}\n",
    "S(\\rho) = -{\\rm tr} (\\rho \\log \\rho )\\, .\n",
    "\\end{equation}\n",
    "Usando la descomposición espectral de $\\rho = \\sum_\\alpha p_\\alpha \\ket{\\psi_\\alpha}\\bra{\\psi_\\alpha}  \\, ,$ donde  $\\sum_i p_\\alpha =1$, la entropía de Von Neumann resulta ser\n",
    "\\begin{equation}\n",
    "S(\\rho) = -\\sum_\\alpha p_\\alpha \\log p_\\alpha\n",
    "\\end{equation}\n",
    "es decir, la entropía de la variable aleatoria $\\{\\ket{\\psi_\\alpha},p_\\alpha\\}$.\n"
   ]
  },
  {
   "cell_type": "markdown",
   "id": "080fe82e",
   "metadata": {},
   "source": [
    "\\begin{itemize}\n",
    "\\item Vemos que $S=0$ cuando el estado que representa $\\rho$ es puro ya que $p_\\alpha = \\delta_{\\alpha1}$.\n",
    "\\item Por el contrario, en un estado máximamente mezclado $p_\\alpha= 1/d$, $S = \\log d$ alcanza su máximo valor.\n",
    "\\end{itemize}\n"
   ]
  },
  {
   "cell_type": "markdown",
   "id": "080fe82e",
   "metadata": {},
   "source": [
    "## Medidas en estados mezcla\n"
   ]
  },
  {
   "cell_type": "markdown",
   "id": "080fe82e",
   "metadata": {},
   "source": [
    "El escenario ahora es un estado general $\\rho$ sobre el que efectuamos una medida asociada a un observable que admite una descomposición espectral\n",
    "\\begin{equation}\n",
    "A = \\sum_n \\lambda_n \\ketbra{\\lambda_n}{\\lambda_n} = \\sum_n \\lambda_n P_n\n",
    "\\end{equation}\n"
   ]
  },
  {
   "cell_type": "markdown",
   "id": "080fe82e",
   "metadata": {},
   "source": [
    "Según el axioma del colapso de la función de onda, después de una medida, si el resultado ha sido $\\lambda_n$, el estado mezcla $\\rho$ colapsa al estado puro $\\rho\\to \\ketbra{\\lambda_n}{\\lambda_n}$. En términos de matriz densidad\n",
    "\\begin{equation}\n",
    "\\rho \\to \\ketbra{\\lambda_n}{\\lambda_n} = \\frac{P_n\\rho P_n}{p(\\lambda_n)} \\, .\n",
    "\\end{equation}\n",
    "Desarrollando un poco el numerador\n",
    "\\begin{eqnarray}\n",
    "P_n \\rho P_n &=& \\ketbra{\\lambda_n}{\\lambda_n} \\rho \\ketbra{\\lambda_n}{\\lambda_n}  = p(\\lambda_n) \\ketbra{\\lambda_n}{\\lambda_n}\n",
    "\\end{eqnarray}\n"
   ]
  },
  {
   "cell_type": "markdown",
   "id": "080fe82e",
   "metadata": {},
   "source": [
    "Vamos a manipular un poco la expresión de la probabilidad que hemos visto en la Ec. (\\ref{ec_fundamentos_op_dens_prob}):\n",
    "\\begin{eqnarray}\n",
    "p(\\lambda_n) &=& \\bra{\\lambda_n}\\rho\\ket{\\lambda_n} = \\sum_i  \\braket{\\lambda_n}{i}\\bra{i}\\rho\\ket{\\lambda_n} =\n",
    "\\sum_i \\bra{i}\\rho\\ket{\\lambda_n}\\braket{\\lambda_n}{i} = \\sum_i \\bra{i}\\left( \\rho\\ket{\\lambda_n}\\bra{\\lambda_n}\\rule{0mm}{5mm}\\right)\\ket{i} \\nonumber\\\\\n",
    "&\\equiv& {\\rm tr}(\\rho P_n )\n",
    "\\end{eqnarray}\n",
    "Es decir,\n",
    "\\begin{equation}\n",
    "\\boxed{p(\\lambda_n) = \\bra{\\lambda_n}\\rho\\ket{\\lambda_n} = {\\rm tr} (\\rho P_n)}\n",
    "\\end{equation}\n"
   ]
  },
  {
   "cell_type": "markdown",
   "id": "080fe82e",
   "metadata": {},
   "source": [
    "Ahora podemos hallar el valor esperado de $A$\n",
    "\\begin{equation}\n",
    "\\langle A\\rangle_\\rho = \\sum_n \\lambda_n p(\\lambda_n) = \\sum_n \\lambda_n {\\rm tr}(\\rho P_n )\n",
    "= {\\rm tr} \\left( \\rho \\sum_n \\lambda_n P_n \\right) = {\\rm tr }(\\rho A)\n",
    "\\end{equation}\n"
   ]
  },
  {
   "cell_type": "markdown",
   "id": "080fe82e",
   "metadata": {},
   "source": [
    "\\Teorema{\n",
    "El valor esperado de un observable $A$ en un estado general $\\rho$ es\n",
    "\\begin{equation}\n",
    "\\langle A\\rangle_\\rho = {\\rm tr}(\\rho A)\n",
    "\\end{equation}\n",
    "}\n"
   ]
  },
  {
   "cell_type": "markdown",
   "id": "080fe82e",
   "metadata": {},
   "source": [
    "## Estado mezcla bipartito\n"
   ]
  },
  {
   "cell_type": "markdown",
   "id": "080fe82e",
   "metadata": {},
   "source": [
    "De forma similar, podemos definir la matriz densidad en sistemas multipartitos. Si consideramos por simplicidad un espacio $\\mathcal{H}=\\mathcal{H}_1\\otimes\\mathcal{H}_2$, el siguiente operador $\\rho \\in {\\rm L}(\\mathcal{H})$\n",
    "\\begin{equation}\n",
    "\\rho=\\sum_{ia,jb}\\rho_{ia,jb}\\ketbra{e_{ia}}{e_{jb}}\n",
    "\\end{equation}\n",
    "podrá describir el estado mezcla de un sistema bipartito si la matriz $\\rho_{ia,jb}$ verifica las tres condiciones que definen un operador densidad.\n"
   ]
  },
  {
   "cell_type": "markdown",
   "id": "080fe82e",
   "metadata": {},
   "source": [
    "\\begin{mybox_blue}{Nota}\n",
    "No confundir estado \\textbf{mezcla} con estado \\textbf{entrelazado} Un estado $\\ket{\\psi}\\in \\mathcal{H}_1\\otimes\\mathcal{H}_2$ puede ser entrelazado, y aun así $\\rho = \\ketbra{\\psi}{\\psi}$ ser puro.\n",
    "\\end{mybox_blue}\n",
    "En el caso de vectores $\\ket{\\psi} \\in \\mathcal{H}_1\\otimes \\mathcal{H}_2$, ya hemos visto la división que existe entre vectores factorizables y entrelazados. Para estados $\\rho \\in {\\rm L}(\\mathcal{H}_1\\otimes \\mathcal{H}_2)$ tenemos más posibilidades:\n",
    "\\begin{itemize}\n",
    "\\item \\textbf{Factorizable}: si $\\rho$ es un operador factorizable\n",
    "\\begin{equation}\n",
    "\\rho = \\rho_1\\otimes \\rho_2\\, .\n",
    "\\end{equation}\n",
    "En este caso, $\\rho_{ia,jb} = \\rho_{1,ij}\\rho_{2,ab}$ y decimos que, en este estado, los subsistemas 1 y 2 están \\textit{descorrelacionados}.\n"
   ]
  },
  {
   "cell_type": "markdown",
   "id": "080fe82e",
   "metadata": {},
   "source": [
    "\\item \\textbf{Separable}: Si es combinación lineal de operadores factorizables\n",
    "\\begin{equation}\n",
    "\\rho=\\sum_a p_a \\, \\rho_{1a}\\otimes\\rho_{2a}\n",
    "\\end{equation}\n",
    "con $p_a\\in [0,1]$ y $\\sum_a p_a = 1$. En este caso existen correlaciones clásicas entre ambos sistemas.\n"
   ]
  },
  {
   "cell_type": "markdown",
   "id": "080fe82e",
   "metadata": {},
   "source": [
    "\\item \\textbf{No-separable:} en cualquier otro caso. En este caso hay correlaciones clásicas y cuánticas entre ambos sistemas.\n"
   ]
  },
  {
   "cell_type": "markdown",
   "id": "080fe82e",
   "metadata": {},
   "source": [
    "\\end{itemize}\n"
   ]
  },
  {
   "cell_type": "markdown",
   "id": "080fe82e",
   "metadata": {},
   "source": [
    "\\SubsubiIt{Traza parcial}\n"
   ]
  },
  {
   "cell_type": "markdown",
   "id": "080fe82e",
   "metadata": {},
   "source": [
    "A partir de un estado bipartito $\\rho \\in {\\rm L}(\\mathcal{H}_1\\otimes\\mathcal{H}_2)$  podemos definir estados $\\rho_1 \\in {\\rm L}(\\mathcal{H}_1)$ y $\\rho_2 \\in {\\rm L}(\\mathcal{H}_2)$ mediante la operación de \\textit{traza parcial}\n",
    "\\begin{equation}\n",
    "\\rho_1 = {\\rm Tr}_{\\mathcal{H}_2}\\rho = \\sum_{a=1}^{d_2} \\bra{e_a^{(2)}} \\rho \\ket{e_a^{(2)}}\\quad , \\quad \\rho_2 = {\\rm Tr}_{\\mathcal{H}_1}\\rho = \\sum_{a=1}^{d_1} \\bra{e_a^{(1)}} \\rho \\ket{e_a^{(1)}}\n",
    "\\end{equation}\n",
    "Sobre las matriz densidad $\\rho_{ia,jb}$ las trazas parciales dan matrices\n",
    "\\begin{equation}\n",
    "\\rho_{1,ij}= \\sum_{a=1}^{d_2} \\rho_{ia,ja} ~~~~,~~~~ \\rho_{2,ab} = \\sum_{i=1}^{d_1} \\rho_{ia,ib}\n",
    "\\end{equation}\n"
   ]
  },
  {
   "cell_type": "markdown",
   "id": "080fe82e",
   "metadata": {},
   "source": [
    "\\Ejercicio{\n",
    "Sea un estado bipartito $\\rho \\in {\\rm L}(\\mathcal{H}_1\\otimes\\mathcal{H}_2)$ y $A=A_1\\otimes I$ un observable que sólo depende del subsistema $1$. Demuestra que\n",
    "\\begin{equation}\n",
    "\\langle A \\rangle_\\rho  = {\\rm tr} (\\rho_1 A_1)\n",
    "\\end{equation}\n",
    "}\n"
   ]
  },
  {
   "cell_type": "markdown",
   "id": "080fe82e",
   "metadata": {},
   "source": [
    "Supongamos un \\textit{estado puro bipartito}  $\\rho=\\ketbra{\\psi}{\\psi}\\, \\in \\,  {\\rm L}(\\mathcal{H}_1\\otimes\\mathcal{H}_2)~\\Rightarrow ~ \\rho=\\rho^2$ es un proyector. Después de tomar la traza parcial  $\\rho\\to \\rho_1 = {\\rm tr}_{\\mathcal{H}_2}\\rho$ hay dos opciones\n",
    "\\begin{itemize}\n",
    "\\item Si $\\ket{\\psi}$ es \\textit{factorizable} $\\Rightarrow $ $\\rho_1$ permanece \\textit{puro}\n",
    "\\begin{equation}\n",
    "\\ket{\\psi} = \\ket{\\varphi}\\otimes \\ket{\\phi} ~~~ \\Rightarrow ~~~ \\rho_1 = {\\rm Tr}_{\\mathcal{H}_2}\\ketbra{\\psi}{\\psi} = \\ketbra{\\varphi}{\\varphi} = \\rho_1^2\n",
    "\\end{equation}\n"
   ]
  },
  {
   "cell_type": "markdown",
   "id": "080fe82e",
   "metadata": {},
   "source": [
    "\\item Si $\\ket{\\psi}$ es \\textit{entrelazado} $\\Rightarrow \\rho_1$ se vuelve \\textit{mezclado}. Podemos ver esto con la descomposición de Schmidt\n",
    "\\begin{equation}\n",
    "\\ket{\\psi} = \\sum_{a=1}^r \\sqrt{s_a}\\ket{f_a}\\ket{\\tilde f_a} ~~~\\Rightarrow ~~~ \\rho_1 = {\\rm Tr}_{\\mathcal{H}_2}\\ketbra{\\psi}{\\psi} = \\sum_{a=1}^r s_a \\ket{f_a}\\bra{f_a} \\neq \\rho_1^2\n",
    "\\end{equation}\n"
   ]
  },
  {
   "cell_type": "markdown",
   "id": "080fe82e",
   "metadata": {},
   "source": [
    "\\end{itemize}\n"
   ]
  },
  {
   "cell_type": "markdown",
   "id": "080fe82e",
   "metadata": {},
   "source": [
    "En resumen: \\textbf{bajo \\textit{traza parcial}, el entrelazamiento induce \\textit{mezcla}}.\n"
   ]
  },
  {
   "cell_type": "markdown",
   "id": "8534e04c",
   "metadata": {},
   "source": [
    "<figure><center>\n",
    "<img   src=\"https://quantumspain-project.es/wp-content/uploads/2022/11/Logo_QS_EspanaDigital.png\" align=center  width=\"2000px\"/>\n",
    "</center></figure>\n",
    "\n",
    "<center>\n",
    "<img align=\"left\" src=\"https://quantumspain-project.es/wp-content/uploads/2024/02/Banner-QS_GOB_v2.png\" width=\"1000px\" />\n",
    "</center>"
   ]
  }
 ],
 "metadata": {
  "kernelspec": {
   "display_name": "Python 3 (ipykernel)",
   "language": "python",
   "name": "python3"
  },
  "language_info": {
   "codemirror_mode": {
    "name": "ipython",
    "version": 3
   },
   "file_extension": ".py",
   "mimetype": "text/x-python",
   "name": "python",
   "nbconvert_exporter": "python",
   "pygments_lexer": "ipython3",
   "version": "3.11.7"
  },
  "toc": {
   "base_numbering": 1,
   "nav_menu": {},
   "number_sections": false,
   "sideBar": true,
   "skip_h1_title": true,
   "title_cell": "Table of Contents",
   "title_sidebar": "Contents",
   "toc_cell": false,
   "toc_position": {},
   "toc_section_display": true,
   "toc_window_display": false
  }
 },
 "nbformat": 4,
 "nbformat_minor": 5
}
