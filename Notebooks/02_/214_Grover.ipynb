{
 "cells": [
  {
   "cell_type": "markdown",
   "id": "36a4f9fa",
   "metadata": {
    "slideshow": {
     "slide_type": "subslide"
    }
   },
   "source": [
    "<figure><center>\n",
    "<img   src=\"https://quantumspain-project.es/wp-content/uploads/2022/11/Logo_QS_EspanaDigital.png\" align=center  width=\"1000px\"/>\n",
    "</center></figure>\n",
    "\n",
    "\n",
    "Created: 2022/10/30\n",
    "\n",
    "<center>\n",
    "<a rel=\"license\" href=\"http://creativecommons.org/licenses/by-sa/4.0/\">\n",
    "<img aling=\"left\" alt=\"Licencia Creative Commons\" style=\"border-width:0\" src=\"https://i.creativecommons.org/l/by-sa/4.0/88x31.png\" /></a>\n",
    "</center>\n",
    "\n",
    "License: <a rel=\"license\" href=\"http://creativecommons.org/licenses/by-sa/4.0/\">Licencia Creative Commons Atribución-CompartirIgual 4.0 Internacional</a>.\n",
    "\n",
    "Internal Reviewers: \n",
    "* Andrés Gómez Tato ([CESGA](http://www.cesga.es))\n",
    "* ...\n",
    "\n",
    "Authors:\n",
    "* David Castaño ([Scbi-UMA](https://www.scbi.uma.es/site/))\n",
    "* ...\n",
    "\n",
    "$ \\newcommand{\\bra}[1]{\\langle #1|} $\n",
    "$ \\newcommand{\\ket}[1]{|#1\\rangle} $\n",
    "$ \\newcommand{\\braket}[2]{\\langle #1|#2\\rangle} $\n",
    "$ \\newcommand{\\i}{{\\color{blue} i}} $ \n",
    "$ \\newcommand{\\Hil}{{\\cal H}} $\n",
    "$ \\newcommand{\\cg}[1]{{\\rm C}#1} $"
   ]
  },
  {
   "cell_type": "markdown",
   "id": "356da655",
   "metadata": {},
   "source": [
    "# Algoritmo de Grover"
   ]
  },
  {
   "cell_type": "markdown",
   "id": "8bfc9c32",
   "metadata": {
    "slideshow": {
     "slide_type": "skip"
    }
   },
   "source": [
    "## Índice\n",
    "\n",
    "- [Una aguja en un pajar](#aguja)\n",
    "- [Una aguja en un pajar 2](#aguja_2)\n",
    "- [Más agujas en un pajar](#agujas)\n",
    "- [Contaje cuántico](#contcuan)\n",
    "\n"
   ]
  },
  {
   "cell_type": "code",
   "execution_count": 1,
   "id": "2b0c0215",
   "metadata": {
    "slideshow": {
     "slide_type": "slide"
    }
   },
   "outputs": [],
   "source": [
    "%run ../macro_tQ.py"
   ]
  },
  {
   "cell_type": "markdown",
   "id": "e936014f",
   "metadata": {
    "slideshow": {
     "slide_type": "slide"
    }
   },
   "source": [
    "<a id='aguja'></a>\n",
    "## Sección 1\n",
    "  "
   ]
  },
  {
   "cell_type": "markdown",
   "id": "f5976641-8423-4a4c-8f3f-f15e63114eb3",
   "metadata": {},
   "source": [
    "<div class=\"alert alert-block alert-info\">\n",
    "<p style=\"color: navy;\">\n",
    "<b>Definición/Teorema/Lema</b>: <i>subtitulo del Teorema/lema/definición</i>\n",
    "<br>\n",
    "Plantilla de Teorema, Lema o definición.\n",
    "<br> \n",
    "Debe de quedar una de las tres palabras del título: Definición, Teorema o Lema\n",
    "<br>   \n",
    "La demostración/prueba/... es opcional. Puede borrarse todo el texto de a continuación, dejando el div del final!!! (la última linea)\n",
    "</p>\n",
    "    \n",
    "<details><summary> >> <i>Demostración/Prueba/...</i> </summary>\n",
    "\n",
    "TEXTO AQUÍ\n",
    "    \n",
    "</details>\n",
    "</div>\n",
    "\n",
    "Mas texto"
   ]
  },
  {
   "cell_type": "markdown",
   "id": "3d5e9030-1173-429e-acbd-c1156e9b68da",
   "metadata": {},
   "source": [
    "<div class=\"alert alert-block alert-danger\">\n",
    "<p style=\"color: DarkRed;\">\n",
    "<b>Nota</b>: <i>Subtitulo de la nota</i>\n",
    "<br>     \n",
    "Plantilla de Nota\n",
    "<br>    \n",
    "El titulo debe de ser Nota\n",
    "<br> \n",
    "La demostración/prueba/... es opcional. Puede borrarse todo el texto de a continuación, dejando el div del final!!! (la última linea)\n",
    "</p>\n",
    "<details><summary> >> <i>Demostración/Prueba/...</i> </summary>\n",
    "\n",
    "TEXTO AQUÍ\n",
    "    \n",
    "</details>\n",
    "</div>"
   ]
  },
  {
   "cell_type": "markdown",
   "id": "fd7aedf1-00c3-4863-9eac-9d34bec3a4ba",
   "metadata": {},
   "source": [
    "<div class=\"alert alert-block alert-success\">\n",
    "<p style=\"color: DarkGreen;\">\n",
    "<b>Ejercicio/Ejemplo</b>: <i>Subtitulo del ejercicio/ejemplo</i>\n",
    "<br>        \n",
    "Plantilla de Ejercicios y Ejemplos\n",
    "<br>     \n",
    "Debe de quedar una de las dos palabras del título: Ejercicio o Ejemplo\n",
    "<br> \n",
    "La solución/pista/... es opcional. Puede borrarse todo el texto de a continuación, dejando el div del final!!! (la última linea)\n",
    "<br> \n",
    "</p>\n",
    "<details><summary> >> <i>Solución/Pista/...</i> </summary>\n",
    "\n",
    "TEXTO AQUÍ\n",
    "    \n",
    "</details>\n",
    "</div>"
   ]
  },
  {
   "cell_type": "markdown",
   "id": "22db6072-31e4-4978-b944-f91340ebc007",
   "metadata": {},
   "source": [
    "<a id='aguja_2'></a>\n",
    "## Otra sección"
   ]
  },
  {
   "cell_type": "markdown",
   "id": "b34b022f-bcb7-4836-be17-55f51a8291f8",
   "metadata": {},
   "source": [
    "<div class=\"alert alert-block alert-info\"><p style=\"text-align:left ;color: navy;\">  \n",
    "<b> Lema</b>:\n",
    "<br>    \n",
    "El cúbit $\\ket{u}$  <i> más general</i> se puede representar, en la base computacional $\\{\\ket{0},\\ket{1}\\}$, usando dos números reales (ángulos) $\\theta\\in [0,\\pi)$ y $\\varphi\\in [0,2\\pi)$   \n",
    "<br>\n",
    "<br>\n",
    "$$\n",
    "|u\\rangle = \\cos{\\frac{\\theta}{2}}\\, |0\\rangle + e^{i\\phi}\\sin{\\frac{\\theta}{2}}\\,|1\\rangle \n",
    "$$\n",
    "</p>\n",
    "    \n",
    "<details><summary> >> <i>Demostración</i> </summary>\n",
    "Para demostrar el lema escribimos un vector de estado general usando la representación polar para las componentes complejas\n",
    "    \n",
    "$$\n",
    "\\begin{array}{rcl}\n",
    "\\ket{u} &=& u_0\\ket{0} + u_1\\ket{1} \\\\\n",
    "&=& a_0 e^{i b_0}\\ket{0} + a_1 e^{ib_1}\\ket{1}\\\\\n",
    "&=& e^{i b_0}\\big(a_0 \\ket{0} + a_1 e^{i(b_1-b_0)}\\ket{1}\\big)\\\\\n",
    "&\\sim & \\big( a_0 \\ket{0} + a_1 e^{i(b_1-b_0)}\\ket{1} \\big)\n",
    "\\end{array}\n",
    "$$\n",
    "    \n",
    "donde hemos hecho uso de la irrelevancia de una fase global para descartar $e^{i b_0}$ en la última línea.\n",
    "\n",
    "Ahora $a_1$ y $a_0$ no son números independientes sino que verifican $a_0^2 + a_1^2 = 0$ para que $\\|\\ket{u}\\|=1$.\n",
    "Esta ecuación se puede resolver en términos de un ángulo $\\theta/2$ tal que\n",
    "$$\n",
    "a_0 = \\cos\\frac{\\theta}{2}~~~,~~~ a_1 = \\sin\\frac{\\theta}{2} \n",
    "$$\n",
    "Por su parte, de los números $b_1, b_2$ sólo la diferencia\n",
    "$$\n",
    "\\varphi = b_1-b_2\n",
    "$$\n",
    "es relevante para especificar $\\ket{u}$.   \n",
    "</details>\n",
    "</div> "
   ]
  },
  {
   "cell_type": "markdown",
   "id": "f8573d57-0d45-4467-b529-ed81f10326d4",
   "metadata": {},
   "source": [
    "<div class=\"alert alert-block alert-info\"><p style=\"text-align:left ;color: navy;\">  \n",
    "<b> Teorema</b>: <i>subtitulo del teorema</i>\n",
    "<br>    \n",
    "El cúbit $\\ket{u}$  <i> más general</i> se puede representar, en la base computacional $\\{\\ket{0},\\ket{1}\\}$, usando dos números reales (ángulos) $\\theta\\in [0,\\pi)$ y $\\varphi\\in [0,2\\pi)$   \n",
    "<br>\n",
    "<br>\n",
    "$$\n",
    "|u\\rangle = \\cos{\\frac{\\theta}{2}}\\, |0\\rangle + e^{i\\phi}\\sin{\\frac{\\theta}{2}}\\,|1\\rangle \n",
    "$$\n",
    "\n",
    "<details><summary><p style=\"text-align:left\"> >> <i>Demostración</i> </p></summary>\n",
    "Para demostrar el lema escribimos un vector de estado general usando la representación polar para las componentes complejas\n",
    "    \n",
    "$$\n",
    "\\begin{array}{rcl}\n",
    "\\ket{u} &=& u_0\\ket{0} + u_1\\ket{1} \\\\\n",
    "&=& a_0 e^{i b_0}\\ket{0} + a_1 e^{ib_1}\\ket{1}\\\\\n",
    "&=& e^{i b_0}\\big(a_0 \\ket{0} + a_1 e^{i(b_1-b_0)}\\ket{1}\\big)\\\\\n",
    "&\\sim & \\big( a_0 \\ket{0} + a_1 e^{i(b_1-b_0)}\\ket{1} \\big)\n",
    "\\end{array}\n",
    "$$\n",
    "    \n",
    "donde hemos hecho uso de la irrelevancia de una fase global para descartar $e^{i b_0}$ en la última línea.\n",
    "\n",
    "Ahora $a_1$ y $a_0$ no son números independientes sino que verifican $a_0^2 + a_1^2 = 0$ para que $\\|\\ket{u}\\|=1$.\n",
    "Esta ecuación se puede resolver en términos de un ángulo $\\theta/2$ tal que\n",
    "$$\n",
    "a_0 = \\cos\\frac{\\theta}{2}~~~,~~~ a_1 = \\sin\\frac{\\theta}{2} \n",
    "$$\n",
    "Por su parte, de los números $b_1, b_2$ sólo la diferencia\n",
    "$$\n",
    "\\varphi = b_1-b_2\n",
    "$$\n",
    "es relevante para especificar $\\ket{u}$.   \n",
    "</details>\n",
    "</p></div> "
   ]
  },
  {
   "cell_type": "markdown",
   "id": "c024b41a-94ed-4b1b-9a08-57f53d6e9dbc",
   "metadata": {},
   "source": [
    "<div class=\"alert alert-block alert-info\"><p style=\"text-align:left ;color: navy;\">  \n",
    "<b> Definición</b>:\n",
    "<br>    \n",
    "El cúbit $\\ket{u}$  <i> más general</i> se puede representar, en la base computacional $\\{\\ket{0},\\ket{1}\\}$, usando dos números reales (ángulos) $\\theta\\in [0,\\pi)$ y $\\varphi\\in [0,2\\pi)$   \n",
    "<br>\n",
    "<br>\n",
    "$$\n",
    "|u\\rangle = \\cos{\\frac{\\theta}{2}}\\, |0\\rangle + e^{i\\phi}\\sin{\\frac{\\theta}{2}}\\,|1\\rangle \n",
    "$$\n",
    "\n",
    "<details><summary><p style=\"text-align:left\"> >> <i>Demostración</i> </p></summary>\n",
    "Para demostrar el lema escribimos un vector de estado general usando la representación polar para las componentes complejas\n",
    "    \n",
    "$$\n",
    "\\begin{array}{rcl}\n",
    "\\ket{u} &=& u_0\\ket{0} + u_1\\ket{1} \\\\\n",
    "&=& a_0 e^{i b_0}\\ket{0} + a_1 e^{ib_1}\\ket{1}\\\\\n",
    "&=& e^{i b_0}\\big(a_0 \\ket{0} + a_1 e^{i(b_1-b_0)}\\ket{1}\\big)\\\\\n",
    "&\\sim & \\big( a_0 \\ket{0} + a_1 e^{i(b_1-b_0)}\\ket{1} \\big)\n",
    "\\end{array}\n",
    "$$\n",
    "    \n",
    "donde hemos hecho uso de la irrelevancia de una fase global para descartar $e^{i b_0}$ en la última línea.\n",
    "\n",
    "Ahora $a_1$ y $a_0$ no son números independientes sino que verifican $a_0^2 + a_1^2 = 0$ para que $\\|\\ket{u}\\|=1$.\n",
    "Esta ecuación se puede resolver en términos de un ángulo $\\theta/2$ tal que\n",
    "$$\n",
    "a_0 = \\cos\\frac{\\theta}{2}~~~,~~~ a_1 = \\sin\\frac{\\theta}{2} \n",
    "$$\n",
    "Por su parte, de los números $b_1, b_2$ sólo la diferencia\n",
    "$$\n",
    "\\varphi = b_1-b_2\n",
    "$$\n",
    "es relevante para especificar $\\ket{u}$.   \n",
    "</details>\n",
    "</p></div> "
   ]
  },
  {
   "cell_type": "markdown",
   "id": "244c1fa7",
   "metadata": {
    "slideshow": {
     "slide_type": "skip"
    }
   },
   "source": [
    "<div class=\"alert alert-block alert-danger\">\n",
    "<b>Nota</b>: \n",
    "\n",
    "-  el ángulo disminuye con el tamaño $N$ de la base de datos. Este ángulo es la amplitud de probabilidad de encontrar la solución $w$ después de una medida de $\\ket{s}$.\n",
    "    \n",
    "- Para $N\\to \\infty$ tenemos que $\\theta \\sim 1/\\sqrt{N}$\n",
    "</div>"
   ]
  },
  {
   "cell_type": "markdown",
   "id": "0456ca29",
   "metadata": {},
   "source": [
    "<div class=\"alert alert-block alert-danger\">\n",
    "<b>Nota</b>: <i>Subtitulo de la nota</i>\n",
    "\n",
    "-  el ángulo disminuye con el tamaño $N$ de la base de datos. Este ángulo es la amplitud de probabilidad de encontrar la solución $w$ después de una medida de $\\ket{s}$.\n",
    "    \n",
    "- Para $N\\to \\infty$ tenemos que $\\theta \\sim 1/\\sqrt{N}$\n",
    "</div>"
   ]
  },
  {
   "cell_type": "markdown",
   "id": "b97ec3c7-919e-485c-8b37-1eee93517a99",
   "metadata": {},
   "source": [
    "<div class=\"alert alert-block alert-success\">\n",
    "<b> Ejercicio: </b> \n",
    "\n",
    "Prueba esta igualdad   \n",
    "</div>\n",
    "\n",
    "Mas texto"
   ]
  },
  {
   "cell_type": "markdown",
   "id": "da887b3c-ecc1-4c98-8af9-e52556da3ed3",
   "metadata": {
    "slideshow": {
     "slide_type": ""
    },
    "tags": []
   },
   "source": [
    "<div class=\"alert alert-block alert-success\">\n",
    "<b> Ejercicio: </b> \n",
    "prueba esta igualdad\n",
    "\n",
    "<details><summary><p style=\"text-align:left\"> >> <i>Solución</i></p></summary>\n",
    "Para demostrar el lema escribimos un vector de estado general usando la representación polar para las componentes complejas\n",
    "    \n",
    "TEXTO\n",
    "\n",
    "</details>\n",
    "</div>"
   ]
  },
  {
   "cell_type": "markdown",
   "id": "9ee7acf8-4e1b-4e3f-abeb-10f302455789",
   "metadata": {
    "slideshow": {
     "slide_type": ""
    },
    "tags": []
   },
   "source": [
    "<div class=\"alert alert-block alert-info\">\n",
    "<p style=\"text-align: center;\"> <p style=\"text-align: left ;color: navy;\">  \n",
    "<b> Lema:</b>\n",
    "<br>\n",
    "Sea $\\ket{\\psi}$ un vector <i>preparable</i> en la forma  $\\ket{\\psi} = V\\ket{0}$. El reflector paralelo a $\\ket{\\psi}$ es\n",
    "<br>\n",
    "<br>\n",
    "$$\n",
    "R_\\psi = I - 2\\ket{\\psi}\\bra{\\psi} = V \\left( I - 2\\ket{0}\\bra{0}\\rule{0mm}{6mm} \\right) V^\\dagger = V R_0 V^\\dagger\n",
    "$$\n",
    "</div>"
   ]
  },
  {
   "cell_type": "code",
   "execution_count": 2,
   "id": "c85b555b-f0d5-451f-8725-9c66b54f0276",
   "metadata": {
    "slideshow": {
     "slide_type": ""
    },
    "tags": []
   },
   "outputs": [],
   "source": [
    "import numpy\n",
    "import matplotlib\n",
    "from qiskit import QuantumRegister, ClassicalRegister,QuantumCircuit\n",
    "from qibo import callbacks, gates, models, hamiltonians"
   ]
  },
  {
   "cell_type": "code",
   "execution_count": 3,
   "id": "dd636ff9",
   "metadata": {
    "slideshow": {
     "slide_type": ""
    }
   },
   "outputs": [
    {
     "data": {
      "image/png": "[encoded data removed]",
      "text/plain": [
       "<Figure size 185.453x117.056 with 1 Axes>"
      ]
     },
     "execution_count": 3,
     "metadata": {},
     "output_type": "execute_result"
    }
   ],
   "source": [
    "'''Qiskit_code_cell'''\n",
    "\n",
    "qc1 = QuantumCircuit(1)\n",
    "qc1.x(0)\n",
    "qc1.draw('mpl', style=\"iqp\")"
   ]
  },
  {
   "cell_type": "code",
   "execution_count": 4,
   "id": "3e9db9b1",
   "metadata": {
    "slideshow": {
     "slide_type": ""
    }
   },
   "outputs": [
    {
     "name": "stdout",
     "output_type": "stream",
     "text": [
      "q0: ─X─\n"
     ]
    }
   ],
   "source": [
    "'''Qibo_code_cell'''\n",
    "\n",
    "circuit = models.Circuit(1)\n",
    "circuit.add(gates.X(0))\n",
    "print(circuit.draw())"
   ]
  },
  {
   "cell_type": "code",
   "execution_count": 5,
   "id": "19c75f3c",
   "metadata": {},
   "outputs": [
    {
     "data": {
      "image/png": "[encoded data removed]",
      "text/plain": [
       "<Figure size 185.453x117.056 with 1 Axes>"
      ]
     },
     "execution_count": 5,
     "metadata": {},
     "output_type": "execute_result"
    }
   ],
   "source": [
    "'''Qiskit_code_cell'''\n",
    "from qiskit import QuantumRegister, ClassicalRegister,QuantumCircuit\n",
    "\n",
    "qc1 = QuantumCircuit(1)\n",
    "qc1.h(0)\n",
    "qc1.draw('mpl', style=\"iqp\")"
   ]
  },
  {
   "cell_type": "code",
   "execution_count": 6,
   "id": "2a2487b3",
   "metadata": {},
   "outputs": [
    {
     "name": "stdout",
     "output_type": "stream",
     "text": [
      "q0: ─H─\n"
     ]
    }
   ],
   "source": [
    "'''Qibo_code_cell'''\n",
    "from qibo import callbacks, gates, models, hamiltonians\n",
    "circuit = models.Circuit(1)\n",
    "circuit.add(gates.H(0))\n",
    "print(circuit.draw())"
   ]
  },
  {
   "cell_type": "code",
   "execution_count": 7,
   "id": "e1592385-329c-41a2-97b5-b4105b5467bc",
   "metadata": {
    "slideshow": {
     "slide_type": ""
    },
    "tags": []
   },
   "outputs": [
    {
     "name": "stdout",
     "output_type": "stream",
     "text": [
      "Hola mundo\n"
     ]
    }
   ],
   "source": [
    "import pandas\n",
    "print(\"Hola mundo\")"
   ]
  },
  {
   "cell_type": "markdown",
   "id": "e954d422",
   "metadata": {
    "slideshow": {
     "slide_type": "slide"
    }
   },
   "source": [
    "<figure><center>\n",
    "<img src=./figuras/Grover1.png align=center width='1000px'/>\n",
    "</center></figure>"
   ]
  },
  {
   "cell_type": "code",
   "execution_count": 8,
   "id": "06020458",
   "metadata": {},
   "outputs": [
    {
     "data": {
      "image/png": "[encoded data removed]",
      "text/plain": [
       "<Figure size 203.683x200.667 with 1 Axes>"
      ]
     },
     "execution_count": 8,
     "metadata": {},
     "output_type": "execute_result"
    }
   ],
   "source": [
    "'''Qiskit_code_cell'''\n",
    "qc2 = QuantumCircuit(2)\n",
    "qc2.h(0)\n",
    "qc2.x(1)\n",
    "qc2.draw('mpl', style=\"iqp\")"
   ]
  },
  {
   "cell_type": "code",
   "execution_count": 9,
   "id": "7e0e3cda",
   "metadata": {},
   "outputs": [
    {
     "name": "stdout",
     "output_type": "stream",
     "text": [
      "q0: ─H─\n",
      "q1: ─X─\n"
     ]
    }
   ],
   "source": [
    "'''Qibo_code_cell'''\n",
    "circuit = models.Circuit(2)\n",
    "circuit.add(gates.H(0))\n",
    "circuit.add(gates.X(1))\n",
    "print(circuit.draw())"
   ]
  },
  {
   "cell_type": "markdown",
   "id": "46f72406",
   "metadata": {
    "slideshow": {
     "slide_type": "slide"
    }
   },
   "source": [
    "La estrategia se basa en iterar una serie de operaciones que amplifiquen la amplitud de obtener el estado $\\ket{w}$.\n",
    "\n",
    "\n",
    "Geométricamente, cada *iteración de Grover* es una composición de dos [*reflectores*](../00_Formalismo/01_Operadores.ipynb#reflect) $~\n",
    "\\fbox{$G = R_{s_\\perp} R_w$}\n",
    "~$, donde\n",
    "\n",
    "$\\boxed{G = R_{s_\\perp} R_w}$\n",
    "\n",
    "<br>\n",
    "-  **el marcador**, $R_w$, produce una reflexión en la dirección *paralela* a  $\\ket{w}$\n",
    "\n",
    "$$\n",
    "R_w\\ket{s} ~=~ \\left( I - 2\\ket{w}\\bra{w}\\rule{0mm}{8mm}\\right)\\ket{s} ~ = ~ -\\frac{1}{\\sqrt{N}} \\ket{w} + \\sqrt{\\frac{N-1}{N}} \\ket{s^\\prime}\n",
    "$$\n",
    "\n",
    "<figure>\n",
    "<a id='fig_ref_2'></a>\n",
    "<img src=\"./figuras/Grover1.png\" align=center width='300px'/>\n",
    "    <center>Pie de foto de la figura</center>\n",
    "</figure>\n",
    "\n",
    "\n",
    "La estrategia se basa en iterar una serie de operaciones que amplifiquen la amplitud de obtener el estado $\\ket{w}$.\n",
    "\n",
    "\n",
    "Geométricamente, cada *iteración de Grover* es una composición de dos [*reflectores*](../00_Formalismo/01_Operadores.ipynb#reflect) $~\n",
    "\\fbox{$G = R_{s_\\perp} R_w$}\n",
    "~$, donde\n",
    "\n",
    "$\\boxed{G = R_{s_\\perp} R_w}$\n",
    "\n",
    "<br>\n",
    "-  **el marcador**, $R_w$, produce una reflexión en la dirección *paralela* a  $\\ket{w}$\n",
    "\n",
    "$$\n",
    "R_w\\ket{s} ~=~ \\left( I - 2\\ket{w}\\bra{w}\\rule{0mm}{8mm}\\right)\\ket{s} ~ = ~ -\\frac{1}{\\sqrt{N}} \\ket{w} + \\sqrt{\\frac{N-1}{N}} \\ket{s^\\prime}\n",
    "$$"
   ]
  },
  {
   "cell_type": "markdown",
   "id": "798c006f",
   "metadata": {
    "slideshow": {
     "slide_type": "slide"
    }
   },
   "source": [
    "## Amplificación de amplitud"
   ]
  },
  {
   "cell_type": "markdown",
   "id": "d9e8c6c0",
   "metadata": {
    "slideshow": {
     "slide_type": "slide"
    }
   },
   "source": [
    "<center> \n",
    "<img src=\"./figuras/Grover2.png\" width='50%' style='margin:automatic'/>\n",
    "</center>\n"
   ]
  },
  {
   "cell_type": "markdown",
   "id": "5c61e1bb",
   "metadata": {},
   "source": [
    "Referenciamos la [figura](#fig_ref)"
   ]
  },
  {
   "cell_type": "markdown",
   "id": "7c36c090",
   "metadata": {
    "slideshow": {
     "slide_type": "slide"
    }
   },
   "source": [
    "<div class=\"alert alert-block alert-danger\">\n",
    "    <b>Nota</b>:\n",
    "$\\bullet$\n",
    "El marcador es la parte del algoritmo que <i>conoce</i> la solución. \n",
    "<br> \n",
    "    Podemos formalizar el <i>marcador</i> como la <i>consulta al oráculo</i> $O_f$ asociado a una función que  <i>reconoce</i> la solución cuando la ve\n",
    "<br>\n",
    "<br>\n",
    "\\begin{equation}\n",
    "f_w(x) = \\left\\{ \\begin{array}{lcc}\n",
    "             1 &   \\hbox{si}  & x = w \\\\\n",
    "              0 &  \\hbox{si} & x \\neq w \\end{array}\n",
    "   \\right..\n",
    "\\end{equation}\n",
    "    \n",
    "$\\bullet$  Al igual que cuando buscas una aguja en un pajar, saber cómo es una aguja no te ayuda a encontrarla,  si te encuentras con ella, reconocerla es una operacion de coste unidad. \n",
    "<br>\n",
    "<br>\n",
    "    \n",
    "$\\bullet$ La implementación de esta función es trivial porque sólo contiene un <i>min-term</i> $f_w(x=w)=1$. Podemos\n",
    "    implementar esta función como un <i>oráculo de fase</i>, preparando la ancilla en el estado $\\ket{-}$\n",
    "$$\n",
    "O_f \\ket{x}\\ket{-} = (-1)^{f_w(x)}\\ket{x}\\ket{-} ~= ~ \\left\\{ \\begin{array}{lcc}\n",
    "             -\\ket{x}\\ket{-} &   \\hbox{si}  & x = w \\\\ \\rule{0mm}{6mm}\n",
    "              \\, ~~\\ket{x}\\ket{-} &  \\hbox{si} & x \\neq w \\end{array}\n",
    "   \\right..\n",
    "$$\n",
    "\n",
    "En resumen cada reflexión $U_w$ es equivalente a una consulta al oráculo.\n",
    "    \n",
    "</b>\n",
    "</div>"
   ]
  },
  {
   "cell_type": "markdown",
   "id": "f1ffd2a6",
   "metadata": {
    "slideshow": {
     "slide_type": "fragment"
    }
   },
   "source": [
    "- este hecho no depende de cómo sea $\\ket{s}$, por tanto: es cierto *para cada iteración* $G$ de Grover.\n",
    "\n",
    "<details><summary><p style=\"color:blue\"> >> <i> Demostración </i></p></summary>\n",
    "    \n",
    "La demostración consiste en relacionar los vectores resultantes de aplicar el operador de Grover $k$  y $k-1$ veces\n",
    "En general tendremos que \n",
    "\n",
    "$$\n",
    "G^k\\ket{s}  = a_k\\ket{w} + b_k \\ket{s^\\prime}\n",
    "$$\n",
    "\n",
    "para ciertos coeficientes $a_k, b_k$. Ahora operamos\n",
    "\n",
    "\\begin{eqnarray}\n",
    "G^k\\ket{s} & = &a_k\\ket{w} + b_k \\ket{s^\\prime} \\\\\n",
    "&=& -U_sU_w\\left(a_{k-1}\\ket{w} + b_{k-1} \\ket{s^\\prime}\\right) \\\\\n",
    "&=& \\left( 2 \\ket{s}\\bra{s} -I \\right)\\left(-a_{k-1}\\ket{w} + b_{k-1}\\ket{s^\\prime}\\right)\\\\\n",
    "&=& \\left(a_{k-1}\\ket{w} - b_{k-1}\\ket{s^\\prime}\\right) + 2\\ket{s} \\left(-a_{k-1}\\braket{s}{w}+b_{k-1}\\braket{s}{s^\\prime}\\right) \\\\\n",
    "&=& a_{k-1}\\ket{w} - b_{k-1}\\ket{s^\\prime} + 2\\left(\\frac{1}{\\sqrt{N}}\\ket{w} + \\sqrt{\\frac{N-1}{N}}\\ket{s^\\prime}\\right) \\left(-a_{k-1}\\frac{1}{\\sqrt{N}}+b_{k-1}\\sqrt{\\frac{N-1}{N}}\\right) \\\\\n",
    "&=&\\left(a_{k-1} - \\frac{2}{N} a_{k-1} + 2\\frac{\\sqrt{N-1}}{N}\\right)\\ket{w} + \\left(b_{k-1} - 2\\frac{\\sqrt{N-1}}{N}a_{k-1} + 2\\frac{N-1}{N}b_{k-1}\\right)\\ket{s^\\prime}.\n",
    "\\end{eqnarray}\n",
    "    \n",
    "Agrupando términos, esta ecuación se puede escribir en forma matricial como\n",
    "\n",
    "$$\n",
    "\\begin{bmatrix}\n",
    "a_k\\\\\n",
    "b_k\n",
    "\\end{bmatrix}\n",
    "=\n",
    "\\begin{bmatrix}\n",
    "\\frac{N-2}{N} & 2\\frac{\\sqrt{N-1}}{N}\\\\\n",
    "-2\\frac{\\sqrt{N-1}}{N} & \\frac{N-2}{N}\n",
    "\\end{bmatrix}\n",
    "\\begin{bmatrix}\n",
    "a_{k-1}\\\\\n",
    "b_{k-1}\n",
    "\\end{bmatrix}.\n",
    "$$\n",
    "    \n",
    "Es sencillo ver que esta matriz tiene determinante unidad, es decir, ha de ser una matriz de rotación\n",
    "    \n",
    "$$\\text{det}(G)=\\frac{\\left(N-2\\right)^2}{N^2} + 4\\frac{N-1}{N^2} = \\frac{N^2 - 4N + 4}{N^2} + \\frac{4N-4}{N^2} = 1$$\n",
    "    \n",
    "Recordando\n",
    "    \n",
    "$$\\sin{\\theta} = \\frac{1}{\\sqrt{N}}~~~\\Rightarrow ~~~\\cos{\\theta} = \\sqrt{\\frac{N-1}{N}} $$\n",
    "\n",
    "$$\\cos^2{\\theta} - \\sin^2{\\theta} = \\frac{N-2}{N} = \\cos{2\\theta}$$\n",
    "    \n",
    "$$2\\sin{\\theta}\\cos{\\theta} =2\\frac{\\sqrt{N-2}}{N}= \\sin{2\\theta}$$\n",
    "    \n",
    "se llega a\n",
    "    \n",
    "$$G=\\begin{bmatrix}\n",
    "\\cos{2\\theta} & \\sin{2\\theta}\\\\\n",
    "-\\sin{2\\theta} & \\cos{2\\theta}\n",
    "\\end{bmatrix}$$\n",
    "\n",
    "Esta es una matriz de rotación que gira un ángulo $2\\theta$ en sentido antihorario. Es elementar comprobar que\n",
    "\n",
    "$$\n",
    "G^2  = \\begin{bmatrix}\n",
    "\\cos{4\\theta} & \\sin{4\\theta}\\\\\n",
    "-\\sin{4\\theta} & \\cos{4\\theta} \n",
    "\\end{bmatrix}\n",
    "\\hspace{1cm}... \\hspace{1cm}\n",
    "G^k = \\begin{bmatrix}\n",
    "\\cos{2k\\theta} & \\sin{2k\\theta}\\\\\n",
    "-\\sin{2k\\theta} & \\cos{2k\\theta}\n",
    "\\end{bmatrix}\n",
    "$$\n",
    "</details>"
   ]
  },
  {
   "cell_type": "markdown",
   "id": "c108f2e5-3bad-47a4-97d7-cf342fa2073e",
   "metadata": {},
   "source": [
    "<details><summary><p style=\"color:blue\"> >> <i> Demostración </i></p></summary>\n",
    "    \n",
    "La demostración consiste en relacionar los vectores resultantes de aplicar el operador de Grover $k$  y $k-1$ veces\n",
    "En general tendremos que \n",
    "\n",
    "$$\n",
    "G^k\\ket{s}  = a_k\\ket{w} + b_k \\ket{s^\\prime}\n",
    "$$\n",
    "\n",
    "para ciertos coeficientes $a_k, b_k$. Ahora operamos\n",
    "\n",
    "\\begin{eqnarray}\n",
    "G^k\\ket{s} & = &a_k\\ket{w} + b_k \\ket{s^\\prime} \\\\\n",
    "&=& -U_sU_w\\left(a_{k-1}\\ket{w} + b_{k-1} \\ket{s^\\prime}\\right) \\\\\n",
    "&=& \\left( 2 \\ket{s}\\bra{s} -I \\right)\\left(-a_{k-1}\\ket{w} + b_{k-1}\\ket{s^\\prime}\\right)\\\\\n",
    "&=& \\left(a_{k-1}\\ket{w} - b_{k-1}\\ket{s^\\prime}\\right) + 2\\ket{s} \\left(-a_{k-1}\\braket{s}{w}+b_{k-1}\\braket{s}{s^\\prime}\\right) \\\\\n",
    "&=& a_{k-1}\\ket{w} - b_{k-1}\\ket{s^\\prime} + 2\\left(\\frac{1}{\\sqrt{N}}\\ket{w} + \\sqrt{\\frac{N-1}{N}}\\ket{s^\\prime}\\right) \\left(-a_{k-1}\\frac{1}{\\sqrt{N}}+b_{k-1}\\sqrt{\\frac{N-1}{N}}\\right) \\\\\n",
    "&=&\\left(a_{k-1} - \\frac{2}{N} a_{k-1} + 2\\frac{\\sqrt{N-1}}{N}\\right)\\ket{w} + \\left(b_{k-1} - 2\\frac{\\sqrt{N-1}}{N}a_{k-1} + 2\\frac{N-1}{N}b_{k-1}\\right)\\ket{s^\\prime}.\n",
    "\\end{eqnarray}\n",
    "    \n",
    "Agrupando términos, esta ecuación se puede escribir en forma matricial como\n",
    "\n",
    "$$\n",
    "\\begin{bmatrix}\n",
    "a_k\\\\\n",
    "b_k\n",
    "\\end{bmatrix}\n",
    "=\n",
    "\\begin{bmatrix}\n",
    "\\frac{N-2}{N} & 2\\frac{\\sqrt{N-1}}{N}\\\\\n",
    "-2\\frac{\\sqrt{N-1}}{N} & \\frac{N-2}{N}\n",
    "\\end{bmatrix}\n",
    "\\begin{bmatrix}\n",
    "a_{k-1}\\\\\n",
    "b_{k-1}\n",
    "\\end{bmatrix}.\n",
    "$$\n",
    "    \n",
    "Es sencillo ver que esta matriz tiene determinante unidad, es decir, ha de ser una matriz de rotación\n",
    "    \n",
    "$$\\text{det}(G)=\\frac{\\left(N-2\\right)^2}{N^2} + 4\\frac{N-1}{N^2} = \\frac{N^2 - 4N + 4}{N^2} + \\frac{4N-4}{N^2} = 1$$\n",
    "    \n",
    "Recordando\n",
    "    \n",
    "$$\\sin{\\theta} = \\frac{1}{\\sqrt{N}}~~~\\Rightarrow ~~~\\cos{\\theta} = \\sqrt{\\frac{N-1}{N}} $$\n",
    "\n",
    "$$\\cos^2{\\theta} - \\sin^2{\\theta} = \\frac{N-2}{N} = \\cos{2\\theta}$$\n",
    "    \n",
    "$$2\\sin{\\theta}\\cos{\\theta} =2\\frac{\\sqrt{N-2}}{N}= \\sin{2\\theta}$$\n",
    "    \n",
    "se llega a\n",
    "    \n",
    "$$G=\\begin{bmatrix}\n",
    "\\cos{2\\theta} & \\sin{2\\theta}\\\\\n",
    "-\\sin{2\\theta} & \\cos{2\\theta}\n",
    "\\end{bmatrix}$$\n",
    "\n",
    "Esta es una matriz de rotación que gira un ángulo $2\\theta$ en sentido antihorario. Es elementar comprobar que\n",
    "\n",
    "$$\n",
    "G^2  = \\begin{bmatrix}\n",
    "\\cos{4\\theta} & \\sin{4\\theta}\\\\\n",
    "-\\sin{4\\theta} & \\cos{4\\theta} \n",
    "\\end{bmatrix}\n",
    "\\hspace{1cm}... \\hspace{1cm}\n",
    "G^k = \\begin{bmatrix}\n",
    "\\cos{2k\\theta} & \\sin{2k\\theta}\\\\\n",
    "-\\sin{2k\\theta} & \\cos{2k\\theta}\n",
    "\\end{bmatrix}\n",
    "$$\n",
    "</details>\n",
    "\n",
    "mas texto"
   ]
  },
  {
   "cell_type": "markdown",
   "id": "6ace9e29-97b8-474d-81e1-ff5130c3e5b2",
   "metadata": {},
   "source": [
    "## Cuadro mal escrito !!!!!!"
   ]
  },
  {
   "cell_type": "markdown",
   "id": "55736752",
   "metadata": {
    "slideshow": {
     "slide_type": "slide"
    }
   },
   "source": [
    "<div class=\"alert alert-block alert-info\">\n",
    "<p style=\"text-align: center;\"> <p style=\"text-align: left ;color: navy;\">  \n",
    "<b> Lema:</b>\n",
    "<br>\n",
    "El siguiente circuito  implementa la acción del  <i>reflector</i> $R_0$ paralelo al estado $\\ket{0}$ es\n",
    "<br>\n",
    "<br>\n",
    "$$~~R_0 ~=~ I- 2\\ket{0}\\bra{0} ~=~ \\sum_{x\\neq 0}\\ket{x}\\bra{x}-\\ket{0}\\bra{0}$$    \n",
    "<br>\n",
    "<br>\n",
    "<center> \n",
    "<img src=\"./figuras/Reflection0.png\" width='20%' style='margin:automatic'/>\n",
    "</center>\n",
    "<br>\n",
    "<p style=\"text-align: center;\"> <p style=\"text-align: left ;color: navy;\"> \n",
    "donde la cadena $XZX$ puede situarse en cualquier cúbit, no necesariamente el último. \n",
    "</div>"
   ]
  },
  {
   "cell_type": "code",
   "execution_count": 10,
   "id": "22ae3d2e",
   "metadata": {
    "slideshow": {
     "slide_type": "slide"
    }
   },
   "outputs": [],
   "source": [
    "from qiskit.circuit.library import ZGate\n",
    "from qiskit import QuantumRegister, ClassicalRegister,QuantumCircuit\n",
    "\n",
    "def R0(n):    \n",
    "            \n",
    "    qr = QuantumRegister(n)\n",
    "    qc = QuantumCircuit(qr) \n",
    "    qc.x(n-1)\n",
    "    qc.append(ZGate().control(n-1,ctrl_state= 0),qr)\n",
    "    qc.x(n-1)\n",
    "    qcR0 =  qc.to_gate()\n",
    "    qcR0.name = 'R0'\n",
    "    return qcR0"
   ]
  },
  {
   "cell_type": "markdown",
   "id": "806f3916",
   "metadata": {},
   "source": [
    "<div class=\"alert alert-block alert-danger\">\n",
    "<b> Notar: </b> \n",
    "<br>\n",
    "¡no sabemos implementar  $-R_s$! $~$, sólo $R_s$. De modo que lo más cercano a la iteración de Grover que podemos conseguir es\n",
    "$\n",
    "\\Rightarrow  R_s R_w = - G \n",
    "$\n",
    "\n",
    "El signo menos, en apariencia es una fase global y no debería afectar a las probabilidades finales que son sus módulos al cuadrado. \n",
    "    \n",
    "De modo que, de momento, lo vamos a ignorar, pero mantenemos una nota de atención sobre este hecho.\n",
    "</div>"
   ]
  },
  {
   "cell_type": "code",
   "execution_count": null,
   "id": "f1a0c10d",
   "metadata": {},
   "outputs": [],
   "source": [
    "'''Qiskit_code_cell'''\n",
    "qc2 = QuantumCircuit(2)\n",
    "qc2.h(0)\n",
    "qc2.x(1)\n",
    "qc2.draw('mpl', style=\"iqp\")"
   ]
  },
  {
   "cell_type": "code",
   "execution_count": null,
   "id": "7d26db82",
   "metadata": {},
   "outputs": [],
   "source": [
    "'''Qibo_code_cell'''\n",
    "from qibo import callbacks, gates, models, hamiltonians\n",
    "circuit = models.Circuit(1)\n",
    "circuit.add(gates.X(0))\n",
    "print(circuit.draw())"
   ]
  },
  {
   "cell_type": "code",
   "execution_count": null,
   "id": "d14dd276",
   "metadata": {},
   "outputs": [],
   "source": [
    "import qiskit.tools.jupyter\n",
    "%qiskit_version_table"
   ]
  },
  {
   "cell_type": "markdown",
   "id": "4e3163f6",
   "metadata": {},
   "source": [
    "This work has been financially supported by the Ministry of Economic Affairs and Digital Transformation of the Spanish Government through the QUANTUM ENIA project call - Quantum Spain project, and by the European Union through the Recovery, Transformation and Resilience Plan - NextGenerationEU within the framework of the Digital Spain 2025 Agenda.\n",
    "\n",
    "<center>\n",
    "<div style=\"text-align:center\">\n",
    "<img align=\"left\" src=\"https://quantumspain-project.es/wp-content/uploads/2022/11/LOGOS-GOB_QS.png\" width=\"1000px\" />\n",
    "</div>\n",
    "</center>"
   ]
  }
 ],
 "metadata": {
  "celltoolbar": "Slideshow",
  "kernelspec": {
   "display_name": "Python 3 (ipykernel)",
   "language": "python",
   "name": "python3"
  },
  "language_info": {
   "codemirror_mode": {
    "name": "ipython",
    "version": 3
   },
   "file_extension": ".py",
   "mimetype": "text/x-python",
   "name": "python",
   "nbconvert_exporter": "python",
   "pygments_lexer": "ipython3",
   "version": "3.11.7"
  },
  "toc": {
   "base_numbering": 1,
   "nav_menu": {},
   "number_sections": false,
   "sideBar": true,
   "skip_h1_title": true,
   "title_cell": "Table of Contents",
   "title_sidebar": "Contents",
   "toc_cell": false,
   "toc_position": {},
   "toc_section_display": true,
   "toc_window_display": false
  },
  "varInspector": {
   "cols": {
    "lenName": 16,
    "lenType": 16,
    "lenVar": 40
   },
   "kernels_config": {
    "python": {
     "delete_cmd_postfix": "",
     "delete_cmd_prefix": "del ",
     "library": "var_list.py",
     "varRefreshCmd": "print(var_dic_list())"
    },
    "r": {
     "delete_cmd_postfix": ") ",
     "delete_cmd_prefix": "rm(",
     "library": "var_list.r",
     "varRefreshCmd": "cat(var_dic_list()) "
    }
   },
   "types_to_exclude": [
    "module",
    "function",
    "builtin_function_or_method",
    "instance",
    "_Feature"
   ],
   "window_display": false
  }
 },
 "nbformat": 4,
 "nbformat_minor": 5
}
