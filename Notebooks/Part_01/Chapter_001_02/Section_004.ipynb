{
 "cells": [
  {
   "cell_type": "markdown",
   "id": "8ddaeb38",
   "metadata": {},
   "source": [
    "<figure><center>\n",
    "<img   src=\"Figuras/Fig_logo_UMA_scbi.png\" align=center  width=\"2000px\"/>\n",
    "</center></figure>\n",
    "\n",
    "$ \\newcommand{\\bra}[1]{\\langle #1|} $\n",
    "$ \\newcommand{\\ket}[1]{|#1\\rangle} $\n",
    "$ \\newcommand{\\braket}[2]{\\langle #1|#2\\rangle} $\n",
    "$ \\newcommand{\\i}{{\\color{blue} i}} $ \n",
    "$ \\newcommand{\\Hil}{{\\cal H}} $\n",
    "$ \\newcommand{\\cg}[1]{{\\rm C}#1} $\n",
    "$ \\newcommand{\\lp}{\\left(} $\n",
    "$ \\newcommand{\\rp}{\\right)} $\n",
    "$ \\newcommand{\\lc}{\\left[} $\n",
    "$ \\newcommand{\\rc}{\\right]} $\n",
    "$ \\newcommand{\\lch}{\\left\\{} $\n",
    "$ \\newcommand{\\rch}{\\right\\}} $\n",
    "$ \\newcommand{\\Lp}{\\Bigl(} $\n",
    "$ \\newcommand{\\Rp}{\\Bigr)} $\n",
    "$ \\newcommand{\\Lc}{\\Bigl[} $\n",
    "$ \\newcommand{\\Rc}{\\Bigr]} $\n",
    "$ \\newcommand{\\Lch}{\\Bigl\\{} $\n",
    "$ \\newcommand{\\Rch}{\\Bigr\\}} $\n",
    "$ \\newcommand{\\rqa}{\\quad \\Rightarrow \\quad} $\n",
    "$ \\newcommand{\\bm}{\\boldsymbol}$"
   ]
  },
  {
   "cell_type": "markdown",
   "id": "080fe82e",
   "metadata": {},
   "source": [
    "# Tensores\n"
   ]
  },
  {
   "cell_type": "markdown",
   "id": "080fe82e",
   "metadata": {},
   "source": [
    "## Producto tensorial\n"
   ]
  },
  {
   "cell_type": "markdown",
   "id": "080fe82e",
   "metadata": {},
   "source": [
    "Llegados a este punto, un lector con ciertos conocimientos de Computación Cuántica podría plantearse la siguiente pregunta: ¿por qué durante toda la explicación anterior estamos tratando con espacios de Hilbert de dimensión arbitraria, si los qúbits tiene dimensión dos?\n"
   ]
  },
  {
   "cell_type": "markdown",
   "id": "080fe82e",
   "metadata": {},
   "source": [
    "Esto es muy sencillo de explicar. Con lo que vamos a trabajar no es con un solo qúbit, sino con un conjunto de qúbits. Cada qúbit vivirá en un espacio de Hilbelt de dimensión dos, pero el estado total del sistema de muchos qúbits vivirá en un espacio de dimensión mayor. Este espacio estará formado por el \\textbf{producto tensorial} de los espacios de Hilbert de cada qúbit.\n"
   ]
  },
  {
   "cell_type": "markdown",
   "id": "080fe82e",
   "metadata": {},
   "source": [
    "Es decir, el producto tensorial es una herramienta matemática que describe los \\textbf{sistemas compuestos} (en nuestro caso, sistemas compuestos por varios qúbits).\n"
   ]
  },
  {
   "cell_type": "markdown",
   "id": "080fe82e",
   "metadata": {},
   "source": [
    "### Definiciones\n"
   ]
  },
  {
   "cell_type": "markdown",
   "id": "080fe82e",
   "metadata": {},
   "source": [
    "\\Definicion{\n",
    "Dados dos vectores $\\ket{u}_1\\in \\mathcal{H}_1$ y  $\\ket{v}_2\\in \\mathcal{H}_2$, denominamos \\textbf{producto tensorial} al \\textbf{par ordenado}\n",
    "\\begin{equation}\n",
    "\\ket{uv} ~\\equiv \\ket{u}_1\\otimes \\ket{v}_2\n",
    "\\end{equation}\n",
    "}\n",
    "Este producto tensorial es \\textbf{bilineal}:\n",
    "\\begin{eqnarray*}\n",
    "\\big(\\ket{u}_1+\\ket{v}_1\\big)\\otimes \\big(\\ket{y}_2+\\ket{z}_2\\big) ~&\\equiv &\n",
    "\\ket{u}_1\\otimes\\ket{y}_2 ~+~ \\ket{u}_1\\otimes\\ket{z}_2 ~+~ \\ket{v}_1\\otimes\\ket{y}_2 ~+~~\n",
    "\\ket{v}_1\\otimes\\ket{z}_2 \\\\\n",
    "&=& \\ket{uy} + \\ket{uz} + \\ket{vy} + \\ket{vz}\n",
    "\\end{eqnarray*}\n"
   ]
  },
  {
   "cell_type": "markdown",
   "id": "080fe82e",
   "metadata": {},
   "source": [
    "Ahora viene la segunda definición clave:\n",
    "\\Definicion{\n",
    "El \\textbf{espacio producto tensorial}  $\\mathcal{H} = \\mathcal{H}_1 \\otimes \\mathcal{H}_2$ está formado por  \\textbf{todas} las combinaciones lineales posibles de  productos tensoriales\n",
    "\\begin{equation}\n",
    "\\ket{s}= a\\ket{u}_1\\otimes\\ket{u}_2 ~+~ b \\ket{v}_1\\otimes\\ket{v}_2 ~+ ~...\n",
    "\\end{equation}\n",
    "donde  $\\ket{u}_1,\\ket{v}_1,...\\in \\mathcal{H}_1\\, ~$ y $~\\, \\ket{u}_2,\\ket{v}_2,...\\in \\mathcal{H}~$,\n",
    "y $~a,b,... \\in {\\mathbb C}$ son coeficientes complejos.\n",
    "}\n"
   ]
  },
  {
   "cell_type": "markdown",
   "id": "080fe82e",
   "metadata": {},
   "source": [
    "<div class=\"alert alert-block alert-danger\">\n",
    "<p style=\"color: DarkRed;\">\n",
    "<b>Nota</b>:\n",
    "<br>\n"
   ]
  },
  {
   "cell_type": "markdown",
   "id": "080fe82e",
   "metadata": {},
   "source": [
    "- En el resto de esta lección nos restringiremos al caso de $\\mathcal{H}_1 = \\mathcal{H}_2$ y, por tanto, $d_1 = d_2 \\equiv d$, y  $\\mathcal{H}\\otimes \\mathcal{H} \\equiv \\mathcal{H}^{\\otimes 2}$\n",
    "- Prescindiremos del subíndice $\\ket{u}_1\\otimes \\ket{y}_2=\\ket{u}\\otimes \\ket{y} \\equiv \\ket{uy}$ que estará implícito en el orden.\n",
    "- Para computación cuántica con \\textit{qúbits (qúdits)}, el valor relevante es $d=2\\,(d\\geq 3)$.\n"
   ]
  },
  {
   "cell_type": "markdown",
   "id": "080fe82e",
   "metadata": {},
   "source": [
    "</p></div>\n"
   ]
  },
  {
   "cell_type": "markdown",
   "id": "080fe82e",
   "metadata": {},
   "source": [
    "### Base y dimension\n"
   ]
  },
  {
   "cell_type": "markdown",
   "id": "080fe82e",
   "metadata": {},
   "source": [
    "<div class=\"alert alert-block alert-info\">\n",
    "<p style=\"color: navy;\">\n",
    "Sea $\\ket{e_i}$ una base de $\\mathcal{H}$. Entonces, una base de $\\mathcal{H}\\otimes \\mathcal{H}=\\mathcal{H}^{\\otimes 2}$ se obtiene\n",
    "a partir de \\textit{todos} los emparejamientos\n",
    "\\begin{equation}\n",
    "\\ket{e_{ij}} = \\ket{e_i}\\otimes \\ket{e_j}~~~~~~~~~~~~~~~~~~ i,j=1....d\n",
    "\\end{equation}\n",
    "</p></div>\n"
   ]
  },
  {
   "cell_type": "markdown",
   "id": "080fe82e",
   "metadata": {},
   "source": [
    "- El número de parejas posibles es $d^2$, que coincide con la \\textbf{dimensión} de $\\mathcal{H}^{\\otimes 2}$.\n",
    "- Vemos que las etiquetas de los vectores de la base forman un \\textit{bi-índice} $ij=11,12,21,22,...$.\n",
    "- Un vector general se escribirá igualmente usando un bi-índice en lugar de un índice\n",
    "\\begin{equation}\n",
    "\\ket{\\omega} = \\sum_{i,j=1}^{d} w_{ij} \\ket{e_{ij}} ~=~\n",
    "w_{11}\\ket{e_{11}} + w_{12}\\ket{e_{12}} +\\ldots\n",
    "\\end{equation}\n",
    "donde $w_{ij}$ son $d^2$ componentes complejas.\n"
   ]
  },
  {
   "cell_type": "markdown",
   "id": "080fe82e",
   "metadata": {},
   "source": [
    "### Producto de Kronecker\n"
   ]
  },
  {
   "cell_type": "markdown",
   "id": "080fe82e",
   "metadata": {},
   "source": [
    "Como sabemos, cualquier vector admite, en una base, una representación como un vector columna con sus coeficientes como entradas. La matriz columna asociada $\\ket{uv}= \\ket{u}\\otimes \\ket{v}$ se forma a partir de las matrices columna de $\\ket{u}$ y $\\ket{v}$ mediante el denominado \\textbf{producto de Kronecker} o, también \\textit{producto tensorial}\n",
    "\\begin{equation}\n",
    "\\ket{uv} = \\ket{u}\\otimes \\ket{v} ~\\sim~\n",
    "\\begin{bmatrix}u_1\\\\ u_2 \\end{bmatrix}\\otimes \\begin{bmatrix}v_1\\\\ v_2 \\end{bmatrix} ~\\equiv ~\n",
    "\\begin{bmatrix}u_1 \\begin{bmatrix}v_1\\\\ v_2 \\end{bmatrix} \\\\ u_2 \\begin{bmatrix}v_1\\\\ v_2 \\end{bmatrix}  \\end{bmatrix}\n",
    "~=~\\begin{bmatrix}u_1v_1\\\\ u_1v_2 \\\\ u_2 v_1 \\\\ u_2 v_2  \\end{bmatrix}\n",
    "\\end{equation}\n"
   ]
  },
  {
   "cell_type": "markdown",
   "id": "080fe82e",
   "metadata": {},
   "source": [
    "\\begin{mybox_green}{Ejemplo}\n",
    "Con $d=2$ tendríamos $d^2 = 4$ elementos de la base de $\\mathcal{H}^{\\otimes 2}$\n",
    "$$\n",
    "\\ket{e_{11}}~=~ \\ket{e_{1}}\\otimes \\ket{e_{1}}~ \\sim~\n",
    "\\begin{bmatrix}1\\\\ 0\\end{bmatrix}\\begin{bmatrix}1\\\\ 0\\end{bmatrix} = \\begin{bmatrix}1\\\\0\\\\0 \\\\ 0\\end{bmatrix}\n",
    "~~~~~~,~~~~~\n",
    "\\ket{e_{12}}~=~ \\ket{e_{1}}\\otimes \\ket{e_{2}}~\\sim~\n",
    "\\begin{bmatrix}1\\\\ 0\\end{bmatrix}\\begin{bmatrix}0\\\\ 1\\end{bmatrix} = \\begin{bmatrix}0\\\\1\\\\0 \\\\ 0\\end{bmatrix}\n",
    "$$\n",
    "$$\n",
    "\\ket{e_{21}}~=~ \\ket{e_{2}}\\otimes \\ket{e_{1}}~\\sim~\n",
    "\\begin{bmatrix}0\\\\ 1\\end{bmatrix}\\begin{bmatrix}1\\\\ 0\\end{bmatrix} = \\begin{bmatrix}0\\\\0\\\\1 \\\\ 0\\end{bmatrix}\n",
    "~~~~~,~~~~\n",
    "\\ket{e_{22}}~=~ \\ket{e_{2}}\\otimes \\ket{e_{2}}~\\sim~\n",
    "\\begin{bmatrix}0\\\\ 1\\end{bmatrix}\\begin{bmatrix}0\\\\ 1\\end{bmatrix} = \\begin{bmatrix}0\\\\0\\\\0 \\\\ 1\\end{bmatrix}\n",
    "$$\n",
    "El \\textit{vector más general}  $\\ket{w}\\in \\mathcal{H}\\otimes\\mathcal{H}$ admitirá una representación de la forma\n",
    "$$\n",
    "\\ket{w} ~= ~ \\sum_{i,j=1}^2 w_{ij} \\ket{e_{ij}}=~ \\begin{bmatrix}w_{11}\\\\ w_{12}\\\\ w_{21} \\\\ w_{22}  \\end{bmatrix}  ~\n",
    "$$\n",
    "\\end{mybox_green}\n"
   ]
  },
  {
   "cell_type": "markdown",
   "id": "080fe82e",
   "metadata": {},
   "source": [
    "### Indexación equivalente\n"
   ]
  },
  {
   "cell_type": "markdown",
   "id": "080fe82e",
   "metadata": {},
   "source": [
    "Podemos etiquetar las componentes (o los elementos de la base) con índices. Para ello debemos definir un mapa  entre bi-índices $i,j=1,2~$ e índices $a=1,...,4$\n",
    "\\begin{equation}\n",
    "w_{ij} =\\begin{bmatrix} w_{11} \\\\ w_{12} \\\\ w_{21} \\\\ w_{22} \\end{bmatrix} ~~~\\longleftrightarrow ~~~\n",
    "w_a  = \\begin{bmatrix} w_1 \\\\ w_2 \\\\ w_3 \\\\ w_4 \\end{bmatrix} \\, ,\n",
    "\\end{equation}\n",
    "donde hemos querido resaltar que los vectores son los mismos, etiquetados de forma diferente. Haciendo lo mismo con los elementos de la base tenemmos que\n",
    "\\begin{equation}\n",
    "\\ket{w} ~= ~ \\sum_{i,j=1}^2 w_{ij} \\ket{e_{ij}} ~=~ \\sum_{a=1}^{4} w_{a} \\ket{e_{a}}\n",
    "\\end{equation}\n",
    "En el caso general, $i,j=1,...,d$ el mapa es $w_{ij}  \\to  w_a$ con\n",
    "\\begin{equation}\n",
    "a = d \\cdot (i-1) + j\n",
    "\\end{equation}\n"
   ]
  },
  {
   "cell_type": "markdown",
   "id": "080fe82e",
   "metadata": {},
   "source": [
    "## Factorización y entrelazamiento\n"
   ]
  },
  {
   "cell_type": "markdown",
   "id": "080fe82e",
   "metadata": {},
   "source": [
    "### Estado factorizable o entrelazado\n"
   ]
  },
  {
   "cell_type": "markdown",
   "id": "080fe82e",
   "metadata": {},
   "source": [
    "Llegamos a uno de los conceptos clave en Teoría Cuántica de la Información.\n",
    "\\Definicion{\n",
    "Decimos que, un vector $\\ket{w}\\in \\mathcal{H}\\otimes\\mathcal{H}$ es \\textbf{factorizable} cuando es posible encontrar vectores $\\ket{u},\\ket{v}\\in \\mathcal{H}$ tales que $ \\ket{w} = \\ket{u}\\otimes\\ket{v}$.\n",
    "\\vspace{0.3cm}\n"
   ]
  },
  {
   "cell_type": "markdown",
   "id": "080fe82e",
   "metadata": {},
   "source": [
    "Cuando esto no sea posible, decimos que  $\\ket{w}$ es un vector entrelazado.\n",
    "}\n"
   ]
  },
  {
   "cell_type": "markdown",
   "id": "080fe82e",
   "metadata": {},
   "source": [
    "Ya hemos visto que, dada una base $\\ket{e_i}$ de $\\mathcal{H}$, el vector más general que pertenece al espacio producto admite una descomposición\n",
    "$$\n",
    "\\ket{w} = \\sum_{i,j=1}^d w_{ij}\\ket{e_{i}}\\otimes \\ket{e_j} = w_{11}\\ket{e_1}\\otimes\\ket{e_1} + w_{12}\\ket{e_1}\\otimes\\ket{e_2} + ...\\, .\n",
    "$$\n",
    "Podría ocurrir que en otra base $\\ket{w} = \\tilde w_{11} \\ket{f_1}\\otimes\\ket{f_1}$ sólo tuviese un término y fuese factorizable. Discernir si un vector es factorizable o entrelazado no es algo que se pueda hacer a primera vista.\n"
   ]
  },
  {
   "cell_type": "markdown",
   "id": "080fe82e",
   "metadata": {},
   "source": [
    "### Criterio de factorización\n"
   ]
  },
  {
   "cell_type": "markdown",
   "id": "080fe82e",
   "metadata": {},
   "source": [
    "<div class=\"alert alert-block alert-info\">\n",
    "<p style=\"color: navy;\">\n",
    "El estado es $\\ket{w}$ es factorizable si y sólo si las componentes $w_{ij}$ son factorizables en la forma $w_{ij} = u_i v_j~$ con $i,j=1,...,d$.\n",
    "</p></div>\n",
    "<details><summary><p style=\"color:blue\" > >> <i>Demostración</i> </p></summary>\n",
    "$$\n",
    "\\ket{w}= \\sum_{i,j=1}^d w_{ij} \\ket{e_{ij}}  = \\sum_{i,j} u_{i}v_j \\ket{e_i}\\otimes \\ket{e_j}= \\sum_{i,j} u_{i} \\ket{e_i}\\otimes v_j\\ket{e_j}  ~ =~ \\sum_i u_i\\ket{e_i} \\otimes \\sum_j v_j\\ket{e_j} ~=~   \\ket{u}\\otimes \\ket{v}\n",
    "$$\n",
    "identidad que se puede leer en ambos sentidos\n",
    "</details>\n"
   ]
  },
  {
   "cell_type": "markdown",
   "id": "080fe82e",
   "metadata": {},
   "source": [
    "El carácter entrelazado de un vector es \\textit{genérico}, mientras que el carácter factorizable es \\textit{accidental}. Esto se sigue de un sencillo contaje:\n",
    "como función de $d$,  $\\{w_{ij}\\}$ forma un conjunto de $d^2$ parámetros complejos (grados de libertad). Sin embargo en $\\{u_i v_j\\}$ sólo hay $2d$ números independientes. Es evidente que $d^2>2d$.\n"
   ]
  },
  {
   "cell_type": "markdown",
   "id": "080fe82e",
   "metadata": {},
   "source": [
    "<div class=\"alert alert-block alert-danger\">\n",
    "<p style=\"color: DarkRed;\">\n",
    "<b>Nota</b>:\n",
    "<br>\n",
    "En el caso  $d=2$  la condición $w_{ij} = u_i v_j$ es \\textit{equivalente} a verificar\n",
    "la anulación del  determinante de la matriz $2\\times 2$ formada por las componentes\n",
    "$$\n",
    "\\det w_{ij} =  w_{11}w_{22}- w_{12}w_{21} = u_1v_1u_2v_2-u_1v_2u_2v_1=0\n",
    "$$\n",
    "</p></div>\n"
   ]
  },
  {
   "cell_type": "markdown",
   "id": "080fe82e",
   "metadata": {},
   "source": [
    "### Descomposición de Schmidt\n"
   ]
  },
  {
   "cell_type": "markdown",
   "id": "080fe82e",
   "metadata": {},
   "source": [
    "Vamos a estudiar el caso general en el que los \\textit{espacios factor} no son iguales $\\ket{w} \\in \\mathcal{H} \\otimes \\mathcal{H}_2$. Supongamos que, en sendas bases arbitrarias $\\{\\ket{e_{1,i}}, i=1,...,d_1\\}$  de $\\mathcal{H}_1$ y  $\\{\\ket{e_{2,a}},a=1,...,d_2\\}$  de $\\mathcal{H}_2$ nuestro vector se escribe\n",
    "\\begin{equation}\n",
    "\\ket{w} = \\sum_{i=1}^{d_1}\\sum_{a=1}^{d_2} w_{ia} \\ket{e_{1,i}}\\otimes \\ket{e_{2,a}}\n",
    "\\end{equation}\n",
    "Los valores de las \\textit{componentes} $w_{ia}$ \\textbf{dependen de las bases escogida}. En \\textit{otras} base $\\ket{\\tilde e_{1,i}}\\otimes\\ket{\\tilde e_{2,a}}$ encontraremos \\textit{otras} componentes $\\tilde w_{ia}$ para el \\textit{mismo} vector.\n"
   ]
  },
  {
   "cell_type": "markdown",
   "id": "080fe82e",
   "metadata": {},
   "source": [
    "Si existe una base en la que $\\tilde w_{ia}=0$ para todos los $i,a$ menos para uno (por ejemplo $\\tilde w_{11}\\neq 0$), entonces\n",
    "\\begin{equation}\n",
    "\\ket{w}= \\tilde w_{11}\\ket{\\tilde e_{1,1}}\\otimes \\ket{e_{2,1}}\n",
    "\\end{equation}\n",
    "y, secretamente, el vector $\\ket{w}$ sería factorizable.\n"
   ]
  },
  {
   "cell_type": "markdown",
   "id": "080fe82e",
   "metadata": {},
   "source": [
    "El siguiente teorema nos dice \\textbf{cuánto nos podemos acercar a esta situación}.\n"
   ]
  },
  {
   "cell_type": "markdown",
   "id": "080fe82e",
   "metadata": {},
   "source": [
    "\\Teorema{ (\\textbf{Teorema de Schmidt)}\n"
   ]
  },
  {
   "cell_type": "markdown",
   "id": "080fe82e",
   "metadata": {},
   "source": [
    "Para cada vector $\\ket{w}\\in \\mathcal{H}_1\\otimes \\mathcal{H}_2$, \\textbf{existen  bases } $\\{\\ket{f_{1,i}}\\}$  de $\\mathcal{H}_1$ y  $\\{\\ket{f_{2,i}}\\}$  de $\\mathcal{H}_2$, tales que, podemos expresar\n",
    "\\begin{equation} \\label{ec_formalismo_teorema_schmidt}\n",
    "\\ket{w} = \\sum_{i=1}^r s_i \\ket{f_{1,i}}\\otimes\\ket{f_{2,i}} \\, ,\n",
    "\\end{equation}\n",
    "con $s_i>0$, que   involucra el \\textbf{mínimo número}, $r$, de términos.\n",
    "}\n"
   ]
  },
  {
   "cell_type": "markdown",
   "id": "080fe82e",
   "metadata": {},
   "source": [
    "Es importante darse cuenta de que en la descomposición de la Ec. (\\ref{ec_formalismo_teorema_schmidt}) se está sumado solo sobre un índice. Este es igual en los dos elementos de la base en cada término. Es decir, si representamos $\\ket{\\omega}$ como una \\textbf{matriz} (en vez de como un vector), esta sería diagonal y rectangular, con los lados iguales a las dimensiones de los dos espacios $\\mathcal{H}_1$ y $\\mathcal{H}_2$.\n"
   ]
  },
  {
   "cell_type": "markdown",
   "id": "080fe82e",
   "metadata": {},
   "source": [
    "El número $1\\leq r\\leq {\\rm min}(d_1,d_2)$ se denomina \\textbf{Número de Schmidt} y  es la información relevante  porque:\n"
   ]
  },
  {
   "cell_type": "markdown",
   "id": "080fe82e",
   "metadata": {},
   "source": [
    "- Cuando $r=1$, el estado $\\ket{w}$ será \\textit{factorizable}.\n",
    "- Cuando $r\\geq 2$, el estado será \\textit{entrelazado}.\n"
   ]
  },
  {
   "cell_type": "markdown",
   "id": "080fe82e",
   "metadata": {},
   "source": [
    "La demostración del Teorema de Schmidt es interesante porque nos da un \\textbf{método constructivo} para encontrar la descomposición.\n"
   ]
  },
  {
   "cell_type": "markdown",
   "id": "080fe82e",
   "metadata": {},
   "source": [
    "<details><summary><p style=\"color:blue\" > >> <i>Demostración</i> </p></summary>\n",
    "Supongamos que nuestro vector se escribe\n",
    "$$\n",
    "\\ket{w} = \\sum_{i=1}^{d_2}\\sum_{a=1}^{d_2} w_{ia} \\ket{e_{1,i}}\\otimes \\ket{e_{2,a}}\n",
    "$$\n",
    "\\vspace{0.3cm}\n",
    "<br>\n",
    "La matriz de coeficientes $w_{ia}$ tiene  dimension $d_1\\times d_2$. El \\textbf{teorema de descomposición en valores singulares} nos garantiza que podemos expresar dicha matriz en la forma siguiente\n",
    "$$\n",
    "w = U\\Sigma V^\\dagger ~~~\\Rightarrow ~~~~w_{ia} = \\sum_{j=1}^{d_1}\\sum_{b=1}^{d_2} U_{ij}\\Sigma_{jb}V_{ab}^*\n",
    "$$\n",
    "donde $U$ y $V$ son unitarias $(d_1\\times d_1)$ y $(d_2\\times d_2)$ respectivamente, mientras que $\\Sigma$ es diagonal\n",
    "$$\n",
    "\\Sigma =\n",
    "\\overbrace{\\left.\n",
    "\\begin{bmatrix}\n",
    "s_1 &\\cdots  &    &  & & &  0  \\\\  \\vdots & \\ddots & & & & & \\vdots  \\\\  & & s_r & & & &  \\\\\n",
    "& &  & 0  & &  &    \\\\ & & & & & \\ddots &  \\\\  0 & &\\cdots  & & & & 0  \\\\ \\vdots & &&&& & \\vdots \\\\ 0 & & \\cdots & & & & 0\n",
    "\\end{bmatrix}   \\right\\}  }^{\\displaystyle d_2} d_1 ~~~~~~\\Rightarrow ~~~~~ \\Sigma_{jb} = s_j\\delta_{jb}\n",
    "$$\n",
    "Esto quiere decir que podemos escribir\n",
    "\\begin{eqnarray*}\n",
    "\\ket{w} &=& \\sum_{i=1}^{d_1}\\sum_{a=1}^{d_2}\\left( \\sum_{j=1}^{d_1}\\sum_{b=1}^{d_2} U_{ij}\\Sigma_{jb}V_{ab}^* \\right)\\ket{e_{1,i}}\\otimes \\ket{e_{2,a}}\n",
    "\\\\  \\rule{0mm}{10mm}\n",
    "&=& \\sum_{j=1}^{d_1}\\sum_{b=1}^{d_2}\\Sigma_{jb}\\left( \\sum_{i=1}^{d_1} U_{ij}\\ket{e_{1,i}} \\right)\\otimes  \\left( \\sum_{a=1}^{d_2} V_{ab}^* \\ket{e_{2,a}}\\right)\n",
    "\\\\   \\rule{0mm}{10mm}\n",
    "&=& \\sum_{j=1}^{d_1}\\sum_{b=1}^{d_2}\\Sigma_{jb} \\ket{f_{1,j}}\\otimes \\ket{f_{2,b}}\\\\   \\rule{0mm}{10mm}\n",
    "&=& \\sum_{j=1}^r s_j \\ket{f_{1,j}}\\otimes \\ket{f_{2,j}}\n",
    "\\end{eqnarray*}\n",
    "</details>\n",
    "Por tanto, podemos saber si un \\textbf{estado bipartito} es entrelazado calculando las descomposición en valores singulares de su matriz de coeficientes en cualquier base.\n"
   ]
  },
  {
   "cell_type": "markdown",
   "id": "080fe82e",
   "metadata": {},
   "source": [
    "## Producto tensorial múltiple\n"
   ]
  },
  {
   "cell_type": "markdown",
   "id": "080fe82e",
   "metadata": {},
   "source": [
    "El producto tensorial se puede generalizar a más de un factor:\n"
   ]
  },
  {
   "cell_type": "markdown",
   "id": "080fe82e",
   "metadata": {},
   "source": [
    "<div class=\"alert alert-block alert-info\">\n",
    "<p style=\"color: navy;\">\n",
    "El espacio $\\mathcal{H}_1\\otimes \\mathcal{H}_2 ... \\otimes \\mathcal{H}_n$ formado por \\textbf{todas} las \\textbf{n-tuplas} ordenadas de vectores\n",
    "\\begin{equation}\n",
    "\\ket{u} = \\ket{u_1u_2...u_n} \\equiv\\ket{u_1}\\otimes\\ket{u_2}\\otimes ...\\otimes \\ket{u_n}\n",
    "\\end{equation}\n",
    "donde $\\ket{u_i}\\in \\mathcal{H}_i$ y sus combinaciones lineales $\\{ a\\ket{u}+ b\\ket{v} + ...\\}$.\n",
    "</p></div>\n"
   ]
  },
  {
   "cell_type": "markdown",
   "id": "080fe82e",
   "metadata": {},
   "source": [
    "Salvo mención, en adelante asumiremos que todos los $\\mathcal{H}_j=\\mathcal{H}$ son iguales y de dimension $d$.\n"
   ]
  },
  {
   "cell_type": "markdown",
   "id": "080fe82e",
   "metadata": {},
   "source": [
    "### Base\n"
   ]
  },
  {
   "cell_type": "markdown",
   "id": "080fe82e",
   "metadata": {},
   "source": [
    "<div class=\"alert alert-block alert-info\">\n",
    "<p style=\"color: navy;\">\n",
    "Una base de $\\mathcal{H}^{\\otimes n}$ se obtiene a partir de cadenas\n",
    "\\begin{equation}\n",
    "\\ket{i_1 i_2.... i_n} =\n",
    "\\ket{i_1}\\ket{i_2}  ... \\ket{i_n}\n",
    "\\end{equation}\n",
    "donde $i_1,..,i_n=0,...,d-1$.\n",
    "</p></div>\n"
   ]
  },
  {
   "cell_type": "markdown",
   "id": "080fe82e",
   "metadata": {},
   "source": [
    "<div class=\"alert alert-block alert-danger\">\n",
    "<p style=\"color: DarkRed;\">\n",
    "<b>Nota</b>:\n",
    "<br>\n",
    "Con la notación $i_1,..,i_n=0,...,d-1$ queremos decir que \\textbf{cada uno de los índices} $i_1,..,i_n$ toma valores de $0$ a $d-1$.\n",
    "</p></div>\n"
   ]
  },
  {
   "cell_type": "markdown",
   "id": "080fe82e",
   "metadata": {},
   "source": [
   ]
  },
  {
   "cell_type": "markdown",
   "id": "080fe82e",
   "metadata": {},
   "source": [
    "- El número de posibles cadenas es $d\\, d\\, ... \\, d = d^n$ que  es la dimensión de $\\mathcal{H}^{\\otimes n}$.\n",
    "\\begin{equation}\n",
    "{\\rm dim}_{\\mathbb C} \\mathcal{H}^{\\otimes n} = d^n\n",
    "\\end{equation}\n",
    "<br>\n",
    "<br>\n",
    "- Podemos cambiar de etiqueta\n",
    "\\begin{equation}\n",
    "\\ket{i_1...i_n} \\to \\ket{a}\n",
    "\\end{equation}\n",
    "con\n",
    "\\begin{equation}\n",
    "a = i_n + d i_{n-1} + d^2 i_{n-2}+...+d^{n-1} i_1~\\in ~(0,d^n-1)\n",
    "\\end{equation}\n",
    "<br>\n",
    "<br>\n",
    "- Si cada base $\\{\\ket{i}\\}$ es ortonormal, tendremos que la base producto también lo será\n",
    "\\begin{equation}\n",
    "\\braket{i_1 i_2... i_n}{j_1j_2...j_n} = \\delta_{i_1j_1}\\delta_{i_2j_2}...\\delta_{i_nj_n} ~~~~\\leftrightarrow ~~~~\n",
    "\\braket{a}{b} = \\delta_{ab}\n",
    "\\end{equation}\n"
   ]
  },
  {
   "cell_type": "markdown",
   "id": "080fe82e",
   "metadata": {},
   "source": [
    "### Estado entrelazado\n"
   ]
  },
  {
   "cell_type": "markdown",
   "id": "080fe82e",
   "metadata": {},
   "source": [
    "Un \\textbf{vector general} admitirá una expansión en esta base mediante $d^n$ \\textbf{componentes complejas}\n",
    "$u_{i_1 i_2...i_n}$ en la forma\n",
    "\\begin{equation}\n",
    "\\ket{u} = \\sum_{i_1,...,i_n=0}^{d-1} u_{i_1i_2...i_n} \\ket{i_1i_2...i_n} = \\sum_{a=0}^{d^n-1} u_a\\ket{a}\\, .\n",
    "\\end{equation}\n"
   ]
  },
  {
   "cell_type": "markdown",
   "id": "080fe82e",
   "metadata": {},
   "source": [
    "<div class=\"alert alert-block alert-danger\">\n",
    "<p style=\"color: DarkRed;\">\n",
    "<b>Nota</b>:\n",
    "<br>\n",
    "Véase que en el sumatorio anterior \\textbf{cada uno de los indice} se suma de 0 a $d-1$. Es decir\n",
    "\\begin{equation}\n",
    "\\sum_{i_1,...,i_n=0}^{d-1} = \\sum_{i_1}^{d-1} \\sum_{i_2}^{d-1} \\cdots \\sum_{i_n}^{d-1}\n",
    "\\end{equation}\n",
    "</p></div>\n"
   ]
  },
  {
   "cell_type": "markdown",
   "id": "080fe82e",
   "metadata": {},
   "source": [
    "Podemos obtener cualquier componente compleja proyectando sobre el elemento correspondiente de la base\n",
    "\\begin{equation}\n",
    "u_{i_1i_2...i_n} = \\braket{i_1 i_2... i_n}{u}~~~~~~\\leftrightarrow~~~~~~~~u_a = \\braket{a}{u}\n",
    "\\end{equation}\n"
   ]
  },
  {
   "cell_type": "markdown",
   "id": "080fe82e",
   "metadata": {},
   "source": [
    "### Estado factorizable\n"
   ]
  },
  {
   "cell_type": "markdown",
   "id": "080fe82e",
   "metadata": {},
   "source": [
    "Como ya comentamos, de lo más común es que un vector sea entrelazado. Lo que son casos particulares son los \\textbf{estados factorizables}. Un vector de $\\mathcal{H}^{\\otimes n}$ se podrá escribir en forma factorizada\n",
    "\\begin{equation}\n",
    "\\ket{w} = \\ket{v_1}\\ket{v_2}\\ldots\\ket{v_n} \\equiv \\ket{v_1 v_2 \\ldots v_n}\n",
    "\\end{equation}\n",
    "Escribiendo $\\ket{v_k} = \\sum_{i_k=1}^d v_{i_k}\\ket{i_k}$ vemos que un \\textit{vector factorizable} admite una expansión general en la que los coeficientes son factorizables\n",
    "\\begin{equation}\n",
    "u_{i_1i_2...i_n}  = v_{i_1} v_{i_2}.... v_{i_n}\n",
    "\\end{equation}\n",
    "están parametrizados por $nd$ cantidades $v_{i_k}, \\, i_k=1,...,d, \\, k=1,...,n$.\n"
   ]
  },
  {
   "cell_type": "markdown",
   "id": "080fe82e",
   "metadata": {},
   "source": [
    "<div class=\"alert alert-block alert-danger\">\n",
    "<p style=\"color: DarkRed;\">\n",
    "<b>Nota</b>:\n",
    "<br>\n"
   ]
  },
  {
   "cell_type": "markdown",
   "id": "080fe82e",
   "metadata": {},
   "source": [
    "- $nd \\ll d^n$. El crecimiento exponencial del número de estados entrelazados es el ingrediente crucial para la computación cuántica. Observar que $d^n$ es el \\textit{número de enteros} alcanzables por $n$ bits. Pero en computación cuántica es el \\textit{número de dimensiones} en la que podemos poner $d^n$ amplitudes complejas.\n",
    "\\vspace{0.2cm}\n",
    "<br>\n",
    "- No existe un criterio general para saber si un estado es, a priori, factorizable o entrelazado.\n",
    "\\vspace{0.2cm}\n",
    "<br>\n",
    "- Además, hay formas de caracterizar matemáticamente el nivel de entrelazamiento (\\textit{entanglement witnesses}, \\textit{entanglement monotones} etc.) desde nulo (estado factorizable) hasta maximal (contiene todos los estados de la base con igual amplitud).\n"
   ]
  },
  {
   "cell_type": "markdown",
   "id": "080fe82e",
   "metadata": {},
   "source": [
    "</p></div>\n"
   ]
  },
  {
   "cell_type": "markdown",
   "id": "080fe82e",
   "metadata": {},
   "source": [
    "## Espacio ${\\rm L}(\\mathcal{H}^\\otimes)$\n"
   ]
  },
  {
   "cell_type": "markdown",
   "id": "080fe82e",
   "metadata": {},
   "source": [
    "<div class=\"alert alert-block alert-info\">\n",
    "<p style=\"color: navy;\">\n",
    "El espacio $\\mathcal{H}^{\\otimes n}$ admite, como cualquier espacio vectorial, la acción de \\textit{operadores lineales} $A: \\mathcal{H}^{\\otimes n} \\to \\mathcal{H}^{\\otimes n}$ donde\n",
    "\\begin{equation}\n",
    "A:\\ket{u} \\to \\ket{v} \\equiv A\\ket{u}\n",
    "\\end{equation}\n",
    "El conjunto de todos los operadores lineales forman el espacio vectorial ${\\rm L}(\\mathcal{H}^{\\otimes n})$.\n",
    "</p></div>\n"
   ]
  },
  {
   "cell_type": "markdown",
   "id": "080fe82e",
   "metadata": {},
   "source": [
    "### Matrices\n"
   ]
  },
  {
   "cell_type": "markdown",
   "id": "080fe82e",
   "metadata": {},
   "source": [
   ]
  },
  {
   "cell_type": "markdown",
   "id": "080fe82e",
   "metadata": {},
   "source": [
    "- A cada operador, $A$, le podemos asociadar una \\textit{matriz}, una vez elijamos nuestra base  $\\{ \\ket{i_1 i_2... i_n}\\}$ donde, $i_a = 1,...,d$.\n",
    "<br>\n",
    "- Los \\textit{elementos de matriz} ahora vendrán etiquetados por dos \\textit{multi-índices}.\n",
    "\\begin{equation}\n",
    "A_{i_1...i_n, \\, j_1...j_n} = \\bra{i_1...i_n}A\\ket{j_1...j_n}  ~~~~~\\leftrightarrow ~~~~~~ A_{ab}= \\bra{a}A\\ket{b}\n",
    "\\end{equation}\n",
    "donde hemos re-etiquetado los multi-índices como un solo índice\n",
    "<br>\n",
    "- Con la matriz, el operador se reconstruye de la forma usual\n",
    "\\begin{eqnarray}\n",
    "A &=&\n",
    "\\sum_{i_1,...,i_n,\\, j_1,...,j_n=0}^{d-1} A_{i_1...i_n, \\, j_1...j_n} \\ketbra{i_1...i_n}{j_1...j_n}\n",
    "~~=~~\n",
    "\\sum_{a,b=a}^{d^{N}-1} A_{ab} \\ketbra{a}{b}\n",
    "\\end{eqnarray}\n",
    "<br>\n",
    "- En $A_{i_1...i_n,\\,j_1...j_n} = A_{ab}$ hay $d^n\\times d^n = d^{2n}$ grados de libertad. Esta sería la dimensión del espacio  ${\\rm L}(\\mathcal{H}^{\\otimes n})$.\n",
    "<br>\n"
   ]
  },
  {
   "cell_type": "markdown",
   "id": "080fe82e",
   "metadata": {},
   "source": [
    "### Producto tensorial de operadores\n"
   ]
  },
  {
   "cell_type": "markdown",
   "id": "080fe82e",
   "metadata": {},
   "source": [
    "En ${\\rm L}(\\mathcal{H}^{\\otimes n})$ hay un análogo de los vectores factorizables de $\\mathcal{H}^{\\otimes n}$ que ahora serán \\textit{operadores factorizables}. Supongamos que existen $n$ operadores lineales $A^{(a)}\\, ,\\, a=1,...,n$ definidos sobre cada espacio factor $\\mathcal{H}$.\n"
   ]
  },
  {
   "cell_type": "markdown",
   "id": "080fe82e",
   "metadata": {},
   "source": [
    "\\Definicion{\n",
    "La acción del producto tensorial de operadores  $A = A^{(1)}\\otimes A^{(2)} \\otimes ...A^{(n)}$ sobre un vector $\\ket{v} = \\ket{v}_1\\otimes ...\\otimes \\ket{v_n}\\in \\mathcal{H}~$   viene dada por\n",
    "\\begin{equation}\n",
    "A\\ket{v} = A^{(1)}\\ket{v_1}\\otimes ... \\otimes A^{(n)} \\ket{v_n}\\, .\n",
    "\\end{equation}\n",
    "La acción sobre vectores generales se sigue imponiento linealidad\n",
    "\\begin{equation}\n",
    "A(\\ket{v} + \\ket{w}) = A\\ket{v} + A\\ket{w}\\, .\n",
    "\\end{equation}\n",
    "}\n"
   ]
  },
  {
   "cell_type": "markdown",
   "id": "080fe82e",
   "metadata": {},
   "source": [
    "Se sigue automáticamente de la definición que:\n"
   ]
  },
  {
   "cell_type": "markdown",
   "id": "080fe82e",
   "metadata": {},
   "source": [
    "- El adjunto de un producto tensorial de operadores es el producto de los adjuntos (no se permuta el orden)\n",
    "\\begin{equation}\n",
    "A^\\dagger = A^{(1)\\dagger} \\otimes ... \\otimes A^{(n)\\dagger}\n",
    "\\end{equation}\n",
    "- El producto tensorial de operadores hermíticos es hermítico\n",
    "$$\n",
    "A^{(a)\\dagger} = A^{(a)} ~~\\Longrightarrow A^{\\dagger} = A\n",
    "$$\n",
    "- El producto tensorial de operadores unitarios, es unitario\n",
    "$$\n",
    "A^{(a)\\dagger} = A^{(a)\\, -1} \\,  ~~\\Longrightarrow ~~A^{\\dagger} = A^{-1}\n",
    "$$\n"
   ]
  },
  {
   "cell_type": "markdown",
   "id": "080fe82e",
   "metadata": {},
   "source": [
    "### Producto de Kronecker de matrices. Operadores factorizables.\n"
   ]
  },
  {
   "cell_type": "markdown",
   "id": "080fe82e",
   "metadata": {},
   "source": [
    "¿Cómo será la matriz $A_{i_1...i_n, \\, j_1...j_n}$ de un operador factorizable, $ A = A^{(1)}\\otimes A^{(2)} \\otimes ...A^{(n)}$, en términos de las matrices  $ A^{(a)}_{ij}$ de sus factores? Vamos a tomar  $n=2$ por simplicidad\n",
    "\\begin{eqnarray}\n",
    "A = A^{(1)}\\otimes  A^{(2)} &=&\\left( \\sum_{i_1i_2}A^{(1)}_{i_1 j_1} \\ket{i_1}\\bra{j_1}\\right)\\left( \\sum_{i_2j_2}A^{(2)}_{i_2 j_2} \\ket{i_2}\\bra{j_2}\\right)\\\\\n",
    "&=& \\sum_{i_1 i_2 , j_1 j_2} A^{(1)}_{i_1 j_1}A^{(2)}_{i_2 j_2}\\ket{i_1 i_2}\\bra{j_1j_2} \\\\\n",
    "&=& \\sum_{i_1 i_2 , j_1 j_2} A_{i_1i_2,\\, j_1j_2}\\ket{i_1 i_2}\\bra{j_1j_2}\n",
    "\\end{eqnarray}\n",
    "Vemos que la matriz asociada a $A$ se obtiene  a partir de las matrices de $A^{(a)}$ mediante el  \\textit{producto exterior de las matrices}, o \\textbf{producto de Kronecker}.\n",
    "\\begin{equation}\n",
    "A_{i_1i_2,\\,j_1j_2} = A^{(1)}_{i_1j_1}A^{(2)}_{i_2 j_2}\n",
    "\\end{equation}\n",
    "El método para de \\textbf{representar} matricialmente el producto de Kronecker de dos matrices $A\\otimes B$ es sencillo. Supongamos que $d=2$ y tenemos un operador producto $A\\otimes B$. Entonces su matriz\n",
    "\\begin{equation}\n",
    "(A\\otimes B)_{ab} = \\begin{pmatrix} A_{00}B & A_{01}B \\\\ A_{10}B & A_{11}B \\end{pmatrix} = \\begin{pmatrix} A_{00}B_{00} & A_{00}B_{01} & A_{01}B_{00} & A_{01}B_{01} \\\\\n",
    "A_{00}B_{10} & A_{00}B_{11} & A_{01}B_{10} & A_{01}B_{11} \\\\\n",
    "A_{10}B_{00} & A_{10}B_{01} & A_{11}B_{00} & A_{11}B_{01} \\\\\n",
    "A_{10}B_{10} & A_{10}B_{11} & A_{11}B_{10} & A_{11}B_{11} \\end{pmatrix}.\n",
    "\\end{equation}\n"
   ]
  },
  {
   "cell_type": "markdown",
   "id": "080fe82e",
   "metadata": {},
   "source": [
    "El producto de Kronecker verifica las siguientes propiedades para dos matrices $A$  y $B$ de dimensiones $d_A$ y $d_B$.\n",
    "\\begin{eqnarray}\n",
    "(A\\otimes B)(C\\otimes D) &=& (AC)\\otimes (BD) \\nonumber\\\\ \\rule{0mm}{6mm}\n",
    "{\\rm tr}(A\\otimes B) &=& ({\\rm tr} A)({\\rm tr} B) \\nonumber\\\\ \\rule{0mm}{6mm}\n",
    "A\\otimes(B+D) &=& A\\otimes B + A\\otimes D \\nonumber\\\\ \\rule{0mm}{6mm}\n",
    "(A\\otimes B)^\\dagger &=& A^\\dagger\\otimes B^\\dagger \\nonumber\\\\ \\rule{0mm}{6mm}\n",
    "(A\\otimes B)^{-1} &=& A^{-1} \\otimes B^{-1} \\nonumber\\\\ \\rule{0mm}{6mm}\n",
    "\\det (A\\otimes B) &=& (\\det A)^{d_B}(\\det B)^{d_A}\n",
    "\\end{eqnarray}\n",
    "donde $AC$ significa el producto de matrices $A$ y $C$.\n"
   ]
  },
  {
   "cell_type": "markdown",
   "id": "080fe82e",
   "metadata": {},
   "source": [
    "\\Ejercicio{\n",
    "Demuestra estos resultados.\n",
    "}\n"
   ]
  },
  {
   "cell_type": "markdown",
   "id": "080fe82e",
   "metadata": {},
   "source": [
    "La generalización a todo $n$ es obvia. El producto de Kronecker de $n$ matrices $ A^{(a)}_{i_aj_a}$ asociadas a operadores $A^{(a)}$ es\n",
    "\\begin{equation}\n",
    "A_{i_1...i_n,\\,j_1...j_n} = A^{(1)}_{i_1j_1}...A^{(n)}_{i_n j_n}\n",
    "\\end{equation}\n"
   ]
  },
  {
   "cell_type": "markdown",
   "id": "080fe82e",
   "metadata": {},
   "source": [
    "\\Ejercicio{\n",
    "Calcula $\\sigma_1\\otimes \\sigma_2\\otimes \\sigma_3$\n",
    "}\n"
   ]
  },
  {
   "cell_type": "markdown",
   "id": "080fe82e",
   "metadata": {},
   "source": [
    "<div class=\"alert alert-block alert-danger\">\n",
    "<p style=\"color: DarkRed;\">\n",
    "<b>Nota</b>:\n",
    "<br>\n",
    "Observar que en un operador general, la matriz $ A_{i_1...i_n,\\,j_1...j_n}$ tiene $d^n\\times d^n = d^{2n}$ entradas independientes.\n",
    "Sin embargo en un producto de Kronecker $A^{(1)}_{i_1j_1}...A^{(n)}_{i_n j_n}$ sólo hay $nd^2$.\n",
    "Por tanto, los \\textit{operadores factorizables} forman un subconjunto muy pequeño dentro del conjunto de los operadores generales.\n",
    "</p></div>\n"
   ]
  },
  {
   "cell_type": "markdown",
   "id": "080fe82e",
   "metadata": {},
   "source": [
    "### Generación de entrelazamiento\n"
   ]
  },
  {
   "cell_type": "markdown",
   "id": "080fe82e",
   "metadata": {},
   "source": [
    "Supongamos que $\\ket{u} = \\ket{u_1}\\otimes\\ket{u_2}$ es factorizable.\n"
   ]
  },
  {
   "cell_type": "markdown",
   "id": "080fe82e",
   "metadata": {},
   "source": [
    "- Si $A=A_1\\otimes A_2$ es un operador factorizable, el resultado $\\ket{v} = A\\ket{u} = A_1\\ket{u_1}\\otimes A_2\\ket{u_2}$ también es factorizable.\n",
    "- Inversamente, si buscamos un operador que genere entrelazamiento, entonces no puede ser factorizable $A\\neq A_1\\otimes A_2$\n"
   ]
  },
  {
   "cell_type": "markdown",
   "id": "080fe82e",
   "metadata": {},
   "source": [
    "\\Ejercicio{\n",
    "Considera la base $\\{\\ket{0},\\ket{1} \\}$ del espacio $\\mathcal{H}$ de dimensión 2. Sea $A= B + C$ un operador que actúa sobre el producto $\\mathcal{H}\\otimes \\mathcal{H}$,  donde $B$ y $C$ son operadores factorizables dados por\n",
    "$$\n",
    "B = \\ketbra{0}{0}\\otimes I ~~~, ~~~~\n",
    "C = \\ketbra{1}{1}\\otimes (\\ketbra{0}{1} + \\ketbra{1}{0})\n",
    "$$\n",
    "Escribe los elementos $B_{ij}$ y $C_{ij}, i,j=1,2,3,4$  y obtén $A_{ij}$. Comprueba si $C$, $B$ y $A$ son operadores unitarios o no.\n",
    "}\n"
   ]
  },
  {
   "cell_type": "markdown",
   "id": "8534e04c",
   "metadata": {},
   "source": [
    "<figure><center>\n",
    "<img   src=\"https://quantumspain-project.es/wp-content/uploads/2022/11/Logo_QS_EspanaDigital.png\" align=center  width=\"2000px\"/>\n",
    "</center></figure>\n",
    "\n",
    "<center>\n",
    "<img align=\"left\" src=\"https://quantumspain-project.es/wp-content/uploads/2024/02/Banner-QS_GOB_v2.png\" width=\"1000px\" />\n",
    "</center>"
   ]
  }
 ],
 "metadata": {
  "kernelspec": {
   "display_name": "Python 3 (ipykernel)",
   "language": "python",
   "name": "python3"
  },
  "language_info": {
   "codemirror_mode": {
    "name": "ipython",
    "version": 3
   },
   "file_extension": ".py",
   "mimetype": "text/x-python",
   "name": "python",
   "nbconvert_exporter": "python",
   "pygments_lexer": "ipython3",
   "version": "3.11.7"
  },
  "toc": {
   "base_numbering": 1,
   "nav_menu": {},
   "number_sections": false,
   "sideBar": true,
   "skip_h1_title": true,
   "title_cell": "Table of Contents",
   "title_sidebar": "Contents",
   "toc_cell": false,
   "toc_position": {},
   "toc_section_display": true,
   "toc_window_display": false
  }
 },
 "nbformat": 4,
 "nbformat_minor": 5
}
