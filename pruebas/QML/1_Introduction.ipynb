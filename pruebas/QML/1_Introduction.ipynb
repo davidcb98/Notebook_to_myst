{
 "cells": [
  {
   "cell_type": "markdown",
   "id": "0ec3d300",
   "metadata": {},
   "source": [
    "<img align=\"left\" src=\"https://quantumspain-project.es/wp-content/uploads/2022/11/Logo_QS_EspanaDigital.png\" width=\"1000px\"/><br><br><br><br>\n",
    "\n",
    "\n",
    "Created: 2022/10/30\n",
    "\n",
    "\n",
    "<a rel=\"license\" href=\"http://creativecommons.org/licenses/by-sa/4.0/\"><img aling=\"left\" alt=\"Licencia Creative Commons\" style=\"border-width:0\" src=\"https://i.creativecommons.org/l/by-sa/4.0/88x31.png\" /></a><br />License: <a rel=\"license\" href=\"http://creativecommons.org/licenses/by-sa/4.0/\">Licencia Creative Commons Atribución-CompartirIgual 4.0 Internacional</a>.\n",
    "\n",
    "Internal Reviewers:\n",
    "* Alba Cervera ([BSC](https://www.bsc.es/))\n",
    "\n",
    "Authors:\n",
    "* Carmen Calvo ([SCAYLE](https://www.scayle.es/))\n",
    "* Antoni Alou ([PIC](https://www.pic.es/))\n",
    "* Carlos Hernani ([UV](https://www.uv.es/))\n",
    "* Nahia Iriarte ([NASERTIC](https://www.nasertic.es/es))\n",
    "* Carlos Luque ([IAC](https://www.iac.es/))\n"
   ]
  },
  {
   "cell_type": "markdown",
   "id": "fa72da14",
   "metadata": {},
   "source": [
    "# 1. Introducción"
   ]
  },
  {
   "cell_type": "markdown",
   "id": "8f37f4d0",
   "metadata": {},
   "source": [
    "<a id='ML'></a>\n",
    "## 1.1. Machine Learning\n"
   ]
  },
  {
   "cell_type": "markdown",
   "id": "c4fac1ce",
   "metadata": {},
   "source": [
    "El **Aprendizaje Automático** (en inglés *Machine Learning*, ML) es uno de los campos más destacados de la Inteligencia Artificial en la actualidad. Se refiere al proceso de construcción de algoritmos que pueden aprender de las observaciones existentes (o conjuntos de datos o *datasets*) y aprovechar ese aprendizaje para predecir nuevas observaciones o determinar el resultado de nuevas entradas. [[1]](#referencias)\n",
    "\n",
    "Existen cuatro tipos de aprendizaje automático que se clasifican en función de la disponibilidad de las salidas de los ejemplos, es decir, dependerá de si se conoce el valor esperado para cada instancia del problema o no. La Imagen 1 recoge de forma esquemática dicha clasificación.\n",
    "\n",
    "El primer tipo corresponde al **aprendizaje supervisado**. En este caso se conoce la salida de todas las instancias del problema, es decir, el conjunto de datos con el que se trabaja tiene registrados los valores a predecir de todos los ejemplos disponibles. Por lo tanto, se le podrá mostrar al algoritmo toda la información necesaria para elaborar su solución. [[1]](#referencias)\n",
    "\n",
    "En el **aprendizaje no supervisado** sin embargo, los valores de la variable salida son desconocidos, por lo que se utilizan otro tipo de algoritmos para descubrir la estructura de los datos. Se intentan agrupar dichos ejemplos en distintos grupos con características en común. [[1]](#referencias)\n",
    "\n",
    "El **aprendizaje semi supervisado** es una mezcla de los dos anteriores, en este caso se conoce la salida únicamente para algunos de los ejemplos, en la mayoría de ellos no se disponen de estos valores. Este tipo de aprendizaje está presente en los casos en los que el coste de conocer el valor para la variable salida es muy grande pero el obtener los datos sin esta información conlleva un coste muy bajo. [[1]](#referencias)\n",
    "\n",
    "Por último, el **aprendizaje por refuerzo** se trata de un tipo distinto a los comentados anteriormente. Son algoritmos que aprenden por si mismos mediante recompensas. No se dispone del valor de salida por lo que no se encuentra dentro del aprendizaje supervisado, pero tampoco se trata de intentar obtener grupos con características comunes por lo que tampoco forma parte del no supervisado. [[1]](#referencias)\n",
    "\n"
   ]
  },
  {
   "cell_type": "markdown",
   "id": "de7a48e5",
   "metadata": {},
   "source": [
    "También es interesante conocer que, dentro del aprendizaje supervisado, los problemas se pueden catalogar como *problemas de regresión* o *clasificación*. En los **problemas de regresión**, el resultado a predecir será un valor numérico y en los **problemas de clasificación** se pretende predecir una clase, entendiendo por \"clase\" a una de las categorías arbitrarias según nuestro problema. La [Figura 1]() muestra las categorías de los métodos de ML.\n",
    "\n",
    "<figure><center>\n",
    "<a id=\"fig_clasificaciónML\"></a>\n",
    "<img src=\"imagenes/ML.jpg\">\n",
    "<center>Figura 1. las categorías de los métodos de ML</center>\n",
    "</center></figure>"
   ]
  },
  {
   "cell_type": "markdown",
   "id": "d8ef8603",
   "metadata": {},
   "source": [
    "<a id='QML'></a>\n",
    "## 1.2. Quantum Machine Learning"
   ]
  },
  {
   "cell_type": "markdown",
   "id": "ce37d42c",
   "metadata": {},
   "source": [
    "La tecnología cuántica ha supuesto un cambio de paradigma en el campo de la computación. Surge el **Aprendizaje automático cuántico** (en inglés, *Quantum Machine Learning, QML*), un campo en evolución. El aprendizaje automático cuántico es la integración de algoritmos cuánticos en programas de aprendizaje automático:\n",
    "- *ML con espacio cuántico de características*: Combinación de ML clásico con  mapear características cuánticos. Los paramentros de aprendizaje se realiza en ML clasico.\n",
    "- *Redes neuronales cuánticas* (*QNNs* , en sus siglas en inglés): son circuitos cuánticos parametrizados que se pueden “entrenar” con\n",
    "datos.\n",
    "- *Combinación de redes neuronales clásicas y cuánticas*: el modelo en sí mismo es una combinación híbrida entre capas de construcción computacionales cuánticos y capas de construcción computacionales clásicos.\n",
    "\n",
    "\n",
    "\n",
    "Se puede combinar la computación cuántica con el aprendizaje automático de diversas maneras, obteniendo cuatro áreas de trabajo. Estas corresponden a las que se muestran en la [Figura 3](#fig_areaTrabajoML):\n",
    "\n",
    "<figure><center>\n",
    "<a id=\"fig_areaTrabajoML\"></a>\n",
    "<img src=\"imagenes/datatype.jpg\"/>\n",
    "<center>Figura 3. Áreas de trabajo QML </center>\n",
    "</center></figure>\n",
    "\n",
    "\n",
    "**CC**: Se refiere a procesar datos clásicos con ordenadores clásicos, haciendo uso de algoritmos inspirados en computación cuántica. En otras palabras, hace referencia al machine learning clásico que directamente no tiene una base de quantum, si no que toma prestadas ideas de la física cuántica. [[3]](#Referencias)\n",
    "\n",
    "**CQ**: En este caso, se procesan datos clásicos utilizando algoritmos de _quantum machine learning_. Será con la tipología que trabajaremos a partir de ahora. En este área se pretende encontrar soluciones más eficaces para problemas típicamente solucionados con ML pero sobre ordenadores cuánticos. [[3]](#Referencias)\n",
    "\n",
    "**QC**: Se trata de un área de investigación, utilizan algoritmos clásicos para tratar datos cuánticos. [[3]](#Referencias)\n",
    "\n",
    "**QQ**: Se podría decir que esta sería la aproximación más “pura”, ya que se realiza un procesamiento de los datos cuánticos y estos datos cuánticos se procesan haciendo uso del aprendizaje automático cuántico. [[3]](#Referencias)\n"
   ]
  },
  {
   "cell_type": "markdown",
   "id": "bd245f3c",
   "metadata": {},
   "source": [
    "<a id='FasesQML'></a>\n",
    "### 1.2.1. Fases del QML"
   ]
  },
  {
   "cell_type": "markdown",
   "id": "5f9aca63",
   "metadata": {},
   "source": [
    "\n",
    "<img src=https://media.springernature.com/lw685/springer-static/image/chp%3A10.1007%2F978-3-030-50433-5_45/MediaObjects/500809_1_En_45_Fig1_HTML.png width=\"600\"/>\n",
    "\n",
    "<center>Imagen 4. Esquema de algoritmos híbridos cuánticos-clásicos en aprendizaje supervisado. [6] </center>\n",
    "\n",
    "\n",
    "En líneas generales, el flujo de procesamiento en QML viene reflejado en la imagen 4. En primer lugar, los datos de entrada se preprocesan en un dispositivo clásico para determinar el estado cuántico de entrada. A continuación, el hardware cuántico prepara un estado cuántico |**x**⟩ y calcula $U(\\mathbf{x},\\mathbf{\\theta})$ con parámetros $\\theta$ inicializados aleatoriamente. Tras múltiples ejecuciones de $U(\\mathbf{x},\\mathbf{\\theta})$, el componente clásico postprocesa las mediciones y genera una predicción $f(\\mathbf{x}, \\mathbf{\\theta})$. Por último, se actualizan los parámetros y todo el ciclo se ejecuta varias veces en un bucle cerrado entre el hardware clásico y el cuántico [[6]](#Referencias).\n"
   ]
  },
  {
   "cell_type": "markdown",
   "id": "639e12bc",
   "metadata": {},
   "source": [
    "<a id='ConceptosIntro'></a>\n",
    "### 1.2.2. Conceptos"
   ]
  },
  {
   "cell_type": "markdown",
   "id": "630b8a99",
   "metadata": {},
   "source": [
    "- ***Kernel***: El QML puede utilizarse para realizar la evaluación del *kernel* introduciendo estimaciones de un ordenador cuántico en el método estándar. Aunque el entrenamiento y la inferencia del modelo tendrán que hacerse en la SVM (*Support-Vector Machine*) estándar, el uso de QSVM (*Quantum SVM*) podría ayudar a acelerar el proceso. A medida que se amplía el espacio de características, la estimación de las funciones *kernel* en la computación clásica resulta costosa desde el punto de vista computacional. Las propiedades cuánticas ayudan a crear un espacio de estado cuántico masivo que puede mejorar la evaluación de los *kernels* [[9]](#referencias). \n",
    "\n",
    "\n",
    "- **PCA** (*Principal Component Analysis*): Es una técnica de extracción de características donde se combinan las entradas de una manera específica y se pueden eliminar algunas de las variables “menos importantes” manteniendo la parte más importante todas las variables. Como valor añadido, tras aplicar técnicas de PCA se obtienen variables independientes entre sí [[10]](#referencias).\n",
    "\n",
    "\n",
    "- **Función de coste**: Trata de definir el error entre el valor estimado y el valor real con el fin de optimizar el algoritmo. En otras palabras, la función de coste cuantifica el error que se ha cometido al predecir los valores deseados.\n",
    "\n",
    "\n",
    "- **Optimización**: Los problemas de optimización están presentes en muchos campos de estudio e implican encontrar las entradas que darán el mejor resultado posible para un problema dado. Por lo general, encontrar el mejor resultado posible equivale a minimizar la función de coste [[11]](#referencias). Los algoritmos de optimización de inspiración cuántica aprovechan algunas de las ventajas de la computación cuántica en hardware clásico, lo que proporciona más velocidad que en los enfoques tradicionales. Los algoritmos de inspiración cuántica son algoritmos clásicos en los que se puede emular de forma clásica el fenómeno cuántico esencial que proporcionaría el aumento de velocidad [[12]](#referencias). \n",
    "\n",
    "\n",
    "- **Gradiente**: El gradiente es el conjunto de todas las derivadas parciales de una función. En el caso de machine learning, resulta de interés el gradiente de la función de coste [[13]](#referencias). \n",
    "\n",
    "\n",
    "- **Medida** (*Measurement*): El paso final en computación cuántica es la medida de uno o más qubits, después de todo se necesita obtener el resultado de lo que se ha estado calculando cuánticamente. Pese a que este último paso puede parecer una última capa del circuito, no se tiene en cuenta a la hora de calcular la profundidad  [[16]](#referencias). La definición de la medida es el problema central de la mecánica cuántica y esta estrechamente relacionada con las amplitudes del estado con el que se está trabajando, ya que el resultado obtenido depende de dichas probabilidades [[4]](#referencias)."
   ]
  },
  {
   "cell_type": "markdown",
   "id": "4dbddd5c",
   "metadata": {},
   "source": [
    "---------------------------\n",
    "## Referencias\n",
    "<a id='referencias'></a>\n",
    "[1]. https://www.ibm.com/es-es/cloud/learn/machine-learning<br>\n",
    "[2]. http://astrowizici.st/teaching/phs5000/10<br>\n",
    "[3]. https://learn.qiskit.org/course/machine-learning/introduction<br>\n",
    "[6]. https://link.springer.com/chapter/10.1007/978-3-030-50433-5_45<br>\n",
    "[9]. https://www.geeksforgeeks.org/the-ultimate-guide-to-quantum-machine-learning-the-next-big-thing/ <br>\n",
    "[10]. https://www.aprendemachinelearning.com/comprende-principal-component-analysis/ <br>\n",
    "[11]. https://pennylane.ai/blog/2021/10/how-to-start-learning-quantum-machine-learning <br>\n",
    "[12]. https://learn.microsoft.com/es-es/azure/quantum/optimization-overview-introduction <br>\n",
    "[13]. https://www.iartificial.net/gradiente-descendiente-para-aprendizaje-automatico/ <br>\n",
    "[16]. https://codebook.xanadu.ai/I.4<br>\n"
   ]
  },
  {
   "cell_type": "markdown",
   "id": "5d74f55d",
   "metadata": {},
   "source": [
    "This work has been financially supported by the Ministry of Economic Affairs and Digital Transformation of the Spanish Government through the QUANTUM ENIA project call - Quantum Spain project, and by the European Union through the Recovery, Transformation and Resilience Plan - NextGenerationEU within the framework of the Digital Spain 2025 Agenda.\n",
    "\n",
    "\n",
    "<img align=\"left\" src=\"https://quantumspain-project.es/wp-content/uploads/2022/11/LOGOS-GOB_QS.png\" width=\"1000px\" />"
   ]
  }
 ],
 "metadata": {
  "kernelspec": {
   "display_name": "Python 3 (ipykernel)",
   "language": "python",
   "name": "python3"
  },
  "language_info": {
   "codemirror_mode": {
    "name": "ipython",
    "version": 3
   },
   "file_extension": ".py",
   "mimetype": "text/x-python",
   "name": "python",
   "nbconvert_exporter": "python",
   "pygments_lexer": "ipython3",
   "version": "3.10.11"
  }
 },
 "nbformat": 4,
 "nbformat_minor": 5
}
