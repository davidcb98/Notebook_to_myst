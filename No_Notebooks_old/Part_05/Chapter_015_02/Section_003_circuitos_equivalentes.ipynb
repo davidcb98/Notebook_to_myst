{
 "cells": [
  {
   "cell_type": "markdown",
   "id": "8ddaeb38",
   "metadata": {},
   "source": [
    "<a href=\"https://www.scbi.uma.es/\" target=\"_blank\">\n",
    "<img src=\"Figuras/Fig_logo_UMA_scbi.png\" align=center width=\"2000px\">\n",
    "</a>\n",
    "\n",
    "\n",
    "\n",
    "<a href=\"https://www.scbi.uma.es/web/es/computacion-cuantica/\">\n",
    "    <button class=\"rounded\" style=\"float: right;\">\n",
    "    <svg xmlns=\"http://www.w3.org/2000/svg\" width=\"32\" height=\"32\" viewBox=\"0 0 24 24\">\n",
    "        <path fill=\"var(--fill, white)\"\n",
    "        d=\"M18.1 15.3c-.1.1-.3.2-.4.3l-2.4.4l1.7 3.6c.2.4 0 .8-.4\n",
    "            1l-2.8 1.3c-.1.1-.2.1-.3.1c-.3 0-.6-.2-.7-.4L11.2\n",
    "            18l-1.9 1.5c-.1.1-.3.2-.5.2c-.4 0-.8-.3-.8-.8V7.5c0-.5.3-.8.8-.8c.2 0\n",
    "            .4.1.5.2l8.7 7.4c.3.2.4.7.1 1M6 12H4V4h16v8h-1.6l2.2 1.9c.8-.3 1.3-1\n",
    "            1.3-1.9V4c0-1.1-.9-2-2-2H4c-1.1 0-2 .9-2 2v8c0 1.1.9 2 2 2h2z\" />\n",
    "    </svg>\n",
    "    Volver a SCBI - Computación Cuantica\n",
    "    </button>\n",
    "</a>\n",
    "\n",
    "$ \\newcommand{\\bra}[1]{\\langle #1|} $\n",
    "$ \\newcommand{\\ket}[1]{|#1\\rangle} $\n",
    "$ \\newcommand{\\branew}[1]{\\langle #1|} $\n",
    "$ \\newcommand{\\ketnew}[1]{\\langle #1|} $\n",
    "$ \\newcommand{\\braket}[2]{\\langle #1|#2\\rangle} $\n",
    "$ \\newcommand{\\ketbra}[2]{| #1\\rangle \\langle #2 |} $\n",
    "$ \\newcommand{\\i}{{\\color{blue} i}} $ \n",
    "$ \\newcommand{\\Hil}{{\\cal H}} $\n",
    "$ \\newcommand{\\cg}[1]{{\\rm C}#1} $\n",
    "$ \\newcommand{\\lp}{\\left(} $\n",
    "$ \\newcommand{\\rp}{\\right)} $\n",
    "$ \\newcommand{\\lc}{\\left[} $\n",
    "$ \\newcommand{\\rc}{\\right]} $\n",
    "$ \\newcommand{\\lch}{\\left\\{} $\n",
    "$ \\newcommand{\\rch}{\\right\\}} $\n",
    "$ \\newcommand{\\Lp}{\\Bigl(} $\n",
    "$ \\newcommand{\\Rp}{\\Bigr)} $\n",
    "$ \\newcommand{\\Lc}{\\Bigl[} $\n",
    "$ \\newcommand{\\Rc}{\\Bigr]} $\n",
    "$ \\newcommand{\\Lch}{\\Bigl\\{} $\n",
    "$ \\newcommand{\\Rch}{\\Bigr\\}} $\n",
    "$ \\newcommand{\\rqa}{\\quad \\Rightarrow \\quad} $\n",
    "$ \\newcommand{\\bm}{\\boldsymbol}$"
   ]
  },
  {
   "cell_type": "markdown",
   "id": "080fe82e",
   "metadata": {},
   "source": [
    "# Circuitos equivalentes\n"
   ]
  },
  {
   "cell_type": "markdown",
   "id": "080fe82e",
   "metadata": {},
   "source": [
    "Es posible encontrar distintos circuitos que producen acciones idénticas sobre un estado arbitrario. Se denominan <b>circuitos equivalentes</b>. Matemáticamente, representan distintas descomposiciones del mismo operador unitario en unitarios. Esto es muy importate, pues nos permite construir unas puertas a partir de otras, con lo cual, como ya veremos, implica que  <i>no es necesario tener implementadas todas las puertas.</i>\n"
   ]
  },
  {
   "cell_type": "markdown",
   "id": "080fe82e",
   "metadata": {},
   "source": [
    "## Conjugación\n"
   ]
  },
  {
   "cell_type": "markdown",
   "id": "080fe82e",
   "metadata": {},
   "source": [
    "Una caso muy frecuente es la <b>conjugación</b> de una puerta $V$  por un <b>unitario</b> $U$\n",
    "\\begin{equation}\n",
    "U V   U^\\dagger = V'\n",
    "\\end{equation}\n",
    "El operador conjugado $V'$ tiene <b>la misma acción</b> sobre la base <b>base rotada</b> $\\{\\ket{e'} = U\\ket{e}\\}$ que la que tiene $V$ sobre la original $\\{\\ket{e}\\}$. Por ello\n",
    "\n",
    " \n- Los <b>autovalores</b> de $V$ y de $V'$ son los <b>mismos</b>\n",
    " \n- Los <b>autovectores</b> son los <b>rotados</b>\n",
    "\n",
    "esto es\n",
    "\\begin{equation}\n",
    "\\lambda' = \\lambda ~~~~~~\\hbox{y}~~~~~~  \\ket{\\lambda}' = U\\ket{\\lambda}\n",
    "\\end{equation}\n"
   ]
  },
  {
   "cell_type": "markdown",
   "id": "080fe82e",
   "metadata": {},
   "source": [
    "<div class=\"alert alert-block alert-danger\">\n",
    "<p style=\"color: DarkRed;\">\n",
    "<b>Nota</b>: <i>(Comprobémoslo)</i>\n",
    "<br>\n",
    "\\begin{align*}\n",
    "\\boxed{V \\ket{\\lambda}= \\lambda\\ket{\\lambda}} & ~~ \\Rightarrow ~~~V'\\ket{\\lambda}' =\n",
    "(UVU^\\dagger) U\\ket{\\lambda} = UV\\ket{\\lambda} =  U(\\lambda\\ket{\\lambda}) =\n",
    "\\lambda U\\ket{\\lambda} = \\lambda\\ket{\\lambda}' \\\\\n",
    "& ~~\\Rightarrow ~~~ \\boxed{ V' \\ket{\\lambda}'\n",
    "= \\lambda\\ket{\\lambda}'}\n",
    "\\end{align*}\n",
    "</p></div>\n"
   ]
  },
  {
   "cell_type": "markdown",
   "id": "080fe82e",
   "metadata": {},
   "source": [
    "Por ejemplo, en la Fig.  {numref}`%s <Fig_elementos_H_conjugation>` podemos ver la equivalencía entre $Z$ y $X$ conjugando con $H$.\n",
    "<figure><center>\n",
    "<img src=\"Figuras/Fig_elementos_H_conjugation\" alt=\"\" align=center width='500px'/>\n",
    "<a id='Fig_elementos_H_conjugation'></a>\n",
    "<center>Relación de conjugación entre $Z$ y $X$.</center>\n",
    "</center></figure>\n\n",
    "Para entenderla, tenemos que recordar que  la puerta $H$ lo que hace es girar 180º entorno a un eje que está a 45º grados entre el eje $z$ y el eje $x$. Es decir, lleva el eje $z$ al eje $x$ (lleva $\\ket{0}$ a $\\ket{+}$ y $\\ket{1}$ a $\\ket{-}$). Aquí vemos claramente que la acción de $Z$ sobre la base sin rotar ($\\lch \\ket{0}, \\ket{1} \\rch$) es la misma que la acción de $X$ sobre la base rotada ($\\lch \\ket{+},\\ket{-} \\rch $). Este tipo de equivalencia se sigue de las identidades algebráicas\n",
    "\\begin{eqnarray}\n",
    "HXH = Z ~~~~~&,&~~ ~~~\n",
    "HZH = X \\nonumber\n",
    "\\end{eqnarray}\n"
   ]
  },
  {
   "cell_type": "markdown",
   "id": "080fe82e",
   "metadata": {},
   "source": [
    "Análogamente\n",
    "\\begin{equation*}\n",
    "S X S^\\dagger  = Y ~~~~~~, ~~~~~~~\n",
    "S Y S^\\dagger = -X ~~~~~~, ~~~~~~~\n",
    "S Z S^\\dagger = Z \\, .\n",
    "\\end{equation*}\n",
    "también  son fáciles de visualizar recordando que  $S=\\sqrt{Z}$ es una rotación de $90^\\circ$ en torno al eje $Z$.\n"
   ]
  },
  {
   "cell_type": "markdown",
   "id": "080fe82e",
   "metadata": {},
   "source": [
    "## Conjugación de una exponencial\n"
   ]
  },
  {
   "cell_type": "markdown",
   "id": "080fe82e",
   "metadata": {},
   "source": [
    "Muchas puertas unitarias son de la forma $V = e^{\\alpha A}$. Por ejemplo, si  $A = \\hat{\\bf n}\\cdot \\boldsymbol{\\sigma} $ entonces $  ~\\Rightarrow ~V= R_{\\hat{\\bf n}}(\\theta)$ es el operador que rota un ángulo $\\theta$ en torno al vector $\\hat{\\bf n}$ en la esfera de Bloch de la Ec.  {eq}`%s <ec_puertas_simples_Rn>`.\n"
   ]
  },
  {
   "cell_type": "markdown",
   "id": "080fe82e",
   "metadata": {},
   "source": [
    "<div class=\"alert alert-block alert-info\">\n",
    "<p style=\"color: navy;\">\n",
    "<b>Lema</b>:\n",
    "La conjugación de una exponencial se exponencia\n",
    "</p></div>\n",
    "\n\n"
   ]
  },
  {
   "cell_type": "markdown",
   "id": "080fe82e",
   "metadata": {},
   "source": [
    "<details><summary><p style=\"color:blue\" > >> <i>Demostración</i> </p></summary>\n",
    "\\begin{eqnarray}\n",
    "U e^{\\alpha A} U^\\dagger &=&  U \\left(1 + \\alpha A  + \\frac{1}{2} \\alpha^2 A^2 + ... \\right) U^\\dagger \\\\ \\rule{0mm}{8mm}\n",
    "&=& 1 + \\alpha UAU^\\dagger + \\frac{1}{2}\\alpha^2 UAU^\\dagger U AU^\\dagger + ... \\\\ \\rule{0mm}{8mm}\n",
    "&=& e^{ \\alpha UAU^\\dagger}\n",
    "\\end{eqnarray}\n",
    "</details>\n\n"
   ]
  },
  {
   "cell_type": "markdown",
   "id": "080fe82e",
   "metadata": {},
   "source": [
    "Para el caso $A = \\hat{\\bf n}\\cdot \\boldsymbol{\\sigma} $  la conjugación es\n",
    "\\begin{equation} \\label{ec_elementos_UAU^dagger}\n",
    "U A U^\\dagger ~\\to ~U (\\hat{\\bf n}\\cdot \\boldsymbol{\\sigma} ) U^\\dagger = (U\\hat{\\bf n})\\cdot  \\boldsymbol{\\sigma}\n",
    "\\end{equation}\n"
   ]
  },
  {
   "cell_type": "markdown",
   "id": "080fe82e",
   "metadata": {},
   "source": [
    "<div class=\"alert alert-block alert-success\">\n",
    "<p style=\"color: DarkGreen;\">\n",
    "<b>Ejercicio</b>:\n",
    "Comprueba la Ec.  {eq}`%s <ec_elementos_UAU^dagger>`.\n",
    "</p></div>\n",
    "\n\n"
   ]
  },
  {
   "cell_type": "markdown",
   "id": "080fe82e",
   "metadata": {},
   "source": [
    "<div class=\"alert alert-block alert-info\">\n",
    "<p style=\"color: navy;\">\n",
    "<b>Corolario</b>:\n",
    "La conjugación de una rotación en torno a un eje produce una rotación en torno al eje conjugado\n",
    "\\begin{equation}\n",
    "U R_{\\hat{\\bf n}}(\\theta) U^\\dagger = R_{U\\hat{\\bf n}}(\\theta)\n",
    "\\end{equation}\n",
    "</p></div>\n",
    "\n\n"
   ]
  },
  {
   "cell_type": "markdown",
   "id": "080fe82e",
   "metadata": {},
   "source": [
    "<div class=\"alert alert-block alert-success\">\n",
    "<p style=\"color: DarkGreen;\">\n",
    "<b>Ejemplo</b>:\n",
    "<br>\n",
    "Por ejemplo:\n",
    "\\begin{eqnarray*}\n",
    "H R_z(\\theta) H &=& e^{-i \\theta/2 HZH} =  e^{-i (\\theta/2) X} \\\\ \\rule{0mm}{8mm}\n",
    "&=& R_x(\\theta)\n",
    "\\end{eqnarray*}\n",
    "<figure><center>\n",
    "<img src=\"Figuras/Fig_elementos_HRzHconjugation.png\" alt=\"\" align=center width='700px'/>\n",
    "<a id='Fig_elementos_HRzHconjugation'></a>\n",
    "<center>La conjugación con $H$ de una rotación en $Z$ nos da una rotación en $X$.</center>\n",
    "</center></figure>\n\n",
    "</p></div>\n"
   ]
  },
  {
   "cell_type": "markdown",
   "id": "080fe82e",
   "metadata": {},
   "source": [
    "## Varios qubits\n"
   ]
  },
  {
   "cell_type": "markdown",
   "id": "080fe82e",
   "metadata": {},
   "source": [
    "### Cambiar controlador y controlado en $\\cg{Z}$ y $\\cg{P}$\n"
   ]
  },
  {
   "cell_type": "markdown",
   "id": "080fe82e",
   "metadata": {},
   "source": [
    "La puerta  controlada $\\cg{Z} =  {\\rm diag}(1,1,1,-1)$   es simétrica ya que lo único que hace, es cambiar de signo al estado $\\ket{11}$. Podemos ver esto en la Fig.  {numref}`%s <Fig_elementos_Equiv_Z>`.\n",
    "<figure><center>\n",
    "<img src=\"Figuras/Fig_elementos_Equiv_Z.png\" alt=\"\" align=center width='350px'/>\n",
    "<a id='Fig_elementos_Equiv_Z'></a>\n",
    "<center>Equivalencia entre $\\cg{Z}$s cambiando el qubit controlador y el controlado.</center>\n",
    "</center></figure>\n\n",
    "En realidad, $\\cg{Z}$ es un caso particular de   $\\cg{P(\\phi)} = {\\rm diag} (1,1,1, e^{i\\phi})$, para la cual la equivalencia es la misma.\n"
   ]
  },
  {
   "cell_type": "markdown",
   "id": "080fe82e",
   "metadata": {},
   "source": [
    "### Cambiar controlador y controlado en la CNOT\n"
   ]
  },
  {
   "cell_type": "markdown",
   "id": "080fe82e",
   "metadata": {},
   "source": [
    "Otra equivalencia importante es la de la Fig.  {numref}`%s <Fig_elementos_Equiv_HH>`. Para probarla, observemos que las tres puertas del segundo qubit se pueden componer para dar $HXH=Z$. Por el contrario, las dos puertas de Hadamard en el primer qubit no se pueden multiplicar al haber un control entre ellas. Sin embargo, usando la  equivalencia de la Fig.  {numref}`%s <Fig_elementos_Equiv_Z>` podemos invertir la puerta $\\cg{Z}$ y, finalmente, conjugar en el primer qubit $HZH=X$.\n",
    "<figure><center>\n",
    "<img src=\"Figuras/Fig_elementos_Equiv_HH.png\" alt=\"\" align=center width='450px'/>\n",
    "<a id='Fig_elementos_Equiv_HH'></a>\n",
    "<center>Equivalencia entre CNOTs cambiando el qubit controlador y el controlado</center>\n",
    "</center></figure>\n\n"
   ]
  },
  {
   "cell_type": "markdown",
   "id": "080fe82e",
   "metadata": {},
   "source": [
    "### SWAP a partir de CNOTs\n"
   ]
  },
  {
   "cell_type": "markdown",
   "id": "080fe82e",
   "metadata": {},
   "source": [
    "Otra  equivalencia nada intuitiva pero muy importante relaciona tres operaciones CNOT con la permutación U$_{\\rm SWAP}$ de la Fig.  {numref}`%s <Fig_elementos_Equiv_CNOTs>`. No hay una forma sencilla de probar esta identidad, así que lo recomendable es escribir las matrices asociadas a cada miembro y comprobar que son iguales. Vemos que gracias a esta equivalencia, la SWAP no es una puerta fundamental.\n",
    "<figure><center>\n",
    "<img src=\"Figuras/Fig_elementos_Equiv_CNOTs.png\" alt=\"\" align=center width='450px'/>\n",
    "<a id='Fig_elementos_Equiv_CNOTs'></a>\n",
    "<center>Construcción de la puerta SWAP mediante CNOTs.</center>\n",
    "</center></figure>\n\n"
   ]
  },
  {
   "cell_type": "markdown",
   "id": "080fe82e",
   "metadata": {},
   "source": [
    "<div class=\"alert alert-block alert-warning\">\n",
    "<p style=\"color: #4B5320;\">\n",
    "<b>Jupyter Notebook</b>: <i>([7. Elementos básicos de los algoritmos cuánticos](https://www.scbi.uma.es/web/wp-content/uploads/Jupyterbook/CICC_UMA/Notebooks/html/docs/Part_01/Chapter_07-Elementos_Basicos_myst.html))</i>\n",
    "<br>\n",
    "Ver la sección [7.1. SWAP a partir de CNOTs](https://www.scbi.uma.es/web/wp-content/uploads/Jupyterbook/CICC_UMA/Notebooks/html/docs/Part_01/Chapter_07-Elementos_Basicos_myst.html#swap-a-partir-de-cnots) del notebook [7. Elementos básicos de los algoritmos cuánticos](https://www.scbi.uma.es/web/wp-content/uploads/Jupyterbook/CICC_UMA/Notebooks/html/docs/Part_01/Chapter_07-Elementos_Basicos_myst.html).\n",
    "<br>\n",
    "El Notebook puede descargarse de [Github](https://github.com/davidcb98/CICC_UMA/blob/master/Notebooks/Part_01/Chapter_07-Elementos_Basicos.ipynb).\n",
    "</p></div>\n"
   ]
  },
  {
   "cell_type": "markdown",
   "id": "080fe82e",
   "metadata": {},
   "source": [
    "### $\\cg{K}$ (puerta de phase global controlada) y $P_\\phi$\n"
   ]
  },
  {
   "cell_type": "markdown",
   "id": "080fe82e",
   "metadata": {},
   "source": [
    "La puerta de phase global controlada, $\\cg{K_\\phi} = {\\rm diag} (1,1,e^{i\\phi}, e^{i\\phi})$, secretamente, no es una puerta controlada\n",
    "<figure><center>\n",
    "<img src=\"Figuras/Fig_elementos_Equiv_Kphase.png\" alt=\"\" align=center width='350px'/>\n",
    "<a id='Fig_elementos_Equiv_Kphase'></a>\n",
    "<center>La puerta controlada de fase global no es una puerta controlada.</center>\n",
    "</center></figure>\n\n"
   ]
  },
  {
   "cell_type": "markdown",
   "id": "080fe82e",
   "metadata": {},
   "source": [
    "<div class=\"alert alert-block alert-success\">\n",
    "<p style=\"color: DarkGreen;\">\n",
    "<b>Ejercicio</b>:\n",
    "Demuestra las equivalencia de circuitos anteriores de dos formas:\n",
    "<br>\n",
    "<br>\na) sobre el papel,  multiplicando las matrices asociadas\n",
    "<br>\nb) en qiskit, componiendo los circuitos y extrayendo el operador unitario asociado.\n",
    "<br>\n",
    "</p></div>\n",
    "\n\n"
   ]
  },
  {
   "cell_type": "markdown",
   "id": "080fe82e",
   "metadata": {},
   "source": [
    "<div class=\"alert alert-block alert-success\">\n",
    "<p style=\"color: DarkGreen;\">\n",
    "<b>Ejercicio</b>:\n",
    "Comprueba la equivalencia de los dos circuitos siguientes, siempre que se verifique que $V^2 = U$\n",
    "<figure><center>\n",
    "<img src=\"Figuras/Fig_elementos_CCUdecomposition.png\" alt=\"\" align=center width='600px'/>\n",
    "<a id='Fig_elementos_CCUdecomposition'></a>\n",
    "<center>Desconposición de una puerta con dos controles</center>\n",
    "</center></figure>\n\n",
    "Pista: puedes demostrarlo viendo que operaciones hacen ambos circuitos sobre el tercer qubit cuando por los dos\n",
    "primeros entran los 4 estados posibles ($\\ket{00}$, $\\ket{10}$, $\\ket{01}$ y $\\ket{11}$)\n",
    "</p></div>\n",
    "\n\n"
   ]
  },
  {
   "cell_type": "markdown",
   "id": "8534e04c",
   "metadata": {},
   "source": [
    "<figure><center>\n",
    "<img   src=\"https://quantumspain-project.es/wp-content/uploads/2022/11/Logo_QS_EspanaDigital.png\" align=center  width=\"2000px\"/>\n",
    "</center></figure>\n",
    "\n",
    "<center>\n",
    "<img align=\"left\" src=\"https://quantumspain-project.es/wp-content/uploads/2024/02/Banner-QS_GOB_v2.png\" width=\"1000px\" />\n",
    "</center>"
   ]
  }
 ],
 "metadata": {
  "kernelspec": {
   "display_name": "Python 3 (ipykernel)",
   "language": "python",
   "name": "python3"
  },
  "language_info": {
   "codemirror_mode": {
    "name": "ipython",
    "version": 3
   },
   "file_extension": ".py",
   "mimetype": "text/x-python",
   "name": "python",
   "nbconvert_exporter": "python",
   "pygments_lexer": "ipython3",
   "version": "3.11.7"
  },
  "toc": {
   "base_numbering": 1,
   "nav_menu": {},
   "number_sections": false,
   "sideBar": true,
   "skip_h1_title": true,
   "title_cell": "Table of Contents",
   "title_sidebar": "Contents",
   "toc_cell": false,
   "toc_position": {},
   "toc_section_display": true,
   "toc_window_display": false
  }
 },
 "nbformat": 4,
 "nbformat_minor": 5
}
