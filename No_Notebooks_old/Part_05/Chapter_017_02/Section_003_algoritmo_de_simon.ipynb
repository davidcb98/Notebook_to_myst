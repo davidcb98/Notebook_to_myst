{
 "cells": [
  {
   "cell_type": "markdown",
   "id": "8ddaeb38",
   "metadata": {},
   "source": [
    "<a href=\"https://www.scbi.uma.es/\" target=\"_blank\">\n",
    "<img src=\"Figuras/Fig_logo_UMA_scbi.png\" align=center width=\"2000px\">\n",
    "</a>\n",
    "\n",
    "\n",
    "\n",
    "<a href=\"https://www.scbi.uma.es/web/es/computacion-cuantica/\">\n",
    "    <button class=\"rounded\" style=\"float: right;\">\n",
    "    <svg xmlns=\"http://www.w3.org/2000/svg\" width=\"32\" height=\"32\" viewBox=\"0 0 24 24\">\n",
    "        <path fill=\"var(--fill, white)\"\n",
    "        d=\"M18.1 15.3c-.1.1-.3.2-.4.3l-2.4.4l1.7 3.6c.2.4 0 .8-.4\n",
    "            1l-2.8 1.3c-.1.1-.2.1-.3.1c-.3 0-.6-.2-.7-.4L11.2\n",
    "            18l-1.9 1.5c-.1.1-.3.2-.5.2c-.4 0-.8-.3-.8-.8V7.5c0-.5.3-.8.8-.8c.2 0\n",
    "            .4.1.5.2l8.7 7.4c.3.2.4.7.1 1M6 12H4V4h16v8h-1.6l2.2 1.9c.8-.3 1.3-1\n",
    "            1.3-1.9V4c0-1.1-.9-2-2-2H4c-1.1 0-2 .9-2 2v8c0 1.1.9 2 2 2h2z\" />\n",
    "    </svg>\n",
    "    Volver a SCBI - Computación Cuantica\n",
    "    </button>\n",
    "</a>\n",
    "\n",
    "$ \\newcommand{\\bra}[1]{\\langle #1|} $\n",
    "$ \\newcommand{\\ket}[1]{|#1\\rangle} $\n",
    "$ \\newcommand{\\branew}[1]{\\langle #1|} $\n",
    "$ \\newcommand{\\ketnew}[1]{\\langle #1|} $\n",
    "$ \\newcommand{\\braket}[2]{\\langle #1|#2\\rangle} $\n",
    "$ \\newcommand{\\ketbra}[2]{| #1\\rangle \\langle #2 |} $\n",
    "$ \\newcommand{\\i}{{\\color{blue} i}} $ \n",
    "$ \\newcommand{\\Hil}{{\\cal H}} $\n",
    "$ \\newcommand{\\cg}[1]{{\\rm C}#1} $\n",
    "$ \\newcommand{\\lp}{\\left(} $\n",
    "$ \\newcommand{\\rp}{\\right)} $\n",
    "$ \\newcommand{\\lc}{\\left[} $\n",
    "$ \\newcommand{\\rc}{\\right]} $\n",
    "$ \\newcommand{\\lch}{\\left\\{} $\n",
    "$ \\newcommand{\\rch}{\\right\\}} $\n",
    "$ \\newcommand{\\Lp}{\\Bigl(} $\n",
    "$ \\newcommand{\\Rp}{\\Bigr)} $\n",
    "$ \\newcommand{\\Lc}{\\Bigl[} $\n",
    "$ \\newcommand{\\Rc}{\\Bigr]} $\n",
    "$ \\newcommand{\\Lch}{\\Bigl\\{} $\n",
    "$ \\newcommand{\\Rch}{\\Bigr\\}} $\n",
    "$ \\newcommand{\\rqa}{\\quad \\Rightarrow \\quad} $\n",
    "$ \\newcommand{\\bm}{\\boldsymbol}$"
   ]
  },
  {
   "cell_type": "markdown",
   "id": "080fe82e",
   "metadata": {},
   "source": [
    "# Algoritmo de Simon\n"
   ]
  },
  {
   "cell_type": "markdown",
   "id": "080fe82e",
   "metadata": {},
   "source": [
    "Los algoritmos de Deutsch-Jozsa y Bernstein-Vazirani son deterministas, pues con un 100\\% de probabilidad nos dan la solución. Si relajamos esta condición y nos quedamos con que nuestro algoritmo nos da la solución de forma probabilística, podemos ver muchos más algoritmos, como por ejemplo, el de Simon.\n"
   ]
  },
  {
   "cell_type": "markdown",
   "id": "080fe82e",
   "metadata": {},
   "source": [
    "El algoritmo de Simon fue el primer algoritmo cuántico que mostró una aceleración exponencial frente al mejor algoritmo clásico en la resolución de un problema específico. Esto inspiró los algoritmos cuánticos basados en la transformada cuántica de Fourier (QFT), que se utiliza en el algoritmo cuántico más famoso: El algoritmo de factorización de Shor.\n"
   ]
  },
  {
   "cell_type": "markdown",
   "id": "080fe82e",
   "metadata": {},
   "source": [
    "\n",
    " \n- <b>Promesa:</b> Consideremos ahora una función $f:\\{0,1\\}^n \\to \\{0,1\\}^n$ con la siguiente propiedad: la función $f$ puede ser de dos tipos:\n",
    "\n",
    " \n    - <b>Uno-a-uno</b>: asigna una salida única para cada entrada. Un ejemplo sería el siguiente:\n",
    "        \\begin{equation}\n",
    "        f(00) \\rightarrow 01 ~~~~\n",
    "        f(01) \\rightarrow 11 ~~~~\n",
    "        f(10) \\rightarrow 00 ~~~~\n",
    "        f(11) \\rightarrow 10\n",
    "        \\end{equation}\n",
    " \n    - <b>dos-a-uno</b>: asigna exactamente dos entradas a cada salida única. Este mapeo dos-a-uno es de acuerdo con una cadena de bits oculta $a$. Formalmente, dada una función $f:\\{0,1\\}^n \\to \\{0,1\\}^n$ tenemos la promesa se que, para algún valor desconocido $a \\in \\{0,1\\}^n$, para todo $x, y \\in \\{0,1\\}^n$\n",
    "        \\begin{equation}\n",
    "        f(x) = f(y) \\text{ si y solo si } x \\oplus y = a\n",
    "        \\end{equation}\n",
    "        donde $\\oplus$ denota la suma XOR binaria (bit a bit).\n",
    "        Equivalentemente, podemos escribir:\n",
    "        \\begin{equation}\n",
    "        f(y \\oplus a ) = f(y).\n",
    "        \\end{equation}\n",
    "        Un ejemplo con una función que toma 4 entradas es\n",
    "        \\begin{equation}\n",
    "        f(00) \\rightarrow 01 ~~~~\n",
    "        f(01) \\rightarrow 11 ~~~~\n",
    "        f(10) \\rightarrow 01 ~~~~\n",
    "        f(11) \\rightarrow 11\n",
    "        \\end{equation}\n",
    "        Donde $00 \\oplus 10 =  10$ y $01 \\oplus 11 = 10$, con lo cual $s =10$\n",
    "\n",
    "    <div class=\"alert alert-block alert-danger\">\n",
    "<p style=\"color: DarkRed;\">\n",
    "<b>Nota</b>: <i>(Suma XOR binaria (bit a bit))</i>\n",
    "<br>\n",
    "    Obsérvese que $x \\oplus y = a$ se refiere a suma módulo 2 bit a bit, es decir, sumamos el primer bit con el primero y, independientemente de cual sea el resultado de la suma, no nos llevamos nada. El ejemplo más claro es este: $00111 \\oplus 00111 = 00000$.\n",
    "    </p></div>\n",
    " \n- <b>Problema:</b> Dada esta caja negra $f$, como de rápido podemos determinar si $f$ es uno-a-uno o dos-a-uno? Entonces, si $f$ resulta ser dos-a-uno, como de rápido podemos determinar $a$? En realidad los dos casos consisten en encontrar $a$, pues el caso uno-a-uno corresponde con $a=00\\dots$. (La mejor complejidad para un algoritmo clásico aleatorio que resuelva el problema de Simon es de al menos $\\mathcal{O}(2^{n/2})$)\n",
    " \n- <b>Solución:</b> El circuito será el de la Fig.  {numref}`%s <Fig_algoritmos_SimonCircuit>`\n",
    "    <figure><center>\n",
    "    <img src=\"Figuras/Fig_algoritmos_SimonCircuit.png\" alt=\"\" align=center width='600px'/>\n",
    "    <a id='Fig_algoritmos_SimonCircuit'></a>\n",
    "    <center>Circuito para el algoritmo de Simon.</center>\n",
    "    </center></figure>\n\n",
    "    A diferencia de los casos anteriores, ahora tenemos varias ancilas y están en el estado $\\ket{0}_n$, es decir, tenemos un oráculo booleano, no de fase:\n",
    "    \\begin{equation}\n",
    "    U_f \\sum_{x=0}^{2^n-1}\\ket{x}\\otimes \\ket{0}  = \\sum_{x=0}^{2^n-1}\\ket{x}\\otimes \\ket{f(x)} \\,.\n",
    "    \\end{equation}\n",
    "    Después de aplicar el oráculo el estado está entrelazado. Al hacer la medida del segundo registro  el estado del segundo registro colapsará a un cierto estado $\\ket{f(x_0)}$. En virtud de la <i>promesa </i>$\\ket{f(x_0)} = \\ket{f(x_0\\oplus s)}$, el primer registro colapsará a una <i>superposición de dos estados</i> :\n",
    "    \\begin{equation}\n",
    "    \\ket{\\psi} = \\frac{1}{\\sqrt{2}} \\left( \\rule{0mm}{4mm} \\ket{x_0} + \\ket{x_0 \\oplus s} \\right) \\,.\n",
    "    \\end{equation}\n",
    "    justo antes de la barrera. Es decir, <b>la medida intermedia es parte importante del algoritmo</b>, pues queremos el colapso que provoca.\n",
    "    Siguiendo el circuito, aplicamos de nuevo la puerta de Walsh-Hadamard al primer registro\n",
    "    \\begin{eqnarray}\n",
    "    H^{\\otimes n} \\frac{1}{\\sqrt{2}} \\left( \\rule{0mm}{4mm} \\ket{x_0} + \\ket{x_0 \\oplus s} \\right) &=& \\frac{1}{\\sqrt{2^{n+1}}} \\sum_{y=0}^{2^n-1} \\left[ (-1)^{x_0\\cdot y} + (-1)^{(x_0\\oplus s) \\cdot y}\\right]  \\ket{y} \\nonumber\\\\ \\rule{0mm}{10mm}\n",
    "    &=& \\frac{1}{\\sqrt{2^{n+1}}} \\sum_{y=0}^{2^n-1} \\left[ (-1)^{x_0\\cdot y} + (-1)^{x_0 \\cdot y}(-1)^{ s \\cdot y}\\right]  \\ket{y} \\nonumber\\\\ \\rule{0mm}{10mm}\n",
    "    &=&  \\frac{1}{\\sqrt{2^{n+1}}} \\sum_{y=0}^{2^n-1}(-1)^{x_0\\cdot y}  \\left( \\rule{0mm}{6mm} 1+ (-1)^{s \\cdot y}\\right) \\ket{y}\n",
    "    \\end{eqnarray}\n",
    "    Observar  el factor\n",
    "    \\begin{equation}\n",
    "    \\frac{1}{2}\\left( \\rule{0mm}{3mm} 1+ (-1)^{s \\cdot y}\\right)~~ = ~~\n",
    "    \\left\\{\\begin{array}{ccc} 0 &\\hbox{si}&  s \\cdot y\\, (\\hbox{mod 2}) = 1 \\\\\n",
    "    1 &\\hbox{si} & s\\cdot y\\, (\\hbox{mod 2}) = 0\\end{array}\n",
    "    \\right.  \\,.\n",
    "    \\end{equation}\n",
    "    Este hace que <b>sólo tengan amplitud no nula</b> aquellos  $\\ket{y}$ con $s\\cdot y\\,  (\\hbox{mod 2})= 0$. Midiendo de forma repetida el primer registro, obtendremos una serie de cadenas de n-bits $ y^{(a)} = y^{(1)},y^{(2)},...,y^{(n)}$ todos los cuales  verifican un sistema homogéneo de $n$ ecuaciones lineales\n",
    "    \\begin{eqnarray}\n",
    "    s\\cdot y^{(1)} (\\hbox{mod(2)})~=~ s_{n-1}y^{(1)}_{n-1} \\oplus s_{n-2}y^{(1)}_{n-2} \\oplus \\ldots \\oplus s_0 y^{(1)}_0  &~=~& 0 \\nonumber\\\\ \\rule{0mm}{8mm}\n",
    "    s\\cdot y^{(2)} (\\hbox{mod(2)}) ~=~ s_{n-1}y^{(2)}_{n-1} \\oplus s_{n-2}y^{(2)}_{n-2} \\oplus \\ldots \\oplus s_0 y^{(2)}_0 &~=~& 0 \\nonumber\\\\\n",
    "    \\vdots & & \\nonumber\\\\ \\rule{0mm}{10mm}\n",
    "    s\\cdot y^{(n)} (\\hbox{mod(2)}) ~=~ s_{n-1}y^{(p)}_{n-1} \\oplus s_{n-2}y^{(n)}_{n-2} \\oplus \\ldots \\oplus s_0 y^{(n)}_0 &~=~& 0 \\nonumber\\\\\n",
    "    \\end{eqnarray}\n",
    "    donde todas las suma se entienden módulo dos. Por un lado $s=s_{n-1}\\ldots s_0$ son nuestras incógnitas y, por otro, $y^{(a)} = y^{(a)}_{n-1}\\ldots y^{(a)}_0$ los coeficientes conocidos como resultado de las medidas. Dado que tenemos que averiguar los $n$ bits que conforman la solución $s$ necesitaremos, como mínimo, $n$ ecuaciones linealmente independientes. Es decir, necesitamos medir mínimo $n$ estados diferentes.\n",
    "    Una vez que hemos medido $n$ estados diferentes, podemos hacer un post-procesado clásico para calcular $s$. Por ejemplo, eliminación gaussiana.\n",
    "\n"
   ]
  },
  {
   "cell_type": "markdown",
   "id": "080fe82e",
   "metadata": {},
   "source": [
    "<div class=\"alert alert-block alert-warning\">\n",
    "<p style=\"color: #4B5320;\">\n",
    "<b>Jupyter Notebook</b>: <i>([9. Algoritmos del Oráculo)](https://www.scbi.uma.es/web/wp-content/uploads/Jupyterbook/CICC_UMA/Notebooks/html/docs/Part_01/Chapter_09-Busqueda_Oracula_myst.html))</i>\n",
    "<br>\n",
    "Ver la sección [9.2. El problema de Simon](https://www.scbi.uma.es/web/wp-content/uploads/Jupyterbook/CICC_UMA/Notebooks/html/docs/Part_01/Chapter_09-Busqueda_Oracula_myst.html#el-problema-de-simon) del notebook [9. Algoritmos del Oráculo)](https://www.scbi.uma.es/web/wp-content/uploads/Jupyterbook/CICC_UMA/Notebooks/html/docs/Part_01/Chapter_09-Busqueda_Oracula_myst.html).\n",
    "<br>\n",
    "El Notebook puede descargarse de [Github](https://github.com/davidcb98/CICC_UMA/blob/master/Notebooks/Part_01/Chapter_09-Busqueda_Oracula.ipynb).\n",
    "</p></div>\n"
   ]
  },
  {
   "cell_type": "markdown",
   "id": "080fe82e",
   "metadata": {},
   "source": [
    "<div class=\"alert alert-block alert-success\">\n",
    "<p style=\"color: DarkGreen;\">\n",
    "<b>Ejercicio</b>:\n",
    "Completa el código del algoritmo de Simon en el notebook 08-Busqueda\\_Oracula\n",
    "</p></div>\n",
    "\n\n"
   ]
  },
  {
   "cell_type": "markdown",
   "id": "080fe82e",
   "metadata": {},
   "source": [
    "<div class=\"alert alert-block alert-danger\">\n",
    "<p style=\"color: DarkRed;\">\n",
    "<b>Nota</b>: <i>(un algoritmo probabilístico (no determinista).)</i>\n",
    "<br>\n",
    "No hay garantía de que las cadenas de bits $y$ obtenidos en las distintas evaluaciones del circuito sean siempre diferentes entre sí.\n",
    "Por tanto en general, para obtener un sistema lineal resoluble será necesario correr el circuito un número mayor de veces que $n$.\n",
    "Es por esta razón que el algoritmo de Simon es <i>probabilístico</i>.\n",
    "</p></div>\n"
   ]
  },
  {
   "cell_type": "markdown",
   "id": "080fe82e",
   "metadata": {},
   "source": [
    "<div class=\"alert alert-block alert-danger\">\n",
    "<p style=\"color: DarkRed;\">\n",
    "<b>Nota</b>: <i>(Bernstein-Vazirani en Qiskit)</i>\n",
    "<br>\n",
    "Se puede ver otra explicación del algoritmo de  Simon junto con su implementación en Qiskit en el\n",
    "[Notebook de Qiskit (https://learn.qiskit.org/course/ch-algorithms/simons-algorithm)](https://learn.qiskit.org/course/ch-algorithms/simons-algorithm).\n",
    "</p></div>\n"
   ]
  },
  {
   "cell_type": "markdown",
   "id": "080fe82e",
   "metadata": {},
   "source": [
    "<div class=\"alert alert-block alert-danger\">\n",
    "<p style=\"color: DarkRed;\">\n",
    "<b>Nota</b>: <i>(primer algoritmo con ventaja exponencial)</i>\n",
    "<br>\n",
    "En este problema concreto el algoritmo cuántico realiza exponencialmente menos pasos que el clásico. Puede resultar difícil imaginar una aplicación de este algoritmo\n",
    "(aunque inspiró el algoritmo más famoso creado por Shor), pero representa la primera prueba de que puede haber una aceleración exponencial en la resolución de un\n",
    "problema específico utilizando un ordenador cuántico en lugar de uno clásico.\n",
    "</p></div>\n"
   ]
  },
  {
   "cell_type": "markdown",
   "id": "8534e04c",
   "metadata": {},
   "source": [
    "<figure><center>\n",
    "<img   src=\"https://quantumspain-project.es/wp-content/uploads/2022/11/Logo_QS_EspanaDigital.png\" align=center  width=\"2000px\"/>\n",
    "</center></figure>\n",
    "\n",
    "<center>\n",
    "<img align=\"left\" src=\"https://quantumspain-project.es/wp-content/uploads/2024/02/Banner-QS_GOB_v2.png\" width=\"1000px\" />\n",
    "</center>"
   ]
  }
 ],
 "metadata": {
  "kernelspec": {
   "display_name": "Python 3 (ipykernel)",
   "language": "python",
   "name": "python3"
  },
  "language_info": {
   "codemirror_mode": {
    "name": "ipython",
    "version": 3
   },
   "file_extension": ".py",
   "mimetype": "text/x-python",
   "name": "python",
   "nbconvert_exporter": "python",
   "pygments_lexer": "ipython3",
   "version": "3.11.7"
  },
  "toc": {
   "base_numbering": 1,
   "nav_menu": {},
   "number_sections": false,
   "sideBar": true,
   "skip_h1_title": true,
   "title_cell": "Table of Contents",
   "title_sidebar": "Contents",
   "toc_cell": false,
   "toc_position": {},
   "toc_section_display": true,
   "toc_window_display": false
  }
 },
 "nbformat": 4,
 "nbformat_minor": 5
}
