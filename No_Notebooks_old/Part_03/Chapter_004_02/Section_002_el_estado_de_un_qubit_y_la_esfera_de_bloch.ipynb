{
 "cells": [
  {
   "cell_type": "markdown",
   "id": "8ddaeb38",
   "metadata": {},
   "source": [
    "<figure><center>\n",
    "<img   src=\"Figuras/Fig_logo_UMA_scbi.png\" align=center  width=\"2000px\"/>\n",
    "</center></figure>\n",
    "\n",
    "$ \\newcommand{\\bra}[1]{\\langle #1|} $\n",
    "$ \\newcommand{\\ket}[1]{|#1\\rangle} $\n",
    "$ \\newcommand{\\branew}[1]{\\langle #1|} $\n",
    "$ \\newcommand{\\ketnew}[1]{\\langle #1|} $\n",
    "$ \\newcommand{\\braket}[2]{\\langle #1|#2\\rangle} $\n",
    "$ \\newcommand{\\ketbra}[2]{| #1\\rangle \\langle #2 |} $\n",
    "$ \\newcommand{\\i}{{\\color{blue} i}} $ \n",
    "$ \\newcommand{\\Hil}{{\\cal H}} $\n",
    "$ \\newcommand{\\cg}[1]{{\\rm C}#1} $\n",
    "$ \\newcommand{\\lp}{\\left(} $\n",
    "$ \\newcommand{\\rp}{\\right)} $\n",
    "$ \\newcommand{\\lc}{\\left[} $\n",
    "$ \\newcommand{\\rc}{\\right]} $\n",
    "$ \\newcommand{\\lch}{\\left\\{} $\n",
    "$ \\newcommand{\\rch}{\\right\\}} $\n",
    "$ \\newcommand{\\Lp}{\\Bigl(} $\n",
    "$ \\newcommand{\\Rp}{\\Bigr)} $\n",
    "$ \\newcommand{\\Lc}{\\Bigl[} $\n",
    "$ \\newcommand{\\Rc}{\\Bigr]} $\n",
    "$ \\newcommand{\\Lch}{\\Bigl\\{} $\n",
    "$ \\newcommand{\\Rch}{\\Bigr\\}} $\n",
    "$ \\newcommand{\\rqa}{\\quad \\Rightarrow \\quad} $\n",
    "$ \\newcommand{\\bm}{\\boldsymbol}$"
   ]
  },
  {
   "cell_type": "markdown",
   "id": "080fe82e",
   "metadata": {},
   "source": [
    "# El estado de un qúbit y la esfera de Bloch\n",
    "## Parametrización del estado de un qúbit.\n"
   ]
  },
  {
   "cell_type": "markdown",
   "id": "080fe82e",
   "metadata": {},
   "source": [
    "Como ya sabemos, en un bit clásico podemos almacenar un valor, o 0 o 1. La pregunta ahora es, ¿cuánta información podemos almacenar en un qúbit? De forma genérica, el <b>estado de un qubit</b> se puede representar como\n",
    "\\begin{equation}\n",
    "\\ket{u} = a \\ket{0} + b \\ket{1}, ~~~~ \\text{con } a,b \\in \\mathbb{C}\n",
    "\\end{equation}\n"
   ]
  },
  {
   "cell_type": "markdown",
   "id": "080fe82e",
   "metadata": {},
   "source": [
    "<div class=\"alert alert-block alert-danger\">\n",
    "<p style=\"color: DarkRed;\">\n",
    "<b>Nota</b>:\n",
    "<br>\n",
    "Habitualmente, se denomina simplemente <b>qúbit</b> al <b>estado del qúbit</b>.\n",
    "</p></div>\n"
   ]
  },
  {
   "cell_type": "markdown",
   "id": "080fe82e",
   "metadata": {},
   "source": [
    "En principio, como $a$ y $b$ son complejos tenemos 4 grados de libertas. Sin embargo, tenemos una ligadura, la normalización del estado\n",
    "\\begin{equation}\n",
    "|a|^2 + |b|^2 = 1,\n",
    "\\end{equation}\n",
    "lo que nos deja 3 grados de libertar.\n"
   ]
  },
  {
   "cell_type": "markdown",
   "id": "080fe82e",
   "metadata": {},
   "source": [
    "<div class=\"alert alert-block alert-danger\">\n",
    "<p style=\"color: DarkRed;\">\n",
    "<b>Nota</b>: <i>(Normalización de un estado)</i>\n",
    "<br>\n",
    "El estado completo de un sistema cuántico debe estar normalizada a $1$, pues la probabilidad de medir algo alguno de los estados debe de ser el 100 \\%\n",
    "</p></div>\n"
   ]
  },
  {
   "cell_type": "markdown",
   "id": "080fe82e",
   "metadata": {},
   "source": [
    "Además, como en mecánica cuántica las fases globales no tienen significado, perdemos otro grado de libertad. Nos quedamos pues con dos grados de libertar (reales), es decir, solo necesitamos dos parámetros reales para parametrizar el estado estado de un qubit. La parametrización más habitual se presenta en el siguiente lemma:\n"
   ]
  },
  {
   "cell_type": "markdown",
   "id": "080fe82e",
   "metadata": {},
   "source": [
    "<div class=\"alert alert-block alert-danger\">\n",
    "<p style=\"color: DarkRed;\">\n",
    "<b>Nota</b>: <i>(las fases gobales)</i>\n",
    "<br>\n",
    "Al multiplicar un estado por una fase de la forma $e^{i \\phi}$, el estado es el mismo\n",
    "</p></div>\n"
   ]
  },
  {
   "cell_type": "markdown",
   "id": "080fe82e",
   "metadata": {},
   "source": [
    "<div class=\"alert alert-block alert-info\">\n",
    "<p style=\"color: navy;\">\n",
    "<b>Lema</b>:\n",
    "El <b>qúbit</b> $\\ket{u}$  <b>más general</b> se puede representar, en la base computacional\n",
    "$\\{\\ket{0},\\ket{1}\\}$, usando dos números reales (ángulos) $\\theta\\in [0,\\pi)$ y $\\varphi\\in [0,2\\pi)$\n",
    "\\begin{equation} \\label{ec_qubit_caso_general}\n",
    "\\boxed{\\ket{u} = \\cos{\\frac{\\theta}{2}}\\, |0\\rangle + e^{i\\varphi}\\sin{\\frac{\\theta}{2}}\\,|1\\rangle }\n",
    "\\end{equation}\n",
    "</p></div>\n",
    "\n\n"
   ]
  },
  {
   "cell_type": "markdown",
   "id": "080fe82e",
   "metadata": {},
   "source": [
    "<details><summary><p style=\"color:blue\" > >> <i>Demostración</i> </p></summary>\n",
    "Para demostrar el lema escribimos un vector de estado general usando la representación polar para\n",
    "las componentes complejas\n",
    "\\begin{equation}\n",
    "\\begin{array}{rcl}\n",
    "\\ket{u} &=& u_0\\ket{0} + u_1\\ket{1} \\\\\n",
    "&=& a_0 e^{i b_0}\\ket{0} + a_1 e^{ib_1}\\ket{1}\\\\\n",
    "&=& e^{i b_0}\\big(a_0 \\ket{0} + a_1 e^{i(b_1-b_0)}\\ket{1}\\big)\\\\\n",
    "&\\sim & \\big( a_0 \\ket{0} + a_1 e^{i(b_1-b_0)}\\ket{1} \\big)\n",
    "\\end{array}\n",
    "\\end{equation}\n",
    "<br>\n",
    "donde hemos hecho uso de la irrelevancia de una fase global para descartar $e^{i b_0}$ en la última línea.\n",
    "<br>\n",
    "Ahora $a_1$ y $a_0$ no son números independientes sino que verifican $a_0^2 + a_1^2 = 0$ para que\n",
    "$\\|\\ket{u}\\|=1$. Esta ecuación se puede resolver en términos de un ángulo $\\theta/2$ tal que\n",
    "\\begin{equation}\n",
    "a_0 = \\cos\\frac{\\theta}{2}~~~,~~~ a_1 = \\sin\\frac{\\theta}{2}\n",
    "\\end{equation}\n",
    "Por su parte, de los números $b_1, b_2$ sólo la diferencia\n",
    "\\begin{equation}\n",
    "\\varphi = b_1-b_2\n",
    "\\end{equation}\n",
    "es relevante para especificar $\\ket{u}$.\n",
    "</details>\n\n"
   ]
  },
  {
   "cell_type": "markdown",
   "id": "080fe82e",
   "metadata": {},
   "source": [
    "En componentes escribimos equivalentemente\n",
    "\\begin{equation} \\label{ec_qubit_vec_estado}\n",
    "\\boxed{\\ket{u} = \\begin{bmatrix} & \\cos \\frac{\\theta}{2} \\\\ & e^{i \\psi}  \\sin \\frac{\\theta}{2} \\end{bmatrix}\n",
    "~~~~ \\text{con } \\theta\\in [0,\\pi) \\text{ y } \\phi\\in [0,2\\pi)}\n",
    "\\end{equation}\n"
   ]
  },
  {
   "cell_type": "markdown",
   "id": "080fe82e",
   "metadata": {},
   "source": [
    "## La esfera de Bloch\n"
   ]
  },
  {
   "cell_type": "markdown",
   "id": "080fe82e",
   "metadata": {},
   "source": [
    "Viendo la Ec. (\\ref{ec_qubit_vec_estado}) vemos que podemos interpretar los parámetros $\\theta$ y $\\varphi$ como ángulos y representar el vector de estado del qúbit en sobre una <i>esfera unidad</i>. Dicho de otro modo, podemos representar  cada estado de un qúbit como un <b>punto </b>sobre una esfera de radio unidad: la <b>esfera de Bloch</b>.\n",
    "\n",
    " \n- $\\theta\\in [0,\\pi)$ el ángulo <b>azimutal</b> se mide desde el eje $z$. De modo que $\\theta=\\pi/2$\n",
    "es el <b>ecuador de la esfera de Bloch</b>.\n",
    " \n- $\\phi\\in [0,2\\pi)$ el ángulo <b>polar</b> en torno al eje $z$, medido a partir del plano $XZ$\n",
    "\n"
   ]
  },
  {
   "cell_type": "markdown",
   "id": "080fe82e",
   "metadata": {},
   "source": [
    "Veamos donde se sitúan en la esfera los elementos de las bases $Z$, $X$ e $Y$ que vimos anteriormente\n",
    "\n",
    " \n- $(\\theta, \\phi) = (0, \\phi)   \\rqa e^{i\\phi}  \\ket{0} = \\ket{0}$\n",
    " \n- $(\\theta, \\phi) = (\\pi, \\phi) \\rqa e^{i \\phi} \\ket{1} = \\ket{1}$\n",
    " \n- $(\\theta, \\phi) = (\\pi/2, 0)   \\rqa \\frac{1}{\\sqrt{2}}\\big(|0\\rangle+|1\\rangle \\big) =\\ket{0}_X \\equiv |+\\rangle$\n",
    " \n- $(\\theta, \\phi) = (\\pi/2, \\pi) \\rqa \\frac{1}{\\sqrt{2}}\\big(|0\\rangle-|1\\rangle \\big)=\\ket{1}_X \\equiv |-\\rangle $\n",
    " \n- $(\\theta, \\phi) = (\\pi/2, \\pi/2) \\rqa \\frac{1}{\\sqrt{2}}\\big( |0\\rangle +i|1\\rangle\\big) =\\ket{0}_Y \\equiv  |+i \\rangle $\n",
    " \n- $(\\theta, \\phi) = (\\pi/2, 3\\pi/2) \\rqa \\frac{1}{\\sqrt{2}}\\big(|0\\rangle-i|1\\rangle\\big) = \\ket{1}_Y \\equiv  |-i\\rangle $\n",
    "\n"
   ]
  },
  {
   "cell_type": "markdown",
   "id": "080fe82e",
   "metadata": {},
   "source": [
    "Podemos ver la representación de estos estados sobre la esfera de Bloch en la Fig. \\ref{Fig_qubit_BlochSphere}.\n"
   ]
  },
  {
   "cell_type": "markdown",
   "id": "080fe82e",
   "metadata": {},
   "source": [
    "<figure><center>\n",
    "<img src=\"Figuras/Fig_qubit_BlochSphere.png\" alt=\"\" align=center width='300px'/>\n",
    "<a id='Fig_qubit_BlochSphere'></a>\n",
    "<center>Esfera de Bloch. Figura tomada de [[1]](../../Bibliografia.ipynb#bib_Curso-JMas)</center>\n",
    "</center></figure>\n\n"
   ]
  },
  {
   "cell_type": "markdown",
   "id": "080fe82e",
   "metadata": {},
   "source": [
    "Véase que no estamos representando vectores en un espacio tridimensional, sino algo completamente diferente. En el espacio $\\mathbb{R}^3$, dos vectores son ortogonales si forman un ángulo de 90º. Sin embargo, en la esfera de Bloch <i>dos vectores son ortonales (en realidad, ortonormales) si apuntan en direcciones opuestas</i>. Por ejemplo, ya comentamos que los estados $\\ket{0}$ y $\\ket{1}$ forman una base ortonormal. Si nos fijamos, en la esfera de Bloch el estado $\\ket{0}$ está en el polo norte y el estado $\\ket{1}$ en el polo sur. Lo mismo pasa con $\\ket{0}_X$ y $\\ket{1}_X$ y con $\\ket{0}_Y$ y $\\ket{1}_Y$.\n"
   ]
  },
  {
   "cell_type": "markdown",
   "id": "080fe82e",
   "metadata": {},
   "source": [
    "\\begin{mybox_orange}{Jupyter Notebook: 01-Estados\\_y\\_Esfera\\_de\\_Bloch}\n",
    "Puede verse el Notebook <i>01-Estados\\_y\\_Esfera\\_de\\_Bloch.ipynb</i>. En el se muestra como dibujar estados en la esfera de Bloch usando\n",
    "Qiskit en Python.\n",
    "\\end{mybox_orange}\n"
   ]
  },
  {
   "cell_type": "markdown",
   "id": "8534e04c",
   "metadata": {},
   "source": [
    "<figure><center>\n",
    "<img   src=\"https://quantumspain-project.es/wp-content/uploads/2022/11/Logo_QS_EspanaDigital.png\" align=center  width=\"2000px\"/>\n",
    "</center></figure>\n",
    "\n",
    "<center>\n",
    "<img align=\"left\" src=\"https://quantumspain-project.es/wp-content/uploads/2024/02/Banner-QS_GOB_v2.png\" width=\"1000px\" />\n",
    "</center>"
   ]
  }
 ],
 "metadata": {
  "kernelspec": {
   "display_name": "Python 3 (ipykernel)",
   "language": "python",
   "name": "python3"
  },
  "language_info": {
   "codemirror_mode": {
    "name": "ipython",
    "version": 3
   },
   "file_extension": ".py",
   "mimetype": "text/x-python",
   "name": "python",
   "nbconvert_exporter": "python",
   "pygments_lexer": "ipython3",
   "version": "3.11.7"
  },
  "toc": {
   "base_numbering": 1,
   "nav_menu": {},
   "number_sections": false,
   "sideBar": true,
   "skip_h1_title": true,
   "title_cell": "Table of Contents",
   "title_sidebar": "Contents",
   "toc_cell": false,
   "toc_position": {},
   "toc_section_display": true,
   "toc_window_display": false
  }
 },
 "nbformat": 4,
 "nbformat_minor": 5
}
