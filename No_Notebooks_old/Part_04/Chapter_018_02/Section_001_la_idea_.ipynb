{
 "cells": [
  {
   "cell_type": "markdown",
   "id": "8ddaeb38",
   "metadata": {},
   "source": [
    "<figure><center>\n",
    "<img   src=\"Figuras/Fig_logo_UMA_scbi.png\" align=center  width=\"2000px\"/>\n",
    "</center></figure>\n",
    "\n",
    "$ \\newcommand{\\bra}[1]{\\langle #1|} $\n",
    "$ \\newcommand{\\ket}[1]{|#1\\rangle} $\n",
    "$ \\newcommand{\\branew}[1]{\\langle #1|} $\n",
    "$ \\newcommand{\\ketnew}[1]{\\langle #1|} $\n",
    "$ \\newcommand{\\braket}[2]{\\langle #1|#2\\rangle} $\n",
    "$ \\newcommand{\\ketbra}[2]{| #1\\rangle \\langle #2 |} $\n",
    "$ \\newcommand{\\i}{{\\color{blue} i}} $ \n",
    "$ \\newcommand{\\Hil}{{\\cal H}} $\n",
    "$ \\newcommand{\\cg}[1]{{\\rm C}#1} $\n",
    "$ \\newcommand{\\lp}{\\left(} $\n",
    "$ \\newcommand{\\rp}{\\right)} $\n",
    "$ \\newcommand{\\lc}{\\left[} $\n",
    "$ \\newcommand{\\rc}{\\right]} $\n",
    "$ \\newcommand{\\lch}{\\left\\{} $\n",
    "$ \\newcommand{\\rch}{\\right\\}} $\n",
    "$ \\newcommand{\\Lp}{\\Bigl(} $\n",
    "$ \\newcommand{\\Rp}{\\Bigr)} $\n",
    "$ \\newcommand{\\Lc}{\\Bigl[} $\n",
    "$ \\newcommand{\\Rc}{\\Bigr]} $\n",
    "$ \\newcommand{\\Lch}{\\Bigl\\{} $\n",
    "$ \\newcommand{\\Rch}{\\Bigr\\}} $\n",
    "$ \\newcommand{\\rqa}{\\quad \\Rightarrow \\quad} $\n",
    "$ \\newcommand{\\bm}{\\boldsymbol}$"
   ]
  },
  {
   "cell_type": "markdown",
   "id": "080fe82e",
   "metadata": {},
   "source": [
    "\n",
    "<a id='sec_2n+3-La-idea'></a>\n",
    "# La idea \n"
   ]
  },
  {
   "cell_type": "markdown",
   "id": "080fe82e",
   "metadata": {},
   "source": [
    "Esta sección puede ser un poco árida si es la primera vez que se ve esta implementación, pues está enfocada para ser re-leída una vez se ha mirado más a fondo la implementación. Veamos paso a paso como es esta implementación:\n"
   ]
  },
  {
   "cell_type": "markdown",
   "id": "080fe82e",
   "metadata": {},
   "source": [
    "\n",
    " \n1. \\underline{Algoritmo cuántico de suma (ver sección \\ref{sec_2n+3-Suma})}:\n",
    "Como vamos a ir viendo en las siguientes secciones, esta implementación se basa en <b>sumar</b>. En concreto, se parte de la implementación del algoritmo cuántico de suma de Draper [[27]](../../Bibliografia.ipynb#bib_Addition), que podemos ver en la Fig. \\ref{Fig_idea_suma}.\n",
    "Este algoritmo suma dos registros cuánticos $a$ y $\\phi (b)$, donde $| \\phi(x) \\rangle$ hace referencia a la transformada de Fourier del registro $x$:\n",
    "\\begin{equation}\n",
    "\\boxed{|\\phi (x) \\rangle = QFT \\, |x \\rangle.}\n",
    "\\end{equation}\n",
    "Lo que vamos a ver es como, partiendo de esta implementación del algoritmo de suma, podemos construir la exponencial modulada.\n",
    " \n2. \\underline{Valor clásico + registro cuántico, puerta $\\phi ADD(a)$ (ver sección \\ref{sec_2n+3-Puerta-phiADD(a)})}:\n",
    "Nosotros queremos llegar a calcular el periodo de la función $f(x) = a^x \\text{ mod}N$, donde $a$ es un valor que fijamos al principio del algoritmo de Shor. Como precisamente este valor es fijo, la primera simplificación para reducir el número de qúbits es prescindir de los qúbits que codifican $a$ en el algoritmo de suma y tomar $a$ como un valor clásico. Definimos así la puerta $\\bm{\\phi ADD(a)}$ (ver Fig. \\ref{Fig_idea_puerta_phiADD(a)}), que <b>suma un valor clásico</b> $a$ <b>a la un registro cuántico que codifica el valor</b> $b$ :\n",
    "\\begin{equation}\n",
    "\\boxed{\\phi ADD(a) \\, |\\phi (b) \\rangle = |\\phi (a+b) \\rangle},\n",
    "\\end{equation}\n",
    "Podemos además, definir la inversa de esta puerta, es decir, una puerta de resta. La acción de esta última se recoge en la Fig. \\ref{Fig_idea_resta} (<b>véase que la puerta de suma tiene la barra negra a la derecha y la de resta a la izquierda</b>)\n",
    " \n3. \\underline{Suma modulada, puerta ${\\phi ADD(a)MOD(N)}$ (ver sección \\ref{sec_2n+3-Puerta-phiADD(a)MOD(N)})}:\n",
    "Un vez definida esta puerta, podemos usarla para construir una puerta doble controlada de <b>suma modulada</b> $\\bm{\\phi ADD(a)MOD(N)}$ (ver Fig. \\ref{Fig_idea_puerta_phiADD(a)MOD(N)}) tal que\n",
    "\\begin{equation}\n",
    "\\boxed{\\phi ADD(a)MOD(N) |\\phi (b) \\rangle = |\\phi \\left( (a+b) \\text{ mod} N \\right)\\rangle } = \\,  QFT \\, | (a+b) \\text{ mod} N \\rangle\n",
    "\\end{equation}\n",
    " \n4. \\underline{Multiplicación modulada, puerta ${CMULT(a)MOD(N)}$ (ver sección \\ref{sec_2n+3-Puerta-CMULT(a)MOD(N)})}:\n",
    "Ahora, podemos usar esta puerta doble controlada de suma modulada para construir una puerta controlada de <b>multiplicación modulada</b> $\\bm{CMULT(a)MOD(N)}$ (ver Fig. \\ref{Fig_idea_CMULT(a)MOD(N)}) tal que\n",
    "\\begin{equation}\n",
    "\\boxed{CMULT(a)MOD(N) \\, |c \\rangle |x \\rangle |b \\rangle = |c \\rangle |x \\rangle | (b + a  x) \\text{ mod} N \\rangle, \\qquad \\text{si }  c = 1}\n",
    "\\end{equation}\n",
    " \n5. \\underline{Puerta controlada ${C\\text{-}U_a}$ (ver sección \\ref{sec_2n+3-Puerta-C-U_a})}:\n",
    "Juntando esta puerta con una puerta <b>SWAP</b> (pues la multiplicación modulada nos sale en el registro de $b$, no el de $x$) y tomando $b = 0$ (una ancilla), podemos finalmente construir una puerta controlada $C\\text{-}U_a$ (ver Fig. \\ref{Fig_idea_C-U_a}) tal que :\n",
    "\\begin{equation}\n",
    "\\boxed{C \\text{-} U_a \\, |c \\rangle |x \\rangle = |c \\rangle | (a \\cdot x) \\text{ mod} N \\rangle, \\qquad \\text{si }  c = 1}\n",
    "\\end{equation}\n",
    " \n6. \\underline{Exponencial modulada, puerta ${C\\text{-}U_{a^{s}}}$ (ver sección \\ref{sec_2n+3-Puerta-C-U_a^s})}:\n",
    "Ahora, para implementar el algoritmo de Shor lo que se hace es tomar $ |x \\rangle = | 1 \\rangle$ y implementar puertas $C\\text{-}U_{a^{s}}$, donde $s$ = $2^0$, $2^1$, ..., $2^{2n-1}$, pues puede verse que\n",
    "\\begin{equation}\n",
    "\\boxed{C\\text{-}U_{a^{s}} = (C\\text{-}U_{a})^s}\n",
    "\\end{equation}\n",
    " \n7. \\underline{Circuito final con ${4n+2}$ qúbits, sin la simplificación del registro de conteo (ver sección \\ref{sec_2n+3-Circuito-final-no-simplificacion})}:\n",
    "El circuito para la implementación del algoritmo de Shor sería el de la Fig. \\ref{Fig_idea_circ_final_no_simpli}.\n",
    " \n8. \\underline{Circuito final con ${2n+3}$. El truco de un qúbit de control (ver sección \\ref{sec_2n+3-Circuito-final-simplificado})}:\n",
    "Nos faltaría implementar la simplificación del registro de conteo, donde se pasa de $2n$ qúbits en el mismo a 1, llegando a tener el circuito de la Fig. \\ref{Fig_idea_circ_final_simpli}.\n",
    "\n"
   ]
  },
  {
   "cell_type": "markdown",
   "id": "8534e04c",
   "metadata": {},
   "source": [
    "<figure><center>\n",
    "<img   src=\"https://quantumspain-project.es/wp-content/uploads/2022/11/Logo_QS_EspanaDigital.png\" align=center  width=\"2000px\"/>\n",
    "</center></figure>\n",
    "\n",
    "<center>\n",
    "<img align=\"left\" src=\"https://quantumspain-project.es/wp-content/uploads/2024/02/Banner-QS_GOB_v2.png\" width=\"1000px\" />\n",
    "</center>"
   ]
  }
 ],
 "metadata": {
  "kernelspec": {
   "display_name": "Python 3 (ipykernel)",
   "language": "python",
   "name": "python3"
  },
  "language_info": {
   "codemirror_mode": {
    "name": "ipython",
    "version": 3
   },
   "file_extension": ".py",
   "mimetype": "text/x-python",
   "name": "python",
   "nbconvert_exporter": "python",
   "pygments_lexer": "ipython3",
   "version": "3.11.7"
  },
  "toc": {
   "base_numbering": 1,
   "nav_menu": {},
   "number_sections": false,
   "sideBar": true,
   "skip_h1_title": true,
   "title_cell": "Table of Contents",
   "title_sidebar": "Contents",
   "toc_cell": false,
   "toc_position": {},
   "toc_section_display": true,
   "toc_window_display": false
  }
 },
 "nbformat": 4,
 "nbformat_minor": 5
}
